{
 "cells": [
  {
   "cell_type": "markdown",
   "id": "c04a07b5",
   "metadata": {
    "pycharm": {
     "name": "#%% md\n"
    }
   },
   "source": [
    "# Week 1.  Python Programming: Introduction, Python Basics (data types, mathematical operations, variables), Functions, NBGrader."
   ]
  },
  {
   "cell_type": "markdown",
   "id": "4965d25a",
   "metadata": {
    "pycharm": {
     "name": "#%% md\n"
    }
   },
   "source": [
    "This cell is processed with **Markdown**.\n",
    "\n",
    "\n",
    "# Header 1\n",
    "\n",
    "## Header 2\n",
    "\n",
    "### Header 3\n",
    "\n",
    "#### Header 4\n",
    "\n",
    "This is a normal text. Highlightining with *italic*, **bold** and ***bold-italic***. Here each symbol has its' own width. So it is not good for text tables or programming code.\n",
    "\n",
    "\n",
    "```\n",
    "This is fenced code blocks. Each symbol has same fixed width (monospaced font).\n",
    "Coninient for text tables\n",
    "+---------------+----------+--------+--------+\n",
    "| Atomic Symbol | Name     | Number | Mass   |\n",
    "+---------------+----------+--------+--------+\n",
    "| H             | Hydrogen | 1      | 1.0080 |\n",
    "| He            | Helium   | 2      | 4.0026 |\n",
    "| Li            | Lithium  | 3      | 6.9400 |\n",
    "+---------------+----------+--------+--------+\n",
    "```\n",
    "\n",
    "\n",
    "```python\n",
    "# Can be used with code highlighting\n",
    "print(\"Hello world!\")\n",
    "```\n",
    "\n",
    "\n",
    "Latex formulas:\n",
    "\n",
    "$$S=\\pi R^2$$\n",
    "\n",
    "In line formulas, $\\pi=3.14...$, are also possible.\n",
    "\n",
    "\n",
    "Mardown Tables:\n",
    "\n",
    "| Atomic Symbol | Name     | Number | Mass   |\n",
    "|---------------|----------|--------|--------|\n",
    "| H             | Hydrogen | 1      | 1.0080 |\n",
    "| He            | Helium   | 2      | 4.0026 |\n",
    "| Li            | Lithium  | 3      | 6.9400 |\n",
    "\n",
    "\n",
    "1. First item\n",
    "2. Second item\n",
    "3. Third item\n",
    "    1. Indented item\n",
    "    2. Indented item\n",
    "4. Fourth item\n",
    "    - Indented item\n",
    "    - Indented item\n",
    "1. Fifth item (note in markdown code number is incorrect)\n",
    "\n",
    "\n",
    "- Dotted item\n",
    "    - Dotted item\n",
    "        - Dotted item\n",
    "- Dotted item\n",
    "    - Dotted item"
   ]
  },
  {
   "cell_type": "code",
   "execution_count": 1,
   "id": "4e5c5e44",
   "metadata": {},
   "outputs": [
    {
     "name": "stdout",
     "output_type": "stream",
     "text": [
      "Hello world!\n"
     ]
    }
   ],
   "source": [
    "# This cell is processed by python\n",
    "# Comments starts with '#'\n",
    "print(\"Hello world!\") # this is also comment"
   ]
  },
  {
   "cell_type": "markdown",
   "id": "7697f30e",
   "metadata": {
    "pycharm": {
     "name": "#%% md\n"
    }
   },
   "source": [
    "In Jupyter Notebook frequently used short-cuts:\n",
    "- `ctrl+enter` - execute cell\n",
    "- `[esc]+a` - insert cell above\n",
    "- `[esc]+b` - insert cell below\n",
    "- `[esc]+d+d` - delete cell"
   ]
  },
  {
   "cell_type": "markdown",
   "id": "3febf45e",
   "metadata": {
    "pycharm": {
     "name": "#%% md\n"
    }
   },
   "source": [
    "## Basic Data Types\n",
    "### Integers (int)"
   ]
  },
  {
   "cell_type": "code",
   "execution_count": 2,
   "id": "647624b0",
   "metadata": {},
   "outputs": [
    {
     "data": {
      "text/plain": [
       "11"
      ]
     },
     "execution_count": 2,
     "metadata": {},
     "output_type": "execute_result"
    }
   ],
   "source": [
    "# Integers (int)\n",
    "#   Decimal Format\n",
    "123\n",
    "-123\n",
    "#   Binary Format\n",
    "0b101\n",
    "#   Octal Format\n",
    "0o10\n",
    "#   Hexadecimal Format\n",
    "0xB"
   ]
  },
  {
   "cell_type": "code",
   "execution_count": 3,
   "id": "8b528842",
   "metadata": {},
   "outputs": [
    {
     "data": {
      "text/plain": [
       "int"
      ]
     },
     "execution_count": 3,
     "metadata": {},
     "output_type": "execute_result"
    }
   ],
   "source": [
    "type(123)"
   ]
  },
  {
   "cell_type": "markdown",
   "id": "7a0d29eb",
   "metadata": {
    "pycharm": {
     "name": "#%% md\n"
    }
   },
   "source": [
    "### Floating point (FP) representation of real numbers (float)"
   ]
  },
  {
   "cell_type": "code",
   "execution_count": 4,
   "id": "833495a3",
   "metadata": {},
   "outputs": [
    {
     "data": {
      "text/plain": [
       "1200000000000.0"
      ]
     },
     "execution_count": 4,
     "metadata": {},
     "output_type": "execute_result"
    }
   ],
   "source": [
    "# Floating point (FP) representation of real numbers (float)\n",
    "# simply called floats\n",
    "# python used double precession\n",
    "1.\n",
    "1.2\n",
    "-1.2\n",
    "1.2e12"
   ]
  },
  {
   "cell_type": "markdown",
   "id": "b65a4637",
   "metadata": {},
   "source": [
    "$1.2e12=1.2*10^{12}=1,200,000,000,000$"
   ]
  },
  {
   "cell_type": "code",
   "execution_count": 5,
   "id": "5c65908d",
   "metadata": {},
   "outputs": [
    {
     "data": {
      "text/plain": [
       "float"
      ]
     },
     "execution_count": 5,
     "metadata": {},
     "output_type": "execute_result"
    }
   ],
   "source": [
    "type(123.2)"
   ]
  },
  {
   "cell_type": "markdown",
   "id": "9751e467",
   "metadata": {
    "pycharm": {
     "name": "#%% md\n"
    }
   },
   "source": [
    "### String (str)\n",
    "Single quatation (') is prefered by python programmers as less busy."
   ]
  },
  {
   "cell_type": "code",
   "execution_count": 6,
   "id": "1b760d35",
   "metadata": {
    "scrolled": true
   },
   "outputs": [
    {
     "data": {
      "text/plain": [
       "'This \\nis string'"
      ]
     },
     "execution_count": 6,
     "metadata": {},
     "output_type": "execute_result"
    }
   ],
   "source": [
    "# String (str)\n",
    "\"This is string\"\n",
    "'This is string'\n",
    "\n",
    "\"\"\"This \n",
    "is \n",
    "string\"\"\"\n",
    "\n",
    "'''This \n",
    "is \\\n",
    "string'''"
   ]
  },
  {
   "cell_type": "code",
   "execution_count": 7,
   "id": "389b8afa",
   "metadata": {
    "scrolled": true
   },
   "outputs": [
    {
     "data": {
      "text/plain": [
       "str"
      ]
     },
     "execution_count": 7,
     "metadata": {},
     "output_type": "execute_result"
    }
   ],
   "source": [
    "type(\"this is string\")"
   ]
  },
  {
   "cell_type": "markdown",
   "id": "48b5dc78",
   "metadata": {
    "pycharm": {
     "name": "#%% md\n"
    }
   },
   "source": [
    "### Boolian (bool)"
   ]
  },
  {
   "cell_type": "code",
   "execution_count": 8,
   "id": "3aa9b720",
   "metadata": {},
   "outputs": [
    {
     "data": {
      "text/plain": [
       "False"
      ]
     },
     "execution_count": 8,
     "metadata": {},
     "output_type": "execute_result"
    }
   ],
   "source": [
    "# boolian (bool)\n",
    "True\n",
    "False"
   ]
  },
  {
   "cell_type": "code",
   "execution_count": 9,
   "id": "eb12446b",
   "metadata": {},
   "outputs": [
    {
     "data": {
      "text/plain": [
       "bool"
      ]
     },
     "execution_count": 9,
     "metadata": {},
     "output_type": "execute_result"
    }
   ],
   "source": [
    "type(False)"
   ]
  },
  {
   "cell_type": "markdown",
   "id": "fa4b4a13",
   "metadata": {
    "pycharm": {
     "name": "#%% md\n"
    }
   },
   "source": [
    "### None (NoneType)"
   ]
  },
  {
   "cell_type": "code",
   "execution_count": 10,
   "id": "0363c258",
   "metadata": {},
   "outputs": [],
   "source": [
    "# None (NoneType) similar to NULL\n",
    "None"
   ]
  },
  {
   "cell_type": "code",
   "execution_count": 11,
   "id": "3be0631c",
   "metadata": {},
   "outputs": [
    {
     "data": {
      "text/plain": [
       "NoneType"
      ]
     },
     "execution_count": 11,
     "metadata": {},
     "output_type": "execute_result"
    }
   ],
   "source": [
    "type(None)"
   ]
  },
  {
   "cell_type": "markdown",
   "id": "689abfb3",
   "metadata": {
    "pycharm": {
     "name": "#%% md\n"
    }
   },
   "source": [
    "## Variables\n",
    "- Variables give names to values (number, string, or boolean); Technically they are called identifiers. They are a container of information that a computer program will manipulate using a sequence of instructions. \n",
    "- Variables names MUST follow certain rules and it is BEST to follow Python guidelines for naming\n",
    "\n",
    "- Restrictions for identifiers or naming things in Python\n",
    "  1. Start with letter or underscore\n",
    "  2. The rest can have letters, underscore, and numbers\n",
    "  3. symbols cannot be used in name (@,+)\n",
    "  4. Don't use Python buildin functions and variable names\n",
    "    \n",
    "\n",
    "- Conventions for identifiers or naming things in Python (see **PEP 8**, Style Guide for Python Code)\n",
    "  1. **use `snake_case`** not camelCase, CamelCase, Camel_Case\n",
    "  2. variables should be lowercase\n",
    "  3. upper case are used for constants PI = 3.14\n",
    "  4. UpperCamelCase for classes\n",
    "  5. `__private__`  double underscore is convention that means you are not supposed access this variable directly. They are by convention like private variables in other languages.\n",
    "  6. For an actual code use **descriptive naming** number_of_fruits instead of n\n"
   ]
  },
  {
   "cell_type": "code",
   "execution_count": 12,
   "id": "f3783f42",
   "metadata": {},
   "outputs": [
    {
     "data": {
      "text/plain": [
       "123"
      ]
     },
     "execution_count": 12,
     "metadata": {},
     "output_type": "execute_result"
    }
   ],
   "source": [
    "my_integer = 123\n",
    "my_integer\n",
    "# in jupyter notebool writing variable alone as last command will print its value"
   ]
  },
  {
   "cell_type": "code",
   "execution_count": 13,
   "id": "dec282c8",
   "metadata": {},
   "outputs": [
    {
     "data": {
      "text/plain": [
       "0.123456"
      ]
     },
     "execution_count": 13,
     "metadata": {},
     "output_type": "execute_result"
    }
   ],
   "source": [
    "my_float = 123.456e-3\n",
    "my_float"
   ]
  },
  {
   "cell_type": "code",
   "execution_count": 14,
   "id": "97b11a4b",
   "metadata": {},
   "outputs": [
    {
     "data": {
      "text/plain": [
       "'This is string'"
      ]
     },
     "execution_count": 14,
     "metadata": {},
     "output_type": "execute_result"
    }
   ],
   "source": [
    "my_string = 'This is string'\n",
    "my_string"
   ]
  },
  {
   "cell_type": "code",
   "execution_count": 15,
   "id": "e9c9b212",
   "metadata": {},
   "outputs": [
    {
     "name": "stdout",
     "output_type": "stream",
     "text": [
      "123.123456\n",
      "This is string\n"
     ]
    }
   ],
   "source": [
    "# Variables used in conjunctions with operators and functions\n",
    "my_sum = my_integer + my_float\n",
    "print(my_sum)\n",
    "print(my_string) # note there is no quotation marks"
   ]
  },
  {
   "cell_type": "markdown",
   "id": "1b0ee067",
   "metadata": {},
   "source": [
    "## Variables, Memory and Assignment Operator\n",
    "Also check section in course book chapter 2: variables and computer memory: rememberyng values.\n",
    "\n",
    "Visualization of variable and memory: \n",
    "[https://pythontutor.com/visualize.html](https://pythontutor.com/visualize.html)\n",
    "(config: hide exited frames, rander all objects on the heap and use text labels for pointers)\n"
   ]
  },
  {
   "cell_type": "code",
   "execution_count": 16,
   "id": "63fc1d68",
   "metadata": {},
   "outputs": [],
   "source": [
    "difference = 10\n",
    "double = 2 * difference\n",
    "\n",
    "difference2 = difference\n",
    "# What is of difference2? What object in memory it refer to?"
   ]
  },
  {
   "cell_type": "code",
   "execution_count": null,
   "id": "8f0dd441",
   "metadata": {},
   "outputs": [],
   "source": []
  },
  {
   "cell_type": "code",
   "execution_count": 17,
   "id": "3ede5452",
   "metadata": {},
   "outputs": [],
   "source": [
    "difference2 = 3\n",
    "# What is of difference2? What object in memory it refer to?"
   ]
  },
  {
   "cell_type": "code",
   "execution_count": null,
   "id": "e61519c2",
   "metadata": {},
   "outputs": [],
   "source": []
  },
  {
   "cell_type": "code",
   "execution_count": 18,
   "id": "28d4c4d6",
   "metadata": {},
   "outputs": [],
   "source": [
    "# Things can get more complicated\n",
    "difference = [10] # this is a list, can store a list of object (we will study it later)\n",
    "double = 2 * difference[0]\n",
    "\n",
    "difference2 = difference\n",
    "# What is of difference2? What object in memory it refer to?"
   ]
  },
  {
   "cell_type": "code",
   "execution_count": null,
   "id": "4ffb00cc",
   "metadata": {},
   "outputs": [],
   "source": []
  },
  {
   "cell_type": "code",
   "execution_count": 19,
   "id": "e336e8a1",
   "metadata": {},
   "outputs": [],
   "source": [
    "difference2[0] = 3\n",
    "# What is of difference?"
   ]
  },
  {
   "cell_type": "code",
   "execution_count": null,
   "id": "fd3f53d5",
   "metadata": {},
   "outputs": [],
   "source": []
  },
  {
   "cell_type": "markdown",
   "id": "8561d469",
   "metadata": {},
   "source": [
    "## More on Variables\n",
    "- Value in a labled box is not very aplicable for python\n",
    "- The variable is not the object.\n",
    "- It is more like a labled note with direction to where is the actual thing (value or object)\n",
    "- “Hamlet was not written by Shakespeare; it was merely written by a man named Shakespeare.”\n",
    "\n",
    "We will revisit it more in the "
   ]
  },
  {
   "cell_type": "code",
   "execution_count": null,
   "id": "893a10df",
   "metadata": {},
   "outputs": [],
   "source": []
  },
  {
   "cell_type": "markdown",
   "id": "6fc00fa0",
   "metadata": {
    "pycharm": {
     "name": "#%% md\n"
    }
   },
   "source": [
    "## Operators\n",
    "- `+` Addition -- `2+2=4`\n",
    "- `-` Subtraction -- `5-2=3`\n",
    "- `*` Multiplication -- `2*3=6`\n",
    "- `/` Division -- `12/6=2`\n",
    "- `**` Exponentiation - raise number to a given power; `2 ^ 3` or `2 * 2 * 2`\n",
    "  - `64 ** 0.5` is allowed\n",
    "- `%` Modulo -- remainder operator. Good for figuring out if a number is even or odd\n",
    "- `//` integer division (i.e. quotient without remainder) `10//3 = 3`"
   ]
  },
  {
   "cell_type": "code",
   "execution_count": 20,
   "id": "1e84cda8",
   "metadata": {},
   "outputs": [
    {
     "data": {
      "text/plain": [
       "4"
      ]
     },
     "execution_count": 20,
     "metadata": {},
     "output_type": "execute_result"
    }
   ],
   "source": [
    "2+2 # result is int"
   ]
  },
  {
   "cell_type": "code",
   "execution_count": 21,
   "id": "4fd5a745",
   "metadata": {},
   "outputs": [
    {
     "data": {
      "text/plain": [
       "4.0"
      ]
     },
     "execution_count": 21,
     "metadata": {},
     "output_type": "execute_result"
    }
   ],
   "source": [
    "2+2.0 # result is float"
   ]
  },
  {
   "cell_type": "code",
   "execution_count": 22,
   "id": "f02d61ed",
   "metadata": {},
   "outputs": [
    {
     "data": {
      "text/plain": [
       "0.0"
      ]
     },
     "execution_count": 22,
     "metadata": {},
     "output_type": "execute_result"
    }
   ],
   "source": [
    "2*3 # result is int\n",
    "2*3. # result is float\n",
    "3.0 * True # result is float and True is 1\n",
    "3.0 * False # result is float and False is 0"
   ]
  },
  {
   "cell_type": "code",
   "execution_count": 23,
   "id": "9db1cd80",
   "metadata": {},
   "outputs": [
    {
     "data": {
      "text/plain": [
       "4.0"
      ]
     },
     "execution_count": 23,
     "metadata": {},
     "output_type": "execute_result"
    }
   ],
   "source": [
    "12/3 # both operands are int result is float"
   ]
  },
  {
   "cell_type": "code",
   "execution_count": 24,
   "id": "0a56825b",
   "metadata": {},
   "outputs": [
    {
     "data": {
      "text/plain": [
       "4"
      ]
     },
     "execution_count": 24,
     "metadata": {},
     "output_type": "execute_result"
    }
   ],
   "source": [
    "12//3 # both operands are int result is int"
   ]
  },
  {
   "cell_type": "code",
   "execution_count": 25,
   "id": "1d7ac413",
   "metadata": {},
   "outputs": [
    {
     "data": {
      "text/plain": [
       "2"
      ]
     },
     "execution_count": 25,
     "metadata": {},
     "output_type": "execute_result"
    }
   ],
   "source": [
    "14%3 # remainder is 2 result is int"
   ]
  },
  {
   "cell_type": "code",
   "execution_count": 26,
   "id": "ec96899d",
   "metadata": {},
   "outputs": [
    {
     "data": {
      "text/plain": [
       "21267647932558653966460912964485513216"
      ]
     },
     "execution_count": 26,
     "metadata": {},
     "output_type": "execute_result"
    }
   ],
   "source": [
    "2**14\n",
    "2**34\n",
    "2**64\n",
    "2**124\n",
    "# python int types has no upper cap, this is different in numpy and pandas libraries"
   ]
  },
  {
   "cell_type": "markdown",
   "id": "701ababe",
   "metadata": {},
   "source": [
    "# More on Assignment Statement"
   ]
  },
  {
   "cell_type": "code",
   "execution_count": 27,
   "id": "3a9b8acf",
   "metadata": {},
   "outputs": [],
   "source": [
    "# Multiple assignment\n",
    "v1,v2 = (1,2)"
   ]
  },
  {
   "cell_type": "markdown",
   "id": "f7838128",
   "metadata": {
    "pycharm": {
     "name": "#%% md\n"
    }
   },
   "source": [
    "## Increment Operator and Friends \n",
    "- `+=` - `x += 3` is the same as `x = x + 3`\n",
    "- `-=` - `x -= 3` is the same as `x = x - 3`\n",
    "- `*=` - `x *= 3` is the same as `x = x * 3`\n",
    "- `/=` - `x /= 3` is the same as `x = x / 3`"
   ]
  },
  {
   "cell_type": "code",
   "execution_count": 28,
   "id": "9df09fe4",
   "metadata": {},
   "outputs": [
    {
     "name": "stdout",
     "output_type": "stream",
     "text": [
      "0\n",
      "1\n"
     ]
    }
   ],
   "source": [
    "i=0\n",
    "print(i)\n",
    "i+=1\n",
    "print(i)"
   ]
  },
  {
   "cell_type": "markdown",
   "id": "80a4f4fd",
   "metadata": {
    "pycharm": {
     "name": "#%% md\n"
    }
   },
   "source": [
    "## Operator Precedence (PEMDAS)\n",
    "- Precedence\n",
    "  - Parenthesis\n",
    "  - Exponentiation\n",
    "  - Negation\n",
    "  - Multiplication, division, integer division, and remainder\n",
    "  - Addition and subtraction\n",
    "- Use Parenthesis to avoid ambiguity (for other people)"
   ]
  },
  {
   "cell_type": "code",
   "execution_count": 29,
   "id": "ff7a57aa",
   "metadata": {},
   "outputs": [
    {
     "data": {
      "text/plain": [
       "194.22222222222223"
      ]
     },
     "execution_count": 29,
     "metadata": {},
     "output_type": "execute_result"
    }
   ],
   "source": [
    "212 - 32 * 5 / 9"
   ]
  },
  {
   "cell_type": "code",
   "execution_count": 30,
   "id": "501e43cc",
   "metadata": {},
   "outputs": [
    {
     "data": {
      "text/plain": [
       "100.0"
      ]
     },
     "execution_count": 30,
     "metadata": {},
     "output_type": "execute_result"
    }
   ],
   "source": [
    "# vs\n",
    "(212 - 32) * 5 / 9"
   ]
  },
  {
   "cell_type": "markdown",
   "id": "89a36523",
   "metadata": {
    "pycharm": {
     "name": "#%% md\n"
    }
   },
   "source": [
    "Electrostatic force on first particle from two others:\n",
    "\n",
    "$F_1=\\frac{q_1q_2}{r_{12}^2}+\\frac{q_1q_3}{r_{13}^2}$"
   ]
  },
  {
   "cell_type": "code",
   "execution_count": 31,
   "id": "ed081ea5",
   "metadata": {},
   "outputs": [
    {
     "data": {
      "text/plain": [
       "0.021249999999999998"
      ]
     },
     "execution_count": 31,
     "metadata": {},
     "output_type": "execute_result"
    }
   ],
   "source": [
    "q_1 = 1.\n",
    "q_2 = -1.\n",
    "q_3 = 2.\n",
    "r_12 = 10.\n",
    "r_13 = 8.\n",
    "\n",
    "F = q_1 * q_2 / r_12 / r_12 + q_1 * q_3 / r_13 / r_13\n",
    "F"
   ]
  },
  {
   "cell_type": "code",
   "execution_count": 32,
   "id": "d78df77f",
   "metadata": {},
   "outputs": [
    {
     "data": {
      "text/plain": [
       "0.021249999999999998"
      ]
     },
     "execution_count": 32,
     "metadata": {},
     "output_type": "execute_result"
    }
   ],
   "source": [
    "F = q_1 * q_2 / (r_12 * r_12) + q_1 * q_3 / (r_13 * r_13)\n",
    "F"
   ]
  },
  {
   "cell_type": "code",
   "execution_count": 33,
   "id": "868916b3",
   "metadata": {},
   "outputs": [
    {
     "data": {
      "text/plain": [
       "0.021249999999999998"
      ]
     },
     "execution_count": 33,
     "metadata": {},
     "output_type": "execute_result"
    }
   ],
   "source": [
    "F = q_1 * q_2 / r_12 ** 2 + q_1 * q_3 / r_13 ** 2\n",
    "F"
   ]
  },
  {
   "cell_type": "code",
   "execution_count": 34,
   "id": "400f5827",
   "metadata": {},
   "outputs": [
    {
     "data": {
      "text/plain": [
       "0.021249999999999998"
      ]
     },
     "execution_count": 34,
     "metadata": {},
     "output_type": "execute_result"
    }
   ],
   "source": [
    "F = q_1 * q_2 / r_12 / r_12\n",
    "F += q_1 * q_3 / r_13 / r_13\n",
    "F"
   ]
  },
  {
   "cell_type": "code",
   "execution_count": 35,
   "id": "04e9aa7b",
   "metadata": {},
   "outputs": [
    {
     "data": {
      "text/plain": [
       "0.021249999999999998"
      ]
     },
     "execution_count": 35,
     "metadata": {},
     "output_type": "execute_result"
    }
   ],
   "source": [
    "F = q_1 * q_2 / (r_12 * r_12)\n",
    "F += q_1 * q_3 / (r_13 * r_13)\n",
    "F"
   ]
  },
  {
   "cell_type": "markdown",
   "id": "60ddd8e1",
   "metadata": {
    "pycharm": {
     "name": "#%% md\n"
    }
   },
   "source": [
    "## Working with mix of large and small numbers\n",
    "Double precission floating point numbers have about 15 significant decimal digits "
   ]
  },
  {
   "cell_type": "code",
   "execution_count": 36,
   "id": "f0dfbc66",
   "metadata": {},
   "outputs": [
    {
     "data": {
      "text/plain": [
       "100000000000000.1"
      ]
     },
     "execution_count": 36,
     "metadata": {},
     "output_type": "execute_result"
    }
   ],
   "source": [
    "1e14 + 0.1"
   ]
  },
  {
   "cell_type": "code",
   "execution_count": 37,
   "id": "30d4b5f7",
   "metadata": {},
   "outputs": [
    {
     "data": {
      "text/plain": [
       "100000000000000.02"
      ]
     },
     "execution_count": 37,
     "metadata": {},
     "output_type": "execute_result"
    }
   ],
   "source": [
    "1e14 + 0.01 # round off error"
   ]
  },
  {
   "cell_type": "code",
   "execution_count": 38,
   "id": "8dfdde60",
   "metadata": {},
   "outputs": [
    {
     "data": {
      "text/plain": [
       "100000000000000.0"
      ]
     },
     "execution_count": 38,
     "metadata": {},
     "output_type": "execute_result"
    }
   ],
   "source": [
    "1e14 + 0.001"
   ]
  },
  {
   "cell_type": "code",
   "execution_count": 39,
   "id": "cf3749d9",
   "metadata": {},
   "outputs": [
    {
     "data": {
      "text/plain": [
       "100000000000000.0"
      ]
     },
     "execution_count": 39,
     "metadata": {},
     "output_type": "execute_result"
    }
   ],
   "source": [
    "1e14 + 0.005 + 0.005"
   ]
  },
  {
   "cell_type": "code",
   "execution_count": 40,
   "id": "7f0e5efa",
   "metadata": {},
   "outputs": [
    {
     "data": {
      "text/plain": [
       "100000000000000.02"
      ]
     },
     "execution_count": 40,
     "metadata": {},
     "output_type": "execute_result"
    }
   ],
   "source": [
    "# should be same as above, right?\n",
    "1e14 + (0.005 + 0.005) # order of operation is matter"
   ]
  },
  {
   "cell_type": "markdown",
   "id": "50ef6cce",
   "metadata": {
    "pycharm": {
     "name": "#%% md\n"
    }
   },
   "source": [
    "## Functions\n",
    "- What is a function? https://www.mathsisfun.com/sets/function.html\n",
    "- Functions are subprograms -- they are a sequence of of statements that have a name\n",
    "- Functions can be executed at any point by using their name \n",
    "- Functions remove duplicated code\n",
    "- Functions can call other functions\n",
    "- Functions can OPTIONALLY take parameters or inputs that they can use inside the function \n",
    "- Functions may be called a routine, subroutine, subprogram, or procedure\n",
    "\n",
    "Calling format:\n",
    "\n",
    "variable_for_returned_value = my_funtction(argument1, argument2, argument3, keyword_argument1=\"value\")"
   ]
  },
  {
   "cell_type": "markdown",
   "id": "7b81e7d2",
   "metadata": {
    "pycharm": {
     "name": "#%% md\n"
    }
   },
   "source": [
    "### Build in Functions\n",
    "[https://docs.python.org/3/library/functions.html](https://docs.python.org/3/library/functions.html)"
   ]
  },
  {
   "cell_type": "code",
   "execution_count": 41,
   "id": "1e6cd2e5",
   "metadata": {},
   "outputs": [
    {
     "data": {
      "text/plain": [
       "9"
      ]
     },
     "execution_count": 41,
     "metadata": {},
     "output_type": "execute_result"
    }
   ],
   "source": [
    "abs(-9) # return absolute value of argument"
   ]
  },
  {
   "cell_type": "code",
   "execution_count": 42,
   "id": "82b53680",
   "metadata": {},
   "outputs": [
    {
     "data": {
      "text/plain": [
       "7"
      ]
     },
     "execution_count": 42,
     "metadata": {},
     "output_type": "execute_result"
    }
   ],
   "source": [
    "day_temperature = 3\n",
    "night_temprature = 10\n",
    "abs(day_temperature - night_temprature)"
   ]
  },
  {
   "cell_type": "code",
   "execution_count": 43,
   "id": "c4bca87c",
   "metadata": {},
   "outputs": [
    {
     "name": "stdout",
     "output_type": "stream",
     "text": [
      "Hello world!\n",
      "Day temperature: 3\n",
      "Night temprature:_10\n"
     ]
    }
   ],
   "source": [
    "print(\"Hello world!\") # print arguments to output\n",
    "print(\"Day temperature:\", day_temperature)\n",
    "print(\"Night temprature:\", night_temprature, sep='_')"
   ]
  },
  {
   "cell_type": "code",
   "execution_count": 44,
   "id": "df19360f",
   "metadata": {},
   "outputs": [
    {
     "name": "stdout",
     "output_type": "stream",
     "text": [
      "Help on built-in function round in module builtins:\n",
      "\n",
      "round(number, ndigits=None)\n",
      "    Round a number to a given precision in decimal digits.\n",
      "    \n",
      "    The return value is an integer if ndigits is omitted or None.  Otherwise\n",
      "    the return value has the same type as the number.  ndigits may be negative.\n",
      "\n"
     ]
    }
   ],
   "source": [
    "help(round) # return help information on function"
   ]
  },
  {
   "cell_type": "markdown",
   "id": "9b631adc",
   "metadata": {
    "pycharm": {
     "name": "#%% md\n"
    }
   },
   "source": [
    "### Functions to convert one type of variable to another"
   ]
  },
  {
   "cell_type": "code",
   "execution_count": 45,
   "id": "6bd50b54",
   "metadata": {},
   "outputs": [
    {
     "data": {
      "text/plain": [
       "4"
      ]
     },
     "execution_count": 45,
     "metadata": {},
     "output_type": "execute_result"
    }
   ],
   "source": [
    "int(4.6)"
   ]
  },
  {
   "cell_type": "code",
   "execution_count": 46,
   "id": "633820e7",
   "metadata": {},
   "outputs": [
    {
     "data": {
      "text/plain": [
       "4"
      ]
     },
     "execution_count": 46,
     "metadata": {},
     "output_type": "execute_result"
    }
   ],
   "source": [
    "int(4.3)"
   ]
  },
  {
   "cell_type": "code",
   "execution_count": 47,
   "id": "5c7240bd",
   "metadata": {},
   "outputs": [
    {
     "data": {
      "text/plain": [
       "-4"
      ]
     },
     "execution_count": 47,
     "metadata": {},
     "output_type": "execute_result"
    }
   ],
   "source": [
    "int(-4.3)"
   ]
  },
  {
   "cell_type": "code",
   "execution_count": 48,
   "id": "399023e4",
   "metadata": {},
   "outputs": [
    {
     "data": {
      "text/plain": [
       "-4"
      ]
     },
     "execution_count": 48,
     "metadata": {},
     "output_type": "execute_result"
    }
   ],
   "source": [
    "int(-4.6) # just return an integer part"
   ]
  },
  {
   "cell_type": "code",
   "execution_count": 49,
   "id": "ded467fa",
   "metadata": {},
   "outputs": [
    {
     "data": {
      "text/plain": [
       "21.0"
      ]
     },
     "execution_count": 49,
     "metadata": {},
     "output_type": "execute_result"
    }
   ],
   "source": [
    "float(21)"
   ]
  },
  {
   "cell_type": "code",
   "execution_count": 50,
   "id": "7c0ef739",
   "metadata": {},
   "outputs": [
    {
     "data": {
      "text/plain": [
       "'21'"
      ]
     },
     "execution_count": 50,
     "metadata": {},
     "output_type": "execute_result"
    }
   ],
   "source": [
    "str(21)"
   ]
  },
  {
   "cell_type": "code",
   "execution_count": 51,
   "id": "46b4b4f4",
   "metadata": {},
   "outputs": [
    {
     "data": {
      "text/plain": [
       "5"
      ]
     },
     "execution_count": 51,
     "metadata": {},
     "output_type": "execute_result"
    }
   ],
   "source": [
    "round(4.6)"
   ]
  },
  {
   "cell_type": "code",
   "execution_count": 52,
   "id": "86c5fab6",
   "metadata": {},
   "outputs": [
    {
     "data": {
      "text/plain": [
       "4"
      ]
     },
     "execution_count": 52,
     "metadata": {},
     "output_type": "execute_result"
    }
   ],
   "source": [
    "round(4.3)"
   ]
  },
  {
   "cell_type": "code",
   "execution_count": 53,
   "id": "3a3c0155",
   "metadata": {},
   "outputs": [
    {
     "data": {
      "text/plain": [
       "-4"
      ]
     },
     "execution_count": 53,
     "metadata": {},
     "output_type": "execute_result"
    }
   ],
   "source": [
    "round(-4.3)"
   ]
  },
  {
   "cell_type": "code",
   "execution_count": 54,
   "id": "bac6f0da",
   "metadata": {},
   "outputs": [
    {
     "data": {
      "text/plain": [
       "-5"
      ]
     },
     "execution_count": 54,
     "metadata": {},
     "output_type": "execute_result"
    }
   ],
   "source": [
    "round(-4.6) # round to nearest integer"
   ]
  },
  {
   "cell_type": "code",
   "execution_count": 55,
   "id": "ad15b16f",
   "metadata": {},
   "outputs": [
    {
     "data": {
      "text/plain": [
       "True"
      ]
     },
     "execution_count": 55,
     "metadata": {},
     "output_type": "execute_result"
    }
   ],
   "source": [
    "bool(12)"
   ]
  },
  {
   "cell_type": "code",
   "execution_count": 56,
   "id": "51368e85",
   "metadata": {},
   "outputs": [
    {
     "data": {
      "text/plain": [
       "True"
      ]
     },
     "execution_count": 56,
     "metadata": {},
     "output_type": "execute_result"
    }
   ],
   "source": [
    "bool(-12)"
   ]
  },
  {
   "cell_type": "code",
   "execution_count": 57,
   "id": "7e698503",
   "metadata": {},
   "outputs": [
    {
     "data": {
      "text/plain": [
       "False"
      ]
     },
     "execution_count": 57,
     "metadata": {},
     "output_type": "execute_result"
    }
   ],
   "source": [
    "bool(0)"
   ]
  },
  {
   "cell_type": "code",
   "execution_count": 58,
   "id": "2dfaa3a9",
   "metadata": {},
   "outputs": [
    {
     "data": {
      "text/plain": [
       "False"
      ]
     },
     "execution_count": 58,
     "metadata": {},
     "output_type": "execute_result"
    }
   ],
   "source": [
    "bool(\"\")"
   ]
  },
  {
   "cell_type": "code",
   "execution_count": 59,
   "id": "b014202a",
   "metadata": {},
   "outputs": [
    {
     "data": {
      "text/plain": [
       "True"
      ]
     },
     "execution_count": 59,
     "metadata": {},
     "output_type": "execute_result"
    }
   ],
   "source": [
    "bool(\"False\")"
   ]
  },
  {
   "cell_type": "code",
   "execution_count": 60,
   "id": "4aa63a74",
   "metadata": {},
   "outputs": [
    {
     "data": {
      "text/plain": [
       "False"
      ]
     },
     "execution_count": 60,
     "metadata": {},
     "output_type": "execute_result"
    }
   ],
   "source": [
    "bool(None)"
   ]
  },
  {
   "cell_type": "markdown",
   "id": "ccf7420d",
   "metadata": {
    "pycharm": {
     "name": "#%% md\n"
    }
   },
   "source": [
    "False, 0, 0.0, empty string,None is `False`, everything else is `True`"
   ]
  },
  {
   "cell_type": "code",
   "execution_count": 61,
   "id": "1a92268d",
   "metadata": {},
   "outputs": [
    {
     "data": {
      "text/plain": [
       "16"
      ]
     },
     "execution_count": 61,
     "metadata": {},
     "output_type": "execute_result"
    }
   ],
   "source": [
    "# We can also use function calls as arguments to other functions:\n",
    "pow(abs(-2), round(4.3))"
   ]
  },
  {
   "cell_type": "code",
   "execution_count": 62,
   "id": "a480eeb2",
   "metadata": {},
   "outputs": [
    {
     "data": {
      "text/plain": [
       "4"
      ]
     },
     "execution_count": 62,
     "metadata": {},
     "output_type": "execute_result"
    }
   ],
   "source": [
    "min(2, 3, 4)\n",
    "max(2, -3, 4, 7, -5)\n",
    "max(2, -3, min(4, 7), -5)"
   ]
  },
  {
   "cell_type": "code",
   "execution_count": 63,
   "id": "ad317262",
   "metadata": {},
   "outputs": [
    {
     "data": {
      "text/plain": [
       "140280682671760"
      ]
     },
     "execution_count": 63,
     "metadata": {},
     "output_type": "execute_result"
    }
   ],
   "source": [
    "shoe_size = 8.5\n",
    "id(shoe_size) # `id()` function to find the memory address of objects. "
   ]
  },
  {
   "cell_type": "markdown",
   "id": "5f5c7157",
   "metadata": {
    "pycharm": {
     "name": "#%% md\n"
    }
   },
   "source": [
    "## Functions from Modules/Libraries\n",
    "\n",
    "```python\n",
    "# load module\n",
    "import <module_name>\n",
    "\n",
    "#use it\n",
    "<module_name>.<function_from_module>(<positional_argument_1>)\n",
    "```\n",
    "\n",
    "Multilayer modules:\n",
    "\n",
    "```python\n",
    "# load module\n",
    "import <module_name>.<submodule_name>.<subsubmodule_name>\n",
    "\n",
    "#use it\n",
    "<module_name>.<submodule_name>.<subsubmodule_name>.<function_from_module>(<positional_argument_1>)\n",
    "```\n",
    "\n",
    "Alternatively:\n",
    "\n",
    "```python\n",
    "# load module\n",
    "import <module_name>.<submodule_name>.<subsubmodule_name> as <short_name>\n",
    "\n",
    "#use it\n",
    "<short_name>.<function_from_module>(<positional_argument_1>)\n",
    "```\n",
    "\n",
    "Alternatively:\n",
    "\n",
    "```python\n",
    "# load module\n",
    "from <module_name>.<submodule_name>.<subsubmodule_name> import <function_from_module>\n",
    "\n",
    "#use it\n",
    "<function_from_module>(<positional_argument_1>)\n",
    "```\n",
    "\n"
   ]
  },
  {
   "cell_type": "code",
   "execution_count": 64,
   "id": "d5007dc7",
   "metadata": {},
   "outputs": [
    {
     "data": {
      "text/plain": [
       "datetime.date(2021, 9, 7)"
      ]
     },
     "execution_count": 64,
     "metadata": {},
     "output_type": "execute_result"
    }
   ],
   "source": [
    "import datetime\n",
    "\n",
    "datetime.date.today()"
   ]
  },
  {
   "cell_type": "code",
   "execution_count": 65,
   "id": "81a90a9d",
   "metadata": {},
   "outputs": [
    {
     "data": {
      "text/plain": [
       "datetime.date(2021, 9, 7)"
      ]
     },
     "execution_count": 65,
     "metadata": {},
     "output_type": "execute_result"
    }
   ],
   "source": [
    "import datetime as dt\n",
    "\n",
    "dt.date.today()"
   ]
  },
  {
   "cell_type": "code",
   "execution_count": 66,
   "id": "4b040d71",
   "metadata": {},
   "outputs": [
    {
     "data": {
      "text/plain": [
       "datetime.date(2021, 9, 7)"
      ]
     },
     "execution_count": 66,
     "metadata": {},
     "output_type": "execute_result"
    }
   ],
   "source": [
    "from datetime import date\n",
    "\n",
    "date.today()"
   ]
  },
  {
   "cell_type": "code",
   "execution_count": 67,
   "id": "c56336a9",
   "metadata": {},
   "outputs": [
    {
     "data": {
      "text/plain": [
       "datetime.date(2021, 9, 7)"
      ]
     },
     "execution_count": 67,
     "metadata": {},
     "output_type": "execute_result"
    }
   ],
   "source": [
    "from datetime import date as d\n",
    "\n",
    "d.today()"
   ]
  },
  {
   "cell_type": "markdown",
   "id": "ce04648a",
   "metadata": {
    "pycharm": {
     "name": "#%% md\n"
    }
   },
   "source": [
    "### Making Your Own Functions\n",
    "\n",
    "```python\n",
    "def function_name(arg1, arg2, kwarg1=<default_value>, kwarg2=<default_value>):\n",
    "    'string on first line is help'\n",
    "    <code>\n",
    "    # comment\n",
    "    <code>\n",
    "    <code>\n",
    "    return <return_value>\n",
    "```\n",
    "\n",
    "Within function everything is **incremented by 4 spaces**.\n",
    "\n",
    "Python uses indentation to set blocks.\n",
    "\n",
    "```python\n",
    "not_in_function1\n",
    "\n",
    "def function1(arg1):\n",
    "    in_function1\n",
    "    in_function1\n",
    "    if True:\n",
    "        in_function1\n",
    "    else:\n",
    "        in_function1\n",
    "    in_function1\n",
    "    return\n",
    "\n",
    "not_in_function1\n",
    "```\n",
    "\n",
    "**Always use multiple of 4 spaces!** Do not use tab, 2 or 3 spaces!\n",
    "\n",
    "#### Why indentation and not { } and ;?\n",
    "\n",
    "Indentation c-code for better readability:\n",
    "\n",
    "```c\n",
    "// c-language Example\n",
    "not_in_function1;\n",
    "\n",
    "void function1(int arg1)\n",
    "{\n",
    "    in_function1;\n",
    "    in_function1;\n",
    "    if(1) {\n",
    "        in_function1;\n",
    "    }\n",
    "    else {\n",
    "        in_function1;\n",
    "    }\n",
    "    in_function1;\n",
    "    return;\n",
    "}\n",
    "not_in_function1;\n",
    "```\n",
    "\n",
    "Compare to\n",
    "\n",
    "```c\n",
    "// c-language Example\n",
    "not_in_function1;\n",
    "\n",
    "void function1(int arg1){ in_function1;in_function1; if(1) in_function1;else in_function1;\n",
    "in_function1;return;\n",
    "} not_in_function1;\n",
    "```\n",
    "\n",
    "Perl language is famous for its' one-liners:\n",
    "\n",
    "```perl\n",
    "#!/usr/bin/perl -- -* Nie wieder Nachtschicht! *- -- lrep\\nib\\rsu\\!#\n",
    "use Inline C=>'void C(){int m,u,e=0;float l,_,I;for(;1840-e;putchar((++e>907\n",
    "&&942>e?61-m:u)[\"\\n)moc.isc@rezneumb(rezneuM drahnreB\"]))for(u=_=l=0;79-(m\n",
    "=e%80)&&I*l+_*_<6&&26-++u;_=2*l*_+e/80*.09-1,l=I)I=l*l-_*_-2+m/27.;}';&C\n",
    "```\n",
    "Produce:\n",
    "```\n",
    "mmmmmmmmooooooooooooooooooooooooocccccccccc....is@zrre i.cccccccoooooooooommmmm\n",
    "mmmmmmoooooooooooooooooooooooccccccccccc.....iiscrr n@csi...ccccccoooooooooommm\n",
    "mmmmooooooooooooooooooooooccccccccccc....iiiss@n     zMesii....cccccoooooooooom\n",
    "mmooooooooooooooooooooocccccccccc....iisssssc@rn      erccsiiiii..ccccooooooooo\n",
    "moooooooooooooooooocccccccc.......iis@e uMeu r          e  r@@@ezs..cccoooooooo\n",
    "oooooooooooooooccccccc.........iiiisc@z                     e   eci..cccooooooo\n",
    "ooooooooooccccccc..iiiiiiiiiiiiisscz  z                        z@sii.ccccoooooo\n",
    "oooooccccccccc...iicz@ccccz@ccccccrrr                              s..cccoooooo\n",
    "ooocccccccc.....iisc@eb     bnneree                              eci..ccccooooo\n",
    "occcccccc.....iisccrnb           m                               nci..ccccooooo\n",
    "ccc....iiiiisss@emee(                                            cii..cccccoooo\n",
    "iscc@@beremeene(           Bernhard Muenzer(bmuenzer@csi.com) ercsi...cccccoooo\n",
    "c....iiiiiisssc@e rnz                                           esi...cccccoooo\n",
    "occccccc....iiiscc@rb            (                               esi..ccccooooo\n",
    "oocccccccc......iisc@z        bneze                              z@i..ccccooooo\n",
    "ooooocccccccc....ii@er@@@@nr@cccc@e                               es..cccoooooo\n",
    "oooooooooccccccc...@siiiiiiiiisssscnM                          urcsi..cccoooooo\n",
    "ooooooooooooooccccccc..........iiiisc@e                         zsi..cccooooooo\n",
    "mooooooooooooooooocccccccc.......iiis@    nu               er eznri.cccoooooooo\n",
    "mmoooooooooooooooooooocccccccccc....issc@ccc@@rn      er@cssiiiss..cccooooooooo\n",
    "mmmmoooooooooooooooooooooccccccccccc....iiiisc@z      rrsii.....ccccoooooooooom\n",
    "mmmmmooooooooooooooooooooooocccccccccccc....iis@rz  rrcsi....ccccccoooooooooomm\n",
    "mmmmmmmmoooooooooooooooooooooooocccccccccc....iisceeeusi..cccccccooooooooommmmm\n",
    "```\n",
    "\n",
    "#### Forcing indentation for blocking reinforces **more readable code**!\n"
   ]
  },
  {
   "cell_type": "code",
   "execution_count": 68,
   "id": "04a8c52a",
   "metadata": {},
   "outputs": [],
   "source": [
    "def squared(x):\n",
    "    'this funcrion return squared input'\n",
    "    squared_x  = x * x\n",
    "    return squared_x"
   ]
  },
  {
   "cell_type": "code",
   "execution_count": 69,
   "id": "6e535c64",
   "metadata": {},
   "outputs": [
    {
     "data": {
      "text/plain": [
       "9"
      ]
     },
     "execution_count": 69,
     "metadata": {},
     "output_type": "execute_result"
    }
   ],
   "source": [
    "squared(3)"
   ]
  },
  {
   "cell_type": "code",
   "execution_count": 70,
   "id": "e2efaeec",
   "metadata": {},
   "outputs": [
    {
     "name": "stdout",
     "output_type": "stream",
     "text": [
      "Help on function squared in module __main__:\n",
      "\n",
      "squared(x)\n",
      "    this funcrion return squared input\n",
      "\n"
     ]
    }
   ],
   "source": [
    "help(squared)"
   ]
  },
  {
   "cell_type": "markdown",
   "id": "cccf0f2e",
   "metadata": {
    "pycharm": {
     "name": "#%% md\n"
    }
   },
   "source": [
    "## Function Exercises 1-6"
   ]
  },
  {
   "cell_type": "code",
   "execution_count": 71,
   "id": "ae332c4a",
   "metadata": {},
   "outputs": [],
   "source": [
    "# 1 -------------------\n",
    "# Using the print function print:\n",
    "# ______________________________\n",
    "# Happy birthday to you!!!\n",
    "# Happy birthday to you!!!\n",
    "# Happy birthday, dear John\n",
    "# Happy birthday to you!\n",
    "# Happy birthday to you!\n",
    "# ______________________________\n",
    "\n",
    "\n"
   ]
  },
  {
   "cell_type": "code",
   "execution_count": 72,
   "id": "3b0be234",
   "metadata": {},
   "outputs": [],
   "source": [
    "# 3 ---------------------\n",
    "# Write a function to print:\n",
    "# Happy birthday to you!!!\n",
    "# Happy birthday to you!!!\n",
    "\n",
    "\n"
   ]
  },
  {
   "cell_type": "code",
   "execution_count": 73,
   "id": "c2ecbdae",
   "metadata": {},
   "outputs": [],
   "source": [
    "# 4a ----------------\n",
    "# Use the function from ex3 to print\n",
    "# Happy birthday to you!!!\n",
    "# Happy birthday to you!!!\n",
    "# Happy birthday, dear John\n",
    "# Happy birthday to you!!!\n",
    "# Happy birthday to you!!!\n",
    "\n",
    "\n",
    "# 4b ---- repeat 4a for Jane"
   ]
  },
  {
   "cell_type": "code",
   "execution_count": 74,
   "id": "ad46d80b",
   "metadata": {},
   "outputs": [],
   "source": [
    "# 5 -------------------\n",
    "# Write a function called print_happy_birthday_name that takes\n",
    "# the name as an input \n",
    "# Happy birthday, dear <Name>\n",
    "\n"
   ]
  },
  {
   "cell_type": "code",
   "execution_count": 75,
   "id": "6cbb81ed",
   "metadata": {},
   "outputs": [],
   "source": [
    "# 6 ------------------------\n",
    "# combine the functions print_happy_birthday and print_happy_birthday_name('John')\n",
    "\n"
   ]
  },
  {
   "cell_type": "code",
   "execution_count": null,
   "id": "e337820a",
   "metadata": {},
   "outputs": [],
   "source": []
  },
  {
   "cell_type": "markdown",
   "id": "c7813d34",
   "metadata": {},
   "source": [
    "### Function Exercises 1-6 Solutions"
   ]
  },
  {
   "cell_type": "code",
   "execution_count": 76,
   "id": "d0445cad",
   "metadata": {},
   "outputs": [
    {
     "name": "stdout",
     "output_type": "stream",
     "text": [
      "________________________________________\n",
      "Happy birthday to you!!!\n",
      "Happy birthday to you!!!\n",
      "Happy birthday, dear John\n",
      "Happy birthday to you!\n",
      "Happy birthday to you!\n",
      "________________________________________\n"
     ]
    }
   ],
   "source": [
    "# 1\n",
    "\n",
    "print('_'*40)\n",
    "print('Happy birthday to you!!!')\n",
    "print('Happy birthday to you!!!')\n",
    "print('Happy birthday, dear John')\n",
    "print('Happy birthday to you!')\n",
    "print('Happy birthday to you!')\n",
    "print('_'*40)"
   ]
  },
  {
   "cell_type": "code",
   "execution_count": 77,
   "id": "f45867b0",
   "metadata": {},
   "outputs": [],
   "source": [
    "# 2\n",
    "def print_happy_birthday():\n",
    "    print('Happy birthday to you!!!')\n",
    "    print('Happy birthday to you!!!')    "
   ]
  },
  {
   "cell_type": "code",
   "execution_count": 78,
   "id": "70a637bf",
   "metadata": {},
   "outputs": [
    {
     "name": "stdout",
     "output_type": "stream",
     "text": [
      "Happy birthday to you!!!\n",
      "Happy birthday to you!!!\n",
      "Happy birthday, dear John\n",
      "Happy birthday to you!!!\n",
      "Happy birthday to you!!!\n",
      "\n",
      "Happy birthday to you!!!\n",
      "Happy birthday to you!!!\n",
      "Happy birthday, dear Jane\n",
      "Happy birthday to you!!!\n",
      "Happy birthday to you!!!\n"
     ]
    }
   ],
   "source": [
    "# 4a\n",
    "print_happy_birthday()\n",
    "print('Happy birthday, dear John')\n",
    "print_happy_birthday()\n",
    "\n",
    "print()\n",
    "# 4b\n",
    "print_happy_birthday()\n",
    "print('Happy birthday, dear Jane')\n",
    "print_happy_birthday()"
   ]
  },
  {
   "cell_type": "code",
   "execution_count": 79,
   "id": "8a532115",
   "metadata": {},
   "outputs": [],
   "source": [
    "# 5 \n",
    "def print_happy_birthday_name(name):\n",
    "    print(f'Happy birthday, dear {name}')"
   ]
  },
  {
   "cell_type": "code",
   "execution_count": 80,
   "id": "9990ad1e",
   "metadata": {
    "pycharm": {
     "name": "#%%\n"
    }
   },
   "outputs": [
    {
     "name": "stdout",
     "output_type": "stream",
     "text": [
      "Happy birthday to you!!!\n",
      "Happy birthday to you!!!\n",
      "Happy birthday, dear John\n",
      "Happy birthday to you!!!\n",
      "Happy birthday to you!!!\n"
     ]
    }
   ],
   "source": [
    "# 6\n",
    "print_happy_birthday()\n",
    "print_happy_birthday_name('John')\n",
    "print_happy_birthday()"
   ]
  },
  {
   "cell_type": "code",
   "execution_count": null,
   "id": "70d69e67",
   "metadata": {},
   "outputs": [],
   "source": []
  }
 ],
 "metadata": {
  "kernelspec": {
   "display_name": "Python 3 (ipykernel)",
   "language": "python",
   "name": "python3"
  },
  "language_info": {
   "codemirror_mode": {
    "name": "ipython",
    "version": 3
   },
   "file_extension": ".py",
   "mimetype": "text/x-python",
   "name": "python",
   "nbconvert_exporter": "python",
   "pygments_lexer": "ipython3",
   "version": "3.9.7"
  },
  "pycharm": {
   "stem_cell": {
    "cell_type": "raw",
    "metadata": {
     "collapsed": false
    },
    "source": []
   }
  }
 },
 "nbformat": 4,
 "nbformat_minor": 5
}
