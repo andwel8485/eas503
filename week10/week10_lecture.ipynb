{
 "cells": [
  {
   "cell_type": "markdown",
   "metadata": {},
   "source": [
    "# Week10. Database"
   ]
  },
  {
   "cell_type": "markdown",
   "metadata": {},
   "source": [
    "# Recap: Classes\n",
    "\n",
    "\n",
    "## Class Definition\n",
    "\n",
    "```python\n",
    "class ClassName(OptionalParantClass):\n",
    "    # class block\n",
    "\n",
    "    # Class variables - common parameters (same for all instances),\n",
    "    # shared amon all instanses, that is there is only one copy\n",
    "    common_class_variable = <value>\n",
    "\n",
    "    # define methods\n",
    "    def __init__(self, other_arguments_1):\n",
    "        # method block\n",
    "        # this one particularly is called initializer\n",
    "\n",
    "        # call parent initializer\n",
    "        super().__init__(other_arguments_1)\n",
    "\n",
    "        # instances variables - local to a particular instance\n",
    "        self.local_to_self_variable = <value>\n",
    "        <statement...>\n",
    "\n",
    "    def method_name(self, other_arguments_2):\n",
    "        # method block\n",
    "        <statement...>\n",
    "\n",
    "    @classmethod\n",
    "    # class method don't update or read information from object self\n",
    "    # it is more related to Class rather than object self\n",
    "    def class_method_name(cls, other_arguments_3):\n",
    "        # method block\n",
    "        <statement...>\n",
    "\n",
    "    # static method don't update or read information from object self or class\n",
    "    @staticmethod\n",
    "    def static_method_name(other_arguments_4):\n",
    "        # method block\n",
    "        <statement...>\n",
    "```\n",
    "\n",
    "## Creating new instance\n",
    "new instance is typically created by calling class constructor (class name + parenthesis, e.g. ClassName()),\n",
    "pass arguments to the initializer:\n",
    "```python\n",
    "new_instance = ClassName(m_other_arguments_1)\n",
    "```\n",
    "## Calling new instance methods and using instance variable\n",
    "```python\n",
    "new_instance.method_name(m_other_arguments_2)\n",
    "new_instance.local_to_self_variable = \"new value\"\n",
    "```\n",
    "## Calling class or static methods and using class variable\n",
    "```python\n",
    "ClassName.class_method_name(m_other_arguments_3)\n",
    "ClassName.static_method_name(m_other_arguments_4)\n",
    "ClassName.common_class_variable = \"new value\"\n",
    "```\n",
    "## Some special methods\n",
    "\n",
    "see https://docs.python.org/3/reference/datamodel.html\n",
    "\n",
    "* operator overloading (should return result of corresponding operation)\n",
    "  * `object.__add__(self, other)` - called by `object + other`\n",
    "  * `object.__sub__(self, other)` - called by `object - other`\n",
    "  * `object.__mul__(self, other)` - called by `object * other`\n",
    "  * `object.__truediv__(self, other)` - called by `object / other`\n",
    "  * `object.__floordiv__(self, other)` - called by `object // other`\n",
    "  * `object.__mod__(self, other)` - called by `object % other`\\\n",
    "  * `object.__and__(self, other)` - called by `object and other`\n",
    "  * `object.__or__(self, other)` - called by `object or other`\n",
    "* Comparison methods (should return bool)\n",
    "  * `object.__lt__(self, other)` - called by `object < other`\n",
    "  * `object.__le__(self, other)` - called by `object <= other`\n",
    "  * `object.__eq__(self, other)` - called by `object == other`\n",
    "  * `object.__ne__(self, other)` - called by `object != other`\n",
    "  * `object.__gt__(self, other)` - called by `object > other`\n",
    "  * `object.__ge__(self, other)` - called by `object >= other`\n",
    "* Iteratable methods\n",
    "  * `__iter__` return iterator, can be self\n",
    "  * Iterator method\n",
    "    * `__next__` return next item, raise `StopIteration` if there is no more items"
   ]
  },
  {
   "cell_type": "markdown",
   "metadata": {},
   "source": [
    "# Week10. Database\n",
    "## Database\n",
    "- After you have parsed your data, you need to store the data\n",
    "- Databases allows you to persist data or save the data\n",
    "- You can access the data later\n",
    "- SQL databases support transaction or they are transactional\n",
    "    - This means that the database is ACID\n",
    "    - ACID - Atomic, Consistent, Isolated and Durable\n",
    "      - Atomicity - whole transaction or none\n",
    "      - Consistency - database moves from one valid state to another\n",
    "      - Isolation - transactions executed concurrently should have same effect as if executed sequentially\n",
    "      - Durable - committed transactions should be persistent and not affected by factors like power outage.\n",
    "    - series of operation that happen either all happen or nothing happens\n",
    "    - Example: Transfer money -- decrement one account and increment another account\n",
    "- We will use SQLite -- database saved as a file. Unlike flat files(csv files for example), the data stored in an optimized way so you can do queries. It is portable -- you can share your database file. Do not need to setup a database/server. It is a zero-configuration and serverless. No client/server interaction. An application will directly access the database file and read and write to it.\n",
    "    - Self-contained\n",
    "    - Serverless\n",
    "    - Zero-configuration\n",
    "    - Transactional -- all or nothing; either all instructions are executed successfully or nothing happens.\n",
    "    - Uses dynamic types for tables -- can store any datatype in any column\n",
    "    - SQLite is SQL dialect (Structured Query Language), there are a lot of similarities with other SQL dialect.\n",
    "- Other popular SQL:\n",
    "  - MySQL\n",
    "  - MariaDB (MySQL fork)\n",
    "  - Microsoft SQL\n",
    "\n",
    "- Database terminology\n",
    "    - A database contains tables\n",
    "    - tables store information in rows and columns\n",
    "    - a relational database -- there is a relationship between two or more tables\n",
    "\n",
    "\n",
    "- Working with SQLite (Similar to other SQL dialects):\n",
    "  - Command line interface (CLI):\n",
    "    - download from https://www.sqlite.org/\n",
    "  - Graphical user interface (GUI):\n",
    "    - Use DB Browser for SQLite (https://sqlitebrowser.org/dl/)\n",
    "  - Programmatically (that is with python):\n",
    "    - using sqlite3 module (https://docs.python.org/3/library/sqlite3.html)\n",
    "\n",
    "\n",
    "- Reference: https://www.sqlite.org/\n",
    "  - Docs: https://www.sqlite.org/doc.html\n",
    "  - Download: https://www.sqlite.org/download.html\n",
    "- Reference: https://www.sqlitetutorial.net\n",
    "- Reference: https://www.quackit.com/sqlite/tutorial\n",
    "- Data: Data generated using faker\n",
    "- Data: https://www.sqlitetutorial.net/sqlite-sample-database/\n",
    "- Data: https://www.kaggle.com/airbnb/seattle\n",
    "- https://sqlitebrowser.org/dl/\n",
    "\n",
    "- Basic commands for CLI\n",
    "  * `sqlite3` - start sql lite\n",
    "  * `.help`  - list commands available\n",
    "  * `.quit` - quit sqlite\n",
    "  * a dot (\".\") are intercepted and interpreted by the sqlite3 program itself"
   ]
  },
  {
   "cell_type": "markdown",
   "metadata": {},
   "source": [
    "## Load simple database\n",
    "```\n",
    "create table students (last_name TEXT, first_name TEXT, username TEXT, exam1 INTEGER, exam2 INTEGER, exam3 INTEGER);\n",
    ".separator \"\\t\"\n",
    ".import students.tsv Students\n",
    ".save student.db\n",
    ".headers ON\n",
    ".mode column\n",
    "```"
   ]
  },
  {
   "cell_type": "markdown",
   "metadata": {},
   "source": [
    "## Basic commands -- Part I\n",
    "```\n",
    ".help\n",
    ".database\n",
    ".table\n",
    ".schema <name_of_table>\n",
    ".quit\n",
    ".q\n",
    "```\n",
    "\n",
    "### SELECT command\n",
    "```\n",
    "SELECT * FROM students;\n",
    "SELECT username, exam1 FROM STUDENTS;\n",
    "SELECT username, exam1 FROM STUDENTS ORDER BY username;\n",
    "SELECT username, exam1 FROM STUDENTS ORDER BY username LIMIT 20;\n",
    "SELECT username, exam1, exam2 FROM STUDENTS ORDER BY exam1 ASC LIMIT 10;\n",
    "SELECT username, exam1 FROM STUDENTS ORDER BY exam1 DESC LIMIT 10;\n",
    "```\n",
    "\n",
    "### Save output to a file\n",
    "```\n",
    ".output output.txt\n",
    "SELECT username, exam1 FROM STUDENTS ORDER BY -exam1 LIMIT 10;\n",
    ".output stdout\n",
    "```\n",
    "\n",
    "### Backup whole database\n",
    "```\n",
    ".output dump.sql\n",
    ".dump\n",
    ".output stdout\n",
    "```\n",
    "\n",
    "### Calculating Average\n",
    "```\n",
    "SELECT\n",
    " avg(exam1) as `Exam1 Average`, avg(exam2), avg(exam3)\n",
    " FROM students;\n",
    "```\n",
    "\n",
    "### Find all exam1 grades greater than 80\n",
    "```\n",
    "SELECT\n",
    "username, exam1\n",
    "FROM\n",
    "students\n",
    "WHERE exam1 > 80;\n",
    "```\n",
    "\n",
    "### Find all exam1 between\n",
    "```\n",
    "SELECT\n",
    "username, exam1\n",
    "FROM\n",
    "students\n",
    "WHERE exam1 BETWEEN 80 and 90;\n",
    "```\n",
    "\n",
    "\n",
    "\n",
    "### Get count of exam1 greater than 80\n",
    "```\n",
    "SELECT\n",
    "count(exam1)\n",
    "FROM\n",
    "students\n",
    "WHERE exam1 > 80;\n",
    "```\n",
    "\n",
    "### Find students with same first name\n",
    "```\n",
    "SELECT\n",
    "*\n",
    "FROM\n",
    "students\n",
    "WHERE first_name == 'Melissa'\n",
    "```\n",
    "\n",
    "### Find students IN list\n",
    "```\n",
    "SELECT\n",
    "*\n",
    "FROM\n",
    "students\n",
    "WHERE first_name in ('Melissa', 'Stephanie', 'Alex');\n",
    "```\n",
    "\n",
    "\n",
    "### Find students LIKE %\n",
    "```\n",
    "SELECT\n",
    "*\n",
    "FROM\n",
    "students\n",
    "WHERE first_name LIKE 'Alex%';\n",
    "```\n",
    "\n",
    "### Find students LIKE  %%\n",
    "```\n",
    "SELECT\n",
    "*\n",
    "FROM\n",
    "students\n",
    "WHERE first_name LIKE '%ath%';\n",
    "```\n",
    "\n",
    "### Find Histogram exam1 grades using GROUP BY\n",
    "```\n",
    "SELECT exam1, count(exam1) as c  FROM students GROUP BY exam1 ORDER BY c DESC;\n",
    "SELECT first_name, count(first_name) as name_count  FROM students GROUP BY first_name ORDER BY name_count DESC;\n",
    "```"
   ]
  },
  {
   "cell_type": "markdown",
   "metadata": {},
   "source": [
    "### Adding null values\n",
    "```\n",
    "INSERT INTO Students('exam1') VALUES ('52');\n",
    "SELECT * FROM Students;\n",
    "```\n",
    "\n",
    "### Adding NOT NULL constraint\n",
    "```\n",
    "create table students (\n",
    "    last_name TEXT NOT NULL,\n",
    "    first_name TEXT NOT NULL,\n",
    "    username TEXT NOT NULL,\n",
    "    exam1 REAL,\n",
    "    exam2 REAL,\n",
    "    exam3 REAL\n",
    ");\n",
    ".separator \"\\t\"\n",
    ".import students.tsv Students\n",
    "\n",
    "SELECT * FROM Students;\n",
    ".schema Students\n",
    "\n",
    "INSERT INTO Students('exam1') VALUES ('52');\n",
    "\n",
    "```\n"
   ]
  },
  {
   "cell_type": "markdown",
   "metadata": {},
   "source": [
    "### Primary Key\n",
    "```\n",
    ".headers ON\n",
    "PRAGMA foreign_keys;\n",
    "PRAGMA foreign_keys = ON;\n",
    "PRAGMA foreign_keys;\n",
    "CREATE TABLE Teachers(\n",
    "  TeacherName  TEXT NOT NULL\n",
    ");\n",
    "\n",
    ".tables\n",
    ".schema Teachers\n",
    "\n",
    "INSERT INTO Teachers ('TeacherName') VALUES ('John Smith');\n",
    "SELECT * FROM Teachers;\n",
    "INSERT INTO Teachers ('TeacherName') VALUES ('John Smith');\n",
    "\n",
    "\n",
    "SELECT rowid, * FROM Teachers;\n",
    "\n",
    "```\n",
    "\n",
    "When you create a table that has an `INTEGER NOT NULL PRIMARY KEY` column, this column is the alias of the `rowid` column. It uniquely defines a record/row.\n",
    "\n",
    "```\n",
    ".headers ON\n",
    "DROP TABLE Teachers;\n",
    "\n",
    "CREATE TABLE Teachers (\n",
    "   TeacherId INTEGER NOT NULL PRIMARY KEY,\n",
    "   TeacherName  TEXT NOT NULL\n",
    ");\n",
    "INSERT INTO Teachers ('TeacherName') VALUES ('John Smith');\n",
    "INSERT INTO Teachers ('TeacherName') VALUES ('John Smith');\n",
    "SELECT * FROM Teachers;\n",
    "```\n",
    "\n",
    "\n",
    "### Making a teacher Unique\n",
    "```\n",
    ".headers ON\n",
    "DROP TABLE Teachers;\n",
    "\n",
    "CREATE TABLE Teachers (\n",
    "   TeacherId INTEGER NOT NULL PRIMARY KEY,\n",
    "   TeacherName  TEXT NOT NULL,\n",
    "   TeacherEmployeeID INTEGER NOT NULL,\n",
    "   UNIQUE (TeacherEmployeeID)\n",
    ");\n",
    "INSERT INTO Teachers ('TeacherName', 'TeacherEmployeeID') VALUES ('John Smith', 100001);\n",
    "INSERT INTO Teachers ('TeacherName', 'TeacherEmployeeID') VALUES ('John Smith', 100002);\n",
    "SELECT * FROM Teachers;\n",
    "```\n",
    "\n",
    "\n",
    "### Making a teacher Unique\n",
    "```\n",
    ".headers ON\n",
    "DROP TABLE Teachers;\n",
    "\n",
    "CREATE TABLE Teachers (\n",
    "   TeacherId INTEGER NOT NULL PRIMARY KEY,\n",
    "   TeacherName  TEXT NOT NULL,\n",
    "   TeacherEmployeeID INTEGER NOT NULL,\n",
    "   UNIQUE (TeacherEmployeeID)\n",
    ");\n",
    "INSERT INTO Teachers ('TeacherName', 'TeacherEmployeeID') VALUES ('John Smith', 100001);\n",
    "INSERT INTO Teachers ('TeacherName', 'TeacherEmployeeID') VALUES ('John Smith', 100002);\n",
    "SELECT * FROM Teachers;\n",
    "```\n"
   ]
  },
  {
   "cell_type": "markdown",
   "metadata": {
    "pycharm": {
     "name": "#%% md\n"
    }
   },
   "source": [
    "# Same Manipulations with Python"
   ]
  },
  {
   "cell_type": "code",
   "execution_count": null,
   "metadata": {
    "pycharm": {
     "name": "#%%\n"
    }
   },
   "outputs": [],
   "source": [
    "filename = 'students.tsv'\n",
    "students_list = []\n",
    "with open(filename) as file:\n",
    "    for line in file:\n",
    "        if not line.strip():\n",
    "            continue\n",
    "        line = line.strip()\n",
    "        students_list.append(line.split('\\t'))\n",
    "\n",
    "\n",
    "\n",
    "header = ['last_name', 'first_name', 'username', 'exam1', 'exam2', 'exam3']\n",
    "students_dict = []\n",
    "with open(filename) as file:\n",
    "    for line in file:\n",
    "        if not line.strip():\n",
    "            continue\n",
    "        line = line.strip()\n",
    "        students_dict.append(dict(zip(header, line.split('\\t'))))"
   ]
  },
  {
   "cell_type": "code",
   "execution_count": null,
   "metadata": {
    "pycharm": {
     "name": "#%%\n"
    }
   },
   "outputs": [],
   "source": [
    "# SELECT * FROM Students;\n",
    "\n",
    "for student in students_list:\n",
    "    print(student)\n",
    "\n",
    "\n",
    "for student in students_dict:\n",
    "    print(student)\n"
   ]
  },
  {
   "cell_type": "code",
   "execution_count": null,
   "metadata": {
    "pycharm": {
     "name": "#%%\n"
    }
   },
   "outputs": [],
   "source": [
    "# SELECT username, exam1 FROM STUDENTS;\n",
    "\n",
    "for student in students_list:\n",
    "    print(student[2], student[3])\n",
    "\n",
    "print('_'*100)\n",
    "\n",
    "for student in students_dict:\n",
    "    print(student.get('username'), student.get('exam1'))"
   ]
  },
  {
   "cell_type": "code",
   "execution_count": null,
   "metadata": {
    "pycharm": {
     "name": "#%%\n"
    }
   },
   "outputs": [],
   "source": [
    "# SELECT username, exam1 FROM STUDENTS ORDER BY username;\n",
    "\n",
    "for student in sorted(students_list, key=lambda student: student[2]):\n",
    "   print(student[2], student[3])"
   ]
  },
  {
   "cell_type": "code",
   "execution_count": null,
   "metadata": {
    "pycharm": {
     "name": "#%%\n"
    }
   },
   "outputs": [],
   "source": [
    "# SELECT username, exam1 FROM STUDENTS ORDER BY exam1;\n",
    "\n",
    "for student in sorted(students_list, key=lambda student: int(student[3])):\n",
    "    print(student[2], student[3])"
   ]
  },
  {
   "cell_type": "code",
   "execution_count": null,
   "metadata": {
    "pycharm": {
     "name": "#%%\n"
    }
   },
   "outputs": [],
   "source": [
    "# SELECT username, exam1 FROM STUDENTS ORDER BY -exam1 LIMIT 10\n",
    "# SELECT username, exam1 FROM STUDENTS ORDER BY exam1 desc LIMIT 10\n",
    "\n",
    "for student in sorted(students_list, key=lambda student: int(student[3]), reverse=True)[:10]:\n",
    "    print(student[2], student[3])"
   ]
  },
  {
   "cell_type": "code",
   "execution_count": null,
   "metadata": {
    "pycharm": {
     "name": "#%%\n"
    }
   },
   "outputs": [],
   "source": [
    "# SELECT username, exam1 FROM STUDENTS ORDER BY exam1 ASC LIMIT 10 ## default behavior\n",
    "\n",
    "for student in sorted(students_list, key=lambda student: int(student[3]))[:10]:\n",
    "    print(student[2], student[3])"
   ]
  },
  {
   "cell_type": "code",
   "execution_count": null,
   "metadata": {
    "pycharm": {
     "name": "#%%\n"
    }
   },
   "outputs": [],
   "source": [
    "# SELECT\n",
    "#     avg(exam1) as `Exam1 Average`, avg(exam2), avg(exam3)\n",
    "# FROM students;\n",
    "\n",
    "\n",
    "exam1_avg = sum([int(student[3]) for student in students_list])/len(students_list)\n",
    "exam2_avg = sum([int(student[4]) for student in students_list])/len(students_list)\n",
    "exam3_avg = sum([int(student[5]) for student in students_list])/len(students_list)\n",
    "\n",
    "print(exam1_avg, exam2_avg, exam3_avg)\n"
   ]
  },
  {
   "cell_type": "code",
   "execution_count": null,
   "metadata": {
    "pycharm": {
     "name": "#%%\n"
    }
   },
   "outputs": [],
   "source": [
    "# SELECT\n",
    "# \tusername, exam1\n",
    "# FROM Students\n",
    "# WHERE\n",
    "# \texam1 > 80;\n",
    "\n",
    "\n",
    "for student in filter(lambda student: int(student[3]) > 80, students_list):\n",
    "    print(student[2], student[3])"
   ]
  },
  {
   "cell_type": "code",
   "execution_count": null,
   "metadata": {
    "pycharm": {
     "name": "#%%\n"
    }
   },
   "outputs": [],
   "source": [
    "# SELECT\n",
    "# \tusername, exam1\n",
    "# FROM students\n",
    "# WHERE exam1 BETWEEN 80 and 90;\n",
    "\n",
    "for student in filter(lambda student: 80 <int(student[3]) < 90, students_list):\n",
    "    print(student[2], student[3])"
   ]
  },
  {
   "cell_type": "code",
   "execution_count": null,
   "metadata": {
    "pycharm": {
     "name": "#%%\n"
    }
   },
   "outputs": [],
   "source": [
    "# SELECT\n",
    "# count(exam1) as `Exam 1 GT 80`\n",
    "# FROM students\n",
    "# WHERE exam1 > 80;\n",
    "\n",
    "len(list(filter(lambda student: int(student[3]) > 80, students_list)))"
   ]
  },
  {
   "cell_type": "code",
   "execution_count": null,
   "metadata": {
    "pycharm": {
     "name": "#%%\n"
    }
   },
   "outputs": [],
   "source": [
    "# SELECT\n",
    "# *\n",
    "# FROM students\n",
    "# WHERE first_name == 'Melissa'\n",
    "\n",
    "list(filter(lambda student: student[1] == 'Melissa', students_list))"
   ]
  },
  {
   "cell_type": "code",
   "execution_count": null,
   "metadata": {
    "pycharm": {
     "name": "#%%\n"
    }
   },
   "outputs": [],
   "source": [
    "# SELECT\n",
    "# *\n",
    "# FROM Students\n",
    "# WHERE first_name IN ('Melissa', 'Stephanie', 'Alex')\n",
    "# ORDER BY last_name\n",
    "\n",
    "sorted(list(filter(lambda student: student[1] in ('Melissa', 'Stephanie', 'Alex'), \\\n",
    "                   students_list)), key=lambda student: student[0])"
   ]
  },
  {
   "cell_type": "code",
   "execution_count": null,
   "metadata": {
    "pycharm": {
     "name": "#%%\n"
    }
   },
   "outputs": [],
   "source": [
    "# SELECT\n",
    "# *\n",
    "# FROM students\n",
    "# WHERE first_name LIKE 'Alex%';\n",
    "\n",
    "list(filter(lambda student: student[1].startswith('Alex'), students_list))"
   ]
  },
  {
   "cell_type": "code",
   "execution_count": null,
   "metadata": {
    "pycharm": {
     "name": "#%%\n"
    }
   },
   "outputs": [],
   "source": [
    "# SELECT\n",
    "# *\n",
    "# FROM\n",
    "# students\n",
    "# WHERE first_name LIKE '%ath%';\n",
    "\n",
    "list(filter(lambda student: 'ath' in student[1], students_list))"
   ]
  },
  {
   "cell_type": "code",
   "execution_count": null,
   "metadata": {
    "pycharm": {
     "name": "#%%\n"
    }
   },
   "outputs": [],
   "source": [
    "sub_string = 'efg'\n",
    "string = 'abcdefghijk'\n",
    "\n",
    "sub_string in string"
   ]
  },
  {
   "cell_type": "code",
   "execution_count": null,
   "metadata": {
    "pycharm": {
     "name": "#%%\n"
    }
   },
   "outputs": [],
   "source": [
    "# SELECT\n",
    "# \texam1,\n",
    "# \tcount(exam1) as Exam1Count\n",
    "# FROM students\n",
    "# GROUP BY exam1\n",
    "# ORDER BY Exam1Count DESC;\n",
    "\n",
    "output = {}\n",
    "\n",
    "for student in students_list:\n",
    "    exam1 = int(student[3])\n",
    "    if exam1 not in output:\n",
    "        output[exam1] = 0\n",
    "    output[exam1] += 1\n",
    "\n",
    "\n",
    "for ele in sorted(zip(output.keys(), output.values()), key= lambda ele: ele[1], reverse=True):\n",
    "    print(ele)"
   ]
  },
  {
   "cell_type": "code",
   "execution_count": null,
   "metadata": {
    "pycharm": {
     "name": "#%%\n"
    }
   },
   "outputs": [],
   "source": [
    "list(zip(output.keys(), output.values()))"
   ]
  },
  {
   "cell_type": "markdown",
   "metadata": {},
   "source": [
    "# sqlite3 module"
   ]
  },
  {
   "cell_type": "code",
   "execution_count": null,
   "metadata": {
    "pycharm": {
     "name": "#%%\n"
    }
   },
   "outputs": [],
   "source": [
    "import pandas as pd\n",
    "import sqlite3\n",
    "conn = sqlite3.connect(\"student.db\")\n",
    "cur = conn.cursor()\n",
    "sql_statement = \"select username, exam1 FROM Students;\"\n",
    "df = pd.read_sql_query(sql_statement, conn)\n",
    "df"
   ]
  },
  {
   "cell_type": "code",
   "execution_count": null,
   "metadata": {
    "pycharm": {
     "name": "#%%\n"
    }
   },
   "outputs": [],
   "source": [
    "import pandas as pd\n",
    "import sqlite3\n",
    "conn = sqlite3.connect(\"student.db\")\n",
    "cur = conn.cursor()\n",
    "\n",
    "sql_statement=\"\"\"\n",
    "SELECT\n",
    "\tfirst_name,\n",
    "\tcount(first_name) as name_count\n",
    "FROM students\n",
    "GROUP BY first_name ORDER BY name_count DESC LIMIT 5;\n",
    "\"\"\"\n",
    "df = pd.read_sql_query(sql_statement, conn)\n",
    "df"
   ]
  },
  {
   "cell_type": "code",
   "execution_count": null,
   "metadata": {
    "pycharm": {
     "name": "#%%\n"
    }
   },
   "outputs": [],
   "source": [
    "output = {}\n",
    "\n",
    "for student in students_list:\n",
    "    first_name = student[1]\n",
    "    if first_name not in output:\n",
    "        output[first_name] = 0\n",
    "    output[first_name] += 1\n",
    "\n",
    "\n",
    "for ele in sorted(zip(output.keys(), output.values()), key= lambda ele: ele[1], reverse=True)[:7]:\n",
    "    print(ele)"
   ]
  },
  {
   "cell_type": "markdown",
   "metadata": {
    "pycharm": {
     "name": "#%% md\n"
    }
   },
   "source": [
    "## Database Normalization\n",
    "\n",
    "- Why use a database?\n",
    "  - Ref: https://www.bbc.co.uk/bitesize/guides/z8yg87h/revision/4\n",
    "  - Data is stored efficiently; saves space\n",
    "  - Because data is stored efficiently, you can access it faster; easy to search\n",
    "  - Because data is stored efficiently, you can easily update and remove data\n",
    "  - Easily sort and group data\n",
    "- What is database normalization?\n",
    "  - Ref: https://www.complexsql.com/database-normalization/\n",
    "  - Ref: http://www.databasedev.co.uk/1norm_form.html\n",
    "  - The purpose of database normalization is to:\n",
    "    - eliminate redundant data\n",
    "    - reduce complexity of data, making it easier to manage the data and make change\n",
    "    - ensure logical data dependencies\n",
    "- How is database normalization achieved?\n",
    "  - By fulfilling five normal forms. Each normal form represents an increasingly stringent set of rules. Usually fulfilling the first three normal forms is sufficient.\n",
    "  - Ref: https://www.1keydata.com/database-normalization/first-normal-form-1nf.php\n",
    "- First Normal Form  (1NF):\n",
    "  1. if there are no repeating groups.\n",
    "  2. all values are atomic, meaning they are the smallest meaningful value\n",
    "- Second Normal Form  (2NF):\n",
    "  1. the table is in first normal form\n",
    "  2. each non-key field is functionally dependent on the entire primary key\n",
    "- Third Normal Form (3NF):\n",
    "  1. the table is in second normal form\n",
    "  2. there are no transitive dependencies\n",
    "- Ref: https://arctype.com/blog/2nf-3nf-normalization-example/\n",
    "\n",
    "- Problems with example1\n",
    "  - Repeating group of fields\n",
    "  - The project and time fields are not made up of atomic values\n",
    "  - Can't sort by last name\n",
    "  - Can't sort by time because field is type text\n",
    "  - Assumed relationship between project and time\n",
    "\n",
    "- Analysis of example2\n",
    "  - Can sort now!\n",
    "  - How can you add another project?\n",
    "\n",
    "\n",
    "- Analysis of example3 -- first normal form\n",
    "  - Can do groups by employeeid or projectnum\n",
    "  - Can sort by time\n",
    "  - Can sort by name\n",
    "\n",
    "- Analysis of example4\n",
    "  - How would you update the project title for a given project? Have to edit in many places\n",
    "  - Can you add a project without an employeeid?\n",
    "  - How can you delete a project?\n",
    "\n",
    "- Analysis of example5\n",
    "  - second normal form\n",
    "\n",
    "- Analysis of example 6\n",
    "  - Phone number, which is a non-key field, has transitive dependency on another non-key field.\n",
    "\n",
    "- Analysis of example7\n",
    "  - Removed transitive dependency"
   ]
  },
  {
   "cell_type": "code",
   "execution_count": null,
   "outputs": [],
   "source": [],
   "metadata": {
    "collapsed": false,
    "pycharm": {
     "name": "#%%\n"
    }
   }
  }
 ],
 "metadata": {
  "kernelspec": {
   "display_name": "Python 3 (ipykernel)",
   "language": "python",
   "name": "python3"
  },
  "language_info": {
   "codemirror_mode": {
    "name": "ipython",
    "version": 3
   },
   "file_extension": ".py",
   "mimetype": "text/x-python",
   "name": "python",
   "nbconvert_exporter": "python",
   "pygments_lexer": "ipython3",
   "version": "3.9.7"
  }
 },
 "nbformat": 4,
 "nbformat_minor": 4
}