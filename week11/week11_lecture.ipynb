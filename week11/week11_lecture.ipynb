{
 "cells": [
  {
   "cell_type": "markdown",
   "metadata": {},
   "source": [
    "# Week11. Database"
   ]
  },
  {
   "cell_type": "markdown",
   "metadata": {},
   "source": [
    "# Recap\n",
    "## CREATE TABLE command\n",
    "```sqlite\n",
    "-- Comment\n",
    "CREATE TABLE students ( -- inline comment\n",
    "    student_id INTEGER NOT NULL PRIMARY KEY, -- student_id is unique\n",
    "    last_name TEXT NOT NULL, -- NOT NULL request to set last_name during insert or updates\n",
    "    first_name TEXT NOT NULL,\n",
    "    username TEXT NOT NULL,\n",
    "    exam1 REAL,\n",
    "    exam2 REAL,\n",
    "    exam3 REAL,\n",
    "    UNIQUE (username) -- reinforce uniqueness of usernames and avoid duplicates entires\n",
    ");\n",
    "```\n",
    "## DROP TABLE command\n",
    "```sqlite\n",
    "-- remove table\n",
    "DROP TABLE students;\n",
    "```\n",
    "## INSERT command\n",
    "```sqlite\n",
    "INSERT INTO students ('student_id', 'first_name', 'last_name', 'username', 'exam1', 'exam2','exam3')\n",
    "VALUES (101, 'John', 'Smith', 'johns', 90, 91, 92);\n",
    "\n",
    "-- Unspecified field are set to NULL\n",
    "INSERT INTO students ('student_id', 'first_name', 'last_name', 'username', 'exam1')\n",
    "VALUES (102, 'Bob', 'Smith', 'bobs', 85);\n",
    "\n",
    "-- In sqlite primary key is autoincremented\n",
    "INSERT INTO students ('last_name', 'first_name', 'username', 'exam1')\n",
    "VALUES ('Samanta', 'Smith', 'samantas', 95);\n",
    "\n",
    "-- Insert multiple records\n",
    "INSERT INTO students ('last_name', 'first_name', 'username', 'exam1', 'exam2','exam3')\n",
    "VALUES\n",
    "('Larson', 'Melissa', 'larsonmeli', 24, 89, 31),\n",
    "('Novak', 'Melissa', 'novakmeli', 77, 3, 38),\n",
    "('Sawyer', 'Wendy', 'sawyerwend', 81, 59, 30),\n",
    "('Sawyer', 'Marcus', 'schultzmarc', 59, 29, 67)\n",
    "```\n",
    "\n",
    "| student_id | first_name | last_name | username    | exam1 | exam2 | exam3 |\n",
    "|------------|------------|-----------|-------------|-------|-------|-------|\n",
    "| 101        | Smith      | John      | johns       | 90.0  | 91.0  | 92.0  |\n",
    "| 102        | Smith      | Bob       | bobs        | 85.0  | NULL  | NULL  |\n",
    "| 103        | Samanta    | Smith     | samantas    | 95.0  | NULL  | NULL  |\n",
    "| 104        | Larson     | Melissa   | larsonmeli  | 24.0  | 89.0  | 31.0  |\n",
    "| 105        | Novak      | Melissa   | novakmeli   | 77.0  | 3.0   | 38.0  |\n",
    "| 106        | Sawyer     | Wendy     | sawyerwend  | 81.0  | 59.0  | 30.0  |\n",
    "| 107        | Sawyer     | Marcus    | schultzmarc | 59.0  | 29.0  | 67.0  |\n",
    "\n",
    "\n",
    "## SELECT command\n",
    "\n",
    "```sqlite\n",
    "SELECT * FROM students;\n",
    "SELECT username, exam1 FROM students;\n",
    "SELECT username, exam1 FROM students ORDER BY username;\n",
    "SELECT username, exam1 FROM students ORDER BY username LIMIT 20;\n",
    "SELECT username, exam1, exam2 FROM students ORDER BY exam1 ASC LIMIT 10;\n",
    "SELECT username, exam1 FROM students ORDER BY exam1 DESC LIMIT 10;\n",
    "SELECT username, exam1, exam2 FROM students ORDER BY exam1 ASC LIMIT 10,20;\n",
    "\n",
    "-- Calculating Average\n",
    "SELECT avg(exam1) as `Exam1 Average`, avg(exam2), avg(exam3) FROM students;\n",
    "\n",
    "-- Find all exam1 grades greater than 80\n",
    "SELECT username, exam1 FROM students WHERE exam1 > 80;\n",
    "\n",
    "-- Find all exam1 between\n",
    "SELECT username, exam1 FROM students WHERE exam1 BETWEEN 80 and 90;\n",
    "\n",
    "-- Get count of exam1 greater than 80\n",
    "SELECT count(exam1) FROM students WHERE exam1 > 80;\n",
    "\n",
    "-- Find students with same first name\n",
    "SELECT * FROM students WHERE first_name == 'Melissa'\n",
    "\n",
    "-- Find students IN list\n",
    "SELECT * FROM students WHERE first_name in ('Melissa', 'Stephanie', 'Alex');\n",
    "\n",
    "-- Find students LIKE %\n",
    "SELECT * FROM students WHERE first_name LIKE 'Melis%';\n",
    "\n",
    "-- Find students LIKE  %%\n",
    "SELECT * FROM students WHERE first_name LIKE '%lis%';\n",
    "\n",
    "-- Find Histogram exam1 grades using GROUP BY\n",
    "SELECT exam1, count(exam1) as c  FROM students GROUP BY exam1 ORDER BY c DESC;\n",
    "\n",
    "-- Group by\n",
    "SELECT first_name, count(first_name) as name_count  FROM students\n",
    "GROUP BY first_name ORDER BY name_count DESC;\n",
    "```"
   ]
  },
  {
   "cell_type": "markdown",
   "metadata": {},
   "source": [
    "# Week11. Relational Database (SQL)"
   ]
  },
  {
   "cell_type": "markdown",
   "metadata": {},
   "source": [
    "## sqlite3 module\n",
    "\n",
    "sqlite3 - python module to handle SQLite3 file databases."
   ]
  },
  {
   "cell_type": "code",
   "execution_count": 1,
   "metadata": {
    "pycharm": {
     "name": "#%%\n"
    }
   },
   "outputs": [],
   "source": [
    "import sqlite3\n",
    "\n",
    "# open db file\n",
    "conn = sqlite3.connect(\"students_py.db\")\n",
    "# get cursor\n",
    "cur = conn.cursor()"
   ]
  },
  {
   "cell_type": "code",
   "execution_count": 2,
   "metadata": {
    "pycharm": {
     "name": "#%%\n"
    }
   },
   "outputs": [
    {
     "name": "stdout",
     "output_type": "stream",
     "text": [
      "output from DROP: []\n",
      "output from CREATE: []\n"
     ]
    }
   ],
   "source": [
    "# executing sql commands\n",
    "# single command\n",
    "cur.execute(\"DROP TABLE IF EXISTS students\")\n",
    "# get results\n",
    "results = cur.fetchall()\n",
    "print(\"output from DROP:\", results)\n",
    "\n",
    "# another single command\n",
    "cur.execute(\"\"\"\n",
    "CREATE TABLE students ( -- inline comment\n",
    "    student_id INTEGER NOT NULL PRIMARY KEY, -- student_id is unique\n",
    "    last_name TEXT NOT NULL, -- NOT NULL request to set last_name during insert or updates\n",
    "    first_name TEXT NOT NULL,\n",
    "    username TEXT NOT NULL,\n",
    "    exam1 REAL,\n",
    "    exam2 REAL,\n",
    "    exam3 REAL,\n",
    "    UNIQUE (username) -- reinforce uniqueness of usernames and avoid duplicates entires\n",
    ");\n",
    "\"\"\")\n",
    "# get results\n",
    "results = cur.fetchall()\n",
    "print(\"output from CREATE:\", results)"
   ]
  },
  {
   "cell_type": "code",
   "execution_count": 3,
   "metadata": {
    "pycharm": {
     "name": "#%%\n"
    }
   },
   "outputs": [
    {
     "name": "stdout",
     "output_type": "stream",
     "text": [
      "output from INSERT: []\n"
     ]
    }
   ],
   "source": [
    "# another single command\n",
    "cur.execute(\"\"\"\n",
    "    INSERT INTO students ('student_id', 'first_name', 'last_name', 'username', 'exam1', 'exam2','exam3')\n",
    "    VALUES (101, 'John', 'Smith', 'johns', 90, 91, 92);\"\"\")\n",
    "# get results\n",
    "results = cur.fetchall()\n",
    "print(\"output from INSERT:\", results)"
   ]
  },
  {
   "cell_type": "code",
   "execution_count": 4,
   "metadata": {
    "pycharm": {
     "name": "#%%\n"
    }
   },
   "outputs": [
    {
     "data": {
      "text/plain": [
       "<sqlite3.Cursor at 0x17b60161490>"
      ]
     },
     "execution_count": 4,
     "metadata": {},
     "output_type": "execute_result"
    }
   ],
   "source": [
    "# another single command\n",
    "cur.execute(\"\"\"\n",
    "    INSERT INTO students ('student_id', 'first_name', 'last_name', 'username', 'exam1')\n",
    "    VALUES (?,?,?,?,?)\"\"\", (102, 'Bob', 'Smith', 'bobs', 85))\n",
    "cur.execute(\"\"\"\n",
    "    INSERT INTO students ('last_name', 'first_name', 'username', 'exam1')\n",
    "    VALUES (?,?,?,?)\"\"\", ('Samanta', 'Smith', 'samantas', 95))"
   ]
  },
  {
   "cell_type": "code",
   "execution_count": 5,
   "metadata": {
    "pycharm": {
     "name": "#%%\n"
    }
   },
   "outputs": [
    {
     "data": {
      "text/plain": [
       "<sqlite3.Cursor at 0x17b60161490>"
      ]
     },
     "execution_count": 5,
     "metadata": {},
     "output_type": "execute_result"
    }
   ],
   "source": [
    "# executemany command - same command with different params\n",
    "rows_to_insert = (\n",
    "    ('Larson', 'Melissa', 'larsonmeli', 24, 89, 31),\n",
    "    ('Novak', 'Melissa', 'novakmeli', 77, 3, 38),\n",
    "    ('Sawyer', 'Wendy', 'sawyerwend', 81, 59, 30),\n",
    "    ('Sawyer', 'Marcus', 'schultzmarc', 59, 29, 67))\n",
    "\n",
    "cur.executemany(\"\"\"\n",
    "    INSERT INTO students ('last_name', 'first_name', 'username', 'exam1', 'exam2','exam3')\n",
    "    VALUES (?,?,?,?,?,?);\"\"\", rows_to_insert)"
   ]
  },
  {
   "cell_type": "code",
   "execution_count": 6,
   "metadata": {
    "pycharm": {
     "name": "#%%\n"
    }
   },
   "outputs": [
    {
     "data": {
      "text/plain": [
       "<sqlite3.Cursor at 0x17b60161490>"
      ]
     },
     "execution_count": 6,
     "metadata": {},
     "output_type": "execute_result"
    }
   ],
   "source": [
    "cur.executescript(\"\"\"\n",
    "INSERT INTO students ('last_name', 'first_name', 'username', 'exam1', 'exam2', 'exam3')\n",
    "VALUES ('Parsons','Cassie','parsonscass',61,62,65);\n",
    "\n",
    "INSERT INTO students ('last_name', 'first_name', 'username', 'exam1', 'exam2', 'exam3')\n",
    "VALUES ('Mcclain','Glenn','mcclainglen',85,98,52);\n",
    "\n",
    "INSERT INTO students ('last_name', 'first_name', 'username', 'exam1', 'exam2', 'exam3')\n",
    "VALUES ('Oliver','Janice','oliverjani',72,47,34);\n",
    "\"\"\")"
   ]
  },
  {
   "cell_type": "code",
   "execution_count": 7,
   "metadata": {
    "pycharm": {
     "name": "#%%\n"
    }
   },
   "outputs": [
    {
     "name": "stdout",
     "output_type": "stream",
     "text": [
      "[(101, 'Smith', 'John', 'johns', 90.0, 91.0, 92.0),\n",
      " (102, 'Smith', 'Bob', 'bobs', 85.0, None, None),\n",
      " (103, 'Samanta', 'Smith', 'samantas', 95.0, None, None),\n",
      " (104, 'Larson', 'Melissa', 'larsonmeli', 24.0, 89.0, 31.0),\n",
      " (105, 'Novak', 'Melissa', 'novakmeli', 77.0, 3.0, 38.0),\n",
      " (106, 'Sawyer', 'Wendy', 'sawyerwend', 81.0, 59.0, 30.0),\n",
      " (107, 'Sawyer', 'Marcus', 'schultzmarc', 59.0, 29.0, 67.0),\n",
      " (108, 'Parsons', 'Cassie', 'parsonscass', 61.0, 62.0, 65.0),\n",
      " (109, 'Mcclain', 'Glenn', 'mcclainglen', 85.0, 98.0, 52.0),\n",
      " (110, 'Oliver', 'Janice', 'oliverjani', 72.0, 47.0, 34.0)]\n"
     ]
    }
   ],
   "source": [
    "from pprint import pprint\n",
    "cur.execute(\"SELECT * FROM students;\")\n",
    "results = cur.fetchall()\n",
    "pprint(results)"
   ]
  },
  {
   "cell_type": "code",
   "execution_count": 96,
   "metadata": {
    "pycharm": {
     "name": "#%%\n"
    }
   },
   "outputs": [
    {
     "name": "stdout",
     "output_type": "stream",
     "text": [
      "None\n"
     ]
    }
   ],
   "source": [
    "print(conn.row_factory)"
   ]
  },
  {
   "cell_type": "code",
   "execution_count": 8,
   "metadata": {
    "pycharm": {
     "name": "#%%\n"
    }
   },
   "outputs": [
    {
     "name": "stdout",
     "output_type": "stream",
     "text": [
      "[{'exam1': 85.0,\n",
      "  'exam2': None,\n",
      "  'exam3': None,\n",
      "  'first_name': 'Bob',\n",
      "  'last_name': 'Smith',\n",
      "  'student_id': 102,\n",
      "  'username': 'bobs'},\n",
      " {'exam1': 95.0,\n",
      "  'exam2': None,\n",
      "  'exam3': None,\n",
      "  'first_name': 'Smith',\n",
      "  'last_name': 'Samanta',\n",
      "  'student_id': 103,\n",
      "  'username': 'samantas'}]\n"
     ]
    }
   ],
   "source": [
    "# want a dict?\n",
    "conn2 = sqlite3.connect(\"students_py.db\")\n",
    "def dict_factory(cursor, row):\n",
    "    d = {}\n",
    "    for idx, col in enumerate(cursor.description):\n",
    "        d[col[0]] = row[idx]\n",
    "    return d\n",
    "\n",
    "conn2.row_factory = dict_factory\n",
    "\n",
    "cur2 = conn2.cursor()\n",
    "cur2.execute(\"SELECT * FROM students LIMIT ?,?\", (1,2))\n",
    "results = cur2.fetchall()\n",
    "pprint(results)\n",
    "conn2.close()"
   ]
  },
  {
   "cell_type": "code",
   "execution_count": 9,
   "metadata": {
    "pycharm": {
     "name": "#%%\n"
    }
   },
   "outputs": [
    {
     "data": {
      "text/html": [
       "<div>\n",
       "<style scoped>\n",
       "    .dataframe tbody tr th:only-of-type {\n",
       "        vertical-align: middle;\n",
       "    }\n",
       "\n",
       "    .dataframe tbody tr th {\n",
       "        vertical-align: top;\n",
       "    }\n",
       "\n",
       "    .dataframe thead th {\n",
       "        text-align: right;\n",
       "    }\n",
       "</style>\n",
       "<table border=\"1\" class=\"dataframe\">\n",
       "  <thead>\n",
       "    <tr style=\"text-align: right;\">\n",
       "      <th></th>\n",
       "      <th>username</th>\n",
       "      <th>exam1</th>\n",
       "    </tr>\n",
       "  </thead>\n",
       "  <tbody>\n",
       "    <tr>\n",
       "      <th>0</th>\n",
       "      <td>johns</td>\n",
       "      <td>90.0</td>\n",
       "    </tr>\n",
       "    <tr>\n",
       "      <th>1</th>\n",
       "      <td>bobs</td>\n",
       "      <td>85.0</td>\n",
       "    </tr>\n",
       "    <tr>\n",
       "      <th>2</th>\n",
       "      <td>sawyerwend</td>\n",
       "      <td>81.0</td>\n",
       "    </tr>\n",
       "    <tr>\n",
       "      <th>3</th>\n",
       "      <td>mcclainglen</td>\n",
       "      <td>85.0</td>\n",
       "    </tr>\n",
       "  </tbody>\n",
       "</table>\n",
       "</div>"
      ],
      "text/plain": [
       "      username  exam1\n",
       "0        johns   90.0\n",
       "1         bobs   85.0\n",
       "2   sawyerwend   81.0\n",
       "3  mcclainglen   85.0"
      ]
     },
     "metadata": {},
     "output_type": "display_data"
    }
   ],
   "source": [
    "import pandas as pd\n",
    "sql_statement = \"SELECT username, exam1 FROM students WHERE exam1 BETWEEN 80 and 90;\"\n",
    "df = pd.read_sql_query(sql_statement, conn)\n",
    "display(df)\n"
   ]
  },
  {
   "cell_type": "code",
   "execution_count": 10,
   "metadata": {
    "pycharm": {
     "name": "#%%\n"
    }
   },
   "outputs": [
    {
     "data": {
      "text/html": [
       "<div>\n",
       "<style scoped>\n",
       "    .dataframe tbody tr th:only-of-type {\n",
       "        vertical-align: middle;\n",
       "    }\n",
       "\n",
       "    .dataframe tbody tr th {\n",
       "        vertical-align: top;\n",
       "    }\n",
       "\n",
       "    .dataframe thead th {\n",
       "        text-align: right;\n",
       "    }\n",
       "</style>\n",
       "<table border=\"1\" class=\"dataframe\">\n",
       "  <thead>\n",
       "    <tr style=\"text-align: right;\">\n",
       "      <th></th>\n",
       "      <th>username</th>\n",
       "      <th>exam1</th>\n",
       "    </tr>\n",
       "  </thead>\n",
       "  <tbody>\n",
       "    <tr>\n",
       "      <th>0</th>\n",
       "      <td>johns</td>\n",
       "      <td>90.0</td>\n",
       "    </tr>\n",
       "    <tr>\n",
       "      <th>1</th>\n",
       "      <td>bobs</td>\n",
       "      <td>85.0</td>\n",
       "    </tr>\n",
       "    <tr>\n",
       "      <th>2</th>\n",
       "      <td>sawyerwend</td>\n",
       "      <td>81.0</td>\n",
       "    </tr>\n",
       "    <tr>\n",
       "      <th>3</th>\n",
       "      <td>mcclainglen</td>\n",
       "      <td>85.0</td>\n",
       "    </tr>\n",
       "  </tbody>\n",
       "</table>\n",
       "</div>"
      ],
      "text/plain": [
       "      username  exam1\n",
       "0        johns   90.0\n",
       "1         bobs   85.0\n",
       "2   sawyerwend   81.0\n",
       "3  mcclainglen   85.0"
      ]
     },
     "metadata": {},
     "output_type": "display_data"
    }
   ],
   "source": [
    "between = (80, 90)\n",
    "\n",
    "sql_statement = f\"SELECT username, exam1 FROM students WHERE exam1 BETWEEN {between[0]} and {between[1]};\"\n",
    "df = pd.read_sql_query(sql_statement, conn)\n",
    "display(df)"
   ]
  },
  {
   "cell_type": "code",
   "execution_count": 11,
   "metadata": {
    "pycharm": {
     "name": "#%%\n"
    }
   },
   "outputs": [
    {
     "data": {
      "text/html": [
       "<div>\n",
       "<style scoped>\n",
       "    .dataframe tbody tr th:only-of-type {\n",
       "        vertical-align: middle;\n",
       "    }\n",
       "\n",
       "    .dataframe tbody tr th {\n",
       "        vertical-align: top;\n",
       "    }\n",
       "\n",
       "    .dataframe thead th {\n",
       "        text-align: right;\n",
       "    }\n",
       "</style>\n",
       "<table border=\"1\" class=\"dataframe\">\n",
       "  <thead>\n",
       "    <tr style=\"text-align: right;\">\n",
       "      <th></th>\n",
       "      <th>username</th>\n",
       "      <th>exam1</th>\n",
       "    </tr>\n",
       "  </thead>\n",
       "  <tbody>\n",
       "    <tr>\n",
       "      <th>0</th>\n",
       "      <td>johns</td>\n",
       "      <td>90.0</td>\n",
       "    </tr>\n",
       "    <tr>\n",
       "      <th>1</th>\n",
       "      <td>bobs</td>\n",
       "      <td>85.0</td>\n",
       "    </tr>\n",
       "    <tr>\n",
       "      <th>2</th>\n",
       "      <td>sawyerwend</td>\n",
       "      <td>81.0</td>\n",
       "    </tr>\n",
       "    <tr>\n",
       "      <th>3</th>\n",
       "      <td>mcclainglen</td>\n",
       "      <td>85.0</td>\n",
       "    </tr>\n",
       "  </tbody>\n",
       "</table>\n",
       "</div>"
      ],
      "text/plain": [
       "      username  exam1\n",
       "0        johns   90.0\n",
       "1         bobs   85.0\n",
       "2   sawyerwend   81.0\n",
       "3  mcclainglen   85.0"
      ]
     },
     "metadata": {},
     "output_type": "display_data"
    }
   ],
   "source": [
    "# prefered\n",
    "sql_statement = f\"SELECT username, exam1 FROM students WHERE exam1 BETWEEN ? and ?\"\n",
    "df = pd.read_sql_query(sql_statement, conn, params=between)\n",
    "display(df)"
   ]
  },
  {
   "cell_type": "code",
   "execution_count": 12,
   "metadata": {
    "pycharm": {
     "name": "#%%\n"
    }
   },
   "outputs": [
    {
     "name": "stdout",
     "output_type": "stream",
     "text": [
      "[('johns', 90.0), ('bobs', 85.0), ('sawyerwend', 81.0), ('mcclainglen', 85.0)]\n"
     ]
    }
   ],
   "source": [
    "cur.execute(sql_statement, between)\n",
    "pprint(cur.fetchall())"
   ]
  },
  {
   "cell_type": "markdown",
   "metadata": {
    "pycharm": {
     "name": "#%% md\n"
    }
   },
   "source": [
    "## Database Normalization\n",
    "\n",
    "- Why use a database?\n",
    "  - Ref: https://www.bbc.co.uk/bitesize/guides/z8yg87h/revision/4\n",
    "  - Data is stored efficiently; saves space\n",
    "  - Because data is stored efficiently, you can access it faster; easy to search\n",
    "  - Because data is stored efficiently, you can easily update and remove data\n",
    "  - Easily sort and group data\n",
    "- What is database normalization?\n",
    "  - Ref: https://www.complexsql.com/database-normalization/\n",
    "  - Ref: http://www.databasedev.co.uk/1norm_form.html\n",
    "  - The purpose of database normalization is to:\n",
    "    - eliminate redundant data\n",
    "    - reduce complexity of data, making it easier to manage the data and make change\n",
    "    - ensure logical data dependencies\n",
    "- How is database normalization achieved?\n",
    "  - By fulfilling five normal forms. Each normal form represents an increasingly stringent set of rules. Usually fulfilling the first three normal forms is sufficient.\n",
    "  - Ref: https://www.1keydata.com/database-normalization/first-normal-form-1nf.php\n",
    "\n",
    "\n",
    "- First Normal Form  (1NF):\n",
    "  1. if there are no repeating groups.\n",
    "  2. all values are atomic, meaning they are the smallest meaningful value\n",
    "\n",
    "- Second Normal Form  (2NF):\n",
    "  1. the table is in first normal form\n",
    "  2. each non-key field is functionally dependent on the entire primary key\n",
    "\n",
    "- Third Normal Form (3NF):\n",
    "  1. the table is in second normal form\n",
    "  2. there are no transitive dependencies\n",
    "\n",
    "- Ref: https://arctype.com/blog/2nf-3nf-normalization-example/\n"
   ]
  },
  {
   "cell_type": "markdown",
   "metadata": {
    "pycharm": {
     "name": "#%% md\n"
    }
   },
   "source": [
    "## SQL Examples\n",
    "## Example1"
   ]
  },
  {
   "cell_type": "code",
   "execution_count": 15,
   "metadata": {
    "pycharm": {
     "name": "#%%\n"
    }
   },
   "outputs": [
    {
     "data": {
      "text/html": [
       "<div>\n",
       "<style scoped>\n",
       "    .dataframe tbody tr th:only-of-type {\n",
       "        vertical-align: middle;\n",
       "    }\n",
       "\n",
       "    .dataframe tbody tr th {\n",
       "        vertical-align: top;\n",
       "    }\n",
       "\n",
       "    .dataframe thead th {\n",
       "        text-align: right;\n",
       "    }\n",
       "</style>\n",
       "<table border=\"1\" class=\"dataframe\">\n",
       "  <thead>\n",
       "    <tr style=\"text-align: right;\">\n",
       "      <th></th>\n",
       "      <th>EmployeeID</th>\n",
       "      <th>Name</th>\n",
       "      <th>Project</th>\n",
       "      <th>Time</th>\n",
       "    </tr>\n",
       "  </thead>\n",
       "  <tbody>\n",
       "    <tr>\n",
       "      <th>0</th>\n",
       "      <td>EN1-26</td>\n",
       "      <td>Sean O'Brien</td>\n",
       "      <td>30-452-T3, 30-457-T3, 32-244-T3</td>\n",
       "      <td>0.25, 0.40, 0.30</td>\n",
       "    </tr>\n",
       "    <tr>\n",
       "      <th>1</th>\n",
       "      <td>EN1-33</td>\n",
       "      <td>Amy Guya</td>\n",
       "      <td>30-452-T3, 30-382-TC, 32-244-T3</td>\n",
       "      <td>0.05, 0.35, 0.60</td>\n",
       "    </tr>\n",
       "    <tr>\n",
       "      <th>2</th>\n",
       "      <td>EN1-35</td>\n",
       "      <td>Steven Baranco</td>\n",
       "      <td>30-452-T3, 31-238-TC</td>\n",
       "      <td>0.15, 0.80</td>\n",
       "    </tr>\n",
       "    <tr>\n",
       "      <th>3</th>\n",
       "      <td>EN1-36</td>\n",
       "      <td>Elizabeth Roslyn</td>\n",
       "      <td>35-152-TC</td>\n",
       "      <td>0.90</td>\n",
       "    </tr>\n",
       "    <tr>\n",
       "      <th>4</th>\n",
       "      <td>EN1-38</td>\n",
       "      <td>Carol Schaaf</td>\n",
       "      <td>36-272-TC</td>\n",
       "      <td>0.75</td>\n",
       "    </tr>\n",
       "    <tr>\n",
       "      <th>5</th>\n",
       "      <td>EN1-40</td>\n",
       "      <td>Alexandra Wing</td>\n",
       "      <td>31-238-TC, 31-241-TC</td>\n",
       "      <td>0.20, 0.70</td>\n",
       "    </tr>\n",
       "  </tbody>\n",
       "</table>\n",
       "</div>"
      ],
      "text/plain": [
       "  EmployeeID              Name                          Project  \\\n",
       "0     EN1-26      Sean O'Brien  30-452-T3, 30-457-T3, 32-244-T3   \n",
       "1     EN1-33          Amy Guya  30-452-T3, 30-382-TC, 32-244-T3   \n",
       "2     EN1-35    Steven Baranco             30-452-T3, 31-238-TC   \n",
       "3     EN1-36  Elizabeth Roslyn                        35-152-TC   \n",
       "4     EN1-38      Carol Schaaf                        36-272-TC   \n",
       "5     EN1-40    Alexandra Wing             31-238-TC, 31-241-TC   \n",
       "\n",
       "               Time  \n",
       "0  0.25, 0.40, 0.30  \n",
       "1  0.05, 0.35, 0.60  \n",
       "2        0.15, 0.80  \n",
       "3              0.90  \n",
       "4              0.75  \n",
       "5        0.20, 0.70  "
      ]
     },
     "metadata": {},
     "output_type": "display_data"
    }
   ],
   "source": [
    "import pandas as pd\n",
    "import sqlite3\n",
    "# open db file\n",
    "conn = sqlite3.connect(\"example1.db\")\n",
    "# get cursor\n",
    "cur = conn.cursor()\n",
    "# execute single command\n",
    "cur.execute(\"\"\"\n",
    "    CREATE TABLE [EMPLOYEES_PROJECTS_TIME] (\n",
    "        [EmployeeID] TEXT  NOT NULL PRIMARY KEY,\n",
    "        [Name] TEXT NOT NULL,\n",
    "        [Project] TEXT NOT NULL,\n",
    "        [Time] TEXT NOT NULL\n",
    "    );\"\"\")\n",
    "# execute several commands\n",
    "cur.executescript(\"\"\"\n",
    "    INSERT INTO EMPLOYEES_PROJECTS_TIME VALUES('EN1-26', \"Sean O'Brien\", \"30-452-T3, 30-457-T3, 32-244-T3\", \"0.25, 0.40, 0.30\");\n",
    "    INSERT INTO EMPLOYEES_PROJECTS_TIME VALUES('EN1-33', \"Amy Guya\", \"30-452-T3, 30-382-TC, 32-244-T3\", \"0.05, 0.35, 0.60\");\n",
    "    INSERT INTO EMPLOYEES_PROJECTS_TIME VALUES('EN1-35', \"Steven Baranco\", \"30-452-T3, 31-238-TC\", \"0.15, 0.80\");\n",
    "    INSERT INTO EMPLOYEES_PROJECTS_TIME VALUES('EN1-36', \"Elizabeth Roslyn\", \"35-152-TC\", \"0.90\");\n",
    "    INSERT INTO EMPLOYEES_PROJECTS_TIME VALUES('EN1-38', \"Carol Schaaf\", \"36-272-TC\", \"0.75\");\n",
    "    INSERT INTO EMPLOYEES_PROJECTS_TIME VALUES('EN1-40', \"Alexandra Wing\", \"31-238-TC, 31-241-TC\", \"0.20, 0.70\");\n",
    "    \"\"\")\n",
    "\n",
    "sql_statement = \"select * FROM EMPLOYEES_PROJECTS_TIME;\"\n",
    "df = pd.read_sql_query(sql_statement, conn)\n",
    "display(df)"
   ]
  },
  {
   "cell_type": "code",
   "execution_count": 14,
   "metadata": {},
   "outputs": [],
   "source": [
    "#conn.close()"
   ]
  },
  {
   "cell_type": "markdown",
   "metadata": {},
   "source": [
    "- Problems with example1\n",
    "  - Repeating group of fields\n",
    "  - The project and time fields are not made up of atomic values\n",
    "  - Can't sort by last name\n",
    "  - Can't sort by time because field is type text\n",
    "  - Assumed relationship between project and time\n",
    "\n",
    "## Example2"
   ]
  },
  {
   "cell_type": "code",
   "execution_count": 16,
   "metadata": {
    "pycharm": {
     "name": "#%%\n"
    }
   },
   "outputs": [
    {
     "data": {
      "text/html": [
       "<div>\n",
       "<style scoped>\n",
       "    .dataframe tbody tr th:only-of-type {\n",
       "        vertical-align: middle;\n",
       "    }\n",
       "\n",
       "    .dataframe tbody tr th {\n",
       "        vertical-align: top;\n",
       "    }\n",
       "\n",
       "    .dataframe thead th {\n",
       "        text-align: right;\n",
       "    }\n",
       "</style>\n",
       "<table border=\"1\" class=\"dataframe\">\n",
       "  <thead>\n",
       "    <tr style=\"text-align: right;\">\n",
       "      <th></th>\n",
       "      <th>EmployeeID</th>\n",
       "      <th>Last_Name</th>\n",
       "      <th>First_Name</th>\n",
       "      <th>Project1</th>\n",
       "      <th>Time1</th>\n",
       "      <th>Project2</th>\n",
       "      <th>Time2</th>\n",
       "      <th>Project3</th>\n",
       "      <th>Time3</th>\n",
       "    </tr>\n",
       "  </thead>\n",
       "  <tbody>\n",
       "    <tr>\n",
       "      <th>0</th>\n",
       "      <td>EN1-26</td>\n",
       "      <td>O'Brien</td>\n",
       "      <td>Sean</td>\n",
       "      <td>30-452-T3</td>\n",
       "      <td>0.25</td>\n",
       "      <td>30-457-T3</td>\n",
       "      <td>0.40</td>\n",
       "      <td>32-244-T3</td>\n",
       "      <td>0.3</td>\n",
       "    </tr>\n",
       "    <tr>\n",
       "      <th>1</th>\n",
       "      <td>EN1-33</td>\n",
       "      <td>Guya</td>\n",
       "      <td>Amy</td>\n",
       "      <td>30-452-T3</td>\n",
       "      <td>0.05</td>\n",
       "      <td>30-382-TC</td>\n",
       "      <td>0.35</td>\n",
       "      <td>32-244-T3</td>\n",
       "      <td>0.6</td>\n",
       "    </tr>\n",
       "    <tr>\n",
       "      <th>2</th>\n",
       "      <td>EN1-35</td>\n",
       "      <td>Baranco</td>\n",
       "      <td>Steven</td>\n",
       "      <td>30-452-T3</td>\n",
       "      <td>0.15</td>\n",
       "      <td>31-238-TC</td>\n",
       "      <td>0.80</td>\n",
       "      <td>None</td>\n",
       "      <td>NaN</td>\n",
       "    </tr>\n",
       "    <tr>\n",
       "      <th>3</th>\n",
       "      <td>EN1-36</td>\n",
       "      <td>Roslyn</td>\n",
       "      <td>Elizabeth</td>\n",
       "      <td>35-152-TC</td>\n",
       "      <td>0.90</td>\n",
       "      <td>None</td>\n",
       "      <td>NaN</td>\n",
       "      <td>None</td>\n",
       "      <td>NaN</td>\n",
       "    </tr>\n",
       "    <tr>\n",
       "      <th>4</th>\n",
       "      <td>EN1-38</td>\n",
       "      <td>Schaaf</td>\n",
       "      <td>Carol</td>\n",
       "      <td>36-272-TC</td>\n",
       "      <td>0.75</td>\n",
       "      <td>None</td>\n",
       "      <td>NaN</td>\n",
       "      <td>None</td>\n",
       "      <td>NaN</td>\n",
       "    </tr>\n",
       "    <tr>\n",
       "      <th>5</th>\n",
       "      <td>EN1-40</td>\n",
       "      <td>Wing</td>\n",
       "      <td>Alexandra</td>\n",
       "      <td>31-238-TC</td>\n",
       "      <td>0.20</td>\n",
       "      <td>31-241-TC</td>\n",
       "      <td>0.70</td>\n",
       "      <td>None</td>\n",
       "      <td>NaN</td>\n",
       "    </tr>\n",
       "  </tbody>\n",
       "</table>\n",
       "</div>"
      ],
      "text/plain": [
       "  EmployeeID Last_Name First_Name   Project1  Time1   Project2  Time2  \\\n",
       "0     EN1-26   O'Brien       Sean  30-452-T3   0.25  30-457-T3   0.40   \n",
       "1     EN1-33      Guya        Amy  30-452-T3   0.05  30-382-TC   0.35   \n",
       "2     EN1-35   Baranco     Steven  30-452-T3   0.15  31-238-TC   0.80   \n",
       "3     EN1-36    Roslyn  Elizabeth  35-152-TC   0.90       None    NaN   \n",
       "4     EN1-38    Schaaf      Carol  36-272-TC   0.75       None    NaN   \n",
       "5     EN1-40      Wing  Alexandra  31-238-TC   0.20  31-241-TC   0.70   \n",
       "\n",
       "    Project3  Time3  \n",
       "0  32-244-T3    0.3  \n",
       "1  32-244-T3    0.6  \n",
       "2       None    NaN  \n",
       "3       None    NaN  \n",
       "4       None    NaN  \n",
       "5       None    NaN  "
      ]
     },
     "metadata": {},
     "output_type": "display_data"
    }
   ],
   "source": [
    "cur.executescript(\"\"\"\n",
    "    DROP TABLE IF EXISTS  EMPLOYEES_PROJECTS_TIME;\n",
    "    CREATE TABLE [EMPLOYEES_PROJECTS_TIME] (\n",
    "        [EmployeeID] TEXT  NOT NULL PRIMARY KEY,\n",
    "        [Last_Name] TEXT NOT NULL,\n",
    "        [First_Name] TEXT NOT NULL,\n",
    "        [Project1] TEXT NULL,\n",
    "        [Time1] REAL  NULL,\n",
    "        [Project2] TEXT  NULL,\n",
    "        [Time2] REAL NULL,\n",
    "        [Project3] TEXT NULL,\n",
    "        [Time3] REAL NULL\n",
    "    );\n",
    "\n",
    "    INSERT INTO EMPLOYEES_PROJECTS_TIME VALUES('EN1-26', \"O'Brien\", \"Sean\", \"30-452-T3\", \"0.25\", \"30-457-T3\", \"0.40\", \"32-244-T3\", \"0.30\");\n",
    "    INSERT INTO EMPLOYEES_PROJECTS_TIME VALUES('EN1-33', \"Guya\", \"Amy\", \"30-452-T3\", \"0.05\", \"30-382-TC\", \"0.35\", \"32-244-T3\", \"0.60\");\n",
    "    INSERT INTO EMPLOYEES_PROJECTS_TIME VALUES('EN1-35', \"Baranco\", \"Steven\", \"30-452-T3\", \"0.15\", \"31-238-TC\", \"0.80\", NULL, NULL);\n",
    "    INSERT INTO EMPLOYEES_PROJECTS_TIME VALUES('EN1-36', \"Roslyn\", \"Elizabeth\", \"35-152-TC\", \"0.90\", NULL, NULL, NULL, NULL);\n",
    "    INSERT INTO EMPLOYEES_PROJECTS_TIME VALUES('EN1-38', \"Schaaf\", \"Carol\", \"36-272-TC\", \"0.75\", NULL, NULL, NULL, NULL);\n",
    "    INSERT INTO EMPLOYEES_PROJECTS_TIME VALUES('EN1-40', \"Wing\", \"Alexandra\", \"31-238-TC\", \"0.20\", \"31-241-TC\",  \"0.70\", NULL, NULL);\n",
    "    \"\"\")\n",
    "\n",
    "sql_statement = \"select * FROM EMPLOYEES_PROJECTS_TIME;\"\n",
    "df = pd.read_sql_query(sql_statement, conn)\n",
    "display(df)"
   ]
  },
  {
   "cell_type": "markdown",
   "metadata": {},
   "source": [
    "- Analysis of example2\n",
    "  - Can sort now!\n",
    "  - How can you add another project?\n",
    "\n",
    "## Example3"
   ]
  },
  {
   "cell_type": "code",
   "execution_count": 17,
   "metadata": {
    "pycharm": {
     "name": "#%%\n"
    }
   },
   "outputs": [
    {
     "name": "stdout",
     "output_type": "stream",
     "text": [
      "Table: EMPLOYEES\n"
     ]
    },
    {
     "data": {
      "text/html": [
       "<div>\n",
       "<style scoped>\n",
       "    .dataframe tbody tr th:only-of-type {\n",
       "        vertical-align: middle;\n",
       "    }\n",
       "\n",
       "    .dataframe tbody tr th {\n",
       "        vertical-align: top;\n",
       "    }\n",
       "\n",
       "    .dataframe thead th {\n",
       "        text-align: right;\n",
       "    }\n",
       "</style>\n",
       "<table border=\"1\" class=\"dataframe\">\n",
       "  <thead>\n",
       "    <tr style=\"text-align: right;\">\n",
       "      <th></th>\n",
       "      <th>EmployeeID</th>\n",
       "      <th>Last_Name</th>\n",
       "      <th>First_Name</th>\n",
       "    </tr>\n",
       "  </thead>\n",
       "  <tbody>\n",
       "    <tr>\n",
       "      <th>0</th>\n",
       "      <td>EN1-26</td>\n",
       "      <td>O'Brien</td>\n",
       "      <td>Sean</td>\n",
       "    </tr>\n",
       "    <tr>\n",
       "      <th>1</th>\n",
       "      <td>EN1-33</td>\n",
       "      <td>Guya</td>\n",
       "      <td>Amy</td>\n",
       "    </tr>\n",
       "    <tr>\n",
       "      <th>2</th>\n",
       "      <td>EN1-35</td>\n",
       "      <td>Baranco</td>\n",
       "      <td>Steven</td>\n",
       "    </tr>\n",
       "    <tr>\n",
       "      <th>3</th>\n",
       "      <td>EN1-36</td>\n",
       "      <td>Roslyn</td>\n",
       "      <td>Elizabeth</td>\n",
       "    </tr>\n",
       "    <tr>\n",
       "      <th>4</th>\n",
       "      <td>EN1-38</td>\n",
       "      <td>Schaaf</td>\n",
       "      <td>Carol</td>\n",
       "    </tr>\n",
       "    <tr>\n",
       "      <th>5</th>\n",
       "      <td>EN1-40</td>\n",
       "      <td>Wing</td>\n",
       "      <td>Alexandra</td>\n",
       "    </tr>\n",
       "  </tbody>\n",
       "</table>\n",
       "</div>"
      ],
      "text/plain": [
       "  EmployeeID Last_Name First_Name\n",
       "0     EN1-26   O'Brien       Sean\n",
       "1     EN1-33      Guya        Amy\n",
       "2     EN1-35   Baranco     Steven\n",
       "3     EN1-36    Roslyn  Elizabeth\n",
       "4     EN1-38    Schaaf      Carol\n",
       "5     EN1-40      Wing  Alexandra"
      ]
     },
     "metadata": {},
     "output_type": "display_data"
    },
    {
     "name": "stdout",
     "output_type": "stream",
     "text": [
      "Table: PROJECTS_EMPLOYEES_TIME\n"
     ]
    },
    {
     "data": {
      "text/html": [
       "<div>\n",
       "<style scoped>\n",
       "    .dataframe tbody tr th:only-of-type {\n",
       "        vertical-align: middle;\n",
       "    }\n",
       "\n",
       "    .dataframe tbody tr th {\n",
       "        vertical-align: top;\n",
       "    }\n",
       "\n",
       "    .dataframe thead th {\n",
       "        text-align: right;\n",
       "    }\n",
       "</style>\n",
       "<table border=\"1\" class=\"dataframe\">\n",
       "  <thead>\n",
       "    <tr style=\"text-align: right;\">\n",
       "      <th></th>\n",
       "      <th>ProjectNum</th>\n",
       "      <th>EmployeeID</th>\n",
       "      <th>Time</th>\n",
       "    </tr>\n",
       "  </thead>\n",
       "  <tbody>\n",
       "    <tr>\n",
       "      <th>0</th>\n",
       "      <td>30-328-TC</td>\n",
       "      <td>EN1-33</td>\n",
       "      <td>0.35</td>\n",
       "    </tr>\n",
       "    <tr>\n",
       "      <th>1</th>\n",
       "      <td>30-452-T3</td>\n",
       "      <td>EN1-26</td>\n",
       "      <td>0.25</td>\n",
       "    </tr>\n",
       "    <tr>\n",
       "      <th>2</th>\n",
       "      <td>30-452-T3</td>\n",
       "      <td>EN1-33</td>\n",
       "      <td>0.05</td>\n",
       "    </tr>\n",
       "    <tr>\n",
       "      <th>3</th>\n",
       "      <td>30-452-T3</td>\n",
       "      <td>EN1-35</td>\n",
       "      <td>0.15</td>\n",
       "    </tr>\n",
       "    <tr>\n",
       "      <th>4</th>\n",
       "      <td>31-238-TC</td>\n",
       "      <td>EN1-35</td>\n",
       "      <td>0.80</td>\n",
       "    </tr>\n",
       "    <tr>\n",
       "      <th>5</th>\n",
       "      <td>30-457-T3</td>\n",
       "      <td>EN1-26</td>\n",
       "      <td>0.40</td>\n",
       "    </tr>\n",
       "    <tr>\n",
       "      <th>6</th>\n",
       "      <td>31-238-TC</td>\n",
       "      <td>EN1-40</td>\n",
       "      <td>0.20</td>\n",
       "    </tr>\n",
       "    <tr>\n",
       "      <th>7</th>\n",
       "      <td>31-241-TC</td>\n",
       "      <td>EN1-40</td>\n",
       "      <td>0.70</td>\n",
       "    </tr>\n",
       "    <tr>\n",
       "      <th>8</th>\n",
       "      <td>32-244-T3</td>\n",
       "      <td>EN1-33</td>\n",
       "      <td>0.60</td>\n",
       "    </tr>\n",
       "    <tr>\n",
       "      <th>9</th>\n",
       "      <td>35-152-TC</td>\n",
       "      <td>EN1-36</td>\n",
       "      <td>0.90</td>\n",
       "    </tr>\n",
       "    <tr>\n",
       "      <th>10</th>\n",
       "      <td>36-272-TC</td>\n",
       "      <td>EN1-38</td>\n",
       "      <td>0.75</td>\n",
       "    </tr>\n",
       "  </tbody>\n",
       "</table>\n",
       "</div>"
      ],
      "text/plain": [
       "   ProjectNum EmployeeID  Time\n",
       "0   30-328-TC     EN1-33  0.35\n",
       "1   30-452-T3     EN1-26  0.25\n",
       "2   30-452-T3     EN1-33  0.05\n",
       "3   30-452-T3     EN1-35  0.15\n",
       "4   31-238-TC     EN1-35  0.80\n",
       "5   30-457-T3     EN1-26  0.40\n",
       "6   31-238-TC     EN1-40  0.20\n",
       "7   31-241-TC     EN1-40  0.70\n",
       "8   32-244-T3     EN1-33  0.60\n",
       "9   35-152-TC     EN1-36  0.90\n",
       "10  36-272-TC     EN1-38  0.75"
      ]
     },
     "metadata": {},
     "output_type": "display_data"
    }
   ],
   "source": [
    "cur.executescript(\"\"\"\n",
    "    DROP TABLE IF EXISTS EMPLOYEES;\n",
    "    DROP TABLE IF EXISTS PROJECTS_EMPLOYEES_TIME;\n",
    "    CREATE TABLE [EMPLOYEES] (\n",
    "        [EmployeeID] TEXT NOT NULL PRIMARY KEY,\n",
    "        [Last_Name] TEXT NOT NULL,\n",
    "        [First_Name] TEXT NOT NULL\n",
    "    );\n",
    "\n",
    "\n",
    "    INSERT INTO EMPLOYEES VALUES('EN1-26', \"O'Brien\", \"Sean\");\n",
    "    INSERT INTO EMPLOYEES VALUES('EN1-33', \"Guya\", \"Amy\");\n",
    "    INSERT INTO EMPLOYEES VALUES('EN1-35', \"Baranco\", \"Steven\");\n",
    "    INSERT INTO EMPLOYEES VALUES('EN1-36', \"Roslyn\", \"Elizabeth\");\n",
    "    INSERT INTO EMPLOYEES VALUES('EN1-38', \"Schaaf\", \"Carol\");\n",
    "    INSERT INTO EMPLOYEES VALUES('EN1-40', \"Wing\", \"Alexandra\");\n",
    "\n",
    "\n",
    "    CREATE TABLE [PROJECTS_EMPLOYEES_TIME] (\n",
    "        [ProjectNum] TEXT  NOT NULL,\n",
    "        [EmployeeID] TEXT NOT NULL,\n",
    "        [Time] REAL NULL,\n",
    "        PRIMARY KEY (ProjectNum, EmployeeID)\n",
    "        FOREIGN KEY(EmployeeID) REFERENCES EMPLOYEES(EmployeeID)\n",
    "    );\n",
    "\n",
    "    INSERT INTO PROJECTS_EMPLOYEES_TIME VALUES(\"30-328-TC\", \"EN1-33\", \"0.35\");\n",
    "    INSERT INTO PROJECTS_EMPLOYEES_TIME VALUES(\"30-452-T3\", \"EN1-26\", \"0.25\");\n",
    "    INSERT INTO PROJECTS_EMPLOYEES_TIME VALUES(\"30-452-T3\", \"EN1-33\", \"0.05\");\n",
    "    INSERT INTO PROJECTS_EMPLOYEES_TIME VALUES(\"30-452-T3\", \"EN1-35\", \"0.15\");\n",
    "    INSERT INTO PROJECTS_EMPLOYEES_TIME VALUES(\"31-238-TC\", \"EN1-35\", \"0.80\");\n",
    "    INSERT INTO PROJECTS_EMPLOYEES_TIME VALUES(\"30-457-T3\", \"EN1-26\", \"0.40\");\n",
    "    INSERT INTO PROJECTS_EMPLOYEES_TIME VALUES(\"31-238-TC\", \"EN1-40\", \"0.20\");\n",
    "    INSERT INTO PROJECTS_EMPLOYEES_TIME VALUES(\"31-241-TC\", \"EN1-40\", \"0.70\");\n",
    "    INSERT INTO PROJECTS_EMPLOYEES_TIME VALUES(\"32-244-T3\", \"EN1-33\", \"0.60\");\n",
    "    INSERT INTO PROJECTS_EMPLOYEES_TIME VALUES(\"35-152-TC\", \"EN1-36\", \"0.90\");\n",
    "    INSERT INTO PROJECTS_EMPLOYEES_TIME VALUES(\"36-272-TC\", \"EN1-38\", \"0.75\");\n",
    "    \"\"\")\n",
    "sql_statement = \"select * FROM EMPLOYEES;\"\n",
    "df = pd.read_sql_query(sql_statement, conn)\n",
    "print(\"Table: EMPLOYEES\")\n",
    "display(df)\n",
    "\n",
    "sql_statement = \"select * FROM PROJECTS_EMPLOYEES_TIME;\"\n",
    "print(\"Table: PROJECTS_EMPLOYEES_TIME\")\n",
    "df = pd.read_sql_query(sql_statement, conn)\n",
    "display(df)"
   ]
  },
  {
   "cell_type": "markdown",
   "metadata": {},
   "source": [
    "- Analysis of example3 -- **first normal form**\n",
    "  - Can do groups by employeeid or projectnum\n",
    "  - Can sort by time\n",
    "  - Can sort by name\n",
    "\n",
    "- First Normal Form  (1NF):\n",
    "  1. if there are no repeating groups.\n",
    "  2. all values are atomic, meaning they are the smallest meaningful value\n",
    "\n",
    "## Example4\n",
    "Need to add project title"
   ]
  },
  {
   "cell_type": "code",
   "execution_count": 18,
   "metadata": {
    "pycharm": {
     "name": "#%%\n"
    }
   },
   "outputs": [
    {
     "data": {
      "text/html": [
       "<div>\n",
       "<style scoped>\n",
       "    .dataframe tbody tr th:only-of-type {\n",
       "        vertical-align: middle;\n",
       "    }\n",
       "\n",
       "    .dataframe tbody tr th {\n",
       "        vertical-align: top;\n",
       "    }\n",
       "\n",
       "    .dataframe thead th {\n",
       "        text-align: right;\n",
       "    }\n",
       "</style>\n",
       "<table border=\"1\" class=\"dataframe\">\n",
       "  <thead>\n",
       "    <tr style=\"text-align: right;\">\n",
       "      <th></th>\n",
       "      <th>EmployeeID</th>\n",
       "      <th>Last_Name</th>\n",
       "      <th>First_Name</th>\n",
       "      <th>ProjectNumber</th>\n",
       "      <th>ProjectTitle</th>\n",
       "    </tr>\n",
       "  </thead>\n",
       "  <tbody>\n",
       "    <tr>\n",
       "      <th>0</th>\n",
       "      <td>EN1-26</td>\n",
       "      <td>O'Brien</td>\n",
       "      <td>Sean</td>\n",
       "      <td>30-452-T3</td>\n",
       "      <td>STAR manual</td>\n",
       "    </tr>\n",
       "    <tr>\n",
       "      <th>1</th>\n",
       "      <td>EN1-26</td>\n",
       "      <td>O'Brien</td>\n",
       "      <td>Sean</td>\n",
       "      <td>30-457-T3</td>\n",
       "      <td>ISO procedures</td>\n",
       "    </tr>\n",
       "    <tr>\n",
       "      <th>2</th>\n",
       "      <td>EN1-26</td>\n",
       "      <td>O'Brien</td>\n",
       "      <td>Sean</td>\n",
       "      <td>31-124-T3</td>\n",
       "      <td>Employee handbook</td>\n",
       "    </tr>\n",
       "    <tr>\n",
       "      <th>3</th>\n",
       "      <td>EN1-33</td>\n",
       "      <td>Guya</td>\n",
       "      <td>Amy</td>\n",
       "      <td>30-452-T3</td>\n",
       "      <td>STAR manual</td>\n",
       "    </tr>\n",
       "    <tr>\n",
       "      <th>4</th>\n",
       "      <td>EN1-33</td>\n",
       "      <td>Guya</td>\n",
       "      <td>Amy</td>\n",
       "      <td>30-482-TC</td>\n",
       "      <td>Web Site</td>\n",
       "    </tr>\n",
       "    <tr>\n",
       "      <th>5</th>\n",
       "      <td>EN1-33</td>\n",
       "      <td>Guya</td>\n",
       "      <td>Amy</td>\n",
       "      <td>31-241-TC</td>\n",
       "      <td>New catalog</td>\n",
       "    </tr>\n",
       "    <tr>\n",
       "      <th>6</th>\n",
       "      <td>EN1-35</td>\n",
       "      <td>Baranco</td>\n",
       "      <td>Steven</td>\n",
       "      <td>30-452-T3</td>\n",
       "      <td>STAR manual</td>\n",
       "    </tr>\n",
       "    <tr>\n",
       "      <th>7</th>\n",
       "      <td>EN1-35</td>\n",
       "      <td>Baranco</td>\n",
       "      <td>Steven</td>\n",
       "      <td>31-238-TC</td>\n",
       "      <td>STAR prototype</td>\n",
       "    </tr>\n",
       "    <tr>\n",
       "      <th>8</th>\n",
       "      <td>EN1-36</td>\n",
       "      <td>Roslyn</td>\n",
       "      <td>Elizabeth</td>\n",
       "      <td>35-152-TC</td>\n",
       "      <td>STAR pricing</td>\n",
       "    </tr>\n",
       "    <tr>\n",
       "      <th>9</th>\n",
       "      <td>EN1-38</td>\n",
       "      <td>Schaaf</td>\n",
       "      <td>Carol</td>\n",
       "      <td>36-272-TC</td>\n",
       "      <td>Order system</td>\n",
       "    </tr>\n",
       "    <tr>\n",
       "      <th>10</th>\n",
       "      <td>EN1-40</td>\n",
       "      <td>Wing</td>\n",
       "      <td>Alexandra</td>\n",
       "      <td>31-238-TC</td>\n",
       "      <td>STAR prototype</td>\n",
       "    </tr>\n",
       "    <tr>\n",
       "      <th>11</th>\n",
       "      <td>EN1-40</td>\n",
       "      <td>Wing</td>\n",
       "      <td>Alexandra</td>\n",
       "      <td>31-241-TC</td>\n",
       "      <td>New catalog</td>\n",
       "    </tr>\n",
       "  </tbody>\n",
       "</table>\n",
       "</div>"
      ],
      "text/plain": [
       "   EmployeeID Last_Name First_Name ProjectNumber       ProjectTitle\n",
       "0      EN1-26   O'Brien       Sean     30-452-T3        STAR manual\n",
       "1      EN1-26   O'Brien       Sean     30-457-T3     ISO procedures\n",
       "2      EN1-26   O'Brien       Sean     31-124-T3  Employee handbook\n",
       "3      EN1-33      Guya        Amy     30-452-T3        STAR manual\n",
       "4      EN1-33      Guya        Amy     30-482-TC           Web Site\n",
       "5      EN1-33      Guya        Amy     31-241-TC        New catalog\n",
       "6      EN1-35   Baranco     Steven     30-452-T3        STAR manual\n",
       "7      EN1-35   Baranco     Steven     31-238-TC     STAR prototype\n",
       "8      EN1-36    Roslyn  Elizabeth     35-152-TC       STAR pricing\n",
       "9      EN1-38    Schaaf      Carol     36-272-TC       Order system\n",
       "10     EN1-40      Wing  Alexandra     31-238-TC     STAR prototype\n",
       "11     EN1-40      Wing  Alexandra     31-241-TC        New catalog"
      ]
     },
     "metadata": {},
     "output_type": "display_data"
    }
   ],
   "source": [
    "cur.executescript(\"\"\"\n",
    "    DROP TABLE IF EXISTS EMPLOYEES_PROJECTS;\n",
    "    CREATE TABLE [EMPLOYEES_PROJECTS] (\n",
    "        [EmployeeID] TEXT  NOT NULL,\n",
    "        [Last_Name] TEXT NOT NULL,\n",
    "        [First_Name] TEXT NOT NULL,\n",
    "        [ProjectNumber] TEXT NOT NULL,\n",
    "        [ProjectTitle] TEXT NOT NULL,\n",
    "        PRIMARY KEY (EmployeeID, ProjectNumber)\n",
    "    );\n",
    "\n",
    "    INSERT INTO EMPLOYEES_PROJECTS VALUES(\"EN1-26\", \"O'Brien\", \"Sean\", \"30-452-T3\", \"STAR manual\");\n",
    "    INSERT INTO EMPLOYEES_PROJECTS VALUES(\"EN1-26\", \"O'Brien\", \"Sean\", \"30-457-T3\", \"ISO procedures\");\n",
    "    INSERT INTO EMPLOYEES_PROJECTS VALUES(\"EN1-26\", \"O'Brien\", \"Sean\", \"31-124-T3\", \"Employee handbook\");\n",
    "    INSERT INTO EMPLOYEES_PROJECTS VALUES(\"EN1-33\", \"Guya\", \"Amy\", \"30-452-T3\", \"STAR manual\");\n",
    "    INSERT INTO EMPLOYEES_PROJECTS VALUES(\"EN1-33\", \"Guya\", \"Amy\", \"30-482-TC\", \"Web Site\");\n",
    "    INSERT INTO EMPLOYEES_PROJECTS VALUES(\"EN1-33\", \"Guya\", \"Amy\", \"31-241-TC\", \"New catalog\");\n",
    "    INSERT INTO EMPLOYEES_PROJECTS VALUES(\"EN1-35\", \"Baranco\", \"Steven\", \"30-452-T3\", \"STAR manual\");\n",
    "    INSERT INTO EMPLOYEES_PROJECTS VALUES(\"EN1-35\", \"Baranco\", \"Steven\", \"31-238-TC\", \"STAR prototype\");\n",
    "    INSERT INTO EMPLOYEES_PROJECTS VALUES(\"EN1-36\", \"Roslyn\", \"Elizabeth\", \"35-152-TC\", \"STAR pricing\");\n",
    "    INSERT INTO EMPLOYEES_PROJECTS VALUES(\"EN1-38\", \"Schaaf\", \"Carol\", \"36-272-TC\", \"Order system\");\n",
    "    INSERT INTO EMPLOYEES_PROJECTS VALUES(\"EN1-40\", \"Wing\", \"Alexandra\", \"31-238-TC\", \"STAR prototype\");\n",
    "    INSERT INTO EMPLOYEES_PROJECTS VALUES(\"EN1-40\", \"Wing\", \"Alexandra\", \"31-241-TC\", \"New catalog\");\n",
    "\"\"\")\n",
    "\n",
    "sql_statement = \"select * FROM EMPLOYEES_PROJECTS;\"\n",
    "df = pd.read_sql_query(sql_statement, conn)\n",
    "display(df)"
   ]
  },
  {
   "cell_type": "markdown",
   "metadata": {},
   "source": [
    "- Analysis of example4\n",
    "  - How would you update the project title for a given project? Have to edit in many places\n",
    "  - Can you add a project without an employeeid?\n",
    "  - How can you delete a project?"
   ]
  },
  {
   "cell_type": "code",
   "execution_count": 19,
   "metadata": {
    "pycharm": {
     "name": "#%%\n"
    }
   },
   "outputs": [
    {
     "name": "stdout",
     "output_type": "stream",
     "text": [
      "Table: EMPLOYEES\n"
     ]
    },
    {
     "data": {
      "text/html": [
       "<div>\n",
       "<style scoped>\n",
       "    .dataframe tbody tr th:only-of-type {\n",
       "        vertical-align: middle;\n",
       "    }\n",
       "\n",
       "    .dataframe tbody tr th {\n",
       "        vertical-align: top;\n",
       "    }\n",
       "\n",
       "    .dataframe thead th {\n",
       "        text-align: right;\n",
       "    }\n",
       "</style>\n",
       "<table border=\"1\" class=\"dataframe\">\n",
       "  <thead>\n",
       "    <tr style=\"text-align: right;\">\n",
       "      <th></th>\n",
       "      <th>EmployeeID</th>\n",
       "      <th>Last_Name</th>\n",
       "      <th>First_Name</th>\n",
       "    </tr>\n",
       "  </thead>\n",
       "  <tbody>\n",
       "    <tr>\n",
       "      <th>0</th>\n",
       "      <td>EN1-26</td>\n",
       "      <td>O'Brien</td>\n",
       "      <td>Sean</td>\n",
       "    </tr>\n",
       "    <tr>\n",
       "      <th>1</th>\n",
       "      <td>EN1-33</td>\n",
       "      <td>Guya</td>\n",
       "      <td>Amy</td>\n",
       "    </tr>\n",
       "    <tr>\n",
       "      <th>2</th>\n",
       "      <td>EN1-35</td>\n",
       "      <td>Baranco</td>\n",
       "      <td>Steven</td>\n",
       "    </tr>\n",
       "    <tr>\n",
       "      <th>3</th>\n",
       "      <td>EN1-36</td>\n",
       "      <td>Roslyn</td>\n",
       "      <td>Elizabeth</td>\n",
       "    </tr>\n",
       "    <tr>\n",
       "      <th>4</th>\n",
       "      <td>EN1-38</td>\n",
       "      <td>Schaaf</td>\n",
       "      <td>Carol</td>\n",
       "    </tr>\n",
       "    <tr>\n",
       "      <th>5</th>\n",
       "      <td>EN1-40</td>\n",
       "      <td>Wing</td>\n",
       "      <td>Alexandra</td>\n",
       "    </tr>\n",
       "  </tbody>\n",
       "</table>\n",
       "</div>"
      ],
      "text/plain": [
       "  EmployeeID Last_Name First_Name\n",
       "0     EN1-26   O'Brien       Sean\n",
       "1     EN1-33      Guya        Amy\n",
       "2     EN1-35   Baranco     Steven\n",
       "3     EN1-36    Roslyn  Elizabeth\n",
       "4     EN1-38    Schaaf      Carol\n",
       "5     EN1-40      Wing  Alexandra"
      ]
     },
     "metadata": {},
     "output_type": "display_data"
    },
    {
     "name": "stdout",
     "output_type": "stream",
     "text": [
      "Table: PROJECTS_EMPLOYEES_TIME\n"
     ]
    },
    {
     "data": {
      "text/html": [
       "<div>\n",
       "<style scoped>\n",
       "    .dataframe tbody tr th:only-of-type {\n",
       "        vertical-align: middle;\n",
       "    }\n",
       "\n",
       "    .dataframe tbody tr th {\n",
       "        vertical-align: top;\n",
       "    }\n",
       "\n",
       "    .dataframe thead th {\n",
       "        text-align: right;\n",
       "    }\n",
       "</style>\n",
       "<table border=\"1\" class=\"dataframe\">\n",
       "  <thead>\n",
       "    <tr style=\"text-align: right;\">\n",
       "      <th></th>\n",
       "      <th>ProjectNum</th>\n",
       "      <th>ProjectTitle</th>\n",
       "    </tr>\n",
       "  </thead>\n",
       "  <tbody>\n",
       "    <tr>\n",
       "      <th>0</th>\n",
       "      <td>30-452-T3</td>\n",
       "      <td>STAR manual</td>\n",
       "    </tr>\n",
       "    <tr>\n",
       "      <th>1</th>\n",
       "      <td>30-457-T3</td>\n",
       "      <td>ISO procedures</td>\n",
       "    </tr>\n",
       "    <tr>\n",
       "      <th>2</th>\n",
       "      <td>30-482-TC</td>\n",
       "      <td>Web site</td>\n",
       "    </tr>\n",
       "    <tr>\n",
       "      <th>3</th>\n",
       "      <td>31-124-T3</td>\n",
       "      <td>Employee handbook</td>\n",
       "    </tr>\n",
       "    <tr>\n",
       "      <th>4</th>\n",
       "      <td>31-238-TC</td>\n",
       "      <td>STAR prototype</td>\n",
       "    </tr>\n",
       "    <tr>\n",
       "      <th>5</th>\n",
       "      <td>31-238-TC2</td>\n",
       "      <td>New catalog</td>\n",
       "    </tr>\n",
       "    <tr>\n",
       "      <th>6</th>\n",
       "      <td>35-152-TC</td>\n",
       "      <td>STAR pricing</td>\n",
       "    </tr>\n",
       "    <tr>\n",
       "      <th>7</th>\n",
       "      <td>36-272-TC</td>\n",
       "      <td>Order system</td>\n",
       "    </tr>\n",
       "  </tbody>\n",
       "</table>\n",
       "</div>"
      ],
      "text/plain": [
       "   ProjectNum       ProjectTitle\n",
       "0   30-452-T3        STAR manual\n",
       "1   30-457-T3     ISO procedures\n",
       "2   30-482-TC           Web site\n",
       "3   31-124-T3  Employee handbook\n",
       "4   31-238-TC     STAR prototype\n",
       "5  31-238-TC2        New catalog\n",
       "6   35-152-TC       STAR pricing\n",
       "7   36-272-TC       Order system"
      ]
     },
     "metadata": {},
     "output_type": "display_data"
    },
    {
     "name": "stdout",
     "output_type": "stream",
     "text": [
      "Table: PROJECTS_EMPLOYEES_TIME\n"
     ]
    },
    {
     "data": {
      "text/html": [
       "<div>\n",
       "<style scoped>\n",
       "    .dataframe tbody tr th:only-of-type {\n",
       "        vertical-align: middle;\n",
       "    }\n",
       "\n",
       "    .dataframe tbody tr th {\n",
       "        vertical-align: top;\n",
       "    }\n",
       "\n",
       "    .dataframe thead th {\n",
       "        text-align: right;\n",
       "    }\n",
       "</style>\n",
       "<table border=\"1\" class=\"dataframe\">\n",
       "  <thead>\n",
       "    <tr style=\"text-align: right;\">\n",
       "      <th></th>\n",
       "      <th>EmployeeID</th>\n",
       "      <th>ProjectNum</th>\n",
       "    </tr>\n",
       "  </thead>\n",
       "  <tbody>\n",
       "    <tr>\n",
       "      <th>0</th>\n",
       "      <td>EN1-26</td>\n",
       "      <td>30-452-T3</td>\n",
       "    </tr>\n",
       "    <tr>\n",
       "      <th>1</th>\n",
       "      <td>EN1-26</td>\n",
       "      <td>30-457-T3</td>\n",
       "    </tr>\n",
       "    <tr>\n",
       "      <th>2</th>\n",
       "      <td>EN1-26</td>\n",
       "      <td>31-124-T3</td>\n",
       "    </tr>\n",
       "    <tr>\n",
       "      <th>3</th>\n",
       "      <td>EN1-33</td>\n",
       "      <td>30-328-TC</td>\n",
       "    </tr>\n",
       "    <tr>\n",
       "      <th>4</th>\n",
       "      <td>EN1-33</td>\n",
       "      <td>30-452-T3</td>\n",
       "    </tr>\n",
       "    <tr>\n",
       "      <th>5</th>\n",
       "      <td>EN1-33</td>\n",
       "      <td>32-244-T3</td>\n",
       "    </tr>\n",
       "    <tr>\n",
       "      <th>6</th>\n",
       "      <td>EN1-35</td>\n",
       "      <td>30-452-T3</td>\n",
       "    </tr>\n",
       "    <tr>\n",
       "      <th>7</th>\n",
       "      <td>EN1-35</td>\n",
       "      <td>31-238-TC</td>\n",
       "    </tr>\n",
       "    <tr>\n",
       "      <th>8</th>\n",
       "      <td>EN1-36</td>\n",
       "      <td>35-152-TC</td>\n",
       "    </tr>\n",
       "    <tr>\n",
       "      <th>9</th>\n",
       "      <td>EN1-38</td>\n",
       "      <td>36-272-TC</td>\n",
       "    </tr>\n",
       "    <tr>\n",
       "      <th>10</th>\n",
       "      <td>EN1-40</td>\n",
       "      <td>31-238-TC2</td>\n",
       "    </tr>\n",
       "    <tr>\n",
       "      <th>11</th>\n",
       "      <td>EN1-40</td>\n",
       "      <td>31-241-TC</td>\n",
       "    </tr>\n",
       "  </tbody>\n",
       "</table>\n",
       "</div>"
      ],
      "text/plain": [
       "   EmployeeID  ProjectNum\n",
       "0      EN1-26   30-452-T3\n",
       "1      EN1-26   30-457-T3\n",
       "2      EN1-26   31-124-T3\n",
       "3      EN1-33   30-328-TC\n",
       "4      EN1-33   30-452-T3\n",
       "5      EN1-33   32-244-T3\n",
       "6      EN1-35   30-452-T3\n",
       "7      EN1-35   31-238-TC\n",
       "8      EN1-36   35-152-TC\n",
       "9      EN1-38   36-272-TC\n",
       "10     EN1-40  31-238-TC2\n",
       "11     EN1-40   31-241-TC"
      ]
     },
     "metadata": {},
     "output_type": "display_data"
    }
   ],
   "source": [
    "cur.executescript(\"\"\"\n",
    "    DROP TABLE IF EXISTS EMPLOYEES;\n",
    "    DROP TABLE IF EXISTS PROJECTS;\n",
    "    DROP TABLE IF EXISTS EMPLOYEES_PROJECTS;\n",
    "\n",
    "    CREATE TABLE [EMPLOYEES] (\n",
    "        [EmployeeID] TEXT  NOT NULL PRIMARY KEY,\n",
    "        [Last_Name] TEXT NOT NULL,\n",
    "        [First_Name] TEXT NOT NULL\n",
    "    );\n",
    "\n",
    "    INSERT INTO EMPLOYEES VALUES(\"EN1-26\", \"O'Brien\", \"Sean\");\n",
    "    INSERT INTO EMPLOYEES VALUES(\"EN1-33\", \"Guya\", \"Amy\");\n",
    "    INSERT INTO EMPLOYEES VALUES(\"EN1-35\", \"Baranco\", \"Steven\");\n",
    "    INSERT INTO EMPLOYEES VALUES(\"EN1-36\", \"Roslyn\", \"Elizabeth\");\n",
    "    INSERT INTO EMPLOYEES VALUES(\"EN1-38\", \"Schaaf\", \"Carol\");\n",
    "    INSERT INTO EMPLOYEES VALUES(\"EN1-40\", \"Wing\", \"Alexandra\");\n",
    "\n",
    "\n",
    "    CREATE TABLE [PROJECTS] (\n",
    "        [ProjectNum] TEXT  NOT NULL,\n",
    "        [ProjectTitle] TEXT NOT NULL\n",
    "    );\n",
    "\n",
    "    INSERT INTO PROJECTS VALUES(\"30-452-T3\", \"STAR manual\");\n",
    "    INSERT INTO PROJECTS VALUES(\"30-457-T3\", \"ISO procedures\");\n",
    "    INSERT INTO PROJECTS VALUES(\"30-482-TC\", \"Web site\");\n",
    "    INSERT INTO PROJECTS VALUES(\"31-124-T3\", \"Employee handbook\");\n",
    "    INSERT INTO PROJECTS VALUES(\"31-238-TC\", \"STAR prototype\");\n",
    "    INSERT INTO PROJECTS VALUES(\"31-238-TC2\", \"New catalog\");\n",
    "    INSERT INTO PROJECTS VALUES(\"35-152-TC\", \"STAR pricing\");\n",
    "    INSERT INTO PROJECTS VALUES(\"36-272-TC\", \"Order system\");\n",
    "\n",
    "\n",
    "    CREATE TABLE [EMPLOYEES_PROJECTS] (\n",
    "        [EmployeeID] TEXT  NOT NULL,\n",
    "        [ProjectNum] TEXT NOT NULL,\n",
    "        PRIMARY KEY (EmployeeID, ProjectNum)\n",
    "    );\n",
    "\n",
    "    INSERT INTO EMPLOYEES_PROJECTS VALUES(\"EN1-26\", \"30-452-T3\");\n",
    "    INSERT INTO EMPLOYEES_PROJECTS VALUES(\"EN1-26\", \"30-457-T3\");\n",
    "    INSERT INTO EMPLOYEES_PROJECTS VALUES(\"EN1-26\", \"31-124-T3\");\n",
    "    INSERT INTO EMPLOYEES_PROJECTS VALUES(\"EN1-33\", \"30-328-TC\");\n",
    "    INSERT INTO EMPLOYEES_PROJECTS VALUES(\"EN1-33\", \"30-452-T3\");\n",
    "    INSERT INTO EMPLOYEES_PROJECTS VALUES(\"EN1-33\", \"32-244-T3\");\n",
    "    INSERT INTO EMPLOYEES_PROJECTS VALUES(\"EN1-35\", \"30-452-T3\");\n",
    "    INSERT INTO EMPLOYEES_PROJECTS VALUES(\"EN1-35\", \"31-238-TC\");\n",
    "    INSERT INTO EMPLOYEES_PROJECTS VALUES(\"EN1-36\", \"35-152-TC\");\n",
    "    INSERT INTO EMPLOYEES_PROJECTS VALUES(\"EN1-38\", \"36-272-TC\");\n",
    "    INSERT INTO EMPLOYEES_PROJECTS VALUES(\"EN1-40\", \"31-238-TC2\");\n",
    "    INSERT INTO EMPLOYEES_PROJECTS VALUES(\"EN1-40\", \"31-241-TC\");\n",
    "    \"\"\")\n",
    "\n",
    "sql_statement = \"select * FROM EMPLOYEES;\"\n",
    "df = pd.read_sql_query(sql_statement, conn)\n",
    "print(\"Table: EMPLOYEES\")\n",
    "display(df)\n",
    "\n",
    "sql_statement = \"select * FROM PROJECTS;\"\n",
    "print(\"Table: PROJECTS_EMPLOYEES_TIME\")\n",
    "df = pd.read_sql_query(sql_statement, conn)\n",
    "display(df)\n",
    "\n",
    "sql_statement = \"select * FROM EMPLOYEES_PROJECTS;\"\n",
    "print(\"Table: PROJECTS_EMPLOYEES_TIME\")\n",
    "df = pd.read_sql_query(sql_statement, conn)\n",
    "display(df)"
   ]
  },
  {
   "cell_type": "markdown",
   "metadata": {},
   "source": [
    "- Analysis of example5\n",
    "  - **second normal form**\n",
    "\n",
    "- Second Normal Form  (2NF):\n",
    "  1. the table is in first normal form\n",
    "  2. each non-key field is functionally dependent on the entire primary key\n",
    "\n",
    "### Example6\n",
    "Adding more field to project: project manager, project manager phone number"
   ]
  },
  {
   "cell_type": "code",
   "execution_count": 20,
   "metadata": {
    "pycharm": {
     "name": "#%%\n"
    }
   },
   "outputs": [
    {
     "data": {
      "text/html": [
       "<div>\n",
       "<style scoped>\n",
       "    .dataframe tbody tr th:only-of-type {\n",
       "        vertical-align: middle;\n",
       "    }\n",
       "\n",
       "    .dataframe tbody tr th {\n",
       "        vertical-align: top;\n",
       "    }\n",
       "\n",
       "    .dataframe thead th {\n",
       "        text-align: right;\n",
       "    }\n",
       "</style>\n",
       "<table border=\"1\" class=\"dataframe\">\n",
       "  <thead>\n",
       "    <tr style=\"text-align: right;\">\n",
       "      <th></th>\n",
       "      <th>ProjectNum</th>\n",
       "      <th>ProjectTitle</th>\n",
       "      <th>ProjectMgr</th>\n",
       "      <th>Phone</th>\n",
       "    </tr>\n",
       "  </thead>\n",
       "  <tbody>\n",
       "    <tr>\n",
       "      <th>0</th>\n",
       "      <td>30-452-T3</td>\n",
       "      <td>STAR manual</td>\n",
       "      <td>Garrison</td>\n",
       "      <td>2756</td>\n",
       "    </tr>\n",
       "    <tr>\n",
       "      <th>1</th>\n",
       "      <td>30-457-T3</td>\n",
       "      <td>ISO procedures</td>\n",
       "      <td>Jacanda</td>\n",
       "      <td>2954</td>\n",
       "    </tr>\n",
       "    <tr>\n",
       "      <th>2</th>\n",
       "      <td>30-482-TC</td>\n",
       "      <td>Web site</td>\n",
       "      <td>Friedman</td>\n",
       "      <td>2846</td>\n",
       "    </tr>\n",
       "    <tr>\n",
       "      <th>3</th>\n",
       "      <td>31-124-T3</td>\n",
       "      <td>Employee handbook</td>\n",
       "      <td>Jones</td>\n",
       "      <td>3102</td>\n",
       "    </tr>\n",
       "    <tr>\n",
       "      <th>4</th>\n",
       "      <td>31-238-TC</td>\n",
       "      <td>STAR prototype</td>\n",
       "      <td>Garrison</td>\n",
       "      <td>2756</td>\n",
       "    </tr>\n",
       "    <tr>\n",
       "      <th>5</th>\n",
       "      <td>31-241-TC</td>\n",
       "      <td>New catalog</td>\n",
       "      <td>Jones</td>\n",
       "      <td>3102</td>\n",
       "    </tr>\n",
       "    <tr>\n",
       "      <th>6</th>\n",
       "      <td>35-152-TC</td>\n",
       "      <td>STAR pricing</td>\n",
       "      <td>Vance</td>\n",
       "      <td>3022</td>\n",
       "    </tr>\n",
       "    <tr>\n",
       "      <th>7</th>\n",
       "      <td>36-272-TC</td>\n",
       "      <td>Order system</td>\n",
       "      <td>Jacanda</td>\n",
       "      <td>2954</td>\n",
       "    </tr>\n",
       "  </tbody>\n",
       "</table>\n",
       "</div>"
      ],
      "text/plain": [
       "  ProjectNum       ProjectTitle ProjectMgr  Phone\n",
       "0  30-452-T3        STAR manual   Garrison   2756\n",
       "1  30-457-T3     ISO procedures    Jacanda   2954\n",
       "2  30-482-TC           Web site   Friedman   2846\n",
       "3  31-124-T3  Employee handbook      Jones   3102\n",
       "4  31-238-TC     STAR prototype   Garrison   2756\n",
       "5  31-241-TC        New catalog      Jones   3102\n",
       "6  35-152-TC       STAR pricing      Vance   3022\n",
       "7  36-272-TC       Order system    Jacanda   2954"
      ]
     },
     "metadata": {},
     "output_type": "display_data"
    }
   ],
   "source": [
    "cur.executescript(\"\"\"\n",
    "DROP TABLE IF EXISTS PROJECTS;\n",
    "CREATE TABLE [PROJECTS] (\n",
    "    [ProjectNum] TEXT  NOT NULL PRIMARY KEY,\n",
    "    [ProjectTitle] TEXT NOT NULL,\n",
    "    [ProjectMgr] TEXT NOT NULL,\n",
    "    [Phone] INTEGER NOT NULL\n",
    ");\n",
    "\n",
    "INSERT INTO PROJECTS VALUES(\"30-452-T3\", \"STAR manual\", \"Garrison\", \"2756\");\n",
    "INSERT INTO PROJECTS VALUES(\"30-457-T3\", \"ISO procedures\", \"Jacanda\", \"2954\");\n",
    "INSERT INTO PROJECTS VALUES(\"30-482-TC\", \"Web site\", \"Friedman\", \"2846\");\n",
    "INSERT INTO PROJECTS VALUES(\"31-124-T3\", \"Employee handbook\", \"Jones\", \"3102\");\n",
    "INSERT INTO PROJECTS VALUES(\"31-238-TC\", \"STAR prototype\", \"Garrison\", \"2756\");\n",
    "INSERT INTO PROJECTS VALUES(\"31-241-TC\", \"New catalog\", \"Jones\", \"3102\");\n",
    "INSERT INTO PROJECTS VALUES(\"35-152-TC\", \"STAR pricing\", \"Vance\", \"3022\");\n",
    "INSERT INTO PROJECTS VALUES(\"36-272-TC\", \"Order system\", \"Jacanda\", \"2954\");\n",
    "\"\"\")\n",
    "\n",
    "sql_statement = \"select * FROM PROJECTS;\"\n",
    "df = pd.read_sql_query(sql_statement, conn)\n",
    "display(df)"
   ]
  },
  {
   "cell_type": "markdown",
   "metadata": {},
   "source": [
    "- Analysis of example 6\n",
    "  - Phone number, which is a non-key field, has transitive dependency on another non-key field."
   ]
  },
  {
   "cell_type": "code",
   "execution_count": 21,
   "metadata": {
    "pycharm": {
     "name": "#%%\n"
    }
   },
   "outputs": [
    {
     "name": "stdout",
     "output_type": "stream",
     "text": [
      "Table: MANAGERS\n"
     ]
    },
    {
     "data": {
      "text/html": [
       "<div>\n",
       "<style scoped>\n",
       "    .dataframe tbody tr th:only-of-type {\n",
       "        vertical-align: middle;\n",
       "    }\n",
       "\n",
       "    .dataframe tbody tr th {\n",
       "        vertical-align: top;\n",
       "    }\n",
       "\n",
       "    .dataframe thead th {\n",
       "        text-align: right;\n",
       "    }\n",
       "</style>\n",
       "<table border=\"1\" class=\"dataframe\">\n",
       "  <thead>\n",
       "    <tr style=\"text-align: right;\">\n",
       "      <th></th>\n",
       "      <th>ProjectMgr</th>\n",
       "      <th>Phone</th>\n",
       "    </tr>\n",
       "  </thead>\n",
       "  <tbody>\n",
       "    <tr>\n",
       "      <th>0</th>\n",
       "      <td>Friedman</td>\n",
       "      <td>2846</td>\n",
       "    </tr>\n",
       "    <tr>\n",
       "      <th>1</th>\n",
       "      <td>Garrison</td>\n",
       "      <td>2756</td>\n",
       "    </tr>\n",
       "    <tr>\n",
       "      <th>2</th>\n",
       "      <td>Jacanda</td>\n",
       "      <td>2954</td>\n",
       "    </tr>\n",
       "    <tr>\n",
       "      <th>3</th>\n",
       "      <td>Jones</td>\n",
       "      <td>3102</td>\n",
       "    </tr>\n",
       "    <tr>\n",
       "      <th>4</th>\n",
       "      <td>Vance</td>\n",
       "      <td>3022</td>\n",
       "    </tr>\n",
       "  </tbody>\n",
       "</table>\n",
       "</div>"
      ],
      "text/plain": [
       "  ProjectMgr  Phone\n",
       "0   Friedman   2846\n",
       "1   Garrison   2756\n",
       "2    Jacanda   2954\n",
       "3      Jones   3102\n",
       "4      Vance   3022"
      ]
     },
     "metadata": {},
     "output_type": "display_data"
    },
    {
     "name": "stdout",
     "output_type": "stream",
     "text": [
      "Table: PROJECTS\n"
     ]
    },
    {
     "data": {
      "text/html": [
       "<div>\n",
       "<style scoped>\n",
       "    .dataframe tbody tr th:only-of-type {\n",
       "        vertical-align: middle;\n",
       "    }\n",
       "\n",
       "    .dataframe tbody tr th {\n",
       "        vertical-align: top;\n",
       "    }\n",
       "\n",
       "    .dataframe thead th {\n",
       "        text-align: right;\n",
       "    }\n",
       "</style>\n",
       "<table border=\"1\" class=\"dataframe\">\n",
       "  <thead>\n",
       "    <tr style=\"text-align: right;\">\n",
       "      <th></th>\n",
       "      <th>ProjectNum</th>\n",
       "      <th>ProjectTitle</th>\n",
       "      <th>ProjectMgr</th>\n",
       "    </tr>\n",
       "  </thead>\n",
       "  <tbody>\n",
       "    <tr>\n",
       "      <th>0</th>\n",
       "      <td>30-452-T3</td>\n",
       "      <td>STAR manual</td>\n",
       "      <td>Garrison</td>\n",
       "    </tr>\n",
       "    <tr>\n",
       "      <th>1</th>\n",
       "      <td>30-457-T3</td>\n",
       "      <td>ISO procedures</td>\n",
       "      <td>Jacanda</td>\n",
       "    </tr>\n",
       "    <tr>\n",
       "      <th>2</th>\n",
       "      <td>30-482-TC</td>\n",
       "      <td>Web site</td>\n",
       "      <td>Friedman</td>\n",
       "    </tr>\n",
       "    <tr>\n",
       "      <th>3</th>\n",
       "      <td>31-124-T3</td>\n",
       "      <td>Employee handbook</td>\n",
       "      <td>Jones</td>\n",
       "    </tr>\n",
       "    <tr>\n",
       "      <th>4</th>\n",
       "      <td>31-238-TC</td>\n",
       "      <td>STAR prototype</td>\n",
       "      <td>Garrison</td>\n",
       "    </tr>\n",
       "    <tr>\n",
       "      <th>5</th>\n",
       "      <td>31-241-TC</td>\n",
       "      <td>New catalog</td>\n",
       "      <td>Jones</td>\n",
       "    </tr>\n",
       "    <tr>\n",
       "      <th>6</th>\n",
       "      <td>35-152-TC</td>\n",
       "      <td>STAR pricing</td>\n",
       "      <td>Vance</td>\n",
       "    </tr>\n",
       "    <tr>\n",
       "      <th>7</th>\n",
       "      <td>36-272-TC</td>\n",
       "      <td>Order system</td>\n",
       "      <td>Jacanda</td>\n",
       "    </tr>\n",
       "  </tbody>\n",
       "</table>\n",
       "</div>"
      ],
      "text/plain": [
       "  ProjectNum       ProjectTitle ProjectMgr\n",
       "0  30-452-T3        STAR manual   Garrison\n",
       "1  30-457-T3     ISO procedures    Jacanda\n",
       "2  30-482-TC           Web site   Friedman\n",
       "3  31-124-T3  Employee handbook      Jones\n",
       "4  31-238-TC     STAR prototype   Garrison\n",
       "5  31-241-TC        New catalog      Jones\n",
       "6  35-152-TC       STAR pricing      Vance\n",
       "7  36-272-TC       Order system    Jacanda"
      ]
     },
     "metadata": {},
     "output_type": "display_data"
    }
   ],
   "source": [
    "cur.executescript(\"\"\"\n",
    "DROP TABLE IF EXISTS MANAGERS;\n",
    "DROP TABLE IF EXISTS PROJECTS;\n",
    "CREATE TABLE [MANAGERS] (\n",
    "    [ProjectMgr] TEXT NOT NULL PRIMARY KEY,\n",
    "    [Phone] INTEGER NOT NULL\n",
    ");\n",
    "\n",
    "INSERT INTO MANAGERS VALUES(\"Friedman\", \"2846\");\n",
    "INSERT INTO MANAGERS VALUES(\"Garrison\", \"2756\");\n",
    "INSERT INTO MANAGERS VALUES(\"Jacanda\", \"2954\");\n",
    "INSERT INTO MANAGERS VALUES(\"Jones\", \"3102\");\n",
    "INSERT INTO MANAGERS VALUES(\"Vance\", \"3022\");\n",
    "\n",
    "CREATE TABLE [PROJECTS] (\n",
    "    [ProjectNum] TEXT  NOT NULL PRIMARY KEY,\n",
    "    [ProjectTitle] TEXT NOT NULL,\n",
    "    [ProjectMgr] TEXT NOT NULL,\n",
    "    FOREIGN KEY(ProjectMgr) REFERENCES MANAGERS(ProjectMgr)\n",
    ");\n",
    "\n",
    "\n",
    "\n",
    "INSERT INTO PROJECTS VALUES(\"30-452-T3\", \"STAR manual\", \"Garrison\");\n",
    "INSERT INTO PROJECTS VALUES(\"30-457-T3\", \"ISO procedures\", \"Jacanda\");\n",
    "INSERT INTO PROJECTS VALUES(\"30-482-TC\", \"Web site\", \"Friedman\");\n",
    "INSERT INTO PROJECTS VALUES(\"31-124-T3\", \"Employee handbook\", \"Jones\");\n",
    "INSERT INTO PROJECTS VALUES(\"31-238-TC\", \"STAR prototype\", \"Garrison\");\n",
    "INSERT INTO PROJECTS VALUES(\"31-241-TC\", \"New catalog\", \"Jones\");\n",
    "INSERT INTO PROJECTS VALUES(\"35-152-TC\", \"STAR pricing\", \"Vance\");\n",
    "INSERT INTO PROJECTS VALUES(\"36-272-TC\", \"Order system\", \"Jacanda\");\"\"\")\n",
    "\n",
    "sql_statement = \"select * FROM MANAGERS;\"\n",
    "print(\"Table: MANAGERS\")\n",
    "df = pd.read_sql_query(sql_statement, conn)\n",
    "display(df)\n",
    "\n",
    "sql_statement = \"select * FROM PROJECTS;\"\n",
    "print(\"Table: PROJECTS\")\n",
    "df = pd.read_sql_query(sql_statement, conn)\n",
    "display(df)"
   ]
  },
  {
   "cell_type": "markdown",
   "metadata": {},
   "source": [
    "- Analysis of example7\n",
    "  - Removed transitive dependency\n",
    "\n",
    "- Third Normal Form (3NF):\n",
    "  1. the table is in second normal form\n",
    "  2. there are no transitive dependencies"
   ]
  },
  {
   "cell_type": "markdown",
   "metadata": {
    "pycharm": {
     "name": "#%% md\n"
    }
   },
   "source": [
    "## Foreign Key\n",
    "- What is a foreign key? In a relational database, you can relate one table to another table. The two\n",
    "tables can be related if and only if both tables have one column in common. This column has to be declared as a INTEGER data type that cannot\n",
    "be NULL and has the `PRIMARY KEY` constraint -- example: ColumnName INTEGER NOT NULL PRIMARY KEY;\n",
    "- IMPORTANT: Foreign key constraint is not enabled by default in SQLite\n",
    "\n"
   ]
  },
  {
   "cell_type": "code",
   "execution_count": 24,
   "metadata": {
    "pycharm": {
     "name": "#%%\n"
    }
   },
   "outputs": [],
   "source": [
    "import pandas as pd\n",
    "import sqlite3\n",
    "\n",
    "def show_table(conn, table):\n",
    "    \"\"\"\n",
    "    Helping function to displays whole table\n",
    "    \"\"\"\n",
    "    print(f\"Table: {table}\")\n",
    "    df = pd.read_sql_query(f\"select * FROM {table};\", conn)\n",
    "    display(df)\n",
    "\n",
    "def run_show_select(conn, select_statement):\n",
    "    \"\"\"\n",
    "    Helping function to displays results of select statement\n",
    "    \"\"\"\n",
    "    df = pd.read_sql_query(select_statement, conn)\n",
    "    display(df)\n"
   ]
  },
  {
   "cell_type": "code",
   "execution_count": 25,
   "metadata": {
    "pycharm": {
     "name": "#%%\n"
    }
   },
   "outputs": [
    {
     "name": "stdout",
     "output_type": "stream",
     "text": [
      "[(0,)]\n",
      "[(1,)]\n"
     ]
    }
   ],
   "source": [
    "conn = sqlite3.connect(\"teachers.db\")\n",
    "cur = conn.cursor()\n",
    "\n",
    "cur.execute(\"\"\"PRAGMA foreign_keys;\"\"\")\n",
    "print(cur.fetchall())\n",
    "cur.execute(\"\"\"PRAGMA foreign_keys = ON;\"\"\")\n",
    "cur.execute(\"\"\"PRAGMA foreign_keys;\"\"\")\n",
    "print(cur.fetchall())"
   ]
  },
  {
   "cell_type": "code",
   "execution_count": 26,
   "metadata": {
    "pycharm": {
     "name": "#%%\n"
    }
   },
   "outputs": [
    {
     "name": "stdout",
     "output_type": "stream",
     "text": [
      "Table: Teachers\n"
     ]
    },
    {
     "data": {
      "text/html": [
       "<div>\n",
       "<style scoped>\n",
       "    .dataframe tbody tr th:only-of-type {\n",
       "        vertical-align: middle;\n",
       "    }\n",
       "\n",
       "    .dataframe tbody tr th {\n",
       "        vertical-align: top;\n",
       "    }\n",
       "\n",
       "    .dataframe thead th {\n",
       "        text-align: right;\n",
       "    }\n",
       "</style>\n",
       "<table border=\"1\" class=\"dataframe\">\n",
       "  <thead>\n",
       "    <tr style=\"text-align: right;\">\n",
       "      <th></th>\n",
       "      <th>TeacherId</th>\n",
       "      <th>TeacherName</th>\n",
       "      <th>TeacherEmployeeID</th>\n",
       "    </tr>\n",
       "  </thead>\n",
       "  <tbody>\n",
       "    <tr>\n",
       "      <th>0</th>\n",
       "      <td>1</td>\n",
       "      <td>Melissa Larson</td>\n",
       "      <td>10001</td>\n",
       "    </tr>\n",
       "    <tr>\n",
       "      <th>1</th>\n",
       "      <td>2</td>\n",
       "      <td>Christopher Smith</td>\n",
       "      <td>10002</td>\n",
       "    </tr>\n",
       "    <tr>\n",
       "      <th>2</th>\n",
       "      <td>3</td>\n",
       "      <td>Rohit Sharma</td>\n",
       "      <td>10003</td>\n",
       "    </tr>\n",
       "  </tbody>\n",
       "</table>\n",
       "</div>"
      ],
      "text/plain": [
       "   TeacherId        TeacherName  TeacherEmployeeID\n",
       "0          1     Melissa Larson              10001\n",
       "1          2  Christopher Smith              10002\n",
       "2          3       Rohit Sharma              10003"
      ]
     },
     "metadata": {},
     "output_type": "display_data"
    },
    {
     "name": "stdout",
     "output_type": "stream",
     "text": [
      "Table: Courses\n"
     ]
    },
    {
     "data": {
      "text/html": [
       "<div>\n",
       "<style scoped>\n",
       "    .dataframe tbody tr th:only-of-type {\n",
       "        vertical-align: middle;\n",
       "    }\n",
       "\n",
       "    .dataframe tbody tr th {\n",
       "        vertical-align: top;\n",
       "    }\n",
       "\n",
       "    .dataframe thead th {\n",
       "        text-align: right;\n",
       "    }\n",
       "</style>\n",
       "<table border=\"1\" class=\"dataframe\">\n",
       "  <thead>\n",
       "    <tr style=\"text-align: right;\">\n",
       "      <th></th>\n",
       "      <th>CourseId</th>\n",
       "      <th>CourseName</th>\n",
       "      <th>CourseShortID</th>\n",
       "      <th>TeacherId</th>\n",
       "    </tr>\n",
       "  </thead>\n",
       "  <tbody>\n",
       "    <tr>\n",
       "      <th>0</th>\n",
       "      <td>1</td>\n",
       "      <td>Introduction to Python</td>\n",
       "      <td>EAS503</td>\n",
       "      <td>1.0</td>\n",
       "    </tr>\n",
       "    <tr>\n",
       "      <th>1</th>\n",
       "      <td>2</td>\n",
       "      <td>Introduction to Probability</td>\n",
       "      <td>EAS501</td>\n",
       "      <td>2.0</td>\n",
       "    </tr>\n",
       "    <tr>\n",
       "      <th>2</th>\n",
       "      <td>3</td>\n",
       "      <td>Introduction to Numerical Mathematics</td>\n",
       "      <td>EAS502</td>\n",
       "      <td>NaN</td>\n",
       "    </tr>\n",
       "    <tr>\n",
       "      <th>3</th>\n",
       "      <td>4</td>\n",
       "      <td>Statistical Learning</td>\n",
       "      <td>EAS595</td>\n",
       "      <td>1.0</td>\n",
       "    </tr>\n",
       "  </tbody>\n",
       "</table>\n",
       "</div>"
      ],
      "text/plain": [
       "   CourseId                             CourseName CourseShortID  TeacherId\n",
       "0         1                 Introduction to Python        EAS503        1.0\n",
       "1         2            Introduction to Probability        EAS501        2.0\n",
       "2         3  Introduction to Numerical Mathematics        EAS502        NaN\n",
       "3         4                   Statistical Learning        EAS595        1.0"
      ]
     },
     "metadata": {},
     "output_type": "display_data"
    }
   ],
   "source": [
    "cur.executescript(\"\"\"\n",
    "DROP TABLE IF EXISTS Courses;\n",
    "DROP TABLE IF EXISTS Teachers;\n",
    "\n",
    "\n",
    "CREATE TABLE Teachers (\n",
    "   TeacherId INTEGER NOT NULL PRIMARY KEY,\n",
    "   TeacherName  TEXT NOT NULL,\n",
    "   TeacherEmployeeID INTEGER NOT NULL,\n",
    "   UNIQUE (TeacherEmployeeID)\n",
    ");\n",
    "\n",
    "CREATE TABLE Courses(\n",
    "  CourseId     INTEGER NOT NULL PRIMARY KEY,\n",
    "  CourseName   TEXT NOT NULL,\n",
    "  CourseShortID   TEXT NOT NULL,\n",
    "  TeacherId INTEGER NULL,\n",
    "  FOREIGN KEY(TeacherId) REFERENCES Teachers(TeacherId),\n",
    "  UNIQUE (CourseName, CourseShortID)\n",
    ");\n",
    "\n",
    "INSERT INTO Teachers (TeacherName, TeacherEmployeeID)\n",
    "VALUES ('Melissa Larson', 10001),\n",
    "       ('Christopher Smith', 10002),\n",
    "       ('Rohit Sharma', 10003);\n",
    "\n",
    "\n",
    "INSERT INTO Courses (CourseName, CourseShortID, TeacherId)\n",
    "VALUES ('Introduction to Python', 'EAS503', 1),\n",
    "       ('Introduction to Probability', 'EAS501', 2),\n",
    "       ('Introduction to Numerical Mathematics', 'EAS502', NULL),\n",
    "       ('Statistical Learning', 'EAS595',1);\n",
    "\n",
    "\"\"\")\n",
    "\n",
    "show_table(conn, \"Teachers\")\n",
    "show_table(conn, \"Courses\")"
   ]
  },
  {
   "cell_type": "markdown",
   "metadata": {
    "pycharm": {
     "name": "#%% md\n"
    }
   },
   "source": [
    "## Joining"
   ]
  },
  {
   "cell_type": "code",
   "execution_count": 28,
   "metadata": {
    "pycharm": {
     "name": "#%%\n"
    }
   },
   "outputs": [
    {
     "data": {
      "text/html": [
       "<div>\n",
       "<style scoped>\n",
       "    .dataframe tbody tr th:only-of-type {\n",
       "        vertical-align: middle;\n",
       "    }\n",
       "\n",
       "    .dataframe tbody tr th {\n",
       "        vertical-align: top;\n",
       "    }\n",
       "\n",
       "    .dataframe thead th {\n",
       "        text-align: right;\n",
       "    }\n",
       "</style>\n",
       "<table border=\"1\" class=\"dataframe\">\n",
       "  <thead>\n",
       "    <tr style=\"text-align: right;\">\n",
       "      <th></th>\n",
       "      <th>TeacherId</th>\n",
       "      <th>TeacherName</th>\n",
       "      <th>TeacherEmployeeID</th>\n",
       "      <th>CourseId</th>\n",
       "      <th>CourseName</th>\n",
       "      <th>CourseShortID</th>\n",
       "      <th>TeacherId</th>\n",
       "    </tr>\n",
       "  </thead>\n",
       "  <tbody>\n",
       "    <tr>\n",
       "      <th>0</th>\n",
       "      <td>1</td>\n",
       "      <td>Melissa Larson</td>\n",
       "      <td>10001</td>\n",
       "      <td>1</td>\n",
       "      <td>Introduction to Python</td>\n",
       "      <td>EAS503</td>\n",
       "      <td>1</td>\n",
       "    </tr>\n",
       "    <tr>\n",
       "      <th>1</th>\n",
       "      <td>2</td>\n",
       "      <td>Christopher Smith</td>\n",
       "      <td>10002</td>\n",
       "      <td>2</td>\n",
       "      <td>Introduction to Probability</td>\n",
       "      <td>EAS501</td>\n",
       "      <td>2</td>\n",
       "    </tr>\n",
       "    <tr>\n",
       "      <th>2</th>\n",
       "      <td>1</td>\n",
       "      <td>Melissa Larson</td>\n",
       "      <td>10001</td>\n",
       "      <td>4</td>\n",
       "      <td>Statistical Learning</td>\n",
       "      <td>EAS595</td>\n",
       "      <td>1</td>\n",
       "    </tr>\n",
       "  </tbody>\n",
       "</table>\n",
       "</div>"
      ],
      "text/plain": [
       "   TeacherId        TeacherName  TeacherEmployeeID  CourseId  \\\n",
       "0          1     Melissa Larson              10001         1   \n",
       "1          2  Christopher Smith              10002         2   \n",
       "2          1     Melissa Larson              10001         4   \n",
       "\n",
       "                    CourseName CourseShortID  TeacherId  \n",
       "0       Introduction to Python        EAS503          1  \n",
       "1  Introduction to Probability        EAS501          2  \n",
       "2         Statistical Learning        EAS595          1  "
      ]
     },
     "metadata": {},
     "output_type": "display_data"
    }
   ],
   "source": [
    "df = pd.read_sql_query(\"\"\"\n",
    "    SELECT *\n",
    "    FROM Teachers as t\n",
    "        INNER JOIN Courses as c\n",
    "        ON t.TeacherId = c.TeacherId;\n",
    "\"\"\", conn)\n",
    "display(df)"
   ]
  },
  {
   "cell_type": "code",
   "execution_count": 32,
   "metadata": {
    "pycharm": {
     "name": "#%%\n"
    }
   },
   "outputs": [
    {
     "data": {
      "text/html": [
       "<div>\n",
       "<style scoped>\n",
       "    .dataframe tbody tr th:only-of-type {\n",
       "        vertical-align: middle;\n",
       "    }\n",
       "\n",
       "    .dataframe tbody tr th {\n",
       "        vertical-align: top;\n",
       "    }\n",
       "\n",
       "    .dataframe thead th {\n",
       "        text-align: right;\n",
       "    }\n",
       "</style>\n",
       "<table border=\"1\" class=\"dataframe\">\n",
       "  <thead>\n",
       "    <tr style=\"text-align: right;\">\n",
       "      <th></th>\n",
       "      <th>TeacherName</th>\n",
       "      <th>CourseName</th>\n",
       "      <th>CourseShortID</th>\n",
       "    </tr>\n",
       "  </thead>\n",
       "  <tbody>\n",
       "    <tr>\n",
       "      <th>0</th>\n",
       "      <td>Melissa Larson</td>\n",
       "      <td>Introduction to Python</td>\n",
       "      <td>EAS503</td>\n",
       "    </tr>\n",
       "    <tr>\n",
       "      <th>1</th>\n",
       "      <td>Melissa Larson</td>\n",
       "      <td>Statistical Learning</td>\n",
       "      <td>EAS595</td>\n",
       "    </tr>\n",
       "    <tr>\n",
       "      <th>2</th>\n",
       "      <td>Christopher Smith</td>\n",
       "      <td>Introduction to Probability</td>\n",
       "      <td>EAS501</td>\n",
       "    </tr>\n",
       "    <tr>\n",
       "      <th>3</th>\n",
       "      <td>Rohit Sharma</td>\n",
       "      <td>None</td>\n",
       "      <td>None</td>\n",
       "    </tr>\n",
       "  </tbody>\n",
       "</table>\n",
       "</div>"
      ],
      "text/plain": [
       "         TeacherName                   CourseName CourseShortID\n",
       "0     Melissa Larson       Introduction to Python        EAS503\n",
       "1     Melissa Larson         Statistical Learning        EAS595\n",
       "2  Christopher Smith  Introduction to Probability        EAS501\n",
       "3       Rohit Sharma                         None          None"
      ]
     },
     "metadata": {},
     "output_type": "display_data"
    }
   ],
   "source": [
    "df = pd.read_sql_query(\"\"\"\n",
    "    SELECT TeacherName, CourseName, CourseShortID\n",
    "    FROM Teachers as t\n",
    "        LEFT JOIN Courses as c\n",
    "        ON t.TeacherId = c.TeacherId;\n",
    "\"\"\", conn)\n",
    "display(df)"
   ]
  },
  {
   "cell_type": "markdown",
   "metadata": {
    "pycharm": {
     "name": "#%% md\n"
    }
   },
   "source": [
    "- INNER JOIN - matches between left and right tables\n",
    "- LEFT JOIN - for each record on left find record(s) on right or place NULL\n",
    "- RIGHT and FULL OUTER JOINs are not currently supported"
   ]
  },
  {
   "cell_type": "markdown",
   "metadata": {
    "pycharm": {
     "name": "#%% md\n"
    }
   },
   "source": [
    "## Multiple Joining"
   ]
  },
  {
   "cell_type": "code",
   "execution_count": 33,
   "metadata": {
    "pycharm": {
     "name": "#%%\n"
    },
    "scrolled": true
   },
   "outputs": [
    {
     "name": "stdout",
     "output_type": "stream",
     "text": [
      "Table: Colors\n"
     ]
    },
    {
     "data": {
      "text/html": [
       "<div>\n",
       "<style scoped>\n",
       "    .dataframe tbody tr th:only-of-type {\n",
       "        vertical-align: middle;\n",
       "    }\n",
       "\n",
       "    .dataframe tbody tr th {\n",
       "        vertical-align: top;\n",
       "    }\n",
       "\n",
       "    .dataframe thead th {\n",
       "        text-align: right;\n",
       "    }\n",
       "</style>\n",
       "<table border=\"1\" class=\"dataframe\">\n",
       "  <thead>\n",
       "    <tr style=\"text-align: right;\">\n",
       "      <th></th>\n",
       "      <th>color_id</th>\n",
       "      <th>color</th>\n",
       "    </tr>\n",
       "  </thead>\n",
       "  <tbody>\n",
       "    <tr>\n",
       "      <th>0</th>\n",
       "      <td>1</td>\n",
       "      <td>Red</td>\n",
       "    </tr>\n",
       "    <tr>\n",
       "      <th>1</th>\n",
       "      <td>2</td>\n",
       "      <td>Blue</td>\n",
       "    </tr>\n",
       "    <tr>\n",
       "      <th>2</th>\n",
       "      <td>3</td>\n",
       "      <td>Greeen</td>\n",
       "    </tr>\n",
       "  </tbody>\n",
       "</table>\n",
       "</div>"
      ],
      "text/plain": [
       "   color_id   color\n",
       "0         1     Red\n",
       "1         2    Blue\n",
       "2         3  Greeen"
      ]
     },
     "metadata": {},
     "output_type": "display_data"
    },
    {
     "name": "stdout",
     "output_type": "stream",
     "text": [
      "Table: MakeModels\n"
     ]
    },
    {
     "data": {
      "text/html": [
       "<div>\n",
       "<style scoped>\n",
       "    .dataframe tbody tr th:only-of-type {\n",
       "        vertical-align: middle;\n",
       "    }\n",
       "\n",
       "    .dataframe tbody tr th {\n",
       "        vertical-align: top;\n",
       "    }\n",
       "\n",
       "    .dataframe thead th {\n",
       "        text-align: right;\n",
       "    }\n",
       "</style>\n",
       "<table border=\"1\" class=\"dataframe\">\n",
       "  <thead>\n",
       "    <tr style=\"text-align: right;\">\n",
       "      <th></th>\n",
       "      <th>make_model_id</th>\n",
       "      <th>Make</th>\n",
       "      <th>Model</th>\n",
       "      <th>Year</th>\n",
       "    </tr>\n",
       "  </thead>\n",
       "  <tbody>\n",
       "    <tr>\n",
       "      <th>0</th>\n",
       "      <td>1</td>\n",
       "      <td>Ford</td>\n",
       "      <td>Explorer</td>\n",
       "      <td>2019</td>\n",
       "    </tr>\n",
       "    <tr>\n",
       "      <th>1</th>\n",
       "      <td>2</td>\n",
       "      <td>Tayota</td>\n",
       "      <td>Camrey</td>\n",
       "      <td>2020</td>\n",
       "    </tr>\n",
       "    <tr>\n",
       "      <th>2</th>\n",
       "      <td>3</td>\n",
       "      <td>Honda</td>\n",
       "      <td>Accord</td>\n",
       "      <td>2021</td>\n",
       "    </tr>\n",
       "  </tbody>\n",
       "</table>\n",
       "</div>"
      ],
      "text/plain": [
       "   make_model_id    Make     Model  Year\n",
       "0              1    Ford  Explorer  2019\n",
       "1              2  Tayota    Camrey  2020\n",
       "2              3   Honda    Accord  2021"
      ]
     },
     "metadata": {},
     "output_type": "display_data"
    },
    {
     "name": "stdout",
     "output_type": "stream",
     "text": [
      "Table: Cars\n"
     ]
    },
    {
     "data": {
      "text/html": [
       "<div>\n",
       "<style scoped>\n",
       "    .dataframe tbody tr th:only-of-type {\n",
       "        vertical-align: middle;\n",
       "    }\n",
       "\n",
       "    .dataframe tbody tr th {\n",
       "        vertical-align: top;\n",
       "    }\n",
       "\n",
       "    .dataframe thead th {\n",
       "        text-align: right;\n",
       "    }\n",
       "</style>\n",
       "<table border=\"1\" class=\"dataframe\">\n",
       "  <thead>\n",
       "    <tr style=\"text-align: right;\">\n",
       "      <th></th>\n",
       "      <th>car_id</th>\n",
       "      <th>make_model_id</th>\n",
       "      <th>color_id</th>\n",
       "      <th>available</th>\n",
       "    </tr>\n",
       "  </thead>\n",
       "  <tbody>\n",
       "    <tr>\n",
       "      <th>0</th>\n",
       "      <td>1</td>\n",
       "      <td>1</td>\n",
       "      <td>1</td>\n",
       "      <td>1</td>\n",
       "    </tr>\n",
       "    <tr>\n",
       "      <th>1</th>\n",
       "      <td>2</td>\n",
       "      <td>2</td>\n",
       "      <td>1</td>\n",
       "      <td>1</td>\n",
       "    </tr>\n",
       "    <tr>\n",
       "      <th>2</th>\n",
       "      <td>3</td>\n",
       "      <td>3</td>\n",
       "      <td>1</td>\n",
       "      <td>1</td>\n",
       "    </tr>\n",
       "    <tr>\n",
       "      <th>3</th>\n",
       "      <td>4</td>\n",
       "      <td>1</td>\n",
       "      <td>2</td>\n",
       "      <td>0</td>\n",
       "    </tr>\n",
       "    <tr>\n",
       "      <th>4</th>\n",
       "      <td>5</td>\n",
       "      <td>1</td>\n",
       "      <td>2</td>\n",
       "      <td>0</td>\n",
       "    </tr>\n",
       "    <tr>\n",
       "      <th>5</th>\n",
       "      <td>6</td>\n",
       "      <td>3</td>\n",
       "      <td>2</td>\n",
       "      <td>0</td>\n",
       "    </tr>\n",
       "  </tbody>\n",
       "</table>\n",
       "</div>"
      ],
      "text/plain": [
       "   car_id  make_model_id  color_id  available\n",
       "0       1              1         1          1\n",
       "1       2              2         1          1\n",
       "2       3              3         1          1\n",
       "3       4              1         2          0\n",
       "4       5              1         2          0\n",
       "5       6              3         2          0"
      ]
     },
     "metadata": {},
     "output_type": "display_data"
    }
   ],
   "source": [
    "cur.executescript(\"\"\"\n",
    "DROP TABLE IF EXISTS Cars;\n",
    "DROP TABLE IF EXISTS Colors;\n",
    "DROP TABLE IF EXISTS MakeModels;\n",
    "\n",
    "\n",
    "CREATE TABLE Colors (\n",
    "   color_id INTEGER NOT NULL PRIMARY KEY,\n",
    "   color  TEXT NOT NULL,\n",
    "   UNIQUE (color)\n",
    ");\n",
    "\n",
    "CREATE TABLE MakeModels (\n",
    "  make_model_id     INTEGER NOT NULL PRIMARY KEY,\n",
    "  Make   TEXT NOT NULL,\n",
    "  Model   TEXT NOT NULL,\n",
    "  Year INTEGER NOT NULL,\n",
    "  UNIQUE (Make, Model)\n",
    ");\n",
    "\n",
    "CREATE TABLE Cars (\n",
    "   car_id INTEGER NOT NULL PRIMARY KEY,\n",
    "   make_model_id INTEGER NOT NULL,\n",
    "   color_id INTEGER NOT NULL,\n",
    "   available INTEGER NOT NULL,\n",
    "   FOREIGN KEY(make_model_id) REFERENCES MakeModels(make_model_id),\n",
    "   FOREIGN KEY(color_id) REFERENCES Colors(color_id)\n",
    ");\n",
    "\n",
    "INSERT INTO Colors (color) VALUES ('Red');\n",
    "INSERT INTO Colors (color) VALUES ('Blue');\n",
    "INSERT INTO Colors (color) VALUES ('Greeen');\n",
    "\n",
    "INSERT INTO MakeModels (Make, Model, Year) VALUES ('Ford', 'Explorer', 2019);\n",
    "INSERT INTO MakeModels (Make, Model, Year) VALUES ('Tayota', 'Camrey', 2020);\n",
    "INSERT INTO MakeModels (Make, Model, Year) VALUES ('Honda', 'Accord', 2021);\n",
    "\n",
    "INSERT INTO Cars (make_model_id, color_id, available) VALUES (1, 1, 1);\n",
    "INSERT INTO Cars (make_model_id, color_id, available) VALUES (2, 1, 1);\n",
    "INSERT INTO Cars (make_model_id, color_id, available) VALUES (3, 1, 1);\n",
    "INSERT INTO Cars (make_model_id, color_id, available) VALUES (1, 2, 0);\n",
    "INSERT INTO Cars (make_model_id, color_id, available) VALUES (1, 2, 0);\n",
    "INSERT INTO Cars (make_model_id, color_id, available) VALUES (3, 2, 0);\n",
    "\"\"\")\n",
    "\n",
    "show_table(conn, \"Colors\")\n",
    "show_table(conn, \"MakeModels\")\n",
    "show_table(conn, \"Cars\")"
   ]
  },
  {
   "cell_type": "code",
   "execution_count": 40,
   "metadata": {
    "pycharm": {
     "name": "#%%\n"
    }
   },
   "outputs": [
    {
     "data": {
      "text/html": [
       "<div>\n",
       "<style scoped>\n",
       "    .dataframe tbody tr th:only-of-type {\n",
       "        vertical-align: middle;\n",
       "    }\n",
       "\n",
       "    .dataframe tbody tr th {\n",
       "        vertical-align: top;\n",
       "    }\n",
       "\n",
       "    .dataframe thead th {\n",
       "        text-align: right;\n",
       "    }\n",
       "</style>\n",
       "<table border=\"1\" class=\"dataframe\">\n",
       "  <thead>\n",
       "    <tr style=\"text-align: right;\">\n",
       "      <th></th>\n",
       "      <th>car_id</th>\n",
       "      <th>Make</th>\n",
       "      <th>Model</th>\n",
       "      <th>Year</th>\n",
       "      <th>color</th>\n",
       "    </tr>\n",
       "  </thead>\n",
       "  <tbody>\n",
       "    <tr>\n",
       "      <th>0</th>\n",
       "      <td>1</td>\n",
       "      <td>Ford</td>\n",
       "      <td>Explorer</td>\n",
       "      <td>2019</td>\n",
       "      <td>Red</td>\n",
       "    </tr>\n",
       "    <tr>\n",
       "      <th>1</th>\n",
       "      <td>2</td>\n",
       "      <td>Toyota</td>\n",
       "      <td>Camrey</td>\n",
       "      <td>2020</td>\n",
       "      <td>Red</td>\n",
       "    </tr>\n",
       "    <tr>\n",
       "      <th>2</th>\n",
       "      <td>3</td>\n",
       "      <td>Honda</td>\n",
       "      <td>Accord</td>\n",
       "      <td>2021</td>\n",
       "      <td>Red</td>\n",
       "    </tr>\n",
       "    <tr>\n",
       "      <th>3</th>\n",
       "      <td>4</td>\n",
       "      <td>Ford</td>\n",
       "      <td>Explorer</td>\n",
       "      <td>2019</td>\n",
       "      <td>Blue</td>\n",
       "    </tr>\n",
       "    <tr>\n",
       "      <th>4</th>\n",
       "      <td>5</td>\n",
       "      <td>Ford</td>\n",
       "      <td>Explorer</td>\n",
       "      <td>2019</td>\n",
       "      <td>Blue</td>\n",
       "    </tr>\n",
       "    <tr>\n",
       "      <th>5</th>\n",
       "      <td>6</td>\n",
       "      <td>Honda</td>\n",
       "      <td>Accord</td>\n",
       "      <td>2021</td>\n",
       "      <td>Blue</td>\n",
       "    </tr>\n",
       "  </tbody>\n",
       "</table>\n",
       "</div>"
      ],
      "text/plain": [
       "   car_id    Make     Model  Year color\n",
       "0       1    Ford  Explorer  2019   Red\n",
       "1       2  Toyota    Camrey  2020   Red\n",
       "2       3   Honda    Accord  2021   Red\n",
       "3       4    Ford  Explorer  2019  Blue\n",
       "4       5    Ford  Explorer  2019  Blue\n",
       "5       6   Honda    Accord  2021  Blue"
      ]
     },
     "metadata": {},
     "output_type": "display_data"
    }
   ],
   "source": [
    "# make it with text values\n",
    "df = pd.read_sql_query(\"\"\"\n",
    "    SELECT car_id, MakeModels.Make, Model, Year, color\n",
    "    FROM Cars\n",
    "    INNER JOIN Colors On Colors.color_id=Cars.color_id\n",
    "    INNER JOIN MakeModels On MakeModels.make_model_id=Cars.make_model_id;\n",
    "\"\"\", conn)\n",
    "display(df)"
   ]
  },
  {
   "cell_type": "markdown",
   "metadata": {
    "pycharm": {
     "name": "#%% md\n"
    }
   },
   "source": [
    "## Updating Values"
   ]
  },
  {
   "cell_type": "code",
   "execution_count": 38,
   "metadata": {
    "pycharm": {
     "name": "#%%\n"
    }
   },
   "outputs": [
    {
     "data": {
      "text/html": [
       "<div>\n",
       "<style scoped>\n",
       "    .dataframe tbody tr th:only-of-type {\n",
       "        vertical-align: middle;\n",
       "    }\n",
       "\n",
       "    .dataframe tbody tr th {\n",
       "        vertical-align: top;\n",
       "    }\n",
       "\n",
       "    .dataframe thead th {\n",
       "        text-align: right;\n",
       "    }\n",
       "</style>\n",
       "<table border=\"1\" class=\"dataframe\">\n",
       "  <thead>\n",
       "    <tr style=\"text-align: right;\">\n",
       "      <th></th>\n",
       "      <th>color_id</th>\n",
       "      <th>color</th>\n",
       "    </tr>\n",
       "  </thead>\n",
       "  <tbody>\n",
       "    <tr>\n",
       "      <th>0</th>\n",
       "      <td>1</td>\n",
       "      <td>Red</td>\n",
       "    </tr>\n",
       "    <tr>\n",
       "      <th>1</th>\n",
       "      <td>2</td>\n",
       "      <td>Blue</td>\n",
       "    </tr>\n",
       "    <tr>\n",
       "      <th>2</th>\n",
       "      <td>3</td>\n",
       "      <td>Green</td>\n",
       "    </tr>\n",
       "  </tbody>\n",
       "</table>\n",
       "</div>"
      ],
      "text/plain": [
       "   color_id  color\n",
       "0         1    Red\n",
       "1         2   Blue\n",
       "2         3  Green"
      ]
     },
     "metadata": {},
     "output_type": "display_data"
    }
   ],
   "source": [
    "cur.execute(\"\"\"\n",
    "    UPDATE Colors SET color = 'Green' WHERE color = \"Greeen\";\"\"\")\n",
    "\n",
    "df = pd.read_sql_query(\"SELECT * FROM Colors;\", conn)\n",
    "display(df)"
   ]
  },
  {
   "cell_type": "code",
   "execution_count": null,
   "metadata": {
    "pycharm": {
     "name": "#%%\n"
    }
   },
   "outputs": [],
   "source": []
  },
  {
   "cell_type": "code",
   "execution_count": 39,
   "metadata": {
    "pycharm": {
     "name": "#%%\n"
    }
   },
   "outputs": [
    {
     "data": {
      "text/html": [
       "<div>\n",
       "<style scoped>\n",
       "    .dataframe tbody tr th:only-of-type {\n",
       "        vertical-align: middle;\n",
       "    }\n",
       "\n",
       "    .dataframe tbody tr th {\n",
       "        vertical-align: top;\n",
       "    }\n",
       "\n",
       "    .dataframe thead th {\n",
       "        text-align: right;\n",
       "    }\n",
       "</style>\n",
       "<table border=\"1\" class=\"dataframe\">\n",
       "  <thead>\n",
       "    <tr style=\"text-align: right;\">\n",
       "      <th></th>\n",
       "      <th>make_model_id</th>\n",
       "      <th>Make</th>\n",
       "      <th>Model</th>\n",
       "      <th>Year</th>\n",
       "    </tr>\n",
       "  </thead>\n",
       "  <tbody>\n",
       "    <tr>\n",
       "      <th>0</th>\n",
       "      <td>1</td>\n",
       "      <td>Ford</td>\n",
       "      <td>Explorer</td>\n",
       "      <td>2019</td>\n",
       "    </tr>\n",
       "    <tr>\n",
       "      <th>1</th>\n",
       "      <td>2</td>\n",
       "      <td>Toyota</td>\n",
       "      <td>Camrey</td>\n",
       "      <td>2020</td>\n",
       "    </tr>\n",
       "    <tr>\n",
       "      <th>2</th>\n",
       "      <td>3</td>\n",
       "      <td>Honda</td>\n",
       "      <td>Accord</td>\n",
       "      <td>2021</td>\n",
       "    </tr>\n",
       "  </tbody>\n",
       "</table>\n",
       "</div>"
      ],
      "text/plain": [
       "   make_model_id    Make     Model  Year\n",
       "0              1    Ford  Explorer  2019\n",
       "1              2  Toyota    Camrey  2020\n",
       "2              3   Honda    Accord  2021"
      ]
     },
     "metadata": {},
     "output_type": "display_data"
    }
   ],
   "source": [
    "cur.execute(\"\"\"\n",
    "    UPDATE MakeModels\n",
    "    SET Make = 'Toyota'\n",
    "    WHERE Make = \"Tayota\";\n",
    "    \"\"\")\n",
    "\n",
    "df = pd.read_sql_query(\"SELECT * FROM MakeModels;\", conn)\n",
    "display(df)"
   ]
  },
  {
   "cell_type": "code",
   "execution_count": null,
   "metadata": {
    "pycharm": {
     "name": "#%%\n"
    }
   },
   "outputs": [],
   "source": []
  },
  {
   "cell_type": "code",
   "execution_count": 41,
   "metadata": {
    "pycharm": {
     "name": "#%%\n"
    }
   },
   "outputs": [
    {
     "data": {
      "text/html": [
       "<div>\n",
       "<style scoped>\n",
       "    .dataframe tbody tr th:only-of-type {\n",
       "        vertical-align: middle;\n",
       "    }\n",
       "\n",
       "    .dataframe tbody tr th {\n",
       "        vertical-align: top;\n",
       "    }\n",
       "\n",
       "    .dataframe thead th {\n",
       "        text-align: right;\n",
       "    }\n",
       "</style>\n",
       "<table border=\"1\" class=\"dataframe\">\n",
       "  <thead>\n",
       "    <tr style=\"text-align: right;\">\n",
       "      <th></th>\n",
       "      <th>make_model_id</th>\n",
       "      <th>Make</th>\n",
       "      <th>Model</th>\n",
       "      <th>Year</th>\n",
       "    </tr>\n",
       "  </thead>\n",
       "  <tbody>\n",
       "    <tr>\n",
       "      <th>0</th>\n",
       "      <td>1</td>\n",
       "      <td>Ford</td>\n",
       "      <td>Explorer</td>\n",
       "      <td>2019</td>\n",
       "    </tr>\n",
       "    <tr>\n",
       "      <th>1</th>\n",
       "      <td>2</td>\n",
       "      <td>Toyota</td>\n",
       "      <td>Camry</td>\n",
       "      <td>2020</td>\n",
       "    </tr>\n",
       "    <tr>\n",
       "      <th>2</th>\n",
       "      <td>3</td>\n",
       "      <td>Honda</td>\n",
       "      <td>Accord</td>\n",
       "      <td>2021</td>\n",
       "    </tr>\n",
       "  </tbody>\n",
       "</table>\n",
       "</div>"
      ],
      "text/plain": [
       "   make_model_id    Make     Model  Year\n",
       "0              1    Ford  Explorer  2019\n",
       "1              2  Toyota     Camry  2020\n",
       "2              3   Honda    Accord  2021"
      ]
     },
     "metadata": {},
     "output_type": "display_data"
    }
   ],
   "source": [
    "cur.execute(\"\"\"\n",
    "    UPDATE MakeModels\n",
    "    SET Model = 'Camry'\n",
    "    WHERE Model = \"Camrey\";\"\"\")\n",
    "\n",
    "df = pd.read_sql_query(\"SELECT * FROM MakeModels;\", conn)\n",
    "display(df)"
   ]
  },
  {
   "cell_type": "code",
   "execution_count": 42,
   "metadata": {
    "pycharm": {
     "name": "#%%\n"
    }
   },
   "outputs": [
    {
     "data": {
      "text/html": [
       "<div>\n",
       "<style scoped>\n",
       "    .dataframe tbody tr th:only-of-type {\n",
       "        vertical-align: middle;\n",
       "    }\n",
       "\n",
       "    .dataframe tbody tr th {\n",
       "        vertical-align: top;\n",
       "    }\n",
       "\n",
       "    .dataframe thead th {\n",
       "        text-align: right;\n",
       "    }\n",
       "</style>\n",
       "<table border=\"1\" class=\"dataframe\">\n",
       "  <thead>\n",
       "    <tr style=\"text-align: right;\">\n",
       "      <th></th>\n",
       "      <th>car_id</th>\n",
       "      <th>Make</th>\n",
       "      <th>Model</th>\n",
       "      <th>Year</th>\n",
       "      <th>color</th>\n",
       "      <th>available</th>\n",
       "    </tr>\n",
       "  </thead>\n",
       "  <tbody>\n",
       "    <tr>\n",
       "      <th>0</th>\n",
       "      <td>1</td>\n",
       "      <td>Ford</td>\n",
       "      <td>Explorer</td>\n",
       "      <td>2019</td>\n",
       "      <td>Red</td>\n",
       "      <td>1</td>\n",
       "    </tr>\n",
       "    <tr>\n",
       "      <th>1</th>\n",
       "      <td>2</td>\n",
       "      <td>Toyota</td>\n",
       "      <td>Camry</td>\n",
       "      <td>2020</td>\n",
       "      <td>Red</td>\n",
       "      <td>1</td>\n",
       "    </tr>\n",
       "    <tr>\n",
       "      <th>2</th>\n",
       "      <td>3</td>\n",
       "      <td>Honda</td>\n",
       "      <td>Accord</td>\n",
       "      <td>2021</td>\n",
       "      <td>Red</td>\n",
       "      <td>1</td>\n",
       "    </tr>\n",
       "    <tr>\n",
       "      <th>3</th>\n",
       "      <td>4</td>\n",
       "      <td>Ford</td>\n",
       "      <td>Explorer</td>\n",
       "      <td>2019</td>\n",
       "      <td>Blue</td>\n",
       "      <td>0</td>\n",
       "    </tr>\n",
       "    <tr>\n",
       "      <th>4</th>\n",
       "      <td>5</td>\n",
       "      <td>Ford</td>\n",
       "      <td>Explorer</td>\n",
       "      <td>2019</td>\n",
       "      <td>Blue</td>\n",
       "      <td>0</td>\n",
       "    </tr>\n",
       "    <tr>\n",
       "      <th>5</th>\n",
       "      <td>6</td>\n",
       "      <td>Honda</td>\n",
       "      <td>Accord</td>\n",
       "      <td>2021</td>\n",
       "      <td>Blue</td>\n",
       "      <td>0</td>\n",
       "    </tr>\n",
       "  </tbody>\n",
       "</table>\n",
       "</div>"
      ],
      "text/plain": [
       "   car_id    Make     Model  Year color  available\n",
       "0       1    Ford  Explorer  2019   Red          1\n",
       "1       2  Toyota     Camry  2020   Red          1\n",
       "2       3   Honda    Accord  2021   Red          1\n",
       "3       4    Ford  Explorer  2019  Blue          0\n",
       "4       5    Ford  Explorer  2019  Blue          0\n",
       "5       6   Honda    Accord  2021  Blue          0"
      ]
     },
     "metadata": {},
     "output_type": "display_data"
    }
   ],
   "source": [
    "df = pd.read_sql_query(\"\"\"\n",
    "    SELECT Cars.car_id, MakeModels.Make, MakeModels.Model, MakeModels.year, Colors.color, Cars.available\n",
    "    FROM Cars\n",
    "        INNER JOIN MakeModels ON MakeModels.make_model_id = Cars.make_model_id\n",
    "        INNER JOIN Colors ON Colors.color_id = Cars.color_id;\n",
    "\"\"\", conn)\n",
    "display(df)"
   ]
  },
  {
   "cell_type": "markdown",
   "metadata": {},
   "source": [
    "## Simple Delete"
   ]
  },
  {
   "cell_type": "code",
   "execution_count": 43,
   "metadata": {
    "pycharm": {
     "name": "#%%\n"
    }
   },
   "outputs": [
    {
     "data": {
      "text/html": [
       "<div>\n",
       "<style scoped>\n",
       "    .dataframe tbody tr th:only-of-type {\n",
       "        vertical-align: middle;\n",
       "    }\n",
       "\n",
       "    .dataframe tbody tr th {\n",
       "        vertical-align: top;\n",
       "    }\n",
       "\n",
       "    .dataframe thead th {\n",
       "        text-align: right;\n",
       "    }\n",
       "</style>\n",
       "<table border=\"1\" class=\"dataframe\">\n",
       "  <thead>\n",
       "    <tr style=\"text-align: right;\">\n",
       "      <th></th>\n",
       "      <th>car_id</th>\n",
       "      <th>Make</th>\n",
       "      <th>Model</th>\n",
       "      <th>Year</th>\n",
       "      <th>color</th>\n",
       "      <th>available</th>\n",
       "    </tr>\n",
       "  </thead>\n",
       "  <tbody>\n",
       "    <tr>\n",
       "      <th>0</th>\n",
       "      <td>1</td>\n",
       "      <td>Ford</td>\n",
       "      <td>Explorer</td>\n",
       "      <td>2019</td>\n",
       "      <td>Red</td>\n",
       "      <td>1</td>\n",
       "    </tr>\n",
       "    <tr>\n",
       "      <th>1</th>\n",
       "      <td>2</td>\n",
       "      <td>Toyota</td>\n",
       "      <td>Camry</td>\n",
       "      <td>2020</td>\n",
       "      <td>Red</td>\n",
       "      <td>1</td>\n",
       "    </tr>\n",
       "    <tr>\n",
       "      <th>2</th>\n",
       "      <td>3</td>\n",
       "      <td>Honda</td>\n",
       "      <td>Accord</td>\n",
       "      <td>2021</td>\n",
       "      <td>Red</td>\n",
       "      <td>1</td>\n",
       "    </tr>\n",
       "  </tbody>\n",
       "</table>\n",
       "</div>"
      ],
      "text/plain": [
       "   car_id    Make     Model  Year color  available\n",
       "0       1    Ford  Explorer  2019   Red          1\n",
       "1       2  Toyota     Camry  2020   Red          1\n",
       "2       3   Honda    Accord  2021   Red          1"
      ]
     },
     "metadata": {},
     "output_type": "display_data"
    }
   ],
   "source": [
    "# delete\n",
    "cur.execute(\"\"\"\n",
    "    DELETE FROM Cars\n",
    "    WHERE available = 0;\"\"\")\n",
    "\n",
    "df = pd.read_sql_query(\"\"\"\n",
    "    SELECT Cars.car_id, MakeModels.Make, MakeModels.Model, MakeModels.year, Colors.color, Cars.available\n",
    "    FROM Cars\n",
    "        INNER JOIN MakeModels ON MakeModels.make_model_id = Cars.make_model_id\n",
    "        INNER JOIN Colors ON Colors.color_id = Cars.color_id;\n",
    "\"\"\", conn)\n",
    "display(df)"
   ]
  },
  {
   "cell_type": "markdown",
   "metadata": {},
   "source": [
    "## Delete from a linked table"
   ]
  },
  {
   "cell_type": "code",
   "execution_count": 44,
   "metadata": {
    "pycharm": {
     "name": "#%%\n"
    }
   },
   "outputs": [
    {
     "ename": "IntegrityError",
     "evalue": "FOREIGN KEY constraint failed",
     "output_type": "error",
     "traceback": [
      "\u001B[1;31m---------------------------------------------------------------------------\u001B[0m",
      "\u001B[1;31mIntegrityError\u001B[0m                            Traceback (most recent call last)",
      "\u001B[1;32m~\\AppData\\Local\\Temp/ipykernel_12416/2440313825.py\u001B[0m in \u001B[0;36m<module>\u001B[1;34m\u001B[0m\n\u001B[0;32m      1\u001B[0m \u001B[1;31m# delete\u001B[0m\u001B[1;33m\u001B[0m\u001B[1;33m\u001B[0m\u001B[0m\n\u001B[1;32m----> 2\u001B[1;33m cur.execute(\"\"\"\n\u001B[0m\u001B[0;32m      3\u001B[0m     \u001B[0mDELETE\u001B[0m \u001B[0mFROM\u001B[0m \u001B[0mColors\u001B[0m\u001B[1;33m\u001B[0m\u001B[1;33m\u001B[0m\u001B[0m\n\u001B[0;32m      4\u001B[0m     WHERE color = \"Red\";\"\"\")\n",
      "\u001B[1;31mIntegrityError\u001B[0m: FOREIGN KEY constraint failed"
     ]
    }
   ],
   "source": [
    "# delete\n",
    "cur.execute(\"\"\"\n",
    "    DELETE FROM Colors\n",
    "    WHERE color = \"Red\";\"\"\")"
   ]
  },
  {
   "cell_type": "code",
   "execution_count": 45,
   "metadata": {
    "pycharm": {
     "name": "#%%\n"
    }
   },
   "outputs": [
    {
     "data": {
      "text/html": [
       "<div>\n",
       "<style scoped>\n",
       "    .dataframe tbody tr th:only-of-type {\n",
       "        vertical-align: middle;\n",
       "    }\n",
       "\n",
       "    .dataframe tbody tr th {\n",
       "        vertical-align: top;\n",
       "    }\n",
       "\n",
       "    .dataframe thead th {\n",
       "        text-align: right;\n",
       "    }\n",
       "</style>\n",
       "<table border=\"1\" class=\"dataframe\">\n",
       "  <thead>\n",
       "    <tr style=\"text-align: right;\">\n",
       "      <th></th>\n",
       "      <th>car_id</th>\n",
       "      <th>Make</th>\n",
       "      <th>Model</th>\n",
       "      <th>Year</th>\n",
       "      <th>color</th>\n",
       "      <th>available</th>\n",
       "    </tr>\n",
       "  </thead>\n",
       "  <tbody>\n",
       "    <tr>\n",
       "      <th>0</th>\n",
       "      <td>1</td>\n",
       "      <td>Ford</td>\n",
       "      <td>Explorer</td>\n",
       "      <td>2019</td>\n",
       "      <td>Red</td>\n",
       "      <td>1</td>\n",
       "    </tr>\n",
       "    <tr>\n",
       "      <th>1</th>\n",
       "      <td>2</td>\n",
       "      <td>Toyota</td>\n",
       "      <td>Camry</td>\n",
       "      <td>2020</td>\n",
       "      <td>Red</td>\n",
       "      <td>1</td>\n",
       "    </tr>\n",
       "    <tr>\n",
       "      <th>2</th>\n",
       "      <td>3</td>\n",
       "      <td>Honda</td>\n",
       "      <td>Accord</td>\n",
       "      <td>2021</td>\n",
       "      <td>Red</td>\n",
       "      <td>1</td>\n",
       "    </tr>\n",
       "  </tbody>\n",
       "</table>\n",
       "</div>"
      ],
      "text/plain": [
       "   car_id    Make     Model  Year color  available\n",
       "0       1    Ford  Explorer  2019   Red          1\n",
       "1       2  Toyota     Camry  2020   Red          1\n",
       "2       3   Honda    Accord  2021   Red          1"
      ]
     },
     "metadata": {},
     "output_type": "display_data"
    }
   ],
   "source": [
    "df = pd.read_sql_query(\"\"\"\n",
    "    SELECT Cars.car_id, MakeModels.Make, MakeModels.Model, MakeModels.year, Colors.color, Cars.available\n",
    "    FROM Cars\n",
    "        INNER JOIN MakeModels ON MakeModels.make_model_id = Cars.make_model_id\n",
    "        INNER JOIN Colors ON Colors.color_id = Cars.color_id;\n",
    "\"\"\", conn)\n",
    "display(df)"
   ]
  },
  {
   "cell_type": "code",
   "execution_count": 46,
   "metadata": {
    "pycharm": {
     "name": "#%%\n"
    }
   },
   "outputs": [
    {
     "data": {
      "text/plain": [
       "<sqlite3.Cursor at 0x17b625fd6c0>"
      ]
     },
     "execution_count": 46,
     "metadata": {},
     "output_type": "execute_result"
    }
   ],
   "source": [
    "cur.executescript(\"\"\"\n",
    "    DELETE FROM Cars\n",
    "    WHERE car_id IN (1,2,3);\n",
    "\n",
    "    DELETE FROM Colors\n",
    "    WHERE color = \"Red\";\n",
    "    \"\"\")"
   ]
  },
  {
   "cell_type": "code",
   "execution_count": 59,
   "metadata": {
    "pycharm": {
     "name": "#%%\n"
    }
   },
   "outputs": [
    {
     "data": {
      "text/html": [
       "<div>\n",
       "<style scoped>\n",
       "    .dataframe tbody tr th:only-of-type {\n",
       "        vertical-align: middle;\n",
       "    }\n",
       "\n",
       "    .dataframe tbody tr th {\n",
       "        vertical-align: top;\n",
       "    }\n",
       "\n",
       "    .dataframe thead th {\n",
       "        text-align: right;\n",
       "    }\n",
       "</style>\n",
       "<table border=\"1\" class=\"dataframe\">\n",
       "  <thead>\n",
       "    <tr style=\"text-align: right;\">\n",
       "      <th></th>\n",
       "      <th>car_id</th>\n",
       "      <th>Make</th>\n",
       "      <th>Model</th>\n",
       "      <th>Year</th>\n",
       "      <th>color</th>\n",
       "      <th>available</th>\n",
       "    </tr>\n",
       "  </thead>\n",
       "  <tbody>\n",
       "  </tbody>\n",
       "</table>\n",
       "</div>"
      ],
      "text/plain": [
       "Empty DataFrame\n",
       "Columns: [car_id, Make, Model, Year, color, available]\n",
       "Index: []"
      ]
     },
     "metadata": {},
     "output_type": "display_data"
    }
   ],
   "source": [
    "df = pd.read_sql_query(\"\"\"\n",
    "    SELECT Cars.car_id, MakeModels.Make, MakeModels.Model, MakeModels.year, Colors.color, Cars.available\n",
    "    FROM Cars\n",
    "        INNER JOIN MakeModels ON MakeModels.make_model_id = Cars.make_model_id\n",
    "        INNER JOIN Colors ON Colors.color_id = Cars.color_id;\n",
    "\"\"\", conn)\n",
    "display(df)"
   ]
  },
  {
   "cell_type": "code",
   "execution_count": 60,
   "metadata": {
    "pycharm": {
     "name": "#%%\n"
    }
   },
   "outputs": [
    {
     "data": {
      "text/html": [
       "<div>\n",
       "<style scoped>\n",
       "    .dataframe tbody tr th:only-of-type {\n",
       "        vertical-align: middle;\n",
       "    }\n",
       "\n",
       "    .dataframe tbody tr th {\n",
       "        vertical-align: top;\n",
       "    }\n",
       "\n",
       "    .dataframe thead th {\n",
       "        text-align: right;\n",
       "    }\n",
       "</style>\n",
       "<table border=\"1\" class=\"dataframe\">\n",
       "  <thead>\n",
       "    <tr style=\"text-align: right;\">\n",
       "      <th></th>\n",
       "      <th>color_id</th>\n",
       "      <th>color</th>\n",
       "    </tr>\n",
       "  </thead>\n",
       "  <tbody>\n",
       "    <tr>\n",
       "      <th>0</th>\n",
       "      <td>2</td>\n",
       "      <td>Blue</td>\n",
       "    </tr>\n",
       "    <tr>\n",
       "      <th>1</th>\n",
       "      <td>3</td>\n",
       "      <td>Green</td>\n",
       "    </tr>\n",
       "  </tbody>\n",
       "</table>\n",
       "</div>"
      ],
      "text/plain": [
       "   color_id  color\n",
       "0         2   Blue\n",
       "1         3  Green"
      ]
     },
     "metadata": {},
     "output_type": "display_data"
    }
   ],
   "source": [
    "df = pd.read_sql_query(\"\"\"\n",
    "    SELECT *\n",
    "    FROM Colors;\n",
    "\"\"\", conn)\n",
    "display(df)"
   ]
  },
  {
   "cell_type": "markdown",
   "metadata": {},
   "source": [
    "## Delete from a linked table 2\n",
    "what if we want on deleting color to delete all cars with that color."
   ]
  },
  {
   "cell_type": "code",
   "execution_count": 47,
   "metadata": {
    "pycharm": {
     "name": "#%%\n"
    }
   },
   "outputs": [
    {
     "name": "stdout",
     "output_type": "stream",
     "text": [
      "Table: Colors\n"
     ]
    },
    {
     "data": {
      "text/html": [
       "<div>\n",
       "<style scoped>\n",
       "    .dataframe tbody tr th:only-of-type {\n",
       "        vertical-align: middle;\n",
       "    }\n",
       "\n",
       "    .dataframe tbody tr th {\n",
       "        vertical-align: top;\n",
       "    }\n",
       "\n",
       "    .dataframe thead th {\n",
       "        text-align: right;\n",
       "    }\n",
       "</style>\n",
       "<table border=\"1\" class=\"dataframe\">\n",
       "  <thead>\n",
       "    <tr style=\"text-align: right;\">\n",
       "      <th></th>\n",
       "      <th>color_id</th>\n",
       "      <th>color</th>\n",
       "    </tr>\n",
       "  </thead>\n",
       "  <tbody>\n",
       "    <tr>\n",
       "      <th>0</th>\n",
       "      <td>1</td>\n",
       "      <td>Red</td>\n",
       "    </tr>\n",
       "    <tr>\n",
       "      <th>1</th>\n",
       "      <td>2</td>\n",
       "      <td>Blue</td>\n",
       "    </tr>\n",
       "    <tr>\n",
       "      <th>2</th>\n",
       "      <td>3</td>\n",
       "      <td>Green</td>\n",
       "    </tr>\n",
       "  </tbody>\n",
       "</table>\n",
       "</div>"
      ],
      "text/plain": [
       "   color_id  color\n",
       "0         1    Red\n",
       "1         2   Blue\n",
       "2         3  Green"
      ]
     },
     "metadata": {},
     "output_type": "display_data"
    },
    {
     "name": "stdout",
     "output_type": "stream",
     "text": [
      "Table: MakeModels\n"
     ]
    },
    {
     "data": {
      "text/html": [
       "<div>\n",
       "<style scoped>\n",
       "    .dataframe tbody tr th:only-of-type {\n",
       "        vertical-align: middle;\n",
       "    }\n",
       "\n",
       "    .dataframe tbody tr th {\n",
       "        vertical-align: top;\n",
       "    }\n",
       "\n",
       "    .dataframe thead th {\n",
       "        text-align: right;\n",
       "    }\n",
       "</style>\n",
       "<table border=\"1\" class=\"dataframe\">\n",
       "  <thead>\n",
       "    <tr style=\"text-align: right;\">\n",
       "      <th></th>\n",
       "      <th>make_model_id</th>\n",
       "      <th>Make</th>\n",
       "      <th>Model</th>\n",
       "      <th>Year</th>\n",
       "    </tr>\n",
       "  </thead>\n",
       "  <tbody>\n",
       "    <tr>\n",
       "      <th>0</th>\n",
       "      <td>1</td>\n",
       "      <td>Ford</td>\n",
       "      <td>Explorer</td>\n",
       "      <td>2019</td>\n",
       "    </tr>\n",
       "    <tr>\n",
       "      <th>1</th>\n",
       "      <td>2</td>\n",
       "      <td>Toyota</td>\n",
       "      <td>Camry</td>\n",
       "      <td>2020</td>\n",
       "    </tr>\n",
       "    <tr>\n",
       "      <th>2</th>\n",
       "      <td>3</td>\n",
       "      <td>Honda</td>\n",
       "      <td>Accord</td>\n",
       "      <td>2021</td>\n",
       "    </tr>\n",
       "  </tbody>\n",
       "</table>\n",
       "</div>"
      ],
      "text/plain": [
       "   make_model_id    Make     Model  Year\n",
       "0              1    Ford  Explorer  2019\n",
       "1              2  Toyota     Camry  2020\n",
       "2              3   Honda    Accord  2021"
      ]
     },
     "metadata": {},
     "output_type": "display_data"
    },
    {
     "name": "stdout",
     "output_type": "stream",
     "text": [
      "Table: Cars\n"
     ]
    },
    {
     "data": {
      "text/html": [
       "<div>\n",
       "<style scoped>\n",
       "    .dataframe tbody tr th:only-of-type {\n",
       "        vertical-align: middle;\n",
       "    }\n",
       "\n",
       "    .dataframe tbody tr th {\n",
       "        vertical-align: top;\n",
       "    }\n",
       "\n",
       "    .dataframe thead th {\n",
       "        text-align: right;\n",
       "    }\n",
       "</style>\n",
       "<table border=\"1\" class=\"dataframe\">\n",
       "  <thead>\n",
       "    <tr style=\"text-align: right;\">\n",
       "      <th></th>\n",
       "      <th>car_id</th>\n",
       "      <th>make_model_id</th>\n",
       "      <th>color_id</th>\n",
       "      <th>available</th>\n",
       "    </tr>\n",
       "  </thead>\n",
       "  <tbody>\n",
       "    <tr>\n",
       "      <th>0</th>\n",
       "      <td>1</td>\n",
       "      <td>1</td>\n",
       "      <td>1</td>\n",
       "      <td>1</td>\n",
       "    </tr>\n",
       "    <tr>\n",
       "      <th>1</th>\n",
       "      <td>2</td>\n",
       "      <td>2</td>\n",
       "      <td>1</td>\n",
       "      <td>1</td>\n",
       "    </tr>\n",
       "    <tr>\n",
       "      <th>2</th>\n",
       "      <td>3</td>\n",
       "      <td>3</td>\n",
       "      <td>1</td>\n",
       "      <td>1</td>\n",
       "    </tr>\n",
       "    <tr>\n",
       "      <th>3</th>\n",
       "      <td>4</td>\n",
       "      <td>1</td>\n",
       "      <td>2</td>\n",
       "      <td>0</td>\n",
       "    </tr>\n",
       "    <tr>\n",
       "      <th>4</th>\n",
       "      <td>5</td>\n",
       "      <td>1</td>\n",
       "      <td>2</td>\n",
       "      <td>0</td>\n",
       "    </tr>\n",
       "    <tr>\n",
       "      <th>5</th>\n",
       "      <td>6</td>\n",
       "      <td>3</td>\n",
       "      <td>2</td>\n",
       "      <td>0</td>\n",
       "    </tr>\n",
       "  </tbody>\n",
       "</table>\n",
       "</div>"
      ],
      "text/plain": [
       "   car_id  make_model_id  color_id  available\n",
       "0       1              1         1          1\n",
       "1       2              2         1          1\n",
       "2       3              3         1          1\n",
       "3       4              1         2          0\n",
       "4       5              1         2          0\n",
       "5       6              3         2          0"
      ]
     },
     "metadata": {},
     "output_type": "display_data"
    }
   ],
   "source": [
    "cur.executescript(\"\"\"\n",
    "DROP TABLE IF EXISTS Cars;\n",
    "DROP TABLE IF EXISTS Colors;\n",
    "DROP TABLE IF EXISTS MakeModels;\n",
    "\n",
    "\n",
    "CREATE TABLE Colors (\n",
    "   color_id INTEGER NOT NULL PRIMARY KEY,\n",
    "   color  TEXT NOT NULL,\n",
    "   UNIQUE (color)\n",
    ");\n",
    "\n",
    "CREATE TABLE MakeModels (\n",
    "  make_model_id     INTEGER NOT NULL PRIMARY KEY,\n",
    "  Make   TEXT NOT NULL,\n",
    "  Model   TEXT NOT NULL,\n",
    "  Year INTEGER NOT NULL,\n",
    "  UNIQUE (Make, Model)\n",
    ");\n",
    "\n",
    "CREATE TABLE Cars (\n",
    "   car_id INTEGER NOT NULL PRIMARY KEY,\n",
    "   make_model_id INTEGER NOT NULL,\n",
    "   color_id INTEGER NOT NULL,\n",
    "   available INTEGER NOT NULL,\n",
    "   FOREIGN KEY(make_model_id) REFERENCES MakeModels(make_model_id),\n",
    "\n",
    "   CONSTRAINT fk_color_id\n",
    "     FOREIGN KEY (color_id)\n",
    "     REFERENCES Colors(color_id)\n",
    "     ON DELETE CASCADE\n",
    ");\n",
    "\n",
    "INSERT INTO Colors (color) VALUES ('Red');\n",
    "INSERT INTO Colors (color) VALUES ('Blue');\n",
    "INSERT INTO Colors (color) VALUES ('Green');\n",
    "\n",
    "INSERT INTO MakeModels (Make, Model, Year) VALUES ('Ford', 'Explorer', 2019);\n",
    "INSERT INTO MakeModels (Make, Model, Year) VALUES ('Toyota', 'Camry', 2020);\n",
    "INSERT INTO MakeModels (Make, Model, Year) VALUES ('Honda', 'Accord', 2021);\n",
    "\n",
    "INSERT INTO Cars (make_model_id, color_id, available) VALUES (1, 1, 1);\n",
    "INSERT INTO Cars (make_model_id, color_id, available) VALUES (2, 1, 1);\n",
    "INSERT INTO Cars (make_model_id, color_id, available) VALUES (3, 1, 1);\n",
    "INSERT INTO Cars (make_model_id, color_id, available) VALUES (1, 2, 0);\n",
    "INSERT INTO Cars (make_model_id, color_id, available) VALUES (1, 2, 0);\n",
    "INSERT INTO Cars (make_model_id, color_id, available) VALUES (3, 2, 0);\n",
    "\"\"\")\n",
    "\n",
    "show_table(conn, \"Colors\")\n",
    "show_table(conn, \"MakeModels\")\n",
    "show_table(conn, \"Cars\")"
   ]
  },
  {
   "cell_type": "code",
   "execution_count": 48,
   "metadata": {
    "pycharm": {
     "name": "#%%\n"
    }
   },
   "outputs": [
    {
     "data": {
      "text/plain": [
       "<sqlite3.Cursor at 0x17b625fd6c0>"
      ]
     },
     "execution_count": 48,
     "metadata": {},
     "output_type": "execute_result"
    }
   ],
   "source": [
    "# delete\n",
    "cur.execute(\"\"\"\n",
    "    DELETE FROM Colors\n",
    "    WHERE color = \"Red\";\"\"\")"
   ]
  },
  {
   "cell_type": "code",
   "execution_count": 49,
   "metadata": {
    "pycharm": {
     "name": "#%%\n"
    }
   },
   "outputs": [
    {
     "name": "stdout",
     "output_type": "stream",
     "text": [
      "Table: Colors\n"
     ]
    },
    {
     "data": {
      "text/html": [
       "<div>\n",
       "<style scoped>\n",
       "    .dataframe tbody tr th:only-of-type {\n",
       "        vertical-align: middle;\n",
       "    }\n",
       "\n",
       "    .dataframe tbody tr th {\n",
       "        vertical-align: top;\n",
       "    }\n",
       "\n",
       "    .dataframe thead th {\n",
       "        text-align: right;\n",
       "    }\n",
       "</style>\n",
       "<table border=\"1\" class=\"dataframe\">\n",
       "  <thead>\n",
       "    <tr style=\"text-align: right;\">\n",
       "      <th></th>\n",
       "      <th>color_id</th>\n",
       "      <th>color</th>\n",
       "    </tr>\n",
       "  </thead>\n",
       "  <tbody>\n",
       "    <tr>\n",
       "      <th>0</th>\n",
       "      <td>2</td>\n",
       "      <td>Blue</td>\n",
       "    </tr>\n",
       "    <tr>\n",
       "      <th>1</th>\n",
       "      <td>3</td>\n",
       "      <td>Green</td>\n",
       "    </tr>\n",
       "  </tbody>\n",
       "</table>\n",
       "</div>"
      ],
      "text/plain": [
       "   color_id  color\n",
       "0         2   Blue\n",
       "1         3  Green"
      ]
     },
     "metadata": {},
     "output_type": "display_data"
    },
    {
     "data": {
      "text/html": [
       "<div>\n",
       "<style scoped>\n",
       "    .dataframe tbody tr th:only-of-type {\n",
       "        vertical-align: middle;\n",
       "    }\n",
       "\n",
       "    .dataframe tbody tr th {\n",
       "        vertical-align: top;\n",
       "    }\n",
       "\n",
       "    .dataframe thead th {\n",
       "        text-align: right;\n",
       "    }\n",
       "</style>\n",
       "<table border=\"1\" class=\"dataframe\">\n",
       "  <thead>\n",
       "    <tr style=\"text-align: right;\">\n",
       "      <th></th>\n",
       "      <th>car_id</th>\n",
       "      <th>Make</th>\n",
       "      <th>Model</th>\n",
       "      <th>Year</th>\n",
       "      <th>color</th>\n",
       "      <th>available</th>\n",
       "    </tr>\n",
       "  </thead>\n",
       "  <tbody>\n",
       "    <tr>\n",
       "      <th>0</th>\n",
       "      <td>4</td>\n",
       "      <td>Ford</td>\n",
       "      <td>Explorer</td>\n",
       "      <td>2019</td>\n",
       "      <td>Blue</td>\n",
       "      <td>0</td>\n",
       "    </tr>\n",
       "    <tr>\n",
       "      <th>1</th>\n",
       "      <td>5</td>\n",
       "      <td>Ford</td>\n",
       "      <td>Explorer</td>\n",
       "      <td>2019</td>\n",
       "      <td>Blue</td>\n",
       "      <td>0</td>\n",
       "    </tr>\n",
       "    <tr>\n",
       "      <th>2</th>\n",
       "      <td>6</td>\n",
       "      <td>Honda</td>\n",
       "      <td>Accord</td>\n",
       "      <td>2021</td>\n",
       "      <td>Blue</td>\n",
       "      <td>0</td>\n",
       "    </tr>\n",
       "  </tbody>\n",
       "</table>\n",
       "</div>"
      ],
      "text/plain": [
       "   car_id   Make     Model  Year color  available\n",
       "0       4   Ford  Explorer  2019  Blue          0\n",
       "1       5   Ford  Explorer  2019  Blue          0\n",
       "2       6  Honda    Accord  2021  Blue          0"
      ]
     },
     "metadata": {},
     "output_type": "display_data"
    }
   ],
   "source": [
    "show_table(conn, \"Colors\")\n",
    "df = pd.read_sql_query(\"\"\"\n",
    "    SELECT Cars.car_id, MakeModels.Make, MakeModels.Model, MakeModels.year, Colors.color, Cars.available\n",
    "    FROM Cars\n",
    "        INNER JOIN MakeModels ON MakeModels.make_model_id = Cars.make_model_id\n",
    "        INNER JOIN Colors ON Colors.color_id = Cars.color_id;\n",
    "\"\"\", conn)\n",
    "display(df)"
   ]
  },
  {
   "cell_type": "code",
   "execution_count": null,
   "metadata": {
    "pycharm": {
     "name": "#%%"
    }
   },
   "outputs": [],
   "source": []
  },
  {
   "cell_type": "code",
   "execution_count": 51,
   "metadata": {},
   "outputs": [],
   "source": [
    "# REF: https://www.sqlitetutorial.net/sqlite-python/\n",
    "import sqlite3\n",
    "from sqlite3 import Error\n",
    "\n",
    "\n",
    "def create_connection(db_file):\n",
    "    conn = None\n",
    "    try:\n",
    "        conn = sqlite3.connect(db_file)\n",
    "    except Error as e:\n",
    "        print(e)\n",
    "\n",
    "    return conn\n",
    "\n",
    "\n",
    "\n",
    "def create_table(conn, create_table_sql):\n",
    "    try:\n",
    "        c = conn.cursor()\n",
    "        c.execute(create_table_sql)\n",
    "    except Error as e:\n",
    "        print(e)\n",
    "\n",
    "\n",
    "def insert_student(conn, values):\n",
    "\n",
    "    sql = ''' INSERT INTO students(last_name,first_name,username,exam1,exam2,exam3)\n",
    "              VALUES(?,?,?,?,?,?) '''\n",
    "    cur = conn.cursor()\n",
    "    cur.execute(sql, values)\n",
    "    return cur.lastrowid\n",
    "\n",
    "\n",
    "def select_all_students(conn):\n",
    "    cur = conn.cursor()\n",
    "    cur.execute(\"SELECT * FROM students\")\n",
    "\n",
    "    rows = cur.fetchall()\n",
    "\n",
    "    for row in rows:\n",
    "        print(row)\n",
    "\n",
    "    return rows\n",
    "\n",
    "\n"
   ]
  },
  {
   "cell_type": "code",
   "execution_count": 52,
   "metadata": {},
   "outputs": [],
   "source": [
    "\n",
    "import os, pprint\n",
    "\n",
    "\n",
    "db_file = 'student_test_in_class.db'\n",
    "if os.path.exists(db_file):\n",
    "    os.remove(db_file)\n",
    "\n",
    "create_table_sql = \"\"\"CREATE TABLE students (last_name TEXT, first_name TEXT, username TEXT, exam1 REAL, exam2 REAL, exam3 REAL);\"\"\"\n",
    "\n",
    "conn = create_connection(db_file)\n",
    "\n",
    "with conn:\n",
    "    # create\n",
    "    create_table(conn, create_table_sql)\n",
    "\n",
    "    # # insert\n",
    "    for student in open('students.tsv', 'r'):\n",
    "        values = student.strip().split('\\t')\n",
    "        rid = insert_student(conn, values)\n",
    "\n",
    "    # # select\n",
    "    # rows = select_all_students(conn)\n",
    "\n",
    "\n",
    "\n",
    "\n",
    "\n",
    "\n",
    "\n"
   ]
  },
  {
   "cell_type": "code",
   "execution_count": 53,
   "metadata": {
    "scrolled": false
   },
   "outputs": [
    {
     "name": "stdout",
     "output_type": "stream",
     "text": [
      "('Larson', 'Melissa', 'larsonmeli', 24.0, 89.0, 31.0)\n",
      "('Novak', 'Melissa', 'novakmeli', 77.0, 3.0, 38.0)\n",
      "('Sawyer', 'Wendy', 'sawyerwend', 81.0, 59.0, 30.0)\n",
      "('Schultz', 'Marcus', 'schultzmarc', 59.0, 29.0, 67.0)\n",
      "('Vega', 'Nicholas', 'veganich', 64.0, 12.0, 95.0)\n",
      "('Adams', 'Brenda', 'adamsbren', 80.0, 49.0, 60.0)\n",
      "('Thompson', 'Charlene', 'thompsonchar', 37.0, 56.0, 26.0)\n",
      "('Booth', 'Bradley', 'boothbrad', 85.0, 8.0, 77.0)\n",
      "('Gallegos', 'Eugene', 'gallegoseuge', 34.0, 9.0, 76.0)\n",
      "('Munoz', 'Mary', 'munozmary', 77.0, 41.0, 55.0)\n",
      "('Carey', 'Kimberly', 'careykimb', 29.0, 94.0, 23.0)\n",
      "('Paul', 'Philip', 'paulphil', 79.0, 86.0, 60.0)\n",
      "('Reed', 'Madeline', 'reedmade', 16.0, 39.0, 46.0)\n",
      "('Parsons', 'Cassie', 'parsonscass', 61.0, 62.0, 65.0)\n",
      "('Mcclain', 'Glenn', 'mcclainglen', 85.0, 98.0, 52.0)\n",
      "('Oliver', 'Janice', 'oliverjani', 72.0, 47.0, 34.0)\n",
      "('Lozano', 'Catherine', 'lozanocath', 71.0, 19.0, 94.0)\n",
      "('Klein', 'John', 'kleinjohn', 3.0, 43.0, 88.0)\n",
      "('Brooks', 'Marcus', 'brooksmarc', 6.0, 81.0, 70.0)\n",
      "('Lee', 'Michael', 'leemich', 30.0, 54.0, 25.0)\n",
      "('Myers', 'Elizabeth', 'myerseliz', 41.0, 38.0, 28.0)\n",
      "('Bowen', 'Katherine', 'bowenkath', 57.0, 61.0, 34.0)\n",
      "('Gibson', 'Edward', 'gibsonedwa', 84.0, 27.0, 21.0)\n",
      "('Smith', 'Christopher', 'smithchri', 25.0, 11.0, 68.0)\n",
      "('Key', 'Debra', 'keydebr', 66.0, 47.0, 29.0)\n",
      "('Fleming', 'Carlos', 'flemingcarl', 50.0, 45.0, 93.0)\n",
      "('Parrish', 'Nathan', 'parrishnath', 47.0, 92.0, 45.0)\n",
      "('Lewis', 'Michael', 'lewismich', 73.0, 65.0, 98.0)\n",
      "('Diaz', 'David', 'diazdavi', 52.0, 40.0, 20.0)\n",
      "('Walter', 'Linda', 'walterlind', 28.0, 14.0, 71.0)\n",
      "('Bailey', 'Amanda', 'baileyaman', 27.0, 4.0, 38.0)\n",
      "('Terrell', 'Robert', 'terrellrobe', 99.0, 93.0, 60.0)\n",
      "('Johnson', 'Janice', 'johnsonjani', 22.0, 49.0, 93.0)\n",
      "('Lee', 'John', 'leejohn', 25.0, 25.0, 39.0)\n",
      "('Dominguez', 'Kathryn', 'dominguezkath', 21.0, 82.0, 31.0)\n",
      "('Ellis', 'Paige', 'ellispaig', 41.0, 46.0, 82.0)\n",
      "('Wilkinson', 'Jennifer', 'wilkinsonjenn', 52.0, 64.0, 44.0)\n",
      "('Rodriguez', 'Michelle', 'rodriguezmich', 94.0, 24.0, 50.0)\n",
      "('Kennedy', 'Lisa', 'kennedylisa', 93.0, 19.0, 48.0)\n",
      "('Henderson', 'Michelle', 'hendersonmich', 91.0, 60.0, 86.0)\n",
      "('Hill', 'James', 'hilljame', 59.0, 22.0, 85.0)\n",
      "('Jones', 'David', 'jonesdavi', 37.0, 60.0, 15.0)\n",
      "('Landry', 'Patrick', 'landrypatr', 41.0, 82.0, 93.0)\n",
      "('Cox', 'Jerome', 'coxjero', 67.0, 28.0, 29.0)\n",
      "('Santana', 'Linda', 'santanalind', 77.0, 58.0, 4.0)\n",
      "('Patton', 'Robert', 'pattonrobe', 78.0, 53.0, 20.0)\n",
      "('Mclean', 'Christopher', 'mcleanchri', 59.0, 58.0, 73.0)\n",
      "('Rhodes', 'Andre', 'rhodesandr', 53.0, 9.0, 82.0)\n",
      "('Ramsey', 'John', 'ramseyjohn', 89.0, 95.0, 94.0)\n",
      "('Martin', 'Paul', 'martinpaul', 15.0, 11.0, 12.0)\n",
      "('Perez', 'Kelli', 'perezkell', 6.0, 22.0, 3.0)\n",
      "('Moran', 'Troy', 'morantroy', 61.0, 21.0, 45.0)\n",
      "('Kerr', 'Sarah', 'kerrsara', 82.0, 27.0, 65.0)\n",
      "('Wade', 'Stephanie', 'wadestep', 9.0, 69.0, 31.0)\n",
      "('Smith', 'Rebecca', 'smithrebe', 3.0, 75.0, 55.0)\n",
      "('Long', 'Joel', 'longjoel', 20.0, 50.0, 3.0)\n",
      "('Ashley', 'Cody', 'ashleycody', 75.0, 69.0, 94.0)\n",
      "('Patrick', 'Rachel', 'patrickrach', 16.0, 20.0, 80.0)\n",
      "('Oliver', 'Alex', 'oliveralex', 61.0, 22.0, 6.0)\n",
      "('Hoffman', 'Shannon', 'hoffmanshan', 29.0, 68.0, 71.0)\n",
      "('Holden', 'Michael', 'holdenmich', 57.0, 23.0, 53.0)\n",
      "('Graham', 'Vanessa', 'grahamvane', 78.0, 76.0, 73.0)\n",
      "('Blair', 'Christopher', 'blairchri', 70.0, 97.0, 27.0)\n",
      "('Taylor', 'Diana', 'taylordian', 99.0, 90.0, 6.0)\n",
      "('Reilly', 'Brandon', 'reillybran', 10.0, 94.0, 64.0)\n",
      "('Gamble', 'Matthew', 'gamblematt', 48.0, 50.0, 26.0)\n",
      "('Weber', 'Patrick', 'weberpatr', 87.0, 33.0, 92.0)\n",
      "('Woodard', 'Judy', 'woodardjudy', 47.0, 43.0, 13.0)\n",
      "('Hull', 'Alexandra', 'hullalex', 38.0, 7.0, 42.0)\n",
      "('Frank', 'Jessica', 'frankjess', 95.0, 87.0, 92.0)\n",
      "('Davis', 'Samuel', 'davissamu', 22.0, 17.0, 91.0)\n",
      "('Baird', 'Alexandra', 'bairdalex', 32.0, 90.0, 71.0)\n",
      "('Hensley', 'James', 'hensleyjame', 52.0, 50.0, 61.0)\n",
      "('Luna', 'Carmen', 'lunacarm', 36.0, 92.0, 6.0)\n",
      "('Garcia', 'Brian', 'garciabria', 37.0, 53.0, 3.0)\n",
      "('Andrews', 'Luis', 'andrewsluis', 43.0, 92.0, 3.0)\n",
      "('Watson', 'Jessica', 'watsonjess', 2.0, 44.0, 50.0)\n",
      "('Evans', 'Dawn', 'evansdawn', 18.0, 59.0, 45.0)\n",
      "('Barnes', 'Tammy', 'barnestamm', 54.0, 53.0, 71.0)\n",
      "('Nelson', 'Angela', 'nelsonange', 33.0, 63.0, 66.0)\n",
      "('Patterson', 'Jennifer', 'pattersonjenn', 26.0, 98.0, 97.0)\n",
      "('King', 'Austin', 'kingaust', 64.0, 89.0, 59.0)\n",
      "('Smith', 'Carol', 'smithcaro', 73.0, 48.0, 65.0)\n",
      "('Cook', 'Lisa', 'cooklisa', 66.0, 25.0, 11.0)\n",
      "('Francis', 'Shawn', 'francisshaw', 37.0, 55.0, 26.0)\n",
      "('Monroe', 'Michael', 'monroemich', 23.0, 92.0, 34.0)\n",
      "('Cortez', 'Patrick', 'cortezpatr', 18.0, 22.0, 2.0)\n",
      "('Chang', 'Kristen', 'changkris', 78.0, 55.0, 94.0)\n",
      "('Mcclain', 'Brandy', 'mcclainbran', 65.0, 1.0, 23.0)\n",
      "('Sellers', 'Stephanie', 'sellersstep', 11.0, 83.0, 76.0)\n",
      "('Olsen', 'Mariah', 'olsenmari', 44.0, 27.0, 64.0)\n",
      "('Melton', 'Brianna', 'meltonbria', 52.0, 95.0, 47.0)\n",
      "('Day', 'Jon', 'dayjon', 15.0, 55.0, 71.0)\n",
      "('Little', 'Brian', 'littlebria', 25.0, 35.0, 88.0)\n",
      "('Johnson', 'Wayne', 'johnsonwayn', 66.0, 31.0, 58.0)\n",
      "('Duncan', 'Andrew', 'duncanandr', 59.0, 87.0, 34.0)\n",
      "('Bush', 'Alexander', 'bushalex', 82.0, 54.0, 25.0)\n",
      "('Summers', 'Michael', 'summersmich', 18.0, 95.0, 63.0)\n",
      "('Bowers', 'Sandra', 'bowerssand', 52.0, 8.0, 50.0)\n",
      "('Fernandez', 'Jonathan', 'fernandezjona', 74.0, 80.0, 22.0)\n"
     ]
    },
    {
     "data": {
      "text/plain": [
       "[('Larson', 'Melissa', 'larsonmeli', 24.0, 89.0, 31.0),\n",
       " ('Novak', 'Melissa', 'novakmeli', 77.0, 3.0, 38.0),\n",
       " ('Sawyer', 'Wendy', 'sawyerwend', 81.0, 59.0, 30.0),\n",
       " ('Schultz', 'Marcus', 'schultzmarc', 59.0, 29.0, 67.0),\n",
       " ('Vega', 'Nicholas', 'veganich', 64.0, 12.0, 95.0),\n",
       " ('Adams', 'Brenda', 'adamsbren', 80.0, 49.0, 60.0),\n",
       " ('Thompson', 'Charlene', 'thompsonchar', 37.0, 56.0, 26.0),\n",
       " ('Booth', 'Bradley', 'boothbrad', 85.0, 8.0, 77.0),\n",
       " ('Gallegos', 'Eugene', 'gallegoseuge', 34.0, 9.0, 76.0),\n",
       " ('Munoz', 'Mary', 'munozmary', 77.0, 41.0, 55.0),\n",
       " ('Carey', 'Kimberly', 'careykimb', 29.0, 94.0, 23.0),\n",
       " ('Paul', 'Philip', 'paulphil', 79.0, 86.0, 60.0),\n",
       " ('Reed', 'Madeline', 'reedmade', 16.0, 39.0, 46.0),\n",
       " ('Parsons', 'Cassie', 'parsonscass', 61.0, 62.0, 65.0),\n",
       " ('Mcclain', 'Glenn', 'mcclainglen', 85.0, 98.0, 52.0),\n",
       " ('Oliver', 'Janice', 'oliverjani', 72.0, 47.0, 34.0),\n",
       " ('Lozano', 'Catherine', 'lozanocath', 71.0, 19.0, 94.0),\n",
       " ('Klein', 'John', 'kleinjohn', 3.0, 43.0, 88.0),\n",
       " ('Brooks', 'Marcus', 'brooksmarc', 6.0, 81.0, 70.0),\n",
       " ('Lee', 'Michael', 'leemich', 30.0, 54.0, 25.0),\n",
       " ('Myers', 'Elizabeth', 'myerseliz', 41.0, 38.0, 28.0),\n",
       " ('Bowen', 'Katherine', 'bowenkath', 57.0, 61.0, 34.0),\n",
       " ('Gibson', 'Edward', 'gibsonedwa', 84.0, 27.0, 21.0),\n",
       " ('Smith', 'Christopher', 'smithchri', 25.0, 11.0, 68.0),\n",
       " ('Key', 'Debra', 'keydebr', 66.0, 47.0, 29.0),\n",
       " ('Fleming', 'Carlos', 'flemingcarl', 50.0, 45.0, 93.0),\n",
       " ('Parrish', 'Nathan', 'parrishnath', 47.0, 92.0, 45.0),\n",
       " ('Lewis', 'Michael', 'lewismich', 73.0, 65.0, 98.0),\n",
       " ('Diaz', 'David', 'diazdavi', 52.0, 40.0, 20.0),\n",
       " ('Walter', 'Linda', 'walterlind', 28.0, 14.0, 71.0),\n",
       " ('Bailey', 'Amanda', 'baileyaman', 27.0, 4.0, 38.0),\n",
       " ('Terrell', 'Robert', 'terrellrobe', 99.0, 93.0, 60.0),\n",
       " ('Johnson', 'Janice', 'johnsonjani', 22.0, 49.0, 93.0),\n",
       " ('Lee', 'John', 'leejohn', 25.0, 25.0, 39.0),\n",
       " ('Dominguez', 'Kathryn', 'dominguezkath', 21.0, 82.0, 31.0),\n",
       " ('Ellis', 'Paige', 'ellispaig', 41.0, 46.0, 82.0),\n",
       " ('Wilkinson', 'Jennifer', 'wilkinsonjenn', 52.0, 64.0, 44.0),\n",
       " ('Rodriguez', 'Michelle', 'rodriguezmich', 94.0, 24.0, 50.0),\n",
       " ('Kennedy', 'Lisa', 'kennedylisa', 93.0, 19.0, 48.0),\n",
       " ('Henderson', 'Michelle', 'hendersonmich', 91.0, 60.0, 86.0),\n",
       " ('Hill', 'James', 'hilljame', 59.0, 22.0, 85.0),\n",
       " ('Jones', 'David', 'jonesdavi', 37.0, 60.0, 15.0),\n",
       " ('Landry', 'Patrick', 'landrypatr', 41.0, 82.0, 93.0),\n",
       " ('Cox', 'Jerome', 'coxjero', 67.0, 28.0, 29.0),\n",
       " ('Santana', 'Linda', 'santanalind', 77.0, 58.0, 4.0),\n",
       " ('Patton', 'Robert', 'pattonrobe', 78.0, 53.0, 20.0),\n",
       " ('Mclean', 'Christopher', 'mcleanchri', 59.0, 58.0, 73.0),\n",
       " ('Rhodes', 'Andre', 'rhodesandr', 53.0, 9.0, 82.0),\n",
       " ('Ramsey', 'John', 'ramseyjohn', 89.0, 95.0, 94.0),\n",
       " ('Martin', 'Paul', 'martinpaul', 15.0, 11.0, 12.0),\n",
       " ('Perez', 'Kelli', 'perezkell', 6.0, 22.0, 3.0),\n",
       " ('Moran', 'Troy', 'morantroy', 61.0, 21.0, 45.0),\n",
       " ('Kerr', 'Sarah', 'kerrsara', 82.0, 27.0, 65.0),\n",
       " ('Wade', 'Stephanie', 'wadestep', 9.0, 69.0, 31.0),\n",
       " ('Smith', 'Rebecca', 'smithrebe', 3.0, 75.0, 55.0),\n",
       " ('Long', 'Joel', 'longjoel', 20.0, 50.0, 3.0),\n",
       " ('Ashley', 'Cody', 'ashleycody', 75.0, 69.0, 94.0),\n",
       " ('Patrick', 'Rachel', 'patrickrach', 16.0, 20.0, 80.0),\n",
       " ('Oliver', 'Alex', 'oliveralex', 61.0, 22.0, 6.0),\n",
       " ('Hoffman', 'Shannon', 'hoffmanshan', 29.0, 68.0, 71.0),\n",
       " ('Holden', 'Michael', 'holdenmich', 57.0, 23.0, 53.0),\n",
       " ('Graham', 'Vanessa', 'grahamvane', 78.0, 76.0, 73.0),\n",
       " ('Blair', 'Christopher', 'blairchri', 70.0, 97.0, 27.0),\n",
       " ('Taylor', 'Diana', 'taylordian', 99.0, 90.0, 6.0),\n",
       " ('Reilly', 'Brandon', 'reillybran', 10.0, 94.0, 64.0),\n",
       " ('Gamble', 'Matthew', 'gamblematt', 48.0, 50.0, 26.0),\n",
       " ('Weber', 'Patrick', 'weberpatr', 87.0, 33.0, 92.0),\n",
       " ('Woodard', 'Judy', 'woodardjudy', 47.0, 43.0, 13.0),\n",
       " ('Hull', 'Alexandra', 'hullalex', 38.0, 7.0, 42.0),\n",
       " ('Frank', 'Jessica', 'frankjess', 95.0, 87.0, 92.0),\n",
       " ('Davis', 'Samuel', 'davissamu', 22.0, 17.0, 91.0),\n",
       " ('Baird', 'Alexandra', 'bairdalex', 32.0, 90.0, 71.0),\n",
       " ('Hensley', 'James', 'hensleyjame', 52.0, 50.0, 61.0),\n",
       " ('Luna', 'Carmen', 'lunacarm', 36.0, 92.0, 6.0),\n",
       " ('Garcia', 'Brian', 'garciabria', 37.0, 53.0, 3.0),\n",
       " ('Andrews', 'Luis', 'andrewsluis', 43.0, 92.0, 3.0),\n",
       " ('Watson', 'Jessica', 'watsonjess', 2.0, 44.0, 50.0),\n",
       " ('Evans', 'Dawn', 'evansdawn', 18.0, 59.0, 45.0),\n",
       " ('Barnes', 'Tammy', 'barnestamm', 54.0, 53.0, 71.0),\n",
       " ('Nelson', 'Angela', 'nelsonange', 33.0, 63.0, 66.0),\n",
       " ('Patterson', 'Jennifer', 'pattersonjenn', 26.0, 98.0, 97.0),\n",
       " ('King', 'Austin', 'kingaust', 64.0, 89.0, 59.0),\n",
       " ('Smith', 'Carol', 'smithcaro', 73.0, 48.0, 65.0),\n",
       " ('Cook', 'Lisa', 'cooklisa', 66.0, 25.0, 11.0),\n",
       " ('Francis', 'Shawn', 'francisshaw', 37.0, 55.0, 26.0),\n",
       " ('Monroe', 'Michael', 'monroemich', 23.0, 92.0, 34.0),\n",
       " ('Cortez', 'Patrick', 'cortezpatr', 18.0, 22.0, 2.0),\n",
       " ('Chang', 'Kristen', 'changkris', 78.0, 55.0, 94.0),\n",
       " ('Mcclain', 'Brandy', 'mcclainbran', 65.0, 1.0, 23.0),\n",
       " ('Sellers', 'Stephanie', 'sellersstep', 11.0, 83.0, 76.0),\n",
       " ('Olsen', 'Mariah', 'olsenmari', 44.0, 27.0, 64.0),\n",
       " ('Melton', 'Brianna', 'meltonbria', 52.0, 95.0, 47.0),\n",
       " ('Day', 'Jon', 'dayjon', 15.0, 55.0, 71.0),\n",
       " ('Little', 'Brian', 'littlebria', 25.0, 35.0, 88.0),\n",
       " ('Johnson', 'Wayne', 'johnsonwayn', 66.0, 31.0, 58.0),\n",
       " ('Duncan', 'Andrew', 'duncanandr', 59.0, 87.0, 34.0),\n",
       " ('Bush', 'Alexander', 'bushalex', 82.0, 54.0, 25.0),\n",
       " ('Summers', 'Michael', 'summersmich', 18.0, 95.0, 63.0),\n",
       " ('Bowers', 'Sandra', 'bowerssand', 52.0, 8.0, 50.0),\n",
       " ('Fernandez', 'Jonathan', 'fernandezjona', 74.0, 80.0, 22.0)]"
      ]
     },
     "execution_count": 53,
     "metadata": {},
     "output_type": "execute_result"
    }
   ],
   "source": [
    "select_all_students(conn)"
   ]
  },
  {
   "cell_type": "code",
   "execution_count": 55,
   "metadata": {},
   "outputs": [],
   "source": [
    "cur = conn.cursor()"
   ]
  },
  {
   "cell_type": "code",
   "execution_count": 56,
   "metadata": {},
   "outputs": [
    {
     "data": {
      "text/plain": [
       "<sqlite3.Cursor at 0x17b62617ce0>"
      ]
     },
     "execution_count": 56,
     "metadata": {},
     "output_type": "execute_result"
    }
   ],
   "source": []
  },
  {
   "cell_type": "code",
   "execution_count": 60,
   "metadata": {},
   "outputs": [
    {
     "name": "stdout",
     "output_type": "stream",
     "text": [
      "('Larson', 'Melissa', 'larsonmeli', 24.0, 89.0, 31.0)\n",
      "('Novak', 'Melissa', 'novakmeli', 77.0, 3.0, 38.0)\n",
      "('Sawyer', 'Wendy', 'sawyerwend', 81.0, 59.0, 30.0)\n",
      "('Schultz', 'Marcus', 'schultzmarc', 59.0, 29.0, 67.0)\n",
      "('Vega', 'Nicholas', 'veganich', 64.0, 12.0, 95.0)\n",
      "('Adams', 'Brenda', 'adamsbren', 80.0, 49.0, 60.0)\n",
      "('Thompson', 'Charlene', 'thompsonchar', 37.0, 56.0, 26.0)\n",
      "('Booth', 'Bradley', 'boothbrad', 85.0, 8.0, 77.0)\n",
      "('Gallegos', 'Eugene', 'gallegoseuge', 34.0, 9.0, 76.0)\n",
      "('Munoz', 'Mary', 'munozmary', 77.0, 41.0, 55.0)\n",
      "('Carey', 'Kimberly', 'careykimb', 29.0, 94.0, 23.0)\n",
      "('Paul', 'Philip', 'paulphil', 79.0, 86.0, 60.0)\n",
      "('Reed', 'Madeline', 'reedmade', 16.0, 39.0, 46.0)\n",
      "('Parsons', 'Cassie', 'parsonscass', 61.0, 62.0, 65.0)\n",
      "('Mcclain', 'Glenn', 'mcclainglen', 85.0, 98.0, 52.0)\n",
      "('Oliver', 'Janice', 'oliverjani', 72.0, 47.0, 34.0)\n",
      "('Lozano', 'Catherine', 'lozanocath', 71.0, 19.0, 94.0)\n",
      "('Klein', 'John', 'kleinjohn', 3.0, 43.0, 88.0)\n",
      "('Brooks', 'Marcus', 'brooksmarc', 6.0, 81.0, 70.0)\n",
      "('Lee', 'Michael', 'leemich', 30.0, 54.0, 25.0)\n",
      "('Myers', 'Elizabeth', 'myerseliz', 41.0, 38.0, 28.0)\n",
      "('Bowen', 'Katherine', 'bowenkath', 57.0, 61.0, 34.0)\n",
      "('Gibson', 'Edward', 'gibsonedwa', 84.0, 27.0, 21.0)\n",
      "('Smith', 'Christopher', 'smithchri', 25.0, 11.0, 68.0)\n",
      "('Key', 'Debra', 'keydebr', 66.0, 47.0, 29.0)\n",
      "('Fleming', 'Carlos', 'flemingcarl', 50.0, 45.0, 93.0)\n",
      "('Parrish', 'Nathan', 'parrishnath', 47.0, 92.0, 45.0)\n",
      "('Lewis', 'Michael', 'lewismich', 73.0, 65.0, 98.0)\n",
      "('Diaz', 'David', 'diazdavi', 52.0, 40.0, 20.0)\n",
      "('Walter', 'Linda', 'walterlind', 28.0, 14.0, 71.0)\n",
      "('Bailey', 'Amanda', 'baileyaman', 27.0, 4.0, 38.0)\n",
      "('Terrell', 'Robert', 'terrellrobe', 99.0, 93.0, 60.0)\n",
      "('Johnson', 'Janice', 'johnsonjani', 22.0, 49.0, 93.0)\n",
      "('Lee', 'John', 'leejohn', 25.0, 25.0, 39.0)\n",
      "('Dominguez', 'Kathryn', 'dominguezkath', 21.0, 82.0, 31.0)\n",
      "('Ellis', 'Paige', 'ellispaig', 41.0, 46.0, 82.0)\n",
      "('Wilkinson', 'Jennifer', 'wilkinsonjenn', 52.0, 64.0, 44.0)\n",
      "('Rodriguez', 'Michelle', 'rodriguezmich', 94.0, 24.0, 50.0)\n",
      "('Kennedy', 'Lisa', 'kennedylisa', 93.0, 19.0, 48.0)\n",
      "('Henderson', 'Michelle', 'hendersonmich', 91.0, 60.0, 86.0)\n",
      "('Hill', 'James', 'hilljame', 59.0, 22.0, 85.0)\n",
      "('Jones', 'David', 'jonesdavi', 37.0, 60.0, 15.0)\n",
      "('Landry', 'Patrick', 'landrypatr', 41.0, 82.0, 93.0)\n",
      "('Cox', 'Jerome', 'coxjero', 67.0, 28.0, 29.0)\n",
      "('Santana', 'Linda', 'santanalind', 77.0, 58.0, 4.0)\n",
      "('Patton', 'Robert', 'pattonrobe', 78.0, 53.0, 20.0)\n",
      "('Mclean', 'Christopher', 'mcleanchri', 59.0, 58.0, 73.0)\n",
      "('Rhodes', 'Andre', 'rhodesandr', 53.0, 9.0, 82.0)\n",
      "('Ramsey', 'John', 'ramseyjohn', 89.0, 95.0, 94.0)\n",
      "('Martin', 'Paul', 'martinpaul', 15.0, 11.0, 12.0)\n",
      "('Perez', 'Kelli', 'perezkell', 6.0, 22.0, 3.0)\n",
      "('Moran', 'Troy', 'morantroy', 61.0, 21.0, 45.0)\n",
      "('Kerr', 'Sarah', 'kerrsara', 82.0, 27.0, 65.0)\n",
      "('Wade', 'Stephanie', 'wadestep', 9.0, 69.0, 31.0)\n",
      "('Smith', 'Rebecca', 'smithrebe', 3.0, 75.0, 55.0)\n",
      "('Long', 'Joel', 'longjoel', 20.0, 50.0, 3.0)\n",
      "('Ashley', 'Cody', 'ashleycody', 75.0, 69.0, 94.0)\n",
      "('Patrick', 'Rachel', 'patrickrach', 16.0, 20.0, 80.0)\n",
      "('Oliver', 'Alex', 'oliveralex', 61.0, 22.0, 6.0)\n",
      "('Hoffman', 'Shannon', 'hoffmanshan', 29.0, 68.0, 71.0)\n",
      "('Holden', 'Michael', 'holdenmich', 57.0, 23.0, 53.0)\n",
      "('Graham', 'Vanessa', 'grahamvane', 78.0, 76.0, 73.0)\n",
      "('Blair', 'Christopher', 'blairchri', 70.0, 97.0, 27.0)\n",
      "('Taylor', 'Diana', 'taylordian', 99.0, 90.0, 6.0)\n",
      "('Reilly', 'Brandon', 'reillybran', 10.0, 94.0, 64.0)\n",
      "('Gamble', 'Matthew', 'gamblematt', 48.0, 50.0, 26.0)\n",
      "('Weber', 'Patrick', 'weberpatr', 87.0, 33.0, 92.0)\n",
      "('Woodard', 'Judy', 'woodardjudy', 47.0, 43.0, 13.0)\n",
      "('Hull', 'Alexandra', 'hullalex', 38.0, 7.0, 42.0)\n",
      "('Frank', 'Jessica', 'frankjess', 95.0, 87.0, 92.0)\n",
      "('Davis', 'Samuel', 'davissamu', 22.0, 17.0, 91.0)\n",
      "('Baird', 'Alexandra', 'bairdalex', 32.0, 90.0, 71.0)\n",
      "('Hensley', 'James', 'hensleyjame', 52.0, 50.0, 61.0)\n",
      "('Luna', 'Carmen', 'lunacarm', 36.0, 92.0, 6.0)\n",
      "('Garcia', 'Brian', 'garciabria', 37.0, 53.0, 3.0)\n",
      "('Andrews', 'Luis', 'andrewsluis', 43.0, 92.0, 3.0)\n",
      "('Watson', 'Jessica', 'watsonjess', 2.0, 44.0, 50.0)\n",
      "('Evans', 'Dawn', 'evansdawn', 18.0, 59.0, 45.0)\n",
      "('Barnes', 'Tammy', 'barnestamm', 54.0, 53.0, 71.0)\n",
      "('Nelson', 'Angela', 'nelsonange', 33.0, 63.0, 66.0)\n",
      "('Patterson', 'Jennifer', 'pattersonjenn', 26.0, 98.0, 97.0)\n",
      "('King', 'Austin', 'kingaust', 64.0, 89.0, 59.0)\n",
      "('Smith', 'Carol', 'smithcaro', 73.0, 48.0, 65.0)\n",
      "('Cook', 'Lisa', 'cooklisa', 66.0, 25.0, 11.0)\n",
      "('Francis', 'Shawn', 'francisshaw', 37.0, 55.0, 26.0)\n",
      "('Monroe', 'Michael', 'monroemich', 23.0, 92.0, 34.0)\n",
      "('Cortez', 'Patrick', 'cortezpatr', 18.0, 22.0, 2.0)\n",
      "('Chang', 'Kristen', 'changkris', 78.0, 55.0, 94.0)\n",
      "('Mcclain', 'Brandy', 'mcclainbran', 65.0, 1.0, 23.0)\n",
      "('Sellers', 'Stephanie', 'sellersstep', 11.0, 83.0, 76.0)\n",
      "('Olsen', 'Mariah', 'olsenmari', 44.0, 27.0, 64.0)\n",
      "('Melton', 'Brianna', 'meltonbria', 52.0, 95.0, 47.0)\n",
      "('Day', 'Jon', 'dayjon', 15.0, 55.0, 71.0)\n",
      "('Little', 'Brian', 'littlebria', 25.0, 35.0, 88.0)\n",
      "('Johnson', 'Wayne', 'johnsonwayn', 66.0, 31.0, 58.0)\n",
      "('Duncan', 'Andrew', 'duncanandr', 59.0, 87.0, 34.0)\n",
      "('Bush', 'Alexander', 'bushalex', 82.0, 54.0, 25.0)\n",
      "('Summers', 'Michael', 'summersmich', 18.0, 95.0, 63.0)\n",
      "('Bowers', 'Sandra', 'bowerssand', 52.0, 8.0, 50.0)\n",
      "('Fernandez', 'Jonathan', 'fernandezjona', 74.0, 80.0, 22.0)\n",
      "None\n"
     ]
    }
   ],
   "source": [
    "cur.execute(\"SELECT * from students\")\n",
    "while True:\n",
    "    r=cur.fetchone()\n",
    "    print(r)\n",
    "    if r is None:\n",
    "        break"
   ]
  },
  {
   "cell_type": "code",
   "execution_count": null,
   "metadata": {},
   "outputs": [],
   "source": [
    "# calculate average of all students\n",
    "from statistics import mean\n",
    "student_grades = []\n",
    "for student in rows:\n",
    "    username, last_name, first_name, e1, e2, e3 = student\n",
    "    student_grades.append((username, last_name, first_name, round(mean((e1, e2, e3)),2)))\n",
    "\n",
    "\n",
    "\n",
    "sorted_grades = sorted(student_grades, key=lambda x: x[-1], reverse=True)\n",
    "pprint.pprint(sorted_grades)\n"
   ]
  },
  {
   "cell_type": "code",
   "execution_count": null,
   "metadata": {},
   "outputs": [],
   "source": []
  },
  {
   "cell_type": "code",
   "execution_count": null,
   "metadata": {},
   "outputs": [],
   "source": []
  }
 ],
 "metadata": {
  "kernelspec": {
   "display_name": "Python 3 (ipykernel)",
   "language": "python",
   "name": "python3"
  },
  "language_info": {
   "codemirror_mode": {
    "name": "ipython",
    "version": 3
   },
   "file_extension": ".py",
   "mimetype": "text/x-python",
   "name": "python",
   "nbconvert_exporter": "python",
   "pygments_lexer": "ipython3",
   "version": "3.9.7"
  }
 },
 "nbformat": 4,
 "nbformat_minor": 4
}