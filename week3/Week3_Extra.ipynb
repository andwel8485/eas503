{
 "cells": [
  {
   "cell_type": "markdown",
   "id": "0e3618d2",
   "metadata": {},
   "source": [
    "# Assert Statement\n",
    "\n",
    "Assert is used to test an expression, which we expect to be true. If expression is False then that means that something is wrong and we want to stop program execution.\n",
    "\n",
    "Assert will raise an exception, that is it tells that error happens, if the statement is false."
   ]
  },
  {
   "cell_type": "code",
   "execution_count": null,
   "id": "9b83a2d1",
   "metadata": {},
   "outputs": [],
   "source": [
    "assert True  # no exception, that is everything is good, just as expected"
   ]
  },
  {
   "cell_type": "code",
   "execution_count": null,
   "id": "43caa3b2",
   "metadata": {},
   "outputs": [],
   "source": [
    "assert False  # exception is raised, that is unexpected behavior"
   ]
  },
  {
   "cell_type": "code",
   "execution_count": 5,
   "id": "b6e78c98",
   "metadata": {},
   "outputs": [
    {
     "ename": "AssertionError",
     "evalue": "",
     "output_type": "error",
     "traceback": [
      "\u001B[0;31m---------------------------------------------------------------------------\u001B[0m",
      "\u001B[0;31mAssertionError\u001B[0m                            Traceback (most recent call last)",
      "\u001B[0;32m/tmp/ipykernel_211835/2593249254.py\u001B[0m in \u001B[0;36m<module>\u001B[0;34m\u001B[0m\n\u001B[1;32m      3\u001B[0m     \u001B[0;32mreturn\u001B[0m \u001B[0mx\u001B[0m\u001B[0;34m\u001B[0m\u001B[0;34m\u001B[0m\u001B[0m\n\u001B[1;32m      4\u001B[0m \u001B[0;34m\u001B[0m\u001B[0m\n\u001B[0;32m----> 5\u001B[0;31m \u001B[0;32massert\u001B[0m \u001B[0mmy_abs\u001B[0m\u001B[0;34m(\u001B[0m\u001B[0;34m-\u001B[0m\u001B[0;36m1\u001B[0m\u001B[0;34m)\u001B[0m \u001B[0;34m>=\u001B[0m \u001B[0;36m0\u001B[0m\u001B[0;34m\u001B[0m\u001B[0;34m\u001B[0m\u001B[0m\n\u001B[0m",
      "\u001B[0;31mAssertionError\u001B[0m: "
     ]
    }
   ],
   "source": [
    "a = 12\n",
    "def my_abs(x):\n",
    "    return x\n",
    "\n",
    "assert my_abs(-1) >= 0 "
   ]
  },
  {
   "cell_type": "markdown",
   "id": "4e6927d5",
   "metadata": {
    "pycharm": {
     "name": "#%% md\n"
    }
   },
   "source": [
    "# Order of Instructions\n",
    "Homework0/exercise_10() "
   ]
  },
  {
   "cell_type": "code",
   "execution_count": 6,
   "id": "92dd0568",
   "metadata": {
    "pycharm": {
     "name": "#%%\n"
    }
   },
   "outputs": [
    {
     "ename": "AssertionError",
     "evalue": "",
     "output_type": "error",
     "traceback": [
      "\u001B[0;31m---------------------------------------------------------------------------\u001B[0m",
      "\u001B[0;31mAssertionError\u001B[0m                            Traceback (most recent call last)",
      "\u001B[0;32m/tmp/ipykernel_211835/3299771022.py\u001B[0m in \u001B[0;36m<module>\u001B[0;34m\u001B[0m\n\u001B[0;32m----> 1\u001B[0;31m \u001B[0;32massert\u001B[0m \u001B[0;34m(\u001B[0m\u001B[0;36m67\u001B[0m\u001B[0;34m-\u001B[0m\u001B[0;36m32\u001B[0m\u001B[0;34m)\u001B[0m\u001B[0;34m*\u001B[0m\u001B[0;34m(\u001B[0m\u001B[0;36m5\u001B[0m\u001B[0;34m/\u001B[0m\u001B[0;36m9\u001B[0m\u001B[0;34m)\u001B[0m \u001B[0;34m==\u001B[0m \u001B[0;34m(\u001B[0m\u001B[0;36m67\u001B[0m\u001B[0;34m-\u001B[0m\u001B[0;36m32\u001B[0m\u001B[0;34m)\u001B[0m\u001B[0;34m*\u001B[0m\u001B[0;36m5\u001B[0m\u001B[0;34m/\u001B[0m\u001B[0;36m9\u001B[0m\u001B[0;34m\u001B[0m\u001B[0;34m\u001B[0m\u001B[0m\n\u001B[0m",
      "\u001B[0;31mAssertionError\u001B[0m: "
     ]
    }
   ],
   "source": [
    "assert (67-32)*(5/9) == (67-32)*5/9"
   ]
  },
  {
   "cell_type": "code",
   "execution_count": 9,
   "id": "ab253c98",
   "metadata": {
    "pycharm": {
     "name": "#%%\n"
    }
   },
   "outputs": [
    {
     "data": {
      "text/plain": [
       "19.444444444444443"
      ]
     },
     "execution_count": 9,
     "metadata": {},
     "output_type": "execute_result"
    }
   ],
   "source": [
    "((67-32)*5)/9"
   ]
  },
  {
   "cell_type": "code",
   "execution_count": 8,
   "id": "b9ff5f45",
   "metadata": {
    "pycharm": {
     "name": "#%%\n"
    }
   },
   "outputs": [
    {
     "data": {
      "text/plain": [
       "19.444444444444446"
      ]
     },
     "execution_count": 8,
     "metadata": {},
     "output_type": "execute_result"
    }
   ],
   "source": [
    "(67-32)*(5/9)"
   ]
  },
  {
   "cell_type": "markdown",
   "id": "c852b48f",
   "metadata": {},
   "source": [
    "<!--- The parenthesis here changes the order of instruction, that is:\n",
    "\n",
    "1. in both cases it is (67-32)\n",
    "2. left will do division (5/9) while right will do multiplication (67-32)*5\n",
    "3. left will do multiplication (67-32)*(5/9) while right will do division ((67-32)*5)/9\n",
    "\n",
    "Because order of instruction is different that lead to different round off error accumulation and thus different outcomes.\n",
    "-->"
   ]
  },
  {
   "cell_type": "markdown",
   "id": "6f84d6f0",
   "metadata": {},
   "source": [
    "Now what should you do in similar case.\n",
    "1. Get understanding why there is a discrepancy\n",
    "    * Try first by you-self\n",
    "    * Ask instructor/TA for help or confirmation of your ideas\n",
    "2. Change the code to make NBGrader happy\n",
    "3.(Optional) Leave a comment in the notebook\n"
   ]
  },
  {
   "cell_type": "code",
   "execution_count": null,
   "id": "f71db484",
   "metadata": {},
   "outputs": [],
   "source": []
  },
  {
   "cell_type": "markdown",
   "id": "4d17bde3",
   "metadata": {},
   "source": [
    "# Reported Trailing Zeros\n",
    "\n",
    "practice_10 grading\n",
    "\n",
    "```\n",
    "AssertionError: expected call not found.\n",
    "Expected: print('$150000 invested at 6.5% for 30 years compounded 12 times per year is $1048769.7.')\n",
    "Actual: print('$150000 invested at 6.5% for 30 years compounded 12 times per year is $1048769.70.')\n",
    "```\n",
    "\n",
    "\n",
    "Generally, there are two ways to handle trailing zeros (ones on the right of a decimal point):\n",
    "\n",
    "1) remove trailing zero as they are redundant\n",
    "\n",
    "2) do not remove them because they are still significant digits, and in stats, we go with that.\n",
    "\n",
    "Reported trailing zeros tell the reader that there is a zero there and not some unmeasured/unknown quantity. So when reporting your results and have trailing zero in a significant position, surely print them.\n"
   ]
  },
  {
   "cell_type": "code",
   "execution_count": 11,
   "id": "cd47b1fd",
   "metadata": {},
   "outputs": [
    {
     "name": "stdout",
     "output_type": "stream",
     "text": [
      "1.7\n",
      "1.700000\n",
      "1.70\n",
      "1.7\n",
      "1.70\n"
     ]
    }
   ],
   "source": [
    "mu_number = 1.7\n",
    "\n",
    "print(f\"{mu_number}\")\n",
    "print(f\"{mu_number:f}\")\n",
    "print(f\"{mu_number:.2f}\")\n",
    "print(f\"{mu_number:.3g}\")\n",
    "print(f\"{mu_number:#.3g}\")"
   ]
  },
  {
   "cell_type": "code",
   "execution_count": 12,
   "id": "d7d92c6a",
   "metadata": {
    "scrolled": true
   },
   "outputs": [
    {
     "name": "stdout",
     "output_type": "stream",
     "text": [
      "1.73\n",
      "1.730000\n",
      "1.73\n",
      "1.73\n"
     ]
    }
   ],
   "source": [
    "mu_number = 1.73\n",
    "\n",
    "print(f\"{mu_number}\")\n",
    "print(f\"{mu_number:f}\")\n",
    "print(f\"{mu_number:.2f}\")\n",
    "print(f\"{mu_number:.3g}\")"
   ]
  },
  {
   "cell_type": "code",
   "execution_count": 15,
   "id": "029ed760",
   "metadata": {},
   "outputs": [
    {
     "name": "stdout",
     "output_type": "stream",
     "text": [
      "1758.0\n",
      "1758.000000\n",
      "1758.00\n",
      "1.76e+03\n"
     ]
    }
   ],
   "source": [
    "mu_number = round(1758.00123, 2)\n",
    "print(f\"{mu_number}\")\n",
    "print(f\"{mu_number:f}\")\n",
    "print(f\"{mu_number:.2f}\")\n",
    "print(f\"{mu_number:.3g}\")"
   ]
  },
  {
   "cell_type": "markdown",
   "id": "c21f7dda",
   "metadata": {},
   "source": [
    "However, the question asked **round** the amount to two decimal places and it did not ask: **report** the amount to two decimal places. Do you see the difference? It does so that you practice other functions too."
   ]
  },
  {
   "cell_type": "code",
   "execution_count": null,
   "id": "3967583c",
   "metadata": {},
   "outputs": [],
   "source": []
  },
  {
   "cell_type": "markdown",
   "id": "c6568fec",
   "metadata": {},
   "source": [
    "# You have to use f-string in homework 1 to get 32 points"
   ]
  },
  {
   "cell_type": "code",
   "execution_count": 17,
   "id": "396a6b39",
   "metadata": {},
   "outputs": [
    {
     "name": "stdout",
     "output_type": "stream",
     "text": [
      "Hello, Mary, use f-strings wherever you can in homework 1!\n",
      "Hello, Mary, use f-strings wherever you can in homework 1!\n",
      "Hello, Mary, use f-strings wherever you can in homework 1!\n"
     ]
    }
   ],
   "source": [
    "# Complete this function to use the `name` input to print the following:\n",
    "# Hello, <name>, use f-strings wherever you can in homework 1!\n",
    "# Example: name = Steve\n",
    "# Print: Hello, Steve, use f-strings where you can!\n",
    "\n",
    "\n",
    "def example_1(name):\n",
    "    print('Hello, ' + name + ', use f-strings wherever you can in homework 1!')\n",
    "    \n",
    "def example_2(name):\n",
    "    print('Hello, %s, use f-strings wherever you can in homework 1!' % name)\n",
    "\n",
    "def example_3(name):\n",
    "    print(F'Hello, {name}, use f-strings wherever you can in homework 1!')\n",
    "\n",
    "example_1(\"Mary\")\n",
    "example_2(\"Mary\")\n",
    "example_3(\"Mary\")"
   ]
  },
  {
   "cell_type": "code",
   "execution_count": 18,
   "id": "6d1c4d33",
   "metadata": {},
   "outputs": [],
   "source": [
    "# Calculate average of two numbers and return it\n",
    "def example_4(number1, number2):\n",
    "    return (number1+number2)/2"
   ]
  },
  {
   "cell_type": "markdown",
   "id": "9a04e77e",
   "metadata": {},
   "source": [
    "* example_1 and example_2 do not use f-sting thus 0 points\n",
    "* example_3 uses f-sting thus full score\n",
    "* example_4 don't need strings at all thus no penalty\n"
   ]
  },
  {
   "cell_type": "markdown",
   "id": "819bea5a",
   "metadata": {},
   "source": [
    "# Functions, Passing argument, Namespace\n",
    "\n",
    "Variables reference object in computer memomry\n",
    "\n",
    "Namespace/frame/scope:\n",
    "* space where variables are stored\n",
    "* it is multilevel: global, local\n",
    "\n"
   ]
  },
  {
   "cell_type": "code",
   "execution_count": 19,
   "id": "8ede8a4f",
   "metadata": {},
   "outputs": [],
   "source": [
    "def double(x):\n",
    "    x = 2 * x\n",
    "    return x"
   ]
  },
  {
   "cell_type": "code",
   "execution_count": 20,
   "id": "ca4daa4b",
   "metadata": {},
   "outputs": [
    {
     "data": {
      "text/plain": [
       "<function __main__.double(x)>"
      ]
     },
     "execution_count": 20,
     "metadata": {},
     "output_type": "execute_result"
    }
   ],
   "source": [
    "# what is double?\n",
    "double"
   ]
  },
  {
   "cell_type": "code",
   "execution_count": 24,
   "id": "20fb89b4",
   "metadata": {
    "scrolled": true
   },
   "outputs": [
    {
     "name": "stdout",
     "output_type": "stream",
     "text": [
      "#1 9788608\n",
      "#2 9788608\n",
      "#3 9788640\n",
      "x is 1 and y is 2\n"
     ]
    }
   ],
   "source": [
    "def double(x):\n",
    "    x = 2 * x\n",
    "    return x\n",
    "\n",
    "x = 1\n",
    "y = double(x)\n",
    "print(f\"x is {x} and y is {y}\")"
   ]
  },
  {
   "cell_type": "code",
   "execution_count": null,
   "id": "453ba941",
   "metadata": {},
   "outputs": [],
   "source": []
  },
  {
   "cell_type": "markdown",
   "id": "e5758a6d",
   "metadata": {},
   "source": [
    "`id(<variable>)` - function to get memory address of object refered by variable\n",
    "\n",
    "Visualization of variables and memory: \n",
    "[https://pythontutor.com/visualize.html](https://pythontutor.com/visualize.html)\n",
    "(config: hide exited frames, rander all objects on the heap and use text labels for pointers)"
   ]
  },
  {
   "cell_type": "code",
   "execution_count": null,
   "id": "79c747fe",
   "metadata": {},
   "outputs": [],
   "source": [
    "def double(x):\n",
    "    x = 2 * x\n",
    "    return x\n",
    "\n",
    "def quadruple(x):\n",
    "    x = 2 * double(x)\n",
    "    return x\n",
    "\n",
    "x = 1\n",
    "y = quadruple(x)\n",
    "print(f\"x is {x} and y is {y}\")"
   ]
  },
  {
   "cell_type": "code",
   "execution_count": null,
   "id": "acbfdf41",
   "metadata": {},
   "outputs": [],
   "source": [
    "def double(x):\n",
    "    x = 2 * x\n",
    "    return x\n",
    "\n",
    "x = 1\n",
    "x = double(x+1) + double(x+1)\n",
    "print(f\"x is {x}\")"
   ]
  },
  {
   "cell_type": "markdown",
   "id": "51fe5c34",
   "metadata": {},
   "source": [
    "# Indentations\n",
    "Indentation delimit blocks"
   ]
  },
  {
   "cell_type": "code",
   "execution_count": 38,
   "id": "3a20db75",
   "metadata": {},
   "outputs": [
    {
     "name": "stdout",
     "output_type": "stream",
     "text": [
      "12\n",
      "1\n",
      "Two numbers are 1 and 2\n"
     ]
    }
   ],
   "source": [
    "# This is global or __main__ block\n",
    "global_a = 12\n",
    "global_x = 1\n",
    "global_y = 2\n",
    "\n",
    "#print_two_numbers = None\n",
    "# function add is defined in global block\n",
    "def add(add_local_x, add_local_y):\n",
    "    # this is block of function add\n",
    "    global print_two_numbers\n",
    "    global global_a\n",
    "    global_a = 1\n",
    "    print(global_a)\n",
    "    \n",
    "    # function print_two_numbers is defined in function add block\n",
    "    def print_two_numbers(local_x, local_y):\n",
    "        # this is block of function print_two_numbers\n",
    "        print(f\"Two numbers are {local_x} and {local_y}\")\n",
    "    \n",
    "    result = add_local_x + add_local_y\n",
    "    print_two_numbers(add_local_x, add_local_y)\n",
    "    return result\n",
    "print(global_a)\n",
    "global_z = add(global_x, global_y)\n",
    "\n"
   ]
  },
  {
   "cell_type": "code",
   "execution_count": 35,
   "id": "f5506a04",
   "metadata": {},
   "outputs": [
    {
     "name": "stdout",
     "output_type": "stream",
     "text": [
      "Two numbers are 1 and 2\n"
     ]
    }
   ],
   "source": [
    "# function print_two_numbers was defined in function add block\n",
    "# what's the implecations?\n",
    "print_two_numbers(global_x, global_y)\n"
   ]
  },
  {
   "cell_type": "code",
   "execution_count": 5,
   "id": "1dea160d",
   "metadata": {},
   "outputs": [
    {
     "name": "stdout",
     "output_type": "stream",
     "text": [
      "1.0\n",
      "1.0\n",
      "1.0\n",
      "1.0\n",
      "1.0\n",
      "1.0\n",
      "1.2\n",
      "1.2\n",
      "1.2\n",
      "1.2\n",
      "1.2\n",
      "1.2\n"
     ]
    },
    {
     "data": {
      "text/plain": [
       "'0x1.8000000000000p+0'"
      ]
     },
     "execution_count": 5,
     "metadata": {},
     "output_type": "execute_result"
    }
   ],
   "source": [
    "print(str(1.0))  # 1.0\n",
    "print(str(1.00))  # 1.0\n",
    "print(str(1.))  # 1.0\n",
    "print(1.0)  # 1.0\n",
    "print(1.00)  # 1.0\n",
    "print(1.)  # 1.0\n",
    "\n",
    "print(str(1.20))  # 1.2\n",
    "print(str(1.200))  # 1.2\n",
    "print(str(1.2))  # 1.2\n",
    "print(1.20)  # 1.2\n",
    "print(1.200)  # 1.2\n",
    "print(1.2)  # 1.2\n",
    "1.5.hex()"
   ]
  }
 ],
 "metadata": {
  "kernelspec": {
   "display_name": "Python 3 (ipykernel)",
   "language": "python",
   "name": "python3"
  },
  "language_info": {
   "codemirror_mode": {
    "name": "ipython",
    "version": 3
   },
   "file_extension": ".py",
   "mimetype": "text/x-python",
   "name": "python",
   "nbconvert_exporter": "python",
   "pygments_lexer": "ipython3",
   "version": "3.8.10"
  }
 },
 "nbformat": 4,
 "nbformat_minor": 5
}