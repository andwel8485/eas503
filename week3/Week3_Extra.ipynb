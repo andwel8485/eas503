{
 "cells": [
  {
   "cell_type": "markdown",
   "id": "0e3618d2",
   "metadata": {},
   "source": [
    "# Assert Statement\n",
    "\n",
    "Assert is used to test an expression, which we expect to be true. If expression is False then that means that something is wrong and we want to stop program execution.\n",
    "\n",
    "Assert will raise an exception, that is it tells that error happens, if the statement is false."
   ]
  },
  {
   "cell_type": "code",
   "execution_count": null,
   "id": "9b83a2d1",
   "metadata": {},
   "outputs": [],
   "source": [
    "assert True  # no exception, that is everything is good, just as expected"
   ]
  },
  {
   "cell_type": "code",
   "execution_count": null,
   "id": "43caa3b2",
   "metadata": {},
   "outputs": [],
   "source": [
    "assert False  # exception is raised, that is unexpected behavior"
   ]
  },
  {
   "cell_type": "code",
   "execution_count": null,
   "id": "b6e78c98",
   "metadata": {},
   "outputs": [],
   "source": []
  },
  {
   "cell_type": "markdown",
   "id": "4e6927d5",
   "metadata": {
    "pycharm": {
     "name": "#%% md\n"
    }
   },
   "source": [
    "# Order of Instructions\n",
    "Homework0/exercise_10() "
   ]
  },
  {
   "cell_type": "code",
   "execution_count": null,
   "id": "92dd0568",
   "metadata": {
    "pycharm": {
     "name": "#%%\n"
    }
   },
   "outputs": [],
   "source": [
    "assert (67-32)*(5/9) == (67-32)*5/9"
   ]
  },
  {
   "cell_type": "code",
   "execution_count": null,
   "id": "ab253c98",
   "metadata": {
    "pycharm": {
     "name": "#%%\n"
    }
   },
   "outputs": [],
   "source": [
    "(67-32)*5/9"
   ]
  },
  {
   "cell_type": "code",
   "execution_count": null,
   "id": "b9ff5f45",
   "metadata": {
    "pycharm": {
     "name": "#%%\n"
    }
   },
   "outputs": [],
   "source": [
    "(67-32)*(5/9)"
   ]
  },
  {
   "cell_type": "markdown",
   "id": "c852b48f",
   "metadata": {},
   "source": [
    "<!--- The parenthesis here changes the order of instruction, that is:\n",
    "\n",
    "1. in both cases it is (67-32)\n",
    "2. left will do division (5/9) while right will do multiplication (67-32)*5\n",
    "3. left will do multiplication (67-32)*(5/9) while right will do division ((67-32)*5)/9\n",
    "\n",
    "Because order of instruction is different that lead to different round off error accumulation and thus different outcomes.\n",
    "-->"
   ]
  },
  {
   "cell_type": "markdown",
   "id": "6f84d6f0",
   "metadata": {},
   "source": [
    "Now what should you do in similar case.\n",
    "1. Get understanding why there is a discrepancy\n",
    "    * Try first by you-self\n",
    "    * Ask instructor/TA for help or confirmation of your ideas\n",
    "2. Change the code to make NBGrader happy\n",
    "3.(Optional) Leave a comment in the notebook\n"
   ]
  },
  {
   "cell_type": "code",
   "execution_count": null,
   "id": "f71db484",
   "metadata": {},
   "outputs": [],
   "source": []
  },
  {
   "cell_type": "markdown",
   "id": "4d17bde3",
   "metadata": {},
   "source": [
    "# Reported Trailing Zeros\n",
    "\n",
    "practice_10 grading\n",
    "\n",
    "```\n",
    "AssertionError: expected call not found.\n",
    "Expected: print('$150000 invested at 6.5% for 30 years compounded 12 times per year is $1048769.7.')\n",
    "Actual: print('$150000 invested at 6.5% for 30 years compounded 12 times per year is $1048769.70.')\n",
    "```\n",
    "\n",
    "\n",
    "Generally, there are two ways to handle trailing zeros (ones on the right of a decimal point):\n",
    "\n",
    "1) remove trailing zero as they are redundant\n",
    "\n",
    "2) do not remove them because they are still significant digits, and in stats, we go with that.\n",
    "\n",
    "Reported trailing zeros tell the reader that there is a zero there and not some unmeasured/unknown quantity. So when reporting your results and have trailing zero in a significant position, surely print them.\n"
   ]
  },
  {
   "cell_type": "code",
   "execution_count": null,
   "id": "cd47b1fd",
   "metadata": {},
   "outputs": [],
   "source": [
    "mu_number = 1.7\n",
    "\n",
    "print(f\"{mu_number}\")\n",
    "print(f\"{mu_number:f}\")\n",
    "print(f\"{mu_number:.2f}\")\n",
    "print(f\"{mu_number:.3g}\")"
   ]
  },
  {
   "cell_type": "code",
   "execution_count": null,
   "id": "d7d92c6a",
   "metadata": {
    "scrolled": true
   },
   "outputs": [],
   "source": [
    "mu_number = 1.73\n",
    "\n",
    "print(f\"{mu_number}\")\n",
    "print(f\"{mu_number:f}\")\n",
    "print(f\"{mu_number:.2f}\")\n",
    "print(f\"{mu_number:.3g}\")"
   ]
  },
  {
   "cell_type": "code",
   "execution_count": null,
   "id": "029ed760",
   "metadata": {},
   "outputs": [],
   "source": [
    "mu_number = round(1758.00123, 2)\n",
    "print(f\"{mu_number}\")\n",
    "print(f\"{mu_number:f}\")\n",
    "print(f\"{mu_number:.2f}\")\n",
    "print(f\"{mu_number:.3g}\")"
   ]
  },
  {
   "cell_type": "markdown",
   "id": "c21f7dda",
   "metadata": {},
   "source": [
    "However, the question asked **round** the amount to two decimal places and it did not ask: **report** the amount to two decimal places. Do you see the difference? It does so that you practice other functions too."
   ]
  },
  {
   "cell_type": "code",
   "execution_count": null,
   "id": "3967583c",
   "metadata": {},
   "outputs": [],
   "source": []
  },
  {
   "cell_type": "markdown",
   "id": "c6568fec",
   "metadata": {},
   "source": [
    "# You have to use f-string in homework 1 to get 32 points"
   ]
  },
  {
   "cell_type": "code",
   "execution_count": null,
   "id": "396a6b39",
   "metadata": {},
   "outputs": [],
   "source": [
    "# Complete this function to use the `name` input to print the following:\n",
    "# Hello, <name>, use f-strings wherever you can in homework 1!\n",
    "# Example: name = Steve\n",
    "# Print: Hello, Steve, use f-strings where you can!\n",
    "\n",
    "\n",
    "def example_1(name):\n",
    "    print('Hello, ' + name + ', use f-strings wherever you can in homework 1!')\n",
    "    \n",
    "def example_2(name):\n",
    "    print('Hello, %s, use f-strings wherever you can in homework 1!' % name)\n",
    "\n",
    "def example_3(name):\n",
    "    print(f'Hello, {name}, use f-strings wherever you can in homework 1!')\n",
    "\n",
    "example_1(\"Mary\")\n",
    "example_2(\"Mary\")\n",
    "example_3(\"Mary\")"
   ]
  },
  {
   "cell_type": "code",
   "execution_count": null,
   "id": "6d1c4d33",
   "metadata": {},
   "outputs": [],
   "source": [
    "# Calculate average of two numbers and return it\n",
    "def example_4(number1, number2):\n",
    "    return (number1+number2)/2"
   ]
  },
  {
   "cell_type": "markdown",
   "id": "9a04e77e",
   "metadata": {},
   "source": [
    "* example_1 and example_2 do not use f-sting thus 0 points\n",
    "* example_3 uses f-sting thus full score\n",
    "* example_4 don't need strings at all thus no penalty\n"
   ]
  },
  {
   "cell_type": "markdown",
   "id": "819bea5a",
   "metadata": {},
   "source": [
    "# Functions, Passing argument, Namespace\n",
    "\n",
    "Variables reference object in computer memomry\n",
    "\n",
    "Namespace/frame/scope:\n",
    "* space where variables are stored\n",
    "* it is multilevel: global, local\n",
    "\n"
   ]
  },
  {
   "cell_type": "code",
   "execution_count": null,
   "id": "8ede8a4f",
   "metadata": {},
   "outputs": [],
   "source": [
    "def double(x):\n",
    "    x = 2 * x\n",
    "    return x"
   ]
  },
  {
   "cell_type": "code",
   "execution_count": null,
   "id": "ca4daa4b",
   "metadata": {},
   "outputs": [],
   "source": [
    "# what is double?"
   ]
  },
  {
   "cell_type": "code",
   "execution_count": null,
   "id": "20fb89b4",
   "metadata": {
    "scrolled": true
   },
   "outputs": [],
   "source": [
    "def double(x):\n",
    "    x = 2 * x\n",
    "    return x\n",
    "\n",
    "x = 1\n",
    "y = double(x)\n",
    "print(f\"x is {x} and y is {y}\")"
   ]
  },
  {
   "cell_type": "code",
   "execution_count": null,
   "id": "453ba941",
   "metadata": {},
   "outputs": [],
   "source": []
  },
  {
   "cell_type": "markdown",
   "id": "e5758a6d",
   "metadata": {},
   "source": [
    "`id(<variable>)` - function to get memory address of object refered by variable\n",
    "\n",
    "Visualization of variables and memory: \n",
    "[https://pythontutor.com/visualize.html](https://pythontutor.com/visualize.html)\n",
    "(config: hide exited frames, rander all objects on the heap and use text labels for pointers)"
   ]
  },
  {
   "cell_type": "code",
   "execution_count": null,
   "id": "79c747fe",
   "metadata": {},
   "outputs": [],
   "source": [
    "def double(x):\n",
    "    x = 2 * x\n",
    "    return x\n",
    "\n",
    "def quadruple(x):\n",
    "    x = 2 * double(x)\n",
    "    return x\n",
    "\n",
    "x = 1\n",
    "y = quadruple(x)\n",
    "print(f\"x is {x} and y is {y}\")"
   ]
  },
  {
   "cell_type": "code",
   "execution_count": null,
   "id": "acbfdf41",
   "metadata": {},
   "outputs": [],
   "source": [
    "def double(x):\n",
    "    x = 2 * x\n",
    "    return x\n",
    "\n",
    "x = 1\n",
    "x = double(x+1) + double(x+1)\n",
    "print(f\"x is {x}\")"
   ]
  },
  {
   "cell_type": "markdown",
   "id": "51fe5c34",
   "metadata": {},
   "source": [
    "# Indentations\n",
    "Indentation delimit blocks"
   ]
  },
  {
   "cell_type": "code",
   "execution_count": null,
   "id": "3a20db75",
   "metadata": {},
   "outputs": [],
   "source": [
    "# This is global or __main__ block\n",
    "global_x = 1\n",
    "global_y = 2\n",
    "\n",
    "# function add is defined in global block\n",
    "def add(add_local_x, add_local_y):\n",
    "    # this is block of function add\n",
    "    \n",
    "    # function print_two_numbers is defined in function add block\n",
    "    def print_two_numbers(local_x, local_y):\n",
    "        # this is block of function print_two_numbers\n",
    "        print(f\"Two numbers are {local_x} and {local_y}\")\n",
    "    \n",
    "    result = add_local_x + add_local_y\n",
    "    print_two_numbers(add_local_x, add_local_y)\n",
    "    return result\n",
    "\n",
    "global_z = add(global_x, global_y)\n",
    "\n"
   ]
  },
  {
   "cell_type": "code",
   "execution_count": null,
   "id": "f5506a04",
   "metadata": {},
   "outputs": [],
   "source": [
    "# function print_two_numbers was defined in function add block\n",
    "# what's the implecations?\n",
    "print_two_numbers(global_x, global_y)\n"
   ]
  },
  {
   "cell_type": "code",
   "execution_count": null,
   "id": "1dea160d",
   "metadata": {},
   "outputs": [],
   "source": []
  }
 ],
 "metadata": {
  "kernelspec": {
   "display_name": "Python 3 (ipykernel)",
   "language": "python",
   "name": "python3"
  },
  "language_info": {
   "codemirror_mode": {
    "name": "ipython",
    "version": 3
   },
   "file_extension": ".py",
   "mimetype": "text/x-python",
   "name": "python",
   "nbconvert_exporter": "python",
   "pygments_lexer": "ipython3",
   "version": "3.9.7"
  }
 },
 "nbformat": 4,
 "nbformat_minor": 5
}
