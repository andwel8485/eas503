{
 "cells": [
  {
   "cell_type": "markdown",
   "metadata": {},
   "source": [
    "# Week 3. Python Programming: Making Choices/Flow Control/Conidtionals"
   ]
  },
  {
   "cell_type": "code",
   "execution_count": null,
   "metadata": {},
   "outputs": [],
   "source": [
    "x = 5\n",
    "y = 10\n",
    "z = x + y\n",
    "print(x, y, z)"
   ]
  },
  {
   "cell_type": "markdown",
   "metadata": {},
   "source": [
    "```python\n",
    "if (?????):\n",
    "    do something\n",
    "    \n",
    "def my_function():\n",
    "    # sequence of instructions inside the function\n",
    "    \n",
    "x = 10\n",
    "```"
   ]
  },
  {
   "cell_type": "code",
   "execution_count": null,
   "metadata": {},
   "outputs": [],
   "source": [
    "a = 1\n",
    "b = 1"
   ]
  },
  {
   "cell_type": "code",
   "execution_count": null,
   "metadata": {},
   "outputs": [],
   "source": [
    "is_teacher = True\n",
    "is_active = True\n",
    "\n",
    "if is_teacher and is_active:\n",
    "    print('Let the user in!')\n",
    "    print('Class is bored!')\n",
    "    \n",
    "print('I am here!')"
   ]
  },
  {
   "cell_type": "markdown",
   "metadata": {},
   "source": []
  },
  {
   "cell_type": "code",
   "execution_count": null,
   "metadata": {},
   "outputs": [],
   "source": [
    "is_superuser = False\n",
    "is_teacher = True\n",
    "is_active = True\n",
    "\n",
    "\n",
    "# if True or (False and True) ==> True or False ==> True\n",
    "if is_superuser or (is_teacher and is_active): \n",
    "    print('You can access')\n",
    "    \n",
    "print('I am here!')"
   ]
  },
  {
   "cell_type": "code",
   "execution_count": null,
   "metadata": {},
   "outputs": [],
   "source": [
    "is_superuser = False\n",
    "if not is_superuser: \n",
    "    print('You cannot access')"
   ]
  },
  {
   "cell_type": "markdown",
   "metadata": {},
   "source": [
    "## Boolean and Logical Expression\n",
    "\n",
    "### Boolean Operators\n",
    "\n",
    "- Assume `a=1` and `b=1`\n",
    "\n",
    "| Boolean Operators | What it does?                                | Example       |\n",
    "|----|---------------------------------------------|---------------|\n",
    "| == | True if a has the same value as b           | a == b #True  |\n",
    "| != | True if a does not have the same value as b | a != b #False |\n",
    "| >  | True if a is greater than b                 | a > b # False |\n",
    "| <  | True if a is less than b                    | a < b # False |\n",
    "| >= | True if a is greater than or equal to b     | a >= b # True |\n",
    "| <= | True if a is less than or equal to b        | a <= b # True |\n",
    "\n",
    "### Logical Operators\n",
    "\n",
    "| Operator | What it does?                                        | Example                                                                   |\n",
    "|----------|------------------------------------------------------|---------------------------------------------------------------------------|\n",
    "| `and`    | True if both a AND b are true (logical conjunction)  | if is_teacher and is_active:   print('You can access')                    |\n",
    "| `or`     | True if either a OR b are true (logical disjunction) | if is_superuser or (is_teacher and is active):    print('You can access') |\n",
    "| `not`    | True if the opposite of a is true (logical negation) | if not is_superuser:   print('You cannot access')    \n"
   ]
  },
  {
   "cell_type": "code",
   "execution_count": null,
   "metadata": {},
   "outputs": [],
   "source": [
    "False and False"
   ]
  },
  {
   "cell_type": "code",
   "execution_count": null,
   "metadata": {},
   "outputs": [],
   "source": [
    "not True\n",
    "not False\n",
    "\n",
    "True and True\n",
    "False and False\n",
    "True and False\n",
    "False and True\n",
    "\n",
    "\n",
    "True or True\n",
    "False or False\n",
    "True or False\n",
    "False or True"
   ]
  },
  {
   "cell_type": "code",
   "execution_count": null,
   "metadata": {},
   "outputs": [],
   "source": [
    "cold = True\n",
    "windy = False\n",
    "\n",
    "# (not True) False and False ==> False\n",
    "(not cold) and windy # \n",
    "\n",
    "not (cold and windy) # \n",
    "not (True and False) # True"
   ]
  },
  {
   "cell_type": "code",
   "execution_count": null,
   "metadata": {},
   "outputs": [],
   "source": [
    "67.0 == 67"
   ]
  },
  {
   "cell_type": "code",
   "execution_count": null,
   "metadata": {},
   "outputs": [],
   "source": [
    "67.0 != 67"
   ]
  },
  {
   "cell_type": "code",
   "execution_count": null,
   "metadata": {},
   "outputs": [],
   "source": []
  },
  {
   "cell_type": "code",
   "execution_count": null,
   "metadata": {},
   "outputs": [],
   "source": [
    "result = None\n",
    "if result == None:\n",
    "    print(\"Result is none!\")"
   ]
  },
  {
   "cell_type": "code",
   "execution_count": null,
   "metadata": {},
   "outputs": [],
   "source": [
    "if result is None:\n",
    "    print(\"Result is none!\")\n",
    "# result is None / result is not None prefered"
   ]
  },
  {
   "cell_type": "code",
   "execution_count": null,
   "metadata": {},
   "outputs": [],
   "source": []
  },
  {
   "cell_type": "markdown",
   "metadata": {},
   "source": [
    "###  Combining Comparisons"
   ]
  },
  {
   "cell_type": "code",
   "execution_count": null,
   "metadata": {},
   "outputs": [],
   "source": [
    "x = 2\n",
    "y = 5\n",
    "z = 7\n",
    "x < y and y < z\n",
    "# True and True => True\n",
    "\n",
    "\n"
   ]
  },
  {
   "cell_type": "code",
   "execution_count": null,
   "metadata": {},
   "outputs": [],
   "source": [
    "(x < y) and (y < z) # better\n"
   ]
  },
  {
   "cell_type": "code",
   "execution_count": null,
   "metadata": {},
   "outputs": [],
   "source": [
    "x < y < z # best"
   ]
  },
  {
   "cell_type": "code",
   "execution_count": null,
   "metadata": {},
   "outputs": [],
   "source": [
    "x = 3\n",
    "(1 < x) and (x <= 5)\n",
    "\n",
    "x = 7\n",
    "(1 < x) and (x <= 5)\n",
    "\n",
    "\n",
    "x = 3 \n",
    "1 < x <= 5 # You can chain comparisons\n",
    "\n",
    "3 < 5 != True \n",
    "\n",
    "True != True\n",
    "\n",
    "(3 < 5) and (5 != True)\n",
    "\n",
    "3 < 5 != False\n",
    "(3 < 5) and (5 != False)"
   ]
  },
  {
   "cell_type": "code",
   "execution_count": null,
   "metadata": {},
   "outputs": [],
   "source": [
    "if ((3 < 5) and 5):\n",
    "    print('Will this print? Yes')"
   ]
  },
  {
   "cell_type": "markdown",
   "metadata": {},
   "source": [
    "# Strings comparison\n",
    "compare symble by simble using respective unicode code. Order for alphanumeric: 0-9, A-Z, a-z."
   ]
  },
  {
   "cell_type": "code",
   "execution_count": null,
   "metadata": {},
   "outputs": [],
   "source": [
    "print(\"Python\" == \"Python\")\n",
    "print(\"Python\" != \"Python\")\n",
    "print(\"Python\" < \"python\")\n",
    "print(\"Python\" > \"python\")"
   ]
  },
  {
   "cell_type": "code",
   "execution_count": null,
   "metadata": {},
   "outputs": [],
   "source": [
    "print(\"Python\" < \"Python2\")\n",
    "print(\"Python2\" < \"Python3\")"
   ]
  },
  {
   "cell_type": "code",
   "execution_count": null,
   "metadata": {},
   "outputs": [],
   "source": [
    "# reverse\n",
    "print(\"Python2\" < \"Python3\")"
   ]
  },
  {
   "cell_type": "code",
   "execution_count": null,
   "metadata": {},
   "outputs": [],
   "source": [
    "'A' < 'a'\n",
    "'A' > 'Z'\n",
    "'abc' < 'abd'\n",
    "'abc' < 'abcd' # shorter is less"
   ]
  },
  {
   "cell_type": "code",
   "execution_count": null,
   "metadata": {},
   "outputs": [],
   "source": [
    "'A' < 'a' # 65 < 97"
   ]
  },
  {
   "cell_type": "code",
   "execution_count": null,
   "metadata": {},
   "outputs": [],
   "source": [
    "'A' > 'Z'"
   ]
  },
  {
   "cell_type": "code",
   "execution_count": null,
   "metadata": {},
   "outputs": [],
   "source": [
    "'ac' < 'abd'"
   ]
  },
  {
   "cell_type": "code",
   "execution_count": null,
   "metadata": {},
   "outputs": [],
   "source": [
    "'abc' < 'abcd' # shorter is less"
   ]
  },
  {
   "cell_type": "code",
   "execution_count": null,
   "metadata": {},
   "outputs": [],
   "source": [
    "'Jan' in '01 Jan 1838'"
   ]
  },
  {
   "cell_type": "code",
   "execution_count": null,
   "metadata": {},
   "outputs": [],
   "source": [
    "'jan' in '01 Jan 1838'"
   ]
  },
  {
   "cell_type": "code",
   "execution_count": null,
   "metadata": {},
   "outputs": [],
   "source": [
    "# make above case insensitive"
   ]
  },
  {
   "cell_type": "markdown",
   "metadata": {},
   "source": [
    "## If Statement / Making Choices/Flow Control/Conidtionals\n",
    "\n",
    "### If Statement\n",
    "\n",
    "```Python\n",
    "if Expression1:\n",
    "    # Expression1 is True\n",
    "    do_something_1\n",
    "    do_something_else_1\n",
    "```\n",
    "\n",
    "### If ... else ... Statement\n",
    "```Python\n",
    "if Expression1:\n",
    "    # Expression1 is True\n",
    "    do_something_1\n",
    "    do_something_else_1\n",
    "else:\n",
    "    # Expression1 is False\n",
    "    do_something_2\n",
    "    do_something_else_2\n",
    "```\n",
    "\n",
    "\n",
    "### If ... elif ... else ... Statement\n",
    "\n",
    "```Python\n",
    "if Expression1:\n",
    "    # Expression1 is True\n",
    "    do_something_1\n",
    "    do_something_else_1\n",
    "elif Expression2: # else if \n",
    "    # Expression2 is True and Expression1 is False\n",
    "    do_something_2\n",
    "    do_something_else_2\n",
    "elif Expression3: # else if \n",
    "    # Expression3 is True and Expression1 and Expression2 are False\n",
    "    do_something_3\n",
    "    do_something_else_3\n",
    "else:\n",
    "    # Expression1, Expression2 and Expression3 are False\n",
    "    do_something_4\n",
    "    do_something_else_4\n",
    "```\n",
    "\n",
    "- Pay attention to indentations\n",
    "- Sometimes mathematical expression can get too complicated, so place human-readable comment on first line of block"
   ]
  },
  {
   "cell_type": "code",
   "execution_count": null,
   "metadata": {},
   "outputs": [],
   "source": [
    "ph = float(input('Enter the pH level: '))\n",
    "if ph < 7.0:\n",
    "    print(ph, \" is acidic.\") #indentation important"
   ]
  },
  {
   "cell_type": "code",
   "execution_count": null,
   "metadata": {},
   "outputs": [],
   "source": [
    "ph = float(input('Enter the pH level: '))\n",
    "if ph < 7.0:\n",
    "    print(ph, \" is acidic.\")\n",
    "    print('You should be careful with that!') #indentation is important\n",
    "\n",
    "print('I am here!')"
   ]
  },
  {
   "cell_type": "code",
   "execution_count": null,
   "metadata": {},
   "outputs": [],
   "source": [
    "ph = float(input('Enter the pH level: '))\n",
    "if ph < 7.0:\n",
    "    print(ph, \" is acidic.\") #indentation important\n",
    "\n",
    "if ph > 7.0:\n",
    "    print(ph, \" is basic.\") \n",
    "    \n",
    "print('I am here!')"
   ]
  },
  {
   "cell_type": "code",
   "execution_count": null,
   "metadata": {},
   "outputs": [],
   "source": [
    "ph = float(input('Enter the pH level: '))\n",
    "if ph < 7.0:\n",
    "    print(ph, \" is acidic.\") #indentation important\n",
    "elif ph > 7.0:\n",
    "    print(ph, \" is basic.\") "
   ]
  },
  {
   "cell_type": "code",
   "execution_count": null,
   "metadata": {},
   "outputs": [],
   "source": [
    "ph = float(input('Enter the pH level: '))\n",
    "if ph < 7.0:\n",
    "    ph = 8.0 #indentation important\n",
    "\n",
    "if ph > 7.0:\n",
    "    print(ph, \" is basic.\") \n",
    "    \n"
   ]
  },
  {
   "cell_type": "code",
   "execution_count": null,
   "metadata": {},
   "outputs": [],
   "source": [
    "compound = input('Enter the compound: ')\n",
    "if compound == 'H2O':\n",
    "    print('Water')\n",
    "elif compound == 'NH3':\n",
    "    print('Ammonia')\n",
    "elif compound == 'CH4':\n",
    "    print('Methane')\n",
    "else:\n",
    "    print('Unknown compound')"
   ]
  },
  {
   "cell_type": "code",
   "execution_count": null,
   "metadata": {},
   "outputs": [],
   "source": [
    "value = input('Enter the pH level: ')\n",
    "if len(value) > 0:\n",
    "    ph = float(value) \n",
    "    if ph < 7.0:\n",
    "        print(ph, \" is acidic.\")\n",
    "    elif ph > 7.0:\n",
    "        print(ph, \" is basic.\")\n",
    "    else:\n",
    "        print(ph, \" is neutral.\")\n",
    "else:\n",
    "    print('No pH value was given!')"
   ]
  },
  {
   "cell_type": "code",
   "execution_count": null,
   "metadata": {},
   "outputs": [],
   "source": [
    "my_string = 'EAS503'\n",
    "print(len(my_string))"
   ]
  },
  {
   "cell_type": "code",
   "execution_count": null,
   "metadata": {},
   "outputs": [],
   "source": [
    "my_string = ''\n",
    "print(len(my_string))"
   ]
  },
  {
   "cell_type": "code",
   "execution_count": null,
   "metadata": {},
   "outputs": [],
   "source": [
    "x = 2\n",
    "print(len(x))"
   ]
  },
  {
   "cell_type": "code",
   "execution_count": null,
   "metadata": {},
   "outputs": [],
   "source": [
    "age = 39\n",
    "bmi = 35\n",
    "if age < 45:\n",
    "    if bmi < 22.0:\n",
    "        risk = 'low'\n",
    "    else:\n",
    "        risk = 'medium'\n",
    "else:\n",
    "    if bmi < 22.0:\n",
    "        risk = 'medium'\n",
    "    else:\n",
    "        risk = 'high'"
   ]
  },
  {
   "cell_type": "code",
   "execution_count": null,
   "metadata": {},
   "outputs": [],
   "source": [
    "age = 65\n",
    "bmi = 35\n",
    "young = age < 45\n",
    "slim = bmi < 22.0\n",
    "if young:\n",
    "    if slim:\n",
    "        risk = 'low'\n",
    "    else:\n",
    "        risk = 'medium'\n",
    "else:\n",
    "    if slim:\n",
    "        risk = 'medium'\n",
    "    else:\n",
    "        risk = 'high'"
   ]
  },
  {
   "cell_type": "code",
   "execution_count": null,
   "metadata": {},
   "outputs": [],
   "source": [
    "age = 45\n",
    "young = age < 45\n",
    "print(young)"
   ]
  },
  {
   "cell_type": "code",
   "execution_count": null,
   "metadata": {},
   "outputs": [],
   "source": [
    "bmi = 35\n",
    "slim = bmi < 22.0"
   ]
  },
  {
   "cell_type": "code",
   "execution_count": null,
   "metadata": {},
   "outputs": [],
   "source": [
    "ph = 2\n",
    "if ph < 7.0:\n",
    "    print(ph, ' is acidic')\n",
    "elif ph < 3.0:\n",
    "    print(ph, ' is VERY acidic! Be careful.')"
   ]
  },
  {
   "cell_type": "code",
   "execution_count": null,
   "metadata": {},
   "outputs": [],
   "source": [
    "ph = 2\n",
    "\n",
    "if ph < 3.0:\n",
    "    print(ph, ' is VERY acidic! Be careful.')\n",
    "elif ph < 7.0:\n",
    "    print(ph, ' is acidic')"
   ]
  },
  {
   "cell_type": "markdown",
   "metadata": {},
   "source": [
    "## Exercises"
   ]
  },
  {
   "cell_type": "code",
   "execution_count": null,
   "metadata": {},
   "outputs": [],
   "source": [
    "# 1 ---------------------\n",
    "# Write a program to prompt the user for temperature in Celsius, convert \n",
    "# the temperature to Fahrenheit, and print temperature in Fahrenheit. \n"
   ]
  },
  {
   "cell_type": "code",
   "execution_count": null,
   "metadata": {},
   "outputs": [],
   "source": [
    "# 2 ---------------------\n",
    "# Modify exercise 1 to print a message when F > 90 and F < 32\n"
   ]
  },
  {
   "cell_type": "code",
   "execution_count": null,
   "metadata": {},
   "outputs": [],
   "source": [
    "# 3 ---------------------\n",
    "# Write a function to calculate the solution to a quadratic equation\n",
    "# https://www.mathsisfun.com/algebra/quadratic-equation.html\n",
    "# Prompt the user to the coefficients a, b, and c. \n"
   ]
  },
  {
   "cell_type": "code",
   "execution_count": null,
   "metadata": {},
   "outputs": [],
   "source": [
    "# 4 --------------------\n",
    "# Modify ex3 to add conditionals to print no real roots, double root, roots\n",
    "\n",
    "# If this, otherwise that -- If Else conditional"
   ]
  },
  {
   "cell_type": "code",
   "execution_count": null,
   "metadata": {},
   "outputs": [],
   "source": [
    "# 5 --------------------\n",
    "\n",
    "\n",
    "# Find the maxval"
   ]
  },
  {
   "cell_type": "code",
   "execution_count": null,
   "metadata": {},
   "outputs": [],
   "source": [
    "# 6 ------------------\n",
    "# Write a program to prompt the user for their user name. \n",
    "# If it is jdoe, print a log in allowed message; otherwise, print another message"
   ]
  },
  {
   "cell_type": "code",
   "execution_count": null,
   "metadata": {},
   "outputs": [],
   "source": [
    "# 7 -------------------\n",
    "# Modify ex6 to only allow login if the user is active"
   ]
  },
  {
   "cell_type": "code",
   "execution_count": null,
   "metadata": {},
   "outputs": [],
   "source": [
    "# 8 -----------------\n",
    "# Write a program to prompt the user for name and check if it is john or jane"
   ]
  },
  {
   "cell_type": "code",
   "execution_count": null,
   "metadata": {},
   "outputs": [],
   "source": []
  },
  {
   "cell_type": "code",
   "execution_count": null,
   "metadata": {},
   "outputs": [],
   "source": []
  },
  {
   "cell_type": "markdown",
   "metadata": {},
   "source": [
    "### Possible Solutions"
   ]
  },
  {
   "cell_type": "code",
   "execution_count": null,
   "metadata": {},
   "outputs": [],
   "source": [
    "# 1 ---------------------\n",
    "# Write a program to prompt the user for temperature in Celsius, convert \n",
    "# the temperature to Fahrenheit, and print temperature in Fahrenheit. \n",
    "\n",
    "# 2 ---------------------\n",
    "# Modify exercise 1 to print a message when F > 90 and F < 32\n",
    "\n",
    "def convert_c_to_f():\n",
    "    c = float(input(\"Enter temperature in Celsius: \"))\n",
    "    f = c * 9/5 + 32\n",
    "    print(f)\n",
    "    \n",
    "    if f > 90 or f < 32:\n",
    "        print('The temperature is extreme!')\n",
    "    \n",
    "    \n",
    "#     print(f'The temperature {c} Ceslius is {f} Fahrenheit')\n",
    "    \n",
    "convert_c_to_f()"
   ]
  },
  {
   "cell_type": "code",
   "execution_count": null,
   "metadata": {},
   "outputs": [],
   "source": [
    "# 3 ---------------------\n",
    "# Write a function to calculate the solution to a quadratic equation\n",
    "# https://www.mathsisfun.com/algebra/quadratic-equation.html\n",
    "# Prompt the user to the coefficients a, b, and c. \n",
    "\n",
    "\n",
    "def solve_quadratic_equation():\n",
    "    import math\n",
    "    \n",
    "    a = int(input(\"Enter a: \"))\n",
    "    b = int(input(\"Enter b: \"))\n",
    "    c = int(input(\"Enter c: \"))\n",
    "    \n",
    "    d = b*b-(4*a*c)\n",
    "    \n",
    "\n",
    "#     when b2 − 4ac is positive, we get two Real solutions\n",
    "#     when it is zero we get just ONE real solution (both answers are the same)\n",
    "#     when it is negative we get a pair of Complex solutions\n",
    "\n",
    "    if d > 0:\n",
    "        print('We get two Real solutions')\n",
    "    elif d == 0:\n",
    "        print('We get just ONE real solution ')\n",
    "    elif d < 0:\n",
    "        print('We get a pair of Complex solutions')\n",
    "    \n",
    "    \n",
    "    sqrt_d = math.sqrt(d)\n",
    "    \n",
    "    x1 = (-b + sqrt_d)/(2*a)\n",
    "    x2 = (-b - sqrt_d)/(2*a)\n",
    "    print(x1,x2)\n",
    "    \n",
    "\n",
    "# a = 5, b = 6, c = 1\n",
    "solve_quadratic_equation()"
   ]
  },
  {
   "cell_type": "code",
   "execution_count": null,
   "metadata": {},
   "outputs": [],
   "source": [
    "# 6 ------------------\n",
    "# Write a program to prompt the user for their user name. \n",
    "# If it is jdoe, print a log in allowed message; otherwise, print another message\n",
    "# 7 ------------------\n",
    "# Modify ex6 to only allow login if the user is active\n",
    "\n",
    "is_user_active = False\n",
    "name = input('Enter username: ')\n",
    "if name == 'jdoe' and is_user_active:\n",
    "    print('Access allowed ')\n",
    "else:\n",
    "    print('No access allowed ')"
   ]
  },
  {
   "cell_type": "code",
   "execution_count": null,
   "metadata": {},
   "outputs": [],
   "source": [
    "# 8 -----------------------\n",
    "# Write a program to prompt the user for name and check if it is john or jane\n",
    "\n",
    "\n",
    "name = input('Enter username: ').lower()\n",
    "if name == 'john' or name == 'jane':\n",
    "    print('Name is Jane or John')\n",
    "else:\n",
    "    print('Not Jane or John')"
   ]
  },
  {
   "cell_type": "code",
   "execution_count": null,
   "metadata": {},
   "outputs": [],
   "source": [
    "x = 'ABefg'\n",
    "print(x)\n",
    "print(x.lower())"
   ]
  },
  {
   "cell_type": "code",
   "execution_count": null,
   "metadata": {},
   "outputs": [],
   "source": [
    "# 9 ------------------\n",
    "# Prompt user for age and check if they are 18 or older\n",
    "\n",
    "age = int(input('Enter age: '))\n",
    "if age >= 18:\n",
    "    print('18 or older')\n",
    "else:\n",
    "    print('Less than 18')"
   ]
  },
  {
   "cell_type": "code",
   "execution_count": null,
   "metadata": {},
   "outputs": [],
   "source": [
    "# 11 --------------------\n",
    "# Prompt the user for two numbers and see if they are equal"
   ]
  },
  {
   "cell_type": "code",
   "execution_count": null,
   "metadata": {},
   "outputs": [],
   "source": [
    "import math\n",
    "\n",
    "math.ceil(22.1)"
   ]
  },
  {
   "cell_type": "code",
   "execution_count": null,
   "metadata": {},
   "outputs": [],
   "source": [
    "x = 15.34\n",
    "print(f'{x:b^10.2f}')"
   ]
  },
  {
   "cell_type": "code",
   "execution_count": null,
   "metadata": {},
   "outputs": [],
   "source": [
    "expected_output = 'The value of PI is: 3.141590...'\n",
    "\n",
    "value = 3.14159\n",
    "print(f'The value of PI is: {value}.')"
   ]
  },
  {
   "cell_type": "code",
   "execution_count": null,
   "metadata": {},
   "outputs": [],
   "source": []
  },
  {
   "cell_type": "code",
   "execution_count": null,
   "metadata": {},
   "outputs": [],
   "source": []
  },
  {
   "cell_type": "code",
   "execution_count": null,
   "metadata": {},
   "outputs": [],
   "source": []
  },
  {
   "cell_type": "code",
   "execution_count": null,
   "metadata": {},
   "outputs": [],
   "source": []
  },
  {
   "cell_type": "markdown",
   "metadata": {
    "pycharm": {
     "name": "#%% md\n"
    }
   },
   "source": [
    "## Data Structures (lists, tuples) - python \"arrays\"\n",
    "- So far we have covered the following data types: `int`, `float`, and `bool`. Now we will\n",
    "cover `list`, and `tuple`\n",
    "- Data types in Python can be classified as `mutable`, i.e. changeable, and `immutable`, i.e. not changeable.\n",
    "    - Immutable data types are: `int`, `float`, `bool`, and `tuple`\n",
    "    - Mutable data types are: `list`, `dict`, and `set`\n",
    "\n",
    "Use visualization of variables and memory to find what happens on \"changing\" variable with immutable data type https://pythontutor.com/visualize.html (config: hide exited frames, rander all objects on the heap and use text labels for pointers)"
   ]
  },
  {
   "cell_type": "code",
   "execution_count": null,
   "metadata": {
    "pycharm": {
     "name": "#%%\n"
    }
   },
   "outputs": [],
   "source": [
    "x=1\n",
    "id(x)\n",
    "x=x+2\n",
    "id(x)"
   ]
  },
  {
   "cell_type": "code",
   "execution_count": null,
   "metadata": {
    "pycharm": {
     "name": "#%%\n"
    }
   },
   "outputs": [],
   "source": []
  },
  {
   "cell_type": "markdown",
   "metadata": {},
   "source": [
    "In python variables are passed to a function can be though as `pass-by-reference`.\n",
    "-  That is mutable data types can be changed within function, and this change will propagate up.\n",
    "-  The immutable data can not be changed by definition so it can not be changed within function\n",
    "(it will referent a different object and variable will be in local scope).\n",
    "\n",
    "#### List Index -- starts at 0"
   ]
  },
  {
   "cell_type": "code",
   "execution_count": null,
   "metadata": {
    "pycharm": {
     "name": "#%%\n"
    }
   },
   "outputs": [],
   "source": [
    "whales = [5, 4, 7, 3, 2, 3, 2, 6, 4, 2, 1, 7, 1, 3]"
   ]
  },
  {
   "cell_type": "code",
   "execution_count": null,
   "metadata": {},
   "outputs": [],
   "source": []
  },
  {
   "cell_type": "markdown",
   "metadata": {},
   "source": [
    "#### Creating a list"
   ]
  },
  {
   "cell_type": "code",
   "execution_count": null,
   "metadata": {
    "pycharm": {
     "name": "#%%\n"
    }
   },
   "outputs": [],
   "source": [
    "grades = ['A', 'B', 'C', 'D', 'F']"
   ]
  },
  {
   "cell_type": "code",
   "execution_count": null,
   "metadata": {},
   "outputs": [],
   "source": []
  },
  {
   "cell_type": "markdown",
   "metadata": {},
   "source": [
    "#### Accessing a list"
   ]
  },
  {
   "cell_type": "code",
   "execution_count": null,
   "metadata": {
    "pycharm": {
     "name": "#%%\n"
    }
   },
   "outputs": [],
   "source": [
    "grades[0]"
   ]
  },
  {
   "cell_type": "code",
   "execution_count": null,
   "metadata": {
    "pycharm": {
     "name": "#%%\n"
    }
   },
   "outputs": [],
   "source": []
  },
  {
   "cell_type": "markdown",
   "metadata": {},
   "source": [
    "#### Slicing a list"
   ]
  },
  {
   "cell_type": "code",
   "execution_count": null,
   "metadata": {},
   "outputs": [],
   "source": [
    "grades[2:4]"
   ]
  },
  {
   "cell_type": "code",
   "execution_count": null,
   "metadata": {},
   "outputs": [],
   "source": [
    "grades[1::2]"
   ]
  },
  {
   "cell_type": "code",
   "execution_count": null,
   "metadata": {
    "pycharm": {
     "name": "#%%\n"
    }
   },
   "outputs": [],
   "source": [
    "grades[-1]"
   ]
  },
  {
   "cell_type": "code",
   "execution_count": null,
   "metadata": {
    "pycharm": {
     "name": "#%%\n"
    }
   },
   "outputs": [],
   "source": [
    "grades[::-1]"
   ]
  },
  {
   "cell_type": "markdown",
   "metadata": {},
   "source": [
    "#### Reassigning a list"
   ]
  },
  {
   "cell_type": "code",
   "execution_count": null,
   "metadata": {
    "pycharm": {
     "name": "#%%\n"
    }
   },
   "outputs": [],
   "source": [
    "grades = ['A', 'B', 'C', 'D', 'F']\n"
   ]
  },
  {
   "cell_type": "code",
   "execution_count": null,
   "metadata": {
    "pycharm": {
     "name": "#%%\n"
    }
   },
   "outputs": [],
   "source": [
    "grades[0] = 'a'"
   ]
  },
  {
   "cell_type": "code",
   "execution_count": null,
   "metadata": {},
   "outputs": [],
   "source": [
    "grades[1:2] = 'a'"
   ]
  },
  {
   "cell_type": "code",
   "execution_count": null,
   "metadata": {},
   "outputs": [],
   "source": [
    "grades[2:] = ['d', 'f']"
   ]
  },
  {
   "cell_type": "markdown",
   "metadata": {},
   "source": [
    "#### Deleting from a list"
   ]
  },
  {
   "cell_type": "code",
   "execution_count": 3,
   "metadata": {
    "pycharm": {
     "name": "#%%\n"
    }
   },
   "outputs": [
    {
     "name": "stdout",
     "output_type": "stream",
     "text": [
      "['A', 'B', 'C', 'D', 'F']\n",
      "['B', 'C', 'D', 'F']\n",
      "['B', 'F']\n"
     ]
    },
    {
     "ename": "NameError",
     "evalue": "name 'grades' is not defined",
     "output_type": "error",
     "traceback": [
      "\u001B[0;31m---------------------------------------------------------------------------\u001B[0m",
      "\u001B[0;31mNameError\u001B[0m                                 Traceback (most recent call last)",
      "\u001B[0;32m/tmp/ipykernel_2577226/2407398160.py\u001B[0m in \u001B[0;36m<module>\u001B[0;34m\u001B[0m\n\u001B[1;32m      6\u001B[0m \u001B[0mprint\u001B[0m\u001B[0;34m(\u001B[0m\u001B[0mgrades\u001B[0m\u001B[0;34m)\u001B[0m\u001B[0;34m\u001B[0m\u001B[0;34m\u001B[0m\u001B[0m\n\u001B[1;32m      7\u001B[0m \u001B[0;32mdel\u001B[0m \u001B[0mgrades\u001B[0m\u001B[0;34m\u001B[0m\u001B[0;34m\u001B[0m\u001B[0m\n\u001B[0;32m----> 8\u001B[0;31m \u001B[0mprint\u001B[0m\u001B[0;34m(\u001B[0m\u001B[0mgrades\u001B[0m\u001B[0;34m)\u001B[0m\u001B[0;34m\u001B[0m\u001B[0;34m\u001B[0m\u001B[0m\n\u001B[0m",
      "\u001B[0;31mNameError\u001B[0m: name 'grades' is not defined"
     ]
    }
   ],
   "source": [
    "grades = ['A', 'B', 'C', 'D', 'F']\n",
    "print(grades)\n",
    "del grades[0]\n",
    "print(grades)\n",
    "del grades[1:3]\n",
    "print(grades)\n",
    "del grades\n",
    "print(grades)"
   ]
  },
  {
   "cell_type": "code",
   "execution_count": null,
   "metadata": {
    "pycharm": {
     "name": "#%%\n"
    }
   },
   "outputs": [],
   "source": []
  },
  {
   "cell_type": "markdown",
   "metadata": {},
   "source": [
    "#### Concatenate lists"
   ]
  },
  {
   "cell_type": "code",
   "execution_count": 2,
   "metadata": {
    "pycharm": {
     "name": "#%%\n"
    }
   },
   "outputs": [
    {
     "name": "stdout",
     "output_type": "stream",
     "text": [
      "['A', 'B', 'C', 'D', 'F']\n",
      "['A', 'B', 'C']\n",
      "['D', 'F']\n"
     ]
    }
   ],
   "source": [
    "grades1 = ['A', 'B', 'C']\n",
    "grades2 = ['D', 'F']\n",
    "grades = grades1 + grades2\n",
    "print(grades)\n",
    "print(grades1)\n",
    "print(grades2)"
   ]
  },
  {
   "cell_type": "markdown",
   "metadata": {},
   "source": [
    "#### Multiplication"
   ]
  },
  {
   "cell_type": "code",
   "execution_count": null,
   "metadata": {
    "pycharm": {
     "name": "#%%\n"
    }
   },
   "outputs": [],
   "source": [
    "grades = ['A', 'B', 'C', 'D', 'F']\n",
    "grades *= 3\n"
   ]
  },
  {
   "cell_type": "markdown",
   "metadata": {},
   "source": [
    "#### Can store different data types\n",
    "- But you will lose some processing functionality"
   ]
  },
  {
   "cell_type": "code",
   "execution_count": null,
   "metadata": {
    "pycharm": {
     "name": "#%%\n"
    }
   },
   "outputs": [],
   "source": [
    "my_list = ['A', 1, 'Spam', True]\n",
    "my_list2 = [['John', [55, 65, 86]], ['Jane', [70, 80, 80]]]"
   ]
  },
  {
   "cell_type": "code",
   "execution_count": null,
   "metadata": {
    "pycharm": {
     "name": "#%%\n"
    }
   },
   "outputs": [],
   "source": []
  },
  {
   "cell_type": "markdown",
   "metadata": {},
   "source": [
    "#### Built-in List methods\n",
    "- `len()` calculate length of list\n",
    "- `max()` calculate max of list\n",
    "- `min()` calculate min of list\n",
    "- `sum()` calculate sum of list\n",
    "- `sorted()` return a sorted list\n",
    "- `list()` cast to type list -- convert tuple to list or a generator to list\n",
    "- `any()` return `True` if the truthiness of any value is `True` in the list\n",
    "- `all()` return `True` if the truthiness of all the values is `True` in the list"
   ]
  },
  {
   "cell_type": "code",
   "execution_count": null,
   "metadata": {
    "pycharm": {
     "name": "#%%\n"
    }
   },
   "outputs": [],
   "source": [
    "numbers = [3, 4, 8, 9, 5, 6, 7, 0, 1, 2, 10, 11, 12]"
   ]
  },
  {
   "cell_type": "code",
   "execution_count": null,
   "outputs": [],
   "source": [
    "len(numbers)"
   ],
   "metadata": {
    "collapsed": false,
    "pycharm": {
     "name": "#%%\n"
    }
   }
  },
  {
   "cell_type": "code",
   "execution_count": null,
   "outputs": [],
   "source": [
    "max(numbers)"
   ],
   "metadata": {
    "collapsed": false,
    "pycharm": {
     "name": "#%%\n"
    }
   }
  },
  {
   "cell_type": "code",
   "execution_count": null,
   "outputs": [],
   "source": [
    "min(numbers)"
   ],
   "metadata": {
    "collapsed": false,
    "pycharm": {
     "name": "#%%\n"
    }
   }
  },
  {
   "cell_type": "code",
   "execution_count": null,
   "outputs": [],
   "source": [
    "sum(numbers)"
   ],
   "metadata": {
    "collapsed": false,
    "pycharm": {
     "name": "#%%\n"
    }
   }
  },
  {
   "cell_type": "code",
   "execution_count": null,
   "outputs": [],
   "source": [
    "sorted(numbers)"
   ],
   "metadata": {
    "collapsed": false,
    "pycharm": {
     "name": "#%%\n"
    }
   }
  },
  {
   "cell_type": "code",
   "execution_count": null,
   "outputs": [],
   "source": [
    "list(numbers)"
   ],
   "metadata": {
    "collapsed": false,
    "pycharm": {
     "name": "#%%\n"
    }
   }
  },
  {
   "cell_type": "code",
   "execution_count": null,
   "outputs": [],
   "source": [
    "any(numbers)"
   ],
   "metadata": {
    "collapsed": false,
    "pycharm": {
     "name": "#%%\n"
    }
   }
  },
  {
   "cell_type": "code",
   "execution_count": null,
   "outputs": [],
   "source": [
    "all(numbers)"
   ],
   "metadata": {
    "collapsed": false,
    "pycharm": {
     "name": "#%%\n"
    }
   }
  },
  {
   "cell_type": "code",
   "execution_count": null,
   "metadata": {
    "pycharm": {
     "name": "#%%\n"
    }
   },
   "outputs": [],
   "source": []
  },
  {
   "cell_type": "code",
   "execution_count": null,
   "metadata": {
    "pycharm": {
     "name": "#%%\n"
    }
   },
   "outputs": [],
   "source": [
    "booleans = [True, False, True]"
   ]
  },
  {
   "cell_type": "code",
   "execution_count": null,
   "outputs": [],
   "source": [
    "any(booleans)"
   ],
   "metadata": {
    "collapsed": false,
    "pycharm": {
     "name": "#%%\n"
    }
   }
  },
  {
   "cell_type": "code",
   "execution_count": null,
   "outputs": [],
   "source": [
    "all(booleans)"
   ],
   "metadata": {
    "collapsed": false,
    "pycharm": {
     "name": "#%%\n"
    }
   }
  },
  {
   "cell_type": "code",
   "execution_count": null,
   "metadata": {
    "pycharm": {
     "name": "#%%\n"
    }
   },
   "outputs": [],
   "source": []
  },
  {
   "cell_type": "code",
   "execution_count": null,
   "metadata": {
    "pycharm": {
     "name": "#%%\n"
    }
   },
   "outputs": [],
   "source": [
    "booleans = [True, True, True]"
   ]
  },
  {
   "cell_type": "code",
   "execution_count": null,
   "outputs": [],
   "source": [
    "any(booleans)"
   ],
   "metadata": {
    "collapsed": false,
    "pycharm": {
     "name": "#%%\n"
    }
   }
  },
  {
   "cell_type": "code",
   "execution_count": null,
   "outputs": [],
   "source": [
    "all(booleans)"
   ],
   "metadata": {
    "collapsed": false,
    "pycharm": {
     "name": "#%%\n"
    }
   }
  },
  {
   "cell_type": "code",
   "execution_count": null,
   "metadata": {
    "pycharm": {
     "name": "#%%\n"
    }
   },
   "outputs": [],
   "source": []
  },
  {
   "cell_type": "markdown",
   "metadata": {},
   "source": [
    "#### List methods (functions)\n",
    "- `append()` - add an element to end of list\n",
    "- `insert()` - insert an element to the list at the specified location\n",
    "- `remove()` - remove the element\n",
    "- `pop()` - remove the last element in the list; also returns the value; you can save this to another variable\n",
    "- `clear()` - empty the list\n",
    "- `index()` - return position of first matching element\n",
    "- `count()` - count the number of elements\n",
    "- `sort()` - sort the list in place\n",
    "- `reverse()` - reverse the list in place\n"
   ]
  },
  {
   "cell_type": "code",
   "execution_count": null,
   "metadata": {
    "pycharm": {
     "name": "#%%\n"
    }
   },
   "outputs": [],
   "source": [
    "grades = ['A', 'B', 'C']\n",
    "grades"
   ]
  },
  {
   "cell_type": "code",
   "execution_count": null,
   "outputs": [],
   "source": [
    "grades.append('D')\n",
    "grades"
   ],
   "metadata": {
    "collapsed": false,
    "pycharm": {
     "name": "#%%\n"
    }
   }
  },
  {
   "cell_type": "code",
   "execution_count": null,
   "outputs": [],
   "source": [
    "grades.insert(4, 'F')\n",
    "grades"
   ],
   "metadata": {
    "collapsed": false,
    "pycharm": {
     "name": "#%%\n"
    }
   }
  },
  {
   "cell_type": "code",
   "execution_count": null,
   "outputs": [],
   "source": [
    "grades.remove(2)\n",
    "grades"
   ],
   "metadata": {
    "collapsed": false,
    "pycharm": {
     "name": "#%%\n"
    }
   }
  },
  {
   "cell_type": "code",
   "execution_count": null,
   "outputs": [],
   "source": [
    "grades.pop()\n",
    "grades"
   ],
   "metadata": {
    "collapsed": false,
    "pycharm": {
     "name": "#%%\n"
    }
   }
  },
  {
   "cell_type": "code",
   "execution_count": null,
   "outputs": [],
   "source": [
    "grades.index('C')\n",
    "grades"
   ],
   "metadata": {
    "collapsed": false,
    "pycharm": {
     "name": "#%%\n"
    }
   }
  },
  {
   "cell_type": "code",
   "execution_count": null,
   "outputs": [],
   "source": [
    "grades.count('C') # len(grades)\n",
    "grades"
   ],
   "metadata": {
    "collapsed": false,
    "pycharm": {
     "name": "#%%\n"
    }
   }
  },
  {
   "cell_type": "code",
   "execution_count": null,
   "outputs": [],
   "source": [
    "grades.sort()\n",
    "grades"
   ],
   "metadata": {
    "collapsed": false,
    "pycharm": {
     "name": "#%%\n"
    }
   }
  },
  {
   "cell_type": "code",
   "execution_count": null,
   "outputs": [],
   "source": [
    "grades.reverse()\n",
    "grades"
   ],
   "metadata": {
    "collapsed": false,
    "pycharm": {
     "name": "#%%\n"
    }
   }
  },
  {
   "cell_type": "code",
   "execution_count": null,
   "outputs": [],
   "source": [],
   "metadata": {
    "collapsed": false,
    "pycharm": {
     "name": "#%%\n"
    }
   }
  },
  {
   "cell_type": "code",
   "execution_count": null,
   "metadata": {
    "pycharm": {
     "name": "#%%\n"
    }
   },
   "outputs": [],
   "source": []
  },
  {
   "cell_type": "markdown",
   "metadata": {},
   "source": [
    "#### List unpacking"
   ]
  },
  {
   "cell_type": "code",
   "execution_count": null,
   "metadata": {
    "pycharm": {
     "name": "#%%\n"
    }
   },
   "outputs": [],
   "source": [
    "a, b = [3,4]"
   ]
  },
  {
   "cell_type": "code",
   "execution_count": null,
   "metadata": {
    "pycharm": {
     "name": "#%%\n"
    }
   },
   "outputs": [],
   "source": []
  },
  {
   "cell_type": "markdown",
   "metadata": {},
   "source": [
    "### Tuples\n",
    "- Tuple are just like lists except that they are immutable. Once you have created a tuple, you cannot modify it.\n",
    "  - But you still can modify mutable item inside tuple\n",
    "- Why use them?\n",
    "- faster than lists\n",
    "- make code safer -- because you cannot change it\n",
    "- valid keys in a dictionary"
   ]
  },
  {
   "cell_type": "code",
   "execution_count": null,
   "metadata": {
    "pycharm": {
     "name": "#%%\n"
    }
   },
   "outputs": [],
   "source": [
    "a = ([1], 12)\n",
    "# a is ([2], 12)\n",
    "\n",
    "a[0][0]=2\n",
    "# a is ([2], [12])\n",
    "\n",
    "a[1]=2 # No-no, you can not change immutable item"
   ]
  },
  {
   "cell_type": "markdown",
   "metadata": {
    "pycharm": {
     "name": "#%% md\n"
    }
   },
   "source": [
    "# Memory Model\n",
    "\n",
    "In python variables are passed to a function can be though as `pass-by-reference`.\n",
    "- That is mutable data types can be changed within function, and this change will propagate up.\n",
    "- The immutable data can not be changed by definition so it can not be changed within function\n",
    "(it will referent a different object and variable will be in local scope).\n",
    "\n",
    "Alternative to `pass-by-reference` is `pass-by-value` under this scenario\n",
    "the value is copied and the copy is passed to function.\n",
    "- Under `pass-by-value` the original value can not be changed in function.\n",
    "- Because the outcomes are similar to python's passage of immutable data types,\n",
    "sometimes it also called `pass-by-value` which is technically incorrect."
   ]
  },
  {
   "cell_type": "code",
   "execution_count": null,
   "outputs": [],
   "source": [
    "# y and x are integer and so are immutable\n",
    "def fun1(x):\n",
    "    print(id(x))\n",
    "\n",
    "y=12300000\n",
    "\n",
    "print(id(y))\n",
    "fun1(y)"
   ],
   "metadata": {
    "collapsed": false,
    "pycharm": {
     "name": "#%%\n"
    }
   }
  },
  {
   "cell_type": "code",
   "execution_count": null,
   "outputs": [],
   "source": [
    "# what will happens if we reassing x in function\n",
    "def fun1(x):\n",
    "    print(id(x))\n",
    "    x=2222\n",
    "    print(id(x))\n",
    "\n",
    "y=12300000\n",
    "\n",
    "print(id(y))\n",
    "fun1(y)\n",
    "print(y)"
   ],
   "metadata": {
    "collapsed": false,
    "pycharm": {
     "name": "#%%\n"
    }
   }
  },
  {
   "cell_type": "code",
   "execution_count": null,
   "outputs": [],
   "source": [
    "# what will happens if x and y are mutable list?\n",
    "def fun1(x):\n",
    "    print(id(x))\n",
    "    x=[2222]\n",
    "    print(id(x))\n",
    "\n",
    "y=[12300000]\n",
    "\n",
    "print(id(y))\n",
    "fun1(y)\n",
    "print(y)\n"
   ],
   "metadata": {
    "collapsed": false,
    "pycharm": {
     "name": "#%%\n"
    }
   }
  },
  {
   "cell_type": "code",
   "execution_count": null,
   "outputs": [],
   "source": [
    "# what about now?\n",
    "def fun1(x):\n",
    "    print(id(x))\n",
    "    x=[2222]\n",
    "    print(id(x))\n",
    "\n",
    "y=[12300000]\n",
    "\n",
    "print(id(y))\n",
    "fun1(y)\n",
    "print(y)"
   ],
   "metadata": {
    "collapsed": false,
    "pycharm": {
     "name": "#%%\n"
    }
   }
  }
 ],
 "metadata": {
  "kernelspec": {
   "display_name": "Python 3 (ipykernel)",
   "language": "python",
   "name": "python3"
  },
  "language_info": {
   "codemirror_mode": {
    "name": "ipython",
    "version": 3
   },
   "file_extension": ".py",
   "mimetype": "text/x-python",
   "name": "python",
   "nbconvert_exporter": "python",
   "pygments_lexer": "ipython3",
   "version": "3.9.7"
  }
 },
 "nbformat": 4,
 "nbformat_minor": 4
}