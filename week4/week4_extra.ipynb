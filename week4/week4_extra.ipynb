{
 "cells": [
  {
   "cell_type": "markdown",
   "metadata": {
    "collapsed": true,
    "pycharm": {
     "name": "#%% md\n"
    }
   },
   "source": [
    "# Homework 1\n",
    "Delete `raise NotImplementedError()`"
   ]
  },
  {
   "cell_type": "code",
   "execution_count": 4,
   "metadata": {
    "pycharm": {
     "name": "#%%\n"
    }
   },
   "outputs": [
    {
     "name": "stdout",
     "output_type": "stream",
     "text": [
      "Hello, Bob, nice to meet you!\n"
     ]
    },
    {
     "data": {
      "text/plain": [
       "True"
      ]
     },
     "execution_count": 4,
     "metadata": {},
     "output_type": "execute_result"
    }
   ],
   "source": [
    "def practice_1(name):\n",
    "    # Complete this function to use the `name` input to print the following:\n",
    "    # Hello, <name>, nice to meet you!\n",
    "    print(f'Hello, {name}, nice to meet you!')\n",
    "        \n",
    "practice_1(\"Bob\")"
   ]
  },
  {
   "cell_type": "markdown",
   "metadata": {
    "pycharm": {
     "name": "#%% md\n"
    }
   },
   "source": [
    "What is returned here?"
   ]
  },
  {
   "cell_type": "code",
   "execution_count": 6,
   "metadata": {
    "pycharm": {
     "name": "#%%\n"
    }
   },
   "outputs": [
    {
     "name": "stdout",
     "output_type": "stream",
     "text": [
      "The refund amount is $3.5.\n"
     ]
    },
    {
     "data": {
      "text/plain": [
       "True"
      ]
     },
     "execution_count": 6,
     "metadata": {},
     "output_type": "execute_result"
    }
   ],
   "source": [
    "def practice_7(no_one_liter_bottles, no_more_than_one_liter_bottles):\n",
    "    # When you buy soda bottles, you deposit a small amount to encourage recycling.\n",
    "    # For one liter bottle the depost is $0.10.\n",
    "    # For a bottle larger than one liter, the depost is $0.25.\n",
    "    # Complete this function to print a refund message like follows:\n",
    "    # The refund amount is $<amount>.\n",
    "    # Round the refund to two decimal places.\n",
    "\n",
    "    amount_refund=no_one_liter_bottles*0.1+no_more_than_one_liter_bottles*0.25\n",
    "    amount_refund=round(amount_refund,2)\n",
    "    print(\"The refund amount is $%s.\"%amount_refund)\n",
    "\n",
    "practice_7(10,10) is None"
   ]
  },
  {
   "cell_type": "markdown",
   "metadata": {},
   "source": [
    "Typically within jupiter notebook input is not used"
   ]
  },
  {
   "cell_type": "code",
   "execution_count": 7,
   "metadata": {
    "pycharm": {
     "name": "#%%\n"
    }
   },
   "outputs": [
    {
     "name": "stdout",
     "output_type": "stream",
     "text": [
      "Hello, Alice, nice to meet you!\n",
      "Hello, Alice, nice to meet you!\n"
     ]
    }
   ],
   "source": [
    "def practice_1(name):\n",
    "    # Complete this function to use the `name` input to print the following:\n",
    "    print(f'Hello, {name}, nice to meet you!')\n",
    "    return f'Hello, {name}, nice to meet you!'\n",
    "\n",
    "name = \"Alice\"\n",
    "print(practice_1(name))"
   ]
  },
  {
   "cell_type": "code",
   "execution_count": null,
   "metadata": {
    "pycharm": {
     "name": "#%%\n"
    }
   },
   "outputs": [],
   "source": [
    "def practice_1(name):\n",
    "    # Complete this function to use the `name` input to print the following:\n",
    "    # Hello, <name>, nice to meet you!\n",
    "    name = Brian\n",
    "    print(f\"Hello, {name}, nice to meet you!\")"
   ]
  },
  {
   "cell_type": "code",
   "execution_count": null,
   "metadata": {
    "pycharm": {
     "name": "#%%\n"
    }
   },
   "outputs": [],
   "source": [
    "# 4 points\n",
    "def practice_1(name):\n",
    "    # Complete this function to use the `name` input to print the following:\n",
    "    print (f\"Hello,{name}, nice to meet you!\")\n",
    "    practice_1(\"Brian\")\n",
    "\n",
    "    raise NotImplementedError()"
   ]
  },
  {
   "cell_type": "markdown",
   "metadata": {
    "pycharm": {
     "name": "#%% md\n"
    }
   },
   "source": [
    "# More on blocks"
   ]
  },
  {
   "cell_type": "code",
   "execution_count": null,
   "metadata": {
    "pycharm": {
     "name": "#%%\n"
    }
   },
   "outputs": [],
   "source": [
    "# This is global or __main__ block\n",
    "global_x = 1\n",
    "global_y = -2\n",
    "\n",
    "#print_two_numbers = None\n",
    "# function add is defined in global block\n",
    "def add_positives(add_local_x, add_local_y):\n",
    "    # this is block of function add\n",
    "\n",
    "    # function print_two_numbers is defined in function add block\n",
    "    def print_two_numbers(local_x, local_y):\n",
    "        # this is block of function print_two_numbers\n",
    "        print(f\"Two numbers are {local_x} and {local_y}\")\n",
    "\n",
    "    # continuation of function add block\n",
    "    result = 0.0\n",
    "    if add_local_x > 0:\n",
    "        #this is if block\n",
    "        result += add_local_x\n",
    "    if add_local_y > 0:\n",
    "        #another if block\n",
    "        result += add_local_y\n",
    "    print_two_numbers(add_local_x, add_local_y)\n",
    "    return result\n",
    "\n",
    "# continuation of global block\n",
    "global_z = add_positives(global_x, global_y)\n",
    "print(global_z)\n"
   ]
  }
 ],
 "metadata": {
  "kernelspec": {
   "display_name": "Python 3 (ipykernel)",
   "language": "python",
   "name": "python3"
  },
  "language_info": {
   "codemirror_mode": {
    "name": "ipython",
    "version": 3
   },
   "file_extension": ".py",
   "mimetype": "text/x-python",
   "name": "python",
   "nbconvert_exporter": "python",
   "pygments_lexer": "ipython3",
   "version": "3.8.10"
  }
 },
 "nbformat": 4,
 "nbformat_minor": 1
}
