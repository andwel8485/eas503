{
 "cells": [
  {
   "cell_type": "markdown",
   "metadata": {},
   "source": [
    "# Week 4. Python Programming: Lists, Tuples, Loops, File Handling"
   ]
  },
  {
   "cell_type": "markdown",
   "metadata": {},
   "source": [
    "## Last Week Recap\n",
    "\n",
    "### Boolean Algebra\n",
    "\n",
    "### Comparison (Relational) Operators\n",
    "- Assume `a=1` and `b=1`\n",
    "\n",
    "| Relational Operators | What it does?                                | Example       |\n",
    "|----|---------------------------------------------|---------------|\n",
    "| == | True if a has the same value as b           | a == b #True  |\n",
    "| != | True if a does not have the same value as b | a != b #False |\n",
    "| >  | True if a is greater than b                 | a > b # False |\n",
    "| <  | True if a is less than b                    | a < b # False |\n",
    "| >= | True if a is greater than or equal to b     | a >= b # True |\n",
    "| <= | True if a is less than or equal to b        | a <= b # True |\n",
    "\n",
    "### Logical Operators\n",
    "\n",
    "| Operator | What it does?                                        | Example                                                                   |\n",
    "|----------|------------------------------------------------------|---------------------------------------------------------------------------|\n",
    "| `and`    | True if both a AND b are true (logical conjunction)  | if is_teacher and is_active:   print('You can access')                    |\n",
    "| `or`     | True if either a OR b are true (logical disjunction) | if is_superuser or (is_teacher and is active):    print('You can access') |\n",
    "| `not`    | True if the opposite of a is true (logical negation) | if not is_superuser:   print('You cannot access')\n",
    "\n",
    "### If ... elif ... else ... Statement\n",
    "\n",
    "```Python\n",
    "if Expression1:\n",
    "    # Expression1 is True\n",
    "    do_something_1\n",
    "    do_something_else_1\n",
    "elif Expression2: # else if\n",
    "    # Expression2 is True and Expression1 is False\n",
    "    do_something_2\n",
    "    do_something_else_2\n",
    "elif Expression3: # else if\n",
    "    # Expression3 is True and Expression1 and Expression2 are False\n",
    "    do_something_3\n",
    "    do_something_else_3\n",
    "else:\n",
    "    # Expression1, Expression2 and Expression3 are False\n",
    "    do_something_4\n",
    "    do_something_else_4\n",
    "```"
   ]
  },
  {
   "cell_type": "markdown",
   "metadata": {},
   "source": [
    "## Data Structures (lists, tuples) - python \"arrays\"\n",
    "- So far we have covered the following data types: `int`, `float`, and `bool`. Now we will\n",
    "cover `list`, and `tuple`\n",
    "- Data types in Python can be classified as `mutable`, i.e. changeable, and `immutable`, i.e. not changeable.\n",
    "    - Immutable data types are: `int`, `float`, `bool`, and `tuple`\n",
    "    - Mutable data types are: `list`, `dict`, and `set`\n",
    "- [Python documentation on sequence types](https://docs.python.org/3/library/stdtypes.html#typesseq)\n",
    "- [Python documentation on list](https://docs.python.org/3/library/stdtypes.html#list)\n",
    "\n",
    "Use visualization of variables and memory to find what happens on \"changing\" variable with immutable data type https://pythontutor.com/visualize.html (config: hide exited frames, rander all objects on the heap and use text labels for pointers)"
   ]
  },
  {
   "cell_type": "code",
   "execution_count": 2,
   "metadata": {
    "pycharm": {
     "name": "#%%\n"
    }
   },
   "outputs": [
    {
     "name": "stdout",
     "output_type": "stream",
     "text": [
      "9788608\n",
      "9788672\n"
     ]
    }
   ],
   "source": [
    "x=1\n",
    "print(id(x))\n",
    "x=x+2\n",
    "print(id(x))"
   ]
  },
  {
   "cell_type": "code",
   "execution_count": null,
   "metadata": {
    "pycharm": {
     "name": "#%%\n"
    }
   },
   "outputs": [],
   "source": []
  },
  {
   "cell_type": "markdown",
   "metadata": {},
   "source": [
    "In python variables are passed to a function can be though as `pass-by-reference`.\n",
    "-  That is mutable data types can be changed within function, and this change will propagate up.\n",
    "-  The immutable data can not be changed by definition so it can not be changed within function\n",
    "(it will referent a different object and variable will be in local scope).\n",
    "\n",
    "#### List Index -- starts at 0"
   ]
  },
  {
   "cell_type": "code",
   "execution_count": 7,
   "metadata": {},
   "outputs": [
    {
     "data": {
      "text/plain": [
       "[0, 1, [], [2], '3', None]"
      ]
     },
     "execution_count": 7,
     "metadata": {},
     "output_type": "execute_result"
    }
   ],
   "source": [
    "x = [0,1,[],[2],\"3\",None]\n",
    "x"
   ]
  },
  {
   "cell_type": "code",
   "execution_count": null,
   "metadata": {},
   "outputs": [],
   "source": []
  },
  {
   "cell_type": "code",
   "execution_count": null,
   "metadata": {},
   "outputs": [],
   "source": []
  },
  {
   "cell_type": "code",
   "execution_count": null,
   "metadata": {},
   "outputs": [],
   "source": []
  },
  {
   "cell_type": "code",
   "execution_count": 3,
   "metadata": {
    "pycharm": {
     "name": "#%%\n"
    }
   },
   "outputs": [],
   "source": [
    "whales = [5, 4, 7, 3, 2, 3, 2, 6, 4, 2, 1, 7, 1, 3]"
   ]
  },
  {
   "cell_type": "code",
   "execution_count": null,
   "metadata": {
    "pycharm": {
     "name": "#%%\n"
    }
   },
   "outputs": [],
   "source": []
  },
  {
   "cell_type": "markdown",
   "metadata": {},
   "source": [
    "#### Creating a list"
   ]
  },
  {
   "cell_type": "code",
   "execution_count": 8,
   "metadata": {
    "pycharm": {
     "name": "#%%\n"
    }
   },
   "outputs": [],
   "source": [
    "grades = ['A', 'B', 'C', 'D', 'F']"
   ]
  },
  {
   "cell_type": "code",
   "execution_count": null,
   "metadata": {
    "pycharm": {
     "name": "#%%\n"
    }
   },
   "outputs": [],
   "source": [
    "# can contain a mix of objects\n",
    "x = [1, 3.14, 'Hello', [1, 2]]"
   ]
  },
  {
   "cell_type": "markdown",
   "metadata": {},
   "source": [
    "#### Accessing a list"
   ]
  },
  {
   "cell_type": "code",
   "execution_count": 12,
   "metadata": {
    "pycharm": {
     "name": "#%%\n"
    }
   },
   "outputs": [
    {
     "data": {
      "text/plain": [
       "'F'"
      ]
     },
     "execution_count": 12,
     "metadata": {},
     "output_type": "execute_result"
    }
   ],
   "source": [
    "grades[1]"
   ]
  },
  {
   "cell_type": "code",
   "execution_count": 14,
   "metadata": {
    "pycharm": {
     "name": "#%%\n"
    }
   },
   "outputs": [
    {
     "data": {
      "text/plain": [
       "'D'"
      ]
     },
     "execution_count": 14,
     "metadata": {},
     "output_type": "execute_result"
    }
   ],
   "source": [
    "grades[-2]"
   ]
  },
  {
   "cell_type": "markdown",
   "metadata": {},
   "source": [
    "#### Slicing a list"
   ]
  },
  {
   "cell_type": "code",
   "execution_count": 16,
   "metadata": {},
   "outputs": [
    {
     "data": {
      "text/plain": [
       "['A', 'B', 'C', 'D', 'F']"
      ]
     },
     "execution_count": 16,
     "metadata": {},
     "output_type": "execute_result"
    }
   ],
   "source": [
    "grades"
   ]
  },
  {
   "cell_type": "code",
   "execution_count": 15,
   "metadata": {
    "pycharm": {
     "name": "#%%\n"
    }
   },
   "outputs": [
    {
     "data": {
      "text/plain": [
       "['C', 'D']"
      ]
     },
     "execution_count": 15,
     "metadata": {},
     "output_type": "execute_result"
    }
   ],
   "source": [
    "grades[2:4]"
   ]
  },
  {
   "cell_type": "code",
   "execution_count": 18,
   "metadata": {
    "pycharm": {
     "name": "#%%\n"
    }
   },
   "outputs": [
    {
     "data": {
      "text/plain": [
       "['B', 'D']"
      ]
     },
     "execution_count": 18,
     "metadata": {},
     "output_type": "execute_result"
    }
   ],
   "source": [
    "grades[1::2]"
   ]
  },
  {
   "cell_type": "code",
   "execution_count": null,
   "metadata": {
    "pycharm": {
     "name": "#%%\n"
    }
   },
   "outputs": [],
   "source": [
    "grades[-1]"
   ]
  },
  {
   "cell_type": "code",
   "execution_count": 19,
   "metadata": {
    "pycharm": {
     "name": "#%%\n"
    }
   },
   "outputs": [
    {
     "data": {
      "text/plain": [
       "['F', 'D', 'C', 'B', 'A']"
      ]
     },
     "execution_count": 19,
     "metadata": {},
     "output_type": "execute_result"
    }
   ],
   "source": [
    "grades[::-1]"
   ]
  },
  {
   "cell_type": "markdown",
   "metadata": {},
   "source": [
    "#### Reassigning a list"
   ]
  },
  {
   "cell_type": "code",
   "execution_count": 27,
   "metadata": {
    "pycharm": {
     "name": "#%%\n"
    }
   },
   "outputs": [],
   "source": [
    "grades = ['A', 'B', 'C', 'D', 'F']\n"
   ]
  },
  {
   "cell_type": "code",
   "execution_count": 21,
   "metadata": {
    "pycharm": {
     "name": "#%%\n"
    }
   },
   "outputs": [],
   "source": [
    "grades[0] = 'a'"
   ]
  },
  {
   "cell_type": "code",
   "execution_count": 22,
   "metadata": {},
   "outputs": [
    {
     "data": {
      "text/plain": [
       "'a'"
      ]
     },
     "execution_count": 22,
     "metadata": {},
     "output_type": "execute_result"
    }
   ],
   "source": [
    "grades[0]"
   ]
  },
  {
   "cell_type": "code",
   "execution_count": 23,
   "metadata": {
    "pycharm": {
     "name": "#%%\n"
    }
   },
   "outputs": [
    {
     "data": {
      "text/plain": [
       "['a', 'a', 'C', 'D', 'F']"
      ]
     },
     "execution_count": 23,
     "metadata": {},
     "output_type": "execute_result"
    }
   ],
   "source": [
    "grades[1:2] = 'a'\n",
    "grades"
   ]
  },
  {
   "cell_type": "code",
   "execution_count": 26,
   "metadata": {
    "pycharm": {
     "name": "#%%\n"
    }
   },
   "outputs": [
    {
     "data": {
      "text/plain": [
       "['a', 'd', 'f']"
      ]
     },
     "execution_count": 26,
     "metadata": {},
     "output_type": "execute_result"
    }
   ],
   "source": [
    "grades[1:] = ['d', 'f']\n",
    "grades"
   ]
  },
  {
   "cell_type": "markdown",
   "metadata": {},
   "source": [
    "#### Deleting from a list"
   ]
  },
  {
   "cell_type": "code",
   "execution_count": 28,
   "metadata": {
    "pycharm": {
     "name": "#%%\n"
    }
   },
   "outputs": [
    {
     "name": "stdout",
     "output_type": "stream",
     "text": [
      "['A', 'B', 'C', 'D', 'F']\n",
      "['B', 'C', 'D', 'F']\n",
      "['B', 'F']\n"
     ]
    },
    {
     "ename": "NameError",
     "evalue": "name 'grades' is not defined",
     "output_type": "error",
     "traceback": [
      "\u001B[0;31m---------------------------------------------------------------------------\u001B[0m",
      "\u001B[0;31mNameError\u001B[0m                                 Traceback (most recent call last)",
      "\u001B[0;32m/tmp/ipykernel_370002/2407398160.py\u001B[0m in \u001B[0;36m<module>\u001B[0;34m\u001B[0m\n\u001B[1;32m      6\u001B[0m \u001B[0mprint\u001B[0m\u001B[0;34m(\u001B[0m\u001B[0mgrades\u001B[0m\u001B[0;34m)\u001B[0m\u001B[0;34m\u001B[0m\u001B[0;34m\u001B[0m\u001B[0m\n\u001B[1;32m      7\u001B[0m \u001B[0;32mdel\u001B[0m \u001B[0mgrades\u001B[0m\u001B[0;34m\u001B[0m\u001B[0;34m\u001B[0m\u001B[0m\n\u001B[0;32m----> 8\u001B[0;31m \u001B[0mprint\u001B[0m\u001B[0;34m(\u001B[0m\u001B[0mgrades\u001B[0m\u001B[0;34m)\u001B[0m\u001B[0;34m\u001B[0m\u001B[0;34m\u001B[0m\u001B[0m\n\u001B[0m",
      "\u001B[0;31mNameError\u001B[0m: name 'grades' is not defined"
     ]
    }
   ],
   "source": [
    "grades = ['A', 'B', 'C', 'D', 'F']\n",
    "print(grades)\n",
    "del grades[0]\n",
    "print(grades)\n",
    "del grades[1:3]\n",
    "print(grades)\n",
    "del grades\n",
    "print(grades)"
   ]
  },
  {
   "cell_type": "code",
   "execution_count": null,
   "metadata": {
    "pycharm": {
     "name": "#%%\n"
    }
   },
   "outputs": [],
   "source": []
  },
  {
   "cell_type": "markdown",
   "metadata": {},
   "source": [
    "#### Concatenate lists"
   ]
  },
  {
   "cell_type": "code",
   "execution_count": 34,
   "metadata": {},
   "outputs": [
    {
     "name": "stdout",
     "output_type": "stream",
     "text": [
      "139678042551680\n",
      "['A', 'B', 'C', 'D', 'F']\n",
      "139678043092544\n"
     ]
    }
   ],
   "source": [
    "grades1 = ['A', 'B', 'C']\n",
    "print(id(grades1))\n",
    "grades1 = grades1 + ['D', 'F']\n",
    "print(grades1)\n",
    "print(id(grades1))"
   ]
  },
  {
   "cell_type": "code",
   "execution_count": 33,
   "metadata": {
    "scrolled": true
   },
   "outputs": [
    {
     "name": "stdout",
     "output_type": "stream",
     "text": [
      "139678043092544\n",
      "['A', 'B', 'C', 'D', 'F']\n",
      "139678043092544\n"
     ]
    }
   ],
   "source": [
    "grades1 = ['A', 'B', 'C']\n",
    "print(id(grades1))\n",
    "grades1 += ['D', 'F']\n",
    "print(grades1)\n",
    "print(id(grades1))"
   ]
  },
  {
   "cell_type": "code",
   "execution_count": 29,
   "metadata": {
    "pycharm": {
     "name": "#%%\n"
    }
   },
   "outputs": [
    {
     "name": "stdout",
     "output_type": "stream",
     "text": [
      "['A', 'B', 'C', 'D', 'F']\n",
      "['A', 'B', 'C']\n",
      "['D', 'F']\n"
     ]
    }
   ],
   "source": [
    "grades1 = ['A', 'B', 'C']\n",
    "grades2 = ['D', 'F']\n",
    "grades = grades1 + grades2\n",
    "print(grades)\n",
    "print(grades1)\n",
    "print(grades2)"
   ]
  },
  {
   "cell_type": "markdown",
   "metadata": {},
   "source": [
    "#### Multiplication"
   ]
  },
  {
   "cell_type": "code",
   "execution_count": 36,
   "metadata": {
    "pycharm": {
     "name": "#%%\n"
    }
   },
   "outputs": [
    {
     "data": {
      "text/plain": [
       "['A', 'B', 'C', 'D', 'F', 'A', 'B', 'C', 'D', 'F', 'A', 'B', 'C', 'D', 'F']"
      ]
     },
     "execution_count": 36,
     "metadata": {},
     "output_type": "execute_result"
    }
   ],
   "source": [
    "grades = ['A', 'B', 'C', 'D', 'F']\n",
    "grades *= 3\n",
    "grades\n",
    "\n"
   ]
  },
  {
   "cell_type": "code",
   "execution_count": null,
   "metadata": {},
   "outputs": [],
   "source": []
  },
  {
   "cell_type": "code",
   "execution_count": null,
   "metadata": {},
   "outputs": [],
   "source": []
  },
  {
   "cell_type": "code",
   "execution_count": 41,
   "metadata": {},
   "outputs": [
    {
     "data": {
      "text/plain": [
       "'AC_BD'"
      ]
     },
     "execution_count": 41,
     "metadata": {},
     "output_type": "execute_result"
    }
   ],
   "source": [
    "s=\"ABCD_\"*3\n",
    "s[0:10:2]"
   ]
  },
  {
   "cell_type": "code",
   "execution_count": null,
   "metadata": {},
   "outputs": [],
   "source": []
  },
  {
   "cell_type": "code",
   "execution_count": null,
   "metadata": {},
   "outputs": [],
   "source": []
  },
  {
   "cell_type": "code",
   "execution_count": null,
   "metadata": {},
   "outputs": [],
   "source": []
  },
  {
   "cell_type": "code",
   "execution_count": 56,
   "metadata": {},
   "outputs": [
    {
     "data": {
      "text/plain": [
       "[[0, 0], [0, 0], [0, 0]]"
      ]
     },
     "execution_count": 56,
     "metadata": {},
     "output_type": "execute_result"
    }
   ],
   "source": [
    "xy=[[0,0]]*3\n",
    "#xy=[[0,0],[0,0],[0,0]]\n",
    "xy"
   ]
  },
  {
   "cell_type": "code",
   "execution_count": 57,
   "metadata": {},
   "outputs": [],
   "source": [
    "xy[1][0]=10"
   ]
  },
  {
   "cell_type": "code",
   "execution_count": 58,
   "metadata": {},
   "outputs": [
    {
     "data": {
      "text/plain": [
       "[[10, 0], [10, 0], [10, 0]]"
      ]
     },
     "execution_count": 58,
     "metadata": {},
     "output_type": "execute_result"
    }
   ],
   "source": [
    "xy"
   ]
  },
  {
   "cell_type": "code",
   "execution_count": null,
   "metadata": {},
   "outputs": [],
   "source": []
  },
  {
   "cell_type": "markdown",
   "metadata": {},
   "source": [
    "#### Can store different data types\n",
    "- But you will lose some processing functionality"
   ]
  },
  {
   "cell_type": "code",
   "execution_count": null,
   "metadata": {
    "pycharm": {
     "name": "#%%\n"
    }
   },
   "outputs": [],
   "source": [
    "my_list = ['A', 1, 'Spam', True]\n",
    "my_list2 = [['John', [55, 65, 86]], ['Jane', [70, 80, 80]]]"
   ]
  },
  {
   "cell_type": "code",
   "execution_count": null,
   "metadata": {
    "pycharm": {
     "name": "#%%\n"
    }
   },
   "outputs": [],
   "source": []
  },
  {
   "cell_type": "markdown",
   "metadata": {},
   "source": [
    "#### Built-in List methods\n",
    "- `len()` calculate length of list\n",
    "- `max()` calculate max of list\n",
    "- `min()` calculate min of list\n",
    "- `sum()` calculate sum of list\n",
    "- `sorted()` return a sorted list\n",
    "- `list()` cast to type list -- convert tuple to list or a generator to list\n",
    "- `any()` return `True` if the truthiness of any value is `True` in the list\n",
    "- `all()` return `True` if the truthiness of all the values is `True` in the list"
   ]
  },
  {
   "cell_type": "code",
   "execution_count": 59,
   "metadata": {
    "pycharm": {
     "name": "#%%\n"
    }
   },
   "outputs": [],
   "source": [
    "numbers = [3, 4, 8, 9, 5, 6, 7, 0, 1, 2, 10, 11, 12]"
   ]
  },
  {
   "cell_type": "code",
   "execution_count": 60,
   "metadata": {
    "pycharm": {
     "name": "#%%\n"
    }
   },
   "outputs": [
    {
     "data": {
      "text/plain": [
       "13"
      ]
     },
     "execution_count": 60,
     "metadata": {},
     "output_type": "execute_result"
    }
   ],
   "source": [
    "len(numbers)"
   ]
  },
  {
   "cell_type": "code",
   "execution_count": 61,
   "metadata": {
    "pycharm": {
     "name": "#%%\n"
    }
   },
   "outputs": [
    {
     "data": {
      "text/plain": [
       "12"
      ]
     },
     "execution_count": 61,
     "metadata": {},
     "output_type": "execute_result"
    }
   ],
   "source": [
    "max(numbers)"
   ]
  },
  {
   "cell_type": "code",
   "execution_count": 62,
   "metadata": {
    "pycharm": {
     "name": "#%%\n"
    }
   },
   "outputs": [
    {
     "data": {
      "text/plain": [
       "0"
      ]
     },
     "execution_count": 62,
     "metadata": {},
     "output_type": "execute_result"
    }
   ],
   "source": [
    "min(numbers)"
   ]
  },
  {
   "cell_type": "code",
   "execution_count": 63,
   "metadata": {
    "pycharm": {
     "name": "#%%\n"
    }
   },
   "outputs": [
    {
     "data": {
      "text/plain": [
       "78"
      ]
     },
     "execution_count": 63,
     "metadata": {},
     "output_type": "execute_result"
    }
   ],
   "source": [
    "sum(numbers)"
   ]
  },
  {
   "cell_type": "code",
   "execution_count": 64,
   "metadata": {
    "pycharm": {
     "name": "#%%\n"
    }
   },
   "outputs": [
    {
     "data": {
      "text/plain": [
       "[0, 1, 2, 3, 4, 5, 6, 7, 8, 9, 10, 11, 12]"
      ]
     },
     "execution_count": 64,
     "metadata": {},
     "output_type": "execute_result"
    }
   ],
   "source": [
    "sorted(numbers)"
   ]
  },
  {
   "cell_type": "code",
   "execution_count": 65,
   "metadata": {
    "pycharm": {
     "name": "#%%\n"
    }
   },
   "outputs": [
    {
     "data": {
      "text/plain": [
       "[3, 4, 8, 9, 5, 6, 7, 0, 1, 2, 10, 11, 12]"
      ]
     },
     "execution_count": 65,
     "metadata": {},
     "output_type": "execute_result"
    }
   ],
   "source": [
    "list(numbers)"
   ]
  },
  {
   "cell_type": "code",
   "execution_count": null,
   "metadata": {},
   "outputs": [],
   "source": []
  },
  {
   "cell_type": "code",
   "execution_count": 68,
   "metadata": {},
   "outputs": [
    {
     "data": {
      "text/plain": [
       "True"
      ]
     },
     "execution_count": 68,
     "metadata": {},
     "output_type": "execute_result"
    }
   ],
   "source": [
    "any([True, False, False])"
   ]
  },
  {
   "cell_type": "code",
   "execution_count": 71,
   "metadata": {},
   "outputs": [
    {
     "data": {
      "text/plain": [
       "False"
      ]
     },
     "execution_count": 71,
     "metadata": {},
     "output_type": "execute_result"
    }
   ],
   "source": [
    "any([None, \"\", False,0])"
   ]
  },
  {
   "cell_type": "code",
   "execution_count": 66,
   "metadata": {
    "pycharm": {
     "name": "#%%\n"
    }
   },
   "outputs": [
    {
     "data": {
      "text/plain": [
       "True"
      ]
     },
     "execution_count": 66,
     "metadata": {},
     "output_type": "execute_result"
    }
   ],
   "source": [
    "any(numbers)"
   ]
  },
  {
   "cell_type": "code",
   "execution_count": 72,
   "metadata": {
    "pycharm": {
     "name": "#%%\n"
    }
   },
   "outputs": [
    {
     "data": {
      "text/plain": [
       "False"
      ]
     },
     "execution_count": 72,
     "metadata": {},
     "output_type": "execute_result"
    }
   ],
   "source": [
    "all(numbers)"
   ]
  },
  {
   "cell_type": "code",
   "execution_count": null,
   "metadata": {
    "pycharm": {
     "name": "#%%\n"
    }
   },
   "outputs": [],
   "source": []
  },
  {
   "cell_type": "code",
   "execution_count": 73,
   "metadata": {
    "pycharm": {
     "name": "#%%\n"
    }
   },
   "outputs": [],
   "source": [
    "booleans = [True, False, True]"
   ]
  },
  {
   "cell_type": "code",
   "execution_count": 74,
   "metadata": {
    "pycharm": {
     "name": "#%%\n"
    }
   },
   "outputs": [
    {
     "data": {
      "text/plain": [
       "True"
      ]
     },
     "execution_count": 74,
     "metadata": {},
     "output_type": "execute_result"
    }
   ],
   "source": [
    "any(booleans)"
   ]
  },
  {
   "cell_type": "code",
   "execution_count": 75,
   "metadata": {
    "pycharm": {
     "name": "#%%\n"
    }
   },
   "outputs": [
    {
     "data": {
      "text/plain": [
       "False"
      ]
     },
     "execution_count": 75,
     "metadata": {},
     "output_type": "execute_result"
    }
   ],
   "source": [
    "all(booleans)"
   ]
  },
  {
   "cell_type": "code",
   "execution_count": null,
   "metadata": {
    "pycharm": {
     "name": "#%%\n"
    }
   },
   "outputs": [],
   "source": []
  },
  {
   "cell_type": "code",
   "execution_count": 76,
   "metadata": {
    "pycharm": {
     "name": "#%%\n"
    }
   },
   "outputs": [],
   "source": [
    "booleans = [True, True, True]"
   ]
  },
  {
   "cell_type": "code",
   "execution_count": 77,
   "metadata": {
    "pycharm": {
     "name": "#%%\n"
    }
   },
   "outputs": [
    {
     "data": {
      "text/plain": [
       "True"
      ]
     },
     "execution_count": 77,
     "metadata": {},
     "output_type": "execute_result"
    }
   ],
   "source": [
    "any(booleans)"
   ]
  },
  {
   "cell_type": "code",
   "execution_count": 78,
   "metadata": {
    "pycharm": {
     "name": "#%%\n"
    }
   },
   "outputs": [
    {
     "data": {
      "text/plain": [
       "True"
      ]
     },
     "execution_count": 78,
     "metadata": {},
     "output_type": "execute_result"
    }
   ],
   "source": [
    "all(booleans)"
   ]
  },
  {
   "cell_type": "code",
   "execution_count": null,
   "metadata": {
    "pycharm": {
     "name": "#%%\n"
    }
   },
   "outputs": [],
   "source": []
  },
  {
   "cell_type": "markdown",
   "metadata": {},
   "source": [
    "#### List methods (functions)\n",
    "- `append()` - add an element to end of list\n",
    "- `insert()` - insert an element to the list at the specified location\n",
    "- `remove()` - remove the element\n",
    "- `pop()` - remove the last element in the list; also returns the value; you can save this to another variable\n",
    "- `clear()` - empty the list\n",
    "- `index()` - return position of first matching element\n",
    "- `count()` - count the number of elements\n",
    "- `sort()` - sort the list in place\n",
    "- `reverse()` - reverse the list in place\n"
   ]
  },
  {
   "cell_type": "code",
   "execution_count": 79,
   "metadata": {
    "pycharm": {
     "name": "#%%\n"
    }
   },
   "outputs": [
    {
     "data": {
      "text/plain": [
       "['A', 'B', 'C']"
      ]
     },
     "execution_count": 79,
     "metadata": {},
     "output_type": "execute_result"
    }
   ],
   "source": [
    "grades = ['A', 'B', 'C']\n",
    "grades"
   ]
  },
  {
   "cell_type": "code",
   "execution_count": 80,
   "metadata": {
    "pycharm": {
     "name": "#%%\n"
    }
   },
   "outputs": [
    {
     "data": {
      "text/plain": [
       "['A', 'B', 'C', 'D']"
      ]
     },
     "execution_count": 80,
     "metadata": {},
     "output_type": "execute_result"
    }
   ],
   "source": [
    "grades.append('D')\n",
    "grades"
   ]
  },
  {
   "cell_type": "code",
   "execution_count": 82,
   "metadata": {
    "pycharm": {
     "name": "#%%\n"
    }
   },
   "outputs": [
    {
     "data": {
      "text/plain": [
       "['A', 'F', 'B', 'C', 'D', 'F']"
      ]
     },
     "execution_count": 82,
     "metadata": {},
     "output_type": "execute_result"
    }
   ],
   "source": [
    "grades.insert(1, 'F')\n",
    "grades"
   ]
  },
  {
   "cell_type": "code",
   "execution_count": 84,
   "metadata": {
    "pycharm": {
     "name": "#%%\n"
    }
   },
   "outputs": [
    {
     "data": {
      "text/plain": [
       "['A', 'B', 'C', 'D', 'F']"
      ]
     },
     "execution_count": 84,
     "metadata": {},
     "output_type": "execute_result"
    }
   ],
   "source": [
    "grades.remove(\"F\")\n",
    "grades"
   ]
  },
  {
   "cell_type": "code",
   "execution_count": 85,
   "metadata": {
    "pycharm": {
     "name": "#%%\n"
    }
   },
   "outputs": [
    {
     "data": {
      "text/plain": [
       "['A', 'B', 'C', 'D']"
      ]
     },
     "execution_count": 85,
     "metadata": {},
     "output_type": "execute_result"
    }
   ],
   "source": [
    "grades.pop()\n",
    "grades"
   ]
  },
  {
   "cell_type": "code",
   "execution_count": 1,
   "metadata": {
    "pycharm": {
     "name": "#%%\n"
    }
   },
   "outputs": [
    {
     "data": {
      "text/plain": [
       "1"
      ]
     },
     "execution_count": 1,
     "metadata": {},
     "output_type": "execute_result"
    }
   ],
   "source": [
    "grades = [\"C\",'A', 'B', 'C' ,\"D\"]\n",
    "\n",
    "grades.reverse()\n",
    "grades.index(\"C\")\n",
    "#grades\n",
    "#help(grades.index)"
   ]
  },
  {
   "cell_type": "code",
   "execution_count": 2,
   "metadata": {},
   "outputs": [
    {
     "data": {
      "text/plain": [
       "True"
      ]
     },
     "execution_count": 2,
     "metadata": {},
     "output_type": "execute_result"
    }
   ],
   "source": [
    "\"C\" in grades"
   ]
  },
  {
   "cell_type": "code",
   "execution_count": null,
   "metadata": {
    "pycharm": {
     "name": "#%%\n"
    }
   },
   "outputs": [],
   "source": [
    "grades.count('C') # len(grades)\n",
    "grades"
   ]
  },
  {
   "cell_type": "code",
   "execution_count": null,
   "metadata": {
    "pycharm": {
     "name": "#%%\n"
    }
   },
   "outputs": [],
   "source": [
    "grades.sort()\n",
    "grades"
   ]
  },
  {
   "cell_type": "code",
   "execution_count": null,
   "metadata": {
    "pycharm": {
     "name": "#%%\n"
    }
   },
   "outputs": [],
   "source": [
    "grades.reverse()\n",
    "grades"
   ]
  },
  {
   "cell_type": "code",
   "execution_count": null,
   "metadata": {
    "pycharm": {
     "name": "#%%\n"
    }
   },
   "outputs": [],
   "source": []
  },
  {
   "cell_type": "code",
   "execution_count": null,
   "metadata": {
    "pycharm": {
     "name": "#%%\n"
    }
   },
   "outputs": [],
   "source": []
  },
  {
   "cell_type": "markdown",
   "metadata": {},
   "source": [
    "#### List unpacking"
   ]
  },
  {
   "cell_type": "code",
   "execution_count": null,
   "metadata": {
    "pycharm": {
     "name": "#%%\n"
    }
   },
   "outputs": [],
   "source": [
    "a, b = [3,4]"
   ]
  },
  {
   "cell_type": "code",
   "execution_count": 96,
   "metadata": {
    "pycharm": {
     "name": "#%%\n"
    }
   },
   "outputs": [
    {
     "data": {
      "text/plain": [
       "3"
      ]
     },
     "execution_count": 96,
     "metadata": {},
     "output_type": "execute_result"
    }
   ],
   "source": [
    "r = [3,4]\n",
    "a, b = r\n",
    "r[0]=11\n",
    "a"
   ]
  },
  {
   "cell_type": "code",
   "execution_count": 3,
   "metadata": {
    "pycharm": {
     "name": "#%%\n"
    }
   },
   "outputs": [
    {
     "name": "stdout",
     "output_type": "stream",
     "text": [
      "3\n",
      "4\n",
      "7\n",
      "[8, 5, 10, 809]\n"
     ]
    }
   ],
   "source": [
    "a, b, c, *d = [3, 4, 7, 8, 5, 10, 809]\n",
    "\n",
    "print(a)\n",
    "print(b)\n",
    "print(c)\n",
    "print(d)"
   ]
  },
  {
   "cell_type": "code",
   "execution_count": 6,
   "metadata": {
    "pycharm": {
     "name": "#%%\n"
    }
   },
   "outputs": [
    {
     "name": "stdout",
     "output_type": "stream",
     "text": [
      "3\n",
      "4\n",
      "7\n"
     ]
    }
   ],
   "source": [
    "a, b, c, *_ = [3, 4, 7, 8, 5]\n",
    "\n",
    "print(a)\n",
    "print(b)\n",
    "print(c)\n"
   ]
  },
  {
   "cell_type": "code",
   "execution_count": 7,
   "metadata": {
    "pycharm": {
     "name": "#%%\n"
    }
   },
   "outputs": [
    {
     "name": "stdout",
     "output_type": "stream",
     "text": [
      "[8, 5]\n"
     ]
    }
   ],
   "source": [
    "print(_)"
   ]
  },
  {
   "cell_type": "markdown",
   "metadata": {},
   "source": [
    "### More list Examples"
   ]
  },
  {
   "cell_type": "code",
   "execution_count": null,
   "metadata": {
    "pycharm": {
     "name": "#%%\n"
    }
   },
   "outputs": [],
   "source": [
    "x = [1, 2, 3]"
   ]
  },
  {
   "cell_type": "code",
   "execution_count": null,
   "metadata": {
    "pycharm": {
     "name": "#%%\n"
    }
   },
   "outputs": [],
   "source": [
    "print(x)"
   ]
  },
  {
   "cell_type": "code",
   "execution_count": null,
   "metadata": {
    "pycharm": {
     "name": "#%%\n"
    }
   },
   "outputs": [],
   "source": [
    "list_of_floats = [1.2, 3.4, 5.5]\n",
    "print(list_of_floats)"
   ]
  },
  {
   "cell_type": "code",
   "execution_count": null,
   "metadata": {
    "pycharm": {
     "name": "#%%\n"
    }
   },
   "outputs": [],
   "source": [
    "list_of_str = ['A', 'B', 'C']\n",
    "print(list_of_str)"
   ]
  },
  {
   "cell_type": "code",
   "execution_count": null,
   "metadata": {
    "pycharm": {
     "name": "#%%\n"
    }
   },
   "outputs": [],
   "source": [
    "x = [1, 3.14, 'Hello', [1, 2]]\n",
    "x"
   ]
  },
  {
   "cell_type": "code",
   "execution_count": null,
   "metadata": {
    "pycharm": {
     "name": "#%%\n"
    }
   },
   "outputs": [],
   "source": [
    "sum(x)"
   ]
  },
  {
   "cell_type": "code",
   "execution_count": null,
   "metadata": {
    "pycharm": {
     "name": "#%%\n"
    }
   },
   "outputs": [],
   "source": [
    "sum([1, 2, 3, 4])"
   ]
  },
  {
   "cell_type": "code",
   "execution_count": null,
   "metadata": {
    "pycharm": {
     "name": "#%%\n"
    }
   },
   "outputs": [],
   "source": [
    "sum([1, 2, 3.14, 6.5])"
   ]
  },
  {
   "cell_type": "code",
   "execution_count": null,
   "metadata": {
    "pycharm": {
     "name": "#%%\n"
    }
   },
   "outputs": [],
   "source": [
    "whales = [5, 4, 7, 3, 2, 3, 2, 6, 4, 2, 1, 7, 1, 3]\n",
    "whales[3]"
   ]
  },
  {
   "cell_type": "code",
   "execution_count": null,
   "metadata": {
    "pycharm": {
     "name": "#%%\n"
    }
   },
   "outputs": [],
   "source": [
    "months = ['jan', 'feb', 'mar', 'april']\n",
    "months[1]"
   ]
  },
  {
   "cell_type": "code",
   "execution_count": null,
   "metadata": {
    "pycharm": {
     "name": "#%%\n"
    }
   },
   "outputs": [],
   "source": [
    "months = ['', 'jan', 'feb', 'mar', 'april']\n",
    "months[2]"
   ]
  },
  {
   "cell_type": "markdown",
   "metadata": {},
   "source": [
    "### Tuples\n",
    "- Tuple are just like lists except that they are immutable. Once you have created a tuple, you cannot modify it.\n",
    "  - But you still can modify mutable item inside tuple\n",
    "- Why use them?\n",
    "  - faster than lists\n",
    "  - make code safer -- because you cannot change it\n",
    "  - valid keys in a dictionary\n",
    "  - [Python documentation on list](https://docs.python.org/3/library/stdtypes.html#tuple)"
   ]
  },
  {
   "cell_type": "code",
   "execution_count": 8,
   "metadata": {
    "pycharm": {
     "name": "#%%\n"
    }
   },
   "outputs": [
    {
     "data": {
      "text/plain": [
       "(5, 4, 7, 3, 2, 3, 2, 6, 4, 2, 1, 7, 1, 3)"
      ]
     },
     "execution_count": 8,
     "metadata": {},
     "output_type": "execute_result"
    }
   ],
   "source": [
    "whales = (5, 4, 7, 3, 2, 3, 2, 6, 4, 2, 1, 7, 1, 3)\n",
    "whales"
   ]
  },
  {
   "cell_type": "code",
   "execution_count": 12,
   "metadata": {
    "pycharm": {
     "name": "#%%\n"
    }
   },
   "outputs": [
    {
     "ename": "TypeError",
     "evalue": "'tuple' object does not support item assignment",
     "output_type": "error",
     "traceback": [
      "\u001B[0;31m---------------------------------------------------------------------------\u001B[0m",
      "\u001B[0;31mTypeError\u001B[0m                                 Traceback (most recent call last)",
      "\u001B[0;32m/tmp/ipykernel_17448/2753965817.py\u001B[0m in \u001B[0;36m<module>\u001B[0;34m\u001B[0m\n\u001B[0;32m----> 1\u001B[0;31m \u001B[0mwhales\u001B[0m\u001B[0;34m[\u001B[0m\u001B[0;36m3\u001B[0m\u001B[0;34m]\u001B[0m\u001B[0;34m=\u001B[0m\u001B[0;36m3\u001B[0m\u001B[0;34m\u001B[0m\u001B[0;34m\u001B[0m\u001B[0m\n\u001B[0m",
      "\u001B[0;31mTypeError\u001B[0m: 'tuple' object does not support item assignment"
     ]
    }
   ],
   "source": [
    "whales[3]=3"
   ]
  },
  {
   "cell_type": "code",
   "execution_count": 11,
   "metadata": {
    "pycharm": {
     "name": "#%%\n"
    }
   },
   "outputs": [
    {
     "data": {
      "text/plain": [
       "14"
      ]
     },
     "execution_count": 11,
     "metadata": {},
     "output_type": "execute_result"
    }
   ],
   "source": [
    "len(whales)"
   ]
  },
  {
   "cell_type": "code",
   "execution_count": 16,
   "metadata": {
    "pycharm": {
     "name": "#%%\n"
    }
   },
   "outputs": [
    {
     "name": "stdout",
     "output_type": "stream",
     "text": [
      "([1], 12)\n",
      "([2], 12)\n"
     ]
    },
    {
     "ename": "TypeError",
     "evalue": "'tuple' object does not support item assignment",
     "output_type": "error",
     "traceback": [
      "\u001B[0;31m---------------------------------------------------------------------------\u001B[0m",
      "\u001B[0;31mTypeError\u001B[0m                                 Traceback (most recent call last)",
      "\u001B[0;32m/tmp/ipykernel_17448/3743615268.py\u001B[0m in \u001B[0;36m<module>\u001B[0;34m\u001B[0m\n\u001B[1;32m      6\u001B[0m \u001B[0;31m# a is ([2], [12])\u001B[0m\u001B[0;34m\u001B[0m\u001B[0;34m\u001B[0m\u001B[0;34m\u001B[0m\u001B[0m\n\u001B[1;32m      7\u001B[0m \u001B[0mprint\u001B[0m\u001B[0;34m(\u001B[0m\u001B[0ma\u001B[0m\u001B[0;34m)\u001B[0m\u001B[0;34m\u001B[0m\u001B[0;34m\u001B[0m\u001B[0m\n\u001B[0;32m----> 8\u001B[0;31m \u001B[0ma\u001B[0m\u001B[0;34m[\u001B[0m\u001B[0;36m0\u001B[0m\u001B[0;34m]\u001B[0m\u001B[0;34m=\u001B[0m\u001B[0;36m2\u001B[0m \u001B[0;31m# No-no, you can not change immutable item\u001B[0m\u001B[0;34m\u001B[0m\u001B[0;34m\u001B[0m\u001B[0m\n\u001B[0m",
      "\u001B[0;31mTypeError\u001B[0m: 'tuple' object does not support item assignment"
     ]
    }
   ],
   "source": [
    "a = ([1], 12)\n",
    "# a is ([1], 12)\n",
    "print(a)\n",
    "\n",
    "a[0][0]=2\n",
    "# a is ([2], [12])\n",
    "print(a)\n",
    "a[0]=2 # No-no, you can not change immutable item"
   ]
  },
  {
   "cell_type": "markdown",
   "metadata": {},
   "source": [
    "# Memory Model\n",
    "\n",
    "In python variables are passed to a function can be though as `pass-by-reference`.\n",
    "- That is mutable data types can be changed within function, and this change will propagate up.\n",
    "- The immutable data can not be changed by definition so it can not be changed within function\n",
    "(it will referent a different object and variable will be in local scope).\n",
    "\n",
    "Alternative to `pass-by-reference` is `pass-by-value` under this scenario\n",
    "the value is copied and the copy is passed to function.\n",
    "- Under `pass-by-value` the original value can not be changed in function.\n",
    "- Because the outcomes are similar to python's passage of immutable data types,\n",
    "sometimes it also called `pass-by-value` which is technically incorrect."
   ]
  },
  {
   "cell_type": "code",
   "execution_count": 20,
   "metadata": {
    "pycharm": {
     "name": "#%%\n"
    }
   },
   "outputs": [
    {
     "name": "stdout",
     "output_type": "stream",
     "text": [
      "139787686313168\n",
      "139787686313168\n"
     ]
    }
   ],
   "source": [
    "# y and x are integer and so are immutable\n",
    "def fun1(x):\n",
    "    print(id(x))\n",
    "\n",
    "y=12300000\n",
    "\n",
    "print(id(y))\n",
    "fun1(y)"
   ]
  },
  {
   "cell_type": "code",
   "execution_count": 21,
   "metadata": {
    "pycharm": {
     "name": "#%%\n"
    }
   },
   "outputs": [
    {
     "name": "stdout",
     "output_type": "stream",
     "text": [
      "139787686313744\n",
      "139787686313744\n",
      "139787686313840\n",
      "12300000\n"
     ]
    }
   ],
   "source": [
    "# what will happens if we reassing x in function\n",
    "def fun1(x):\n",
    "    print(id(x))\n",
    "    x=2222\n",
    "    print(id(x))\n",
    "\n",
    "y=12300000\n",
    "\n",
    "print(id(y))\n",
    "fun1(y)\n",
    "print(y)"
   ]
  },
  {
   "cell_type": "code",
   "execution_count": 22,
   "metadata": {
    "pycharm": {
     "name": "#%%\n"
    }
   },
   "outputs": [
    {
     "name": "stdout",
     "output_type": "stream",
     "text": [
      "139787634578624\n",
      "139787634578624\n",
      "139787634566912\n",
      "[12300000]\n"
     ]
    }
   ],
   "source": [
    "# what will happens if x and y are mutable list?\n",
    "def fun1(x):\n",
    "    print(id(x))\n",
    "    x=[2222]\n",
    "    print(id(x))\n",
    "\n",
    "y=[12300000]\n",
    "\n",
    "print(id(y))\n",
    "fun1(y)\n",
    "print(y)"
   ]
  },
  {
   "cell_type": "code",
   "execution_count": 23,
   "metadata": {
    "pycharm": {
     "name": "#%%\n"
    }
   },
   "outputs": [
    {
     "name": "stdout",
     "output_type": "stream",
     "text": [
      "139787634074176\n",
      "139787634074176\n",
      "139787634074176\n",
      "[22]\n"
     ]
    }
   ],
   "source": [
    "# what about now?\n",
    "def fun1(x):\n",
    "    print(id(x))\n",
    "    x[0]=22\n",
    "    print(id(x))\n",
    "\n",
    "y=[123]\n",
    "\n",
    "print(id(y))\n",
    "fun1(y)\n",
    "print(y)\n",
    "\n"
   ]
  },
  {
   "cell_type": "markdown",
   "metadata": {},
   "source": [
    "### More list Examples\n"
   ]
  },
  {
   "cell_type": "code",
   "execution_count": null,
   "metadata": {
    "pycharm": {
     "name": "#%%\n"
    }
   },
   "outputs": [],
   "source": [
    "# [start_index(included):end_index(not included)]\n",
    "# [:)\n",
    "# start_index:end_index:step_size\n",
    "# start_index:end_index-1:step_size\n",
    "grades[2:4]"
   ]
  },
  {
   "cell_type": "code",
   "execution_count": null,
   "metadata": {
    "pycharm": {
     "name": "#%%\n"
    }
   },
   "outputs": [],
   "source": [
    "grades[1::2]"
   ]
  },
  {
   "cell_type": "code",
   "execution_count": null,
   "metadata": {
    "pycharm": {
     "name": "#%%\n"
    }
   },
   "outputs": [],
   "source": [
    "x = [1, 2, 3, 4, 5, 6, 7, 8, 9, 10]\n",
    "x[1::2]"
   ]
  },
  {
   "cell_type": "code",
   "execution_count": null,
   "metadata": {
    "pycharm": {
     "name": "#%%\n"
    }
   },
   "outputs": [],
   "source": [
    "x[-10]"
   ]
  },
  {
   "cell_type": "code",
   "execution_count": null,
   "metadata": {
    "pycharm": {
     "name": "#%%\n"
    }
   },
   "outputs": [],
   "source": [
    "grades[::-1]"
   ]
  },
  {
   "cell_type": "code",
   "execution_count": null,
   "metadata": {
    "pycharm": {
     "name": "#%%\n"
    }
   },
   "outputs": [],
   "source": [
    "my_string = 'EAS503'"
   ]
  },
  {
   "cell_type": "code",
   "execution_count": null,
   "metadata": {
    "pycharm": {
     "name": "#%%\n"
    }
   },
   "outputs": [],
   "source": [
    "my_string[2]"
   ]
  },
  {
   "cell_type": "code",
   "execution_count": null,
   "metadata": {
    "pycharm": {
     "name": "#%%\n"
    }
   },
   "outputs": [],
   "source": [
    "department_name = my_string[0:3]\n",
    "print(department_name)\n",
    "\n",
    "department_name = my_string[:3]\n",
    "print(department_name)\n"
   ]
  },
  {
   "cell_type": "code",
   "execution_count": null,
   "metadata": {
    "pycharm": {
     "name": "#%%\n"
    }
   },
   "outputs": [],
   "source": [
    "course_number = my_string[3:]\n",
    "print(course_number)"
   ]
  },
  {
   "cell_type": "code",
   "execution_count": null,
   "metadata": {
    "pycharm": {
     "name": "#%%\n"
    }
   },
   "outputs": [],
   "source": [
    "print(type(course_number))"
   ]
  },
  {
   "cell_type": "code",
   "execution_count": null,
   "metadata": {
    "pycharm": {
     "name": "#%%\n"
    }
   },
   "outputs": [],
   "source": [
    "course_number = int(course_number)\n",
    "print(course_number+1)"
   ]
  },
  {
   "cell_type": "code",
   "execution_count": null,
   "metadata": {
    "pycharm": {
     "name": "#%%\n"
    }
   },
   "outputs": [],
   "source": [
    "x='eas503'\n",
    "print(x.upper())"
   ]
  },
  {
   "cell_type": "code",
   "execution_count": null,
   "metadata": {
    "pycharm": {
     "name": "#%%\n"
    }
   },
   "outputs": [],
   "source": [
    "grades = ['A', 'B', 'C', 'D', 'F']\n",
    "grades *= 3"
   ]
  },
  {
   "cell_type": "code",
   "execution_count": null,
   "metadata": {
    "pycharm": {
     "name": "#%%\n"
    }
   },
   "outputs": [],
   "source": [
    "grades"
   ]
  },
  {
   "cell_type": "code",
   "execution_count": null,
   "metadata": {
    "pycharm": {
     "name": "#%%\n"
    }
   },
   "outputs": [],
   "source": [
    "divider = '-'\n",
    "print(divider * 50)"
   ]
  },
  {
   "cell_type": "code",
   "execution_count": null,
   "metadata": {
    "pycharm": {
     "name": "#%%\n"
    }
   },
   "outputs": [],
   "source": [
    "grades = ['A', 'B', 'C', 'D', 'F']"
   ]
  },
  {
   "cell_type": "code",
   "execution_count": null,
   "metadata": {
    "pycharm": {
     "name": "#%%\n"
    }
   },
   "outputs": [],
   "source": [
    "grades[0] = 'a'\n",
    "grades"
   ]
  },
  {
   "cell_type": "code",
   "execution_count": null,
   "metadata": {
    "pycharm": {
     "name": "#%%\n"
    }
   },
   "outputs": [],
   "source": [
    "grades[0] = 3.14444444\n",
    "grades"
   ]
  },
  {
   "cell_type": "code",
   "execution_count": null,
   "metadata": {
    "pycharm": {
     "name": "#%%\n"
    }
   },
   "outputs": [],
   "source": [
    "grades = ['A', 'B', 'C', 'D', 'F']\n",
    "grades[1:3] = 'a'"
   ]
  },
  {
   "cell_type": "code",
   "execution_count": null,
   "metadata": {
    "pycharm": {
     "name": "#%%\n"
    }
   },
   "outputs": [],
   "source": [
    "grades"
   ]
  },
  {
   "cell_type": "code",
   "execution_count": null,
   "metadata": {
    "pycharm": {
     "name": "#%%\n"
    }
   },
   "outputs": [],
   "source": [
    "grades = ['A', 'B', 'C', 'D', 'F']\n",
    "\n",
    "grades[2:] = ['d', 'f']"
   ]
  },
  {
   "cell_type": "code",
   "execution_count": null,
   "metadata": {
    "pycharm": {
     "name": "#%%\n"
    }
   },
   "outputs": [],
   "source": [
    "\n",
    "grades"
   ]
  },
  {
   "cell_type": "code",
   "execution_count": null,
   "metadata": {
    "pycharm": {
     "name": "#%%\n"
    }
   },
   "outputs": [],
   "source": [
    "grades = ['A', 'B', 'C', 'D', 'F']\n",
    "del grades[0]\n",
    "grades\n"
   ]
  },
  {
   "cell_type": "code",
   "execution_count": null,
   "metadata": {
    "pycharm": {
     "name": "#%%\n"
    }
   },
   "outputs": [],
   "source": [
    "del grades[1:3]\n",
    "grades"
   ]
  },
  {
   "cell_type": "code",
   "execution_count": null,
   "metadata": {
    "pycharm": {
     "name": "#%%\n"
    }
   },
   "outputs": [],
   "source": [
    "del grades"
   ]
  },
  {
   "cell_type": "code",
   "execution_count": null,
   "metadata": {
    "pycharm": {
     "name": "#%%\n"
    }
   },
   "outputs": [],
   "source": [
    "grades1 = ['A', 'B', 'C']\n",
    "grades2 = ['D', 'F']\n",
    "grades = grades1 + grades2\n",
    "grades"
   ]
  },
  {
   "cell_type": "code",
   "execution_count": null,
   "metadata": {
    "pycharm": {
     "name": "#%%\n"
    }
   },
   "outputs": [],
   "source": [
    "my_list2 = [['John', [55, 65, 86]], ['Jane', [70, 80, 85]]]"
   ]
  },
  {
   "cell_type": "code",
   "execution_count": null,
   "metadata": {
    "pycharm": {
     "name": "#%%\n"
    }
   },
   "outputs": [],
   "source": [
    "my_list2[1][1][2]"
   ]
  },
  {
   "cell_type": "code",
   "execution_count": null,
   "metadata": {
    "pycharm": {
     "name": "#%%\n"
    }
   },
   "outputs": [],
   "source": [
    "numbers = [3, 4, 8, 9, 5, 6, 7, 0, 1, 2, 10, 11, 12]\n",
    "\n",
    "sum(numbers)\n",
    "sorted(numbers)\n",
    "list(numbers)\n",
    "any(numbers)\n",
    "all(numbers)"
   ]
  },
  {
   "cell_type": "code",
   "execution_count": null,
   "metadata": {
    "pycharm": {
     "name": "#%%\n"
    }
   },
   "outputs": [],
   "source": [
    "len(numbers)"
   ]
  },
  {
   "cell_type": "code",
   "execution_count": null,
   "metadata": {
    "pycharm": {
     "name": "#%%\n"
    }
   },
   "outputs": [],
   "source": [
    "max(numbers)"
   ]
  },
  {
   "cell_type": "code",
   "execution_count": null,
   "metadata": {
    "pycharm": {
     "name": "#%%\n"
    }
   },
   "outputs": [],
   "source": [
    "min(numbers)"
   ]
  },
  {
   "cell_type": "code",
   "execution_count": null,
   "metadata": {
    "pycharm": {
     "name": "#%%\n"
    }
   },
   "outputs": [],
   "source": [
    "sorted(numbers, reverse=True)\n"
   ]
  },
  {
   "cell_type": "code",
   "execution_count": 24,
   "metadata": {
    "pycharm": {
     "name": "#%%\n"
    }
   },
   "outputs": [
    {
     "data": {
      "text/plain": [
       "(1, 2, 3)"
      ]
     },
     "execution_count": 24,
     "metadata": {},
     "output_type": "execute_result"
    }
   ],
   "source": [
    "my_tuple = (1, 2, 3)\n",
    "my_tuple"
   ]
  },
  {
   "cell_type": "code",
   "execution_count": 25,
   "metadata": {
    "pycharm": {
     "name": "#%%\n"
    }
   },
   "outputs": [
    {
     "ename": "TypeError",
     "evalue": "'tuple' object does not support item assignment",
     "output_type": "error",
     "traceback": [
      "\u001B[0;31m---------------------------------------------------------------------------\u001B[0m",
      "\u001B[0;31mTypeError\u001B[0m                                 Traceback (most recent call last)",
      "\u001B[0;32m/tmp/ipykernel_17448/2996842273.py\u001B[0m in \u001B[0;36m<module>\u001B[0;34m\u001B[0m\n\u001B[0;32m----> 1\u001B[0;31m \u001B[0mmy_tuple\u001B[0m\u001B[0;34m[\u001B[0m\u001B[0;36m1\u001B[0m\u001B[0;34m]\u001B[0m \u001B[0;34m=\u001B[0m \u001B[0;36m42\u001B[0m\u001B[0;34m\u001B[0m\u001B[0;34m\u001B[0m\u001B[0m\n\u001B[0m",
      "\u001B[0;31mTypeError\u001B[0m: 'tuple' object does not support item assignment"
     ]
    }
   ],
   "source": [
    "my_tuple[1] = 42"
   ]
  },
  {
   "cell_type": "code",
   "execution_count": 26,
   "metadata": {
    "pycharm": {
     "name": "#%%\n"
    }
   },
   "outputs": [
    {
     "data": {
      "text/plain": [
       "[1, 42, 3]"
      ]
     },
     "execution_count": 26,
     "metadata": {},
     "output_type": "execute_result"
    }
   ],
   "source": [
    "my_list = list(my_tuple)\n",
    "my_list[1] = 42\n",
    "my_list"
   ]
  },
  {
   "cell_type": "code",
   "execution_count": 27,
   "metadata": {
    "pycharm": {
     "name": "#%%\n"
    }
   },
   "outputs": [
    {
     "name": "stdout",
     "output_type": "stream",
     "text": [
      "<class 'tuple'>\n"
     ]
    }
   ],
   "source": [
    "print(type(my_tuple))"
   ]
  },
  {
   "cell_type": "code",
   "execution_count": 28,
   "metadata": {
    "pycharm": {
     "name": "#%%\n"
    }
   },
   "outputs": [
    {
     "name": "stdout",
     "output_type": "stream",
     "text": [
      "<class 'list'>\n"
     ]
    }
   ],
   "source": [
    "print(type(my_list))"
   ]
  },
  {
   "cell_type": "code",
   "execution_count": null,
   "metadata": {
    "pycharm": {
     "name": "#%%\n"
    }
   },
   "outputs": [],
   "source": [
    "tuple(my_list)"
   ]
  },
  {
   "cell_type": "code",
   "execution_count": null,
   "metadata": {
    "pycharm": {
     "name": "#%%\n"
    }
   },
   "outputs": [],
   "source": [
    "any()\n",
    "all()"
   ]
  },
  {
   "cell_type": "code",
   "execution_count": null,
   "metadata": {
    "pycharm": {
     "name": "#%%\n"
    }
   },
   "outputs": [],
   "source": [
    "my_list = [True, 3.14, 1, 0]\n",
    "any(my_list)"
   ]
  },
  {
   "cell_type": "code",
   "execution_count": null,
   "metadata": {
    "pycharm": {
     "name": "#%%\n"
    }
   },
   "outputs": [],
   "source": [
    "all(my_list)"
   ]
  },
  {
   "cell_type": "code",
   "execution_count": null,
   "metadata": {
    "pycharm": {
     "name": "#%%\n"
    }
   },
   "outputs": [],
   "source": [
    "x = 1\n",
    "print(type(x))"
   ]
  },
  {
   "cell_type": "code",
   "execution_count": null,
   "metadata": {
    "pycharm": {
     "name": "#%%\n"
    }
   },
   "outputs": [],
   "source": [
    "type(x)"
   ]
  },
  {
   "cell_type": "code",
   "execution_count": null,
   "metadata": {
    "pycharm": {
     "name": "#%%\n"
    }
   },
   "outputs": [],
   "source": [
    "type(my_list)"
   ]
  },
  {
   "cell_type": "code",
   "execution_count": null,
   "metadata": {
    "pycharm": {
     "name": "#%%\n"
    }
   },
   "outputs": [],
   "source": [
    "my_list.sort()"
   ]
  },
  {
   "cell_type": "code",
   "execution_count": null,
   "metadata": {
    "pycharm": {
     "name": "#%%\n"
    }
   },
   "outputs": [],
   "source": [
    "my_list"
   ]
  },
  {
   "cell_type": "code",
   "execution_count": null,
   "metadata": {
    "pycharm": {
     "name": "#%%\n"
    }
   },
   "outputs": [],
   "source": [
    "x = [1, 15, 6, -1]\n",
    "sorted(x)"
   ]
  },
  {
   "cell_type": "code",
   "execution_count": null,
   "metadata": {
    "pycharm": {
     "name": "#%%\n"
    }
   },
   "outputs": [],
   "source": [
    "x"
   ]
  },
  {
   "cell_type": "code",
   "execution_count": null,
   "metadata": {
    "pycharm": {
     "name": "#%%\n"
    }
   },
   "outputs": [],
   "source": [
    "x.sort()"
   ]
  },
  {
   "cell_type": "code",
   "execution_count": null,
   "metadata": {
    "pycharm": {
     "name": "#%%\n"
    }
   },
   "outputs": [],
   "source": [
    "x"
   ]
  },
  {
   "cell_type": "code",
   "execution_count": null,
   "metadata": {
    "pycharm": {
     "name": "#%%\n"
    }
   },
   "outputs": [],
   "source": [
    "x = (('Jane', 48), ('Bob', 78))\n",
    "\n"
   ]
  },
  {
   "cell_type": "code",
   "execution_count": null,
   "metadata": {
    "pycharm": {
     "name": "#%%\n"
    }
   },
   "outputs": [],
   "source": [
    "grades = ['A', 'B', 'C']\n",
    "len(grades)"
   ]
  },
  {
   "cell_type": "code",
   "execution_count": null,
   "metadata": {
    "pycharm": {
     "name": "#%%\n"
    }
   },
   "outputs": [],
   "source": [
    "grades.count('A')"
   ]
  },
  {
   "cell_type": "code",
   "execution_count": null,
   "metadata": {
    "pycharm": {
     "name": "#%%\n"
    }
   },
   "outputs": [],
   "source": [
    "grades = ['A', 'B', 'C']\n"
   ]
  },
  {
   "cell_type": "code",
   "execution_count": null,
   "metadata": {
    "pycharm": {
     "name": "#%%\n"
    }
   },
   "outputs": [],
   "source": [
    "grades.append('D')\n",
    "grades"
   ]
  },
  {
   "cell_type": "code",
   "execution_count": null,
   "metadata": {
    "pycharm": {
     "name": "#%%\n"
    }
   },
   "outputs": [],
   "source": [
    "grades.insert(4, 'F')\n",
    "grades"
   ]
  },
  {
   "cell_type": "code",
   "execution_count": null,
   "metadata": {
    "pycharm": {
     "name": "#%%\n"
    }
   },
   "outputs": [],
   "source": [
    "grades.insert(1, 'F')\n",
    "grades"
   ]
  },
  {
   "cell_type": "code",
   "execution_count": null,
   "metadata": {
    "pycharm": {
     "name": "#%%\n"
    }
   },
   "outputs": [],
   "source": [
    "grades.remove('F')\n",
    "grades"
   ]
  },
  {
   "cell_type": "code",
   "execution_count": null,
   "metadata": {
    "pycharm": {
     "name": "#%%\n"
    }
   },
   "outputs": [],
   "source": [
    "del grades[]"
   ]
  },
  {
   "cell_type": "code",
   "execution_count": null,
   "metadata": {
    "pycharm": {
     "name": "#%%\n"
    }
   },
   "outputs": [],
   "source": [
    "grades.append('D')\n",
    "grades.insert(4, 'F')\n",
    "grades.remove(2)\n",
    "grades.pop()\n",
    "grades.index('C')\n",
    "grades.count() # len(grades)\n",
    "grades.sort()\n",
    "grades.reverse()"
   ]
  },
  {
   "cell_type": "code",
   "execution_count": null,
   "metadata": {
    "pycharm": {
     "name": "#%%\n"
    }
   },
   "outputs": [],
   "source": [
    "students = ['john', 'bob', 'mike']\n",
    "\n",
    "students.remove('bob')\n",
    "students\n",
    "\n"
   ]
  },
  {
   "cell_type": "code",
   "execution_count": null,
   "metadata": {
    "pycharm": {
     "name": "#%%\n"
    }
   },
   "outputs": [],
   "source": [
    "students = ['john', 'bob', 'mike']\n",
    "\n",
    "del students[1]\n",
    "students"
   ]
  },
  {
   "cell_type": "code",
   "execution_count": null,
   "metadata": {
    "pycharm": {
     "name": "#%%\n"
    }
   },
   "outputs": [],
   "source": [
    "grades = ['A', 'B', 'C']\n",
    "last_value = grades.pop()\n",
    "grades\n"
   ]
  },
  {
   "cell_type": "code",
   "execution_count": null,
   "metadata": {
    "pycharm": {
     "name": "#%%\n"
    }
   },
   "outputs": [],
   "source": [
    "last_value"
   ]
  },
  {
   "cell_type": "code",
   "execution_count": null,
   "metadata": {
    "pycharm": {
     "name": "#%%\n"
    }
   },
   "outputs": [],
   "source": [
    "grades = ['A', 'B', 'C']\n",
    "grades.index('C')"
   ]
  },
  {
   "cell_type": "code",
   "execution_count": null,
   "metadata": {
    "pycharm": {
     "name": "#%%\n"
    }
   },
   "outputs": [],
   "source": [
    "grades"
   ]
  },
  {
   "cell_type": "code",
   "execution_count": null,
   "metadata": {
    "pycharm": {
     "name": "#%%\n"
    }
   },
   "outputs": [],
   "source": [
    "x = [1, 43, 890, 2, 4]"
   ]
  },
  {
   "cell_type": "code",
   "execution_count": null,
   "metadata": {
    "pycharm": {
     "name": "#%%\n"
    }
   },
   "outputs": [],
   "source": [
    "x.sort()"
   ]
  },
  {
   "cell_type": "code",
   "execution_count": null,
   "metadata": {
    "pycharm": {
     "name": "#%%\n"
    }
   },
   "outputs": [],
   "source": [
    "x"
   ]
  },
  {
   "cell_type": "code",
   "execution_count": null,
   "metadata": {
    "pycharm": {
     "name": "#%%\n"
    }
   },
   "outputs": [],
   "source": [
    "x.reverse()\n",
    "x"
   ]
  },
  {
   "cell_type": "code",
   "execution_count": null,
   "metadata": {
    "pycharm": {
     "name": "#%%\n"
    }
   },
   "outputs": [],
   "source": [
    "a, b, c, *d = [3, 4, 7, 8, 5, 10, 809]\n",
    "\n",
    "print(a)\n",
    "print(b)\n",
    "print(c)\n",
    "print(d)"
   ]
  },
  {
   "cell_type": "code",
   "execution_count": null,
   "metadata": {
    "pycharm": {
     "name": "#%%\n"
    }
   },
   "outputs": [],
   "source": [
    "a, b, c, *_ = [3, 4, 7, 8, 5]\n",
    "\n",
    "print(a)\n",
    "print(b)\n",
    "print(c)\n"
   ]
  },
  {
   "cell_type": "code",
   "execution_count": null,
   "metadata": {
    "pycharm": {
     "name": "#%%\n"
    }
   },
   "outputs": [],
   "source": [
    "print(_)"
   ]
  },
  {
   "cell_type": "markdown",
   "metadata": {},
   "source": []
  },
  {
   "cell_type": "markdown",
   "metadata": {},
   "source": [
    "## Repeating code using loops\n",
    "\n",
    "```\n",
    "for <element> in <sequence>:\n",
    "\t<body>\n",
    "```\n",
    "\n",
    "- The loop index variable `element` takes on each successive value in the sequence, and the statements in the body of the loop are executed once for each value.\n",
    "- For loops have a limitation -- you have to know how many times you are looping -- it is a definite loop. The number of iterations is determined when the loop starts. If you do not know how many times you will be looping, use a while loop, which is an indefinite loop that will continue to loop until its condition is no longer true.\n",
    "- Use range(start,stop,step) immutable sequence of integers from start to stop (excluding) with stride step\n",
    "\n",
    "```\n",
    "while <condition>:\n",
    "\t<body>\n",
    "```\n",
    "\n",
    "- Loop is controlled using `break` and `continue`."
   ]
  },
  {
   "cell_type": "markdown",
   "metadata": {
    "pycharm": {
     "name": "#%% md\n"
    }
   },
   "source": [
    "### for ... in ...:"
   ]
  },
  {
   "cell_type": "code",
   "execution_count": 29,
   "metadata": {
    "pycharm": {
     "name": "#%%\n"
    }
   },
   "outputs": [
    {
     "name": "stdout",
     "output_type": "stream",
     "text": [
      "apples\n",
      "bananas\n",
      "It is citrus fruit!\n",
      "oranges\n",
      "It is citrus fruit!\n",
      "lemons\n"
     ]
    }
   ],
   "source": [
    "basket = [\"apples\", \"bananas\", \"oranges\", \"lemons\"]\n",
    "for item in basket:\n",
    "    if item in [\"oranges\", \"lemons\"]:\n",
    "        print(\"It is citrus fruit!\")\n",
    "    print(item)\n",
    "    "
   ]
  },
  {
   "cell_type": "code",
   "execution_count": 39,
   "metadata": {},
   "outputs": [
    {
     "data": {
      "text/plain": [
       "[0, 1, 2, 3]"
      ]
     },
     "execution_count": 39,
     "metadata": {},
     "output_type": "execute_result"
    }
   ],
   "source": [
    "list(range(4))"
   ]
  },
  {
   "cell_type": "code",
   "execution_count": 35,
   "metadata": {
    "pycharm": {
     "name": "#%%\n"
    }
   },
   "outputs": [
    {
     "data": {
      "text/plain": [
       "[0, 2, 4, 6, 8, 10]"
      ]
     },
     "execution_count": 35,
     "metadata": {},
     "output_type": "execute_result"
    }
   ],
   "source": [
    "list(range(0,12,2))"
   ]
  },
  {
   "cell_type": "code",
   "execution_count": 37,
   "metadata": {
    "scrolled": true
   },
   "outputs": [
    {
     "data": {
      "text/plain": [
       "(0, 1, 2, 3)"
      ]
     },
     "execution_count": 37,
     "metadata": {},
     "output_type": "execute_result"
    }
   ],
   "source": [
    "tuple(range(len(basket)))"
   ]
  },
  {
   "cell_type": "code",
   "execution_count": null,
   "metadata": {},
   "outputs": [],
   "source": []
  },
  {
   "cell_type": "code",
   "execution_count": 41,
   "metadata": {
    "scrolled": true
   },
   "outputs": [
    {
     "name": "stdout",
     "output_type": "stream",
     "text": [
      "item 0 is apples\n",
      "item 1 is bananas\n",
      "item 2 is oranges\n",
      "item 3 is lemons\n"
     ]
    }
   ],
   "source": [
    "for i in range(len(basket)):\n",
    "    print(f\"item {i} is {basket[i]}\")"
   ]
  },
  {
   "cell_type": "code",
   "execution_count": 42,
   "metadata": {},
   "outputs": [
    {
     "name": "stdout",
     "output_type": "stream",
     "text": [
      "-12\n",
      "-9\n",
      "-6\n",
      "-3\n",
      "0\n",
      "3\n",
      "6\n"
     ]
    }
   ],
   "source": [
    "# for i=-12 to i<=6 and i=i+3\n",
    "for i in range(-12,6+1,3):\n",
    "    print(i)"
   ]
  },
  {
   "cell_type": "code",
   "execution_count": 43,
   "metadata": {},
   "outputs": [
    {
     "name": "stdout",
     "output_type": "stream",
     "text": [
      "-12\n",
      "-9\n",
      "-6\n",
      "-3\n",
      "0\n",
      "3\n"
     ]
    }
   ],
   "source": [
    "# for i=-12 to i<6 and i=i+3\n",
    "for i in range(-12,6,3):\n",
    "    print(i)"
   ]
  },
  {
   "cell_type": "code",
   "execution_count": 44,
   "metadata": {
    "pycharm": {
     "name": "#%%\n"
    }
   },
   "outputs": [
    {
     "name": "stdout",
     "output_type": "stream",
     "text": [
      "0\n",
      "1\n",
      "2\n",
      "3\n",
      "4\n"
     ]
    }
   ],
   "source": [
    "values = [4, 10, 3, 8, -6]\n",
    "for i in range(len(values)):\n",
    "    print(i)"
   ]
  },
  {
   "cell_type": "code",
   "execution_count": 47,
   "metadata": {
    "pycharm": {
     "name": "#%%\n"
    }
   },
   "outputs": [
    {
     "name": "stdout",
     "output_type": "stream",
     "text": [
      "0 4\n",
      "1 10\n",
      "2 3\n",
      "3 8\n",
      "4 -6\n"
     ]
    }
   ],
   "source": [
    "values = [4, 10, 3, 8, -6]\n",
    "for i in range(len(values)):\n",
    "    print(i, values[i])"
   ]
  },
  {
   "cell_type": "code",
   "execution_count": null,
   "metadata": {
    "pycharm": {
     "name": "#%%\n"
    }
   },
   "outputs": [],
   "source": [
    "values = [4, 10, 3, 8, -6]\n",
    "for i in range(len(values)):\n",
    "    print(i, values[i])"
   ]
  },
  {
   "cell_type": "code",
   "execution_count": null,
   "metadata": {
    "pycharm": {
     "name": "#%%\n"
    }
   },
   "outputs": [],
   "source": [
    "values = [4, 10, 3, 8, -6]\n",
    "for index, value in enumerate(values):\n",
    "\tprint(index, value)"
   ]
  },
  {
   "cell_type": "code",
   "execution_count": 50,
   "metadata": {},
   "outputs": [
    {
     "data": {
      "text/plain": [
       "[(0, 'apples'), (1, 'bananas'), (2, 'oranges'), (3, 'lemons')]"
      ]
     },
     "execution_count": 50,
     "metadata": {},
     "output_type": "execute_result"
    }
   ],
   "source": [
    "list(enumerate(basket))"
   ]
  },
  {
   "cell_type": "code",
   "execution_count": 48,
   "metadata": {},
   "outputs": [
    {
     "name": "stdout",
     "output_type": "stream",
     "text": [
      "item 0 is apples\n",
      "item 1 is bananas\n",
      "item 2 is oranges\n",
      "item 3 is lemons\n"
     ]
    }
   ],
   "source": [
    "for i in range(len(basket)):\n",
    "    print(f\"item {i} is {basket[i]}\")"
   ]
  },
  {
   "cell_type": "code",
   "execution_count": 52,
   "metadata": {},
   "outputs": [
    {
     "name": "stdout",
     "output_type": "stream",
     "text": [
      "item 0 is apples\n",
      "item 1 is bananas\n",
      "item 2 is oranges\n",
      "item 3 is lemons\n"
     ]
    }
   ],
   "source": [
    "for i,item in enumerate(basket):\n",
    "    print(f\"item {i} is {item}\")"
   ]
  },
  {
   "cell_type": "code",
   "execution_count": 54,
   "metadata": {
    "pycharm": {
     "name": "#%%\n"
    }
   },
   "outputs": [
    {
     "data": {
      "text/plain": [
       "[8, 20, 6, 16, -12]"
      ]
     },
     "execution_count": 54,
     "metadata": {},
     "output_type": "execute_result"
    }
   ],
   "source": [
    "values = [4, 10, 3, 8, -6]\n",
    "for i in range(len(values)):\n",
    "    values[i] = values[i] * 2\n",
    "values"
   ]
  },
  {
   "cell_type": "code",
   "execution_count": 56,
   "metadata": {
    "pycharm": {
     "name": "#%%\n"
    }
   },
   "outputs": [
    {
     "name": "stdout",
     "output_type": "stream",
     "text": [
      "Li 6.941\n",
      "Na 22.98976928\n",
      "K 39.0983\n"
     ]
    }
   ],
   "source": [
    "metals = ['Li', 'Na', 'K']\n",
    "weights = [6.941, 22.98976928, 39.0983]\n",
    "for i in range(len(metals)):\n",
    "    print(metals[i], weights[i])"
   ]
  },
  {
   "cell_type": "code",
   "execution_count": 58,
   "metadata": {},
   "outputs": [
    {
     "data": {
      "text/plain": [
       "(('Li', 6.941), ('Na', 22.98976928), ('K', 39.0983))"
      ]
     },
     "execution_count": 58,
     "metadata": {},
     "output_type": "execute_result"
    }
   ],
   "source": [
    "tuple(zip(metals, weights))"
   ]
  },
  {
   "cell_type": "code",
   "execution_count": 63,
   "metadata": {
    "pycharm": {
     "name": "#%%\n"
    }
   },
   "outputs": [
    {
     "name": "stdout",
     "output_type": "stream",
     "text": [
      "Li 6.941 3\n",
      "Na 22.98976928 11\n",
      "K 39.0983 17\n"
     ]
    }
   ],
   "source": [
    "metals = ['Li', 'Na', 'K']\n",
    "weights = [6.941, 22.98976928, 39.0983]\n",
    "numbers = [3, 11, 17]\n",
    "for metal, weight, number in zip(metals,weights,numbers):\n",
    "    print(metal, weight, number)"
   ]
  },
  {
   "cell_type": "code",
   "execution_count": 65,
   "metadata": {
    "pycharm": {
     "name": "#%%\n"
    }
   },
   "outputs": [
    {
     "name": "stdout",
     "output_type": "stream",
     "text": [
      "['Li', 'Na', 'K']\n",
      "Li\n",
      "Na\n",
      "K\n",
      "['F', 'Cl']\n",
      "F\n",
      "Cl\n"
     ]
    }
   ],
   "source": [
    "elements = [['Li', 'Na', 'K'], ['F', 'Cl']]\n",
    "for inner_list in elements:\n",
    "    print(inner_list)\n",
    "    for item in inner_list:\n",
    "        print(item)\n"
   ]
  },
  {
   "cell_type": "code",
   "execution_count": 66,
   "metadata": {
    "pycharm": {
     "name": "#%%\n"
    }
   },
   "outputs": [
    {
     "name": "stdout",
     "output_type": "stream",
     "text": [
      "3\n",
      "3\n",
      "4\n"
     ]
    }
   ],
   "source": [
    "info = [['Isaac Newton', 1643, 1727],\n",
    "\t['Charles Darwin', 1809, 1882],\n",
    "\t['Alan Turing', 1912, 1954, 'alan@bletchley.uk']]\n",
    "for item in info:\n",
    "    print(len(item))"
   ]
  },
  {
   "cell_type": "markdown",
   "metadata": {},
   "source": [
    "### While loop\n",
    "while <condition>:\n",
    "\t<body>"
   ]
  },
  {
   "cell_type": "code",
   "execution_count": 70,
   "metadata": {
    "pycharm": {
     "name": "#%%\n"
    }
   },
   "outputs": [
    {
     "name": "stdout",
     "output_type": "stream",
     "text": [
      "['apples', 'bananas', 'oranges']\n",
      "There are 3 items left. You ate lemons\n",
      "['apples', 'bananas']\n",
      "There are 2 items left. You ate oranges\n",
      "['apples']\n",
      "There are 1 items left. You ate bananas\n",
      "[]\n",
      "There are 0 items left. You ate apples\n"
     ]
    }
   ],
   "source": [
    "basket = [\"apples\", \"bananas\", \"oranges\", \"lemons\"]\n",
    "while len(basket)>0:\n",
    "    item = basket.pop()\n",
    "    print(basket)\n",
    "    print(f\"There are {len(basket)} items left. You ate {item}\")"
   ]
  },
  {
   "cell_type": "code",
   "execution_count": null,
   "metadata": {},
   "outputs": [],
   "source": [
    "# for i=-12 to i<6 and i=i+3\n",
    "for i in range(-12,6,3):\n",
    "    print(i)"
   ]
  },
  {
   "cell_type": "code",
   "execution_count": 71,
   "metadata": {},
   "outputs": [
    {
     "name": "stdout",
     "output_type": "stream",
     "text": [
      "-12\n",
      "-9\n",
      "-6\n",
      "-3\n",
      "0\n",
      "3\n"
     ]
    }
   ],
   "source": [
    "i=-12\n",
    "while i < 6:\n",
    "    print(i)\n",
    "    i+=3"
   ]
  },
  {
   "cell_type": "code",
   "execution_count": null,
   "metadata": {},
   "outputs": [],
   "source": []
  },
  {
   "cell_type": "markdown",
   "metadata": {},
   "source": [
    "### Controlling loops with `break` and `continue` command\n",
    "Loop is controlled using `break` and `continue`."
   ]
  },
  {
   "cell_type": "code",
   "execution_count": 73,
   "metadata": {
    "pycharm": {
     "name": "#%%\n"
    }
   },
   "outputs": [
    {
     "name": "stdout",
     "output_type": "stream",
     "text": [
      "['apples', 'bananas', 'oranges']\n",
      "There are 3 items left. You ate lemons\n",
      "['apples', 'bananas']\n",
      "There are 2 items left. You ate oranges\n",
      "['apples']\n",
      "There are 1 items left. You ate bananas\n"
     ]
    },
    {
     "ename": "KeyboardInterrupt",
     "evalue": "",
     "output_type": "error",
     "traceback": [
      "\u001B[0;31m---------------------------------------------------------------------------\u001B[0m",
      "\u001B[0;31mKeyboardInterrupt\u001B[0m                         Traceback (most recent call last)",
      "\u001B[0;32m/tmp/ipykernel_17448/2461834665.py\u001B[0m in \u001B[0;36m<module>\u001B[0;34m\u001B[0m\n\u001B[1;32m      1\u001B[0m \u001B[0mbasket\u001B[0m \u001B[0;34m=\u001B[0m \u001B[0;34m[\u001B[0m\u001B[0;34m\"apples\"\u001B[0m\u001B[0;34m,\u001B[0m \u001B[0;34m\"bananas\"\u001B[0m\u001B[0;34m,\u001B[0m \u001B[0;34m\"oranges\"\u001B[0m\u001B[0;34m,\u001B[0m \u001B[0;34m\"lemons\"\u001B[0m\u001B[0;34m]\u001B[0m\u001B[0;34m\u001B[0m\u001B[0;34m\u001B[0m\u001B[0m\n\u001B[0;32m----> 2\u001B[0;31m \u001B[0;32mwhile\u001B[0m \u001B[0mlen\u001B[0m\u001B[0;34m(\u001B[0m\u001B[0mbasket\u001B[0m\u001B[0;34m)\u001B[0m\u001B[0;34m>\u001B[0m\u001B[0;36m0\u001B[0m\u001B[0;34m:\u001B[0m\u001B[0;34m\u001B[0m\u001B[0;34m\u001B[0m\u001B[0m\n\u001B[0m\u001B[1;32m      3\u001B[0m     \u001B[0;32mif\u001B[0m \u001B[0mitem\u001B[0m \u001B[0;34m==\u001B[0m \u001B[0;34m\"bananas\"\u001B[0m\u001B[0;34m:\u001B[0m\u001B[0;34m\u001B[0m\u001B[0;34m\u001B[0m\u001B[0m\n\u001B[1;32m      4\u001B[0m         \u001B[0;32mcontinue\u001B[0m\u001B[0;34m\u001B[0m\u001B[0;34m\u001B[0m\u001B[0m\n\u001B[1;32m      5\u001B[0m     \u001B[0mitem\u001B[0m \u001B[0;34m=\u001B[0m \u001B[0mbasket\u001B[0m\u001B[0;34m.\u001B[0m\u001B[0mpop\u001B[0m\u001B[0;34m(\u001B[0m\u001B[0;34m)\u001B[0m\u001B[0;34m\u001B[0m\u001B[0;34m\u001B[0m\u001B[0m\n",
      "\u001B[0;31mKeyboardInterrupt\u001B[0m: "
     ]
    }
   ],
   "source": [
    "basket = [\"apples\", \"bananas\", \"oranges\", \"lemons\"]\n",
    "while len(basket)>0:\n",
    "    item = basket.pop()\n",
    "    if item == \"bananas\":\n",
    "        continue\n",
    "    print(basket)\n",
    "    print(f\"There are {len(basket)} items left. You ate {item}\")"
   ]
  },
  {
   "cell_type": "code",
   "execution_count": 74,
   "metadata": {
    "pycharm": {
     "name": "#%%\n"
    },
    "scrolled": true
   },
   "outputs": [
    {
     "name": "stdout",
     "output_type": "stream",
     "text": [
      "['apples', 'bananas', 'oranges']\n",
      "There are 3 items left. You ate lemons\n",
      "['apples', 'bananas']\n",
      "There are 2 items left. You ate oranges\n"
     ]
    }
   ],
   "source": [
    "basket = [\"apples\", \"bananas\", \"oranges\", \"lemons\"]\n",
    "while len(basket)>0:\n",
    "    item = basket.pop()\n",
    "    if item == \"bananas\":\n",
    "        break\n",
    "    print(basket)\n",
    "    print(f\"There are {len(basket)} items left. You ate {item}\")"
   ]
  },
  {
   "cell_type": "code",
   "execution_count": 77,
   "metadata": {},
   "outputs": [
    {
     "name": "stdout",
     "output_type": "stream",
     "text": [
      "in the loop a is 2\n",
      "in the loop a is 4\n",
      "in the loop a is 8\n",
      "in the loop a is 16\n",
      "in the loop a is 32\n",
      "in the loop a is 64\n",
      "in the loop a is 128\n",
      "in the loop a is 256\n",
      "in the loop a is 512\n",
      "in the loop a is 1024\n",
      "out of the loop\n"
     ]
    }
   ],
   "source": [
    "a=1\n",
    "while True:\n",
    "   a*=2\n",
    "   print(f\"in the loop a is {a}\")\n",
    "   if a > 1000:\n",
    "        break\n",
    "print(\"out of the loop\")"
   ]
  },
  {
   "cell_type": "code",
   "execution_count": null,
   "metadata": {},
   "outputs": [],
   "source": []
  },
  {
   "cell_type": "code",
   "execution_count": 80,
   "metadata": {},
   "outputs": [
    {
     "name": "stdout",
     "output_type": "stream",
     "text": [
      "You ate apples\n",
      "You ate bananas\n"
     ]
    }
   ],
   "source": [
    "basket = [\"apples\", \"bananas\", \"oranges\", \"lemons\"]\n",
    "for item in basket:\n",
    "    if item == \"oranges\":\n",
    "        break\n",
    "    print(f\"You ate {item}\")"
   ]
  },
  {
   "cell_type": "code",
   "execution_count": null,
   "metadata": {},
   "outputs": [],
   "source": []
  },
  {
   "cell_type": "code",
   "execution_count": 81,
   "metadata": {
    "scrolled": true
   },
   "outputs": [
    {
     "name": "stdout",
     "output_type": "stream",
     "text": [
      "You ate apples\n",
      "You ate bananas\n",
      "You ate lemons\n"
     ]
    }
   ],
   "source": [
    "basket = [\"apples\", \"bananas\", \"oranges\", \"lemons\"]\n",
    "for item in basket:\n",
    "    if item == \"oranges\":\n",
    "        continue\n",
    "    print(f\"You ate {item}\")"
   ]
  },
  {
   "cell_type": "code",
   "execution_count": 84,
   "metadata": {},
   "outputs": [
    {
     "name": "stdout",
     "output_type": "stream",
     "text": [
      "0\n",
      "2\n",
      "4\n",
      "6\n",
      "8\n",
      "10\n",
      "12\n",
      "14\n",
      "16\n",
      "18\n"
     ]
    }
   ],
   "source": [
    "for i in range(20):\n",
    "    if i%2==1:\n",
    "        continue\n",
    "    print(i)"
   ]
  },
  {
   "cell_type": "markdown",
   "metadata": {},
   "source": [
    "### More for examples"
   ]
  },
  {
   "cell_type": "code",
   "execution_count": null,
   "metadata": {
    "pycharm": {
     "name": "#%%\n"
    }
   },
   "outputs": [],
   "source": [
    "# range(start:stop:step) # [start:stop(not included):step)\n",
    "\n",
    "my_range =  range(1,100)"
   ]
  },
  {
   "cell_type": "code",
   "execution_count": null,
   "metadata": {
    "pycharm": {
     "name": "#%%\n"
    }
   },
   "outputs": [],
   "source": [
    "print(my_range)"
   ]
  },
  {
   "cell_type": "code",
   "execution_count": null,
   "metadata": {
    "pycharm": {
     "name": "#%%\n"
    }
   },
   "outputs": [],
   "source": [
    "my_list = list(my_range)\n",
    "my_list"
   ]
  },
  {
   "cell_type": "code",
   "execution_count": null,
   "metadata": {
    "pycharm": {
     "name": "#%%\n"
    }
   },
   "outputs": [],
   "source": [
    "for number in my_range:\n",
    "    print(number)\n"
   ]
  },
  {
   "cell_type": "code",
   "execution_count": null,
   "metadata": {
    "pycharm": {
     "name": "#%%\n"
    }
   },
   "outputs": [],
   "source": [
    "my_range =  range(1,10)"
   ]
  },
  {
   "cell_type": "code",
   "execution_count": null,
   "metadata": {
    "pycharm": {
     "name": "#%%\n"
    }
   },
   "outputs": [],
   "source": [
    "my_range"
   ]
  },
  {
   "cell_type": "code",
   "execution_count": null,
   "metadata": {
    "pycharm": {
     "name": "#%%\n"
    }
   },
   "outputs": [],
   "source": [
    "for number in my_range:\n",
    "    print(number)"
   ]
  },
  {
   "cell_type": "code",
   "execution_count": null,
   "metadata": {
    "pycharm": {
     "name": "#%%\n"
    }
   },
   "outputs": [],
   "source": [
    "for number in my_range:\n",
    "    print(number)"
   ]
  },
  {
   "cell_type": "code",
   "execution_count": null,
   "metadata": {
    "pycharm": {
     "name": "#%%\n"
    }
   },
   "outputs": [],
   "source": [
    "print(list(range(3)))"
   ]
  },
  {
   "cell_type": "code",
   "execution_count": null,
   "metadata": {
    "pycharm": {
     "name": "#%%\n"
    }
   },
   "outputs": [],
   "source": [
    "values = [4, 10, 3, 8, -6]\n",
    "length_of_values = len(values)\n",
    "\n",
    "for i in range(length_of_values): # for i in [0, 1, 2, 3, 4]\n",
    "    print(i, values[i])"
   ]
  },
  {
   "cell_type": "code",
   "execution_count": null,
   "metadata": {
    "pycharm": {
     "name": "#%%\n"
    }
   },
   "outputs": [],
   "source": [
    "for value in values:\n",
    "    print(value)"
   ]
  },
  {
   "cell_type": "code",
   "execution_count": null,
   "metadata": {
    "pycharm": {
     "name": "#%%\n"
    }
   },
   "outputs": [],
   "source": [
    "values = [4, 10, 3, 8, -6]\n",
    "for index, value in enumerate(values):\n",
    "    if index % 2 == 0:\n",
    "        print(index, value)"
   ]
  },
  {
   "cell_type": "code",
   "execution_count": null,
   "metadata": {
    "pycharm": {
     "name": "#%%\n"
    }
   },
   "outputs": [],
   "source": [
    "values = range(11)\n",
    "for index, value in enumerate(values):\n",
    "    if index % 2 == 0:\n",
    "        print(index, value)"
   ]
  },
  {
   "cell_type": "code",
   "execution_count": null,
   "metadata": {
    "pycharm": {
     "name": "#%%\n"
    }
   },
   "outputs": [],
   "source": [
    "current_index = 0\n",
    "for value in values:\n",
    "    if current_index % 2 == 0:\n",
    "        print(current_index, value)\n",
    "    current_index += 1"
   ]
  },
  {
   "cell_type": "code",
   "execution_count": null,
   "metadata": {
    "pycharm": {
     "name": "#%%\n"
    }
   },
   "outputs": [],
   "source": [
    "values = list(range(10,20))\n",
    "print(values)\n",
    "for index, value in enumerate(values):\n",
    "    if index % 2 == 0:\n",
    "        print(index, value)"
   ]
  },
  {
   "cell_type": "code",
   "execution_count": null,
   "metadata": {
    "pycharm": {
     "name": "#%%\n"
    }
   },
   "outputs": [],
   "source": [
    "metals = ['Li', 'Na', 'K']\n",
    "weights = [6.941, 22.98976928, 39.0983]\n",
    "\n",
    "for i in range(len(metals)):\n",
    "    print(metals[i], weights[i])"
   ]
  },
  {
   "cell_type": "code",
   "execution_count": null,
   "metadata": {
    "pycharm": {
     "name": "#%%\n"
    }
   },
   "outputs": [],
   "source": [
    "my_values = zip(metals, weights)\n",
    "my_values_saved = list(zip(metals, weights))\n",
    "print(list(zip(metals, weights)))"
   ]
  },
  {
   "cell_type": "code",
   "execution_count": null,
   "metadata": {
    "pycharm": {
     "name": "#%%\n"
    }
   },
   "outputs": [],
   "source": [
    "for metal, weight in my_values:\n",
    "    print(metal, weight)"
   ]
  },
  {
   "cell_type": "code",
   "execution_count": null,
   "metadata": {
    "pycharm": {
     "name": "#%%\n"
    }
   },
   "outputs": [],
   "source": [
    "for metal, weight in my_values:\n",
    "    print(metal, weight)"
   ]
  },
  {
   "cell_type": "code",
   "execution_count": null,
   "metadata": {
    "pycharm": {
     "name": "#%%\n"
    }
   },
   "outputs": [],
   "source": [
    "for metal, weight in my_values_saved:\n",
    "    print(metal, weight)"
   ]
  },
  {
   "cell_type": "code",
   "execution_count": null,
   "metadata": {
    "pycharm": {
     "name": "#%%\n"
    }
   },
   "outputs": [],
   "source": [
    "for metal, weight in my_values_saved:\n",
    "    print(metal, weight)"
   ]
  },
  {
   "cell_type": "code",
   "execution_count": null,
   "metadata": {
    "pycharm": {
     "name": "#%%\n"
    }
   },
   "outputs": [],
   "source": [
    "indices = list(range(3))\n",
    "metals = ['Li', 'Na', 'K']\n",
    "weights = [6.941, 22.98976928, 39.0983]\n",
    "random_stuff = ['A', 'B', 'C']\n",
    "\n",
    "for index, metal, weight, random in zip(indices, metals, weights, random_stuff):\n",
    "    print(index, metal, weight, random)"
   ]
  },
  {
   "cell_type": "code",
   "execution_count": null,
   "metadata": {
    "pycharm": {
     "name": "#%%\n"
    }
   },
   "outputs": [],
   "source": [
    "elements = [\n",
    "    ['Li', 'Na', 'K'],\n",
    "    ['F', 'Cl', 'Br']\n",
    "]\n",
    "for inner_list in elements:\n",
    "#     print(inner_list)\n",
    "    for item in inner_list:\n",
    "        print(item)"
   ]
  },
  {
   "cell_type": "code",
   "execution_count": null,
   "metadata": {
    "pycharm": {
     "name": "#%%\n"
    }
   },
   "outputs": [],
   "source": [
    "\n",
    "for item in elements[1]:\n",
    "    print(item)"
   ]
  },
  {
   "cell_type": "code",
   "execution_count": null,
   "metadata": {
    "pycharm": {
     "name": "#%%\n"
    }
   },
   "outputs": [],
   "source": [
    "info = [\n",
    "    ['Isaac Newton', 1643, 1727],\n",
    "    ['Charles Darwin', 1809, 1882],\n",
    "    ['Alan Turing', 1912, 1954, 'alan@bletchley.uk']\n",
    "]\n",
    "for item in info:\n",
    "    print(len(item))"
   ]
  },
  {
   "cell_type": "code",
   "execution_count": null,
   "metadata": {
    "pycharm": {
     "name": "#%%\n"
    }
   },
   "outputs": [],
   "source": [
    "def sum_list(input_list):\n",
    "    return sum(input_list)\n",
    "\n",
    "sum_list([1, 2, 3, 45])"
   ]
  },
  {
   "cell_type": "code",
   "execution_count": null,
   "metadata": {
    "pycharm": {
     "name": "#%%\n"
    }
   },
   "outputs": [],
   "source": [
    "def avg_list(input_list):\n",
    "    return sum(input_list)/len(input_list)\n",
    "\n",
    "avg_list([1, 3, 4, 890])"
   ]
  },
  {
   "cell_type": "code",
   "execution_count": null,
   "metadata": {
    "pycharm": {
     "name": "#%%\n"
    }
   },
   "outputs": [],
   "source": [
    "def mul_list_by_2(input_list):\n",
    "    for idx, ele in enumerate(input_list):\n",
    "        input_list[idx] = input_list[idx] * 2\n",
    "\n",
    "    return input_list\n",
    "\n",
    "mul_list_by_2([1, 3, 4])"
   ]
  },
  {
   "cell_type": "code",
   "execution_count": null,
   "metadata": {
    "pycharm": {
     "name": "#%%\n"
    }
   },
   "outputs": [],
   "source": [
    "def pow(input_list, power):\n",
    "    for idx, ele in enumerate(input_list):\n",
    "        input_list[idx] = input_list[idx] ** power\n",
    "\n",
    "    return input_list\n",
    "\n",
    "pow([1, 3, 4], 3)"
   ]
  },
  {
   "cell_type": "code",
   "execution_count": null,
   "metadata": {
    "pycharm": {
     "name": "#%%\n"
    }
   },
   "outputs": [],
   "source": [
    "def remove_duplicates(input_list):\n",
    "    output_list = []\n",
    "\n",
    "    for ele in input_list:\n",
    "        if ele not in output_list:\n",
    "            output_list.append(ele)\n",
    "        else:\n",
    "            print(f'{ele} is a duplicate')\n",
    "\n",
    "    return output_list\n",
    "\n",
    "remove_duplicates([1, 2, 1, 2, 2, 4, 89, 23, 2])\n",
    "\n"
   ]
  },
  {
   "cell_type": "markdown",
   "metadata": {},
   "source": [
    "### List comprehension\n",
    "- Unique to Python\n",
    "- Three variations\n",
    "\n",
    "```python\n",
    "[ f(ele) for ele in sequence ]\n",
    "\n",
    "[ f(ele) for ele in sequence if condition ]\n",
    "\n",
    "[ f(ele) if condition else g(ele) for ele in sequence ]\n",
    "```"
   ]
  },
  {
   "cell_type": "code",
   "execution_count": null,
   "metadata": {
    "pycharm": {
     "name": "#%%\n"
    }
   },
   "outputs": [],
   "source": []
  },
  {
   "cell_type": "code",
   "execution_count": null,
   "metadata": {
    "pycharm": {
     "name": "#%%\n"
    }
   },
   "outputs": [],
   "source": []
  },
  {
   "cell_type": "code",
   "execution_count": 85,
   "metadata": {
    "pycharm": {
     "name": "#%%\n"
    }
   },
   "outputs": [],
   "source": [
    "grades = [\n",
    "    #First_Name,Last_Name,Degree,average\n",
    "    [\"John\",\"Washington\",\"graduate\",85.0],\n",
    "    [\"Robert\",\"Andrade\",\"graduate\",83.0],\n",
    "    [\"Paul\",\"Smith\",\"undergraduate\",79.5],\n",
    "    [\"Jason\",\"Delgado\",\"undergraduate\",71.5],\n",
    "    [\"Jason\",\"Thompson\",\"graduate\",71.0],\n",
    "    [\"Calvin\",\"Perez\",\"undergraduate\",73.0],\n",
    "    [\"Calvin\",\"Martinez\",\"undergraduate\",71.5],\n",
    "    [\"Billy\",\"Palmer\",\"graduate\",67.38],\n",
    "    [\"Matthew\",\"King\",\"undergraduate\",73.16],\n",
    "    [\"Debra\",\"Pratt\",\"undergraduate\",72.3]\n",
    "]"
   ]
  },
  {
   "cell_type": "code",
   "execution_count": 88,
   "metadata": {
    "pycharm": {
     "name": "#%%\n"
    },
    "scrolled": true
   },
   "outputs": [
    {
     "data": {
      "text/plain": [
       "['Washington',\n",
       " 'Andrade',\n",
       " 'Smith',\n",
       " 'Delgado',\n",
       " 'Thompson',\n",
       " 'Perez',\n",
       " 'Martinez',\n",
       " 'Palmer',\n",
       " 'King',\n",
       " 'Pratt']"
      ]
     },
     "execution_count": 88,
     "metadata": {},
     "output_type": "execute_result"
    }
   ],
   "source": [
    "# get last names\n",
    "last_names = []\n",
    "for i in range(len(grades)):\n",
    "    last_names+=[grades[i][1]]\n",
    "last_names"
   ]
  },
  {
   "cell_type": "code",
   "execution_count": 89,
   "metadata": {},
   "outputs": [
    {
     "data": {
      "text/plain": [
       "['Washington',\n",
       " 'Andrade',\n",
       " 'Smith',\n",
       " 'Delgado',\n",
       " 'Thompson',\n",
       " 'Perez',\n",
       " 'Martinez',\n",
       " 'Palmer',\n",
       " 'King',\n",
       " 'Pratt']"
      ]
     },
     "execution_count": 89,
     "metadata": {},
     "output_type": "execute_result"
    }
   ],
   "source": [
    "[v[1] for v in grades]"
   ]
  },
  {
   "cell_type": "code",
   "execution_count": 90,
   "metadata": {
    "pycharm": {
     "name": "#%%\n"
    }
   },
   "outputs": [
    {
     "data": {
      "text/plain": [
       "['Smith', 'Delgado', 'Perez', 'Martinez', 'King', 'Pratt']"
      ]
     },
     "execution_count": 90,
     "metadata": {},
     "output_type": "execute_result"
    }
   ],
   "source": [
    "# get last names of undergraduates\n",
    "[v[1] for v in grades if v[2]==\"undergraduate\"]"
   ]
  },
  {
   "cell_type": "code",
   "execution_count": 92,
   "metadata": {
    "pycharm": {
     "name": "#%%\n"
    }
   },
   "outputs": [
    {
     "data": {
      "text/plain": [
       "32453.425600000002"
      ]
     },
     "execution_count": 92,
     "metadata": {},
     "output_type": "execute_result"
    }
   ],
   "source": [
    "# get sum of squares of undergraduates grades\n",
    "def square(v):\n",
    "    return v*v\n",
    "\n",
    "sum([square(v[3]) for v in grades if v[2]==\"undergraduate\"])"
   ]
  },
  {
   "cell_type": "markdown",
   "metadata": {},
   "source": [
    "### File Handling\n",
    "\n",
    "[Python docs on open function](https://docs.python.org/3/library/functions.html#open)\n",
    "\n",
    "#### Pythonic way (i.e. the correct way)\n",
    "```python\n",
    "with open(filename, 'r') as file:\n",
    "\tfor line in file:\n",
    "\t\t# do something with line\n",
    "```\n",
    "\n",
    "alternatively (less good)\n",
    "```python\n",
    "with open(filename, 'r') as file:\n",
    "    lines = file.readlines()\n",
    "\tfor line in lines:\n",
    "\t\t# do something with line\n",
    "```\n",
    "\n",
    "### Older ways\n",
    "mirroring some other programming languages\n",
    "\n",
    "```python\n",
    "file = open(<filename>, 'r')\n",
    "line = file.readline()\n",
    "while line:\n",
    "    print(line)\n",
    "    line = file.readline()\n",
    "file.close()\n",
    "del file\n",
    "\n",
    "```"
   ]
  },
  {
   "cell_type": "code",
   "execution_count": 95,
   "metadata": {
    "pycharm": {
     "name": "#%%\n"
    }
   },
   "outputs": [
    {
     "name": "stdout",
     "output_type": "stream",
     "text": [
      "student1,94,88,86,78,94\n",
      "\n",
      "student2,88,78,80,84,80\n",
      "\n",
      "student3,84,97,85,73,76\n",
      "\n",
      "student4,72,99,72,86,82\n",
      "\n",
      "student5,71,92,71,77,91\n",
      "\n",
      "student6,89,96,77,71,76\n",
      "\n",
      "student7,97,74,65,71,87\n",
      "\n",
      "student8,90,69,67,76,70\n",
      "\n",
      "student9,81,83,100,87,92\n",
      "\n",
      "student10,87,72,70,89,69\n",
      "\n",
      "student11,72,69,69,65,91\n",
      "\n",
      "student12,78,84,76,76,83\n",
      "\n",
      "student13,86,66,70,84,97\n",
      "\n",
      "student14,85,84,97,87,88\n",
      "\n",
      "student15,67,82,82,76,81\n",
      "\n",
      "student16,98,73,72,85,77\n",
      "\n",
      "student17,74,79,87,87,94\n",
      "\n",
      "student18,69,95,94,72,94\n",
      "\n",
      "student19,76,79,69,86,72\n",
      "\n",
      "student20,95,78,81,80,85\n",
      "\n",
      "student21,91,87,96,82,74\n",
      "\n",
      "student22,66,89,67,84,84\n",
      "\n",
      "student23,69,100,72,96,85\n",
      "\n",
      "student24,66,83,87,81,85\n",
      "\n",
      "student25,95,98,97,94,75\n",
      "\n",
      "student26,78,93,71,67,94\n",
      "\n",
      "student27,80,86,70,80,78\n",
      "\n",
      "student28,89,89,94,73,66\n",
      "\n",
      "student29,90,85,75,79,72\n",
      "\n",
      "student30,65,98,94,85,67\n",
      "\n",
      "student31,79,69,88,95,74\n",
      "\n",
      "student32,78,87,79,72,66\n",
      "\n",
      "student33,67,65,99,91,97\n",
      "\n",
      "student34,93,84,97,99,73\n",
      "\n",
      "student35,76,74,84,93,76\n",
      "\n",
      "student36,67,81,85,65,93\n",
      "\n",
      "student37,97,80,100,80,65\n",
      "\n",
      "student38,84,90,66,81,94\n",
      "\n",
      "student39,78,80,71,74,79\n",
      "\n",
      "student40,81,71,73,80,89\n",
      "\n",
      "student41,86,98,77,94,67\n",
      "\n",
      "student42,84,99,93,90,87\n",
      "\n",
      "student43,97,78,75,66,94\n",
      "\n",
      "student44,68,82,87,91,69\n",
      "\n",
      "student45,83,74,99,76,95\n",
      "\n",
      "student46,96,83,79,89,71\n",
      "\n",
      "student47,70,85,94,73,74\n",
      "\n",
      "student48,99,72,92,65,87\n",
      "\n",
      "student49,78,93,99,77,85\n",
      "\n",
      "student50,96,91,76,72,66\n",
      "\n",
      "student51,94,86,77,91,96\n",
      "\n",
      "student52,79,68,81,100,67\n",
      "\n",
      "student53,97,73,91,80,78\n",
      "\n",
      "student54,88,77,74,65,91\n",
      "\n",
      "student55,94,99,85,83,99\n",
      "\n",
      "student56,89,99,97,85,98\n",
      "\n",
      "student57,90,85,90,90,76\n",
      "\n",
      "student58,78,69,67,87,69\n",
      "\n",
      "student59,79,81,98,79,97\n",
      "\n",
      "student60,98,77,83,78,80\n",
      "\n",
      "student61,90,69,76,98,67\n",
      "\n",
      "student62,71,95,90,86,72\n",
      "\n",
      "student63,88,86,88,65,88\n",
      "\n",
      "student64,86,86,94,89,71\n",
      "\n",
      "student65,66,84,87,66,75\n",
      "\n",
      "student66,71,81,73,67,92\n",
      "\n",
      "student67,99,67,72,80,75\n",
      "\n",
      "student68,87,67,80,89,79\n",
      "\n",
      "student69,86,78,98,83,94\n",
      "\n",
      "student70,99,71,97,80,83\n",
      "\n",
      "student71,84,89,90,99,85\n",
      "\n",
      "student72,94,75,80,69,78\n",
      "\n",
      "student73,82,86,68,95,86\n",
      "\n",
      "student74,76,99,78,83,87\n",
      "\n",
      "student75,71,93,77,90,91\n",
      "\n",
      "student76,92,73,77,86,84\n",
      "\n",
      "student77,84,93,69,95,86\n",
      "\n",
      "student78,80,82,78,65,80\n",
      "\n",
      "student79,88,71,72,99,100\n",
      "\n",
      "student80,88,72,95,65,82\n",
      "\n",
      "student81,90,89,88,82,95\n",
      "\n",
      "student82,74,80,92,81,69\n",
      "\n",
      "student83,77,95,96,96,72\n",
      "\n",
      "student84,77,68,95,87,69\n",
      "\n",
      "student85,92,68,65,67,78\n",
      "\n",
      "student86,91,75,77,97,95\n",
      "\n",
      "student87,92,71,98,96,96\n",
      "\n",
      "student88,88,83,70,100,73\n",
      "\n",
      "student89,79,90,65,82,80\n",
      "\n",
      "student90,91,77,93,75,89\n",
      "\n",
      "student91,83,74,81,99,70\n",
      "\n",
      "student92,79,77,70,79,75\n",
      "\n",
      "student93,66,67,88,97,71\n",
      "\n",
      "student94,76,92,67,84,75\n",
      "\n",
      "student95,91,81,92,85,99\n",
      "\n",
      "student96,98,100,74,86,86\n",
      "\n",
      "student97,97,89,89,99,100\n",
      "\n",
      "student98,74,84,95,100,77\n",
      "\n",
      "student99,76,78,67,99,71\n",
      "\n",
      "student100,86,83,79,96,76\n",
      "\n"
     ]
    }
   ],
   "source": [
    "with open(\"ex3_data.txt\", 'r') as file:\n",
    "    for line in file:\n",
    "        line=line.strip(\"\\n\")\n",
    "        print(line)"
   ]
  },
  {
   "cell_type": "code",
   "execution_count": null,
   "metadata": {
    "pycharm": {
     "name": "#%%\n"
    }
   },
   "outputs": [],
   "source": []
  },
  {
   "cell_type": "code",
   "execution_count": 8,
   "metadata": {
    "pycharm": {
     "name": "#%%\n"
    }
   },
   "outputs": [
    {
     "name": "stdout",
     "output_type": "stream",
     "text": [
      "student1,94,88,86,78,94\n",
      "\n",
      "\n",
      "\n",
      "student2,88,78,80,84,80\n",
      "\n",
      "\n",
      "\n",
      "student3,84,97,85,73,76\n",
      "\n",
      "\n",
      "\n",
      "student4,72,99,72,86,82\n",
      "\n",
      "\n",
      "\n",
      "student5,71,92,71,77,91\n",
      "\n",
      "\n",
      "\n",
      "student6,89,96,77,71,76\n",
      "\n",
      "\n",
      "\n",
      "student7,97,74,65,71,87\n",
      "\n",
      "\n",
      "\n",
      "student8,90,69,67,76,70\n",
      "\n",
      "\n",
      "\n",
      "student9,81,83,100,87,92\n",
      "\n",
      "\n",
      "\n",
      "student10,87,72,70,89,69\n",
      "\n",
      "\n",
      "\n",
      "student11,72,69,69,65,91\n",
      "\n",
      "\n",
      "\n",
      "student12,78,84,76,76,83\n",
      "\n",
      "\n",
      "\n",
      "student13,86,66,70,84,97\n",
      "\n",
      "\n",
      "\n",
      "student14,85,84,97,87,88\n",
      "\n",
      "\n",
      "\n",
      "student15,67,82,82,76,81\n",
      "\n",
      "\n",
      "\n",
      "student16,98,73,72,85,77\n",
      "\n",
      "\n",
      "\n",
      "student17,74,79,87,87,94\n",
      "\n",
      "\n",
      "\n",
      "student18,69,95,94,72,94\n",
      "\n",
      "\n",
      "\n",
      "student19,76,79,69,86,72\n",
      "\n",
      "\n",
      "\n",
      "student20,95,78,81,80,85\n",
      "\n",
      "\n",
      "\n",
      "student21,91,87,96,82,74\n",
      "\n",
      "\n",
      "\n",
      "student22,66,89,67,84,84\n",
      "\n",
      "\n",
      "\n",
      "student23,69,100,72,96,85\n",
      "\n",
      "\n",
      "\n",
      "student24,66,83,87,81,85\n",
      "\n",
      "\n",
      "\n",
      "student25,95,98,97,94,75\n",
      "\n",
      "\n",
      "\n",
      "student26,78,93,71,67,94\n",
      "\n",
      "\n",
      "\n",
      "student27,80,86,70,80,78\n",
      "\n",
      "\n",
      "\n",
      "student28,89,89,94,73,66\n",
      "\n",
      "\n",
      "\n",
      "student29,90,85,75,79,72\n",
      "\n",
      "\n",
      "\n",
      "student30,65,98,94,85,67\n",
      "\n",
      "\n",
      "\n",
      "student31,79,69,88,95,74\n",
      "\n",
      "\n",
      "\n",
      "student32,78,87,79,72,66\n",
      "\n",
      "\n",
      "\n",
      "student33,67,65,99,91,97\n",
      "\n",
      "\n",
      "\n",
      "student34,93,84,97,99,73\n",
      "\n",
      "\n",
      "\n",
      "student35,76,74,84,93,76\n",
      "\n",
      "\n",
      "\n",
      "student36,67,81,85,65,93\n",
      "\n",
      "\n",
      "\n",
      "student37,97,80,100,80,65\n",
      "\n",
      "\n",
      "\n",
      "student38,84,90,66,81,94\n",
      "\n",
      "\n",
      "\n",
      "student39,78,80,71,74,79\n",
      "\n",
      "\n",
      "\n",
      "student40,81,71,73,80,89\n",
      "\n",
      "\n",
      "\n",
      "student41,86,98,77,94,67\n",
      "\n",
      "\n",
      "\n",
      "student42,84,99,93,90,87\n",
      "\n",
      "\n",
      "\n",
      "student43,97,78,75,66,94\n",
      "\n",
      "\n",
      "\n",
      "student44,68,82,87,91,69\n",
      "\n",
      "\n",
      "\n",
      "student45,83,74,99,76,95\n",
      "\n",
      "\n",
      "\n",
      "student46,96,83,79,89,71\n",
      "\n",
      "\n",
      "\n",
      "student47,70,85,94,73,74\n",
      "\n",
      "\n",
      "\n",
      "student48,99,72,92,65,87\n",
      "\n",
      "\n",
      "\n",
      "student49,78,93,99,77,85\n",
      "\n",
      "\n",
      "\n",
      "student50,96,91,76,72,66\n",
      "\n",
      "\n",
      "\n",
      "student51,94,86,77,91,96\n",
      "\n",
      "\n",
      "\n",
      "student52,79,68,81,100,67\n",
      "\n",
      "\n",
      "\n",
      "student53,97,73,91,80,78\n",
      "\n",
      "\n",
      "\n",
      "student54,88,77,74,65,91\n",
      "\n",
      "\n",
      "\n",
      "student55,94,99,85,83,99\n",
      "\n",
      "\n",
      "\n",
      "student56,89,99,97,85,98\n",
      "\n",
      "\n",
      "\n",
      "student57,90,85,90,90,76\n",
      "\n",
      "\n",
      "\n",
      "student58,78,69,67,87,69\n",
      "\n",
      "\n",
      "\n",
      "student59,79,81,98,79,97\n",
      "\n",
      "\n",
      "\n",
      "student60,98,77,83,78,80\n",
      "\n",
      "\n",
      "\n",
      "student61,90,69,76,98,67\n",
      "\n",
      "\n",
      "\n",
      "student62,71,95,90,86,72\n",
      "\n",
      "\n",
      "\n",
      "student63,88,86,88,65,88\n",
      "\n",
      "\n",
      "\n",
      "student64,86,86,94,89,71\n",
      "\n",
      "\n",
      "\n",
      "student65,66,84,87,66,75\n",
      "\n",
      "\n",
      "\n",
      "student66,71,81,73,67,92\n",
      "\n",
      "\n",
      "\n",
      "student67,99,67,72,80,75\n",
      "\n",
      "\n",
      "\n",
      "student68,87,67,80,89,79\n",
      "\n",
      "\n",
      "\n",
      "student69,86,78,98,83,94\n",
      "\n",
      "\n",
      "\n",
      "student70,99,71,97,80,83\n",
      "\n",
      "\n",
      "\n",
      "student71,84,89,90,99,85\n",
      "\n",
      "\n",
      "\n",
      "student72,94,75,80,69,78\n",
      "\n",
      "\n",
      "\n",
      "student73,82,86,68,95,86\n",
      "\n",
      "\n",
      "\n",
      "student74,76,99,78,83,87\n",
      "\n",
      "\n",
      "\n",
      "student75,71,93,77,90,91\n",
      "\n",
      "\n",
      "\n",
      "student76,92,73,77,86,84\n",
      "\n",
      "\n",
      "\n",
      "student77,84,93,69,95,86\n",
      "\n",
      "\n",
      "\n",
      "student78,80,82,78,65,80\n",
      "\n",
      "\n",
      "\n",
      "student79,88,71,72,99,100\n",
      "\n",
      "\n",
      "\n",
      "student80,88,72,95,65,82\n",
      "\n",
      "\n",
      "\n",
      "student81,90,89,88,82,95\n",
      "\n",
      "\n",
      "\n",
      "student82,74,80,92,81,69\n",
      "\n",
      "\n",
      "\n",
      "student83,77,95,96,96,72\n",
      "\n",
      "\n",
      "\n",
      "student84,77,68,95,87,69\n",
      "\n",
      "\n",
      "\n",
      "student85,92,68,65,67,78\n",
      "\n",
      "\n",
      "\n",
      "student86,91,75,77,97,95\n",
      "\n",
      "\n",
      "\n",
      "student87,92,71,98,96,96\n",
      "\n",
      "\n",
      "\n",
      "student88,88,83,70,100,73\n",
      "\n",
      "\n",
      "\n",
      "student89,79,90,65,82,80\n",
      "\n",
      "\n",
      "\n",
      "student90,91,77,93,75,89\n",
      "\n",
      "\n",
      "\n",
      "student91,83,74,81,99,70\n",
      "\n",
      "\n",
      "\n",
      "student92,79,77,70,79,75\n",
      "\n",
      "\n",
      "\n",
      "student93,66,67,88,97,71\n",
      "\n",
      "\n",
      "\n",
      "student94,76,92,67,84,75\n",
      "\n",
      "\n",
      "\n",
      "student95,91,81,92,85,99\n",
      "\n",
      "\n",
      "\n",
      "student96,98,100,74,86,86\n",
      "\n",
      "\n",
      "\n",
      "student97,97,89,89,99,100\n",
      "\n",
      "\n",
      "\n",
      "student98,74,84,95,100,77\n",
      "\n",
      "\n",
      "\n",
      "student99,76,78,67,99,71\n",
      "\n",
      "\n",
      "\n",
      "student100,86,83,79,96,76\n",
      "\n",
      "\n",
      "\n"
     ]
    }
   ],
   "source": []
  },
  {
   "cell_type": "markdown",
   "metadata": {
    "pycharm": {
     "name": "#%% md\n"
    }
   },
   "source": [
    "## Exercises"
   ]
  },
  {
   "cell_type": "code",
   "execution_count": null,
   "metadata": {
    "pycharm": {
     "name": "#%%\n"
    }
   },
   "outputs": [],
   "source": []
  },
  {
   "cell_type": "code",
   "execution_count": 97,
   "metadata": {
    "pycharm": {
     "name": "#%%\n"
    }
   },
   "outputs": [
    {
     "data": {
      "text/plain": [
       "3"
      ]
     },
     "execution_count": 97,
     "metadata": {},
     "output_type": "execute_result"
    }
   ],
   "source": [
    "###############################################################\n",
    "# for_ex1.py\n",
    "# Write a function that takes in a list of values and returns its sum\n",
    "def my_sum(x):\n",
    "    m_sum=0\n",
    "    for v in x:\n",
    "        m_sum+=v\n",
    "    return m_sum\n",
    "    \n",
    "    \n",
    "my_sum([0,1,2])"
   ]
  },
  {
   "cell_type": "code",
   "execution_count": 98,
   "metadata": {
    "pycharm": {
     "name": "#%%\n"
    }
   },
   "outputs": [
    {
     "data": {
      "text/plain": [
       "1.0"
      ]
     },
     "execution_count": 98,
     "metadata": {},
     "output_type": "execute_result"
    }
   ],
   "source": [
    "###############################################################\n",
    "# for_ex2.py\n",
    "# Write a function that takes in a list of values and returns its average\n",
    "def my_ave(x):\n",
    "    return my_sum(x)/len(x)\n",
    "\n",
    "my_ave([0,1,2])"
   ]
  },
  {
   "cell_type": "code",
   "execution_count": null,
   "metadata": {
    "pycharm": {
     "name": "#%%\n"
    }
   },
   "outputs": [],
   "source": [
    "##################################################################\n",
    "# for_ex3.py\n",
    "# Instead of using a for loop as in ex2, use sum() and len() to calculate the average"
   ]
  },
  {
   "cell_type": "code",
   "execution_count": 2,
   "metadata": {
    "pycharm": {
     "name": "#%%\n"
    }
   },
   "outputs": [
    {
     "data": {
      "text/plain": [
       "True"
      ]
     },
     "execution_count": 2,
     "metadata": {},
     "output_type": "execute_result"
    }
   ],
   "source": [
    "##################################################################\n",
    "# for_ex4.py\n",
    "# Write a function that multiplies the elements of the list and returns them\n",
    "\n",
    "def multiply(x):\n",
    "    product = 1.0\n",
    "    for elem in x:\n",
    "        product*=elem\n",
    "    return product\n",
    "\n",
    "multiply([1,2,3])==6"
   ]
  },
  {
   "cell_type": "code",
   "execution_count": 7,
   "metadata": {},
   "outputs": [
    {
     "name": "stdout",
     "output_type": "stream",
     "text": [
      "<class 'tuple'>\n",
      "(1, 2, 3)\n"
     ]
    },
    {
     "data": {
      "text/plain": [
       "6.0"
      ]
     },
     "execution_count": 7,
     "metadata": {},
     "output_type": "execute_result"
    }
   ],
   "source": [
    "def multiply2(*x):\n",
    "    print(type(x))\n",
    "    print(x)\n",
    "    product = 1.0\n",
    "    for elem in x:\n",
    "        product*=elem\n",
    "    return product\n",
    "multiply2(1,2,3)"
   ]
  },
  {
   "cell_type": "code",
   "execution_count": null,
   "metadata": {
    "pycharm": {
     "name": "#%%\n"
    }
   },
   "outputs": [],
   "source": [
    "##################################################################\n",
    "# for_ex5.py\n",
    "# Write a pow() function that computes the power of each element in a list"
   ]
  },
  {
   "cell_type": "code",
   "execution_count": null,
   "metadata": {
    "pycharm": {
     "name": "#%%\n"
    }
   },
   "outputs": [],
   "source": [
    "##################################################################\n",
    "# for_ex6.py\n",
    "# Write a function to remove duplicate from a list"
   ]
  },
  {
   "cell_type": "code",
   "execution_count": 19,
   "metadata": {
    "pycharm": {
     "name": "#%%\n"
    }
   },
   "outputs": [
    {
     "name": "stdout",
     "output_type": "stream",
     "text": [
      "The average is 85.0\n"
     ]
    }
   ],
   "source": [
    "##################################################################\n",
    "# for_ex7.py\n",
    "# Write a function that reads grades from an input file and calculates their average\n",
    "# input: filename\n",
    "# use: ex7_data1.txt\n",
    "# use: ex7_data2.txt\n",
    "# use: ex7_data3.txt\n",
    "# use a list to read the values in to and then use sum and len to calclate average.\n",
    "# Be careful about empty rows!\n",
    "# Be careful about non-numbers!\n",
    "count=0\n",
    "m_sum=0\n",
    "with open(\"ex3_data2.txt\") as file:\n",
    "    for line in file:\n",
    "        line=line.strip()\n",
    "        if line=='':\n",
    "            continue\n",
    "        for field in line.split(\",\")[1:]:\n",
    "            m_sum+=int(field)\n",
    "            count+=1\n",
    "    average = m_sum/count\n",
    "    print(f'The average is {average}')\n"
   ]
  },
  {
   "cell_type": "code",
   "execution_count": null,
   "metadata": {
    "pycharm": {
     "name": "#%%\n"
    }
   },
   "outputs": [],
   "source": [
    "# ##################################################################\n",
    "# for_ex8.py\n",
    "# Write a function simulates a coin toss\n",
    "# Input: number of simulation\n",
    "# Output: a string that concatenates the results, ex. 'HHHTTTHTHTHT'"
   ]
  },
  {
   "cell_type": "code",
   "execution_count": null,
   "metadata": {
    "pycharm": {
     "name": "#%%\n"
    }
   },
   "outputs": [],
   "source": [
    "##################################################################\n",
    "# for_ex9.py\n",
    "# Write a function that uses the output from the coin_toss function and calculates the probablity of H and T\n",
    "# Input: number of simulation\n",
    "# Output: probabily of H and T"
   ]
  },
  {
   "cell_type": "code",
   "execution_count": null,
   "metadata": {
    "pycharm": {
     "name": "#%%\n"
    }
   },
   "outputs": [],
   "source": [
    "##################################################################\n",
    "# for_ex10.py\n",
    "# Write a function that simultes coin_toss_probablity for a given number of times and calculates the average of H and T\n",
    "# Input: number of simuations\n",
    "# Input: number of coin tosses\n",
    "# Output: average probability"
   ]
  },
  {
   "cell_type": "code",
   "execution_count": null,
   "metadata": {
    "pycharm": {
     "name": "#%%\n"
    }
   },
   "outputs": [],
   "source": [
    "##################################################################\n",
    "# for_ex11.py\n",
    "# Write a function that reads a file in which each line has multiple student grades and calculates the student average grade\n",
    "# Print average of each student on screen\n",
    "# Use list comprehension to convert grades to int\n",
    "# use: for_ex11_data.txt"
   ]
  },
  {
   "cell_type": "code",
   "execution_count": 30,
   "metadata": {
    "pycharm": {
     "name": "#%%\n"
    }
   },
   "outputs": [],
   "source": [
    "##################################################################\n",
    "# for_ex12.py\n",
    "# Write a function that generates a given number of students with a given number of grades and saves them to a file\n",
    "# inputs: output_filename, number_of_students, number_of_tests, test_score_range(low, high)\n",
    "# example output:\n",
    "# student1,93,78,82,83,65\n",
    "# student2,86,76,85,86,65\n",
    "# student3,70,98,88,80,93\n",
    "# student4,89,68,81,80,76\n",
    "# student5,99,67,100,83,68\n",
    "# student6,75,77,69,72,76\n",
    "# student7,67,93,90,92,66\n",
    "# student8,89,83,90,97,91\n",
    "# student9,92,84,75,92,92\n",
    "# student10,65,89,80,68,89\n",
    "\n",
    "def generate_students_grades(filename, n_students,n_grades,test_score_range):\n",
    "    import random\n",
    "    with open(filename,\"w\") as file:\n",
    "        for i in range(n_students):\n",
    "            print(f\"student{i+1},\" + \",\".join([str(random.randint(*test_score_range)) for i in range(n_grades)]),file=file)\n",
    "    #\n",
    "    #    file.write(\"student\")\n",
    "    \n",
    "generate_students_grades(\"ex12.dat\",5,3,(0,100))"
   ]
  }
 ],
 "metadata": {
  "kernelspec": {
   "display_name": "Python 3 (ipykernel)",
   "language": "python",
   "name": "python3"
  },
  "language_info": {
   "codemirror_mode": {
    "name": "ipython",
    "version": 3
   },
   "file_extension": ".py",
   "mimetype": "text/x-python",
   "name": "python",
   "nbconvert_exporter": "python",
   "pygments_lexer": "ipython3",
   "version": "3.8.10"
  }
 },
 "nbformat": 4,
 "nbformat_minor": 4
}