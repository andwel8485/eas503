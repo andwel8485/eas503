{
 "cells": [
  {
   "cell_type": "markdown",
   "metadata": {},
   "source": [
    "### You have to submit homework multiple times and check the error messages, fix them and submit again!"
   ]
  },
  {
   "cell_type": "code",
   "execution_count": 17,
   "metadata": {},
   "outputs": [
    {
     "name": "stdout",
     "output_type": "stream",
     "text": [
      "The value is:     1.0000.\n"
     ]
    }
   ],
   "source": [
    "def f_string_exercise2(value):\n",
    "    \"\"\"\n",
    "    You must use f-string formatting to get the output shown in the next cell. This is reverse engineering problem.\n",
    "    Start at the output and figure out how to use f-string format specifiers to get the desired output.\n",
    "    \"\"\"\n",
    "    print(f'The value is:{value:11.4f}.')\n",
    "\n",
    "f_string_exercise2(1)"
   ]
  },
  {
   "cell_type": "code",
   "execution_count": 15,
   "metadata": {},
   "outputs": [],
   "source": [
    "from unittest.mock import patch\n",
    "with patch('__main__.print') as mock_print:\n",
    "    value = 3.14159\n",
    "    f_string_exercise2(value)\n",
    "mock_print.assert_called_once_with('The value is:     3.1416.')"
   ]
  },
  {
   "cell_type": "code",
   "execution_count": 18,
   "metadata": {},
   "outputs": [],
   "source": [
    "# Hidden test for f_string_exercise2\n",
    "\n",
    "### BEGIN HIDDEN TESTS\n",
    "from unittest.mock import patch\n",
    "with patch('__main__.print') as mock_print:\n",
    "    value = 11.61803398875\n",
    "    f_string_exercise2(value)\n",
    "mock_print.assert_called_once_with('The value is:    11.6180.')\n",
    "### END HIDDEN TESTS"
   ]
  },
  {
   "cell_type": "code",
   "execution_count": 19,
   "metadata": {
    "pycharm": {
     "name": "#%%\n"
    }
   },
   "outputs": [
    {
     "data": {
      "text/plain": [
       "'F'"
      ]
     },
     "execution_count": 19,
     "metadata": {},
     "output_type": "execute_result"
    }
   ],
   "source": [
    "def convert_quiz_score_to_letter_grade(score):\n",
    "    # A certain CS professor gives five-point quizzes that are graded on the scale 5-A, 4-B, 3-C, 2-D, 1-F, 0-F.\n",
    "    # Complete this function which accepts a quiz score as an input and uses a decision structure to calculate the corresponding\n",
    "    # grade.\n",
    "    # YOUR CODE HERE\n",
    "    if score == 0:\n",
    "        return 'F'\n",
    "    elif score == 1:\n",
    "        return('F')\n",
    "    elif score == 2:\n",
    "        return('D')\n",
    "    elif score == 3:\n",
    "        return('C')\n",
    "    elif score == 4:\n",
    "        return('B')\n",
    "    elif score == 5:\n",
    "        return('A')\n",
    "convert_quiz_score_to_letter_grade(0)"
   ]
  },
  {
   "cell_type": "code",
   "execution_count": 21,
   "metadata": {
    "pycharm": {
     "name": "#%%\n"
    }
   },
   "outputs": [],
   "source": [
    "# Test cell  for convert_quiz_score_to_letter_grade\n",
    "assert convert_quiz_score_to_letter_grade(0) == \"F\"\n",
    "assert convert_quiz_score_to_letter_grade(1) == \"F\"\n",
    "assert convert_quiz_score_to_letter_grade(2) == \"D\"\n",
    "assert convert_quiz_score_to_letter_grade(3) == \"C\"\n",
    "assert convert_quiz_score_to_letter_grade(4) == \"B\"\n",
    "assert convert_quiz_score_to_letter_grade(5) == \"A\""
   ]
  },
  {
   "cell_type": "code",
   "execution_count": 20,
   "metadata": {
    "pycharm": {
     "name": "#%%\n"
    }
   },
   "outputs": [],
   "source": [
    "def convert_quiz_score_to_letter_grade(score):\n",
    "    Grades = 'FFDCBA'\n",
    "    return Grades[score]"
   ]
  },
  {
   "cell_type": "code",
   "execution_count": 26,
   "metadata": {},
   "outputs": [],
   "source": [
    "def total_wages_for_the_week(hours, wage):\n",
    "    # Many companies pay time-and-a-half for any hours worked above 40 in a given week.\n",
    "    # Complete this function whose inputs are hours worked (hours) and the hourly rate (wage) to\n",
    "    # calculate the total wages for the week. \n",
    "    # YOUR CODE HERE\n",
    "    if hours > 40:\n",
    "        return 40*wage+(hours-40)*wage*1.5\n",
    "    else:\n",
    "        return hours*wage\n",
    "    \n",
    "# test\n",
    "assert total_wages_for_the_week(50,1)==40+15\n",
    "assert total_wages_for_the_week(10,1)==10"
   ]
  },
  {
   "cell_type": "code",
   "execution_count": null,
   "metadata": {},
   "outputs": [],
   "source": []
  },
  {
   "cell_type": "code",
   "execution_count": 40,
   "metadata": {},
   "outputs": [],
   "source": [
    "def area_of_a_rectangular_room(length, width):\n",
    "    \"\"\"\n",
    "    This function takes in the length and width in feet. \n",
    "    Complete this function to PRINT the expected output. \n",
    "    Use formula -- m^2 = f^2 * 0.09290304 to convert feet^2 to meter^2\n",
    "    \n",
    "    If length = 15 and width = 20\n",
    "    \n",
    "    Expected output:\n",
    "    \n",
    "    The length of the room in feet is 15.\n",
    "    The width of the room in feet is 20.\n",
    "    The dimension of the room is 15 by 20 feet.\n",
    "    The area is\n",
    "    300 square feet\n",
    "    27.87 square meters\n",
    "\n",
    "    - Use f-string\n",
    "    \"\"\"\n",
    "    import math\n",
    "    print(f'The length of the room in feet is {length}.\\n'\n",
    "          f'The width of the room in feet is {width}.\\n'\n",
    "          f'The dimension of the room is {length} by {width} feet.\\n'\n",
    "          f'The area is\\n'+ f'{length*width} square feet\\n'\n",
    "          f'{round(length*width*0.09290304,2)} square meters')\n",
    "    "
   ]
  },
  {
   "cell_type": "code",
   "execution_count": 48,
   "metadata": {},
   "outputs": [],
   "source": [
    "def area_of_a_rectangular_room(length, width):\n",
    "    \"\"\"\n",
    "    This function takes in the length and width in feet. \n",
    "    Complete this function to PRINT the expected output. \n",
    "    Use formula -- m^2 = f^2 * 0.09290304 to convert feet^2 to meter^2\n",
    "    \n",
    "    If length = 15 and width = 20\n",
    "    \n",
    "    Expected output:\n",
    "    \n",
    "    The length of the room in feet is 15.\n",
    "    The width of the room in feet is 20.\n",
    "    The dimension of the room is 15 by 20 feet.\n",
    "    The area is\n",
    "    300 square feet\n",
    "    27.87 square meters\n",
    "\n",
    "    - Use f-string\n",
    "    \"\"\"\n",
    "    import math\n",
    "    print(f'''The length of the room in feet is {length}.\n",
    "The width of the room in feet is {width}.\n",
    "The dimension of the room is {length} by {width} feet.\n",
    "The area is\n",
    "{length*width} square feet\n",
    "{round(length*width*0.09290304,2)} square meters''')\n",
    "    return\n"
   ]
  },
  {
   "cell_type": "code",
   "execution_count": 49,
   "metadata": {},
   "outputs": [],
   "source": [
    "from unittest.mock import patch\n",
    "with patch('__main__.print') as mock_print:\n",
    "    area_of_a_rectangular_room(45, 35)\n",
    "mock_print.assert_called_once_with(\"\"\"The length of the room in feet is 45.\n",
    "The width of the room in feet is 35.\n",
    "The dimension of the room is 45 by 35 feet.\n",
    "The area is\n",
    "1575 square feet\n",
    "146.32 square meters\"\"\")"
   ]
  },
  {
   "cell_type": "markdown",
   "metadata": {
    "pycharm": {
     "name": "#%% md\n"
    }
   },
   "source": [
    "```\n",
    "'The length of the room in feet is 45.\\nThe width of the room in feet is 35.\\nThe dimension of the room is 45 by 35 feet.\\nThe area is\\n1575 square feet\\n146.32 square meters')\n",
    "'The length of the room in feet is 45.\\nThe width of the room in feet is 35.\\nThe dimension of the room is 45 by 35 feet.\\nThe area is \\n1575 square feet\\n146.32 square meters')\n",
    "```"
   ]
  },
  {
   "cell_type": "code",
   "execution_count": null,
   "outputs": [],
   "source": [],
   "metadata": {
    "collapsed": false,
    "pycharm": {
     "name": "#%%\n"
    }
   }
  },
  {
   "cell_type": "code",
   "execution_count": null,
   "outputs": [],
   "source": [],
   "metadata": {
    "collapsed": false,
    "pycharm": {
     "name": "#%%\n"
    }
   }
  },
  {
   "cell_type": "code",
   "execution_count": null,
   "outputs": [],
   "source": [],
   "metadata": {
    "collapsed": false,
    "pycharm": {
     "name": "#%%\n"
    }
   }
  },
  {
   "cell_type": "code",
   "execution_count": null,
   "outputs": [],
   "source": [],
   "metadata": {
    "collapsed": false,
    "pycharm": {
     "name": "#%%\n"
    }
   }
  }
 ],
 "metadata": {
  "kernelspec": {
   "display_name": "Python 3 (ipykernel)",
   "language": "python",
   "name": "python3"
  },
  "language_info": {
   "codemirror_mode": {
    "name": "ipython",
    "version": 3
   },
   "file_extension": ".py",
   "mimetype": "text/x-python",
   "name": "python",
   "nbconvert_exporter": "python",
   "pygments_lexer": "ipython3",
   "version": "3.8.10"
  }
 },
 "nbformat": 4,
 "nbformat_minor": 1
}