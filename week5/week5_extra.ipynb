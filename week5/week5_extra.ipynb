{
 "cells": [
  {
   "cell_type": "code",
   "execution_count": null,
   "metadata": {
    "collapsed": true
   },
   "outputs": [],
   "source": [
    "def print_value(value):\n",
    "    \"\"\"\n",
    "    You must use f-string formatting to get the output shown in the next cell. This is reverse engineering problem.\n",
    "    Start at the output and figure out how to use f-string format specifiers to get the desired output.\n",
    "    \"\"\"\n",
    "    value=3.14159\n",
    "    print(f'The value is:     {value}.')"
   ]
  },
  {
   "cell_type": "code",
   "execution_count": null,
   "outputs": [],
   "source": [
    "def convert_quiz_score_to_letter_grade(score):\n",
    "    # A certain CS professor gives five-point quizzes that are graded on the scale 5-A, 4-B, 3-C, 2-D, 1-F, 0-F.\n",
    "    # Complete this function which accepts a quiz score as an input and uses a decision structure to calculate the corresponding\n",
    "    # grade.\n",
    "    # YOUR CODE HERE\n",
    "    if score == 0:\n",
    "        return 'F'\n",
    "    elif score == 1:\n",
    "        return 'F'\n",
    "    elif score == 2:\n",
    "        return 'D'\n",
    "    elif score == 3:\n",
    "        return 'C'\n",
    "    elif score == 4:\n",
    "        return 'B'\n",
    "    elif score == 5:\n",
    "        return 'A'\n",
    "convert_quiz_score_to_letter_grade(0)"
   ],
   "metadata": {
    "collapsed": false,
    "pycharm": {
     "name": "#%%\n"
    }
   }
  },
  {
   "cell_type": "code",
   "execution_count": null,
   "outputs": [],
   "source": [
    "# Test cell  for convert_quiz_score_to_letter_grade\n",
    "assert convert_quiz_score_to_letter_grade(0) == \"F\"\n",
    "assert convert_quiz_score_to_letter_grade(1) == \"F\"\n",
    "assert convert_quiz_score_to_letter_grade(2) == \"D\"\n",
    "assert convert_quiz_score_to_letter_grade(3) == \"C\"\n",
    "assert convert_quiz_score_to_letter_grade(4) == \"B\"\n",
    "assert convert_quiz_score_to_letter_grade(5) == \"A\""
   ],
   "metadata": {
    "collapsed": false,
    "pycharm": {
     "name": "#%%\n"
    }
   }
  },
  {
   "cell_type": "code",
   "execution_count": null,
   "outputs": [],
   "source": [
    "def convert_quiz_score_to_letter_grade(score):\n",
    "    Grades = 'FFDCBA'\n",
    "    return Grades[score]"
   ],
   "metadata": {
    "collapsed": false,
    "pycharm": {
     "name": "#%%\n"
    }
   }
  },
  {
   "cell_type": "code",
   "execution_count": null,
   "outputs": [],
   "source": [],
   "metadata": {
    "collapsed": false,
    "pycharm": {
     "name": "#%%\n"
    }
   }
  }
 ],
 "metadata": {
  "kernelspec": {
   "display_name": "Python 3",
   "language": "python",
   "name": "python3"
  },
  "language_info": {
   "codemirror_mode": {
    "name": "ipython",
    "version": 2
   },
   "file_extension": ".py",
   "mimetype": "text/x-python",
   "name": "python",
   "nbconvert_exporter": "python",
   "pygments_lexer": "ipython2",
   "version": "2.7.6"
  }
 },
 "nbformat": 4,
 "nbformat_minor": 0
}