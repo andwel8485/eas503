{
 "cells": [
  {
   "cell_type": "markdown",
   "metadata": {
    "pycharm": {
     "name": "#%% md\n"
    }
   },
   "source": [
    "# Week 5. Loops, List Comprehension, Sets, Dictionaries, Lambda, Filter, Map, Sorting\n",
    "\n",
    "# Recap\n",
    "## Repeating code using loops\n",
    "### for - loop\n",
    "```python\n",
    "for <element> in <sequence>:\n",
    "\t<body>\n",
    "```\n",
    "\n",
    "- The loop index variable `element` takes on each successive value in the sequence, and the statements in the body of the loop are executed once for each value.\n",
    "- For loops have a limitation -- you have to know how many times you are looping -- it is a definite loop. The number of iterations is determined when the loop starts. If you do not know how many times you will be looping, use a while loop, which is an indefinite loop that will continue to loop until its condition is no longer true.\n",
    "- Use range(start,stop,step) immutable sequence of integers from start to stop (excluding) with stride step"
   ]
  },
  {
   "cell_type": "code",
   "execution_count": null,
   "metadata": {
    "pycharm": {
     "name": "#%%\n"
    }
   },
   "outputs": [],
   "source": [
    "# loop over list\n",
    "basket = [\"apples\", \"bananas\", \"oranges\", \"lemons\"]\n",
    "for item in basket:\n",
    "    print(f\"You got {item}\")"
   ]
  },
  {
   "cell_type": "code",
   "execution_count": null,
   "metadata": {
    "pycharm": {
     "name": "#%%\n"
    }
   },
   "outputs": [],
   "source": [
    "# loop over tuple\n",
    "basket = (\"apples\", \"bananas\", \"oranges\", \"lemons\")\n",
    "for item in basket:\n",
    "    print(f\"You got {item}\")"
   ]
  },
  {
   "cell_type": "code",
   "execution_count": null,
   "metadata": {
    "pycharm": {
     "name": "#%%\n"
    }
   },
   "outputs": [],
   "source": [
    "# loop over range\n",
    "for item in range(5):\n",
    "    print(f\"You got {item}\")"
   ]
  },
  {
   "cell_type": "markdown",
   "metadata": {},
   "source": [
    "### while - loop\n",
    "```python\n",
    "while <condition>:\n",
    "\t<body>\n",
    "```"
   ]
  },
  {
   "cell_type": "code",
   "execution_count": 2,
   "metadata": {
    "pycharm": {
     "name": "#%%\n"
    }
   },
   "outputs": [
    {
     "name": "stdout",
     "output_type": "stream",
     "text": [
      "in the loop, a is 2\n",
      "in the loop, a is 4\n",
      "in the loop, a is 8\n",
      "in the loop, a is 16\n",
      "in the loop, a is 32\n",
      "in the loop, a is 64\n",
      "in the loop, a is 128\n",
      "in the loop, a is 256\n",
      "in the loop, a is 512\n",
      "in the loop, a is 1024\n",
      "out of the loop, a is 1024\n"
     ]
    }
   ],
   "source": [
    "a=1\n",
    "while a <= 1000:\n",
    "   a*=2\n",
    "   print(f\"in the loop, a is {a}\")\n",
    "print(f\"out of the loop, a is {a}\")"
   ]
  },
  {
   "cell_type": "markdown",
   "metadata": {
    "pycharm": {
     "name": "#%% md\n"
    }
   },
   "source": [
    "### Loop control\n",
    "- Loop is controlled using `break` and `continue`."
   ]
  },
  {
   "cell_type": "code",
   "execution_count": 4,
   "metadata": {
    "pycharm": {
     "name": "#%%\n"
    }
   },
   "outputs": [
    {
     "name": "stdout",
     "output_type": "stream",
     "text": [
      "You got apples\n",
      "You got bananas\n",
      "out of the loop, a is oranges\n"
     ]
    }
   ],
   "source": [
    "basket = [\"apples\", \"bananas\", \"oranges\", \"lemons\"]\n",
    "for item in basket:\n",
    "    if item == \"oranges\":\n",
    "        break\n",
    "    print(f\"You got {item}\")\n",
    "print(f\"out of the loop, a is {item}\")\n",
    "# typically <item> would be not used outside for loop"
   ]
  },
  {
   "cell_type": "code",
   "execution_count": null,
   "metadata": {
    "pycharm": {
     "name": "#%%\n"
    }
   },
   "outputs": [],
   "source": [
    "a=1\n",
    "while True:\n",
    "   a*=2\n",
    "   print(f\"in the loop, a is {a}\")\n",
    "   if a > 1000:\n",
    "        break\n",
    "print(\"out of the loop, a is {a}\")\n",
    "# <a> often used outside of while"
   ]
  },
  {
   "cell_type": "markdown",
   "metadata": {},
   "source": [
    "## List comprehension\n",
    "- Unique to Python\n",
    "- Three variations\n",
    "\n",
    "```python\n",
    "[ f(ele) for ele in sequence ]\n",
    "\n",
    "[ f(ele) for ele in sequence if condition ]\n",
    "\n",
    "[ f(ele) if condition else g(ele) for ele in sequence ]\n",
    "```"
   ]
  },
  {
   "cell_type": "code",
   "execution_count": 7,
   "metadata": {
    "pycharm": {
     "name": "#%%\n"
    }
   },
   "outputs": [],
   "source": [
    "grades = [\n",
    "    #First_Name,Last_Name,Degree,average\n",
    "    [\"John\",\"Washington\",\"graduate\",85.0],\n",
    "    [\"Robert\",\"Andrade\",\"graduate\",83.0],\n",
    "    [\"Paul\",\"Smith\",\"undergraduate\",79.5],\n",
    "    [\"Jason\",\"Delgado\",\"undergraduate\",71.5],\n",
    "]"
   ]
  },
  {
   "cell_type": "code",
   "execution_count": 8,
   "metadata": {
    "pycharm": {
     "name": "#%%\n"
    }
   },
   "outputs": [
    {
     "data": {
      "text/plain": [
       "['Washington', 'Andrade', 'Smith', 'Delgado']"
      ]
     },
     "execution_count": 8,
     "metadata": {},
     "output_type": "execute_result"
    }
   ],
   "source": [
    "# get last names\n",
    "[v[1] for v in grades]"
   ]
  },
  {
   "cell_type": "code",
   "execution_count": 9,
   "metadata": {
    "pycharm": {
     "name": "#%%\n"
    }
   },
   "outputs": [
    {
     "data": {
      "text/plain": [
       "['Smith', 'Delgado']"
      ]
     },
     "execution_count": 9,
     "metadata": {},
     "output_type": "execute_result"
    }
   ],
   "source": [
    "# get last names of undergraduates\n",
    "[v[1] for v in grades if v[2]==\"undergraduate\"]"
   ]
  },
  {
   "cell_type": "code",
   "execution_count": 10,
   "metadata": {
    "pycharm": {
     "name": "#%%\n"
    }
   },
   "outputs": [
    {
     "data": {
      "text/plain": [
       "11432.5"
      ]
     },
     "execution_count": 10,
     "metadata": {},
     "output_type": "execute_result"
    }
   ],
   "source": [
    "# get sum of squares of undergraduates grades\n",
    "def square(v):\n",
    "    return v*v\n",
    "\n",
    "sum([square(v[3]) for v in grades if v[2]==\"undergraduate\"])"
   ]
  },
  {
   "cell_type": "code",
   "execution_count": null,
   "metadata": {
    "pycharm": {
     "name": "#%%\n"
    }
   },
   "outputs": [],
   "source": [
    "# get squares"
   ]
  },
  {
   "cell_type": "markdown",
   "metadata": {},
   "source": [
    "## File Handling (Read)\n",
    "\n",
    "[Python docs on open function](https://docs.python.org/3/library/functions.html#open)\n",
    "\n",
    "#### Pythonic way (i.e. the correct way)\n",
    "```python\n",
    "with open(filename, 'r') as file:\n",
    "\tfor line in file:\n",
    "\t\t# do something with line\n",
    "```\n",
    "\n",
    "alternatively (less good)\n",
    "```python\n",
    "with open(filename, 'r') as file:\n",
    "    lines = file.readlines()\n",
    "\tfor line in lines:\n",
    "\t\t# do something with line\n",
    "```\n",
    "\n",
    "alternatively\n",
    "```python\n",
    "with open(filename, 'r') as file:\n",
    "    content = file.read()\n",
    "\n",
    "```\n",
    "\n",
    "### Older ways\n",
    "mirroring some other programming languages\n",
    "\n",
    "```python\n",
    "file = open(<filename>, 'r')\n",
    "line = file.readline()\n",
    "while line:\n",
    "    print(line)\n",
    "    line = file.readline()\n",
    "file.close()\n",
    "del file\n",
    "\n",
    "```\n",
    "\n",
    "## File Handling (Write)\n",
    "```python\n",
    "with open(filename, 'w') as file:\n",
    "\tfile.write(f\"hello world!\\n\")\n",
    "```\n",
    "\n",
    "```python\n",
    "with open(filename, 'w') as file:\n",
    "\tprint(f\"hello world!\", file=file)\n",
    "```\n",
    "\n",
    "```python\n",
    "with open(filename, 'w') as file:\n",
    "\tprint(f\"hello world!\\n\", file=file, end='')\n",
    "```"
   ]
  },
  {
   "cell_type": "code",
   "execution_count": 14,
   "metadata": {
    "pycharm": {
     "name": "#%%\n"
    }
   },
   "outputs": [],
   "source": [
    "with open(\"test.txt\", 'w') as file:\n",
    "\tfile.write(f\"hello world!\\n\")"
   ]
  },
  {
   "cell_type": "code",
   "execution_count": 15,
   "metadata": {
    "pycharm": {
     "name": "#%%\n"
    }
   },
   "outputs": [],
   "source": [
    "# print to file\n",
    "basket = [\"apples\", \"bananas\", \"oranges\", \"lemons\"]\n",
    "with open(\"test.txt\", 'w') as file:\n",
    "    print(f\"You got {item}\")"
   ]
  },
  {
   "cell_type": "markdown",
   "metadata": {},
   "source": [
    "# New\n",
    "## Sets\n",
    "- Formal mathematical sets\n",
    "- Do not have duplicate values\n",
    "- Are not ordered\n",
    "- Cannot access via index.\n",
    "- useful for doing set operations and `in` operation"
   ]
  },
  {
   "cell_type": "code",
   "execution_count": 17,
   "metadata": {
    "pycharm": {
     "name": "#%%\n"
    }
   },
   "outputs": [
    {
     "data": {
      "text/plain": [
       "{0, 2, 4, 6, 8}"
      ]
     },
     "execution_count": 17,
     "metadata": {},
     "output_type": "execute_result"
    }
   ],
   "source": [
    "A = {0, 2, 4, 6, 8}\n",
    "B = {1, 2, 3, 4, 5}\n",
    "basket = {\"apples\", \"bananas\", \"oranges\", \"lemons\"}"
   ]
  },
  {
   "cell_type": "code",
   "execution_count": null,
   "metadata": {
    "pycharm": {
     "name": "#%%\n"
    }
   },
   "outputs": [],
   "source": [
    "2 in A"
   ]
  },
  {
   "cell_type": "code",
   "execution_count": 18,
   "metadata": {
    "pycharm": {
     "name": "#%%\n"
    }
   },
   "outputs": [
    {
     "data": {
      "text/plain": [
       "True"
      ]
     },
     "execution_count": 18,
     "metadata": {},
     "output_type": "execute_result"
    }
   ],
   "source": []
  },
  {
   "cell_type": "code",
   "execution_count": null,
   "metadata": {
    "pycharm": {
     "name": "#%%\n"
    }
   },
   "outputs": [],
   "source": [
    "# union -- all values\n",
    "A | B"
   ]
  },
  {
   "cell_type": "code",
   "execution_count": null,
   "metadata": {
    "pycharm": {
     "name": "#%%\n"
    }
   },
   "outputs": [],
   "source": [
    "# intersection -- shared values\n",
    "A & B"
   ]
  },
  {
   "cell_type": "code",
   "execution_count": null,
   "metadata": {
    "pycharm": {
     "name": "#%%\n"
    }
   },
   "outputs": [],
   "source": [
    "# difference -- order matters\n",
    "A - B"
   ]
  },
  {
   "cell_type": "code",
   "execution_count": null,
   "metadata": {
    "pycharm": {
     "name": "#%%\n"
    }
   },
   "outputs": [],
   "source": [
    "B - A"
   ]
  },
  {
   "cell_type": "code",
   "execution_count": null,
   "metadata": {
    "pycharm": {
     "name": "#%%\n"
    }
   },
   "outputs": [],
   "source": [
    "# symmetric difference  https://en.wikipedia.org/wiki/Symmetric_difference\n",
    "A ^ B"
   ]
  },
  {
   "cell_type": "code",
   "execution_count": null,
   "metadata": {
    "pycharm": {
     "name": "#%%\n"
    }
   },
   "outputs": [],
   "source": [
    "# convertion\n",
    "my_list = [1, 1, 2, 3]\n",
    "my_list = list(set(my_list))"
   ]
  },
  {
   "cell_type": "code",
   "execution_count": null,
   "metadata": {
    "pycharm": {
     "name": "#%%\n"
    }
   },
   "outputs": [],
   "source": [
    "basket = {\"apples\", \"bananas\", \"oranges\", \"lemons\"}"
   ]
  },
  {
   "cell_type": "code",
   "execution_count": 19,
   "metadata": {
    "pycharm": {
     "name": "#%%\n"
    }
   },
   "outputs": [
    {
     "name": "stdout",
     "output_type": "stream",
     "text": [
      "oranges\n",
      "bananas\n",
      "apples\n",
      "lemons\n"
     ]
    }
   ],
   "source": [
    "# can we loop it?"
   ]
  },
  {
   "cell_type": "markdown",
   "metadata": {
    "pycharm": {
     "name": "#%% md\n"
    }
   },
   "source": [
    "## Dictionaries\n",
    "- limitations of list\n",
    "- list has collection of values, but no description\n",
    "- student\n",
    "  - name\n",
    "  - email\n",
    "  - id\n",
    "  - major\n",
    "- dictionary\n",
    "- key value pair\n",
    "- key is the index\n",
    "- value is the value\n",
    "- two ways to create dictionary\n",
    "- my_dict = {}\n",
    "- my_dict = dict()\n",
    "- key value are separate colons\n",
    "- key can only be string or number\n",
    "- value can be anything!\n",
    "- All information is stored like a dictionary, you supply the key and you get the value\n",
    "\n",
    "\n",
    "```\n",
    "# Dictionaries\n",
    "student\n",
    "  - name\n",
    "  - email\n",
    "  - id\n",
    "  - major\n",
    "```"
   ]
  },
  {
   "cell_type": "code",
   "execution_count": 53,
   "metadata": {
    "pycharm": {
     "name": "#%%\n"
    }
   },
   "outputs": [
    {
     "data": {
      "text/plain": [
       "{'name': 'john',\n",
       " 'email': 'john@email.com',\n",
       " 'id': 1234,\n",
       " 'major': 'Engineering',\n",
       " 123: 123,\n",
       " 1.3: 23.4,\n",
       " (123, 124): ['apple', 1, 3.4],\n",
       " ('apple', 2): 1}"
      ]
     },
     "execution_count": 53,
     "metadata": {},
     "output_type": "execute_result"
    }
   ],
   "source": [
    "# Most people use this\n",
    "my_dict = {\n",
    "    'name': 'john',\n",
    "    'email': 'john@email.com',\n",
    "    'id': 1234,\n",
    "    'major': 'Engineering',\n",
    "    123:123,\n",
    "    1.3:23.4,\n",
    "    (123,124):[\"apple\",1,3.4],\n",
    "    (\"apple\",2):1\n",
    "}\n",
    "my_dict"
   ]
  },
  {
   "cell_type": "code",
   "execution_count": 37,
   "metadata": {
    "pycharm": {
     "name": "#%%\n"
    }
   },
   "outputs": [],
   "source": [
    "# Can also do this\n",
    "my_dict2 = dict(\n",
    "    name='john',\n",
    "    email='john@email.com',\n",
    "    id=1234,\n",
    "    major='Engineering'\n",
    ")"
   ]
  },
  {
   "cell_type": "markdown",
   "metadata": {},
   "source": [
    "### Accessing Value by Key"
   ]
  },
  {
   "cell_type": "code",
   "execution_count": 38,
   "metadata": {
    "pycharm": {
     "name": "#%%\n"
    }
   },
   "outputs": [
    {
     "data": {
      "text/plain": [
       "1"
      ]
     },
     "execution_count": 38,
     "metadata": {},
     "output_type": "execute_result"
    }
   ],
   "source": [
    "# accessing value\n",
    "my_dict[(\"apple\",2)]"
   ]
  },
  {
   "cell_type": "code",
   "execution_count": 39,
   "metadata": {
    "pycharm": {
     "name": "#%%\n"
    }
   },
   "outputs": [
    {
     "data": {
      "text/plain": [
       "'john'"
      ]
     },
     "execution_count": 39,
     "metadata": {},
     "output_type": "execute_result"
    }
   ],
   "source": [
    "key = 'name'\n",
    "my_dict[key]"
   ]
  },
  {
   "cell_type": "markdown",
   "metadata": {
    "pycharm": {
     "name": "#%% md\n"
    }
   },
   "source": [
    "### Iterating over Dictionaries"
   ]
  },
  {
   "cell_type": "code",
   "execution_count": 42,
   "metadata": {},
   "outputs": [
    {
     "data": {
      "text/plain": [
       "['john',\n",
       " 'john@email.com',\n",
       " 1234,\n",
       " 'Engineering',\n",
       " 123,\n",
       " 23.4,\n",
       " ['apple', 1, 3.4],\n",
       " 1]"
      ]
     },
     "execution_count": 42,
     "metadata": {},
     "output_type": "execute_result"
    }
   ],
   "source": [
    "list(my_dict.values())"
   ]
  },
  {
   "cell_type": "code",
   "execution_count": 41,
   "metadata": {
    "pycharm": {
     "name": "#%%\n"
    }
   },
   "outputs": [
    {
     "name": "stdout",
     "output_type": "stream",
     "text": [
      "john\n",
      "john@email.com\n",
      "1234\n",
      "Engineering\n",
      "123\n",
      "23.4\n",
      "['apple', 1, 3.4]\n",
      "1\n"
     ]
    }
   ],
   "source": [
    "for value in my_dict.values():\n",
    "    print(value)"
   ]
  },
  {
   "cell_type": "code",
   "execution_count": 43,
   "metadata": {
    "pycharm": {
     "name": "#%%\n"
    }
   },
   "outputs": [
    {
     "name": "stdout",
     "output_type": "stream",
     "text": [
      "name\n",
      "email\n",
      "id\n",
      "major\n",
      "123\n",
      "1.3\n",
      "(123, 124)\n",
      "('apple', 2)\n"
     ]
    }
   ],
   "source": [
    "for key in my_dict.keys():\n",
    "    print(key)"
   ]
  },
  {
   "cell_type": "code",
   "execution_count": 45,
   "metadata": {
    "pycharm": {
     "name": "#%%\n"
    },
    "scrolled": true
   },
   "outputs": [
    {
     "name": "stdout",
     "output_type": "stream",
     "text": [
      "key is name, value is john and value is john\n",
      "key is email, value is john@email.com and value is john@email.com\n",
      "key is id, value is 1234 and value is 1234\n",
      "key is major, value is Engineering and value is Engineering\n",
      "key is 123, value is 123 and value is 123\n",
      "key is 1.3, value is 23.4 and value is 23.4\n",
      "key is (123, 124), value is ['apple', 1, 3.4] and value is ['apple', 1, 3.4]\n",
      "key is ('apple', 2), value is 1 and value is 1\n"
     ]
    }
   ],
   "source": [
    "## access both\n",
    "for key, value in my_dict.items():\n",
    "    print(f'key is {key}, value is {value} and value is {my_dict[key]}')"
   ]
  },
  {
   "cell_type": "code",
   "execution_count": 46,
   "metadata": {},
   "outputs": [
    {
     "data": {
      "text/plain": [
       "{'name': 'john',\n",
       " 'email': 'john@email.com',\n",
       " 'id': 1234,\n",
       " 'major': 'Engineering',\n",
       " 123: 123,\n",
       " 1.3: 23.4,\n",
       " (123, 124): ['apple', 1, 3.4],\n",
       " ('apple', 2): 1}"
      ]
     },
     "execution_count": 46,
     "metadata": {},
     "output_type": "execute_result"
    }
   ],
   "source": [
    "my_dict"
   ]
  },
  {
   "cell_type": "code",
   "execution_count": 49,
   "metadata": {},
   "outputs": [
    {
     "data": {
      "text/plain": [
       "{'name': 1,\n",
       " 'email': 1,\n",
       " 'id': 1,\n",
       " 'major': 1,\n",
       " 123: 1,\n",
       " 1.3: 1,\n",
       " (123, 124): 1,\n",
       " ('apple', 2): 1}"
      ]
     },
     "execution_count": 49,
     "metadata": {},
     "output_type": "execute_result"
    }
   ],
   "source": [
    "for key, value in my_dict.items():\n",
    "    my_dict[key]=1\n",
    "    value=0\n",
    "my_dict"
   ]
  },
  {
   "cell_type": "markdown",
   "metadata": {},
   "source": [
    "### test if dict contains a key"
   ]
  },
  {
   "cell_type": "code",
   "execution_count": 51,
   "metadata": {
    "pycharm": {
     "name": "#%%\n"
    }
   },
   "outputs": [
    {
     "name": "stdout",
     "output_type": "stream",
     "text": [
      "False\n"
     ]
    }
   ],
   "source": [
    "key = 'name12'\n",
    "if key in my_dict:\n",
    "    print(True)\n",
    "else:\n",
    "    print(False)"
   ]
  },
  {
   "cell_type": "code",
   "execution_count": null,
   "metadata": {
    "pycharm": {
     "name": "#%%\n"
    }
   },
   "outputs": [],
   "source": [
    "## test if dict contains a value\n",
    "# default is testing in key\n",
    "value = 'john'\n",
    "if value in my_dict.values():\n",
    "    print(True)\n",
    "else:\n",
    "    print(False)"
   ]
  },
  {
   "cell_type": "code",
   "execution_count": 54,
   "metadata": {},
   "outputs": [
    {
     "data": {
      "text/plain": [
       "{'name': 'john',\n",
       " 'email': 'john@email.com',\n",
       " 'id': 1234,\n",
       " 'major': 'Engineering',\n",
       " 123: 123,\n",
       " 1.3: 23.4,\n",
       " (123, 124): ['apple', 1, 3.4],\n",
       " ('apple', 2): 1}"
      ]
     },
     "execution_count": 54,
     "metadata": {},
     "output_type": "execute_result"
    }
   ],
   "source": [
    "my_dict"
   ]
  },
  {
   "cell_type": "code",
   "execution_count": 60,
   "metadata": {
    "pycharm": {
     "name": "#%%\n"
    }
   },
   "outputs": [],
   "source": [
    "\n",
    "\n",
    "# checking value that can be missing\n",
    "if 'Name' in my_dict and my_dict['Name']=='Bob':\n",
    "    print(my_dict['Name'])\n",
    "#if 'name' in my_dict:\n",
    "#    print(my_dict['name'])\n",
    "if my_dict.get('Name',None)=='Bob':\n",
    "    print(my_dict['Name'])"
   ]
  },
  {
   "cell_type": "markdown",
   "metadata": {
    "pycharm": {
     "name": "#%% md\n"
    }
   },
   "source": [
    "### Dictionary Methods"
   ]
  },
  {
   "cell_type": "code",
   "execution_count": 62,
   "metadata": {
    "pycharm": {
     "name": "#%%\n"
    }
   },
   "outputs": [
    {
     "data": {
      "text/plain": [
       "{}"
      ]
     },
     "execution_count": 62,
     "metadata": {},
     "output_type": "execute_result"
    }
   ],
   "source": [
    "my_dict = {\n",
    "    'name': 'john',\n",
    "    'email': 'john@email.com',\n",
    "    'id': 1234,\n",
    "    'major': 'Engineering'\n",
    "}\n",
    "my_dict.clear() ## empty dict\n",
    "my_dict"
   ]
  },
  {
   "cell_type": "code",
   "execution_count": 66,
   "metadata": {
    "pycharm": {
     "name": "#%%\n"
    }
   },
   "outputs": [
    {
     "name": "stdout",
     "output_type": "stream",
     "text": [
      "Marta\n",
      "Marta\n",
      "Kate\n"
     ]
    }
   ],
   "source": [
    "my_dict = {\n",
    "    'name': 'john',\n",
    "    'email': 'john@email.com',\n",
    "    'id': 1234,\n",
    "    'major': 'Engineering'\n",
    "}\n",
    "my_dict2 = my_dict\n",
    "my_dict2['name']='Marta'\n",
    "my_dict['name']\n",
    "my_dict3 = my_dict.copy()\n",
    "my_dict3['name']='Kate'\n",
    "print(my_dict['name'])\n",
    "print(my_dict2['name'])\n",
    "print(my_dict3['name'])\n",
    "#my_dict.copy() ## copy dict -- unique objects in memory"
   ]
  },
  {
   "cell_type": "code",
   "execution_count": 87,
   "metadata": {
    "pycharm": {
     "name": "#%%\n"
    }
   },
   "outputs": [
    {
     "data": {
      "text/plain": [
       "['email', 'id', 'major', 'name']"
      ]
     },
     "execution_count": 87,
     "metadata": {},
     "output_type": "execute_result"
    }
   ],
   "source": [
    "# check == and is; == is for values and is for memory\n",
    "my_dict = {\n",
    "    'name': 'john',\n",
    "    'email': 'john@email.com',\n",
    "    'id': 1234,\n",
    "    'major': 'Engineering'\n",
    "}\n",
    "#my_dict == my_dict.copy()\n",
    "list(sorted(my_dict.keys()))"
   ]
  },
  {
   "cell_type": "code",
   "execution_count": null,
   "metadata": {
    "pycharm": {
     "name": "#%%\n"
    }
   },
   "outputs": [],
   "source": []
  },
  {
   "cell_type": "code",
   "execution_count": 67,
   "metadata": {
    "pycharm": {
     "name": "#%%\n"
    }
   },
   "outputs": [
    {
     "data": {
      "text/plain": [
       "{'name': 'missing', 'email': 'missing', 'id': 'missing', 'major': 'missing'}"
      ]
     },
     "execution_count": 67,
     "metadata": {},
     "output_type": "execute_result"
    }
   ],
   "source": [
    "# create default dictionary with initial value\n",
    "new_student = {}.fromkeys(\n",
    "    ['name', 'email', 'id', 'major'], 'missing')\n",
    "new_student"
   ]
  },
  {
   "cell_type": "code",
   "execution_count": 68,
   "metadata": {
    "pycharm": {
     "name": "#%%\n"
    }
   },
   "outputs": [],
   "source": [
    "my_dict = {}.fromkeys(range(5), 'iammissing')"
   ]
  },
  {
   "cell_type": "code",
   "execution_count": null,
   "metadata": {
    "pycharm": {
     "name": "#%%\n"
    }
   },
   "outputs": [],
   "source": [
    "# get value by key with default value\n",
    "my_dict.get('name', None) # default"
   ]
  },
  {
   "cell_type": "code",
   "execution_count": null,
   "metadata": {
    "pycharm": {
     "name": "#%%\n"
    }
   },
   "outputs": [],
   "source": [
    "my_dict.get('name', False)"
   ]
  },
  {
   "cell_type": "code",
   "execution_count": null,
   "metadata": {
    "pycharm": {
     "name": "#%%\n"
    }
   },
   "outputs": [],
   "source": [
    "my_dict.get('name', 'defaultname')"
   ]
  },
  {
   "cell_type": "code",
   "execution_count": null,
   "metadata": {
    "pycharm": {
     "name": "#%%\n"
    }
   },
   "outputs": [],
   "source": [
    "# pop remove value using key\n",
    "my_dict.pop('name')"
   ]
  },
  {
   "cell_type": "code",
   "execution_count": 69,
   "metadata": {
    "pycharm": {
     "name": "#%%\n"
    }
   },
   "outputs": [],
   "source": [
    "# update -- way to append to dictionary\n",
    "my_dict.update({'year':2010, 'ear': 2030})"
   ]
  },
  {
   "cell_type": "code",
   "execution_count": 70,
   "metadata": {},
   "outputs": [],
   "source": [
    "student={\n",
    "    'name':None,\n",
    "    'school':'EAS'\n",
    "}"
   ]
  },
  {
   "cell_type": "code",
   "execution_count": 76,
   "metadata": {},
   "outputs": [
    {
     "data": {
      "text/plain": [
       "{'name': 'John', 'school': 'CDA', 'year': 1}"
      ]
     },
     "execution_count": 76,
     "metadata": {},
     "output_type": "execute_result"
    }
   ],
   "source": [
    "student1 = student.copy()\n",
    "student1.update({\"name\":\"John\",\"school\":\"CDA\",\"year\":1})\n",
    "student1"
   ]
  },
  {
   "cell_type": "code",
   "execution_count": null,
   "metadata": {},
   "outputs": [],
   "source": []
  },
  {
   "cell_type": "markdown",
   "metadata": {},
   "source": [
    "### Dictionary Comprehension\n",
    "\n",
    "```\n",
    "{<key:value> for <item(s)> in <sequence>}\n",
    "```"
   ]
  },
  {
   "cell_type": "code",
   "execution_count": 77,
   "metadata": {
    "pycharm": {
     "name": "#%%\n"
    }
   },
   "outputs": [
    {
     "data": {
      "text/plain": [
       "{0: 5, 1: 5, 2: 5, 3: 5, 4: 5}"
      ]
     },
     "execution_count": 77,
     "metadata": {},
     "output_type": "execute_result"
    }
   ],
   "source": [
    "my_dict = {}.fromkeys(range(5), 5)\n",
    "my_dict"
   ]
  },
  {
   "cell_type": "code",
   "execution_count": 79,
   "metadata": {
    "pycharm": {
     "name": "#%%\n"
    }
   },
   "outputs": [
    {
     "data": {
      "text/plain": [
       "{0: 0, 1: 5, 2: 10, 3: 15, 4: 20}"
      ]
     },
     "execution_count": 79,
     "metadata": {},
     "output_type": "execute_result"
    }
   ],
   "source": [
    "{key: key*value for key, value in my_dict.items()}"
   ]
  },
  {
   "cell_type": "code",
   "execution_count": 80,
   "metadata": {},
   "outputs": [
    {
     "data": {
      "text/plain": [
       "[0, 1, 4, 9, 16]"
      ]
     },
     "execution_count": 80,
     "metadata": {},
     "output_type": "execute_result"
    }
   ],
   "source": [
    "[num*num for num in range(5)]"
   ]
  },
  {
   "cell_type": "code",
   "execution_count": 83,
   "metadata": {
    "pycharm": {
     "name": "#%%\n"
    }
   },
   "outputs": [
    {
     "data": {
      "text/plain": [
       "{'Majic': 16}"
      ]
     },
     "execution_count": 83,
     "metadata": {},
     "output_type": "execute_result"
    }
   ],
   "source": [
    "{f'Majic': num*num for num in range(5)}"
   ]
  },
  {
   "cell_type": "code",
   "execution_count": 88,
   "metadata": {
    "pycharm": {
     "name": "#%%\n"
    }
   },
   "outputs": [
    {
     "data": {
      "text/plain": [
       "{'john': 95, 'jane': 99, 'doe': 98}"
      ]
     },
     "execution_count": 88,
     "metadata": {},
     "output_type": "execute_result"
    }
   ],
   "source": [
    "list1 = ['john', 'jane', 'doe']\n",
    "list2 = [95, 99, 98]\n",
    "\n",
    "{list1[i]: list2[i] for i in range(len(list1))}"
   ]
  },
  {
   "cell_type": "code",
   "execution_count": 89,
   "metadata": {
    "pycharm": {
     "name": "#%%\n"
    }
   },
   "outputs": [
    {
     "data": {
      "text/plain": [
       "{'john': 95, 'jane': 99, 'doe': 98}"
      ]
     },
     "execution_count": 89,
     "metadata": {},
     "output_type": "execute_result"
    }
   ],
   "source": [
    "dict(zip(list1,list2))"
   ]
  },
  {
   "cell_type": "code",
   "execution_count": null,
   "metadata": {},
   "outputs": [],
   "source": [
    "a = 1\n",
    "b = \"apple\" if a > 0 else \"banana\""
   ]
  },
  {
   "cell_type": "code",
   "execution_count": 90,
   "metadata": {
    "pycharm": {
     "name": "#%%\n"
    }
   },
   "outputs": [
    {
     "data": {
      "text/plain": [
       "{1: 'odd',\n",
       " 2: 'even',\n",
       " 3: 'odd',\n",
       " 4: 'even',\n",
       " 5: 'odd',\n",
       " 6: 'even',\n",
       " 7: 'odd',\n",
       " 8: 'even',\n",
       " 9: 'odd',\n",
       " 10: 'even',\n",
       " 11: 'odd',\n",
       " 12: 'even',\n",
       " 13: 'odd',\n",
       " 14: 'even',\n",
       " 15: 'odd',\n",
       " 16: 'even',\n",
       " 17: 'odd',\n",
       " 18: 'even',\n",
       " 19: 'odd'}"
      ]
     },
     "execution_count": 90,
     "metadata": {},
     "output_type": "execute_result"
    }
   ],
   "source": [
    "{num: (\"even\" if num % 2 == 0 else \"odd\") for num in range(1, 20)}"
   ]
  },
  {
   "cell_type": "code",
   "execution_count": 97,
   "metadata": {
    "pycharm": {
     "name": "#%%\n"
    }
   },
   "outputs": [
    {
     "data": {
      "text/plain": [
       "[{'first_name': 'John',\n",
       "  'last_name': 'Washington',\n",
       "  'degree': 'graduate',\n",
       "  'score': 85.0},\n",
       " {'first_name': 'Robert',\n",
       "  'last_name': 'Andrade',\n",
       "  'degree': 'graduate',\n",
       "  'score': 83.0},\n",
       " {'first_name': 'Paul',\n",
       "  'last_name': 'Smith',\n",
       "  'degree': 'undergraduate',\n",
       "  'score': 79.5},\n",
       " {'first_name': 'Jason',\n",
       "  'last_name': 'Delgado',\n",
       "  'degree': 'undergraduate',\n",
       "  'score': 71.5}]"
      ]
     },
     "execution_count": 97,
     "metadata": {},
     "output_type": "execute_result"
    }
   ],
   "source": [
    "grades = [\n",
    "    #First_Name,Last_Name,Degree,average\n",
    "    [\"John\",\"Washington\",\"graduate\",85.0],\n",
    "    [\"Robert\",\"Andrade\",\"graduate\",83.0],\n",
    "    [\"Paul\",\"Smith\",\"undergraduate\",79.5],\n",
    "    [\"Jason\",\"Delgado\",\"undergraduate\",71.5],\n",
    "]\n",
    "# want a list of dictionaries\n",
    "# grades_dict[0] =\n",
    "# {\n",
    "#     \"first_name\": \"John\",\n",
    "#     \"last_name\": \"Washington\",\n",
    "#     \"degree\": \"graduate\",\n",
    "#     \"score\":85.0\n",
    "# }\n",
    "grades_list_of_dict = [{\n",
    "     \"first_name\": v[0],\n",
    "     \"last_name\": v[1],\n",
    "     \"degree\": v[2],\n",
    "     \"score\":v[3]\n",
    " } for v in grades]\n",
    "\n",
    "grades_list_of_dict"
   ]
  },
  {
   "cell_type": "markdown",
   "metadata": {
    "pycharm": {
     "name": "#%% md\n"
    }
   },
   "source": [
    "## Lambda, Filter, and Map\n",
    "\n",
    "### Lambda\n",
    "lambda a function without a name;\n",
    "- anonymous functions;\n",
    "- one line only;\n",
    "- single expression only\n",
    "- stored in a variable\n",
    "- When do you use it? Pass a function into another function as a parameter\n",
    "- lambda variables (comma separated): expression\n",
    "- lambda functions are used with other functions. Usually with map, filter, sort\n",
    "\n",
    "Syntax:\n",
    "```\n",
    "lambda argument(s): expression\n",
    "```\n",
    "\n",
    "Example:\n",
    "```python\n",
    "#Normal python function\n",
    "def square(x):\n",
    "    return x*x\n",
    "#Lambda function\n",
    "lambda x: x*x\n",
    "```"
   ]
  },
  {
   "cell_type": "code",
   "execution_count": 27,
   "metadata": {
    "pycharm": {
     "name": "#%%\n"
    }
   },
   "outputs": [
    {
     "data": {
      "text/plain": [
       "81"
      ]
     },
     "execution_count": 27,
     "metadata": {},
     "output_type": "execute_result"
    }
   ],
   "source": [
    "#Normal python function\n",
    "def square(x):\n",
    "    return x*x\n",
    "square(9)"
   ]
  },
  {
   "cell_type": "code",
   "execution_count": 28,
   "metadata": {
    "pycharm": {
     "name": "#%%\n"
    }
   },
   "outputs": [
    {
     "data": {
      "text/plain": [
       "81"
      ]
     },
     "execution_count": 28,
     "metadata": {},
     "output_type": "execute_result"
    }
   ],
   "source": [
    "#Lambda function\n",
    "(lambda x: x*x)(9)"
   ]
  },
  {
   "cell_type": "markdown",
   "metadata": {
    "pycharm": {
     "name": "#%% md\n"
    }
   },
   "source": [
    "### Filter\n",
    "- Uses `function` to test the truthiness of each value in the sequence and returns a filtered list.\n",
    "- `function` must return True or False\n",
    "\n",
    "```python\n",
    "filter(function, sequence)\n",
    "```"
   ]
  },
  {
   "cell_type": "code",
   "execution_count": 1,
   "metadata": {
    "pycharm": {
     "name": "#%%\n"
    }
   },
   "outputs": [
    {
     "data": {
      "text/plain": [
       "[['John', 'Washington', 'graduate', 83.0],\n",
       " ['Robert', 'Andrade', 'graduate', 85.0],\n",
       " ['Paul', 'Smith', 'undergraduate', 79.5],\n",
       " ['Jason', 'Delgado', 'undergraduate', 71.5]]"
      ]
     },
     "execution_count": 1,
     "metadata": {},
     "output_type": "execute_result"
    }
   ],
   "source": [
    "grades = [\n",
    "    #First_Name,Last_Name,Degree,average\n",
    "    [\"John\",\"Washington\",\"graduate\",83.0],\n",
    "    [\"Robert\",\"Andrade\",\"graduate\",85.0],\n",
    "    [\"Paul\",\"Smith\",\"undergraduate\",79.5],\n",
    "    [\"Jason\",\"Delgado\",\"undergraduate\",71.5],\n",
    "]\n",
    "grades"
   ]
  },
  {
   "cell_type": "code",
   "execution_count": 2,
   "metadata": {
    "pycharm": {
     "name": "#%%\n"
    }
   },
   "outputs": [
    {
     "data": {
      "text/plain": [
       "[['John', 'Washington', 'graduate', 83.0],\n",
       " ['Robert', 'Andrade', 'graduate', 85.0]]"
      ]
     },
     "execution_count": 2,
     "metadata": {},
     "output_type": "execute_result"
    }
   ],
   "source": [
    "# get only graduate students using filter\n",
    "[v for v in grades if v[2]==\"graduate\"]"
   ]
  },
  {
   "cell_type": "code",
   "execution_count": 8,
   "metadata": {},
   "outputs": [
    {
     "data": {
      "text/plain": [
       "(['John', 'Washington', 'graduate', 83.0],\n",
       " ['Robert', 'Andrade', 'graduate', 85.0])"
      ]
     },
     "execution_count": 8,
     "metadata": {},
     "output_type": "execute_result"
    }
   ],
   "source": [
    "tuple(filter(lambda x:x[2]==\"graduate\",grades))"
   ]
  },
  {
   "cell_type": "code",
   "execution_count": 6,
   "metadata": {},
   "outputs": [
    {
     "name": "stdout",
     "output_type": "stream",
     "text": [
      "['John', 'Washington', 'graduate', 83.0]\n",
      "['Robert', 'Andrade', 'graduate', 85.0]\n"
     ]
    }
   ],
   "source": [
    "for item in filter(lambda x:x[2]==\"graduate\",grades):\n",
    "    print(item)"
   ]
  },
  {
   "cell_type": "markdown",
   "metadata": {},
   "source": [
    "### Map\n",
    "- Uses `function` to transform the values in a sequence\n",
    "```python\n",
    "map(function, sequence)\n",
    "```"
   ]
  },
  {
   "cell_type": "code",
   "execution_count": null,
   "metadata": {
    "pycharm": {
     "name": "#%%\n"
    }
   },
   "outputs": [],
   "source": [
    "grades = [\n",
    "    #First_Name,Last_Name,Degree,average\n",
    "    [\"John\",\"Washington\",\"graduate\",83.0],\n",
    "    [\"Robert\",\"Andrade\",\"graduate\",85.0],\n",
    "    [\"Paul\",\"Smith\",\"undergraduate\",79.5],\n",
    "    [\"Jason\",\"Delgado\",\"undergraduate\",71.5],\n",
    "]\n",
    "grades"
   ]
  },
  {
   "cell_type": "code",
   "execution_count": 9,
   "metadata": {
    "pycharm": {
     "name": "#%%\n"
    },
    "scrolled": true
   },
   "outputs": [
    {
     "data": {
      "text/plain": [
       "[83.0, 85.0, 79.5, 71.5]"
      ]
     },
     "execution_count": 9,
     "metadata": {},
     "output_type": "execute_result"
    }
   ],
   "source": [
    "[v[3] for v in grades]"
   ]
  },
  {
   "cell_type": "code",
   "execution_count": 11,
   "metadata": {},
   "outputs": [
    {
     "data": {
      "text/plain": [
       "319.0"
      ]
     },
     "execution_count": 11,
     "metadata": {},
     "output_type": "execute_result"
    }
   ],
   "source": [
    "sum(map(lambda x: x[3],grades))"
   ]
  },
  {
   "cell_type": "code",
   "execution_count": null,
   "metadata": {},
   "outputs": [],
   "source": []
  },
  {
   "cell_type": "markdown",
   "metadata": {},
   "source": [
    "### Sorting\n",
    "\n",
    "[https://docs.python.org/3/library/functions.html#sorted](https://docs.python.org/3/library/functions.html#sorted)\n",
    "\n",
    "```\n",
    "sorted(iterable, *, key=None, reverse=False)\n",
    "```"
   ]
  },
  {
   "cell_type": "code",
   "execution_count": null,
   "metadata": {
    "pycharm": {
     "name": "#%%\n"
    }
   },
   "outputs": [],
   "source": [
    "grades = [\n",
    "    #First_Name,Last_Name,Degree,average\n",
    "    [\"John\",\"Washington\",\"graduate\",83.0],\n",
    "    [\"Robert\",\"Andrade\",\"graduate\",85.0],\n",
    "    [\"Paul\",\"Smith\",\"undergraduate\",79.5],\n",
    "    [\"Jason\",\"Delgado\",\"undergraduate\",71.5],\n",
    "]\n",
    "grades"
   ]
  },
  {
   "cell_type": "code",
   "execution_count": 13,
   "metadata": {
    "pycharm": {
     "name": "#%%\n"
    },
    "scrolled": true
   },
   "outputs": [
    {
     "data": {
      "text/plain": [
       "[7, 3, 2, 1.4, 1]"
      ]
     },
     "execution_count": 13,
     "metadata": {},
     "output_type": "execute_result"
    }
   ],
   "source": [
    "sorted([3,2,1,1.4,7],reverse=True)"
   ]
  },
  {
   "cell_type": "code",
   "execution_count": 25,
   "metadata": {},
   "outputs": [
    {
     "data": {
      "text/plain": [
       "[['Jason', 'Delgado', 'undergraduate', 71.5],\n",
       " ['Paul', 'Smith', 'undergraduate', 79.5],\n",
       " ['John', 'Washington', 'graduate', 83.0],\n",
       " ['Robert', 'Andrade', 'graduate', 85.0]]"
      ]
     },
     "execution_count": 25,
     "metadata": {},
     "output_type": "execute_result"
    }
   ],
   "source": [
    "sorted(grades, key=lambda x: x[3])"
   ]
  },
  {
   "cell_type": "code",
   "execution_count": 24,
   "metadata": {
    "scrolled": true
   },
   "outputs": [
    {
     "data": {
      "text/plain": [
       "[['Jason', 'Delgado', 'undergraduate', 71.5],\n",
       " ['Paul', 'Smith', 'undergraduate', 79.5],\n",
       " ['John', 'Washington', 'graduate', 83.0],\n",
       " ['Robert', 'Andrade', 'graduate', 85.0]]"
      ]
     },
     "execution_count": 24,
     "metadata": {},
     "output_type": "execute_result"
    }
   ],
   "source": [
    "def my_scoring_function(x):\n",
    "    return x[3]\n",
    "\n",
    "sorted(grades, key=my_scoring_function)"
   ]
  },
  {
   "cell_type": "code",
   "execution_count": 27,
   "metadata": {},
   "outputs": [
    {
     "data": {
      "text/plain": [
       "[['Paul', 'Smith', 'undergraduate', 79.5],\n",
       " ['Jason', 'Delgado', 'undergraduate', 71.5],\n",
       " ['Robert', 'Andrade', 'graduate', 85.0],\n",
       " ['John', 'Washington', 'graduate', 83.0]]"
      ]
     },
     "execution_count": 27,
     "metadata": {},
     "output_type": "execute_result"
    }
   ],
   "source": [
    "sorted(grades, key=lambda x: x[3]*len(x[1]))"
   ]
  },
  {
   "cell_type": "markdown",
   "metadata": {},
   "source": [
    "### Min/Max\n",
    "```\n",
    "min(iterable, *[, key, default])\n",
    "max(iterable, *[, key, default])\n",
    "```"
   ]
  },
  {
   "cell_type": "code",
   "execution_count": 23,
   "metadata": {
    "pycharm": {
     "name": "#%%\n"
    }
   },
   "outputs": [
    {
     "data": {
      "text/plain": [
       "['Robert', 'Andrade', 'graduate', 85.0]"
      ]
     },
     "execution_count": 23,
     "metadata": {},
     "output_type": "execute_result"
    }
   ],
   "source": [
    "max(grades, key=lambda x: x[3])"
   ]
  },
  {
   "cell_type": "markdown",
   "metadata": {
    "pycharm": {
     "name": "#%% md\n"
    }
   },
   "source": [
    "# Exercises\n",
    "## For Loop"
   ]
  },
  {
   "cell_type": "code",
   "execution_count": 4,
   "metadata": {},
   "outputs": [],
   "source": [
    "import random\n",
    "random.seed(20211010)"
   ]
  },
  {
   "cell_type": "code",
   "execution_count": 30,
   "metadata": {
    "pycharm": {
     "name": "#%%\n"
    }
   },
   "outputs": [
    {
     "data": {
      "text/plain": [
       "'HTTHHHTHHT'"
      ]
     },
     "execution_count": 30,
     "metadata": {},
     "output_type": "execute_result"
    }
   ],
   "source": [
    "##################################################################\n",
    "# for_ex8.py\n",
    "# Write a function simulates a coin toss\n",
    "# Input: number of simulation\n",
    "# Output: a string that concatenates the results, ex. 'HHHTTTHTHTHT'\n",
    "\n",
    "\n",
    "def toss_a_coin(n):\n",
    "    return \"\".join([\"HT\"[random.randint(0,1)] for i in range(n)])\n",
    "\n",
    "toss_a_coin(10)"
   ]
  },
  {
   "cell_type": "code",
   "execution_count": 67,
   "metadata": {
    "pycharm": {
     "name": "#%%\n"
    }
   },
   "outputs": [
    {
     "data": {
      "text/plain": [
       "(0.75, 0.25)"
      ]
     },
     "execution_count": 67,
     "metadata": {},
     "output_type": "execute_result"
    }
   ],
   "source": [
    "##################################################################\n",
    "# for_ex9.py\n",
    "# Write a function that uses the output from the coin_toss function and calculates the probablity of H and T\n",
    "# Input: number of simulation\n",
    "# Output: probabily of H and T\n",
    "def estimate_prob(events):\n",
    "    \"big help message\"\n",
    "    count = {'H':0, 'T':0}\n",
    "    for event in events:\n",
    "        count[event]+=1\n",
    "    count['H']/=len(events)\n",
    "    count['T']/=len(events)\n",
    "    return count['H'],count['T']\n",
    "\n",
    "    \n",
    "\n",
    "estimate_prob('HHHTHHHTHHHTHHHTHHHTHHHT')\n",
    "\n"
   ]
  },
  {
   "cell_type": "code",
   "execution_count": 68,
   "metadata": {},
   "outputs": [
    {
     "data": {
      "text/plain": [
       "(0.625, 0.375)"
      ]
     },
     "execution_count": 68,
     "metadata": {},
     "output_type": "execute_result"
    }
   ],
   "source": [
    "##################################################################\n",
    "# for_ex10.py\n",
    "# Write a function that simultes coin_toss_probablity for a given number of times and calculates the average of H and T\n",
    "# Input: number of simuations\n",
    "# Input: number of coin tosses\n",
    "# Output: average probability\n",
    "\n",
    "def average_prob(num_of_coin_tosses, num_of_experiments):\n",
    "    results = [estimate_prob(toss_a_coin(num_of_coin_tosses))  for iexp in range(num_of_experiments)]\n",
    "    h_avg = sum([x[0] for x in results])/len(results)\n",
    "    t_avg = sum([x[1] for x in results])/len(results)\n",
    "    return h_avg, t_avg\n",
    "\n",
    "average_prob(2,4)\n"
   ]
  },
  {
   "cell_type": "code",
   "execution_count": null,
   "metadata": {},
   "outputs": [],
   "source": []
  },
  {
   "cell_type": "code",
   "execution_count": null,
   "metadata": {},
   "outputs": [],
   "source": [
    "##################################################################\n",
    "# for_ex11.py\n",
    "# Write a function that reads a file in which each line has multiple student grades and calculates the student average grade\n",
    "# Print average of each student on screen\n",
    "# Use list comprehension to convert grades to int\n",
    "# use: for_ex11_data.txt"
   ]
  },
  {
   "cell_type": "code",
   "execution_count": null,
   "metadata": {},
   "outputs": [],
   "source": []
  },
  {
   "cell_type": "code",
   "execution_count": 75,
   "metadata": {},
   "outputs": [],
   "source": [
    "\n",
    "##################################################################\n",
    "# for_ex12.py\n",
    "# Write a function that generates a given number of students with a given number of grades and saves them to a file\n",
    "# inputs: output_filename, number_of_students, number_of_tests, test_score_range(low, high)\n",
    "# example output:\n",
    "# student1,93,78,82,83,65\n",
    "# student2,86,76,85,86,65\n",
    "# student3,70,98,88,80,93\n",
    "# student4,89,68,81,80,76\n",
    "# student5,99,67,100,83,68\n",
    "# student6,75,77,69,72,76\n",
    "# student7,67,93,90,92,66\n",
    "# student8,89,83,90,97,91\n",
    "# student9,92,84,75,92,92\n",
    "# student10,65,89,80,68,89\n",
    "def for_ex12(output_filename, number_of_students, number_of_tests, test_score_range):\n",
    "    from random import randint\n",
    "    with open(output_filename, \"w\") as fout:\n",
    "        for i in range(number_of_students):\n",
    "            grades = [str(randint(*test_score_range)) for j in range(number_of_tests)]\n",
    "            fout.write(f\"student{i},\" + \",\".join(grades)+\"\\n\")\n",
    "        \n",
    "for_ex12(\"test3.txt\", 10, 6, (0, 100))"
   ]
  },
  {
   "cell_type": "markdown",
   "metadata": {},
   "source": [
    "## While Loop"
   ]
  },
  {
   "cell_type": "code",
   "execution_count": 79,
   "metadata": {
    "pycharm": {
     "name": "#%%\n"
    }
   },
   "outputs": [
    {
     "name": "stdout",
     "output_type": "stream",
     "text": [
      "number, please:1\n",
      "number, please:3\n",
      "number, please:2\n",
      "number, please:\n",
      "Average is 2.0\n"
     ]
    }
   ],
   "source": [
    "###############################################################\n",
    "# while_ex1\n",
    "# Write a program that takes integers from the user and returns the average\n",
    "# Use a while loop and make an empty string the stop criteria.\n",
    "m_sum = 0\n",
    "m_count = 0\n",
    "while True:\n",
    "    user_input = input(\"number, please:\")\n",
    "    if user_input == \"\":\n",
    "        break\n",
    "    m_sum += int(user_input)\n",
    "    m_count += 1\n",
    "print(f\"Average is {m_sum/m_count}\")"
   ]
  },
  {
   "cell_type": "code",
   "execution_count": 81,
   "metadata": {},
   "outputs": [
    {
     "name": "stdout",
     "output_type": "stream",
     "text": [
      "number, please:1\n",
      "number, please:2\n",
      "number, please:3\n",
      "number, please:\n",
      "Average is 2.0\n"
     ]
    }
   ],
   "source": [
    "m_sum = 0\n",
    "m_count = 0\n",
    "user_input = input(\"number, please:\")\n",
    "while user_input != \"\":\n",
    "    m_sum += int(user_input)\n",
    "    m_count += 1\n",
    "    user_input = input(\"number, please:\")\n",
    "print(f\"Average is {m_sum/m_count}\")"
   ]
  },
  {
   "cell_type": "code",
   "execution_count": 80,
   "metadata": {
    "pycharm": {
     "name": "#%%\n"
    }
   },
   "outputs": [
    {
     "name": "stdout",
     "output_type": "stream",
     "text": [
      "number, please:1\n",
      "number, please:2\n",
      "number, please:3\n",
      "number, please:-1\n",
      "Average is 2.0\n"
     ]
    }
   ],
   "source": [
    "###############################################################\n",
    "# while_ex2\n",
    "# Write a program that takes integers from the user and returns the average\n",
    "# Use a while loop and make negative number the stop criteria.\n",
    "m_sum = 0\n",
    "m_count = 0\n",
    "while True:\n",
    "    user_input = int(input(\"number, please:\"))\n",
    "    if user_input < 0:\n",
    "        break\n",
    "    m_sum += int(user_input)\n",
    "    m_count += 1\n",
    "print(f\"Average is {m_sum/m_count}\")"
   ]
  },
  {
   "cell_type": "code",
   "execution_count": 83,
   "metadata": {
    "pycharm": {
     "name": "#%%\n"
    }
   },
   "outputs": [
    {
     "name": "stdout",
     "output_type": "stream",
     "text": [
      "grades, please:90\n",
      "grades, please:91\n",
      "grades, please:92\n",
      "grades, please:\n",
      "Average is A, 91.0\n"
     ]
    }
   ],
   "source": [
    "###############################################################\n",
    "# while_ex3\n",
    "# Write a program that takes test grades from the user and returns their average and the letter grade of the average\n",
    "# Use a while loop and make negative number the stop criteria.\n",
    "# A >=90\n",
    "# B 80-89\n",
    "# C 70-79\n",
    "# D 60-69\n",
    "# F 59 or less\n",
    "m_sum = 0\n",
    "m_count = 0\n",
    "while True:\n",
    "    user_input = input(\"grades, please:\")\n",
    "    if user_input == \"\":\n",
    "        break\n",
    "    m_sum += int(user_input)\n",
    "    m_count += 1\n",
    "average = m_sum/m_count\n",
    "\n",
    "if average >= 90:\n",
    "    letter_grade = \"A\"\n",
    "elif average >= 80:\n",
    "    letter_grade = \"B\"\n",
    "elif average >= 70:\n",
    "    letter_grade = \"C\"\n",
    "elif average >= 60:\n",
    "    letter_grade = \"D\"\n",
    "else:\n",
    "    letter_grade = \"F\"\n",
    "print(f\"Average is {letter_grade}, {average}\")"
   ]
  },
  {
   "cell_type": "code",
   "execution_count": 8,
   "metadata": {
    "pycharm": {
     "name": "#%%\n"
    }
   },
   "outputs": [
    {
     "name": "stdout",
     "output_type": "stream",
     "text": [
      "Number, please:5\n",
      "5\n",
      "4\n",
      "3\n",
      "2\n",
      "1\n",
      "0\n",
      "5\n",
      "4\n",
      "3\n",
      "2\n",
      "1\n",
      "0\n"
     ]
    }
   ],
   "source": [
    "###############################################################\n",
    "# while_ex4\n",
    "# Write a program that takes an integer and counts down to zero -- print the value\n",
    "n = int(input(\"Number, please:\"))\n",
    "# for...\n",
    "for i in range(n,-1,-1):\n",
    "    print(i)\n",
    "# while...\n",
    "i=n\n",
    "while i >= 0:\n",
    "    print(i)\n",
    "    i -= 1"
   ]
  },
  {
   "cell_type": "code",
   "execution_count": 10,
   "metadata": {
    "pycharm": {
     "name": "#%%\n"
    }
   },
   "outputs": [
    {
     "name": "stdout",
     "output_type": "stream",
     "text": [
      "Number, please:5\n",
      "0\n",
      "2\n",
      "4\n",
      "0\n",
      "2\n",
      "4\n"
     ]
    }
   ],
   "source": [
    "###############################################################\n",
    "# while_ex4\n",
    "# Write a program that takes an integer number and outputs all the even numbers starting from 0 to the number\n",
    "n = int(input(\"Number, please:\"))\n",
    "# for...\n",
    "for i in range(n+1):\n",
    "    if i % 2 ==0:\n",
    "        print(i)\n",
    "# while...\n",
    "i=0\n",
    "while i <= n:\n",
    "    if i % 2 ==0:\n",
    "        print(i)\n",
    "    i += 1"
   ]
  },
  {
   "cell_type": "markdown",
   "metadata": {},
   "source": [
    "## Loop Control (Modified loop execution)"
   ]
  },
  {
   "cell_type": "code",
   "execution_count": 11,
   "metadata": {
    "pycharm": {
     "name": "#%%\n"
    }
   },
   "outputs": [
    {
     "name": "stdout",
     "output_type": "stream",
     "text": [
      "1\n",
      "2\n",
      "3\n",
      "4\n",
      "6\n",
      "7\n",
      "8\n",
      "9\n",
      "11\n"
     ]
    }
   ],
   "source": [
    "# Ex1\n",
    "# Write a function that prints from 1 to n using a for loop, it should skip every\n",
    "# multiple of 5\n",
    "\n",
    "n=11\n",
    "\n",
    "for i in range(n+1):\n",
    "    if i % 5 == 0:\n",
    "        continue\n",
    "    print(i)\n"
   ]
  },
  {
   "cell_type": "code",
   "execution_count": 12,
   "metadata": {
    "pycharm": {
     "name": "#%%\n"
    }
   },
   "outputs": [
    {
     "name": "stdout",
     "output_type": "stream",
     "text": [
      "1\n",
      "4\n",
      "9\n",
      "16\n",
      "25\n",
      "36\n",
      "49\n",
      "64\n",
      "81\n",
      "100\n",
      "121\n",
      "144\n",
      "169\n",
      "196\n",
      "225\n",
      "256\n",
      "289\n",
      "324\n",
      "361\n",
      "400\n",
      "441\n",
      "484\n",
      "529\n",
      "576\n",
      "625\n",
      "676\n",
      "729\n",
      "784\n",
      "841\n",
      "900\n",
      "961\n",
      "1024\n",
      "1089\n",
      "1156\n",
      "1225\n",
      "1296\n",
      "1369\n",
      "1444\n",
      "1521\n",
      "1600\n",
      "1681\n",
      "1764\n",
      "1849\n",
      "1936\n",
      "2025\n",
      "2116\n",
      "2209\n",
      "2304\n",
      "2401\n",
      "2500\n"
     ]
    }
   ],
   "source": [
    "# Ex2\n",
    "# Write a function that prints from 1 to n squared using a while loop.\n",
    "# It should stop the while loop if the iteration count is 50.\n",
    "\n",
    "n=17\n",
    "i=1\n",
    "while True:\n",
    "    print(i*i)\n",
    "    if i >= 50:\n",
    "        break\n",
    "    i+=1"
   ]
  },
  {
   "cell_type": "code",
   "execution_count": 17,
   "metadata": {},
   "outputs": [],
   "source": [
    "import random\n",
    "with open(\"number.dat\", \"w\") as fout:\n",
    "    for i in range(10):\n",
    "        fout.write(\", \".join([str(random.randint(-100,100)) for j in range(random.randint(0,10))])+\"\\n\")"
   ]
  },
  {
   "cell_type": "code",
   "execution_count": 25,
   "metadata": {
    "pycharm": {
     "name": "#%%\n"
    }
   },
   "outputs": [
    {
     "name": "stdout",
     "output_type": "stream",
     "text": [
      "average is 2.88\n"
     ]
    }
   ],
   "source": [
    "# Ex3\n",
    "# Write a function that reads numbers from a file and prints their average.\n",
    "# Skip empty lines\n",
    "with open(\"number.dat\",\"r\") as fin:\n",
    "    count = 0\n",
    "    m_sum = 0\n",
    "    for line in fin:\n",
    "        line = line.strip().replace(\",\", \" \")\n",
    "        if line == \"\":\n",
    "            continue\n",
    "        line_numbers = [int(v) for v in line.split()]\n",
    "        m_sum+=sum(line_numbers)\n",
    "        count+=len(line_numbers)\n",
    "    print(f\"average is {m_sum/count}\")\n"
   ]
  },
  {
   "cell_type": "markdown",
   "metadata": {},
   "source": [
    "## List Comprehention"
   ]
  },
  {
   "cell_type": "code",
   "execution_count": 26,
   "metadata": {},
   "outputs": [
    {
     "data": {
      "text/plain": [
       "[1, 25]"
      ]
     },
     "execution_count": 26,
     "metadata": {},
     "output_type": "execute_result"
    }
   ],
   "source": [
    "m_list = [1, \"two\", [3, \"three\"], 4.0, 5]\n",
    "\n",
    "# create a list containing squares of m_list list \n",
    "# but only for integers\n",
    "m_list2 = []\n",
    "for item in m_list:\n",
    "    if isinstance(item, int):\n",
    "        m_list2.append(item**2)\n",
    "\n",
    "m_list2\n"
   ]
  },
  {
   "cell_type": "code",
   "execution_count": 27,
   "metadata": {},
   "outputs": [
    {
     "data": {
      "text/plain": [
       "[1, 25]"
      ]
     },
     "execution_count": 27,
     "metadata": {},
     "output_type": "execute_result"
    }
   ],
   "source": [
    "m_list3 = [item**2 for item in m_list if isinstance(item, int)]\n",
    "m_list3"
   ]
  },
  {
   "cell_type": "code",
   "execution_count": 28,
   "metadata": {
    "pycharm": {
     "name": "#%%\n"
    }
   },
   "outputs": [
    {
     "data": {
      "text/plain": [
       "[1, 4, 9]"
      ]
     },
     "execution_count": 28,
     "metadata": {},
     "output_type": "execute_result"
    }
   ],
   "source": [
    "###############################################################\n",
    "# list_comp_ex1.py\n",
    "# Re-write the following code to use List Comprehension\n",
    "my_list = [1, 2, 3]\n",
    "new_list = []\n",
    "for ele in my_list:\n",
    "    tmp = ele * ele\n",
    "    new_list.append(tmp)\n",
    "new_list"
   ]
  },
  {
   "cell_type": "code",
   "execution_count": 30,
   "metadata": {},
   "outputs": [
    {
     "data": {
      "text/plain": [
       "[1, 4, 9]"
      ]
     },
     "execution_count": 30,
     "metadata": {},
     "output_type": "execute_result"
    }
   ],
   "source": [
    "new_list = [ele * ele for ele in my_list]\n",
    "new_list"
   ]
  },
  {
   "cell_type": "code",
   "execution_count": 31,
   "metadata": {
    "pycharm": {
     "name": "#%%\n"
    }
   },
   "outputs": [
    {
     "data": {
      "text/plain": [
       "True"
      ]
     },
     "execution_count": 31,
     "metadata": {},
     "output_type": "execute_result"
    }
   ],
   "source": [
    "###############################################################\n",
    "# list_comp_ex2.py\n",
    "# Re-write the following code to use List Comprehension\n",
    "# # Multiply each number by 10\n",
    "\n",
    "my_list = [1, 2, 3]\n",
    "new_list = []\n",
    "for ele in my_list:\n",
    "    tmp = ele * 10\n",
    "    new_list.append(tmp)\n",
    "#uncomment a block is ctrl+/\n",
    "\n",
    "new_list2 = [ele * 10 for ele in my_list]\n",
    "new_list==new_list2"
   ]
  },
  {
   "cell_type": "code",
   "execution_count": 41,
   "metadata": {
    "pycharm": {
     "name": "#%%\n"
    }
   },
   "outputs": [
    {
     "name": "stdout",
     "output_type": "stream",
     "text": [
      "['E', 'L', 'E', 'P', 'H', 'A', 'N', 'T']\n"
     ]
    },
    {
     "data": {
      "text/plain": [
       "'ELEPHANT'"
      ]
     },
     "execution_count": 41,
     "metadata": {},
     "output_type": "execute_result"
    }
   ],
   "source": [
    "###############################################################\n",
    "# list_comp_ex3.py\n",
    "# Upper case each letter in animal variable\n",
    "\n",
    "animal = \"elephant\"\n",
    "\n",
    "delta = ord(\"a\")-ord(\"A\")\n",
    "#chr(95)\n",
    "print([chr(ord(l)-delta) for l in animal])\n",
    "\"\".join([chr(ord(l)-delta) for l in animal])"
   ]
  },
  {
   "cell_type": "code",
   "execution_count": 42,
   "metadata": {},
   "outputs": [
    {
     "data": {
      "text/plain": [
       "['E', 'L', 'E', 'P', 'H', 'A', 'N', 'T']"
      ]
     },
     "execution_count": 42,
     "metadata": {},
     "output_type": "execute_result"
    }
   ],
   "source": [
    "[l.upper() for l in animal]"
   ]
  },
  {
   "cell_type": "code",
   "execution_count": 43,
   "metadata": {
    "pycharm": {
     "name": "#%%\n"
    }
   },
   "outputs": [
    {
     "data": {
      "text/plain": [
       "['washington', 'andrade', 'smith', 'delgado']"
      ]
     },
     "execution_count": 43,
     "metadata": {},
     "output_type": "execute_result"
    }
   ],
   "source": [
    "###############################################################\n",
    "# list_comp_ex4.py\n",
    "# Title each name in the student list\n",
    "grades = [\n",
    "    #First_Name,Last_Name,Degree,average\n",
    "    [\"John\",\"Washington\",\"graduate\",83.0],\n",
    "    [\"Robert\",\"Andrade\",\"graduate\",85.0],\n",
    "    [\"Paul\",\"Smith\",\"undergraduate\",79.5],\n",
    "    [\"Jason\",\"Delgado\",\"undergraduate\",71.5],\n",
    "]\n",
    "lower_last_names = [student[1].lower() for student in grades]\n",
    "lower_last_names"
   ]
  },
  {
   "cell_type": "code",
   "execution_count": 44,
   "metadata": {},
   "outputs": [
    {
     "data": {
      "text/plain": [
       "['Washington', 'Andrade', 'Smith', 'Delgado']"
      ]
     },
     "execution_count": 44,
     "metadata": {},
     "output_type": "execute_result"
    }
   ],
   "source": [
    "[last_name.capitalize() for last_name in lower_last_names]"
   ]
  },
  {
   "cell_type": "code",
   "execution_count": 45,
   "metadata": {
    "pycharm": {
     "name": "#%%\n"
    }
   },
   "outputs": [
    {
     "data": {
      "text/plain": [
       "[False, False, False]"
      ]
     },
     "execution_count": 45,
     "metadata": {},
     "output_type": "execute_result"
    }
   ],
   "source": [
    "###############################################################\n",
    "# list_comp_ex5.py\n",
    "# Use list comprehension to get the Truthiness of each element in my_list\n",
    "\n",
    "my_list = [0, '', []]\n",
    "[bool(item) for item in my_list]"
   ]
  },
  {
   "cell_type": "code",
   "execution_count": 46,
   "metadata": {
    "pycharm": {
     "name": "#%%\n"
    }
   },
   "outputs": [
    {
     "data": {
      "text/plain": [
       "['0', '1', '2', '3', '4', '5']"
      ]
     },
     "execution_count": 46,
     "metadata": {},
     "output_type": "execute_result"
    }
   ],
   "source": [
    "###############################################################\n",
    "# list_comp_ex6.py\n",
    "# convert each element of my_list to str using list comprehension\n",
    "my_list = range(6)\n",
    "[str(item) for item in my_list]\n"
   ]
  },
  {
   "cell_type": "code",
   "execution_count": 50,
   "metadata": {
    "pycharm": {
     "name": "#%%\n"
    }
   },
   "outputs": [
    {
     "data": {
      "text/plain": [
       "[1, 3, 5, 7, 9, 11, 13, 15, 17, 19]"
      ]
     },
     "execution_count": 50,
     "metadata": {},
     "output_type": "execute_result"
    }
   ],
   "source": [
    "###############################################################\n",
    "# list_comp_ex7.py\n",
    "# use list comprehension to reduce a list of numbers to just even or odd\n",
    "numbers = range(20)\n",
    "odd = [v for v in numbers if v % 2 == 1]\n",
    "odd"
   ]
  },
  {
   "cell_type": "code",
   "execution_count": 51,
   "metadata": {
    "pycharm": {
     "name": "#%%\n"
    }
   },
   "outputs": [
    {
     "data": {
      "text/plain": [
       "[0,\n",
       " 1,\n",
       " 2,\n",
       " 27,\n",
       " 4,\n",
       " 125,\n",
       " 6,\n",
       " 343,\n",
       " 8,\n",
       " 729,\n",
       " 10,\n",
       " 1331,\n",
       " 12,\n",
       " 2197,\n",
       " 14,\n",
       " 3375,\n",
       " 16,\n",
       " 4913,\n",
       " 18,\n",
       " 6859]"
      ]
     },
     "execution_count": 51,
     "metadata": {},
     "output_type": "execute_result"
    }
   ],
   "source": [
    "###############################################################\n",
    "# list_comp_ex8.py\n",
    "# use list comprehension to modify a list of numbers such that evens are left as is\n",
    "# and the odds are raised to the three power\n",
    "numbers = range(20)\n",
    "\n",
    "[v if v%2==0 else v*v*v  for v in numbers]"
   ]
  },
  {
   "cell_type": "code",
   "execution_count": 54,
   "metadata": {
    "pycharm": {
     "name": "#%%\n"
    }
   },
   "outputs": [
    {
     "data": {
      "text/plain": [
       "' rll wnt t g t wrk'"
      ]
     },
     "execution_count": 54,
     "metadata": {},
     "output_type": "execute_result"
    }
   ],
   "source": [
    "###############################################################\n",
    "# list_comp_ex9.py\n",
    "# use list comprehension to remove vowels from a sentence\n",
    "\n",
    "sentence = 'I rEAlly want to gO to work'\n",
    "\"\".join([c for c in sentence if c.lower() not in ('e','a','o','u','i','y')])"
   ]
  },
  {
   "cell_type": "markdown",
   "metadata": {},
   "source": [
    "## Set"
   ]
  },
  {
   "cell_type": "code",
   "execution_count": 60,
   "metadata": {
    "pycharm": {
     "name": "#%%\n"
    }
   },
   "outputs": [],
   "source": [
    "# Ex1\n",
    "# Write a function that takes name of two gene files,\n",
    "# reads them, and returns which genes are:\n",
    "# 1) In first file but not in second file\n",
    "# 2) In second file but not in first file\n",
    "with open(\"gene_list1.txt\", \"r\") as fin:\n",
    "    genes1 = set([v.strip() for v in fin.readlines()])\n",
    "\n",
    "with open(\"gene_list2.txt\", \"r\") as fin:\n",
    "    genes2 = set([v.strip() for v in fin.readlines()])\n"
   ]
  },
  {
   "cell_type": "code",
   "execution_count": 71,
   "metadata": {},
   "outputs": [],
   "source": [
    "a1=set((gene for gene in genes1 if gene not in genes2))"
   ]
  },
  {
   "cell_type": "code",
   "execution_count": 68,
   "metadata": {},
   "outputs": [
    {
     "data": {
      "text/plain": [
       "True"
      ]
     },
     "execution_count": 68,
     "metadata": {},
     "output_type": "execute_result"
    }
   ],
   "source": [
    "# In first file but not in second file\n",
    "a2 = genes1 - genes2\n",
    "a1==a2"
   ]
  },
  {
   "cell_type": "code",
   "execution_count": 72,
   "metadata": {},
   "outputs": [
    {
     "data": {
      "text/plain": [
       "{'A1BG',\n",
       " 'A1CF',\n",
       " 'A2M',\n",
       " 'A2ML1',\n",
       " 'A3GALT2',\n",
       " 'A4GALT',\n",
       " 'A4GNT',\n",
       " 'AAAS',\n",
       " 'AACS',\n",
       " 'AADAC',\n",
       " 'AADACL2',\n",
       " 'AADACL3',\n",
       " 'AADACL4',\n",
       " 'AADAT',\n",
       " 'AAGAB',\n",
       " 'AAK1',\n",
       " 'AAMDC',\n",
       " 'AAMP',\n",
       " 'AANAT',\n",
       " 'AAR2',\n",
       " 'AARD',\n",
       " 'AARS1',\n",
       " 'AARS2',\n",
       " 'AARSD1',\n",
       " 'AASDH',\n",
       " 'AASDHPPT',\n",
       " 'AASS',\n",
       " 'AATF',\n",
       " 'AATK',\n",
       " 'ABAT',\n",
       " 'ABCA1',\n",
       " 'ABCA10',\n",
       " 'ABCA12',\n",
       " 'ABCA13',\n",
       " 'ABCA2',\n",
       " 'ABCA3',\n",
       " 'ABCA4',\n",
       " 'ABCA5',\n",
       " 'ABCA6',\n",
       " 'ABCA7',\n",
       " 'ABCA8',\n",
       " 'ABCA9',\n",
       " 'ABCB1',\n",
       " 'ABCB10',\n",
       " 'ABCB11',\n",
       " 'ABCB4',\n",
       " 'ABCB5',\n",
       " 'ABCB6',\n",
       " 'ABCB7',\n",
       " 'ABCB8',\n",
       " 'ABCB9',\n",
       " 'ABCC1',\n",
       " 'ABCC10',\n",
       " 'ABCC11',\n",
       " 'ABCC12',\n",
       " 'ABCC2',\n",
       " 'ABCC3',\n",
       " 'ABCC4',\n",
       " 'ABCC5',\n",
       " 'ABCC6',\n",
       " 'ABCC8',\n",
       " 'ABCC9',\n",
       " 'ABCD1',\n",
       " 'ABCD2',\n",
       " 'ABCD3',\n",
       " 'ABCD4',\n",
       " 'ABCE1',\n",
       " 'ABCF1',\n",
       " 'ABCF2',\n",
       " 'ABCF3',\n",
       " 'ABCG1',\n",
       " 'ABCG2',\n",
       " 'ABCG4',\n",
       " 'ABCG5',\n",
       " 'ABCG8',\n",
       " 'ABHD1',\n",
       " 'ABHD10',\n",
       " 'ABHD2',\n",
       " 'ABHD3',\n",
       " 'ABHD4',\n",
       " 'ABHD5',\n",
       " 'ABHD6',\n",
       " 'ABHD8',\n",
       " 'ACD',\n",
       " 'ACE',\n",
       " 'ACE2',\n",
       " 'ACER1',\n",
       " 'ACER2',\n",
       " 'ACER3',\n",
       " 'ACHE',\n",
       " 'ACIN1',\n",
       " 'ACKR1',\n",
       " 'ACKR2',\n",
       " 'ACKR3',\n",
       " 'ACKR4',\n",
       " 'ACLY',\n",
       " 'ACMSD',\n",
       " 'ACO1',\n",
       " 'ACO2',\n",
       " 'ACOD1',\n",
       " 'ACOT1',\n",
       " 'ACOT11',\n",
       " 'ACOT12',\n",
       " 'ACOT13',\n",
       " 'ACOT2',\n",
       " 'ACOT4',\n",
       " 'ACOT6',\n",
       " 'ACOT7',\n",
       " 'ACOT8',\n",
       " 'ACOT9',\n",
       " 'ACOX1',\n",
       " 'ACOX2',\n",
       " 'ACOX3',\n",
       " 'ACOXL',\n",
       " 'ACP1',\n",
       " 'ACP2',\n",
       " 'ACP3',\n",
       " 'ACP4',\n",
       " 'ACP5',\n",
       " 'ACP6',\n",
       " 'ACP7',\n",
       " 'ACR',\n",
       " 'ACRBP',\n",
       " 'ACRV1',\n",
       " 'ACSBG1',\n",
       " 'ACSBG2',\n",
       " 'ACSF2',\n",
       " 'ACSF3',\n",
       " 'ACSL1',\n",
       " 'ACSL3',\n",
       " 'ACSL4',\n",
       " 'ACSL5',\n",
       " 'ACSL6',\n",
       " 'ACSM1',\n",
       " 'ACSM2A',\n",
       " 'ACSM2B',\n",
       " 'ACSM3',\n",
       " 'ACSM4',\n",
       " 'ACSM5',\n",
       " 'ACSM6',\n",
       " 'ACSS1',\n",
       " 'ACSS2',\n",
       " 'ACSS3',\n",
       " 'ACTA1',\n",
       " 'ACTA2',\n",
       " 'ACTB',\n",
       " 'ACTBL2',\n",
       " 'ACTC1',\n",
       " 'ACTG1',\n",
       " 'ACTG2',\n",
       " 'ACTL10',\n",
       " 'ACTL6A',\n",
       " 'ACTL6B',\n",
       " 'ACTL7A',\n",
       " 'ACTL7B',\n",
       " 'ACTL8',\n",
       " 'ACTL9',\n",
       " 'ACTN1',\n",
       " 'ACTN2',\n",
       " 'ACTN3',\n",
       " 'ACTN4',\n",
       " 'ACTR10',\n",
       " 'ACTR1A',\n",
       " 'ACTR1B',\n",
       " 'ACTR2',\n",
       " 'ACTR3',\n",
       " 'ACTR3B',\n",
       " 'ACTR3C',\n",
       " 'ACTR5',\n",
       " 'ACTR6',\n",
       " 'ACTR8',\n",
       " 'ACTRT1',\n",
       " 'ACTRT2',\n",
       " 'ACTRT3',\n",
       " 'ACVR1',\n",
       " 'ACVR1B',\n",
       " 'ACVR1C',\n",
       " 'ACVR2A',\n",
       " 'ACVR2B',\n",
       " 'ACVRL1',\n",
       " 'ACY1',\n",
       " 'ACY3',\n",
       " 'ACYP1',\n",
       " 'ACYP2',\n",
       " 'ADA'}"
      ]
     },
     "execution_count": 72,
     "metadata": {},
     "output_type": "execute_result"
    }
   ],
   "source": [
    "a1"
   ]
  },
  {
   "cell_type": "code",
   "execution_count": 73,
   "metadata": {},
   "outputs": [
    {
     "data": {
      "text/plain": [
       "{'ZNF714',\n",
       " 'ZNF716',\n",
       " 'ZNF717',\n",
       " 'ZNF718',\n",
       " 'ZNF720',\n",
       " 'ZNF721',\n",
       " 'ZNF723',\n",
       " 'ZNF724',\n",
       " 'ZNF726',\n",
       " 'ZNF727',\n",
       " 'ZNF728',\n",
       " 'ZNF729',\n",
       " 'ZNF730',\n",
       " 'ZNF732',\n",
       " 'ZNF735',\n",
       " 'ZNF736',\n",
       " 'ZNF737',\n",
       " 'ZNF738',\n",
       " 'ZNF740',\n",
       " 'ZNF746',\n",
       " 'ZNF747',\n",
       " 'ZNF749',\n",
       " 'ZNF750',\n",
       " 'ZNF761',\n",
       " 'ZNF763',\n",
       " 'ZNF764',\n",
       " 'ZNF765',\n",
       " 'ZNF766',\n",
       " 'ZNF768',\n",
       " 'ZNF770',\n",
       " 'ZNF771',\n",
       " 'ZNF772',\n",
       " 'ZNF773',\n",
       " 'ZNF774',\n",
       " 'ZNF775',\n",
       " 'ZNF776',\n",
       " 'ZNF777',\n",
       " 'ZNF778',\n",
       " 'ZNF780A',\n",
       " 'ZNF780B',\n",
       " 'ZNF781',\n",
       " 'ZNF782',\n",
       " 'ZNF783',\n",
       " 'ZNF784',\n",
       " 'ZNF785',\n",
       " 'ZNF786',\n",
       " 'ZNF787',\n",
       " 'ZNF789',\n",
       " 'ZNF790',\n",
       " 'ZNF791',\n",
       " 'ZNF792',\n",
       " 'ZNF793',\n",
       " 'ZNF799',\n",
       " 'ZNF800',\n",
       " 'ZNF804A',\n",
       " 'ZNF804B',\n",
       " 'ZNF805',\n",
       " 'ZNF808',\n",
       " 'ZNF813',\n",
       " 'ZNF814',\n",
       " 'ZNF816',\n",
       " 'ZNF821',\n",
       " 'ZNF823',\n",
       " 'ZNF827',\n",
       " 'ZNF829',\n",
       " 'ZNF830',\n",
       " 'ZNF831',\n",
       " 'ZNF835',\n",
       " 'ZNF836',\n",
       " 'ZNF837',\n",
       " 'ZNF839',\n",
       " 'ZNF841',\n",
       " 'ZNF843',\n",
       " 'ZNF844',\n",
       " 'ZNF845',\n",
       " 'ZNF846',\n",
       " 'ZNF850',\n",
       " 'ZNF852',\n",
       " 'ZNF853',\n",
       " 'ZNF860',\n",
       " 'ZNF862',\n",
       " 'ZNF865',\n",
       " 'ZNF875',\n",
       " 'ZNF878',\n",
       " 'ZNF879',\n",
       " 'ZNF880',\n",
       " 'ZNF883',\n",
       " 'ZNF888',\n",
       " 'ZNF891',\n",
       " 'ZNFX1',\n",
       " 'ZNHIT1',\n",
       " 'ZNHIT2',\n",
       " 'ZNHIT3',\n",
       " 'ZNHIT6',\n",
       " 'ZNRD1',\n",
       " 'ZNRD2',\n",
       " 'ZNRF1',\n",
       " 'ZNRF2',\n",
       " 'ZNRF3',\n",
       " 'ZNRF4',\n",
       " 'ZP1',\n",
       " 'ZP2',\n",
       " 'ZP3',\n",
       " 'ZP4',\n",
       " 'ZPBP',\n",
       " 'ZPBP2',\n",
       " 'ZPLD1',\n",
       " 'ZPR1',\n",
       " 'ZRANB1',\n",
       " 'ZRANB2',\n",
       " 'ZRANB3',\n",
       " 'ZRSR2',\n",
       " 'ZSCAN1',\n",
       " 'ZSCAN10',\n",
       " 'ZSCAN12',\n",
       " 'ZSCAN16',\n",
       " 'ZSCAN18',\n",
       " 'ZSCAN2',\n",
       " 'ZSCAN20',\n",
       " 'ZSCAN21',\n",
       " 'ZSCAN22',\n",
       " 'ZSCAN23',\n",
       " 'ZSCAN25',\n",
       " 'ZSCAN26',\n",
       " 'ZSCAN29',\n",
       " 'ZSCAN30',\n",
       " 'ZSCAN31',\n",
       " 'ZSCAN32',\n",
       " 'ZSCAN4',\n",
       " 'ZSCAN5A',\n",
       " 'ZSCAN5B',\n",
       " 'ZSCAN5C',\n",
       " 'ZSCAN9',\n",
       " 'ZSWIM1',\n",
       " 'ZSWIM2',\n",
       " 'ZSWIM3',\n",
       " 'ZSWIM4',\n",
       " 'ZSWIM5',\n",
       " 'ZSWIM6',\n",
       " 'ZSWIM7',\n",
       " 'ZSWIM8',\n",
       " 'ZSWIM9',\n",
       " 'ZUP1'}"
      ]
     },
     "execution_count": 73,
     "metadata": {},
     "output_type": "execute_result"
    }
   ],
   "source": [
    "# In second file but not in first file\n",
    "genes2 - genes1"
   ]
  },
  {
   "cell_type": "markdown",
   "metadata": {},
   "source": [
    "## Dictionaries"
   ]
  },
  {
   "cell_type": "code",
   "execution_count": 81,
   "metadata": {
    "pycharm": {
     "name": "#%%\n"
    }
   },
   "outputs": [
    {
     "data": {
      "text/plain": [
       "[{'last_name': 'Weaver',\n",
       "  'first_name': 'Michael',\n",
       "  'email': 'xdunn@hotmail.com',\n",
       "  'country': 'Nepal',\n",
       "  'account': 'QVJP6465242365388'},\n",
       " {'last_name': 'Owens',\n",
       "  'first_name': 'Jackson',\n",
       "  'email': 'iedwards@yahoo.com',\n",
       "  'country': 'Kazakhstan',\n",
       "  'account': 'FVQZ0955529767455'},\n",
       " {'last_name': 'Gilmore',\n",
       "  'first_name': 'Patrick',\n",
       "  'email': 'arogers@smith.com',\n",
       "  'country': 'Mauritius',\n",
       "  'account': 'QFIM0905182880347'},\n",
       " {'last_name': 'Perez',\n",
       "  'first_name': 'Jeffrey',\n",
       "  'email': 'plewis@chavez.com',\n",
       "  'country': 'New',\n",
       "  'account': 'Zealand'},\n",
       " {'last_name': 'Thomas',\n",
       "  'first_name': 'James',\n",
       "  'email': 'fred92@yahoo.com',\n",
       "  'country': 'Yemen',\n",
       "  'account': 'QAAE9838291982555'},\n",
       " {'last_name': 'Nelson',\n",
       "  'first_name': 'Greg',\n",
       "  'email': 'mmiller@lynch.com',\n",
       "  'country': 'Jordan',\n",
       "  'account': 'PCNE8127696280157'},\n",
       " {'last_name': 'White',\n",
       "  'first_name': 'Joshua',\n",
       "  'email': 'steven49@gmail.com',\n",
       "  'country': 'Palau',\n",
       "  'account': 'BCEN3299883381338'},\n",
       " {'last_name': 'Francis',\n",
       "  'first_name': 'Todd',\n",
       "  'email': 'amanda23@hotmail.com',\n",
       "  'country': 'Argentina',\n",
       "  'account': 'XPTQ7837014557677'},\n",
       " {'last_name': 'Shaw',\n",
       "  'first_name': 'Stephen',\n",
       "  'email': 'jackduke@hotmail.com',\n",
       "  'country': 'Marshall',\n",
       "  'account': 'Islands'},\n",
       " {'last_name': 'Armstrong',\n",
       "  'first_name': 'Mariah',\n",
       "  'email': 'rhodesnicholas@hotmail.com',\n",
       "  'country': 'Albania',\n",
       "  'account': 'OHOV7518558201999'},\n",
       " {'last_name': 'Boyle',\n",
       "  'first_name': 'Anthony',\n",
       "  'email': 'smithashlee@yahoo.com',\n",
       "  'country': 'Kyrgyz',\n",
       "  'account': 'Republic'},\n",
       " {'last_name': 'Cuevas',\n",
       "  'first_name': 'Patrick',\n",
       "  'email': 'ubriggs@hill.info',\n",
       "  'country': 'Turkmenistan',\n",
       "  'account': 'PPHE5533473251751'},\n",
       " {'last_name': 'Reyes',\n",
       "  'first_name': 'Gerald',\n",
       "  'email': 'brownclarence@gonzalez-moore.com',\n",
       "  'country': 'Fiji',\n",
       "  'account': 'JCDK1943355298609'},\n",
       " {'last_name': 'Calderon',\n",
       "  'first_name': 'Christopher',\n",
       "  'email': 'teresa30@carpenter-warner.com',\n",
       "  'country': 'Costa',\n",
       "  'account': 'Rica'},\n",
       " {'last_name': 'Weiss',\n",
       "  'first_name': 'Shane',\n",
       "  'email': 'leekatherine@williams.com',\n",
       "  'country': 'Martinique',\n",
       "  'account': 'DLDV5789894914403'},\n",
       " {'last_name': 'Conley',\n",
       "  'first_name': 'Crystal',\n",
       "  'email': 'chasewatkins@perez-phillips.com',\n",
       "  'country': 'Singapore',\n",
       "  'account': 'GZZF6936998445532'},\n",
       " {'last_name': 'Nelson',\n",
       "  'first_name': 'Jeffrey',\n",
       "  'email': 'hsherman@gmail.com',\n",
       "  'country': 'Mayotte',\n",
       "  'account': 'ECGK2823955143629'},\n",
       " {'last_name': 'Johnson',\n",
       "  'first_name': 'Brianna',\n",
       "  'email': 'martinezdaniel@hotmail.com',\n",
       "  'country': 'Costa',\n",
       "  'account': 'Rica'},\n",
       " {'last_name': 'Werner',\n",
       "  'first_name': 'Brandon',\n",
       "  'email': 'justinfischer@gmail.com',\n",
       "  'country': 'Guadeloupe',\n",
       "  'account': 'UKRT1119626365017'},\n",
       " {'last_name': 'Bennett',\n",
       "  'first_name': 'Brianna',\n",
       "  'email': 'cindy08@gmail.com',\n",
       "  'country': 'Bahamas',\n",
       "  'account': 'UNPV3347450330173'},\n",
       " {'last_name': 'Fletcher',\n",
       "  'first_name': 'Austin',\n",
       "  'email': 'carolharrington@fleming.org',\n",
       "  'country': 'Azerbaijan',\n",
       "  'account': 'GJZT6825738428111'},\n",
       " {'last_name': 'Lewis',\n",
       "  'first_name': 'Patrick',\n",
       "  'email': 'lopezcarl@johnson.com',\n",
       "  'country': 'Saint',\n",
       "  'account': 'Helena'},\n",
       " {'last_name': 'Smith',\n",
       "  'first_name': 'Joseph',\n",
       "  'email': 'michael74@yahoo.com',\n",
       "  'country': 'Hong',\n",
       "  'account': 'Kong'},\n",
       " {'last_name': 'Sullivan',\n",
       "  'first_name': 'Sharon',\n",
       "  'email': 'gonzalezrobert@hotmail.com',\n",
       "  'country': 'Turkey',\n",
       "  'account': 'YHXF7256577475630'},\n",
       " {'last_name': 'Wilson',\n",
       "  'first_name': 'Krystal',\n",
       "  'email': 'dawnjohnson@gmail.com',\n",
       "  'country': 'Swaziland',\n",
       "  'account': 'MUVI3570791852556'},\n",
       " {'last_name': 'Schmidt',\n",
       "  'first_name': 'Diana',\n",
       "  'email': 'watersryan@gmail.com',\n",
       "  'country': 'Holy',\n",
       "  'account': 'See'},\n",
       " {'last_name': 'Huff',\n",
       "  'first_name': 'Sean',\n",
       "  'email': 'byoung@gmail.com',\n",
       "  'country': 'Norfolk',\n",
       "  'account': 'Island'},\n",
       " {'last_name': 'Nguyen',\n",
       "  'first_name': 'Robin',\n",
       "  'email': 'vhanson@yahoo.com',\n",
       "  'country': 'Kenya',\n",
       "  'account': 'SVMU4403517448078'},\n",
       " {'last_name': 'Russell',\n",
       "  'first_name': 'Robyn',\n",
       "  'email': 'bfletcher@yahoo.com',\n",
       "  'country': 'Togo',\n",
       "  'account': 'ZNUY4071301663622'},\n",
       " {'last_name': 'Smith',\n",
       "  'first_name': 'Tiffany',\n",
       "  'email': 'colleengarrison@hotmail.com',\n",
       "  'country': 'San',\n",
       "  'account': 'Marino'},\n",
       " {'last_name': 'Smith',\n",
       "  'first_name': 'Lori',\n",
       "  'email': 'catherine23@gmail.com',\n",
       "  'country': 'Romania',\n",
       "  'account': 'MKWY4848668895426'},\n",
       " {'last_name': 'Keith',\n",
       "  'first_name': 'Sabrina',\n",
       "  'email': 'xmurphy@yahoo.com',\n",
       "  'country': 'Algeria',\n",
       "  'account': 'QHIW7412514205367'},\n",
       " {'last_name': 'Johnson',\n",
       "  'first_name': 'Miguel',\n",
       "  'email': 'aaronrichard@middleton.net',\n",
       "  'country': 'Slovakia',\n",
       "  'account': '(Slovak'},\n",
       " {'last_name': 'Barron',\n",
       "  'first_name': 'Dustin',\n",
       "  'email': 'jesse93@best.com',\n",
       "  'country': 'Somalia',\n",
       "  'account': 'LRPR8694143910883'},\n",
       " {'last_name': 'Robinson',\n",
       "  'first_name': 'Michael',\n",
       "  'email': 'johnperez@johnson.com',\n",
       "  'country': 'Turkmenistan',\n",
       "  'account': 'UWFU1921951273393'},\n",
       " {'last_name': 'Nguyen',\n",
       "  'first_name': 'Robert',\n",
       "  'email': 'jessica62@yahoo.com',\n",
       "  'country': 'Croatia',\n",
       "  'account': 'JQHS4274771257925'},\n",
       " {'last_name': 'Abbott',\n",
       "  'first_name': 'Brandon',\n",
       "  'email': 'jennifer87@gmail.com',\n",
       "  'country': 'Jamaica',\n",
       "  'account': 'RSLD0426398604312'},\n",
       " {'last_name': 'Oneill',\n",
       "  'first_name': 'Bruce',\n",
       "  'email': 'morenolindsay@bass.org',\n",
       "  'country': 'Montserrat',\n",
       "  'account': 'UYHI6964741005832'},\n",
       " {'last_name': 'Nash',\n",
       "  'first_name': 'Linda',\n",
       "  'email': 'robertdavis@hotmail.com',\n",
       "  'country': 'Heard',\n",
       "  'account': 'Island'},\n",
       " {'last_name': 'Cameron',\n",
       "  'first_name': 'Kathleen',\n",
       "  'email': 'melanie81@rogers.com',\n",
       "  'country': 'Niger',\n",
       "  'account': 'HHHP3471562002758'},\n",
       " {'last_name': 'Wilkinson',\n",
       "  'first_name': 'Wesley',\n",
       "  'email': 'clineerin@hotmail.com',\n",
       "  'country': 'Saint',\n",
       "  'account': 'Vincent'},\n",
       " {'last_name': 'Wallace',\n",
       "  'first_name': 'Debbie',\n",
       "  'email': 'terri95@hotmail.com',\n",
       "  'country': 'Antigua',\n",
       "  'account': 'and'},\n",
       " {'last_name': 'Woodward',\n",
       "  'first_name': 'Kayla',\n",
       "  'email': 'danielle65@yahoo.com',\n",
       "  'country': 'Mexico',\n",
       "  'account': 'VDWY7565964041116'},\n",
       " {'last_name': 'Bennett',\n",
       "  'first_name': 'Stephanie',\n",
       "  'email': 'sjackson@yahoo.com',\n",
       "  'country': 'Singapore',\n",
       "  'account': 'DNRB2101855092009'},\n",
       " {'last_name': 'Jenkins',\n",
       "  'first_name': 'Caleb',\n",
       "  'email': 'douglas63@yahoo.com',\n",
       "  'country': 'Botswana',\n",
       "  'account': 'IILE1765776198023'},\n",
       " {'last_name': 'Edwards',\n",
       "  'first_name': 'Valerie',\n",
       "  'email': 'woodardlindsey@yahoo.com',\n",
       "  'country': 'Guinea',\n",
       "  'account': 'ZJUF2687631787282'},\n",
       " {'last_name': 'Anderson',\n",
       "  'first_name': 'Mary',\n",
       "  'email': 'suebrown@yahoo.com',\n",
       "  'country': 'Chile',\n",
       "  'account': 'DHMT4208071148508'},\n",
       " {'last_name': 'Ray',\n",
       "  'first_name': 'Angela',\n",
       "  'email': 'swhite@yahoo.com',\n",
       "  'country': 'Mayotte',\n",
       "  'account': 'UBRR8524342666714'},\n",
       " {'last_name': 'Edwards',\n",
       "  'first_name': 'Haley',\n",
       "  'email': 'martinkimberly@lopez.com',\n",
       "  'country': 'Macedonia',\n",
       "  'account': 'OGPU6537909247863'},\n",
       " {'last_name': 'Clark',\n",
       "  'first_name': 'Charles',\n",
       "  'email': 'jessica11@hotmail.com',\n",
       "  'country': 'Ukraine',\n",
       "  'account': 'AHYX6128839695452'},\n",
       " {'last_name': 'Hill',\n",
       "  'first_name': 'Lisa',\n",
       "  'email': 'hsmith@baker.com',\n",
       "  'country': 'Saint',\n",
       "  'account': 'Martin'},\n",
       " {'last_name': 'Carpenter',\n",
       "  'first_name': 'Jonathan',\n",
       "  'email': 'fklein@yahoo.com',\n",
       "  'country': 'Germany',\n",
       "  'account': 'PKFW4841194501766'},\n",
       " {'last_name': 'Griffith',\n",
       "  'first_name': 'Latoya',\n",
       "  'email': 'ryan32@skinner.com',\n",
       "  'country': 'Lesotho',\n",
       "  'account': 'BNYD8693045932496'},\n",
       " {'last_name': 'Blair',\n",
       "  'first_name': 'Kim',\n",
       "  'email': 'tmurphy@flores.biz',\n",
       "  'country': 'Nepal',\n",
       "  'account': 'FQJA6381776349463'},\n",
       " {'last_name': 'Salazar',\n",
       "  'first_name': 'Mary',\n",
       "  'email': 'mary64@ray.org',\n",
       "  'country': 'Latvia',\n",
       "  'account': 'KCNI2464381879411'},\n",
       " {'last_name': 'Krueger',\n",
       "  'first_name': 'Kenneth',\n",
       "  'email': 'jennajoseph@yahoo.com',\n",
       "  'country': 'Central',\n",
       "  'account': 'African'},\n",
       " {'last_name': 'Burke',\n",
       "  'first_name': 'Phillip',\n",
       "  'email': 'watsonsamuel@gmail.com',\n",
       "  'country': 'Peru',\n",
       "  'account': 'CNJX1222752295544'},\n",
       " {'last_name': 'Juarez',\n",
       "  'first_name': 'Erica',\n",
       "  'email': 'xvelasquez@hughes.com',\n",
       "  'country': 'Spain',\n",
       "  'account': 'ZROP5229895490397'},\n",
       " {'last_name': 'Watkins',\n",
       "  'first_name': 'Jason',\n",
       "  'email': 'april99@gmail.com',\n",
       "  'country': 'Seychelles',\n",
       "  'account': 'NXKK2792812848629'},\n",
       " {'last_name': 'Carter',\n",
       "  'first_name': 'Lee',\n",
       "  'email': 'kfletcher@yahoo.com',\n",
       "  'country': 'Faroe',\n",
       "  'account': 'Islands'},\n",
       " {'last_name': 'Huang',\n",
       "  'first_name': 'Randy',\n",
       "  'email': 'xchurch@hotmail.com',\n",
       "  'country': 'Tokelau',\n",
       "  'account': 'KAOL9792684486009'},\n",
       " {'last_name': 'Owen',\n",
       "  'first_name': 'Kristina',\n",
       "  'email': 'megan24@stewart.net',\n",
       "  'country': 'Cocos',\n",
       "  'account': '(Keeling)'},\n",
       " {'last_name': 'Turner',\n",
       "  'first_name': 'Beth',\n",
       "  'email': 'sydneycollins@hunter.com',\n",
       "  'country': 'Burundi',\n",
       "  'account': 'OMOK4767172062189'},\n",
       " {'last_name': 'Aguirre',\n",
       "  'first_name': 'Michael',\n",
       "  'email': 'robertbowen@chavez-ortega.com',\n",
       "  'country': 'Timor-Leste',\n",
       "  'account': 'KRKF7344951038740'},\n",
       " {'last_name': 'Wilson',\n",
       "  'first_name': 'Elizabeth',\n",
       "  'email': 'christiandanielle@yahoo.com',\n",
       "  'country': 'Montserrat',\n",
       "  'account': 'SAAA4141150617330'},\n",
       " {'last_name': 'Hardy',\n",
       "  'first_name': 'Teresa',\n",
       "  'email': 'kdavidson@gordon.com',\n",
       "  'country': 'Norway',\n",
       "  'account': 'XNWQ1072087896797'},\n",
       " {'last_name': 'Stewart',\n",
       "  'first_name': 'David',\n",
       "  'email': 'bennettwanda@vega-guerra.net',\n",
       "  'country': 'Sierra',\n",
       "  'account': 'Leone'},\n",
       " {'last_name': 'Moore',\n",
       "  'first_name': 'Heather',\n",
       "  'email': 'mark00@hotmail.com',\n",
       "  'country': 'French',\n",
       "  'account': 'Polynesia'},\n",
       " {'last_name': 'Grant',\n",
       "  'first_name': 'Melissa',\n",
       "  'email': 'schaefernatalie@hotmail.com',\n",
       "  'country': 'French',\n",
       "  'account': 'Guiana'},\n",
       " {'last_name': 'Thompson',\n",
       "  'first_name': 'Jennifer',\n",
       "  'email': 'moralesmartin@rodgers.com',\n",
       "  'country': 'Cape',\n",
       "  'account': 'Verde'},\n",
       " {'last_name': 'Anderson',\n",
       "  'first_name': 'Raymond',\n",
       "  'email': 'dprince@hotmail.com',\n",
       "  'country': 'Barbados',\n",
       "  'account': 'IGXK5881682171566'},\n",
       " {'last_name': 'Ramsey',\n",
       "  'first_name': 'Angela',\n",
       "  'email': 'cparks@valdez-hudson.com',\n",
       "  'country': 'Andorra',\n",
       "  'account': 'QYBW6359021109484'},\n",
       " {'last_name': 'Gonzales',\n",
       "  'first_name': 'Betty',\n",
       "  'email': 'martinezrichard@yahoo.com',\n",
       "  'country': 'Montserrat',\n",
       "  'account': 'UTSI0776569247505'},\n",
       " {'last_name': 'Castaneda',\n",
       "  'first_name': 'Thomas',\n",
       "  'email': 'kpena@yahoo.com',\n",
       "  'country': 'Egypt',\n",
       "  'account': 'LSDI9463735752680'},\n",
       " {'last_name': 'Todd',\n",
       "  'first_name': 'Jonathan',\n",
       "  'email': 'julie68@gmail.com',\n",
       "  'country': 'Malaysia',\n",
       "  'account': 'ISYY1401931979959'},\n",
       " {'last_name': 'Garcia',\n",
       "  'first_name': 'Stacey',\n",
       "  'email': 'lukebradford@hotmail.com',\n",
       "  'country': 'Zimbabwe',\n",
       "  'account': 'HNOA0376843856035'},\n",
       " {'last_name': 'Figueroa',\n",
       "  'first_name': 'Judy',\n",
       "  'email': 'ystewart@yahoo.com',\n",
       "  'country': 'Portugal',\n",
       "  'account': 'EEVV8325881104553'},\n",
       " {'last_name': 'Castillo',\n",
       "  'first_name': 'Ashley',\n",
       "  'email': 'cory33@king-shaw.net',\n",
       "  'country': 'Paraguay',\n",
       "  'account': 'QXGZ3111246190069'},\n",
       " {'last_name': 'Flores',\n",
       "  'first_name': 'Zachary',\n",
       "  'email': 'zcalhoun@gmail.com',\n",
       "  'country': 'Central',\n",
       "  'account': 'African'},\n",
       " {'last_name': 'Allen',\n",
       "  'first_name': 'Erica',\n",
       "  'email': 'michaelhall@hotmail.com',\n",
       "  'country': 'Palau',\n",
       "  'account': 'ZAZD8310339637467'},\n",
       " {'last_name': 'Potts',\n",
       "  'first_name': 'Savannah',\n",
       "  'email': 'kristentaylor@yahoo.com',\n",
       "  'country': 'Micronesia',\n",
       "  'account': 'ARWK1547324119222'},\n",
       " {'last_name': 'Wheeler',\n",
       "  'first_name': 'Zachary',\n",
       "  'email': 'stephen63@yahoo.com',\n",
       "  'country': 'Armenia',\n",
       "  'account': 'OMQX4840913072589'},\n",
       " {'last_name': 'Thomas',\n",
       "  'first_name': 'Timothy',\n",
       "  'email': 'bryanmartin@gmail.com',\n",
       "  'country': 'Bahrain',\n",
       "  'account': 'OCFV4659464275270'},\n",
       " {'last_name': 'Mcknight',\n",
       "  'first_name': 'Ann',\n",
       "  'email': 'kristinavelasquez@gmail.com',\n",
       "  'country': 'Guatemala',\n",
       "  'account': 'DTRB4720098955341'},\n",
       " {'last_name': 'Thompson',\n",
       "  'first_name': 'Ruth',\n",
       "  'email': 'denise01@burns.org',\n",
       "  'country': 'Saint',\n",
       "  'account': 'Vincent'},\n",
       " {'last_name': 'Levy',\n",
       "  'first_name': 'Daniel',\n",
       "  'email': 'beancody@jones.com',\n",
       "  'country': 'Kazakhstan',\n",
       "  'account': 'AHBN3151680654826'},\n",
       " {'last_name': 'Hubbard',\n",
       "  'first_name': 'Paul',\n",
       "  'email': 'ubradley@yahoo.com',\n",
       "  'country': 'Germany',\n",
       "  'account': 'FGBC0366153271398'},\n",
       " {'last_name': 'Jones',\n",
       "  'first_name': 'Jason',\n",
       "  'email': 'anthony75@yahoo.com',\n",
       "  'country': 'Western',\n",
       "  'account': 'Sahara'},\n",
       " {'last_name': 'Garcia',\n",
       "  'first_name': 'Margaret',\n",
       "  'email': 'antonio52@gmail.com',\n",
       "  'country': 'Togo',\n",
       "  'account': 'IYOD4325345823013'},\n",
       " {'last_name': 'Peters',\n",
       "  'first_name': 'Jeremy',\n",
       "  'email': 'johnlewis@hotmail.com',\n",
       "  'country': 'Guam',\n",
       "  'account': 'NZFX8257739892619'},\n",
       " {'last_name': 'Stone',\n",
       "  'first_name': 'Mark',\n",
       "  'email': 'nmoore@hotmail.com',\n",
       "  'country': 'Kuwait',\n",
       "  'account': 'MWRB2515761996641'},\n",
       " {'last_name': 'Edwards',\n",
       "  'first_name': 'Darius',\n",
       "  'email': 'nchurch@yahoo.com',\n",
       "  'country': 'Eritrea',\n",
       "  'account': 'CURJ9953745256871'},\n",
       " {'last_name': 'Lawson',\n",
       "  'first_name': 'Tracy',\n",
       "  'email': 'piercejenna@gmail.com',\n",
       "  'country': 'Czech',\n",
       "  'account': 'Republic'},\n",
       " {'last_name': 'Cooper',\n",
       "  'first_name': 'Christina',\n",
       "  'email': 'ddavidson@hotmail.com',\n",
       "  'country': 'Maldives',\n",
       "  'account': 'RQGA0882784089265'},\n",
       " {'last_name': 'Harris',\n",
       "  'first_name': 'Megan',\n",
       "  'email': 'ndelacruz@yahoo.com',\n",
       "  'country': 'Armenia',\n",
       "  'account': 'EOPA8088866975598'},\n",
       " {'last_name': 'Jones',\n",
       "  'first_name': 'Timothy',\n",
       "  'email': 'jenniferadkins@griffin.biz',\n",
       "  'country': 'Benin',\n",
       "  'account': 'JCUN9597199552039'},\n",
       " {'last_name': 'Burch',\n",
       "  'first_name': 'Tracie',\n",
       "  'email': 'evansmiguel@yahoo.com',\n",
       "  'country': 'Fiji',\n",
       "  'account': 'IZYL3351829981461'},\n",
       " {'last_name': 'Chung',\n",
       "  'first_name': 'Jason',\n",
       "  'email': 'kenneththompson@baxter.com',\n",
       "  'country': 'Iceland',\n",
       "  'account': 'JDIH2349154465371'},\n",
       " {'last_name': 'Melton',\n",
       "  'first_name': 'Samantha',\n",
       "  'email': 'bcurtis@hotmail.com',\n",
       "  'country': 'Macedonia',\n",
       "  'account': 'VRZP1447516193511'},\n",
       " {'last_name': 'Hansen',\n",
       "  'first_name': 'Michael',\n",
       "  'email': 'phillipssean@hotmail.com',\n",
       "  'country': 'Serbia',\n",
       "  'account': 'QKAF2254397516681'}]"
      ]
     },
     "execution_count": 81,
     "metadata": {},
     "output_type": "execute_result"
    }
   ],
   "source": [
    "##############################################################\n",
    "# dict_ex1.py\n",
    "# Load people.tsv into a dictionary. Prompt user for filename\n",
    "with open(\"people.tsv\",\"r\") as fin:\n",
    "    lines = [l.strip().split() for l in fin.readlines()[1:]]\n",
    "    people = [{'last_name':l[0], 'first_name': l[1], 'email': l[2], 'country': l[3], 'account': l[4]} for l in lines]\n",
    "people\n"
   ]
  },
  {
   "cell_type": "code",
   "execution_count": 8,
   "metadata": {
    "pycharm": {
     "name": "#%%\n"
    }
   },
   "outputs": [
    {
     "name": "stdout",
     "output_type": "stream",
     "text": [
      "January\n"
     ]
    }
   ],
   "source": [
    "####################################################\n",
    "# dict_ex2.py\n",
    "# Write a function to convert month number to\n",
    "# month name. First use a list and then a dictionary\n",
    "# 'January', 'February', 'March', 'April', 'May', 'June', 'July', 'August', 'September', 'October', 'November', 'December'\n",
    "\n",
    "months = ['pad', 'January', 'February', 'March', 'April', 'May', 'June', 'July', 'August', 'September', 'October', 'November', 'December']\n",
    "\n",
    "def convert_to_month_name(month_number):\n",
    "    if month_number > 12 or month_number < 1:\n",
    "        raise ValueError(f\"There is no such month number ({month_number})\")\n",
    "    return months[month_number]\n",
    "\n",
    "print(convert_to_month_name(1))\n",
    "\n"
   ]
  },
  {
   "cell_type": "code",
   "execution_count": 15,
   "metadata": {},
   "outputs": [
    {
     "name": "stdout",
     "output_type": "stream",
     "text": [
      "None\n"
     ]
    }
   ],
   "source": [
    "months_to_number = {v.lower():i+1 for i,v in enumerate(months[1:])}\n",
    "\n",
    "def convert_to_month_number(month_name):\n",
    "    return months_to_number.get(month_name.lower(), None)\n",
    "    \n",
    "#months_to_number\n",
    "print(convert_to_month_number(\"manuary\"))"
   ]
  },
  {
   "cell_type": "code",
   "execution_count": null,
   "metadata": {},
   "outputs": [],
   "source": []
  },
  {
   "cell_type": "code",
   "execution_count": 25,
   "metadata": {
    "pycharm": {
     "name": "#%%\n"
    }
   },
   "outputs": [
    {
     "data": {
      "text/plain": [
       "83781"
      ]
     },
     "execution_count": 25,
     "metadata": {},
     "output_type": "execute_result"
    }
   ],
   "source": [
    "####################################################\n",
    "# dict_ex3.py\n",
    "# Convert text message to numbers\n",
    "\n",
    "# 0 \tspace\n",
    "# 1 \t., ?, !\n",
    "# 2 \tABC\n",
    "# 3 \tDEF\n",
    "# 4 \tGHI\n",
    "# 5 \tJKL\n",
    "# 6 \tMNO\n",
    "# 7 \tPQRS\n",
    "# 8 \tTUV\n",
    "# 9 \tWXYZ\n",
    "\n",
    "code = {\n",
    "    0: \" \",\n",
    "    1: \".,?!\",\n",
    "    2: \"ABC\",\n",
    "    3: \"DEF\",\n",
    "    4: \"GHI\",\n",
    "    5: \"JKL\",\n",
    "    6: \"MNO\",\n",
    "    7: \"PQRS\",\n",
    "    8: \"TUV\",\n",
    "    9: \"WXYZ\"\n",
    "}\n",
    "\n",
    "symbol_to_number = {}\n",
    "for k,v in code.items():\n",
    "    for s in v:\n",
    "        symbol_to_number[s] = k\n",
    "\n",
    "\n",
    "def convert_text_to_numbers(msg):\n",
    "    return int(\"\".join([str(symbol_to_number[m]) for m in msg.upper()]))\n",
    "\n",
    "convert_text_to_numbers(\"Test!\")"
   ]
  },
  {
   "cell_type": "code",
   "execution_count": 27,
   "metadata": {
    "pycharm": {
     "name": "#%%\n"
    }
   },
   "outputs": [
    {
     "name": "stdout",
     "output_type": "stream",
     "text": [
      "0 11\n",
      "1 14\n",
      "2 17\n",
      "3 20\n"
     ]
    }
   ],
   "source": [
    "####################################################\n",
    "# dict_ex4.py\n",
    "# Write a function that uses enumerate to print the index and value from range.\n",
    "# Use vary the enumerate start index\n",
    "for i,v in enumerate(range(11,21,3)):\n",
    "    print(i, v)"
   ]
  },
  {
   "cell_type": "code",
   "execution_count": 61,
   "metadata": {
    "pycharm": {
     "name": "#%%\n"
    }
   },
   "outputs": [
    {
     "name": "stdout",
     "output_type": "stream",
     "text": [
      "Sum   Exp.  Theory\n",
      " 2    3.40    2.78\n",
      " 3    6.00    5.56\n",
      " 4    8.60    8.33\n",
      " 5   10.20   11.11\n",
      " 6   13.40   13.89\n",
      " 7   17.40   16.67\n",
      " 8   14.10   13.89\n",
      " 9   10.50   11.11\n",
      "10    7.30    8.33\n",
      "11    6.20    5.56\n",
      "12    2.90    2.78\n"
     ]
    }
   ],
   "source": [
    "######################################################\n",
    "# dict_ex5.py\n",
    "# Simulate two dice. Print the total, theoretical/expected probability, and simulated probability\n",
    "# input: the number of simulations\n",
    "# https://socratic.org/questions/what-is-the-expected-value-of-the-sum-of-two-rolls-of-a-six-sided-die\n",
    "# Total     Simulated Percent     Expected Percent\n",
    "\n",
    "# 2                      2.76                 2.78\n",
    "# 3                      5.57                 5.56\n",
    "# 4                      8.34                 8.33\n",
    "# 5                      11.1                11.11\n",
    "# 6                     13.83                13.89\n",
    "# 7                     16.68                16.67\n",
    "# 8                      13.9                13.89\n",
    "# 9                      11.1                11.11\n",
    "# 10                     8.36                 8.33\n",
    "# 11                     5.57                 5.56\n",
    "# 12                     2.79                 2.78\n",
    "n_sim = 1000\n",
    "n_dice = 2\n",
    "import random\n",
    "\n",
    "\n",
    "\n",
    "\n",
    "#single_experiment = tuple((random.randint(1,6) for i in range(n_dice)))\n",
    "\n",
    "\n",
    "statistic = {i:0 for i in range(2,13)}\n",
    "\n",
    "for i_exp in range(n_sim):\n",
    "    # single_experiment\n",
    "    single_experiment = tuple((random.randint(1,6) for i in range(n_dice)))\n",
    "    m_sum = sum(single_experiment)\n",
    "    \n",
    "    #if m_sum not in statistic:\n",
    "    #    statistic[m_sum] = 0\n",
    "    statistic[m_sum] += 1\n",
    "prob_statistic = {k:100*v/n_sim for k,v in statistic.items()}\n",
    "\n",
    "# lets count\n",
    "prob_count = {i:0 for i in range(2,13)}\n",
    "for dice1 in range(1,7):\n",
    "    for dice2 in range(1,7):\n",
    "        m_sum = dice1+dice2\n",
    "        #if m_sum not in prob_count:\n",
    "        #    prob_count[m_sum] = 0\n",
    "        prob_count[m_sum] += 1\n",
    "\n",
    "prob_count = {k:100*v/(6*6) for k,v in prob_count.items()}\n",
    "#prob_count\n",
    "#anlyse it\n",
    "prob_statistic\n",
    "\n",
    "print(f\"Sum   Exp.  Theory\")\n",
    "for m_sum in range(2,13):\n",
    "    print(f\"{m_sum:2} {prob_statistic[m_sum]:7.2f} {prob_count[m_sum]:7.2f}\")\n",
    "\n"
   ]
  },
  {
   "cell_type": "markdown",
   "metadata": {},
   "source": [
    "## Lambda Function"
   ]
  },
  {
   "cell_type": "code",
   "execution_count": 67,
   "metadata": {},
   "outputs": [],
   "source": [
    "values = [1,2,4,8]"
   ]
  },
  {
   "cell_type": "code",
   "execution_count": 68,
   "metadata": {},
   "outputs": [
    {
     "data": {
      "text/plain": [
       "[1.0, 6.498019170849885, 42.22425314473263, 274.37400640929116]"
      ]
     },
     "execution_count": 68,
     "metadata": {},
     "output_type": "execute_result"
    }
   ],
   "source": [
    "def my_func(x):\n",
    "    return pow(x, 2.7)\n",
    "list(map(my_func,values))"
   ]
  },
  {
   "cell_type": "code",
   "execution_count": 69,
   "metadata": {},
   "outputs": [
    {
     "data": {
      "text/plain": [
       "[1.0, 6.498019170849885, 42.22425314473263, 274.37400640929116]"
      ]
     },
     "execution_count": 69,
     "metadata": {},
     "output_type": "execute_result"
    }
   ],
   "source": [
    "list(map(lambda x: pow(x, 2.7),values))"
   ]
  },
  {
   "cell_type": "code",
   "execution_count": 74,
   "metadata": {},
   "outputs": [
    {
     "data": {
      "text/plain": [
       "19.419023519771343"
      ]
     },
     "execution_count": 74,
     "metadata": {},
     "output_type": "execute_result"
    }
   ],
   "source": [
    "(lambda x: pow(x, 2.7))(3)"
   ]
  },
  {
   "cell_type": "code",
   "execution_count": 70,
   "metadata": {},
   "outputs": [],
   "source": [
    "func=lambda x: pow(x, 2.7)"
   ]
  },
  {
   "cell_type": "code",
   "execution_count": 72,
   "metadata": {},
   "outputs": [
    {
     "data": {
      "text/plain": [
       "6.498019170849885"
      ]
     },
     "execution_count": 72,
     "metadata": {},
     "output_type": "execute_result"
    }
   ],
   "source": [
    "func(2)"
   ]
  },
  {
   "cell_type": "code",
   "execution_count": 76,
   "metadata": {
    "pycharm": {
     "name": "#%%\n"
    }
   },
   "outputs": [],
   "source": [
    "# lambda_ex1.py\n",
    "# Write a function that squares a number and returns the value.\n",
    "# Write it again again using Lambda functions\n",
    "def my_func(x):\n",
    "    return pow(x, 2)\n",
    "\n",
    "lambda x: pow(x, 2)"
   ]
  },
  {
   "cell_type": "code",
   "execution_count": 79,
   "metadata": {},
   "outputs": [
    {
     "data": {
      "text/plain": [
       "9"
      ]
     },
     "execution_count": 79,
     "metadata": {},
     "output_type": "execute_result"
    }
   ],
   "source": [
    "my_func(3)"
   ]
  },
  {
   "cell_type": "code",
   "execution_count": 78,
   "metadata": {},
   "outputs": [
    {
     "data": {
      "text/plain": [
       "9"
      ]
     },
     "execution_count": 78,
     "metadata": {},
     "output_type": "execute_result"
    }
   ],
   "source": [
    "(lambda x: pow(x, 2))(3)"
   ]
  },
  {
   "cell_type": "code",
   "execution_count": 81,
   "metadata": {
    "pycharm": {
     "name": "#%%\n"
    }
   },
   "outputs": [
    {
     "data": {
      "text/plain": [
       "3"
      ]
     },
     "execution_count": 81,
     "metadata": {},
     "output_type": "execute_result"
    }
   ],
   "source": [
    "# lambda_ex2.py\n",
    "# Write a lambda function for adding two numbers\n",
    "lambda x,y : x+y\n",
    "(lambda x,y : x+y)(1,2)"
   ]
  },
  {
   "cell_type": "code",
   "execution_count": null,
   "metadata": {},
   "outputs": [],
   "source": []
  },
  {
   "cell_type": "code",
   "execution_count": 85,
   "metadata": {
    "pycharm": {
     "name": "#%%\n"
    }
   },
   "outputs": [
    {
     "data": {
      "text/plain": [
       "[(1, 2), (4, 2), (2, 8), (4, 5), (6, 5)]"
      ]
     },
     "execution_count": 85,
     "metadata": {},
     "output_type": "execute_result"
    }
   ],
   "source": [
    "# lambda_ex3.py\n",
    "# Write a lambda function that multiples two numbers. Use the lambda function as an input to another function.\n",
    "lambda x,y : x*y\n",
    "\n",
    "xy = (\n",
    "    (1,2),\n",
    "    (4,5),\n",
    "    (6,5),\n",
    "    (4,2),\n",
    "    (2,8)\n",
    ")\n",
    "\n",
    "sorted(xy, key=lambda x : x[0]*x[1])"
   ]
  },
  {
   "cell_type": "code",
   "execution_count": 88,
   "metadata": {},
   "outputs": [
    {
     "name": "stdout",
     "output_type": "stream",
     "text": [
      "70\n"
     ]
    }
   ],
   "source": [
    "def my_big_function(func_in):\n",
    "    import random\n",
    "    print(func_in(random.randint(0,10),random.randint(0,10)))\n",
    "\n",
    "my_big_function(lambda x,y : x*y)"
   ]
  },
  {
   "cell_type": "code",
   "execution_count": 107,
   "metadata": {
    "pycharm": {
     "name": "#%%\n"
    }
   },
   "outputs": [
    {
     "name": "stdout",
     "output_type": "stream",
     "text": [
      "[0, 100, 400, 900, 1600, 2500, 3600, 4900, 6400, 8100]\n",
      "[0, 100, 400, 900, 1600, 2500, 3600, 4900, 6400, 8100]\n",
      "[0, 100, 400, 900, 1600, 2500, 3600, 4900, 6400, 8100]\n",
      "[0, 100, 400, 900, 1600, 2500, 3600, 4900, 6400, 8100]\n",
      "[0, 100, 400, 900, 1600, 2500, 3600, 4900, 6400, 8100]\n",
      "[0, 100, 400, 900, 1600, 2500, 3600, 4900, 6400, 8100]\n"
     ]
    }
   ],
   "source": [
    "# lambda_ex4.py\n",
    "# 1) Write a function to double a list\n",
    "# 2) Use list comprehension to double a list\n",
    "# 3) Use lambda with map to double a list\n",
    "# here double means square\n",
    "\n",
    "# lambda functions are used with other functions. Usually with map, filter, sort\n",
    "\n",
    "m_list = list(range(0,100,10))\n",
    "\n",
    "# double this list\n",
    "#range(len(m_list))\n",
    "for i in range(len(m_list)):\n",
    "    #print(i,m_list[i])\n",
    "    m_list[i] = m_list[i]*m_list[i]\n",
    "print(m_list)\n",
    "\n",
    "# method 1 - define a square function\n",
    "def square(x):\n",
    "    return x*x\n",
    "\n",
    "# method 2 - list comprehension\n",
    "m_list = list(range(0,100,10))\n",
    "\n",
    "print([x*x for x in m_list])\n",
    "print([square(x) for x in m_list])\n",
    "print([(lambda y: y*y)(x) for x in m_list])\n",
    "\n",
    "# method 3 - use lambda with map\n",
    "print(list(map(square, m_list)))\n",
    "\n",
    "print(list(map(lambda y: y*y, m_list)))\n",
    "# map objects are a generator. How many times can you iterate over them?\n",
    "#m_list"
   ]
  },
  {
   "cell_type": "code",
   "execution_count": null,
   "metadata": {
    "pycharm": {
     "name": "#%%\n"
    }
   },
   "outputs": [],
   "source": [
    "# lambda_ex5.py\n",
    "# Capitalize the names in the students list\n",
    "# 1) using a list and loop\n",
    "# 2) using list comprehension\n",
    "# 3) using lambda and map\n",
    "\n",
    "students = ['john', 'jane', 'doe']\n",
    "\n",
    "# make upper case\n",
    "\n",
    "\n",
    "# method 1 create new list and loop\n",
    "\n",
    "# method 2 -- use list comprehension\n",
    "\n",
    "# method 3 -- use lambda\n"
   ]
  },
  {
   "cell_type": "code",
   "execution_count": 115,
   "metadata": {
    "pycharm": {
     "name": "#%%\n"
    }
   },
   "outputs": [
    {
     "name": "stdout",
     "output_type": "stream",
     "text": [
      "[{'value': 34.4}, {'value': 45.3}, {'value': 73.4}]\n",
      "[{'value': 34.4}, {'value': 45.3}, {'value': 73.4}]\n",
      "[{'value': 34.4}, {'value': 45.3}, {'value': 73.4}]\n"
     ]
    }
   ],
   "source": [
    "# lambda_ex6.py\n",
    "# Using lambda and map, convert the numbers to float\n",
    "\n",
    "# covert each value to float\n",
    "\n",
    "my_dict = [{'value': '34.4'}, {'value': '45.3'}, {'value': '73.4'}]\n",
    "\n",
    "convert = float\n",
    "\n",
    "print([{'value': convert(v['value'])} for v in my_dict])\n",
    "\n",
    "def convert(x):\n",
    "    return {'value': float(x['value'])}\n",
    "\n",
    "print(list(map(convert, my_dict)))\n",
    "\n",
    "print(list(map(lambda x: {'value': float(x['value'])}, my_dict)))\n"
   ]
  },
  {
   "cell_type": "code",
   "execution_count": null,
   "metadata": {
    "pycharm": {
     "name": "#%%\n"
    }
   },
   "outputs": [],
   "source": [
    "# lambda_ex7.py\n",
    "# Create a dictionary where the key is year and\n",
    "# value is True/False if the year is a leap year\n",
    "# 1) using a loop and dict\n",
    "# 2) using filter without a function\n",
    "# 3)\n",
    "\n",
    "years = range(1970, 2000) # for these years\n",
    "\n",
    "\n",
    "\n",
    "def is_leap_year(year):\n",
    "    # does not work for century year\n",
    "    if year % 4 == 0:\n",
    "        return True\n",
    "    else:\n",
    "        return False\n"
   ]
  },
  {
   "cell_type": "code",
   "execution_count": 116,
   "metadata": {
    "pycharm": {
     "name": "#%%\n"
    }
   },
   "outputs": [
    {
     "name": "stdout",
     "output_type": "stream",
     "text": [
      "[('abc', 3), ('efg', 1), ('hij', 2)]\n",
      "[('efg', 1), ('hij', 2), ('abc', 3)]\n"
     ]
    }
   ],
   "source": [
    "# lambda_ex8.py\n",
    "# Sort x using value\n",
    "x = (('efg', 1), ('abc', 3), ('hij', 2))\n",
    "\n",
    "print(sorted(x)) # does work\n",
    "\n",
    "print(sorted(x, key=lambda ele: ele[1] ))"
   ]
  },
  {
   "cell_type": "code",
   "execution_count": 33,
   "metadata": {
    "pycharm": {
     "name": "#%%\n"
    }
   },
   "outputs": [
    {
     "name": "stdout",
     "output_type": "stream",
     "text": [
      "[{'grade': 89, 'username': 'Kelly'}, {'username': 'doe', 'grade': 35}, {'username': 'jane', 'grade': 80}, {'username': 'john', 'grade': 50}]\n",
      "\n",
      "[{'username': 'john', 'grade': 50}, {'username': 'jane', 'grade': 80}, {'username': 'doe', 'grade': 35}, {'grade': 89, 'username': 'Kelly'}]\n"
     ]
    }
   ],
   "source": [
    "# lambda_ex9.py\n",
    "# sort dictionary by username\n",
    "# reverse sort\n",
    "\n",
    "students = [\n",
    "    {'username': 'john', 'grade': 50},\n",
    "    {'username': 'jane', 'grade': 80},\n",
    "    {'username': 'doe', 'grade': 35},\n",
    "    {'grade': 89, 'username': 'Kelly'}\n",
    "]\n",
    "\n",
    "from pprint import pprint\n",
    "print(sorted(students, key=lambda student: student['username']))\n",
    "print()\n",
    "print(sorted(students, key=lambda student: student['username'], reverse=True))"
   ]
  },
  {
   "cell_type": "code",
   "execution_count": 121,
   "metadata": {
    "pycharm": {
     "name": "#%%\n"
    }
   },
   "outputs": [
    {
     "name": "stdout",
     "output_type": "stream",
     "text": [
      "[{'grade': 89, 'username': 'Kelly'},\n",
      " {'grade': 80, 'username': 'jane'},\n",
      " {'grade': 50, 'username': 'john'},\n",
      " {'grade': 35, 'username': 'doe'}]\n",
      "[{'grade': 89, 'username': 'Kelly'},\n",
      " {'grade': 80, 'username': 'jane'},\n",
      " {'grade': 50, 'username': 'john'},\n",
      " {'grade': 35, 'username': 'doe'}]\n"
     ]
    }
   ],
   "source": [
    "# lambda_ex10.py\n",
    "# sort dictionary by grade\n",
    "# reverse sort\n",
    "from pprint import pprint\n",
    "students = [\n",
    "    {'username': 'john', 'grade': 50},\n",
    "    {'username': 'jane', 'grade': 80},\n",
    "    {'username': 'doe', 'grade': 35},\n",
    "    {'grade': 89, 'username': 'Kelly'}\n",
    "]\n",
    "pprint(sorted(students, key=lambda x:x['grade'], reverse=True))\n",
    "\n",
    "pprint(sorted(students, key=lambda x:-x['grade']))"
   ]
  },
  {
   "cell_type": "code",
   "execution_count": 122,
   "metadata": {
    "pycharm": {
     "name": "#%%\n"
    }
   },
   "outputs": [
    {
     "name": "stdout",
     "output_type": "stream",
     "text": [
      "['doe', 'john', 'Janette']\n"
     ]
    }
   ],
   "source": [
    "# lambda_ex11.py\n",
    "# sort array by len of names\n",
    "students = ['john', 'Janette', 'doe']\n",
    "pprint(sorted(students, key=lambda x:len(x)))"
   ]
  },
  {
   "cell_type": "code",
   "execution_count": 123,
   "metadata": {
    "pycharm": {
     "name": "#%%\n"
    }
   },
   "outputs": [
    {
     "name": "stdout",
     "output_type": "stream",
     "text": [
      "[{'value': '34.4'}, {'value': '45.3'}, {'value': '73.4'}]\n"
     ]
    }
   ],
   "source": [
    "# lambda_ex12.py\n",
    "# sort dictionary by value\n",
    "\n",
    "my_list = [{'value': '34.4'}, {'value': '45.3'}, {'value': '73.4'}]\n",
    "\n",
    "pprint(sorted(my_list, key=lambda x:float(x['value'])))"
   ]
  },
  {
   "cell_type": "code",
   "execution_count": null,
   "metadata": {
    "pycharm": {
     "name": "#%%"
    }
   },
   "outputs": [],
   "source": []
  }
 ],
 "metadata": {
  "kernelspec": {
   "display_name": "Python 3 (ipykernel)",
   "language": "python",
   "name": "python3"
  },
  "language_info": {
   "codemirror_mode": {
    "name": "ipython",
    "version": 3
   },
   "file_extension": ".py",
   "mimetype": "text/x-python",
   "name": "python",
   "nbconvert_exporter": "python",
   "pygments_lexer": "ipython3",
   "version": "3.8.10"
  }
 },
 "nbformat": 4,
 "nbformat_minor": 4
}
