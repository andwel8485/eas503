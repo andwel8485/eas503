{
 "cells": [
  {
   "cell_type": "markdown",
   "metadata": {
    "pycharm": {
     "name": "#%% md\n"
    }
   },
   "source": [
    "# Week 5. Loops, List Comprehension, Sets, Dictionaries, Lambda, Filter, Map, Sorting\n",
    "\n",
    "# Recap\n",
    "## Repeating code using loops\n",
    "### for - loop\n",
    "```python\n",
    "for <element> in <sequence>:\n",
    "\t<body>\n",
    "```\n",
    "\n",
    "- The loop index variable `element` takes on each successive value in the sequence, and the statements in the body of the loop are executed once for each value.\n",
    "- For loops have a limitation -- you have to know how many times you are looping -- it is a definite loop. The number of iterations is determined when the loop starts. If you do not know how many times you will be looping, use a while loop, which is an indefinite loop that will continue to loop until its condition is no longer true.\n",
    "- <sequence> can be any **iterable** object\n",
    "- Use range(start,stop,step) immutable sequence of integers from start to stop (excluding) with stride step"
   ]
  },
  {
   "cell_type": "code",
   "execution_count": 1,
   "metadata": {
    "pycharm": {
     "name": "#%%\n"
    }
   },
   "outputs": [
    {
     "name": "stdout",
     "output_type": "stream",
     "text": [
      "You got apples\n",
      "You got bananas\n",
      "You got oranges\n",
      "You got lemons\n"
     ]
    }
   ],
   "source": [
    "# loop over items in list\n",
    "basket = [\"apples\", \"bananas\", \"oranges\", \"lemons\"]\n",
    "for item in basket:\n",
    "    print(f\"You got {item}\")"
   ]
  },
  {
   "cell_type": "code",
   "execution_count": 2,
   "metadata": {
    "pycharm": {
     "name": "#%%\n"
    }
   },
   "outputs": [
    {
     "name": "stdout",
     "output_type": "stream",
     "text": [
      "You got apples\n",
      "You got bananas\n",
      "You got oranges\n",
      "You got lemons\n"
     ]
    }
   ],
   "source": [
    "# loop over items in tuple\n",
    "basket = (\"apples\", \"bananas\", \"oranges\", \"lemons\")\n",
    "for item in basket:\n",
    "    print(f\"You got {item}\")"
   ]
  },
  {
   "cell_type": "code",
   "execution_count": 3,
   "metadata": {
    "pycharm": {
     "name": "#%%\n"
    }
   },
   "outputs": [
    {
     "name": "stdout",
     "output_type": "stream",
     "text": [
      "You got 0\n",
      "You got 1\n",
      "You got 2\n",
      "You got 3\n",
      "You got 4\n"
     ]
    }
   ],
   "source": [
    "# loop over items from range\n",
    "for item in range(5):\n",
    "    print(f\"You got {item}\")"
   ]
  },
  {
   "cell_type": "markdown",
   "metadata": {},
   "source": [
    "### while - loop\n",
    "```python\n",
    "while <condition>:\n",
    "\t<body>\n",
    "```"
   ]
  },
  {
   "cell_type": "code",
   "execution_count": 4,
   "metadata": {
    "pycharm": {
     "name": "#%%\n"
    }
   },
   "outputs": [
    {
     "name": "stdout",
     "output_type": "stream",
     "text": [
      "in the loop, a is 2\n",
      "in the loop, a is 4\n",
      "in the loop, a is 8\n",
      "in the loop, a is 16\n",
      "in the loop, a is 32\n",
      "in the loop, a is 64\n",
      "in the loop, a is 128\n",
      "in the loop, a is 256\n",
      "in the loop, a is 512\n",
      "in the loop, a is 1024\n",
      "out of the loop, a is 1024\n"
     ]
    }
   ],
   "source": [
    "a=1\n",
    "while a <= 1000:\n",
    "   a*=2\n",
    "   print(f\"in the loop, a is {a}\")\n",
    "print(f\"out of the loop, a is {a}\")"
   ]
  },
  {
   "cell_type": "markdown",
   "metadata": {
    "pycharm": {
     "name": "#%% md\n"
    }
   },
   "source": [
    "### Loop control\n",
    "- Loop is controlled using `break` and `continue`."
   ]
  },
  {
   "cell_type": "code",
   "execution_count": 5,
   "metadata": {
    "pycharm": {
     "name": "#%%\n"
    }
   },
   "outputs": [
    {
     "name": "stdout",
     "output_type": "stream",
     "text": [
      "You got apples\n",
      "You got bananas\n",
      "out of the loop, a is oranges\n"
     ]
    }
   ],
   "source": [
    "basket = [\"apples\", \"bananas\", \"oranges\", \"lemons\"]\n",
    "for item in basket:\n",
    "    if item == \"oranges\":\n",
    "        break\n",
    "    print(f\"You got {item}\")\n",
    "print(f\"out of the loop, a is {item}\")\n",
    "# typically <item> would be not used outside for loop"
   ]
  },
  {
   "cell_type": "code",
   "execution_count": 6,
   "metadata": {
    "pycharm": {
     "name": "#%%\n"
    }
   },
   "outputs": [
    {
     "name": "stdout",
     "output_type": "stream",
     "text": [
      "in the loop, a is 2\n",
      "in the loop, a is 4\n",
      "in the loop, a is 8\n",
      "in the loop, a is 16\n",
      "in the loop, a is 32\n",
      "in the loop, a is 64\n",
      "in the loop, a is 128\n",
      "in the loop, a is 256\n",
      "in the loop, a is 512\n",
      "in the loop, a is 1024\n",
      "out of the loop, a is {a}\n"
     ]
    }
   ],
   "source": [
    "a=1\n",
    "while True:\n",
    "   a*=2\n",
    "   print(f\"in the loop, a is {a}\")\n",
    "   if a > 1000:\n",
    "        break\n",
    "print(\"out of the loop, a is {a}\")\n",
    "# <a> often used outside of while"
   ]
  },
  {
   "cell_type": "markdown",
   "metadata": {},
   "source": [
    "## List comprehension\n",
    "- Unique to Python\n",
    "- Three variations\n",
    "\n",
    "```python\n",
    "[ f(ele) for ele in sequence ]\n",
    "\n",
    "[ f(ele) for ele in sequence if condition ]\n",
    "\n",
    "[ f(ele) if condition else g(ele) for ele in sequence ]\n",
    "```"
   ]
  },
  {
   "cell_type": "code",
   "execution_count": 7,
   "metadata": {
    "pycharm": {
     "name": "#%%\n"
    }
   },
   "outputs": [],
   "source": [
    "grades = [\n",
    "    #First_Name,Last_Name,Degree,average\n",
    "    [\"John\",\"Washington\",\"graduate\",85.0],\n",
    "    [\"Robert\",\"Andrade\",\"graduate\",83.0],\n",
    "    [\"Paul\",\"Smith\",\"undergraduate\",79.5],\n",
    "    [\"Jason\",\"Delgado\",\"undergraduate\",71.5],\n",
    "]"
   ]
  },
  {
   "cell_type": "code",
   "execution_count": 8,
   "metadata": {
    "pycharm": {
     "name": "#%%\n"
    }
   },
   "outputs": [
    {
     "data": {
      "text/plain": [
       "['Washington', 'Andrade', 'Smith', 'Delgado']"
      ]
     },
     "execution_count": 8,
     "metadata": {},
     "output_type": "execute_result"
    }
   ],
   "source": [
    "# get last names\n",
    "[v[1] for v in grades]"
   ]
  },
  {
   "cell_type": "code",
   "execution_count": 9,
   "metadata": {
    "pycharm": {
     "name": "#%%\n"
    }
   },
   "outputs": [
    {
     "data": {
      "text/plain": [
       "['Smith', 'Delgado']"
      ]
     },
     "execution_count": 9,
     "metadata": {},
     "output_type": "execute_result"
    }
   ],
   "source": [
    "# get last names of undergraduates\n",
    "[v[1] for v in grades if v[2]==\"undergraduate\"]"
   ]
  },
  {
   "cell_type": "code",
   "execution_count": 10,
   "metadata": {
    "pycharm": {
     "name": "#%%\n"
    }
   },
   "outputs": [
    {
     "data": {
      "text/plain": [
       "11432.5"
      ]
     },
     "execution_count": 10,
     "metadata": {},
     "output_type": "execute_result"
    }
   ],
   "source": [
    "# get sum of squares of undergraduates grades\n",
    "def square(v):\n",
    "    return v*v\n",
    "\n",
    "sum([square(v[3]) for v in grades if v[2]==\"undergraduate\"])"
   ]
  },
  {
   "cell_type": "markdown",
   "metadata": {},
   "source": [
    "## File Handling (Read)\n",
    "\n",
    "[Python docs on open function](https://docs.python.org/3/library/functions.html#open)\n",
    "\n",
    "#### Pythonic way (i.e. the correct way)\n",
    "```python\n",
    "with open(filename, 'r') as file:\n",
    "\tfor line in file:\n",
    "\t\t# do something with line\n",
    "```\n",
    "\n",
    "alternatively (less good)\n",
    "```python\n",
    "with open(filename, 'r') as file:\n",
    "    lines = file.readlines()\n",
    "\tfor line in lines:\n",
    "\t\t# do something with line\n",
    "```\n",
    "\n",
    "alternatively\n",
    "```python\n",
    "with open(filename, 'r') as file:\n",
    "    content = file.read()\n",
    "\n",
    "```\n",
    "\n",
    "### Older ways\n",
    "mirroring some other programming languages\n",
    "\n",
    "```python\n",
    "file = open(<filename>, 'r')\n",
    "line = file.readline()\n",
    "while line:\n",
    "    print(line)\n",
    "    line = file.readline()\n",
    "file.close()\n",
    "del file\n",
    "\n",
    "```\n",
    "\n",
    "## File Handling (Write)\n",
    "```python\n",
    "with open(filename, 'w') as file:\n",
    "\tfile.write(f\"hello world!\\n\")\n",
    "```\n",
    "\n",
    "```python\n",
    "with open(filename, 'w') as file:\n",
    "\tprint(f\"hello world!\", file=file)\n",
    "```\n",
    "\n",
    "```python\n",
    "with open(filename, 'w') as file:\n",
    "\tprint(f\"hello world!\\n\", file=file, end='')\n",
    "```"
   ]
  },
  {
   "cell_type": "code",
   "execution_count": 11,
   "metadata": {
    "pycharm": {
     "name": "#%%\n"
    }
   },
   "outputs": [],
   "source": [
    "with open(\"test.txt\", 'w') as file:\n",
    "    file.write(f\"hello world!\\n\")"
   ]
  },
  {
   "cell_type": "code",
   "execution_count": 15,
   "metadata": {
    "pycharm": {
     "name": "#%%\n"
    }
   },
   "outputs": [],
   "source": [
    "# print to file\n",
    "basket = [\"apples\", \"bananas\", \"oranges\", \"lemons\"]\n",
    "with open(\"test.txt\", 'w') as file:\n",
    "    file.write(f\"You got {item}\\n\")\n",
    "# or note the presens of \"\\n\" above and it lack below\n",
    "with open(\"test2.txt\", 'w') as file:\n",
    "    print(f\"You got {item}\", file=file)\n"
   ]
  },
  {
   "cell_type": "markdown",
   "metadata": {},
   "source": [
    "# New\n",
    "## Sets\n",
    "- Formal mathematical sets\n",
    "- Do not have duplicate values\n",
    "- Are not ordered\n",
    "- Cannot access via index.\n",
    "- useful for doing set operations and `in` operation"
   ]
  },
  {
   "cell_type": "code",
   "execution_count": 16,
   "metadata": {
    "pycharm": {
     "name": "#%%\n"
    }
   },
   "outputs": [],
   "source": [
    "A = {0, 2, 4, 6, 8}\n",
    "B = {1, 2, 3, 4, 5}\n",
    "basket = {\"apples\", \"bananas\", \"oranges\", \"lemons\"}"
   ]
  },
  {
   "cell_type": "code",
   "execution_count": 17,
   "metadata": {
    "pycharm": {
     "name": "#%%\n"
    }
   },
   "outputs": [
    {
     "data": {
      "text/plain": [
       "True"
      ]
     },
     "execution_count": 17,
     "metadata": {},
     "output_type": "execute_result"
    }
   ],
   "source": [
    "2 in A"
   ]
  },
  {
   "cell_type": "code",
   "execution_count": 18,
   "metadata": {
    "pycharm": {
     "name": "#%%\n"
    }
   },
   "outputs": [
    {
     "data": {
      "text/plain": [
       "False"
      ]
     },
     "execution_count": 18,
     "metadata": {},
     "output_type": "execute_result"
    }
   ],
   "source": [
    "3 in A"
   ]
  },
  {
   "cell_type": "code",
   "execution_count": 19,
   "metadata": {
    "pycharm": {
     "name": "#%%\n"
    }
   },
   "outputs": [
    {
     "data": {
      "text/plain": [
       "{0, 1, 2, 3, 4, 5, 6, 8}"
      ]
     },
     "execution_count": 19,
     "metadata": {},
     "output_type": "execute_result"
    }
   ],
   "source": [
    "# union -- all values\n",
    "A | B"
   ]
  },
  {
   "cell_type": "code",
   "execution_count": 20,
   "metadata": {
    "pycharm": {
     "name": "#%%\n"
    }
   },
   "outputs": [
    {
     "data": {
      "text/plain": [
       "{2, 4}"
      ]
     },
     "execution_count": 20,
     "metadata": {},
     "output_type": "execute_result"
    }
   ],
   "source": [
    "# intersection -- shared values\n",
    "A & B"
   ]
  },
  {
   "cell_type": "code",
   "execution_count": 21,
   "metadata": {
    "pycharm": {
     "name": "#%%\n"
    }
   },
   "outputs": [
    {
     "data": {
      "text/plain": [
       "{0, 6, 8}"
      ]
     },
     "execution_count": 21,
     "metadata": {},
     "output_type": "execute_result"
    }
   ],
   "source": [
    "# difference -- order matters\n",
    "A - B"
   ]
  },
  {
   "cell_type": "code",
   "execution_count": 22,
   "metadata": {
    "pycharm": {
     "name": "#%%\n"
    }
   },
   "outputs": [
    {
     "data": {
      "text/plain": [
       "{1, 3, 5}"
      ]
     },
     "execution_count": 22,
     "metadata": {},
     "output_type": "execute_result"
    }
   ],
   "source": [
    "B - A"
   ]
  },
  {
   "cell_type": "code",
   "execution_count": 23,
   "metadata": {
    "pycharm": {
     "name": "#%%\n"
    }
   },
   "outputs": [
    {
     "data": {
      "text/plain": [
       "{0, 1, 3, 5, 6, 8}"
      ]
     },
     "execution_count": 23,
     "metadata": {},
     "output_type": "execute_result"
    }
   ],
   "source": [
    "# symmetric difference  https://en.wikipedia.org/wiki/Symmetric_difference\n",
    "A ^ B"
   ]
  },
  {
   "cell_type": "code",
   "execution_count": 24,
   "metadata": {
    "pycharm": {
     "name": "#%%\n"
    }
   },
   "outputs": [
    {
     "data": {
      "text/plain": [
       "[1, 2, 3]"
      ]
     },
     "execution_count": 24,
     "metadata": {},
     "output_type": "execute_result"
    }
   ],
   "source": [
    "# convertion\n",
    "my_list = [1, 1, 2, 3]\n",
    "my_list = list(set(my_list))\n",
    "my_list"
   ]
  },
  {
   "cell_type": "code",
   "execution_count": 25,
   "metadata": {
    "pycharm": {
     "name": "#%%\n"
    }
   },
   "outputs": [],
   "source": [
    "basket = {\"apples\", \"bananas\", \"oranges\", \"lemons\"}"
   ]
  },
  {
   "cell_type": "code",
   "execution_count": 26,
   "metadata": {
    "pycharm": {
     "name": "#%%\n"
    }
   },
   "outputs": [
    {
     "name": "stdout",
     "output_type": "stream",
     "text": [
      "bananas\n",
      "apples\n",
      "lemons\n",
      "oranges\n"
     ]
    }
   ],
   "source": [
    "# can we loop it?\n",
    "for item in basket:\n",
    "    print(item)"
   ]
  },
  {
   "cell_type": "markdown",
   "metadata": {
    "pycharm": {
     "name": "#%% md\n"
    }
   },
   "source": [
    "## Dictionaries\n",
    "- limitations of list\n",
    "- list has collection of values, but no description\n",
    "- student\n",
    "  - name\n",
    "  - email\n",
    "  - id\n",
    "  - major\n",
    "- dictionary\n",
    "- key value pair\n",
    "- key is the index\n",
    "- value is the value\n",
    "- two ways to create dictionary\n",
    "- my_dict = {}\n",
    "- my_dict = dict()\n",
    "- key value are separate colons\n",
    "- key can only be string or number\n",
    "- value can be anything!\n",
    "- All information is stored like a dictionary, you supply the key and you get the value\n",
    "\n",
    "\n",
    "```\n",
    "# Dictionaries\n",
    "student\n",
    "  - name\n",
    "  - email\n",
    "  - id\n",
    "  - major\n",
    "```"
   ]
  },
  {
   "cell_type": "code",
   "execution_count": 38,
   "metadata": {
    "pycharm": {
     "name": "#%%\n"
    }
   },
   "outputs": [
    {
     "data": {
      "text/plain": [
       "{'name': 'john',\n",
       " 'email': 'john@email.com',\n",
       " 'id': 1234,\n",
       " 'major': 'Engineering',\n",
       " 123: 123,\n",
       " 1.3: 23.4,\n",
       " (123, 124): ['apple', 1, 3.4],\n",
       " ('apple', 2): 1}"
      ]
     },
     "execution_count": 38,
     "metadata": {},
     "output_type": "execute_result"
    }
   ],
   "source": [
    "# Most people use this\n",
    "my_dict = {\n",
    "    'name': 'john',\n",
    "    'email': 'john@email.com',\n",
    "    'id': 1234,\n",
    "    'major': 'Engineering',\n",
    "    123:123,\n",
    "    1.3:23.4,\n",
    "    (123,124):[\"apple\",1,3.4],\n",
    "    (\"apple\",2):1\n",
    "}\n",
    "my_dict"
   ]
  },
  {
   "cell_type": "code",
   "execution_count": 28,
   "metadata": {
    "pycharm": {
     "name": "#%%\n"
    }
   },
   "outputs": [],
   "source": [
    "# Can also do this\n",
    "my_dict2 = dict(\n",
    "    name='john',\n",
    "    email='john@email.com',\n",
    "    id=1234,\n",
    "    major='Engineering'\n",
    ")"
   ]
  },
  {
   "cell_type": "markdown",
   "metadata": {},
   "source": [
    "### Accessing Value by Key"
   ]
  },
  {
   "cell_type": "code",
   "execution_count": 30,
   "metadata": {},
   "outputs": [
    {
     "data": {
      "text/plain": [
       "'john'"
      ]
     },
     "execution_count": 30,
     "metadata": {},
     "output_type": "execute_result"
    }
   ],
   "source": [
    "# accessing value\n",
    "my_dict[\"name\"]"
   ]
  },
  {
   "cell_type": "code",
   "execution_count": 29,
   "metadata": {
    "pycharm": {
     "name": "#%%\n"
    }
   },
   "outputs": [
    {
     "data": {
      "text/plain": [
       "1"
      ]
     },
     "execution_count": 29,
     "metadata": {},
     "output_type": "execute_result"
    }
   ],
   "source": [
    "# accessing value\n",
    "my_dict[(\"apple\",2)]"
   ]
  },
  {
   "cell_type": "code",
   "execution_count": 31,
   "metadata": {
    "pycharm": {
     "name": "#%%\n"
    }
   },
   "outputs": [
    {
     "data": {
      "text/plain": [
       "'john'"
      ]
     },
     "execution_count": 31,
     "metadata": {},
     "output_type": "execute_result"
    }
   ],
   "source": [
    "key = 'name'\n",
    "my_dict[key]"
   ]
  },
  {
   "cell_type": "markdown",
   "metadata": {
    "pycharm": {
     "name": "#%% md\n"
    }
   },
   "source": [
    "### Iterating over Dictionaries"
   ]
  },
  {
   "cell_type": "code",
   "execution_count": 32,
   "metadata": {},
   "outputs": [
    {
     "data": {
      "text/plain": [
       "['john',\n",
       " 'john@email.com',\n",
       " 1234,\n",
       " 'Engineering',\n",
       " 123,\n",
       " 23.4,\n",
       " ['apple', 1, 3.4],\n",
       " 1]"
      ]
     },
     "execution_count": 32,
     "metadata": {},
     "output_type": "execute_result"
    }
   ],
   "source": [
    "list(my_dict.values())"
   ]
  },
  {
   "cell_type": "code",
   "execution_count": 33,
   "metadata": {
    "pycharm": {
     "name": "#%%\n"
    }
   },
   "outputs": [
    {
     "name": "stdout",
     "output_type": "stream",
     "text": [
      "john\n",
      "john@email.com\n",
      "1234\n",
      "Engineering\n",
      "123\n",
      "23.4\n",
      "['apple', 1, 3.4]\n",
      "1\n"
     ]
    }
   ],
   "source": [
    "for value in my_dict.values():\n",
    "    print(value)"
   ]
  },
  {
   "cell_type": "code",
   "execution_count": 34,
   "metadata": {
    "pycharm": {
     "name": "#%%\n"
    }
   },
   "outputs": [
    {
     "name": "stdout",
     "output_type": "stream",
     "text": [
      "name\n",
      "email\n",
      "id\n",
      "major\n",
      "123\n",
      "1.3\n",
      "(123, 124)\n",
      "('apple', 2)\n"
     ]
    }
   ],
   "source": [
    "for key in my_dict.keys():\n",
    "    print(key)"
   ]
  },
  {
   "cell_type": "code",
   "execution_count": 35,
   "metadata": {
    "pycharm": {
     "name": "#%%\n"
    },
    "scrolled": true
   },
   "outputs": [
    {
     "name": "stdout",
     "output_type": "stream",
     "text": [
      "key is name, value is john and value is john\n",
      "key is email, value is john@email.com and value is john@email.com\n",
      "key is id, value is 1234 and value is 1234\n",
      "key is major, value is Engineering and value is Engineering\n",
      "key is 123, value is 123 and value is 123\n",
      "key is 1.3, value is 23.4 and value is 23.4\n",
      "key is (123, 124), value is ['apple', 1, 3.4] and value is ['apple', 1, 3.4]\n",
      "key is ('apple', 2), value is 1 and value is 1\n"
     ]
    }
   ],
   "source": [
    "## access both\n",
    "for key, value in my_dict.items():\n",
    "    print(f'key is {key}, value is {value} and value is {my_dict[key]}')"
   ]
  },
  {
   "cell_type": "code",
   "execution_count": 36,
   "metadata": {},
   "outputs": [
    {
     "data": {
      "text/plain": [
       "{'name': 'john',\n",
       " 'email': 'john@email.com',\n",
       " 'id': 1234,\n",
       " 'major': 'Engineering',\n",
       " 123: 123,\n",
       " 1.3: 23.4,\n",
       " (123, 124): ['apple', 1, 3.4],\n",
       " ('apple', 2): 1}"
      ]
     },
     "execution_count": 36,
     "metadata": {},
     "output_type": "execute_result"
    }
   ],
   "source": [
    "my_dict"
   ]
  },
  {
   "cell_type": "code",
   "execution_count": 37,
   "metadata": {},
   "outputs": [
    {
     "data": {
      "text/plain": [
       "{'name': 1,\n",
       " 'email': 1,\n",
       " 'id': 1,\n",
       " 'major': 1,\n",
       " 123: 1,\n",
       " 1.3: 1,\n",
       " (123, 124): 1,\n",
       " ('apple', 2): 1}"
      ]
     },
     "execution_count": 37,
     "metadata": {},
     "output_type": "execute_result"
    }
   ],
   "source": [
    "for key, value in my_dict.items():\n",
    "    my_dict[key]=1\n",
    "    value=0\n",
    "# Will the values in my_dict be 1 or 0?\n",
    "my_dict"
   ]
  },
  {
   "cell_type": "markdown",
   "metadata": {},
   "source": [
    "### test if dict contains a key"
   ]
  },
  {
   "cell_type": "code",
   "execution_count": 39,
   "metadata": {},
   "outputs": [],
   "source": [
    "my_dict = {\n",
    "    'name': 'john',\n",
    "    'email': 'john@email.com',\n",
    "    'id': 1234,\n",
    "    'major': 'Engineering'\n",
    "}"
   ]
  },
  {
   "cell_type": "code",
   "execution_count": 40,
   "metadata": {
    "pycharm": {
     "name": "#%%\n"
    }
   },
   "outputs": [
    {
     "name": "stdout",
     "output_type": "stream",
     "text": [
      "False\n"
     ]
    }
   ],
   "source": [
    "key = 'name12'\n",
    "if key in my_dict:\n",
    "    print(True)\n",
    "else:\n",
    "    print(False)"
   ]
  },
  {
   "cell_type": "code",
   "execution_count": 41,
   "metadata": {
    "pycharm": {
     "name": "#%%\n"
    }
   },
   "outputs": [
    {
     "name": "stdout",
     "output_type": "stream",
     "text": [
      "True\n"
     ]
    }
   ],
   "source": [
    "## test if dict contains a value\n",
    "# default is testing in key\n",
    "value = 'john'\n",
    "if value in my_dict.values():\n",
    "    print(True)\n",
    "else:\n",
    "    print(False)"
   ]
  },
  {
   "cell_type": "code",
   "execution_count": 43,
   "metadata": {},
   "outputs": [
    {
     "data": {
      "text/plain": [
       "{'name': 'john', 'email': 'john@email.com', 'id': 1234, 'major': 'Engineering'}"
      ]
     },
     "execution_count": 43,
     "metadata": {},
     "output_type": "execute_result"
    }
   ],
   "source": [
    "my_dict"
   ]
  },
  {
   "cell_type": "code",
   "execution_count": 42,
   "metadata": {
    "pycharm": {
     "name": "#%%\n"
    }
   },
   "outputs": [],
   "source": [
    "# checking value that can be missing\n",
    "if 'Name' in my_dict and my_dict['Name']=='Bob':\n",
    "    print(my_dict['Name'])\n",
    "#if 'name' in my_dict:\n",
    "#    print(my_dict['name'])\n",
    "if my_dict.get('Name',None)=='Bob':\n",
    "    print(my_dict['Name'])"
   ]
  },
  {
   "cell_type": "markdown",
   "metadata": {
    "pycharm": {
     "name": "#%% md\n"
    }
   },
   "source": [
    "### Dictionary Methods"
   ]
  },
  {
   "cell_type": "code",
   "execution_count": 44,
   "metadata": {
    "pycharm": {
     "name": "#%%\n"
    }
   },
   "outputs": [
    {
     "data": {
      "text/plain": [
       "{}"
      ]
     },
     "execution_count": 44,
     "metadata": {},
     "output_type": "execute_result"
    }
   ],
   "source": [
    "my_dict = {\n",
    "    'name': 'john',\n",
    "    'email': 'john@email.com',\n",
    "    'id': 1234,\n",
    "    'major': 'Engineering'\n",
    "}\n",
    "my_dict.clear() ## empty dict\n",
    "my_dict"
   ]
  },
  {
   "cell_type": "code",
   "execution_count": null,
   "metadata": {},
   "outputs": [],
   "source": [
    "#my_dict.copy() ## copy dict -- unique objects in memory"
   ]
  },
  {
   "cell_type": "code",
   "execution_count": 46,
   "metadata": {
    "pycharm": {
     "name": "#%%\n"
    }
   },
   "outputs": [
    {
     "name": "stdout",
     "output_type": "stream",
     "text": [
      "Marta\n",
      "Marta\n",
      "Kate\n",
      "140622063686912\n",
      "140622063686912\n",
      "140622063628096\n"
     ]
    }
   ],
   "source": [
    "my_dict = {\n",
    "    'name': 'john',\n",
    "    'email': 'john@email.com',\n",
    "    'id': 1234,\n",
    "    'major': 'Engineering'\n",
    "}\n",
    "# my_dict2 is another reference to same object which my_dict reference\n",
    "my_dict2 = my_dict\n",
    "my_dict2['name']='Marta'\n",
    "my_dict['name']\n",
    "\n",
    "# my_dict3 refer to different object which was copied from object my_dict refer to\n",
    "my_dict3 = my_dict.copy()\n",
    "my_dict3['name']='Kate'\n",
    "\n",
    "\n",
    "# Is my_dict['name'] john, Marta or Kate?\n",
    "# Is my_dict2['name'] john, Marta or Kate?\n",
    "# Is my_dict3['name'] john, Marta or Kate?\n",
    "\n",
    "print(my_dict['name'])\n",
    "print(my_dict2['name'])\n",
    "print(my_dict3['name'])\n",
    "\n",
    "# check the refered objects addresses\n",
    "print(id(my_dict))\n",
    "print(id(my_dict2))\n",
    "print(id(my_dict3))\n"
   ]
  },
  {
   "cell_type": "code",
   "execution_count": 50,
   "metadata": {
    "pycharm": {
     "name": "#%%\n"
    }
   },
   "outputs": [
    {
     "name": "stdout",
     "output_type": "stream",
     "text": [
      "True\n",
      "False\n"
     ]
    }
   ],
   "source": [
    "# check == and is; == is for values and is for memory\n",
    "my_dict = {\n",
    "    'name': 'john',\n",
    "    'email': 'john@email.com',\n",
    "    'id': 1234,\n",
    "    'major': 'Engineering'\n",
    "}\n",
    "print(my_dict == my_dict.copy())\n",
    "print(my_dict is my_dict.copy())\n",
    "#list(sorted(my_dict.keys()))"
   ]
  },
  {
   "cell_type": "code",
   "execution_count": null,
   "metadata": {
    "pycharm": {
     "name": "#%%\n"
    }
   },
   "outputs": [],
   "source": []
  },
  {
   "cell_type": "code",
   "execution_count": 51,
   "metadata": {
    "pycharm": {
     "name": "#%%\n"
    }
   },
   "outputs": [
    {
     "data": {
      "text/plain": [
       "{'name': 'missing', 'email': 'missing', 'id': 'missing', 'major': 'missing'}"
      ]
     },
     "execution_count": 51,
     "metadata": {},
     "output_type": "execute_result"
    }
   ],
   "source": [
    "# create default dictionary with initial value\n",
    "new_student = {}.fromkeys(\n",
    "    ['name', 'email', 'id', 'major'], 'missing')\n",
    "new_student"
   ]
  },
  {
   "cell_type": "code",
   "execution_count": 53,
   "metadata": {
    "pycharm": {
     "name": "#%%\n"
    }
   },
   "outputs": [
    {
     "data": {
      "text/plain": [
       "{0: 'iammissing',\n",
       " 1: 'iammissing',\n",
       " 2: 'iammissing',\n",
       " 3: 'iammissing',\n",
       " 4: 'iammissing'}"
      ]
     },
     "execution_count": 53,
     "metadata": {},
     "output_type": "execute_result"
    }
   ],
   "source": [
    "my_dict = {}.fromkeys(range(5), 'iammissing')\n",
    "my_dict"
   ]
  },
  {
   "cell_type": "code",
   "execution_count": 54,
   "metadata": {
    "pycharm": {
     "name": "#%%\n"
    }
   },
   "outputs": [],
   "source": [
    "# get value by key with default value\n",
    "my_dict.get('name', None) # default"
   ]
  },
  {
   "cell_type": "code",
   "execution_count": 55,
   "metadata": {
    "pycharm": {
     "name": "#%%\n"
    }
   },
   "outputs": [
    {
     "data": {
      "text/plain": [
       "False"
      ]
     },
     "execution_count": 55,
     "metadata": {},
     "output_type": "execute_result"
    }
   ],
   "source": [
    "my_dict.get('name', False)"
   ]
  },
  {
   "cell_type": "code",
   "execution_count": 56,
   "metadata": {
    "pycharm": {
     "name": "#%%\n"
    }
   },
   "outputs": [
    {
     "data": {
      "text/plain": [
       "'defaultname'"
      ]
     },
     "execution_count": 56,
     "metadata": {},
     "output_type": "execute_result"
    }
   ],
   "source": [
    "my_dict.get('name', 'defaultname')"
   ]
  },
  {
   "cell_type": "code",
   "execution_count": 58,
   "metadata": {
    "pycharm": {
     "name": "#%%\n"
    }
   },
   "outputs": [
    {
     "data": {
      "text/plain": [
       "'John'"
      ]
     },
     "execution_count": 58,
     "metadata": {},
     "output_type": "execute_result"
    }
   ],
   "source": [
    "my_dict = {'name':\"John\",\"day\":\"Monday\"}\n",
    "# pop remove value using key and return removed values\n",
    "my_dict.pop('name')"
   ]
  },
  {
   "cell_type": "code",
   "execution_count": 60,
   "metadata": {
    "pycharm": {
     "name": "#%%\n"
    }
   },
   "outputs": [
    {
     "data": {
      "text/plain": [
       "{'day': 'Monday', 'year': 2010, 'ear': 2030}"
      ]
     },
     "execution_count": 60,
     "metadata": {},
     "output_type": "execute_result"
    }
   ],
   "source": [
    "# update -- way to append to dictionary\n",
    "my_dict.update({'year':2010, 'ear': 2030})\n",
    "my_dict"
   ]
  },
  {
   "cell_type": "code",
   "execution_count": 61,
   "metadata": {},
   "outputs": [],
   "source": [
    "student={\n",
    "    'name':None,\n",
    "    'school':'EAS'\n",
    "}"
   ]
  },
  {
   "cell_type": "code",
   "execution_count": 62,
   "metadata": {},
   "outputs": [
    {
     "data": {
      "text/plain": [
       "{'name': 'John', 'school': 'CDA', 'year': 1}"
      ]
     },
     "execution_count": 62,
     "metadata": {},
     "output_type": "execute_result"
    }
   ],
   "source": [
    "student1 = student.copy()\n",
    "student1.update({\"name\":\"John\",\"school\":\"CDA\",\"year\":1})\n",
    "student1"
   ]
  },
  {
   "cell_type": "code",
   "execution_count": null,
   "metadata": {},
   "outputs": [],
   "source": []
  },
  {
   "cell_type": "markdown",
   "metadata": {},
   "source": [
    "### Dictionary Comprehension\n",
    "\n",
    "```\n",
    "{<key:value> for <item(s)> in <sequence>}\n",
    "```"
   ]
  },
  {
   "cell_type": "code",
   "execution_count": 63,
   "metadata": {
    "pycharm": {
     "name": "#%%\n"
    }
   },
   "outputs": [
    {
     "data": {
      "text/plain": [
       "{0: 5, 1: 5, 2: 5, 3: 5, 4: 5}"
      ]
     },
     "execution_count": 63,
     "metadata": {},
     "output_type": "execute_result"
    }
   ],
   "source": [
    "my_dict = {}.fromkeys(range(5), 5)\n",
    "my_dict"
   ]
  },
  {
   "cell_type": "code",
   "execution_count": 64,
   "metadata": {
    "pycharm": {
     "name": "#%%\n"
    }
   },
   "outputs": [
    {
     "data": {
      "text/plain": [
       "{0: 0, 1: 5, 2: 10, 3: 15, 4: 20}"
      ]
     },
     "execution_count": 64,
     "metadata": {},
     "output_type": "execute_result"
    }
   ],
   "source": [
    "{key: key*value for key, value in my_dict.items()}"
   ]
  },
  {
   "cell_type": "code",
   "execution_count": 65,
   "metadata": {},
   "outputs": [
    {
     "data": {
      "text/plain": [
       "[0, 1, 4, 9, 16]"
      ]
     },
     "execution_count": 65,
     "metadata": {},
     "output_type": "execute_result"
    }
   ],
   "source": [
    "[num*num for num in range(5)]"
   ]
  },
  {
   "cell_type": "code",
   "execution_count": 68,
   "metadata": {
    "pycharm": {
     "name": "#%%\n"
    }
   },
   "outputs": [
    {
     "data": {
      "text/plain": [
       "{'Magic0': 0, 'Magic1': 1, 'Magic2': 4, 'Magic3': 9, 'Magic4': 16}"
      ]
     },
     "execution_count": 68,
     "metadata": {},
     "output_type": "execute_result"
    }
   ],
   "source": [
    "{f'Magic{num}': num*num for num in range(5)}"
   ]
  },
  {
   "cell_type": "code",
   "execution_count": 69,
   "metadata": {
    "pycharm": {
     "name": "#%%\n"
    }
   },
   "outputs": [
    {
     "data": {
      "text/plain": [
       "{'john': 95, 'jane': 99, 'doe': 98}"
      ]
     },
     "execution_count": 69,
     "metadata": {},
     "output_type": "execute_result"
    }
   ],
   "source": [
    "list1 = ['john', 'jane', 'doe']\n",
    "list2 = [95, 99, 98]\n",
    "\n",
    "{list1[i]: list2[i] for i in range(len(list1))}"
   ]
  },
  {
   "cell_type": "code",
   "execution_count": 70,
   "metadata": {
    "pycharm": {
     "name": "#%%\n"
    }
   },
   "outputs": [
    {
     "data": {
      "text/plain": [
       "{'john': 95, 'jane': 99, 'doe': 98}"
      ]
     },
     "execution_count": 70,
     "metadata": {},
     "output_type": "execute_result"
    }
   ],
   "source": [
    "dict(zip(list1,list2))"
   ]
  },
  {
   "cell_type": "code",
   "execution_count": 72,
   "metadata": {},
   "outputs": [
    {
     "data": {
      "text/plain": [
       "'apple'"
      ]
     },
     "execution_count": 72,
     "metadata": {},
     "output_type": "execute_result"
    }
   ],
   "source": [
    "# inline if/else\n",
    "a = 1\n",
    "b = \"apple\" if a > 0 else \"banana\"\n",
    "b"
   ]
  },
  {
   "cell_type": "code",
   "execution_count": 74,
   "metadata": {
    "pycharm": {
     "name": "#%%\n"
    }
   },
   "outputs": [
    {
     "data": {
      "text/plain": [
       "{1: 'odd',\n",
       " 2: 'even',\n",
       " 3: 'odd',\n",
       " 4: 'even',\n",
       " 5: 'odd',\n",
       " 6: 'even',\n",
       " 7: 'odd',\n",
       " 8: 'even',\n",
       " 9: 'odd'}"
      ]
     },
     "execution_count": 74,
     "metadata": {},
     "output_type": "execute_result"
    }
   ],
   "source": [
    "{num: (\"even\" if num % 2 == 0 else \"odd\") for num in range(1, 10)}"
   ]
  },
  {
   "cell_type": "code",
   "execution_count": 75,
   "metadata": {
    "pycharm": {
     "name": "#%%\n"
    }
   },
   "outputs": [
    {
     "data": {
      "text/plain": [
       "[{'first_name': 'John',\n",
       "  'last_name': 'Washington',\n",
       "  'degree': 'graduate',\n",
       "  'score': 85.0},\n",
       " {'first_name': 'Robert',\n",
       "  'last_name': 'Andrade',\n",
       "  'degree': 'graduate',\n",
       "  'score': 83.0},\n",
       " {'first_name': 'Paul',\n",
       "  'last_name': 'Smith',\n",
       "  'degree': 'undergraduate',\n",
       "  'score': 79.5},\n",
       " {'first_name': 'Jason',\n",
       "  'last_name': 'Delgado',\n",
       "  'degree': 'undergraduate',\n",
       "  'score': 71.5}]"
      ]
     },
     "execution_count": 75,
     "metadata": {},
     "output_type": "execute_result"
    }
   ],
   "source": [
    "grades = [\n",
    "    #First_Name,Last_Name,Degree,average\n",
    "    [\"John\",\"Washington\",\"graduate\",85.0],\n",
    "    [\"Robert\",\"Andrade\",\"graduate\",83.0],\n",
    "    [\"Paul\",\"Smith\",\"undergraduate\",79.5],\n",
    "    [\"Jason\",\"Delgado\",\"undergraduate\",71.5],\n",
    "]\n",
    "# want a list of dictionaries\n",
    "# grades_dict[0] =\n",
    "# {\n",
    "#     \"first_name\": \"John\",\n",
    "#     \"last_name\": \"Washington\",\n",
    "#     \"degree\": \"graduate\",\n",
    "#     \"score\":85.0\n",
    "# }\n",
    "grades_list_of_dict = [{\n",
    "     \"first_name\": v[0],\n",
    "     \"last_name\": v[1],\n",
    "     \"degree\": v[2],\n",
    "     \"score\":v[3]\n",
    " } for v in grades]\n",
    "\n",
    "grades_list_of_dict"
   ]
  },
  {
   "cell_type": "markdown",
   "metadata": {
    "pycharm": {
     "name": "#%% md\n"
    }
   },
   "source": [
    "## Lambda, Filter, and Map\n",
    "\n",
    "### Lambda\n",
    "lambda a function without a name;\n",
    "- anonymous functions;\n",
    "- one line only;\n",
    "- single expression only\n",
    "- stored in a variable\n",
    "- When do you use it? Pass a function into another function as a parameter\n",
    "- lambda variables (comma separated): expression\n",
    "- lambda functions are used with other functions. Usually with map, filter, sort\n",
    "\n",
    "Syntax:\n",
    "```\n",
    "lambda argument(s): expression\n",
    "```\n",
    "\n",
    "Example:\n",
    "```python\n",
    "#Normal python function\n",
    "def square(x):\n",
    "    return x*x\n",
    "#Lambda function\n",
    "lambda x: x*x\n",
    "```"
   ]
  },
  {
   "cell_type": "code",
   "execution_count": 76,
   "metadata": {
    "pycharm": {
     "name": "#%%\n"
    }
   },
   "outputs": [
    {
     "data": {
      "text/plain": [
       "81"
      ]
     },
     "execution_count": 76,
     "metadata": {},
     "output_type": "execute_result"
    }
   ],
   "source": [
    "#Normal python function\n",
    "def square(x):\n",
    "    return x*x\n",
    "square(9)"
   ]
  },
  {
   "cell_type": "code",
   "execution_count": 77,
   "metadata": {
    "pycharm": {
     "name": "#%%\n"
    },
    "scrolled": true
   },
   "outputs": [
    {
     "data": {
      "text/plain": [
       "81"
      ]
     },
     "execution_count": 77,
     "metadata": {},
     "output_type": "execute_result"
    }
   ],
   "source": [
    "#Lambda function\n",
    "(lambda x: x*x)(9)"
   ]
  },
  {
   "cell_type": "code",
   "execution_count": 78,
   "metadata": {},
   "outputs": [
    {
     "data": {
      "text/plain": [
       "81"
      ]
     },
     "execution_count": 78,
     "metadata": {},
     "output_type": "execute_result"
    }
   ],
   "source": [
    "# You can assigne a name to lambda function\n",
    "square_lambda = lambda x: x*x\n",
    "square_lambda(9)"
   ]
  },
  {
   "cell_type": "code",
   "execution_count": 79,
   "metadata": {},
   "outputs": [
    {
     "name": "stdout",
     "output_type": "stream",
     "text": [
      "[1, 4, 9, 16]\n",
      "[1, 4, 9, 16]\n",
      "[1, 4, 9, 16]\n"
     ]
    }
   ],
   "source": [
    "# fuctions can be passed as an input parameter to function\n",
    "def list_update(update_function, x):\n",
    "    for i in range(len(x)):\n",
    "        x[i] = update_function(x[i])\n",
    "\n",
    "# pass regular function:\n",
    "x = [1,2,3,4]\n",
    "list_update(square, x)\n",
    "print(x)\n",
    "# pass lambda function:\n",
    "x = [1,2,3,4]\n",
    "list_update(lambda x: x*x, x)\n",
    "print(x)\n",
    "# pass named lambda function:\n",
    "x = [1,2,3,4]\n",
    "list_update(square_lambda, x)\n",
    "print(x)"
   ]
  },
  {
   "cell_type": "code",
   "execution_count": null,
   "metadata": {},
   "outputs": [],
   "source": []
  },
  {
   "cell_type": "code",
   "execution_count": null,
   "metadata": {},
   "outputs": [],
   "source": []
  },
  {
   "cell_type": "markdown",
   "metadata": {
    "pycharm": {
     "name": "#%% md\n"
    }
   },
   "source": [
    "### Filter\n",
    "- Uses `function` to test the truthiness of each value in the sequence and returns a filtered list.\n",
    "- `function` must return True or False\n",
    "\n",
    "```python\n",
    "filter(function, sequence)\n",
    "```"
   ]
  },
  {
   "cell_type": "code",
   "execution_count": 80,
   "metadata": {
    "pycharm": {
     "name": "#%%\n"
    }
   },
   "outputs": [
    {
     "data": {
      "text/plain": [
       "[['John', 'Washington', 'graduate', 83.0],\n",
       " ['Robert', 'Andrade', 'graduate', 85.0],\n",
       " ['Paul', 'Smith', 'undergraduate', 79.5],\n",
       " ['Jason', 'Delgado', 'undergraduate', 71.5]]"
      ]
     },
     "execution_count": 80,
     "metadata": {},
     "output_type": "execute_result"
    }
   ],
   "source": [
    "grades = [\n",
    "    #First_Name,Last_Name,Degree,average\n",
    "    [\"John\",\"Washington\",\"graduate\",83.0],\n",
    "    [\"Robert\",\"Andrade\",\"graduate\",85.0],\n",
    "    [\"Paul\",\"Smith\",\"undergraduate\",79.5],\n",
    "    [\"Jason\",\"Delgado\",\"undergraduate\",71.5],\n",
    "]\n",
    "grades"
   ]
  },
  {
   "cell_type": "code",
   "execution_count": 81,
   "metadata": {
    "pycharm": {
     "name": "#%%\n"
    }
   },
   "outputs": [
    {
     "data": {
      "text/plain": [
       "[['John', 'Washington', 'graduate', 83.0],\n",
       " ['Robert', 'Andrade', 'graduate', 85.0]]"
      ]
     },
     "execution_count": 81,
     "metadata": {},
     "output_type": "execute_result"
    }
   ],
   "source": [
    "# get only graduate students using filter\n",
    "[v for v in grades if v[2]==\"graduate\"]"
   ]
  },
  {
   "cell_type": "code",
   "execution_count": 88,
   "metadata": {},
   "outputs": [
    {
     "data": {
      "text/plain": [
       "<filter at 0x7fe520218700>"
      ]
     },
     "execution_count": 88,
     "metadata": {},
     "output_type": "execute_result"
    }
   ],
   "source": [
    "# note that it return iterable filter objct\n",
    "filter(lambda x:x[2]==\"graduate\",grades)"
   ]
  },
  {
   "cell_type": "code",
   "execution_count": 89,
   "metadata": {},
   "outputs": [
    {
     "name": "stdout",
     "output_type": "stream",
     "text": [
      "['John', 'Washington', 'graduate', 83.0]\n",
      "['Robert', 'Andrade', 'graduate', 85.0]\n"
     ]
    }
   ],
   "source": [
    "# we can iterate over it without converting to list o tuple\n",
    "for item in filter(lambda x:x[2]==\"graduate\",grades):\n",
    "    print(item)"
   ]
  },
  {
   "cell_type": "code",
   "execution_count": 82,
   "metadata": {},
   "outputs": [
    {
     "data": {
      "text/plain": [
       "(['John', 'Washington', 'graduate', 83.0],\n",
       " ['Robert', 'Andrade', 'graduate', 85.0])"
      ]
     },
     "execution_count": 82,
     "metadata": {},
     "output_type": "execute_result"
    }
   ],
   "source": [
    "tuple(filter(lambda x:x[2]==\"graduate\",grades))"
   ]
  },
  {
   "cell_type": "code",
   "execution_count": 83,
   "metadata": {},
   "outputs": [
    {
     "name": "stdout",
     "output_type": "stream",
     "text": [
      "['John', 'Washington', 'graduate', 83.0]\n",
      "['Robert', 'Andrade', 'graduate', 85.0]\n"
     ]
    }
   ],
   "source": [
    "for item in filter(lambda x:x[2]==\"graduate\",grades):\n",
    "    print(item)"
   ]
  },
  {
   "cell_type": "markdown",
   "metadata": {},
   "source": [
    "### Map\n",
    "- Uses `function` to transform the values in a sequence\n",
    "```python\n",
    "map(function, sequence)\n",
    "```"
   ]
  },
  {
   "cell_type": "code",
   "execution_count": 84,
   "metadata": {
    "pycharm": {
     "name": "#%%\n"
    }
   },
   "outputs": [
    {
     "data": {
      "text/plain": [
       "[['John', 'Washington', 'graduate', 83.0],\n",
       " ['Robert', 'Andrade', 'graduate', 85.0],\n",
       " ['Paul', 'Smith', 'undergraduate', 79.5],\n",
       " ['Jason', 'Delgado', 'undergraduate', 71.5]]"
      ]
     },
     "execution_count": 84,
     "metadata": {},
     "output_type": "execute_result"
    }
   ],
   "source": [
    "grades = [\n",
    "    #First_Name,Last_Name,Degree,average\n",
    "    [\"John\",\"Washington\",\"graduate\",83.0],\n",
    "    [\"Robert\",\"Andrade\",\"graduate\",85.0],\n",
    "    [\"Paul\",\"Smith\",\"undergraduate\",79.5],\n",
    "    [\"Jason\",\"Delgado\",\"undergraduate\",71.5],\n",
    "]\n",
    "grades"
   ]
  },
  {
   "cell_type": "code",
   "execution_count": 85,
   "metadata": {
    "pycharm": {
     "name": "#%%\n"
    },
    "scrolled": true
   },
   "outputs": [
    {
     "data": {
      "text/plain": [
       "[83.0, 85.0, 79.5, 71.5]"
      ]
     },
     "execution_count": 85,
     "metadata": {},
     "output_type": "execute_result"
    }
   ],
   "source": [
    "[v[3] for v in grades]"
   ]
  },
  {
   "cell_type": "code",
   "execution_count": 86,
   "metadata": {},
   "outputs": [
    {
     "data": {
      "text/plain": [
       "319.0"
      ]
     },
     "execution_count": 86,
     "metadata": {},
     "output_type": "execute_result"
    }
   ],
   "source": [
    "sum(map(lambda x: x[3],grades))"
   ]
  },
  {
   "cell_type": "code",
   "execution_count": null,
   "metadata": {},
   "outputs": [],
   "source": []
  },
  {
   "cell_type": "markdown",
   "metadata": {},
   "source": [
    "### Sorting\n",
    "\n",
    "[https://docs.python.org/3/library/functions.html#sorted](https://docs.python.org/3/library/functions.html#sorted)\n",
    "\n",
    "```\n",
    "sorted(iterable, *, key=None, reverse=False)\n",
    "```"
   ]
  },
  {
   "cell_type": "code",
   "execution_count": 90,
   "metadata": {
    "pycharm": {
     "name": "#%%\n"
    }
   },
   "outputs": [
    {
     "data": {
      "text/plain": [
       "[['John', 'Washington', 'graduate', 83.0],\n",
       " ['Robert', 'Andrade', 'graduate', 85.0],\n",
       " ['Paul', 'Smith', 'undergraduate', 79.5],\n",
       " ['Jason', 'Delgado', 'undergraduate', 71.5]]"
      ]
     },
     "execution_count": 90,
     "metadata": {},
     "output_type": "execute_result"
    }
   ],
   "source": [
    "grades = [\n",
    "    #First_Name,Last_Name,Degree,average\n",
    "    [\"John\",\"Washington\",\"graduate\",83.0],\n",
    "    [\"Robert\",\"Andrade\",\"graduate\",85.0],\n",
    "    [\"Paul\",\"Smith\",\"undergraduate\",79.5],\n",
    "    [\"Jason\",\"Delgado\",\"undergraduate\",71.5],\n",
    "]\n",
    "grades"
   ]
  },
  {
   "cell_type": "code",
   "execution_count": 91,
   "metadata": {
    "pycharm": {
     "name": "#%%\n"
    },
    "scrolled": true
   },
   "outputs": [
    {
     "data": {
      "text/plain": [
       "[7, 3, 2, 1.4, 1]"
      ]
     },
     "execution_count": 91,
     "metadata": {},
     "output_type": "execute_result"
    }
   ],
   "source": [
    "sorted([3,2,1,1.4,7],reverse=True)"
   ]
  },
  {
   "cell_type": "code",
   "execution_count": 92,
   "metadata": {},
   "outputs": [
    {
     "data": {
      "text/plain": [
       "[['Jason', 'Delgado', 'undergraduate', 71.5],\n",
       " ['Paul', 'Smith', 'undergraduate', 79.5],\n",
       " ['John', 'Washington', 'graduate', 83.0],\n",
       " ['Robert', 'Andrade', 'graduate', 85.0]]"
      ]
     },
     "execution_count": 92,
     "metadata": {},
     "output_type": "execute_result"
    }
   ],
   "source": [
    "sorted(grades, key=lambda x: x[3])"
   ]
  },
  {
   "cell_type": "code",
   "execution_count": 93,
   "metadata": {
    "scrolled": true
   },
   "outputs": [
    {
     "data": {
      "text/plain": [
       "[['Jason', 'Delgado', 'undergraduate', 71.5],\n",
       " ['Paul', 'Smith', 'undergraduate', 79.5],\n",
       " ['John', 'Washington', 'graduate', 83.0],\n",
       " ['Robert', 'Andrade', 'graduate', 85.0]]"
      ]
     },
     "execution_count": 93,
     "metadata": {},
     "output_type": "execute_result"
    }
   ],
   "source": [
    "# sort with custom scoring function, sort by grades\n",
    "def my_scoring_function(x):\n",
    "    return x[3]\n",
    "\n",
    "sorted(grades, key=my_scoring_function)"
   ]
  },
  {
   "cell_type": "code",
   "execution_count": 96,
   "metadata": {
    "scrolled": true
   },
   "outputs": [
    {
     "data": {
      "text/plain": [
       "[['Jason', 'Delgado', 'undergraduate', 71.5],\n",
       " ['Paul', 'Smith', 'undergraduate', 79.5],\n",
       " ['John', 'Washington', 'graduate', 83.0],\n",
       " ['Robert', 'Andrade', 'graduate', 85.0]]"
      ]
     },
     "execution_count": 96,
     "metadata": {},
     "output_type": "execute_result"
    }
   ],
   "source": [
    "# sort with custom scoring function implemented as lamdba function, sort by grades\n",
    "sorted(grades, key=lambda x: x[3])"
   ]
  },
  {
   "cell_type": "code",
   "execution_count": 97,
   "metadata": {},
   "outputs": [
    {
     "data": {
      "text/plain": [
       "[['Paul', 'Smith', 'undergraduate', 79.5],\n",
       " ['Jason', 'Delgado', 'undergraduate', 71.5],\n",
       " ['Robert', 'Andrade', 'graduate', 85.0],\n",
       " ['John', 'Washington', 'graduate', 83.0]]"
      ]
     },
     "execution_count": 97,
     "metadata": {},
     "output_type": "execute_result"
    }
   ],
   "source": [
    "# sort by last name length\n",
    "sorted(grades, key=lambda x: x[3]*len(x[1]))"
   ]
  },
  {
   "cell_type": "code",
   "execution_count": 98,
   "metadata": {},
   "outputs": [
    {
     "data": {
      "text/plain": [
       "[['Paul', 'Smith', 'undergraduate', 79.5],\n",
       " ['Jason', 'Delgado', 'undergraduate', 71.5],\n",
       " ['Robert', 'Andrade', 'graduate', 85.0],\n",
       " ['John', 'Washington', 'graduate', 83.0]]"
      ]
     },
     "execution_count": 98,
     "metadata": {},
     "output_type": "execute_result"
    }
   ],
   "source": [
    "# sort by last name length times grades\n",
    "sorted(grades, key=lambda x: x[3]*len(x[1]))"
   ]
  },
  {
   "cell_type": "markdown",
   "metadata": {},
   "source": [
    "### Min/Max\n",
    "```\n",
    "min(iterable, *[, key, default])\n",
    "max(iterable, *[, key, default])\n",
    "```"
   ]
  },
  {
   "cell_type": "code",
   "execution_count": 99,
   "metadata": {
    "pycharm": {
     "name": "#%%\n"
    }
   },
   "outputs": [
    {
     "data": {
      "text/plain": [
       "['Robert', 'Andrade', 'graduate', 85.0]"
      ]
     },
     "execution_count": 99,
     "metadata": {},
     "output_type": "execute_result"
    }
   ],
   "source": [
    "max(grades, key=lambda x: x[3])"
   ]
  },
  {
   "cell_type": "markdown",
   "metadata": {
    "pycharm": {
     "name": "#%% md\n"
    }
   },
   "source": [
    "# Exercises\n",
    "## For Loop"
   ]
  },
  {
   "cell_type": "code",
   "execution_count": null,
   "metadata": {
    "pycharm": {
     "name": "#%%\n"
    }
   },
   "outputs": [],
   "source": [
    "##################################################################\n",
    "# for_ex8.py\n",
    "# Write a function simulates a coin toss\n",
    "# Input: number of simulation\n",
    "# Output: a string that concatenates the results, ex. 'HHHTTTHTHTHT'"
   ]
  },
  {
   "cell_type": "code",
   "execution_count": null,
   "metadata": {
    "pycharm": {
     "name": "#%%\n"
    }
   },
   "outputs": [],
   "source": [
    "##################################################################\n",
    "# for_ex9.py\n",
    "# Write a function that uses the output from the coin_toss function and calculates the probablity of H and T\n",
    "# Input: number of simulation\n",
    "# Output: probabily of H and T\n",
    "\n",
    "##################################################################\n",
    "# for_ex10.py\n",
    "# Write a function that simultes coin_toss_probablity for a given number of times and calculates the average of H and T\n",
    "# Input: number of simuations\n",
    "# Input: number of coin tosses\n",
    "# Output: average probability\n",
    "\n",
    "##################################################################\n",
    "# for_ex11.py\n",
    "# Write a function that reads a file in which each line has multiple student grades and calculates the student average grade\n",
    "# Print average of each student on screen\n",
    "# Use list comprehension to convert grades to int\n",
    "# use: for_ex11_data.txt\n",
    "\n",
    "##################################################################\n",
    "# for_ex12.py\n",
    "# Write a function that generates a given number of students with a given number of grades and saves them to a file\n",
    "# inputs: output_filename, number_of_students, number_of_tests, test_score_range(low, high)\n",
    "# example output:\n",
    "# student1,93,78,82,83,65\n",
    "# student2,86,76,85,86,65\n",
    "# student3,70,98,88,80,93\n",
    "# student4,89,68,81,80,76\n",
    "# student5,99,67,100,83,68\n",
    "# student6,75,77,69,72,76\n",
    "# student7,67,93,90,92,66\n",
    "# student8,89,83,90,97,91\n",
    "# student9,92,84,75,92,92\n",
    "# student10,65,89,80,68,89"
   ]
  },
  {
   "cell_type": "markdown",
   "metadata": {},
   "source": [
    "## While Loop"
   ]
  },
  {
   "cell_type": "code",
   "execution_count": null,
   "metadata": {
    "pycharm": {
     "name": "#%%\n"
    }
   },
   "outputs": [],
   "source": [
    "###############################################################\n",
    "# while_ex1\n",
    "# Write a program that takes integers from the user and returns the average\n",
    "# Use a while loop and make an empty string the stop criteria."
   ]
  },
  {
   "cell_type": "code",
   "execution_count": null,
   "metadata": {
    "pycharm": {
     "name": "#%%\n"
    }
   },
   "outputs": [],
   "source": [
    "###############################################################\n",
    "# while_ex2\n",
    "# Write a program that takes integers from the user and returns the average\n",
    "# Use a while loop and make negative number the stop criteria."
   ]
  },
  {
   "cell_type": "code",
   "execution_count": null,
   "metadata": {
    "pycharm": {
     "name": "#%%\n"
    }
   },
   "outputs": [],
   "source": [
    "###############################################################\n",
    "# while_ex3\n",
    "# Write a program that takes test grades from the user and returns their average and the letter grade of the average\n",
    "# Use a while loop and make negative number the stop criteria.\n",
    "# A >=90\n",
    "# B 80-89\n",
    "# C 70-79\n",
    "# D 60-69\n",
    "# F 59 or less"
   ]
  },
  {
   "cell_type": "code",
   "execution_count": null,
   "metadata": {
    "pycharm": {
     "name": "#%%\n"
    }
   },
   "outputs": [],
   "source": [
    "###############################################################\n",
    "# while_ex4\n",
    "# Write a program that takes an integer and counts down to zero -- print the value"
   ]
  },
  {
   "cell_type": "code",
   "execution_count": null,
   "metadata": {
    "pycharm": {
     "name": "#%%\n"
    }
   },
   "outputs": [],
   "source": [
    "###############################################################\n",
    "# while_ex4\n",
    "# Write a program that takes an integer number and outputs all the even numbers starting from 0 to the number"
   ]
  },
  {
   "cell_type": "markdown",
   "metadata": {},
   "source": [
    "## Loop Control (Modified loop execution)"
   ]
  },
  {
   "cell_type": "code",
   "execution_count": null,
   "metadata": {
    "pycharm": {
     "name": "#%%\n"
    }
   },
   "outputs": [],
   "source": [
    "# Ex1\n",
    "# Write a function that prints from 1 to n using a for loop, it should skip every\n",
    "# multiple of 5"
   ]
  },
  {
   "cell_type": "code",
   "execution_count": null,
   "metadata": {
    "pycharm": {
     "name": "#%%\n"
    }
   },
   "outputs": [],
   "source": [
    "# Ex2\n",
    "# Write a function that prints from 1 to n squared using a while loop.\n",
    "# It should stop the while loop if the iteration count is 50."
   ]
  },
  {
   "cell_type": "code",
   "execution_count": null,
   "metadata": {
    "pycharm": {
     "name": "#%%\n"
    }
   },
   "outputs": [],
   "source": [
    "# Ex3\n",
    "# Write a function that reads numbers from a file and prints their average.\n",
    "# Skip empty lines"
   ]
  },
  {
   "cell_type": "markdown",
   "metadata": {},
   "source": [
    "## List Comprehention"
   ]
  },
  {
   "cell_type": "code",
   "execution_count": null,
   "metadata": {
    "pycharm": {
     "name": "#%%\n"
    }
   },
   "outputs": [],
   "source": [
    "###############################################################\n",
    "# list_comp_ex1.py\n",
    "# Re-write the following code to use List Comprehension\n",
    "# my_list = [1, 2, 3]\n",
    "# new_list = []\n",
    "# for ele in my_list:\n",
    "#     tmp = ele * ele\n",
    "#     new_list.append(tmp)"
   ]
  },
  {
   "cell_type": "code",
   "execution_count": null,
   "metadata": {
    "pycharm": {
     "name": "#%%\n"
    }
   },
   "outputs": [],
   "source": [
    "###############################################################\n",
    "# list_comp_ex2.py\n",
    "# Re-write the following code to use List Comprehension\n",
    "# # Multiply each number by 10\n",
    "\n",
    "# my_list = [1, 2, 3]\n",
    "# new_list = []\n",
    "# for ele in my_list:\n",
    "#     tmp = ele * 10\n",
    "#     new_list.append(tmp)"
   ]
  },
  {
   "cell_type": "code",
   "execution_count": null,
   "metadata": {
    "pycharm": {
     "name": "#%%\n"
    }
   },
   "outputs": [],
   "source": [
    "###############################################################\n",
    "# list_comp_ex3.py\n",
    "# Upper case each letter in animal variable"
   ]
  },
  {
   "cell_type": "code",
   "execution_count": null,
   "metadata": {
    "pycharm": {
     "name": "#%%\n"
    }
   },
   "outputs": [],
   "source": [
    "###############################################################\n",
    "# list_comp_ex4.py\n",
    "# Title each name in the student list"
   ]
  },
  {
   "cell_type": "code",
   "execution_count": null,
   "metadata": {
    "pycharm": {
     "name": "#%%\n"
    }
   },
   "outputs": [],
   "source": [
    "###############################################################\n",
    "# list_comp_ex5.py\n",
    "# Use list comprehension to get the Truthiness of each element in my_list"
   ]
  },
  {
   "cell_type": "code",
   "execution_count": null,
   "metadata": {
    "pycharm": {
     "name": "#%%\n"
    }
   },
   "outputs": [],
   "source": [
    "###############################################################\n",
    "# list_comp_ex6.py\n",
    "# convert each element of my_list to str using list comprehension"
   ]
  },
  {
   "cell_type": "code",
   "execution_count": null,
   "metadata": {
    "pycharm": {
     "name": "#%%\n"
    }
   },
   "outputs": [],
   "source": [
    "###############################################################\n",
    "# list_comp_ex7.py\n",
    "# use list comprehension to reduce a list of numbers to just even or odd"
   ]
  },
  {
   "cell_type": "code",
   "execution_count": null,
   "metadata": {
    "pycharm": {
     "name": "#%%\n"
    }
   },
   "outputs": [],
   "source": [
    "###############################################################\n",
    "# list_comp_ex8.py\n",
    "# use list comprehension to modify a list of numbers such that evens are left as is\n",
    "# and the odds are raised to the three power"
   ]
  },
  {
   "cell_type": "code",
   "execution_count": null,
   "metadata": {
    "pycharm": {
     "name": "#%%\n"
    }
   },
   "outputs": [],
   "source": [
    "###############################################################\n",
    "# list_comp_ex9.py\n",
    "# use list comprehension to remove vowels from a sentence"
   ]
  },
  {
   "cell_type": "markdown",
   "metadata": {},
   "source": [
    "## Set"
   ]
  },
  {
   "cell_type": "code",
   "execution_count": null,
   "metadata": {
    "pycharm": {
     "name": "#%%\n"
    }
   },
   "outputs": [],
   "source": [
    "# Ex1\n",
    "# Write a function that takes name of two gene files,\n",
    "# reads them, and returns which genes are:\n",
    "# 1) In first file but not in second file\n",
    "# 2) In second file but not in first file"
   ]
  },
  {
   "cell_type": "markdown",
   "metadata": {},
   "source": [
    "## Dictionaries"
   ]
  },
  {
   "cell_type": "code",
   "execution_count": null,
   "metadata": {
    "pycharm": {
     "name": "#%%\n"
    }
   },
   "outputs": [],
   "source": [
    "##############################################################\n",
    "# dict_ex1.py\n",
    "# Load people.tsv into a dictionary. Prompt user for filename"
   ]
  },
  {
   "cell_type": "code",
   "execution_count": null,
   "metadata": {
    "pycharm": {
     "name": "#%%\n"
    }
   },
   "outputs": [],
   "source": [
    "####################################################\n",
    "# dict_ex2.py\n",
    "# Write a function to convert month number to\n",
    "# month name. First use a list and then a dictionary\n",
    "# 'January', 'February', 'March', 'April', 'May', 'June', 'July', 'August', 'September', 'October', 'November', 'December'\n",
    "\n",
    "def convert_to_month_list(month):\n",
    "    pass\n",
    "\n",
    "print(convert_to_month_list(3))\n",
    "\n",
    "def convert_to_month_dict(month):\n",
    "    pass\n",
    "\n",
    "print(convert_to_month_list(3))"
   ]
  },
  {
   "cell_type": "code",
   "execution_count": null,
   "metadata": {
    "pycharm": {
     "name": "#%%\n"
    }
   },
   "outputs": [],
   "source": [
    "####################################################\n",
    "# dict_ex3.py\n",
    "# Convert text message to numbers\n",
    "\n",
    "# 0 \tspace\n",
    "# 1 \t., ?, !\n",
    "# 2 \tABC\n",
    "# 3 \tDEF\n",
    "# 4 \tGHI\n",
    "# 5 \tJKL\n",
    "# 6 \tMNO\n",
    "# 7 \tPQRS\n",
    "# 8 \tTUV\n",
    "# 9 \tWXYZ"
   ]
  },
  {
   "cell_type": "code",
   "execution_count": null,
   "metadata": {
    "pycharm": {
     "name": "#%%\n"
    }
   },
   "outputs": [],
   "source": [
    "####################################################\n",
    "# dict_ex4.py\n",
    "# Write a function that uses enumerate to print the index and value from range.\n",
    "# Use vary the enumerate start index"
   ]
  },
  {
   "cell_type": "code",
   "execution_count": null,
   "metadata": {
    "pycharm": {
     "name": "#%%\n"
    }
   },
   "outputs": [],
   "source": [
    "######################################################\n",
    "# dict_ex5.py\n",
    "# Simulate two dice. Print the total, theoretical/expected probability, and simulated probability\n",
    "# input: the number of simulations\n",
    "# https://socratic.org/questions/what-is-the-expected-value-of-the-sum-of-two-rolls-of-a-six-sided-die\n",
    "# Total     Simulated Percent     Expected Percent\n",
    "\n",
    "# 2                      2.76                 2.78\n",
    "# 3                      5.57                 5.56\n",
    "# 4                      8.34                 8.33\n",
    "# 5                      11.1                11.11\n",
    "# 6                     13.83                13.89\n",
    "# 7                     16.68                16.67\n",
    "# 8                      13.9                13.89\n",
    "# 9                      11.1                11.11\n",
    "# 10                     8.36                 8.33\n",
    "# 11                     5.57                 5.56\n",
    "# 12                     2.79                 2.78\n"
   ]
  },
  {
   "cell_type": "markdown",
   "metadata": {},
   "source": [
    "## Lambda Function"
   ]
  },
  {
   "cell_type": "code",
   "execution_count": null,
   "metadata": {
    "pycharm": {
     "name": "#%%\n"
    }
   },
   "outputs": [],
   "source": [
    "# lambda_ex1.py\n",
    "# Write a function that squares a number and returns the value.\n",
    "# Write it again again using Lambda functions\n"
   ]
  },
  {
   "cell_type": "code",
   "execution_count": null,
   "metadata": {
    "pycharm": {
     "name": "#%%\n"
    }
   },
   "outputs": [],
   "source": [
    "# lambda_ex2.py\n",
    "# Write a lambda function for adding two numbers\n"
   ]
  },
  {
   "cell_type": "code",
   "execution_count": null,
   "metadata": {
    "pycharm": {
     "name": "#%%\n"
    }
   },
   "outputs": [],
   "source": [
    "# lambda_ex3.py\n",
    "# Write a lambda function that multiples two numbers. Use the lambda function as an input to another function.\n"
   ]
  },
  {
   "cell_type": "code",
   "execution_count": null,
   "metadata": {
    "pycharm": {
     "name": "#%%\n"
    }
   },
   "outputs": [],
   "source": [
    "# lambda_ex4.py\n",
    "# 1) Write a function to double a list\n",
    "# 2) Use list comprehension to double a list\n",
    "# 3) Use lambda with map to double a list\n",
    "# here double means square\n",
    "\n",
    "# lambda functions are used with other functions. Usually with map, filter, sort\n",
    "\n",
    "\n",
    "\n",
    "# double this list\n",
    "\n",
    "# method 1 - define a square function\n",
    "\n",
    "# method 2 - list comprehension\n",
    "\n",
    "# method 3 - use lambda with map\n",
    "\n",
    "# map objects are a generator. How many times can you iterate over them?"
   ]
  },
  {
   "cell_type": "code",
   "execution_count": null,
   "metadata": {
    "pycharm": {
     "name": "#%%\n"
    }
   },
   "outputs": [],
   "source": [
    "# lambda_ex5.py\n",
    "# Capitalize the names in the students list\n",
    "# 1) using a list and loop\n",
    "# 2) using list comprehension\n",
    "# 3) using lambda and map\n",
    "\n",
    "students = ['john', 'jane', 'doe']\n",
    "\n",
    "# make upper case\n",
    "\n",
    "\n",
    "# method 1 create new list and loop\n",
    "\n",
    "# method 2 -- use list comprehension\n",
    "\n",
    "# method 3 -- use lambda\n"
   ]
  },
  {
   "cell_type": "code",
   "execution_count": null,
   "metadata": {
    "pycharm": {
     "name": "#%%\n"
    }
   },
   "outputs": [],
   "source": [
    "# lambda_ex6.py\n",
    "# Using lambda and map, convert the numbers to float\n",
    "\n",
    "# covert each value to float\n",
    "\n",
    "my_dict = [{'value': '34.4'}, {'value': '45.3'}, {'value': '73.4'}]\n",
    "\n"
   ]
  },
  {
   "cell_type": "code",
   "execution_count": null,
   "metadata": {
    "pycharm": {
     "name": "#%%\n"
    }
   },
   "outputs": [],
   "source": [
    "# lambda_ex7.py\n",
    "# Create a dictionary where the key is year and\n",
    "# value is True/False if the year is a leap year\n",
    "# 1) using a loop and dict\n",
    "# 2) using filter without a function\n",
    "# 3)\n",
    "\n",
    "years = range(1970, 2000) # for these years\n",
    "\n",
    "\n",
    "\n",
    "def is_leap_year(year):\n",
    "    # does not work for century year\n",
    "    if year % 4 == 0:\n",
    "        return True\n",
    "    else:\n",
    "        return False\n"
   ]
  },
  {
   "cell_type": "code",
   "execution_count": null,
   "metadata": {
    "pycharm": {
     "name": "#%%\n"
    }
   },
   "outputs": [],
   "source": [
    "# lambda_ex8.py\n",
    "# Sort x using value\n",
    "x = (('efg', 1), ('abc', 3), ('hij', 2))\n",
    "\n",
    "print(sorted(x)) # does work\n",
    "\n",
    "print(sorted(x, key=lambda ele: ele[1]))"
   ]
  },
  {
   "cell_type": "code",
   "execution_count": null,
   "metadata": {
    "pycharm": {
     "name": "#%%\n"
    }
   },
   "outputs": [],
   "source": [
    "# lambda_ex9.py\n",
    "# sort dictionary by username\n",
    "# reverse sort\n",
    "\n",
    "students = [\n",
    "    {'username': 'john', 'grade': 50},\n",
    "    {'username': 'jane', 'grade': 80},\n",
    "    {'username': 'doe', 'grade': 35},\n",
    "    {'grade': 89, 'username': 'Kelly'}\n",
    "]\n",
    "\n",
    "from pprint import pprint\n",
    "print(sorted(students, key=lambda student: student['username']))\n",
    "print()\n",
    "print(sorted(students, key=lambda student: student['username'], reverse=True))"
   ]
  },
  {
   "cell_type": "code",
   "execution_count": null,
   "metadata": {
    "pycharm": {
     "name": "#%%\n"
    }
   },
   "outputs": [],
   "source": [
    "# lambda_ex10.py\n",
    "# sort dictionary by grade\n",
    "# reverse sort\n",
    "\n",
    "students = [\n",
    "    {'username': 'john', 'grade': 50},\n",
    "    {'username': 'jane', 'grade': 80},\n",
    "    {'username': 'doe', 'grade': 35},\n",
    "    {'grade': 89, 'username': 'Kelly'}\n",
    "]\n"
   ]
  },
  {
   "cell_type": "code",
   "execution_count": null,
   "metadata": {
    "pycharm": {
     "name": "#%%\n"
    }
   },
   "outputs": [],
   "source": [
    "# lambda_ex11.py\n",
    "# sort array by len of names\n",
    "students = ['john', 'Janette', 'doe']\n"
   ]
  },
  {
   "cell_type": "code",
   "execution_count": null,
   "metadata": {
    "pycharm": {
     "name": "#%%\n"
    }
   },
   "outputs": [],
   "source": [
    "# lambda_ex12.py\n",
    "# sort dictionary by value\n",
    "\n",
    "my_list = [{'value': '34.4'}, {'value': '45.3'}, {'value': '73.4'}]\n",
    "\n"
   ]
  },
  {
   "cell_type": "code",
   "execution_count": null,
   "metadata": {
    "pycharm": {
     "name": "#%%"
    }
   },
   "outputs": [],
   "source": []
  }
 ],
 "metadata": {
  "kernelspec": {
   "display_name": "Python 3 (ipykernel)",
   "language": "python",
   "name": "python3"
  },
  "language_info": {
   "codemirror_mode": {
    "name": "ipython",
    "version": 3
   },
   "file_extension": ".py",
   "mimetype": "text/x-python",
   "name": "python",
   "nbconvert_exporter": "python",
   "pygments_lexer": "ipython3",
   "version": "3.9.7"
  }
 },
 "nbformat": 4,
 "nbformat_minor": 4
}
