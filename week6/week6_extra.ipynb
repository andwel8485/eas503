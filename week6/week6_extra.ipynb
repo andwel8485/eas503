{
 "cells": [
  {
   "cell_type": "markdown",
   "id": "edbf10f0",
   "metadata": {
    "pycharm": {
     "name": "#%% md\n"
    }
   },
   "source": [
    "# On Functions vs Object's Methods\n",
    "Calling function:\n",
    "```\n",
    "<result1> = function_name_1(<arg0>, <arg1>, ... , kwarg0=<kwarg0>, kwarg1=<kwarg1>)\n",
    "<result2> = function_name_2(*arg, **kwarg)\n",
    "```\n",
    "- To call (execute) function, write function name and parenthesis `(...)` with input parameters inside\n",
    "  - Function name with parenthesis `(...)` is a variable\n",
    "- inputs:\n",
    "    - arguments - values and variables placed in parenthesis `(...)`\n",
    "- output:\n",
    "    - return value\n",
    "    - some arguments (variables placed in parentheses) can be modified\n",
    "\n",
    "Calling method of object:\n",
    "```\n",
    "<result1> = <variable_name>.method_name_1(<arg0>, <arg1>, ... , kwarg0=<kwarg0>, kwarg1=<kwarg1>)\n",
    "<result2> = <variable_name>.method_name_2(*arg, **kwarg)\n",
    "```\n",
    "- To call (execute) object's method, write variable name (which refer that object),\n",
    "  `\".\"` , method name and parenthesis `(...)` with input parameters inside\n",
    "- inputs:\n",
    "    - object -  variable name (which refer that object) in-front of `.`\n",
    "    - arguments - values and variables placed in parenthesis `(...)`\n",
    "- output:\n",
    "    - return value\n",
    "    - some arguments (variables placed in parentheses) can be modified\n",
    "    - object -  variable name (which refer that object) in-front of `.`"
   ]
  },
  {
   "cell_type": "code",
   "execution_count": 2,
   "id": "69571075",
   "metadata": {
    "pycharm": {
     "name": "#%%\n"
    }
   },
   "outputs": [
    {
     "data": {
      "text/plain": [
       "'HELLO'"
      ]
     },
     "execution_count": 2,
     "metadata": {},
     "output_type": "execute_result"
    }
   ],
   "source": [
    "m_str = \"hello\".upper()\n",
    "m_str"
   ]
  },
  {
   "cell_type": "code",
   "execution_count": 3,
   "id": "967ed8e8",
   "metadata": {
    "pycharm": {
     "name": "#%%\n"
    }
   },
   "outputs": [
    {
     "data": {
      "text/plain": [
       "'0x1.3ae147ae147aep+0'"
      ]
     },
     "execution_count": 3,
     "metadata": {},
     "output_type": "execute_result"
    }
   ],
   "source": [
    "1.23.hex()"
   ]
  },
  {
   "cell_type": "code",
   "execution_count": 7,
   "id": "f4c7c087",
   "metadata": {},
   "outputs": [
    {
     "data": {
      "text/plain": [
       "'ello'"
      ]
     },
     "execution_count": 7,
     "metadata": {},
     "output_type": "execute_result"
    }
   ],
   "source": [
    "\"hello\".upper().lower()[1:]"
   ]
  },
  {
   "cell_type": "code",
   "execution_count": 8,
   "id": "5ed96f3b",
   "metadata": {},
   "outputs": [
    {
     "data": {
      "text/plain": [
       "2.3"
      ]
     },
     "execution_count": 8,
     "metadata": {},
     "output_type": "execute_result"
    }
   ],
   "source": [
    "float(\"2.3\")"
   ]
  },
  {
   "cell_type": "markdown",
   "id": "582184a3",
   "metadata": {},
   "source": [
    "# Homework Questions"
   ]
  },
  {
   "cell_type": "code",
   "execution_count": 17,
   "id": "523bb258",
   "metadata": {
    "pycharm": {
     "name": "#%%\n"
    }
   },
   "outputs": [
    {
     "name": "stdout",
     "output_type": "stream",
     "text": [
      "[8, 2, 11, 6, 5, 4, 12, 9, 6, 1]\n"
     ]
    },
    {
     "data": {
      "text/plain": [
       "(-1.11, 14.08)"
      ]
     },
     "execution_count": 17,
     "metadata": {},
     "output_type": "execute_result"
    }
   ],
   "source": [
    "def best_line(points):\n",
    "    # Complete this function to determine the best line. \n",
    "    # https://www.varsitytutors.com/hotmath/hotmath_help/topics/line-of-best-fit\n",
    "    # input: points (list of tuples contain x, y values)\n",
    "    # output: (m, b) # round both values to two decimal places\n",
    "\n",
    "    # YOUR CODE HERE\n",
    "    \n",
    "    #Step 1 \n",
    "    x_mean = sum([r[0] for r in points])/len(points)\n",
    "    y_mean = sum([r[1] for r in points])/len(points)\n",
    "    \n",
    "    #Step 2\n",
    "    numerator = sum([(r[0]-x_mean)*(r[1]-y_mean) for r in points])\n",
    "    denominator = sum([(r[0]-x_mean)**2 for r in points])\n",
    "    m = numerator/denominator\n",
    "    \n",
    "    #Step 3\n",
    "    b = y_mean - (m*x_mean)\n",
    "    \n",
    "    return round(m,2),round(b,2)\n",
    "\n",
    "points1 = (\n",
    "    (8, 3),\n",
    "    (2, 10),\n",
    "    (11, 3),\n",
    "    (6, 6),\n",
    "    (5, 8),\n",
    "    (4, 12),\n",
    "    (12, 1),\n",
    "    (9, 4),\n",
    "    (6, 9),\n",
    "    (1, 14),\n",
    ")\n",
    "points2 = (\n",
    "    (0,0),\n",
    "    (100,100)\n",
    ")\n",
    "\n",
    "best_line(points1)\n",
    "# should be -1.11, 14.08"
   ]
  },
  {
   "cell_type": "code",
   "execution_count": null,
   "id": "23a2d3a4",
   "metadata": {},
   "outputs": [],
   "source": []
  },
  {
   "cell_type": "code",
   "execution_count": null,
   "id": "41931a6e",
   "metadata": {},
   "outputs": [],
   "source": []
  },
  {
   "cell_type": "code",
   "execution_count": null,
   "id": "afaaa1dd",
   "metadata": {},
   "outputs": [],
   "source": []
  },
  {
   "cell_type": "code",
   "execution_count": null,
   "id": "64caf083",
   "metadata": {},
   "outputs": [],
   "source": []
  }
 ],
 "metadata": {
  "kernelspec": {
   "display_name": "Python 3 (ipykernel)",
   "language": "python",
   "name": "python3"
  },
  "language_info": {
   "codemirror_mode": {
    "name": "ipython",
    "version": 3
   },
   "file_extension": ".py",
   "mimetype": "text/x-python",
   "name": "python",
   "nbconvert_exporter": "python",
   "pygments_lexer": "ipython3",
   "version": "3.8.10"
  }
 },
 "nbformat": 4,
 "nbformat_minor": 5
}
