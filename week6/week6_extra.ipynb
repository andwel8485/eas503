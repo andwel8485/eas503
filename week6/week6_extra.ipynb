{
 "cells": [
  {
   "cell_type": "markdown",
   "id": "edbf10f0",
   "metadata": {
    "pycharm": {
     "name": "#%% md\n"
    }
   },
   "source": [
    "# On Functions vs Object's Methods\n",
    "Calling function:\n",
    "```\n",
    "<result1> = function_name_1(<arg0>, <arg1>, ... , kwarg0=<kwarg0>, kwarg1=<kwarg1>)\n",
    "<result2> = function_name_2(*arg, **kwarg)\n",
    "```\n",
    "- To call (execute) function, write function name and parenthesis `(...)` with input parameters inside\n",
    "  - Function name with parenthesis `(...)` is a variable\n",
    "- inputs:\n",
    "    - arguments - values and variables placed in parenthesis `(...)`\n",
    "- output:\n",
    "    - return value\n",
    "    - some arguments (variables placed in parentheses) can be modified\n",
    "\n",
    "Calling method of object:\n",
    "```\n",
    "<result1> = <variable_name>.method_name_1(<arg0>, <arg1>, ... , kwarg0=<kwarg0>, kwarg1=<kwarg1>)\n",
    "<result2> = <variable_name>.method_name_2(*arg, **kwarg)\n",
    "```\n",
    "- To call (execute) object's method, write variable name (which refer that object),\n",
    "  `\".\"` , method name and parenthesis `(...)` with input parameters inside\n",
    "- inputs:\n",
    "    - object -  variable name (which refer that object) in-front of `.`\n",
    "    - arguments - values and variables placed in parenthesis `(...)`\n",
    "- output:\n",
    "    - return value\n",
    "    - some arguments (variables placed in parentheses) can be modified\n",
    "    - object -  variable name (which refer that object) in-front of `.`"
   ]
  },
  {
   "cell_type": "code",
   "execution_count": null,
   "outputs": [],
   "source": [],
   "metadata": {
    "collapsed": false,
    "pycharm": {
     "name": "#%%\n"
    }
   }
  },
  {
   "cell_type": "code",
   "execution_count": null,
   "outputs": [],
   "source": [],
   "metadata": {
    "collapsed": false,
    "pycharm": {
     "name": "#%%\n"
    }
   }
  },
  {
   "cell_type": "markdown",
   "source": [
    "# Homework Questions"
   ],
   "metadata": {
    "collapsed": false
   }
  },
  {
   "cell_type": "code",
   "execution_count": null,
   "outputs": [],
   "source": [
    "def best_line(points):\n",
    "    # Complete this function to determine the best line. \n",
    "    # https://www.varsitytutors.com/hotmath/hotmath_help/topics/line-of-best-fit\n",
    "    # input: points (list of tuples contain x, y values)\n",
    "    # output: (m, b) # round both values to two decimal places\n",
    "\n",
    "    # YOUR CODE HERE\n",
    "    \n",
    "    #Step 1\n",
    "    x_coordinates = []\n",
    "    y_coordinates = []\n",
    "    for i in points:\n",
    "        x_coordinates.append(i[0])\n",
    "        y_coordinates.append(i[1])\n",
    "    x_mean = sum(x_coordinates)/len(x_coordinates)\n",
    "    y_mean = sum(y_coordinates)/len(y_coordinates)\n",
    "    \n",
    "    #Step 2\n",
    "    numerator = 0\n",
    "    denominator = 0\n",
    "    for i in points:\n",
    "        numerator+=((i[0]-x_mean)*(i[1]-y_mean))\n",
    "        denominator+=(i[0]-x_mean)**2\n",
    "    m = round(numerator/denominator, 2)\n",
    "    \n",
    "    #Step 3\n",
    "    b = round(y_mean - (m*x_mean), 2)\n",
    "    \n",
    "    return m,b\n",
    "\n",
    "points = (\n",
    "    (8, 3),\n",
    "    (2, 10),\n",
    "    (11, 3),\n",
    "    (6, 6),\n",
    "    (5, 8),\n",
    "    (4, 12),\n",
    "    (12, 1),\n",
    "    (9, 4),\n",
    "    (6, 9),\n",
    "    (1, 14),\n",
    ")\n",
    "best_line(points)\n",
    "# should be -1.11, 14.08"
   ],
   "metadata": {
    "collapsed": false,
    "pycharm": {
     "name": "#%%\n"
    }
   }
  },
  {
   "cell_type": "code",
   "execution_count": null,
   "id": "23a2d3a4",
   "metadata": {},
   "outputs": [],
   "source": []
  },
  {
   "cell_type": "code",
   "execution_count": null,
   "id": "41931a6e",
   "metadata": {},
   "outputs": [],
   "source": []
  },
  {
   "cell_type": "code",
   "execution_count": null,
   "id": "afaaa1dd",
   "metadata": {},
   "outputs": [],
   "source": []
  },
  {
   "cell_type": "code",
   "execution_count": null,
   "id": "64caf083",
   "metadata": {},
   "outputs": [],
   "source": []
  }
 ],
 "metadata": {
  "kernelspec": {
   "display_name": "Python 3 (ipykernel)",
   "language": "python",
   "name": "python3"
  },
  "language_info": {
   "codemirror_mode": {
    "name": "ipython",
    "version": 3
   },
   "file_extension": ".py",
   "mimetype": "text/x-python",
   "name": "python",
   "nbconvert_exporter": "python",
   "pygments_lexer": "ipython3",
   "version": "3.9.7"
  }
 },
 "nbformat": 4,
 "nbformat_minor": 5
}