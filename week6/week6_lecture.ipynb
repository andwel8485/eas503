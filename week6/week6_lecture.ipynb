{
 "cells": [
  {
   "cell_type": "markdown",
   "metadata": {
    "collapsed": true,
    "pycharm": {
     "name": "#%% md\n"
    }
   },
   "source": [
    "# Week 6. Python Errors, Exception Handling.\n",
    "\n",
    "Mid-term course evaluations have started! End 10/10/2021:\n",
    "- check your email for something like :\n",
    "  \"Your University at Buffalo course evaluations are open\" from\n",
    "  UB Course Evaluation, evaluations@smartevals.com."
   ]
  },
  {
   "cell_type": "markdown",
   "source": [
    "# Recap\n",
    "## Set\n",
    "- Collection of unique, unchangeable items\n",
    "- [https://docs.python.org/3/library/stdtypes.html#set-types-set-frozenset](https://docs.python.org/3/library/stdtypes.html#set-types-set-frozenset)\n",
    "- Most often used for testing `<item> in <set>`"
   ],
   "metadata": {
    "collapsed": false
   }
  },
  {
   "cell_type": "code",
   "execution_count": 36,
   "outputs": [],
   "source": [
    "A = {0, 2, 4, 6, 8}\n",
    "B = {1, 2, 3, 4, 5}\n",
    "C = {\"apple\", 2, 3.14, ('tuple',12)}\n",
    "basket = {\"apple\", \"banana\", \"orange\", \"lemon\"}"
   ],
   "metadata": {
    "collapsed": false,
    "pycharm": {
     "name": "#%%\n"
    }
   }
  },
  {
   "cell_type": "code",
   "execution_count": 29,
   "outputs": [
    {
     "data": {
      "text/plain": "{('tuple', 12), 2, 'apple', 'cinnamon', 'cookies', 'cookies2'}"
     },
     "execution_count": 29,
     "metadata": {},
     "output_type": "execute_result"
    }
   ],
   "source": [
    "# add item\n",
    "C.add(\"cinnamon\")\n",
    "C"
   ],
   "metadata": {
    "collapsed": false,
    "pycharm": {
     "name": "#%%\n"
    }
   }
  },
  {
   "cell_type": "code",
   "execution_count": 37,
   "outputs": [
    {
     "data": {
      "text/plain": "{('tuple', 12),\n 2,\n 3.14,\n 'apple',\n 'c3',\n 'c4',\n 'c5',\n 'c6',\n 'cookies',\n 'cookies2'}"
     },
     "execution_count": 37,
     "metadata": {},
     "output_type": "execute_result"
    }
   ],
   "source": [
    "# add items\n",
    "C.update({'cookies', 'cookies2'})\n",
    "C |= {'c3','c4'}\n",
    "C |= set(('c5','c6'))\n",
    "C"
   ],
   "metadata": {
    "collapsed": false,
    "pycharm": {
     "name": "#%%\n"
    }
   }
  },
  {
   "cell_type": "code",
   "execution_count": 38,
   "outputs": [
    {
     "name": "stdout",
     "output_type": "stream",
     "text": [
      "apple is in the basket\n",
      "cookies are not in basket\n"
     ]
    }
   ],
   "source": [
    "if 'apple' in basket:\n",
    "    print(\"apple is in the basket\")\n",
    "if 'cookies' not in basket:\n",
    "    print(\"cookies are not in basket\")"
   ],
   "metadata": {
    "collapsed": false,
    "pycharm": {
     "name": "#%%\n"
    }
   }
  },
  {
   "cell_type": "markdown",
   "source": [
    "Some operations:\n",
    "\n",
    "| Operation / Methods                     | Description                                        |\n",
    "|-----------------------------------------|----------------------------------------------------|\n",
    "| A \\| B                                  | union                                              |\n",
    "| A & B                                   | intersection                                       |\n",
    "| A - B                                   | difference -- order matters                        |\n",
    "| A ^ B                                   | symmetric difference  https://en.wikipedia.org/wiki/Symmetric_difference  |\n",
    "| `<set>`.add(`<item>`)                   | add `<item>` to `<set>`                            |\n",
    "| `<set>`.update(`<set2>`)                | update `<set>` with items from `<set2>`            |"
   ],
   "metadata": {
    "collapsed": false,
    "pycharm": {
     "name": "#%% md\n"
    }
   }
  },
  {
   "cell_type": "markdown",
   "source": [
    "## Dictionaries\n",
    "[https://docs.python.org/3/library/stdtypes.html#mapping-types-dict](https://docs.python.org/3/library/stdtypes.html#mapping-types-dict)\n",
    "\n",
    "- a.k.a. associated arrays\n",
    "- consists of key - value pairs\n",
    "  - key - any immutable object (int, float, string, tuple of immutable objects)\n",
    "  - value - any object\n",
    "\n",
    "### Creation"
   ],
   "metadata": {
    "collapsed": false,
    "pycharm": {
     "name": "#%% md\n"
    }
   }
  },
  {
   "cell_type": "code",
   "execution_count": 6,
   "outputs": [
    {
     "data": {
      "text/plain": "{'name': 'John Silver',\n 'email': 'john@email.com',\n 'id': 1234,\n 'major': 'Engineering',\n ('GPA', 1): 3.9,\n ('GPA', 2): 3.8,\n 'courses': ['linear algebra', 'theory of probability']}"
     },
     "execution_count": 6,
     "metadata": {},
     "output_type": "execute_result"
    }
   ],
   "source": [
    "# Most popular dict creation:\n",
    "my_dict = {\n",
    "    'name': 'John Silver',\n",
    "    'email': 'john@email.com',\n",
    "    'id': 1234,\n",
    "    'major': 'Engineering',\n",
    "    ('GPA',1): 3.9,\n",
    "    ('GPA',2): 3.8,\n",
    "    'courses': ['linear algebra', 'theory of probability']\n",
    "}\n",
    "my_dict"
   ],
   "metadata": {
    "collapsed": false,
    "pycharm": {
     "name": "#%%\n"
    }
   }
  },
  {
   "cell_type": "code",
   "execution_count": 9,
   "outputs": [
    {
     "data": {
      "text/plain": "{'name': 'john', 'email': 'john@email.com'}"
     },
     "execution_count": 9,
     "metadata": {},
     "output_type": "execute_result"
    }
   ],
   "source": [
    "# using dict function and keyword arguments\n",
    "my_dict_alt = dict(\n",
    "    name='john',\n",
    "    email='john@email.com'\n",
    ")\n",
    "my_dict_alt"
   ],
   "metadata": {
    "collapsed": false,
    "pycharm": {
     "name": "#%%\n"
    }
   }
  },
  {
   "cell_type": "code",
   "execution_count": 11,
   "outputs": [
    {
     "data": {
      "text/plain": "{'a': 'apple', 'b': 'banana', 'c': 'cookie'}"
     },
     "execution_count": 11,
     "metadata": {},
     "output_type": "execute_result"
    }
   ],
   "source": [
    "# using dict function and tuple of tuples\n",
    "my_dict_alt = dict(\n",
    "    (('name', 'john'),\n",
    "     ('email', 'john@email.com'),\n",
    "     (('GPA',2), 3.8))\n",
    ")\n",
    "my_dict_alt"
   ],
   "metadata": {
    "collapsed": false,
    "pycharm": {
     "name": "#%%\n"
    }
   }
  },
  {
   "cell_type": "code",
   "execution_count": null,
   "outputs": [],
   "source": [
    "my_dict_alt = dict(\n",
    "    zip(\n",
    "      ['a','b','c'],\n",
    "      ['apple','banana','cookie']\n",
    "    ))\n",
    "my_dict_alt"
   ],
   "metadata": {
    "collapsed": false,
    "pycharm": {
     "name": "#%%\n"
    }
   }
  },
  {
   "cell_type": "code",
   "execution_count": 13,
   "outputs": [
    {
     "data": {
      "text/plain": "{'a': 'apple', 'b': 'banana', 'c': 'cookie'}"
     },
     "execution_count": 13,
     "metadata": {},
     "output_type": "execute_result"
    }
   ],
   "source": [
    "# using dict comprehension\n",
    "my_dict_alt = {k:v for k,v in (('a', 'apple'),('b', 'banana'),('c', 'cookie'))}\n",
    "my_dict_alt"
   ],
   "metadata": {
    "collapsed": false,
    "pycharm": {
     "name": "#%%\n"
    }
   }
  },
  {
   "cell_type": "markdown",
   "source": [
    "### Access"
   ],
   "metadata": {
    "collapsed": false
   }
  },
  {
   "cell_type": "code",
   "execution_count": null,
   "outputs": [],
   "source": [
    "# accessing value\n",
    "my_dict['name']\n",
    "\n",
    "key = 'name'\n",
    "my_dict[key]\n",
    "my_dict.get(key, \"default value\")"
   ],
   "metadata": {
    "collapsed": false,
    "pycharm": {
     "name": "#%%\n"
    }
   }
  },
  {
   "cell_type": "markdown",
   "source": [
    "### Testing If Dictionary Contains a Key"
   ],
   "metadata": {
    "collapsed": false
   }
  },
  {
   "cell_type": "code",
   "execution_count": null,
   "outputs": [],
   "source": [
    "key = 'name12'\n",
    "if key in my_dict:\n",
    "    print(True)\n",
    "else:\n",
    "    print(False)"
   ],
   "metadata": {
    "collapsed": false,
    "pycharm": {
     "name": "#%%\n"
    }
   }
  },
  {
   "cell_type": "code",
   "execution_count": null,
   "outputs": [],
   "source": [
    "# test if dict contains a value\n",
    "value = 'john'\n",
    "if value in my_dict.values():\n",
    "    print(True)\n",
    "else:\n",
    "    print(False)"
   ],
   "metadata": {
    "collapsed": false,
    "pycharm": {
     "name": "#%%\n"
    }
   }
  },
  {
   "cell_type": "code",
   "execution_count": null,
   "outputs": [],
   "source": [
    "# accessing value of key which might be missing\n",
    "if ('GPA',3) in my_dict and my_dict[('GPA',3)] > 3.8:\n",
    "    print(\"High GPA on third year!\")\n",
    "if my_dict.get(('GPA',3), 0.0) > 3.8:\n",
    "    print(\"High GPA on third year!\")"
   ],
   "metadata": {
    "collapsed": false,
    "pycharm": {
     "name": "#%%\n"
    }
   }
  },
  {
   "cell_type": "markdown",
   "source": [
    "### Iterating over Dictionaries"
   ],
   "metadata": {
    "collapsed": false,
    "pycharm": {
     "name": "#%% md\n"
    }
   }
  },
  {
   "cell_type": "code",
   "execution_count": 2,
   "outputs": [],
   "source": [
    "my_dict = {\n",
    "    'name': 'John Silver',\n",
    "    'email': 'john@email.com',\n",
    "    'id': 1234,\n",
    "    'major': 'Engineering',\n",
    "    ('GPA',1): 3.9,\n",
    "    ('GPA',2): 3.8,\n",
    "    'courses': ['linear algebra', 'theory of probability']\n",
    "}"
   ],
   "metadata": {
    "collapsed": false,
    "pycharm": {
     "name": "#%%\n"
    }
   }
  },
  {
   "cell_type": "code",
   "execution_count": 3,
   "outputs": [
    {
     "name": "stdout",
     "output_type": "stream",
     "text": [
      "John Silver\n",
      "john@email.com\n",
      "1234\n",
      "Engineering\n",
      "3.9\n",
      "3.8\n",
      "['linear algebra', 'theory of probability']\n"
     ]
    }
   ],
   "source": [
    "for value in my_dict.values():\n",
    "    print(value)"
   ],
   "metadata": {
    "collapsed": false,
    "pycharm": {
     "name": "#%%\n"
    }
   }
  },
  {
   "cell_type": "code",
   "execution_count": 4,
   "outputs": [
    {
     "name": "stdout",
     "output_type": "stream",
     "text": [
      "name\n",
      "email\n",
      "id\n",
      "major\n",
      "('GPA', 1)\n",
      "('GPA', 2)\n",
      "courses\n"
     ]
    }
   ],
   "source": [
    "for key in my_dict.keys():\n",
    "    print(key)"
   ],
   "metadata": {
    "collapsed": false,
    "pycharm": {
     "name": "#%%\n"
    }
   }
  },
  {
   "cell_type": "code",
   "execution_count": 5,
   "outputs": [
    {
     "name": "stdout",
     "output_type": "stream",
     "text": [
      "key is name, value is John Silver and value is John Silver\n",
      "key is email, value is john@email.com and value is john@email.com\n",
      "key is id, value is 1234 and value is 1234\n",
      "key is major, value is Engineering and value is Engineering\n",
      "key is ('GPA', 1), value is 3.9 and value is 3.9\n",
      "key is ('GPA', 2), value is 3.8 and value is 3.8\n",
      "key is courses, value is ['linear algebra', 'theory of probability'] and value is ['linear algebra', 'theory of probability']\n"
     ]
    }
   ],
   "source": [
    "## access both\n",
    "for key, value in my_dict.items():\n",
    "    print(f'key is {key}, value is {value} and value is {my_dict[key]}')"
   ],
   "metadata": {
    "collapsed": false,
    "pycharm": {
     "name": "#%%\n"
    }
   }
  },
  {
   "cell_type": "code",
   "execution_count": 6,
   "outputs": [
    {
     "name": "stdout",
     "output_type": "stream",
     "text": [
      "{'name': 'John Silver', 'email': 'john@email.com', 'id': 1234, 'major': 'Engineering', ('GPA', 1): 3.9, ('GPA', 2): 3.8, 'courses': ['linear algebra', 'theory of probability']}\n",
      "{'name': 1, 'email': 1, 'id': 1, 'major': 1, ('GPA', 1): 1, ('GPA', 2): 1, 'courses': 1}\n"
     ]
    }
   ],
   "source": [
    "# change of `value` variable withing loop is not persistent, use key\n",
    "for key, value in my_dict.items():\n",
    "    value=0\n",
    "print(my_dict)"
   ],
   "metadata": {
    "collapsed": false,
    "pycharm": {
     "name": "#%%\n"
    }
   }
  },
  {
   "cell_type": "code",
   "execution_count": null,
   "outputs": [],
   "source": [
    "# use my_dict[key] to update value\n",
    "for key, value in my_dict.items():\n",
    "    my_dict[key]=1\n",
    "print(my_dict)"
   ],
   "metadata": {
    "collapsed": false,
    "pycharm": {
     "name": "#%%\n"
    }
   }
  },
  {
   "cell_type": "markdown",
   "source": [
    "### Dictionary Methods\n",
    "\n",
    "Some dictionary methods. See full list in [https://docs.python.org/3/library/stdtypes.html#dict](https://docs.python.org/3/library/stdtypes.html#dict)\n",
    "\n",
    "| Operation / Methods                              | Description                                                                |\n",
    "|--------------------------------------------------|----------------------------------------------------------------------------|\n",
    "| `<dict>`.clear()                                 | Remove all items from the dictionary.                                      |\n",
    "| `<dict>`.copy()                                  | Return a shallow copy of the dictionary.                                   |\n",
    "| `<dict>`.get(`<key>`[, `<default>`])             | Return the value for `<key>` if `<key>` is in the dictionary, else `<default>`.   |\n",
    "| `<dict>`.fromkeys(`<iterable>`[, `<value>`])     | Create a new dictionary with keys from iterable and values set to value.   |\n",
    "| `<dict>`.items()                                 | Return a new view of the dictionary’s items ((`key`, `value`) pairs for `for` loop).  |\n",
    "| `<dict>`.keys()                                  | Return a new view of the dictionary’s keys. |\n",
    "| `<dict>`.pop(`<key>`[, `<default>`])             | If key is in the dictionary, remove it and return its value, else return default.   |\n",
    "| `<dict>`.update([`<other>`])                     | Update the dictionary with the key/value pairs from `<other>`.             |\n",
    "| `<dict>`.values()                                | Return a new view of the dictionary’s values.  |\n",
    "| `<dict>` \\| `<other>`                            | Create a new dictionary with the merged keys and values of dict and other. |\n",
    "| `<dict>` \\|= `<other>`                           | Update the dictionary `<dict>` with keys and values from `<other>`.        |\n",
    "\n",
    "### Dictionary Comprehension\n",
    "```\n",
    "{<key:value> for <item(s)> in <sequence>}\n",
    "```\n",
    "- very similar to list comprehension\n",
    "  - `{}` instead of `[]`\n",
    "  - `<key>:<value>` pair instead of `<value>`"
   ],
   "metadata": {
    "collapsed": false,
    "pycharm": {
     "name": "#%% md\n"
    }
   }
  },
  {
   "cell_type": "code",
   "execution_count": 7,
   "outputs": [
    {
     "data": {
      "text/plain": "{'Number 0': 0, 'Number 1': 1, 'Number 2': 4, 'Number 3': 9, 'Number 4': 16}"
     },
     "execution_count": 7,
     "metadata": {},
     "output_type": "execute_result"
    }
   ],
   "source": [
    "{f'Number {num}': num*num for num in range(5)}"
   ],
   "metadata": {
    "collapsed": false,
    "pycharm": {
     "name": "#%%\n"
    }
   }
  },
  {
   "cell_type": "markdown",
   "source": [
    "## Lambda Function\n",
    "- anonymous functions (a function without a name by default, can be named if needed)\n",
    "- one line only\n",
    "- typically used to pass function as object (i.e. pass the function definition) to other function\n",
    "\n",
    "```\n",
    "lambda argument(s): expression\n",
    "```\n",
    "\n",
    "Defining"
   ],
   "metadata": {
    "collapsed": false,
    "pycharm": {
     "name": "#%% md\n"
    }
   }
  },
  {
   "cell_type": "code",
   "source": [
    "# Normal python function\n",
    "def square(x):\n",
    "    return x*x\n",
    "\n",
    "# Lambda function\n",
    "lambda x: x*x\n",
    "\n",
    "# named Lambda function\n",
    "square_named_lambda = lambda x: x*x"
   ],
   "metadata": {
    "collapsed": false,
    "pycharm": {
     "name": "#%%\n"
    }
   },
   "execution_count": null,
   "outputs": []
  },
  {
   "cell_type": "markdown",
   "source": [
    "Calling"
   ],
   "metadata": {
    "collapsed": false,
    "pycharm": {
     "name": "#%% md\n"
    }
   }
  },
  {
   "cell_type": "code",
   "execution_count": null,
   "outputs": [],
   "source": [
    "# Normal python function\n",
    "square(2)\n",
    "\n",
    "# Lambda function\n",
    "(lambda x: x*x)(2)\n",
    "\n",
    "# named Lambda function\n",
    "square_named_lambda(2)"
   ],
   "metadata": {
    "collapsed": false,
    "pycharm": {
     "name": "#%%\n"
    }
   }
  },
  {
   "cell_type": "markdown",
   "source": [
    "### Selected Functions which Takes Functions as an Input\n",
    "\n",
    "| Functions                                        | Description                                                                |\n",
    "|--------------------------------------------------|----------------------------------------------------------------------------|\n",
    "| filter(`<function>`, `<iterable>`)               | Uses `<function>` to test the truthiness of each value in `<iterable>` and returns a filtered iterable. `<function>` must return True or False |\n",
    "| map(`<function>`, `<iterable>`)                  | Uses `<function>` to transform the values in a `<iterable>` |\n",
    "| sorted(`<iterable>`, key=`<function>`, reverse=False)   |  return new iterable which is `<iterable>` sorted based on score calculated with `<function>` |\n",
    "| min(`<iterable>`, key=`<function>`)   |  return minimal record from `<iterable>` based on score calculated with `<function>` |\n",
    "| max(`<iterable>`, key=`<function>`)   |  return minimal record from `<iterable>` based on score calculated with `<function>` |\n"
   ],
   "metadata": {
    "collapsed": false
   }
  },
  {
   "cell_type": "code",
   "execution_count": null,
   "outputs": [],
   "source": [
    "grades = [\n",
    "    #First_Name,Last_Name,Degree,average\n",
    "    [\"John\",\"Washington\",\"graduate\",83.0],\n",
    "    [\"Robert\",\"Andrade\",\"graduate\",85.0],\n",
    "    [\"Paul\",\"Smith\",\"undergraduate\",79.5],\n",
    "    [\"Jason\",\"Delgado\",\"undergraduate\",71.5],\n",
    "]"
   ],
   "metadata": {
    "collapsed": false,
    "pycharm": {
     "name": "#%%\n"
    }
   }
  },
  {
   "cell_type": "code",
   "execution_count": null,
   "outputs": [],
   "source": [
    "list(filter(lambda x:x[2]==\"graduate\",grades))"
   ],
   "metadata": {
    "collapsed": false,
    "pycharm": {
     "name": "#%%\n"
    }
   }
  },
  {
   "cell_type": "code",
   "execution_count": null,
   "outputs": [],
   "source": [
    "sum(map(lambda x: x[3],grades))"
   ],
   "metadata": {
    "collapsed": false,
    "pycharm": {
     "name": "#%%\n"
    }
   }
  },
  {
   "cell_type": "code",
   "source": [
    "sorted(grades, key=lambda x: x[3])"
   ],
   "metadata": {
    "collapsed": false,
    "pycharm": {
     "name": "#%%\n"
    }
   },
   "execution_count": null,
   "outputs": []
  },
  {
   "cell_type": "code",
   "execution_count": null,
   "outputs": [],
   "source": [
    "min(grades, key=lambda x: x[3])"
   ],
   "metadata": {
    "collapsed": false,
    "pycharm": {
     "name": "#%%\n"
    }
   }
  },
  {
   "cell_type": "code",
   "execution_count": null,
   "outputs": [],
   "source": [
    "max(grades, key=lambda x: x[3])"
   ],
   "metadata": {
    "collapsed": false,
    "pycharm": {
     "name": "#%%\n"
    }
   }
  },
  {
   "cell_type": "markdown",
   "source": [
    "# Week 6: Python Errors, Exception Handling\n"
   ],
   "metadata": {
    "collapsed": false,
    "pycharm": {
     "name": "#%% md\n"
    }
   }
  },
  {
   "cell_type": "markdown",
   "source": [
    "## Python Exceptions (Errors)\n",
    "\n",
    "[https://docs.python.org/3/library/exceptions.html](https://docs.python.org/3/library/exceptions.html)\n",
    "[https://docs.python.org/3/tutorial/errors.html](https://docs.python.org/3/tutorial/errors.html)\n",
    "\n",
    "\n",
    "`SyntaxError` -- invalid python syntax"
   ],
   "metadata": {
    "collapsed": false,
    "pycharm": {
     "name": "#%% md\n"
    }
   }
  },
  {
   "cell_type": "code",
   "execution_count": null,
   "outputs": [],
   "source": [
    "def func(()):\n",
    "   pass"
   ],
   "metadata": {
    "collapsed": false,
    "pycharm": {
     "name": "#%%\n"
    }
   }
  },
  {
   "cell_type": "code",
   "execution_count": null,
   "outputs": [],
   "source": [
    "for index in some_list\n",
    "    print(index)"
   ],
   "metadata": {
    "collapsed": false,
    "pycharm": {
     "name": "#%%\n"
    }
   }
  },
  {
   "cell_type": "markdown",
   "source": [
    "`NameError` -- using a variable before it has been defined"
   ],
   "metadata": {
    "collapsed": false,
    "pycharm": {
     "name": "#%% md\n"
    }
   }
  },
  {
   "cell_type": "code",
   "execution_count": null,
   "outputs": [],
   "source": [
    "def func():\n",
    "   print(variable)\n",
    "func()"
   ],
   "metadata": {
    "collapsed": false,
    "pycharm": {
     "name": "#%%\n"
    }
   }
  },
  {
   "cell_type": "markdown",
   "source": [
    "`TypeError` -- mismatch data type"
   ],
   "metadata": {
    "collapsed": false
   }
  },
  {
   "cell_type": "code",
   "execution_count": null,
   "outputs": [],
   "source": [
    "'3' + 3"
   ],
   "metadata": {
    "collapsed": false,
    "pycharm": {
     "name": "#%%\n"
    }
   }
  },
  {
   "cell_type": "markdown",
   "source": [
    "`ValueError` calling a built-in function with invalid value type"
   ],
   "metadata": {
    "collapsed": false
   }
  },
  {
   "cell_type": "code",
   "execution_count": null,
   "outputs": [],
   "source": [
    "int('3')\n",
    "int('3a')"
   ],
   "metadata": {
    "collapsed": false,
    "pycharm": {
     "name": "#%%\n"
    }
   }
  },
  {
   "cell_type": "markdown",
   "source": [
    "`IndexError` -- access item outside of item range"
   ],
   "metadata": {
    "collapsed": false
   }
  },
  {
   "cell_type": "code",
   "execution_count": null,
   "outputs": [],
   "source": [
    "my_list = [1, 2, 3]\n",
    "my_list[4]"
   ],
   "metadata": {
    "collapsed": false,
    "pycharm": {
     "name": "#%%\n"
    }
   }
  },
  {
   "cell_type": "markdown",
   "source": [
    "`KeyError` -- like by index error for lists"
   ],
   "metadata": {
    "collapsed": false
   }
  },
  {
   "cell_type": "code",
   "execution_count": null,
   "outputs": [],
   "source": [
    "student = {'username': 'john', 'grade': 50}\n",
    "\n",
    "student['class']"
   ],
   "metadata": {
    "collapsed": false,
    "pycharm": {
     "name": "#%%\n"
    }
   }
  },
  {
   "cell_type": "markdown",
   "source": [
    "`AttributeError` -- missing attribute -- variables or methods"
   ],
   "metadata": {
    "collapsed": false
   }
  },
  {
   "cell_type": "code",
   "execution_count": 8,
   "outputs": [
    {
     "name": "stdout",
     "output_type": "stream",
     "text": [
      "2\n"
     ]
    },
    {
     "ename": "AttributeError",
     "evalue": "type object 'TestClass' has no attribute 'class_variable2'",
     "output_type": "error",
     "traceback": [
      "\u001B[0;31m---------------------------------------------------------------------------\u001B[0m",
      "\u001B[0;31mAttributeError\u001B[0m                            Traceback (most recent call last)",
      "\u001B[0;32m/tmp/ipykernel_1725171/76602841.py\u001B[0m in \u001B[0;36m<module>\u001B[0;34m\u001B[0m\n\u001B[1;32m      4\u001B[0m \u001B[0;34m\u001B[0m\u001B[0m\n\u001B[1;32m      5\u001B[0m \u001B[0mprint\u001B[0m\u001B[0;34m(\u001B[0m\u001B[0mTestClass\u001B[0m\u001B[0;34m.\u001B[0m\u001B[0mclass_variable1\u001B[0m\u001B[0;34m)\u001B[0m\u001B[0;34m\u001B[0m\u001B[0;34m\u001B[0m\u001B[0m\n\u001B[0;32m----> 6\u001B[0;31m \u001B[0mprint\u001B[0m\u001B[0;34m(\u001B[0m\u001B[0mTestClass\u001B[0m\u001B[0;34m.\u001B[0m\u001B[0mclass_variable2\u001B[0m\u001B[0;34m)\u001B[0m\u001B[0;34m\u001B[0m\u001B[0;34m\u001B[0m\u001B[0m\n\u001B[0m",
      "\u001B[0;31mAttributeError\u001B[0m: type object 'TestClass' has no attribute 'class_variable2'"
     ]
    }
   ],
   "source": [
    "class TestClass:\n",
    "    class_variable1 = 2\n",
    "\n",
    "print(TestClass.class_variable1)\n",
    "print(TestClass.class_variable2)"
   ],
   "metadata": {
    "collapsed": false,
    "pycharm": {
     "name": "#%%\n"
    }
   }
  },
  {
   "cell_type": "code",
   "execution_count": 9,
   "outputs": [
    {
     "ename": "AttributeError",
     "evalue": "'list' object has no attribute 'upper'",
     "output_type": "error",
     "traceback": [
      "\u001B[0;31m---------------------------------------------------------------------------\u001B[0m",
      "\u001B[0;31mAttributeError\u001B[0m                            Traceback (most recent call last)",
      "\u001B[0;32m/tmp/ipykernel_1725171/2239869203.py\u001B[0m in \u001B[0;36m<module>\u001B[0;34m\u001B[0m\n\u001B[1;32m      3\u001B[0m \u001B[0;34m\u001B[0m\u001B[0m\n\u001B[1;32m      4\u001B[0m \u001B[0mx\u001B[0m \u001B[0;34m=\u001B[0m \u001B[0;34m[\u001B[0m\u001B[0;36m1\u001B[0m\u001B[0;34m,\u001B[0m\u001B[0;36m2\u001B[0m\u001B[0;34m,\u001B[0m\u001B[0;36m3\u001B[0m\u001B[0;34m]\u001B[0m\u001B[0;34m\u001B[0m\u001B[0;34m\u001B[0m\u001B[0m\n\u001B[0;32m----> 5\u001B[0;31m \u001B[0mx\u001B[0m\u001B[0;34m.\u001B[0m\u001B[0mupper\u001B[0m\u001B[0;34m(\u001B[0m\u001B[0;34m)\u001B[0m\u001B[0;34m\u001B[0m\u001B[0;34m\u001B[0m\u001B[0m\n\u001B[0m\u001B[1;32m      6\u001B[0m \u001B[0;34m\u001B[0m\u001B[0m\n",
      "\u001B[0;31mAttributeError\u001B[0m: 'list' object has no attribute 'upper'"
     ]
    }
   ],
   "source": [
    "string = 'test1234'\n",
    "string.upper()\n",
    "\n",
    "x = [1,2,3]\n",
    "x.upper()"
   ],
   "metadata": {
    "collapsed": false,
    "pycharm": {
     "name": "#%%\n"
    }
   }
  },
  {
   "cell_type": "markdown",
   "source": [
    "# Raising error\n",
    "\n",
    "With raise statement you can initiate an exception."
   ],
   "metadata": {
    "collapsed": false
   }
  },
  {
   "cell_type": "code",
   "execution_count": null,
   "outputs": [],
   "source": [
    "# Raising error with a message or without message\n",
    "raise ValueError('a message')"
   ],
   "metadata": {
    "collapsed": false,
    "pycharm": {
     "name": "#%%\n"
    }
   }
  },
  {
   "cell_type": "code",
   "execution_count": null,
   "outputs": [],
   "source": [
    "# Raising error without message\n",
    "raise ValueError"
   ],
   "metadata": {
    "collapsed": false,
    "pycharm": {
     "name": "#%%\n"
    }
   }
  },
  {
   "cell_type": "code",
   "execution_count": null,
   "outputs": [],
   "source": [
    "# good code check the input values for sense as user can input anything (validation)\n",
    "def calculate_bmi(height, weight):\n",
    "    if type(height) not in [float, int]:\n",
    "        raise TypeError('Height has to be float or an int')\n",
    "    if type(weight) not in [float, int]:\n",
    "        raise TypeError('Weight has to be float or an int')\n",
    "\n",
    "    if height <= 0:\n",
    "        raise ValueError('Height cannot be less than or equal to 0')\n",
    "    if weight <= 0:\n",
    "        raise ValueError('Weight cannot be less than or equal to 0')\n",
    "\n",
    "    return 703 * weight / height**2"
   ],
   "metadata": {
    "collapsed": false,
    "pycharm": {
     "name": "#%%\n"
    }
   }
  },
  {
   "cell_type": "code",
   "execution_count": null,
   "outputs": [],
   "source": [
    "calculate_bmi(\"5'11\\\"\", \"128 lbs.\")"
   ],
   "metadata": {
    "collapsed": false,
    "pycharm": {
     "name": "#%%\n"
    }
   }
  },
  {
   "cell_type": "markdown",
   "source": [
    "## Exception Handling\n",
    "\n",
    "In code exception can be caught and processed accordingly without terminating the programm execution.\n",
    "```python\n",
    "try:\n",
    "    statements              # Run this main action first\n",
    "except name1:\n",
    "    statements              # Run if exception name1 is raised during try block\n",
    "except (name2, name3):\n",
    "    statements              # Run if any of these exceptions occur\n",
    "except name4 as var:\n",
    "    statements              # Run if exception name4 is raised, assign instance raised to var\n",
    "except:\n",
    "    statements              # Run for all other exceptions raised\n",
    "else:\n",
    "    statements              # Run if no exception was raised during try block\n",
    "finally:\n",
    "    statements              # Always run\n",
    "```\n"
   ],
   "metadata": {
    "collapsed": false,
    "pycharm": {
     "name": "#%% md\n"
    }
   }
  },
  {
   "cell_type": "code",
   "execution_count": null,
   "outputs": [],
   "source": [
    "height = float(input('Please enter height: '))\n",
    "weight = float(input('Please enter weight: '))\n",
    "\n",
    "print(calculate_bmi(height, weight))"
   ],
   "metadata": {
    "collapsed": false,
    "pycharm": {
     "name": "#%%\n"
    }
   }
  },
  {
   "cell_type": "code",
   "execution_count": null,
   "outputs": [],
   "source": [
    "\n",
    "\n",
    "\n",
    "\n",
    "\n",
    "\n",
    "\n",
    "\n",
    "\n",
    "\n"
   ],
   "metadata": {
    "collapsed": false,
    "pycharm": {
     "name": "#%%\n"
    }
   }
  },
  {
   "cell_type": "code",
   "execution_count": null,
   "outputs": [],
   "source": [],
   "metadata": {
    "collapsed": false,
    "pycharm": {
     "name": "#%%\n"
    }
   }
  },
  {
   "cell_type": "code",
   "execution_count": null,
   "outputs": [],
   "source": [
    "while True:\n",
    "    try:\n",
    "        height = float(input('Please enter height: '))\n",
    "        weight = float(input('Please enter weight: '))\n",
    "    except Exception as error:\n",
    "        print(error)\n",
    "        print('Please enter a number')\n",
    "    else:\n",
    "        print('I run when there is no error')\n",
    "        break\n",
    "    finally:\n",
    "        print('I always run!')\n",
    "\n",
    "print(calculate_bmi(height, weight))"
   ],
   "metadata": {
    "collapsed": false,
    "pycharm": {
     "name": "#%%\n"
    }
   }
  },
  {
   "cell_type": "markdown",
   "source": [
    "Try and Except blocks -- a way to handle errors\n",
    "When you raise an error, your program exits. What\n",
    "you rather want to do is to catch that error and give\n",
    "user feedback."
   ],
   "metadata": {
    "collapsed": false,
    "pycharm": {
     "name": "#%% md\n"
    }
   }
  },
  {
   "cell_type": "code",
   "execution_count": null,
   "outputs": [],
   "source": [
    "student = {'username': 'john', 'grade': 50}\n",
    "\n",
    "def get_key(some_dict, key, default_value=None):\n",
    "    try:\n",
    "        return some_dict[key]\n",
    "    except KeyError:\n",
    "        return default_value\n",
    "\n",
    "\n",
    "print(get_key(student, 'username1', default_value='Error'))\n",
    "print(get_key(student, 'username1'))"
   ],
   "metadata": {
    "collapsed": false,
    "pycharm": {
     "name": "#%%\n"
    }
   }
  },
  {
   "cell_type": "code",
   "execution_count": null,
   "outputs": [],
   "source": [
    "# try, except, else, finally\n",
    "## Combining exceptions\n",
    "\n",
    "filename = 'abcd.txt'\n",
    "try:\n",
    "    file = open(filename)\n",
    "except OSError:\n",
    "    print('OS error')\n",
    "except FileNotFoundError:\n",
    "    print('File not found')"
   ],
   "metadata": {
    "collapsed": false,
    "pycharm": {
     "name": "#%%\n"
    }
   }
  },
  {
   "cell_type": "markdown",
   "source": [
    "## Exercises"
   ],
   "metadata": {
    "collapsed": false,
    "pycharm": {
     "name": "#%% md\n"
    }
   }
  },
  {
   "cell_type": "code",
   "execution_count": null,
   "outputs": [],
   "source": [
    "# Ex1\n",
    "# Write a function that asks the user to input a number in Celsius and converts to Fahrenheit\n",
    "# Use Try/Except block to detect non integer\n"
   ],
   "metadata": {
    "collapsed": false,
    "pycharm": {
     "name": "#%%\n"
    }
   }
  },
  {
   "cell_type": "code",
   "execution_count": null,
   "outputs": [],
   "source": [
    "# Ex2\n",
    "# Write a function that prompts users to input numbers to calculate their average. Use the word STOP\n",
    "# to stop input process.\n",
    "# Use try and except to discard non-number inputs.\n",
    "\n"
   ],
   "metadata": {
    "collapsed": false,
    "pycharm": {
     "name": "#%%\n"
    }
   }
  }
 ],
 "metadata": {
  "kernelspec": {
   "display_name": "Python 3",
   "language": "python",
   "name": "python3"
  },
  "language_info": {
   "codemirror_mode": {
    "name": "ipython",
    "version": 2
   },
   "file_extension": ".py",
   "mimetype": "text/x-python",
   "name": "python",
   "nbconvert_exporter": "python",
   "pygments_lexer": "ipython2",
   "version": "2.7.6"
  }
 },
 "nbformat": 4,
 "nbformat_minor": 0
}