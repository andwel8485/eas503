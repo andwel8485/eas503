{
 "cells": [
  {
   "cell_type": "markdown",
   "id": "edbf10f0",
   "metadata": {
    "pycharm": {
     "name": "#%% md\n"
    }
   },
   "source": [
    "# Week 7. Extra."
   ]
  },
  {
   "cell_type": "code",
   "execution_count": 14,
   "id": "31060fb5",
   "metadata": {
    "pycharm": {
     "is_executing": true,
     "name": "#%%\n"
    }
   },
   "outputs": [],
   "source": [
    "# if (year is not divisible by 4) then (it is a common year)\n",
    "# else if (year is not divisible by 100) then (it is a leap year)\n",
    "# else if (year is not divisible by 400) then (it is a common year)\n",
    "# else (it is a leap year)\n",
    "\n",
    "# Exercise 6\n",
    "def is_leap(year):\n",
    "    # Complete this function to check if year is a leap year\n",
    "    # Input: year\n",
    "    # Output: True or False (Boolean)\n",
    "\n",
    "    # YOUR CODE HERE\n",
    "    if (year%400==0 or year%100!=0) and year%4==0:\n",
    "        return True\n",
    "    else:\n",
    "        return False\n",
    "\n",
    "assert is_leap(1800) == False\n",
    "assert is_leap(1900) == False\n",
    "assert is_leap(1600) == True\n",
    "assert is_leap(2000) == True"
   ]
  },
  {
   "cell_type": "code",
   "execution_count": 3,
   "id": "4fa47eb0",
   "metadata": {
    "pycharm": {
     "name": "#%%\n"
    }
   },
   "outputs": [],
   "source": [
    "def is_leap_v0(year):\n",
    "    # if (year is not divisible by 4) then (it is a common year)\n",
    "    if year%4!=0:\n",
    "        return False\n",
    "    elif year%100!=0:\n",
    "        return True\n",
    "    elif year%400!=0:\n",
    "        return False\n",
    "    else:\n",
    "        return True\n",
    "    # else if (year is not divisible by 100) then (it is a leap year)\n",
    "    # else if (year is not divisible by 400) then (it is a common year)\n",
    "    # else (it is a leap year)\n",
    "\n",
    "for year in range(1,2500):\n",
    "    assert is_leap_v0(year)==is_leap(year)"
   ]
  },
  {
   "cell_type": "code",
   "execution_count": 8,
   "id": "f875a469",
   "metadata": {
    "pycharm": {
     "name": "#%%\n"
    }
   },
   "outputs": [],
   "source": [
    "# Exercise 7\n",
    "def is_date_valid(month, day, year):\n",
    "    # Complete this function to check if a data is valid, given month, day, and year.\n",
    "    # For example, 5/24/1962 is valid, but 9/31/2000 is not\n",
    "    # Inputs: month, day, year\n",
    "    # Output: True or False (Boolean)\n",
    "    # Hint: Use is_leap() year function from previous exercise\n",
    "\n",
    "    # YOUR CODE HERE\n",
    "    no_leap = {1:31,2:28,3:31,4:30,5:31,6:30,7:31,8:31,9:30,10:31,11:30,12:31}\n",
    "    #leap = {1:31,2:29,3:31,4:30,5:31,6:30,7:31,8:31,9:30,10:31,11:30,12:31}\n",
    "    leap = [0,31,29,31,30,31,30,31,31,30,31,30,31]\n",
    "\n",
    "    if is_leap(year):\n",
    "        if day <= leap[month]:\n",
    "            return True\n",
    "        else:\n",
    "            return False\n",
    "    elif day <= no_leap[month]:\n",
    "        return True\n",
    "    else:\n",
    "        return False\n",
    "# Text cell for Exercise 7\n",
    "assert is_date_valid(5, 24, 1962) == True\n",
    "assert is_date_valid(9, 31, 2000) == False\n",
    "\n",
    "# Text cell for Exercise 7 (hidden)\n",
    "### BEGIN HIDDEN TESTS\n",
    "assert is_date_valid(2, 29, 2000) == True\n",
    "assert is_date_valid(2, 29, 1800) == False\n",
    "### END HIDDEN TESTS\n"
   ]
  },
  {
   "cell_type": "code",
   "execution_count": 9,
   "id": "0a19cc21",
   "metadata": {
    "pycharm": {
     "name": "#%%\n"
    }
   },
   "outputs": [],
   "source": [
    "# Ex15:Is a License Plate Valid?\n",
    "# In a particular jurisdiction, older license plates consist of three uppercase\n",
    "# letters followed by three digits. When all of the license plates following\n",
    "# that pattern had been used, the format was changed to four digits followed by\n",
    "# three uppercase letters.\n",
    "\n",
    "# Complete this function whose only input is a license plate and its output\n",
    "# is: 1) Older/Valid 2) Newer/Valid 3) Invalid\n",
    "# input: plate (str)\n",
    "# output: 'Older/Valid' or 'Newer/Valid' or 'Invalid'\n",
    "\n",
    "def is_license_plate_valid(plate):\n",
    "    # YOUR CODE HERE\n",
    "    if len(plate)==6:\n",
    "        if 64 < ord(plate[0]) < 91:\n",
    "            if (ord(plate[1]) >64 and ord(plate[1])<91):\n",
    "                if (ord(plate[2]) >64 and ord(plate[2])<91):\n",
    "                    if (ord(plate[3]) >47 and ord(plate[3])<58):\n",
    "                        if (ord(plate[4]) >47 and ord(plate[4])<58):\n",
    "                            if (ord(plate[5]) >47 and ord(plate[5])<58):\n",
    "                                return 'Older/Valid'\n",
    "\n",
    "    if (len(plate)==7):\n",
    "        if (ord(plate[0]) >47 and ord(plate[0])<58):\n",
    "            if (ord(plate[1]) >47 and ord(plate[1])<58):\n",
    "                if (ord(plate[2]) >47 and ord(plate[2])<58):\n",
    "                    if (ord(plate[3]) >47 and ord(plate[3])<58):\n",
    "                        if (ord(plate[4]) >64 and ord(plate[4])<91):\n",
    "                            if (ord(plate[5]) >64 and ord(plate[5])<91):\n",
    "                                if (ord(plate[6]) >64 and ord(plate[6])<91):\n",
    "                                    return 'Newer/Valid'\n",
    "    return 'Invalid'\n",
    "assert is_license_plate_valid('ABC123') == 'Older/Valid'\n",
    "assert is_license_plate_valid('GHE952') == 'Older/Valid'\n",
    "assert is_license_plate_valid('1934ABT') == 'Newer/Valid'\n",
    "assert is_license_plate_valid('bTR342') == 'Invalid'"
   ]
  },
  {
   "cell_type": "code",
   "execution_count": 22,
   "id": "a9f1d1b6",
   "metadata": {},
   "outputs": [
    {
     "data": {
      "text/plain": [
       "0"
      ]
     },
     "execution_count": 22,
     "metadata": {},
     "output_type": "execute_result"
    }
   ],
   "source": [
    "0x10 & 0b01"
   ]
  },
  {
   "cell_type": "code",
   "execution_count": null,
   "id": "7c0740ff",
   "metadata": {},
   "outputs": [],
   "source": []
  },
  {
   "cell_type": "code",
   "execution_count": null,
   "id": "3234ae5c",
   "metadata": {},
   "outputs": [],
   "source": []
  },
  {
   "cell_type": "code",
   "execution_count": 23,
   "id": "6d0d1283",
   "metadata": {
    "pycharm": {
     "name": "#%%\n"
    }
   },
   "outputs": [],
   "source": [
    "def is_license_plate_valid(plate):\n",
    "    # YOUR CODE HERE\n",
    "    if (plate[0:3].isupper() and plate[3:6].isdigit()):\n",
    "        return \"Older/Valid\"\n",
    "    elif (plate[0:4].isdigit() and plate[4:7].isupper()):\n",
    "        return \"Newer/Valid\"\n",
    "    else:\n",
    "        return \"Invalid\"\n",
    "\n",
    "assert is_license_plate_valid('ABC123') == 'Older/Valid'\n",
    "assert is_license_plate_valid('GHE952') == 'Older/Valid'\n",
    "assert is_license_plate_valid('1934ABT') == 'Newer/Valid'\n",
    "assert is_license_plate_valid('bTR') == 'Invalid'\n"
   ]
  },
  {
   "cell_type": "markdown",
   "id": "43a00717",
   "metadata": {
    "pycharm": {
     "name": "#%% md\n"
    }
   },
   "source": [
    "**regular expression** are very powerfull method to find patterns in text.\n",
    "https://docs.python.org/3/library/re.html"
   ]
  },
  {
   "cell_type": "code",
   "execution_count": null,
   "id": "0c95e473",
   "metadata": {
    "pycharm": {
     "name": "#%%\n"
    }
   },
   "outputs": [],
   "source": [
    "def is_license_plate_valid(plate):\n",
    "    # using regular expression\n",
    "    import re\n",
    "    if re.match(r\"^[A-Z]{3}[0-9]{3}$\", plate):\n",
    "        return \"Older/Valid\"\n",
    "    elif re.match(r\"^[0-9]{4}[A-Z]{3}$\", plate):\n",
    "        return \"Newer/Valid\"\n",
    "    else:\n",
    "        return \"Invalid\"\n",
    "\n",
    "assert is_license_plate_valid('ABC123') == 'Older/Valid'\n",
    "assert is_license_plate_valid('GHE952') == 'Older/Valid'\n",
    "assert is_license_plate_valid('1934ABT') == 'Newer/Valid'\n",
    "assert is_license_plate_valid('bTR342') == 'Invalid'"
   ]
  },
  {
   "cell_type": "code",
   "execution_count": null,
   "id": "52313e9c",
   "metadata": {},
   "outputs": [],
   "source": []
  },
  {
   "cell_type": "code",
   "execution_count": 5,
   "id": "846e31a8",
   "metadata": {
    "pycharm": {
     "name": "#%%\n"
    }
   },
   "outputs": [
    {
     "data": {
      "text/plain": [
       "[1, 2, 4, 7, 14, 28]"
      ]
     },
     "execution_count": 5,
     "metadata": {},
     "output_type": "execute_result"
    }
   ],
   "source": [
    "# Ex19: List of proper divisors\n",
    "\n",
    "def proper_divisors(n):\n",
    "    # A proper divisor ofa  positive integer, n, is a positive integer less than n which divides\n",
    "    # evenly into n. Complete this function to compute all the proper divisors of a positive\n",
    "    # integer. The integer is passed to this function as the only parameter. The function will\n",
    "    # return a list of containing all of the proper divisors as its only reult. \n",
    "\n",
    "    # input: n (int)\n",
    "    # output: list\n",
    "\n",
    "    # YOUR CODE HERE\n",
    "    proper_div = []\n",
    "    i = 1\n",
    "    while i <= n:\n",
    "        if n % i ==0:\n",
    "            proper_div.append(i)\n",
    "        i += 1\n",
    "    return proper_div\n",
    "proper_divisors(28)"
   ]
  },
  {
   "cell_type": "code",
   "execution_count": 13,
   "id": "f4f573be",
   "metadata": {},
   "outputs": [
    {
     "data": {
      "text/plain": [
       "(50, 643, 4298)"
      ]
     },
     "execution_count": 13,
     "metadata": {},
     "output_type": "execute_result"
    }
   ],
   "source": [
    "#Exercise 5\n",
    "def wc(filename):\n",
    "    # Complete this function to count the number of lines, words, and chars in a file. \n",
    "    # Input: filename\n",
    "    # Output: a tuple with line count, word count, and char count -- in this order\n",
    "\n",
    "    # YOUR CODE HERE\n",
    "    line_count=0\n",
    "    word_count=0\n",
    "    char_count=0\n",
    "    \n",
    "    with open(filename, 'r') as file:\n",
    "        for line in file:\n",
    "            char_count += len(line)\n",
    "            line = line.strip(\"\\n\")\n",
    "            line_count += 1\n",
    "            word_count += len(line.strip().split())\n",
    "            #word_count += line.strip().split()\n",
    "            #for w in words:\n",
    "            #    if w=='':\n",
    "            #        words.remove(w)\n",
    "            #        word_count += len(words)\n",
    "    return (line_count, word_count, char_count)\n",
    "\n",
    "wc('ex5_data.txt')\n"
   ]
  },
  {
   "cell_type": "code",
   "execution_count": null,
   "id": "e8dbecdd",
   "metadata": {},
   "outputs": [],
   "source": [
    "# Text cell for Exercise 5 \n",
    "assert wc('ex5_data.txt') == (50, 643, 4298)"
   ]
  },
  {
   "cell_type": "code",
   "execution_count": null,
   "id": "d048d7aa",
   "metadata": {},
   "outputs": [],
   "source": []
  },
  {
   "cell_type": "markdown",
   "id": "344295bf",
   "metadata": {},
   "source": [
    "# Lambda Function - Single Line Function"
   ]
  },
  {
   "cell_type": "code",
   "execution_count": 41,
   "id": "9f0588eb",
   "metadata": {},
   "outputs": [],
   "source": [
    "# do_something_and_return - expression with arg1, arg2, kwarg1, for example following function\n",
    "def do_something_and_return(arg1, arg2, kwarg1=None):\n",
    "    return arg1 + arg2 + kwarg1"
   ]
  },
  {
   "cell_type": "markdown",
   "id": "acd8831e",
   "metadata": {},
   "source": [
    "## Defining"
   ]
  },
  {
   "cell_type": "code",
   "execution_count": 42,
   "id": "be166dc9",
   "metadata": {},
   "outputs": [],
   "source": [
    "# regular function\n",
    "def normal_function(arg1, arg2, kwarg1=None):\n",
    "    return do_something_and_return(arg1, arg2, kwarg1)\n",
    "\n",
    "# anonymous lambda function, think about it as a value\n",
    "lambda arg1, arg2, kwarg1=None: do_something_and_return(arg1, arg2, kwarg1)\n",
    "\n",
    "# named lambda function\n",
    "lambda_function = lambda arg1, arg2, kwarg1=None: do_something_and_return(arg1, arg2, kwarg1)"
   ]
  },
  {
   "cell_type": "markdown",
   "id": "a0a720c2",
   "metadata": {},
   "source": [
    "## Calling"
   ]
  },
  {
   "cell_type": "code",
   "execution_count": 44,
   "id": "b664d980",
   "metadata": {},
   "outputs": [
    {
     "data": {
      "text/plain": [
       "'APPLE'"
      ]
     },
     "execution_count": 44,
     "metadata": {},
     "output_type": "execute_result"
    }
   ],
   "source": [
    "\"apple\".upper()\n",
    "fruit=\"apple\"\n",
    "fruit.upper()"
   ]
  },
  {
   "cell_type": "code",
   "execution_count": 7,
   "id": "6405f1f0",
   "metadata": {},
   "outputs": [],
   "source": [
    "# regular function\n",
    "normal_function(1, 2, kwarg1=3)\n",
    "\n",
    "# anonymous lambda function, think about it as a value\n",
    "(lambda arg1, arg2, kwarg1=None: do_something_and_return(arg1, arg2, kwarg1))(1, 2, kwarg1=3)\n",
    "\n",
    "# named lambda function\n",
    "lambda_function(1, 2, kwarg1=3)"
   ]
  },
  {
   "cell_type": "markdown",
   "id": "55cb2f76",
   "metadata": {},
   "source": [
    "## Passing\n",
    "Just like any other variables if named or by its value (that is definition)"
   ]
  },
  {
   "cell_type": "code",
   "execution_count": 49,
   "id": "27e7b997",
   "metadata": {},
   "outputs": [
    {
     "name": "stdout",
     "output_type": "stream",
     "text": [
      "calling normal_avg on [11, 22] score is 16.5\n",
      "calling normal_avg on [1, 2, 3, 4, 5] score is 3.0\n",
      "calling normal_avg on [4, 5, 6] score is 5.0\n",
      "calling normal_avg on [1, 2] score is 1.5\n",
      "calling normal_avg on [9, 10, 11, 12] score is 10.5\n"
     ]
    },
    {
     "data": {
      "text/plain": [
       "[1, 2]"
      ]
     },
     "execution_count": 49,
     "metadata": {},
     "output_type": "execute_result"
    }
   ],
   "source": [
    "# find smallest item (as measured by its average)\n",
    "list_of_list = [\n",
    "    [11,22],\n",
    "    [1,2,3,4,5],\n",
    "    [4,5,6],\n",
    "    [1,2],\n",
    "    [9,10,11,12]\n",
    "]\n",
    "# regular function\n",
    "def normal_avg(x):\n",
    "    \n",
    "    print(f\"calling normal_avg on {x} score is {sum(x)/len(x)}\")\n",
    "    return sum(x)/len(x)\n",
    "\n",
    "min(list_of_list,key=normal_avg)"
   ]
  },
  {
   "cell_type": "code",
   "execution_count": 50,
   "id": "6c709b74",
   "metadata": {},
   "outputs": [
    {
     "name": "stdout",
     "output_type": "stream",
     "text": [
      "[1, 2]\n",
      "[1, 2]\n",
      "[1, 2]\n"
     ]
    }
   ],
   "source": [
    "# find smallest item (as measured by its average)\n",
    "list_of_list = [\n",
    "    [11,22],\n",
    "    [1,2,3,4,5],\n",
    "    [4,5,6],\n",
    "    [1,2],\n",
    "    [9,10,11,12]\n",
    "]\n",
    "\n",
    "# regular function\n",
    "def normal_avg(x):\n",
    "    return sum(x)/len(x)\n",
    "\n",
    "# anonymous lambda function, think about it as a value\n",
    "lambda x: sum(x)/len(x)\n",
    "\n",
    "# named lambda function\n",
    "lambda_avg = lambda x: sum(x)/len(x)\n",
    "\n",
    "\n",
    "# regular function\n",
    "print(\n",
    "    min(list_of_list, key=normal_avg)\n",
    ")\n",
    "\n",
    "# anonymous lambda function, think about it as a value\n",
    "print(\n",
    "    min(list_of_list, key=lambda x: sum(x)/len(x))\n",
    ")\n",
    "\n",
    "# named lambda function\n",
    "print(\n",
    "    min(list_of_list, key=lambda_avg)\n",
    ")"
   ]
  },
  {
   "cell_type": "code",
   "execution_count": null,
   "id": "18155740",
   "metadata": {},
   "outputs": [],
   "source": []
  },
  {
   "cell_type": "markdown",
   "id": "bfbac111",
   "metadata": {},
   "source": [
    "# List/Tuple/Dict Comprehension\n",
    "\n",
    "Generalized expression:\n",
    "```\n",
    "new_array = < new_record   for_statement   if_statement >\n",
    "```\n",
    "\n",
    "* `<>` - \"array\"-type identification\n",
    "  * `[]` - list\n",
    "  * `()` - tuple\n",
    "  * `{}` - dict\n",
    "* `new_record` - elements in new \"array\", can be a value or function of value\n",
    "  * `value` - list or tuple\n",
    "  * `key:value` - dict \n",
    "* `for_statement` - looping over some iteratable (for examle list, tuple, range or items in dict)\n",
    "* `if_statement` - filter items from `for_statement` \n",
    "\n",
    "\n",
    "Inline if else statement:\n",
    "```python\n",
    "variable_out = value_if__if_is_true if boolean_statement else value_if__if_is_false\n",
    "```"
   ]
  },
  {
   "cell_type": "markdown",
   "id": "4362b6b8",
   "metadata": {},
   "source": [
    "# List Comprehension"
   ]
  },
  {
   "cell_type": "code",
   "execution_count": 20,
   "id": "f3eeb783",
   "metadata": {},
   "outputs": [],
   "source": [
    "# <iteratable> is some iteratable, for example tuple:\n",
    "iteratable = (\"one\", \"two\", \"three\", \"four\", \"five\")\n",
    "\n",
    "# do_something is a some function to \n",
    "def do_something(x):\n",
    "    print(f\"calling do_something on {x}\")\n",
    "    return len(x)"
   ]
  },
  {
   "cell_type": "markdown",
   "id": "57893ca6",
   "metadata": {},
   "source": [
    "as an example lets get list of item lenghts for items containing letter 'o'"
   ]
  },
  {
   "cell_type": "code",
   "execution_count": 15,
   "id": "d8d643e1",
   "metadata": {},
   "outputs": [
    {
     "data": {
      "text/plain": [
       "[3, 3, 4]"
      ]
     },
     "execution_count": 15,
     "metadata": {},
     "output_type": "execute_result"
    }
   ],
   "source": [
    "# regular `for` expression\n",
    "list_out_full = []\n",
    "for item in iteratable:\n",
    "    #print(f\"item:{item}\")\n",
    "    if item.count(\"o\") > 0:\n",
    "        #print(\"It has o in it!\")\n",
    "        #n = do_something(item)\n",
    "        #print(f\"And it has {n} symbols!\")\n",
    "        list_out_full.append(do_something(item))\n",
    "    #print()\n",
    "list_out_full"
   ]
  },
  {
   "cell_type": "code",
   "execution_count": 23,
   "id": "ce6d6cb9",
   "metadata": {},
   "outputs": [
    {
     "name": "stdout",
     "output_type": "stream",
     "text": [
      "calling do_something on one\n",
      "calling do_something on two\n",
      "calling do_something on four\n"
     ]
    },
    {
     "data": {
      "text/plain": [
       "[3, 3, 4]"
      ]
     },
     "execution_count": 23,
     "metadata": {},
     "output_type": "execute_result"
    }
   ],
   "source": [
    "#list_out_short2 = [new_item looping conditions]\n",
    "list_out_short2 = [do_something(item) for item in iteratable if item.count(\"o\") > 0]\n",
    "list_out_short2"
   ]
  },
  {
   "cell_type": "code",
   "execution_count": 14,
   "id": "a94a565a",
   "metadata": {},
   "outputs": [
    {
     "data": {
      "text/plain": [
       "[3, 3, 4]"
      ]
     },
     "execution_count": 14,
     "metadata": {},
     "output_type": "execute_result"
    }
   ],
   "source": [
    "# using list comprehension\n",
    "list_out_short = [do_something(item) for item in iteratable if item.count(\"o\") > 0]\n",
    "list_out_short"
   ]
  },
  {
   "cell_type": "markdown",
   "id": "862db8f9",
   "metadata": {},
   "source": [
    "# Tuple Comprehension\n",
    "Almost same as list comprehention but:\n",
    "* **use ()** instead of []\n",
    "* it creates a **generator object**, add extra tuple call to make it tuple"
   ]
  },
  {
   "cell_type": "code",
   "execution_count": 35,
   "id": "1343f797",
   "metadata": {},
   "outputs": [
    {
     "data": {
      "text/plain": [
       "<generator object <genexpr> at 0x7f5c481f7e40>"
      ]
     },
     "execution_count": 35,
     "metadata": {},
     "output_type": "execute_result"
    }
   ],
   "source": [
    "# using list comprehension\n",
    "list_out_short = (do_something(item) for item in iteratable if item.count(\"o\") > 0)\n",
    "list_out_short"
   ]
  },
  {
   "cell_type": "code",
   "execution_count": 36,
   "id": "518bf10e",
   "metadata": {},
   "outputs": [
    {
     "name": "stdout",
     "output_type": "stream",
     "text": [
      "calling do_something on one\n",
      "calling do_something on two\n",
      "calling do_something on four\n"
     ]
    },
    {
     "data": {
      "text/plain": [
       "[3, 3, 4]"
      ]
     },
     "execution_count": 36,
     "metadata": {},
     "output_type": "execute_result"
    }
   ],
   "source": [
    "[v for v in list_out_short if v >= 0]"
   ]
  },
  {
   "cell_type": "code",
   "execution_count": 38,
   "id": "b2e39b6c",
   "metadata": {},
   "outputs": [
    {
     "name": "stdout",
     "output_type": "stream",
     "text": [
      "calling do_something on one\n",
      "calling do_something on two\n",
      "calling do_something on four\n"
     ]
    },
    {
     "data": {
      "text/plain": [
       "(3, 3, 4)"
      ]
     },
     "execution_count": 38,
     "metadata": {},
     "output_type": "execute_result"
    }
   ],
   "source": [
    "list_out_short = tuple((do_something(item) for item in iteratable if item.count(\"o\") > 0))\n",
    "list_out_short"
   ]
  },
  {
   "cell_type": "markdown",
   "id": "0f137f5b",
   "metadata": {},
   "source": [
    "# Dict Comprehension\n",
    "Very similar to list comprehention but:\n",
    "* **use {}** instead of []\n",
    "* **use key:value** insted of just value"
   ]
  },
  {
   "cell_type": "code",
   "execution_count": 40,
   "id": "b2d47d97",
   "metadata": {},
   "outputs": [
    {
     "name": "stdout",
     "output_type": "stream",
     "text": [
      "calling do_something on one\n",
      "calling do_something on two\n",
      "calling do_something on four\n"
     ]
    },
    {
     "data": {
      "text/plain": [
       "{3: 3, 4: 4}"
      ]
     },
     "execution_count": 40,
     "metadata": {},
     "output_type": "execute_result"
    }
   ],
   "source": [
    "# using list comprehension\n",
    "dict_out_short = {len(item):do_something(item) for item in iteratable if item.count(\"o\") > 0}\n",
    "dict_out_short"
   ]
  },
  {
   "cell_type": "code",
   "execution_count": null,
   "id": "66d6ddb0",
   "metadata": {},
   "outputs": [],
   "source": []
  },
  {
   "cell_type": "code",
   "execution_count": null,
   "id": "98a0d19e",
   "metadata": {},
   "outputs": [],
   "source": []
  }
 ],
 "metadata": {
  "kernelspec": {
   "display_name": "Python 3 (ipykernel)",
   "language": "python",
   "name": "python3"
  },
  "language_info": {
   "codemirror_mode": {
    "name": "ipython",
    "version": 3
   },
   "file_extension": ".py",
   "mimetype": "text/x-python",
   "name": "python",
   "nbconvert_exporter": "python",
   "pygments_lexer": "ipython3",
   "version": "3.8.10"
  }
 },
 "nbformat": 4,
 "nbformat_minor": 5
}
