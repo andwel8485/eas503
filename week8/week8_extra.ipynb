{
 "cells": [
  {
   "cell_type": "markdown",
   "source": [
    "# Week 8. Extra.\n",
    "## Map vs List Comprehension"
   ],
   "metadata": {
    "collapsed": false
   }
  },
  {
   "cell_type": "code",
   "execution_count": 6,
   "outputs": [
    {
     "name": "stdout",
     "output_type": "stream",
     "text": [
      "[121, 132, 143, 154, 165, 176, 187, 198, 199]\n",
      "[121, 132, 143, 154, 165, 176, 187, 198, 199]\n"
     ]
    }
   ],
   "source": [
    "original_list = [\"121\", \"132\", \"143\", \"154\", \"165\", \"176\",\"187\",\"198\",\"199\"]\n",
    "\n",
    "int_list_1 = [int(x) for x in original_list]\n",
    "print(int_list_1)\n",
    "\n",
    "int_list_2 = list(map(int, original_list))\n",
    "print(int_list_2)"
   ],
   "metadata": {
    "collapsed": false,
    "pycharm": {
     "name": "#%%\n"
    }
   }
  },
  {
   "cell_type": "code",
   "execution_count": 7,
   "outputs": [
    {
     "name": "stdout",
     "output_type": "stream",
     "text": [
      "0.8472570349986199\n",
      "0.6465927649987862\n"
     ]
    }
   ],
   "source": [
    "# which one is better\n",
    "import timeit\n",
    "print(timeit.timeit(\n",
    "    lambda : [int(x) for x in original_list],\n",
    "    number=1000000))\n",
    "print(timeit.timeit(\n",
    "    lambda : list(map(int, original_list)),\n",
    "    number=1000000))\n",
    "# 0.7686936149984831\n",
    "# 0.6013031700058491"
   ],
   "metadata": {
    "collapsed": false,
    "pycharm": {
     "name": "#%%\n"
    }
   }
  },
  {
   "cell_type": "markdown",
   "source": [
    "## Dict Constructor vs Dict Comprehension for Two Lists"
   ],
   "metadata": {
    "collapsed": false
   }
  },
  {
   "cell_type": "code",
   "execution_count": 13,
   "outputs": [
    {
     "name": "stdout",
     "output_type": "stream",
     "text": [
      "{'key121': '121', 'key132': '132', 'key143': '143', 'key154': '154', 'key165': '165', 'key176': '176', 'key187': '187', 'key198': '198', 'key199': '199'}\n",
      "{'key121': '121', 'key132': '132', 'key143': '143', 'key154': '154', 'key165': '165', 'key176': '176', 'key187': '187', 'key198': '198', 'key199': '199'}\n",
      "{'key121': 121, 'key132': 132, 'key143': 143, 'key154': 154, 'key165': 165, 'key176': 176, 'key187': 187, 'key198': 198, 'key199': 199}\n",
      "{'key121': 121, 'key132': 132, 'key143': 143, 'key154': 154, 'key165': 165, 'key176': 176, 'key187': 187, 'key198': 198, 'key199': 199}\n",
      "{'key121': 121, 'key132': 132, 'key143': 143, 'key154': 154, 'key165': 165, 'key176': 176, 'key187': 187, 'key198': 198, 'key199': 199}\n",
      "{'key121': 121, 'key132': 132, 'key143': 143, 'key154': 154, 'key165': 165, 'key176': 176, 'key187': 187, 'key198': 198, 'key199': 199}\n"
     ]
    }
   ],
   "source": [
    "original_key = [\"key121\", \"key132\", \"key143\", \"key154\", \"key165\", \"key176\",\"key187\",\"key198\",\"key199\"]\n",
    "original_list = [\"121\", \"132\", \"143\", \"154\", \"165\", \"176\",\"187\",\"198\",\"199\"]\n",
    "\n",
    "dict_1 = {k:v for k,v in zip(original_key,original_list)}\n",
    "print(dict_1)\n",
    "\n",
    "dict_2 = dict(zip(original_key,original_list))\n",
    "print(dict_1)\n",
    "\n",
    "# add int conversion\n",
    "dict_3 = {k:int(v) for k,v in zip(original_key,original_list)}\n",
    "print(dict_3)\n",
    "\n",
    "dict_4 = {k:int(v) for k,v in zip(original_key,map(int, original_list))}\n",
    "print(dict_4)\n",
    "\n",
    "dict_5 = dict(zip(original_key,map(int, original_list)))\n",
    "print(dict_5)\n",
    "\n",
    "dict_5 = {k:int(v) for k,v in zip(original_key,map(int, original_list))}\n",
    "print(dict_5)"
   ],
   "metadata": {
    "collapsed": false,
    "pycharm": {
     "name": "#%%\n"
    }
   }
  },
  {
   "cell_type": "code",
   "execution_count": 14,
   "outputs": [
    {
     "name": "stdout",
     "output_type": "stream",
     "text": [
      "0.5926578700018581\n",
      "0.4139544939971529\n",
      "1.3765528660005657\n",
      "0.9856853849996696\n",
      "1.2884349189989734\n"
     ]
    }
   ],
   "source": [
    "# which one is better\n",
    "import timeit\n",
    "print(timeit.timeit(\n",
    "    lambda : {k:v for k,v in zip(original_key,original_list)},\n",
    "    number=1000000))\n",
    "print(timeit.timeit(\n",
    "    lambda : dict(zip(original_key,original_list)),\n",
    "    number=1000000))\n",
    "print(timeit.timeit(\n",
    "    lambda : {k:int(v) for k,v in zip(original_key,map(int, original_list))},\n",
    "    number=1000000))\n",
    "print(timeit.timeit(\n",
    "    lambda : dict(zip(original_key,map(int, original_list))),\n",
    "    number=1000000))\n",
    "\n",
    "print(timeit.timeit(\n",
    "    lambda : {original_key[i]:int(original_list[i]) for i in range(len(original_key))},\n",
    "    number=1000000))\n",
    "\n",
    "# 0.5926578700018581\n",
    "# 0.4139544939971529\n",
    "# 1.3765528660005657\n",
    "# 0.9856853849996696\n",
    "# 1.2884349189989734"
   ],
   "metadata": {
    "collapsed": false,
    "pycharm": {
     "name": "#%%\n"
    }
   }
  },
  {
   "cell_type": "markdown",
   "source": [
    "Speed is important but not everywhere."
   ],
   "metadata": {
    "collapsed": false,
    "pycharm": {
     "name": "#%% md\n"
    }
   }
  },
  {
   "cell_type": "markdown",
   "source": [
    "## Nested Dictionaries\n",
    "\n",
    "Dictionaries can contain any object for values including other dictionaries or lists"
   ],
   "metadata": {
    "collapsed": false,
    "pycharm": {
     "name": "#%% md\n"
    }
   }
  },
  {
   "cell_type": "code",
   "execution_count": 30,
   "outputs": [
    {
     "data": {
      "text/plain": "{'first_name': 'Alice',\n 'last_name': 'Smith',\n 'courses': {'Linear Algebra': {'credits': 3,\n   'semester': 'Fall 2020',\n   'homework_grades': [87, 85, 91, 95, 96],\n   'final_grade': 'A'},\n  'General Physics Algebra': {'credits': 3,\n   'semester': 'Fall 2019',\n   'homework_grades': [88, 95, 76, 91, 90],\n   'final_grade': 'A'}}}"
     },
     "execution_count": 30,
     "metadata": {},
     "output_type": "execute_result"
    }
   ],
   "source": [
    "student_record = {\n",
    "    'first_name': 'Alice',\n",
    "    'last_name': 'Smith',\n",
    "    'courses': {\n",
    "        'Linear Algebra': {\n",
    "            'credits': 3,\n",
    "            'semester': 'Fall 2020',\n",
    "            'homework_grades': [87, 85, 91, 95, 96],\n",
    "            'final_grade': 'A'\n",
    "        },\n",
    "        'General Physics Algebra': {\n",
    "            'credits': 3,\n",
    "            'semester': 'Fall 2019',\n",
    "            'homework_grades': [88, 95, 76, 91, 90],\n",
    "            'final_grade': 'A'\n",
    "        },\n",
    "    }\n",
    "}\n",
    "\n",
    "student_record"
   ],
   "metadata": {
    "collapsed": false,
    "pycharm": {
     "name": "#%%\n"
    }
   }
  },
  {
   "cell_type": "code",
   "execution_count": null,
   "outputs": [],
   "source": [
    "# accessing\n",
    "student_record['first_name']"
   ],
   "metadata": {
    "collapsed": false,
    "pycharm": {
     "name": "#%%\n"
    }
   }
  },
  {
   "cell_type": "code",
   "execution_count": 19,
   "outputs": [
    {
     "data": {
      "text/plain": "{'credits': 3,\n 'semester': 'Fall 2020',\n 'homework_grades': [87, 85, 91, 95, 96],\n 'final grade': 'A'}"
     },
     "execution_count": 19,
     "metadata": {},
     "output_type": "execute_result"
    }
   ],
   "source": [
    "student_record['courses']"
   ],
   "metadata": {
    "collapsed": false,
    "pycharm": {
     "name": "#%%\n"
    }
   }
  },
  {
   "cell_type": "code",
   "execution_count": null,
   "outputs": [],
   "source": [
    "student_record['courses']['Linear Algebra']"
   ],
   "metadata": {
    "collapsed": false,
    "pycharm": {
     "name": "#%%\n"
    }
   }
  },
  {
   "cell_type": "code",
   "execution_count": 20,
   "outputs": [
    {
     "data": {
      "text/plain": "[87, 85, 91, 95, 96]"
     },
     "execution_count": 20,
     "metadata": {},
     "output_type": "execute_result"
    }
   ],
   "source": [
    "student_record['courses']['Linear Algebra']['homework_grades']"
   ],
   "metadata": {
    "collapsed": false,
    "pycharm": {
     "name": "#%%\n"
    }
   }
  },
  {
   "cell_type": "code",
   "execution_count": null,
   "outputs": [],
   "source": [
    "student_record['courses']['Linear Algebra']['homework_grades'][0]"
   ],
   "metadata": {
    "collapsed": false,
    "pycharm": {
     "name": "#%%\n"
    }
   }
  },
  {
   "cell_type": "markdown",
   "source": [
    "dictionaries are mutable we can change them\n",
    "\n",
    "lets add homework grade"
   ],
   "metadata": {
    "collapsed": false,
    "pycharm": {
     "name": "#%% md\n"
    }
   }
  },
  {
   "cell_type": "code",
   "source": [
    "student_record['courses']['Linear Algebra']['homework_grades'].append(100)\n",
    "student_record"
   ],
   "metadata": {
    "collapsed": false,
    "pycharm": {
     "name": "#%%\n"
    }
   },
   "execution_count": 21,
   "outputs": [
    {
     "data": {
      "text/plain": "{'first_name': 'Alice',\n 'last_name': 'Smith',\n 'courses': {'Linear Algebra': {'credits': 3,\n   'semester': 'Fall 2020',\n   'homework_grades': [87, 85, 91, 95, 96, 100],\n   'final grade': 'A'},\n  'General Physics Algebra': {'credits': 3,\n   'semester': 'Fall 2019',\n   'homework_grades': [88, 95, 76, 91, 90],\n   'final grade': 'A'}}}"
     },
     "execution_count": 21,
     "metadata": {},
     "output_type": "execute_result"
    }
   ]
  },
  {
   "cell_type": "markdown",
   "source": [
    "Let's add another class:"
   ],
   "metadata": {
    "collapsed": false
   }
  },
  {
   "cell_type": "code",
   "execution_count": 31,
   "outputs": [
    {
     "data": {
      "text/plain": "{'first_name': 'Alice',\n 'last_name': 'Smith',\n 'courses': {'Linear Algebra': {'credits': 3,\n   'semester': 'Fall 2020',\n   'homework_grades': [87, 85, 91, 95, 96],\n   'final_grade': 'A'},\n  'General Physics Algebra': {'credits': 3,\n   'semester': 'Fall 2019',\n   'homework_grades': [88, 95, 76, 91, 90],\n   'final_grade': 'A'},\n  'Quantum Chemistry': {'credits': 3,\n   'semester': 'Fall 2020',\n   'homework_grades': [98, 93, 78, 99, 93],\n   'final_grade': 'A'}}}"
     },
     "execution_count": 31,
     "metadata": {},
     "output_type": "execute_result"
    }
   ],
   "source": [
    "student_record['courses']['Quantum Chemistry'] = {\n",
    "    'credits': 3,\n",
    "    'semester': 'Fall 2020',\n",
    "    'homework_grades': [98, 93, 78, 99, 93],\n",
    "    'final_grade': 'A'\n",
    "}\n",
    "student_record"
   ],
   "metadata": {
    "collapsed": false,
    "pycharm": {
     "name": "#%%\n"
    }
   }
  },
  {
   "cell_type": "markdown",
   "source": [
    "add new key:value to top dict"
   ],
   "metadata": {
    "collapsed": false,
    "pycharm": {
     "name": "#%% md\n"
    }
   }
  },
  {
   "cell_type": "code",
   "execution_count": null,
   "outputs": [],
   "source": [
    "student_record['class_of'] = 2023"
   ],
   "metadata": {
    "collapsed": false,
    "pycharm": {
     "name": "#%%\n"
    }
   }
  },
  {
   "cell_type": "markdown",
   "source": [
    "use variable for better programmatic access"
   ],
   "metadata": {
    "collapsed": false,
    "pycharm": {
     "name": "#%% md\n"
    }
   }
  },
  {
   "cell_type": "code",
   "execution_count": 33,
   "outputs": [
    {
     "name": "stdout",
     "output_type": "stream",
     "text": [
      "Linear Algebra: A\n",
      "General Physics Algebra: A\n",
      "Quantum Chemistry: A\n"
     ]
    }
   ],
   "source": [
    "# print grades\n",
    "for course_name,course_properties in student_record['courses'].items():\n",
    "    print(f\"{course_name}: {course_properties['final_grade']}\")"
   ],
   "metadata": {
    "collapsed": false,
    "pycharm": {
     "name": "#%%\n"
    }
   }
  },
  {
   "cell_type": "code",
   "execution_count": null,
   "outputs": [],
   "source": [],
   "metadata": {
    "collapsed": false,
    "pycharm": {
     "name": "#%%\n"
    }
   }
  }
 ],
 "metadata": {
  "kernelspec": {
   "display_name": "Python 3 (ipykernel)",
   "language": "python",
   "name": "python3"
  },
  "language_info": {
   "codemirror_mode": {
    "name": "ipython",
    "version": 3
   },
   "file_extension": ".py",
   "mimetype": "text/x-python",
   "name": "python",
   "nbconvert_exporter": "python",
   "pygments_lexer": "ipython3",
   "version": "3.8.10"
  }
 },
 "nbformat": 4,
 "nbformat_minor": 5
}