{
 "cells": [
  {
   "cell_type": "markdown",
   "source": [
    "# Week 8.\n",
    "## Announcements\n",
    "- Homework 4 is due by 10/26/2021\n",
    "- Lab 1 is due by 10/31/2021\n",
    "## Week 8 Topics\n",
    "- Function Input\n",
    "- Variable Scope\n",
    "- Object-Oriented Programming"
   ],
   "metadata": {
    "collapsed": false
   }
  },
  {
   "cell_type": "markdown",
   "source": [
    "# Recap\n",
    "## Python Exceptions (Errors)\n",
    "\n",
    "[https://docs.python.org/3/library/exceptions.html](https://docs.python.org/3/library/exceptions.html)\n",
    "[https://docs.python.org/3/tutorial/errors.html](https://docs.python.org/3/tutorial/errors.html)\n",
    "\n",
    "### Typical Exception Usage Scenarios\n",
    "* Debugging code\n",
    "* Enhancing you own code by implementing raising of descriptive  Exceptions/Errors\n",
    "* Catching and processing Exceptions/Errors to avoid programm faulty exit (crashing)\n",
    "\n",
    "### Some Exception Examples:\n",
    "* `SyntaxError` -- invalid python syntax\n",
    "* `NameError` -- using a variable before it has been defined\n",
    "* `TypeError` -- mismatch data type\n",
    "* `ValueError` calling a built-in function with invalid value type\n",
    "* `IndexError` -- access item outside of item range\n",
    "* `KeyError` -- like by index error for lists\n",
    "* `AttributeError` -- missing attribute -- variables or methods\n",
    "\n",
    "### Build-in Exceptions\n",
    "```\n",
    "BaseException\n",
    " +-- SystemExit\n",
    " +-- KeyboardInterrupt\n",
    " +-- GeneratorExit\n",
    " +-- Exception\n",
    "      +-- StopIteration\n",
    "      +-- StopAsyncIteration\n",
    "      +-- ArithmeticError\n",
    "      |    +-- FloatingPointError\n",
    "      |    +-- OverflowError\n",
    "      |    +-- ZeroDivisionError\n",
    "      +-- AssertionError\n",
    "      +-- AttributeError\n",
    "      +-- BufferError\n",
    "      +-- EOFError\n",
    "      +-- ImportError\n",
    "      |    +-- ModuleNotFoundError\n",
    "      +-- LookupError\n",
    "      |    +-- IndexError\n",
    "      |    +-- KeyError\n",
    "      +-- MemoryError\n",
    "      +-- NameError\n",
    "      |    +-- UnboundLocalError\n",
    "      +-- OSError\n",
    "      |    +-- BlockingIOError\n",
    "      |    +-- ChildProcessError\n",
    "      |    +-- ConnectionError\n",
    "      |    |    +-- BrokenPipeError\n",
    "      |    |    +-- ConnectionAbortedError\n",
    "      |    |    +-- ConnectionRefusedError\n",
    "      |    |    +-- ConnectionResetError\n",
    "      |    +-- FileExistsError\n",
    "      |    +-- FileNotFoundError\n",
    "      |    +-- InterruptedError\n",
    "      |    +-- IsADirectoryError\n",
    "      |    +-- NotADirectoryError\n",
    "      |    +-- PermissionError\n",
    "      |    +-- ProcessLookupError\n",
    "      |    +-- TimeoutError\n",
    "      +-- ReferenceError\n",
    "      +-- RuntimeError\n",
    "      |    +-- NotImplementedError\n",
    "      |    +-- RecursionError\n",
    "      +-- SyntaxError\n",
    "      |    +-- IndentationError\n",
    "      |         +-- TabError\n",
    "      +-- SystemError\n",
    "      +-- TypeError\n",
    "      +-- ValueError\n",
    "      |    +-- UnicodeError\n",
    "      |         +-- UnicodeDecodeError\n",
    "      |         +-- UnicodeEncodeError\n",
    "      |         +-- UnicodeTranslateError\n",
    "      +-- Warning\n",
    "           +-- DeprecationWarning\n",
    "           +-- PendingDeprecationWarning\n",
    "           +-- RuntimeWarning\n",
    "           +-- SyntaxWarning\n",
    "           +-- UserWarning\n",
    "           +-- FutureWarning\n",
    "           +-- ImportWarning\n",
    "           +-- UnicodeWarning\n",
    "           +-- BytesWarning\n",
    "           +-- EncodingWarning\n",
    "           +-- ResourceWarning\n",
    "```"
   ],
   "metadata": {
    "collapsed": false
   }
  },
  {
   "cell_type": "markdown",
   "source": [
    "# Raising error\n",
    "\n",
    "With raise statement you can initiate an exception."
   ],
   "metadata": {
    "collapsed": false
   }
  },
  {
   "cell_type": "code",
   "execution_count": null,
   "outputs": [],
   "source": [
    "# Raising error with a message or without message\n",
    "raise ValueError('a message')"
   ],
   "metadata": {
    "collapsed": false,
    "pycharm": {
     "name": "#%%\n"
    }
   }
  },
  {
   "cell_type": "code",
   "execution_count": null,
   "outputs": [],
   "source": [
    "# Raising error without message\n",
    "raise ValueError"
   ],
   "metadata": {
    "collapsed": false,
    "pycharm": {
     "name": "#%%\n"
    }
   }
  },
  {
   "cell_type": "code",
   "execution_count": null,
   "outputs": [],
   "source": [
    "# good code check the input values for sense as user can input anything (validation)\n",
    "def calculate_bmi(height, weight):\n",
    "    if type(height) not in [float, int]:\n",
    "        raise TypeError('Height has to be float or an int')\n",
    "    if type(weight) not in [float, int]:\n",
    "        raise TypeError('Weight has to be float or an int')\n",
    "\n",
    "    if height <= 0:\n",
    "        raise ValueError('Height cannot be less than or equal to 0')\n",
    "    if weight <= 0:\n",
    "        raise ValueError('Weight cannot be less than or equal to 0')\n",
    "\n",
    "    return 703 * weight / height**2"
   ],
   "metadata": {
    "collapsed": false,
    "pycharm": {
     "name": "#%%\n"
    }
   }
  },
  {
   "cell_type": "code",
   "execution_count": null,
   "outputs": [],
   "source": [
    "calculate_bmi(180, 200)"
   ],
   "metadata": {
    "collapsed": false,
    "pycharm": {
     "name": "#%%\n"
    }
   }
  },
  {
   "cell_type": "markdown",
   "source": [
    "## Exception Handling\n",
    "\n",
    "In code exception can be caught and processed accordingly without terminating the programm execution.\n",
    "```python\n",
    "try:\n",
    "    <statements>              # Run this main action first\n",
    "except name1:\n",
    "    <statements>              # Run if exception name1 is raised during try block\n",
    "except (name2, name3):\n",
    "    <statements>              # Run if any of these exceptions occur\n",
    "except name4 as var:\n",
    "    <statements>              # Run if exception name4 is raised, assign instance raised to var\n",
    "except:\n",
    "    <statements>              # Run for all other exceptions raised\n",
    "else:\n",
    "    <statements>              # Run if no exception was raised during try block\n",
    "finally:\n",
    "    <statements>              # Always run\n",
    "```"
   ],
   "metadata": {
    "collapsed": false
   }
  },
  {
   "cell_type": "code",
   "execution_count": null,
   "outputs": [],
   "source": [
    "while True:\n",
    "    try:\n",
    "        # try block\n",
    "        height = float(input('Please enter height: '))\n",
    "        weight = float(input('Please enter weight: '))\n",
    "        break\n",
    "    except ValueError as e:\n",
    "        # except block\n",
    "        # if something wrong happens\n",
    "        print(e)\n",
    "        print(\"Incorrect value, try again\")\n",
    "        #raise e\n",
    "\n",
    "print(calculate_bmi(height, weight))"
   ],
   "metadata": {
    "collapsed": false,
    "pycharm": {
     "name": "#%%\n"
    }
   }
  },
  {
   "cell_type": "markdown",
   "source": [
    "# Week 8.\n"
   ],
   "metadata": {
    "collapsed": false
   }
  },
  {
   "cell_type": "markdown",
   "source": [
    "## Procedural Programming Paradigm\n",
    "\n",
    "> Procedural programming is a programming paradigm based on the concept of the procedure call.\n",
    "> Procedures (a type of routine or subroutine) simply contain a series of computational\n",
    "> steps to be carried out. (-Wiki)\n",
    "\n",
    "In python functions are procedures, routine or subroutine.\n",
    "\n",
    "```python\n",
    "def m_function(source_list):\n",
    "    target = []\n",
    "    for item in source_list:\n",
    "        trans1 = G(item)\n",
    "        trans2 = F(trans1)\n",
    "        target.append(trans2)\n",
    "\n",
    "target = m_function(source_list)\n",
    "```"
   ],
   "metadata": {
    "collapsed": false
   }
  },
  {
   "cell_type": "markdown",
   "source": [
    "## Functional Programming Paradigm\n",
    "\n",
    "> In computer science, functional programming is a programming paradigm where\n",
    "> programs are constructed by applying and composing functions. (-Wiki)\n",
    "\n",
    "Functions here are more in mathematical sense. Python uses elements of functional programming\n",
    "\n",
    "```python\n",
    "compose2 = lambda A, B: lambda x: A(B(x))\n",
    "target = map(compose2(F, G), source_list)\n",
    "```"
   ],
   "metadata": {
    "collapsed": false
   }
  },
  {
   "cell_type": "markdown",
   "source": [
    "# Function (input arguments)\n",
    "- no arguments\n",
    "- positional/fixed/required arguments\n",
    "- required arguments and optional arguments\n",
    "- keyword arguments\n"
   ],
   "metadata": {
    "collapsed": false,
    "pycharm": {
     "name": "#%% md\n"
    }
   }
  },
  {
   "cell_type": "markdown",
   "source": [
    "## Defining functions:\n",
    "```python\n",
    "def function_name_1(<arg0>, <arg1>, ... , kwarg0=<kwarg0>, kwarg1=<kwarg1>, ...):\n",
    "    \"help message\"\n",
    "    # <arg0>, <arg1> - positional arguments\n",
    "    # kwarg0=<kwarg0>, kwarg1=<kwarg1> - keywords arguments (optional to set, set to default if not set)\n",
    "    <do_smth>\n",
    "\n",
    "def function_name_2(*arg, **kwarg):\n",
    "    # arg - list with positional arguments\n",
    "    # kwarg - dictionary with keyword arguments\n",
    "    <do_smth>\n",
    "\n",
    "def function_name_3(<arg0>, <arg1>, *arg, kwarg0=<kwarg0>, kwarg1=<kwarg1>, *arg, **kwarg):\n",
    "    <do_smth>\n",
    "\n",
    "lambda <arg0>, <arg1>, ... : <expression to return>\n",
    "\n",
    "my_lambda_function = lambda <arg0>, <arg1>, ... : <expression to return>\n",
    "```\n",
    "Calling (Executing) functions:\n",
    "```python\n",
    "function_name_1(<arg0>, <arg1>, ... , kwarg0=<kwarg0>, kwarg1=<kwarg1>)\n",
    "function_name_2(<arg0>, <arg1>, ... , kwarg0=<kwarg0>, kwarg1=<kwarg1>)\n",
    "function_name_2(*<list>, **<dict>)\n",
    "\n",
    "(lambda <arg0>, <arg1>, ... : <expression to return>)(<arg0>, <arg1>, ...)\n",
    "my_lambda_function(<arg0>, <arg1>, ...)\n",
    "```"
   ],
   "metadata": {
    "collapsed": false
   }
  },
  {
   "cell_type": "code",
   "execution_count": null,
   "outputs": [],
   "source": [
    "def function_name_1(arg0, arg1, kwarg0='default value 0', kwarg1=12, kwarg2=None):\n",
    "    print(f'Executing function_name_1 function.')\n",
    "    print(f'\\tPositional arguments: {arg0}, {arg1}')\n",
    "    print(f'\\tKeyword arguments: kwarg0={kwarg0}, kwarg1={kwarg1}, kwarg2={kwarg2}')\n",
    "\n",
    "# everything is object\n",
    "type(function_name_1)"
   ],
   "metadata": {
    "collapsed": false,
    "pycharm": {
     "name": "#%%\n"
    }
   }
  },
  {
   "cell_type": "code",
   "execution_count": null,
   "outputs": [],
   "source": [
    "# positional arguments must be present, keyword arguments are optional\n",
    "function_name_1(1,'argument 2')"
   ],
   "metadata": {
    "collapsed": false,
    "pycharm": {
     "name": "#%%\n"
    }
   }
  },
  {
   "cell_type": "code",
   "execution_count": null,
   "outputs": [],
   "source": [
    "# some keyword arguments can be set\n",
    "function_name_1(1,'argument 2', kwarg1='kwarg1 new value')"
   ],
   "metadata": {
    "collapsed": false,
    "pycharm": {
     "name": "#%%\n"
    }
   }
  },
  {
   "cell_type": "code",
   "execution_count": null,
   "outputs": [],
   "source": [
    "# passing list/tuples and dict for positional and keyword arguments\n",
    "arg = [1,'argument 2']\n",
    "kwarg = {'kwarg1': 'kwarg1 new value'}\n",
    "function_name_1(*arg, **kwarg)"
   ],
   "metadata": {
    "collapsed": false,
    "pycharm": {
     "name": "#%%\n"
    }
   }
  },
  {
   "cell_type": "code",
   "execution_count": null,
   "outputs": [],
   "source": [
    "def function_name_2(*args, **kwargs):\n",
    "    print(f'Executing function_name_2 function.')\n",
    "    print(f'\\tPositional arguments: {args}')\n",
    "    print(f'\\tKeyword arguments: {kwargs}')"
   ],
   "metadata": {
    "collapsed": false,
    "pycharm": {
     "name": "#%%\n"
    }
   }
  },
  {
   "cell_type": "code",
   "execution_count": null,
   "outputs": [],
   "source": [
    "function_name_2(1,'argument 2')"
   ],
   "metadata": {
    "collapsed": false,
    "pycharm": {
     "name": "#%%\n"
    }
   }
  },
  {
   "cell_type": "code",
   "execution_count": null,
   "outputs": [],
   "source": [
    "function_name_2(1,'argument 2', kwarg1='kwarg1 new value')"
   ],
   "metadata": {
    "collapsed": false,
    "pycharm": {
     "name": "#%%\n"
    }
   }
  },
  {
   "cell_type": "code",
   "execution_count": null,
   "outputs": [],
   "source": [
    "arg = [1,'argument 2']\n",
    "kwarg = {'kwarg1': 'kwarg1 new value'}\n",
    "function_name_2(*arg, **kwarg)"
   ],
   "metadata": {
    "collapsed": false,
    "pycharm": {
     "name": "#%%\n"
    }
   }
  },
  {
   "cell_type": "code",
   "execution_count": 3,
   "outputs": [],
   "source": [
    "def function_name_3(arg0, arg1, *arg, kwarg0='kwarg0', kwarg1='kwarg1', **kwarg):\n",
    "    print(f'arg0: {str(arg0)}')\n",
    "    print(f'arg1: {str(arg1)}')\n",
    "    print(f'kwarg0: {str(kwarg0)}')\n",
    "    print(f'kwarg1: {str(kwarg1)}')\n",
    "    print(f'arg: {str(arg)}')\n",
    "    print(f'kwarg: {str(kwarg)}')"
   ],
   "metadata": {
    "collapsed": false,
    "pycharm": {
     "name": "#%%\n"
    }
   }
  },
  {
   "cell_type": "code",
   "execution_count": 4,
   "outputs": [
    {
     "name": "stdout",
     "output_type": "stream",
     "text": [
      "arg0: 1\n",
      "arg1: 2\n",
      "kwarg0: kwarg0\n",
      "kwarg1: kwarg1\n",
      "arg: ('test',)\n",
      "kwarg: {'kwarg100': '100'}\n"
     ]
    }
   ],
   "source": [
    "function_name_3(1 ,2,\"test\",kwarg100=\"100\")"
   ],
   "metadata": {
    "collapsed": false,
    "pycharm": {
     "name": "#%%\n"
    }
   }
  },
  {
   "cell_type": "code",
   "execution_count": null,
   "outputs": [],
   "source": [],
   "metadata": {
    "collapsed": false,
    "pycharm": {
     "name": "#%%\n"
    }
   }
  },
  {
   "cell_type": "code",
   "execution_count": null,
   "outputs": [],
   "source": [
    "# function input example 1\n",
    "def func(coffee, eggs, toast=0, ham=0):   # first 2 required\n",
    "    print (coffee, eggs, toast, ham)"
   ],
   "metadata": {
    "collapsed": false,
    "pycharm": {
     "name": "#%%\n"
    }
   }
  },
  {
   "cell_type": "code",
   "execution_count": null,
   "outputs": [],
   "source": [
    "func(1, 2)                              # output: (1, 2, 0, 0)"
   ],
   "metadata": {
    "collapsed": false,
    "pycharm": {
     "name": "#%%\n"
    }
   }
  },
  {
   "cell_type": "code",
   "execution_count": null,
   "outputs": [],
   "source": [
    "func(1, ham=1, eggs=0)                  # output: (1, 0, 0, 1)"
   ],
   "metadata": {
    "collapsed": false,
    "pycharm": {
     "name": "#%%\n"
    }
   }
  },
  {
   "cell_type": "code",
   "execution_count": null,
   "outputs": [],
   "source": [
    "func(coffee=1, eggs=0)                    # output: (1, 0, 0, 0)"
   ],
   "metadata": {
    "collapsed": false,
    "pycharm": {
     "name": "#%%\n"
    }
   }
  },
  {
   "cell_type": "code",
   "execution_count": null,
   "outputs": [],
   "source": [
    "func(toast=1, eggs=2, coffee=3)           # output: (3, 2, 1, 0)"
   ],
   "metadata": {
    "collapsed": false,
    "pycharm": {
     "name": "#%%\n"
    }
   }
  },
  {
   "cell_type": "code",
   "execution_count": null,
   "outputs": [],
   "source": [
    "func(1, 2, 3, 4)                        # output: (1, 2, 3, 4)"
   ],
   "metadata": {
    "collapsed": false,
    "pycharm": {
     "name": "#%%\n"
    }
   }
  },
  {
   "cell_type": "code",
   "execution_count": null,
   "outputs": [],
   "source": [
    "# function input example 2\n",
    "def f(a, *args, **kwargs):\n",
    "\tprint(a, args, kwargs)"
   ],
   "metadata": {
    "collapsed": false,
    "pycharm": {
     "name": "#%%\n"
    }
   }
  },
  {
   "cell_type": "code",
   "execution_count": null,
   "outputs": [],
   "source": [
    "f(1, 2, 3, x=1, y=2)"
   ],
   "metadata": {
    "collapsed": false,
    "pycharm": {
     "name": "#%%\n"
    }
   }
  },
  {
   "cell_type": "code",
   "execution_count": null,
   "outputs": [],
   "source": [
    "# function input example 2\n",
    "def intersect(*args):\n",
    "    res = []\n",
    "    for x in args[0]:                  # scan first sequence\n",
    "        for other in args[1:]:         # for all other args\n",
    "            if x not in other: break   # item in each one?\n",
    "        else:                          # no:  break out of loop\n",
    "            res.append(x)              # yes: add items to end\n",
    "    return res\n",
    "\n",
    "def union(*args):\n",
    "    res = []\n",
    "    for seq in args:                   # for all args\n",
    "        for x in seq:                  # for all nodes\n",
    "            if not x in res:\n",
    "                res.append(x)          # add new items to result\n",
    "    return res\n",
    "\n",
    "\n",
    "s1, s2, s3 = \"SPAM\", \"SCAM\", \"SLAM\""
   ],
   "metadata": {
    "collapsed": false,
    "pycharm": {
     "name": "#%%\n"
    }
   }
  },
  {
   "cell_type": "code",
   "execution_count": null,
   "outputs": [],
   "source": [
    "intersect(s1, s2)"
   ],
   "metadata": {
    "collapsed": false,
    "pycharm": {
     "name": "#%%\n"
    }
   }
  },
  {
   "cell_type": "code",
   "execution_count": null,
   "outputs": [],
   "source": [
    "union(s1, s2)"
   ],
   "metadata": {
    "collapsed": false,
    "pycharm": {
     "name": "#%%\n"
    }
   }
  },
  {
   "cell_type": "code",
   "execution_count": null,
   "outputs": [],
   "source": [
    "intersect([1,2,3], (1,4))"
   ],
   "metadata": {
    "collapsed": false,
    "pycharm": {
     "name": "#%%\n"
    }
   }
  },
  {
   "cell_type": "code",
   "execution_count": null,
   "outputs": [],
   "source": [
    "intersect(s1, s2, s3)"
   ],
   "metadata": {
    "collapsed": false,
    "pycharm": {
     "name": "#%%\n"
    }
   }
  },
  {
   "cell_type": "code",
   "execution_count": null,
   "outputs": [],
   "source": [
    "union(s1, s2, s3)"
   ],
   "metadata": {
    "collapsed": false,
    "pycharm": {
     "name": "#%%\n"
    }
   }
  },
  {
   "cell_type": "code",
   "execution_count": null,
   "outputs": [],
   "source": [],
   "metadata": {
    "collapsed": false,
    "pycharm": {
     "name": "#%%\n"
    }
   }
  },
  {
   "cell_type": "markdown",
   "source": [
    "# Function Scope/Namespace/frame\n",
    "\n",
    "Namespace/frame/scope:\n",
    "* space where variables are stored\n",
    "* it is multilevel: global, local"
   ],
   "metadata": {
    "collapsed": false
   }
  },
  {
   "cell_type": "code",
   "execution_count": null,
   "outputs": [],
   "source": [
    "# scope_example1\n",
    "variable = 'Global reporting!'\n",
    "\n",
    "def use_variable_global():\n",
    "    ## since variable is outside the function\n",
    "    print(variable)\n",
    "print(variable)\n",
    "use_variable_global()"
   ],
   "metadata": {
    "collapsed": false,
    "pycharm": {
     "name": "#%%\n"
    }
   }
  },
  {
   "cell_type": "code",
   "execution_count": null,
   "outputs": [],
   "source": [
    "def use_variable_local():\n",
    "    variable = 'Local reporting!'\n",
    "    print(variable)\n",
    "\n",
    "print(variable)\n",
    "use_variable_global()"
   ],
   "metadata": {
    "collapsed": false,
    "pycharm": {
     "name": "#%%\n"
    }
   }
  },
  {
   "cell_type": "code",
   "execution_count": null,
   "outputs": [],
   "source": [
    "def change_global_inside_function():\n",
    "    global variable\n",
    "    variable = 'I have been changed!'\n",
    "    print(variable)"
   ],
   "metadata": {
    "collapsed": false,
    "pycharm": {
     "name": "#%%\n"
    }
   }
  },
  {
   "cell_type": "code",
   "execution_count": null,
   "outputs": [],
   "source": [
    "print(variable)\n",
    "change_global_inside_function()\n",
    "print(variable)"
   ],
   "metadata": {
    "collapsed": false,
    "pycharm": {
     "name": "#%%\n"
    }
   }
  },
  {
   "cell_type": "code",
   "execution_count": null,
   "outputs": [],
   "source": [
    "# scope_example2.py"
   ],
   "metadata": {
    "collapsed": false,
    "pycharm": {
     "name": "#%%\n"
    }
   }
  },
  {
   "cell_type": "markdown",
   "source": [
    "# Object Oriented Programming (OOP)\n",
    "The core of OOP is classes.\n",
    "* https://docs.python.org/3/tutorial/classes.html\n",
    "\n",
    "\n",
    "**Class** - definition of the data structure (**attributes**) and functions (**methods**) to manipulate them.\n",
    "* in python data-types are classes.\n",
    "* You can think about it as a template or blueprint for objects\n",
    "\n",
    "**Object** - a particular instance of the class.\n",
    "* also called simply instances\n",
    "\n",
    "Life Examples:\n",
    "\n",
    "* Class: Animals\n",
    "* Objects/instances: Cat, Dog, Pig, Cow\n",
    "\n",
    "\n",
    "* Class: Cat\n",
    "* Objects/instances: Garfield, Hello Kitty, Cheshire Cat, Grumpy Cat\n",
    "\n",
    "\n",
    "* Parent Class: Animals\n",
    "* Child Classes: Cat, Dog, Pig, Cow\n",
    "* Objects/instances of class Cat: Garfield, Hello Kitty, Cheshire Cat, Grumpy Cat\n",
    "\n",
    "Python examples:"
   ],
   "metadata": {
    "collapsed": false
   }
  },
  {
   "cell_type": "code",
   "execution_count": null,
   "outputs": [],
   "source": [
    "# class:\n",
    "\n",
    "# instances/objects:"
   ],
   "metadata": {
    "collapsed": false,
    "pycharm": {
     "name": "#%%\n"
    }
   }
  },
  {
   "cell_type": "code",
   "execution_count": null,
   "outputs": [],
   "source": [
    "# class:\n",
    "\n",
    "# instances/objects:"
   ],
   "metadata": {
    "collapsed": false,
    "pycharm": {
     "name": "#%%\n"
    }
   }
  },
  {
   "cell_type": "code",
   "execution_count": null,
   "outputs": [],
   "source": [
    "# class:\n",
    "\n",
    "# instances/objects:"
   ],
   "metadata": {
    "collapsed": false,
    "pycharm": {
     "name": "#%%\n"
    }
   }
  },
  {
   "cell_type": "markdown",
   "source": [
    "## Class Definition\n",
    "\n",
    "```python\n",
    "class <ClassName>(<optional parant classes>):\n",
    "    # class block\n",
    "\n",
    "    # Class variables - common parameters (same for all instances),\n",
    "    # shared amon all instanses, that is there is only one copy\n",
    "    <common_class_variable> = <value>\n",
    "\n",
    "    # declare methods\n",
    "    def __init__(self,<other arguments>):\n",
    "        # method block\n",
    "        # this one particularly is called constructor\n",
    "\n",
    "        # instances variables - local to a particular instance\n",
    "        self.<local_to_self_variable> = <value>\n",
    "        <statement...>\n",
    "\n",
    "    def <method_name>(self,<other arguments>):\n",
    "        # method block\n",
    "        <statement...>\n",
    "\n",
    "    @staticmethod\n",
    "    def <method_name>(<other arguments>):\n",
    "        # method block\n",
    "        <statement...>\n",
    "```\n",
    "## Creating new instance\n",
    "new instance is typically created by calling class constructor (class name + parenthesis, e.g. ClassName())\n",
    "```python\n",
    "new_instance = ClassName()\n",
    "```\n",
    "\n",
    "## PEP8- Styling\n",
    "* use CamelCase for class names\n",
    "* use lower_case_underscore_in_between for instances/objects\n",
    "\n",
    "## Examples"
   ],
   "metadata": {
    "collapsed": false,
    "pycharm": {
     "name": "#%% md\n"
    }
   }
  },
  {
   "cell_type": "code",
   "execution_count": 5,
   "outputs": [],
   "source": [
    "class Dog:\n",
    "    \"\"\"Class defines dogs characteristics\"\"\"\n",
    "\n",
    "    def __init__(self, name):\n",
    "        \"\"\"Constructor\"\"\"\n",
    "        self.name = name\n",
    "        self.tricks = []    # creates a new empty list for each dog\n",
    "\n",
    "    def add_trick(self, trick):\n",
    "        \"\"\"add a trick\"\"\"\n",
    "        self.tricks.append(trick)\n",
    "\n",
    "    def __repr__(self):\n",
    "        print(f\"name: {self.name} tricks: {','.join(self.tricks)}\")"
   ],
   "metadata": {
    "collapsed": false,
    "pycharm": {
     "name": "#%%\n"
    }
   }
  },
  {
   "cell_type": "code",
   "execution_count": null,
   "outputs": [],
   "source": [
    "d = Dog('Fido')\n",
    "e = Dog('Buddy')\n",
    "d.add_trick('roll over')\n",
    "e.add_trick('play dead')"
   ],
   "metadata": {
    "collapsed": false,
    "pycharm": {
     "name": "#%%\n"
    }
   }
  },
  {
   "cell_type": "code",
   "execution_count": null,
   "outputs": [],
   "source": [
    "d"
   ],
   "metadata": {
    "collapsed": false,
    "pycharm": {
     "name": "#%%\n"
    }
   }
  },
  {
   "cell_type": "code",
   "execution_count": null,
   "outputs": [],
   "source": [
    "e"
   ],
   "metadata": {
    "collapsed": false,
    "pycharm": {
     "name": "#%%\n"
    }
   }
  },
  {
   "cell_type": "markdown",
   "source": [
    "## oop_example1.py"
   ],
   "metadata": {
    "collapsed": false,
    "pycharm": {
     "name": "#%% md\n"
    }
   }
  },
  {
   "cell_type": "code",
   "execution_count": null,
   "outputs": [],
   "source": [
    "# create class Person with first_name, last_name and email attributes\n",
    "# implement __str__ method"
   ],
   "metadata": {
    "collapsed": false,
    "pycharm": {
     "name": "#%%\n"
    }
   }
  },
  {
   "cell_type": "code",
   "execution_count": null,
   "outputs": [],
   "source": [
    "# create class Student inherited from Person\n",
    "# additional attributes:\n",
    "#     program - either graduate/undergraduate\n",
    "#     classes - list of enrolled classes\n",
    "# additional methods:\n",
    "#     enroll - enroll in class\n",
    "#     print_classes - classes\n",
    "#     overload __str__ method"
   ],
   "metadata": {
    "collapsed": false,
    "pycharm": {
     "name": "#%%\n"
    }
   }
  },
  {
   "cell_type": "code",
   "execution_count": null,
   "outputs": [],
   "source": [
    "# create class Course with course_name and credits attributes"
   ],
   "metadata": {
    "collapsed": false,
    "pycharm": {
     "name": "#%%\n"
    }
   }
  },
  {
   "cell_type": "code",
   "execution_count": null,
   "outputs": [],
   "source": [
    "c1 = Course('Math', 3)\n",
    "c2 = Course('Physics', 4)\n",
    "c3 = Course('Chemistry', 3)\n",
    "c4 = Course('English', 3)"
   ],
   "metadata": {
    "collapsed": false,
    "pycharm": {
     "name": "#%%\n"
    }
   }
  },
  {
   "cell_type": "code",
   "execution_count": null,
   "outputs": [],
   "source": [
    "s1 = Student('john', 'doe', 'jdoe@example.edu', 'graduate')\n",
    "print(s1)"
   ],
   "metadata": {
    "collapsed": false,
    "pycharm": {
     "name": "#%%\n"
    }
   }
  },
  {
   "cell_type": "code",
   "execution_count": null,
   "outputs": [],
   "source": [
    "s1.enroll(c1)\n",
    "s1.enroll(c2)\n",
    "s1.enroll(c3)\n",
    "s1.enroll(c3)"
   ],
   "metadata": {
    "collapsed": false,
    "pycharm": {
     "name": "#%%\n"
    }
   }
  },
  {
   "cell_type": "code",
   "execution_count": null,
   "outputs": [],
   "source": [
    "s1.print_classes()"
   ],
   "metadata": {
    "collapsed": false,
    "pycharm": {
     "name": "#%%\n"
    }
   }
  },
  {
   "cell_type": "markdown",
   "source": [
    "## oop_example2.py"
   ],
   "metadata": {
    "collapsed": false
   }
  },
  {
   "cell_type": "markdown",
   "source": [
    "## Payroll system using polymorphism\n",
    "Payroll system example\n",
    "\n",
    "- Employee -- Abstract\n",
    "    - variables (properties)\n",
    "    - lastname\n",
    "    - firstname\n",
    "    - social_security_number\n",
    "    - functions (methods)\n",
    "    - __repr__ --\n",
    "    - earnings() --\n",
    "- SalariedEmployee -- inherits from Employee\n",
    "- CommissionEmployee -- inherits from Employee\n",
    "- HourlyEmployee -- inherits from Employee\n",
    "- BasePlusCommissionEmployee -- inherits from CommissionEmployee\n",
    "\n",
    "- Demonstrate polymorphism (provide same interface for different type)\n",
    "- operator overloading (redefine method in child class)"
   ],
   "metadata": {
    "collapsed": false
   }
  },
  {
   "cell_type": "code",
   "execution_count": null,
   "outputs": [],
   "source": [],
   "metadata": {
    "collapsed": false,
    "pycharm": {
     "name": "#%%\n"
    }
   }
  },
  {
   "cell_type": "markdown",
   "source": [
    "## Operator overloading\n",
    "- We know how to create objects. Now we will learn how to define what +, -, or lte means for an object\n",
    "- add\n",
    "- gt\n",
    "- lt\n",
    "- eq\n",
    "- iterators https://www.programiz.com/python-programming/iterator\n",
    "- generators https://www.programiz.com/python-programming/generator"
   ],
   "metadata": {
    "collapsed": false
   }
  },
  {
   "cell_type": "code",
   "execution_count": null,
   "outputs": [],
   "source": [],
   "metadata": {
    "collapsed": false,
    "pycharm": {
     "name": "#%%\n"
    }
   }
  },
  {
   "cell_type": "markdown",
   "source": [
    "## Self\n",
    "- self.py\n",
    "- class variable vs instance variable (https://www.digitalocean.com/community/tutorials/understanding-class-and-instance-variables-in-python-3)\n",
    "- staticmethods vs class methods\n",
    "- self is a reference to the current instance"
   ],
   "metadata": {
    "collapsed": false
   }
  },
  {
   "cell_type": "code",
   "execution_count": null,
   "outputs": [],
   "source": [],
   "metadata": {
    "collapsed": false,
    "pycharm": {
     "name": "#%%\n"
    }
   }
  },
  {
   "cell_type": "code",
   "source": [],
   "metadata": {
    "collapsed": false,
    "pycharm": {
     "name": "#%%\n"
    }
   },
   "execution_count": null,
   "outputs": []
  }
 ],
 "metadata": {
  "kernelspec": {
   "display_name": "Python 3 (ipykernel)",
   "language": "python",
   "name": "python3"
  },
  "language_info": {
   "codemirror_mode": {
    "name": "ipython",
    "version": 3
   },
   "file_extension": ".py",
   "mimetype": "text/x-python",
   "name": "python",
   "nbconvert_exporter": "python",
   "pygments_lexer": "ipython3",
   "version": "3.8.10"
  }
 },
 "nbformat": 4,
 "nbformat_minor": 1
}